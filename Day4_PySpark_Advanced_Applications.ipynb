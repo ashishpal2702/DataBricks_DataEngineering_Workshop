{
 "cells": [
  {
   "cell_type": "markdown",
   "metadata": {
    "application/vnd.databricks.v1+cell": {
     "cellMetadata": {},
     "inputWidgets": {},
     "nuid": "29b19fc5-75b9-4b77-85b7-f33a3e04162c",
     "showTitle": false,
     "tableResultSettingsMap": {},
     "title": ""
    }
   },
   "source": [
    "# PySpark Advanced Applications - Day 3\n",
    "## Delta Lake, Data Validation, and Structured Streaming\n",
    "\n",
    "Welcome to Day 3 of the PySpark workshop! Today, we'll explore advanced applications of PySpark, focusing on Delta Lake, data validation, and an introduction to structured streaming.\n",
    "\n",
    "## Day 3 Agenda\n",
    "\n",
    "Today we'll cover:\n",
    "1. **Delta Lake for Reliable Data Lakes**\n",
    "2. **Data Validation and Quality Framework**\n",
    "3. **Introduction to Structured Streaming**\n",
    "5. **Putting It All Together: End-to-End Project**\n",
    "\n",
    "Let's continue our PySpark journey with these advanced topics!"
   ]
  },
  {
   "cell_type": "markdown",
   "metadata": {
    "application/vnd.databricks.v1+cell": {
     "cellMetadata": {},
     "inputWidgets": {},
     "nuid": "f26a81b4-a5a0-48ed-bed8-3668714188be",
     "showTitle": false,
     "tableResultSettingsMap": {},
     "title": ""
    }
   },
   "source": [
    "## Setup and Data Loading\n",
    "\n",
    "First, let's initialize our environment and load data for today's exercises."
   ]
  },
  {
   "cell_type": "code",
   "execution_count": 0,
   "metadata": {
    "application/vnd.databricks.v1+cell": {
     "cellMetadata": {
      "byteLimit": 2048000,
      "rowLimit": 10000
     },
     "inputWidgets": {},
     "nuid": "3dac289e-51b0-4553-9fd0-66e1d9efd6be",
     "showTitle": false,
     "tableResultSettingsMap": {},
     "title": ""
    }
   },
   "outputs": [
    {
     "output_type": "stream",
     "name": "stdout",
     "output_type": "stream",
     "text": [
      "Spark Version: 4.0.0\nSpark environment initialized!\nWorkshop path: /Volumes/workspace/default/spark_workshop\n"
     ]
    }
   ],
   "source": [
    "# Check our Spark version\n",
    "print(f\"Spark Version: {spark.version}\")\n",
    "\n",
    "# Create paths for our workshop data\n",
    "workshop_path = \"/Volumes/workspace/default/spark_workshop\"\n",
    "raw_data_path = f\"{workshop_path}/raw_data\"\n",
    "processed_path = f\"{workshop_path}/processed\"\n",
    "delta_path = f\"{workshop_path}/delta\"\n",
    "\n",
    "print(\"Spark environment initialized!\")\n",
    "print(f\"Workshop path: {workshop_path}\")\n"
   ]
  },
  {
   "cell_type": "code",
   "execution_count": 0,
   "metadata": {
    "application/vnd.databricks.v1+cell": {
     "cellMetadata": {
      "byteLimit": 2048000,
      "rowLimit": 10000
     },
     "inputWidgets": {},
     "nuid": "daa8e509-d481-4c88-92cd-a0cc6b06b0f6",
     "showTitle": false,
     "tableResultSettingsMap": {},
     "title": ""
    }
   },
   "outputs": [],
   "source": [
    "# Load data for today's exercises\n",
    "from pyspark.sql.types import StructType, StructField, StringType, IntegerType, DoubleType\n",
    "\n",
    "# Create a schema for the BigMart Sales data\n",
    "sales_schema = StructType([\n",
    "    StructField(\"Item_Identifier\", StringType(), False),\n",
    "    StructField(\"Item_Weight\", DoubleType(), True),\n",
    "    StructField(\"Item_Fat_Content\", StringType(), True),\n",
    "    StructField(\"Item_Visibility\", DoubleType(), True),\n",
    "    StructField(\"Item_Type\", StringType(), True),\n",
    "    StructField(\"Item_MRP\", DoubleType(), True),\n",
    "    StructField(\"Outlet_Identifier\", StringType(), False),\n",
    "    StructField(\"Outlet_Establishment_Year\", IntegerType(), True),\n",
    "    StructField(\"Outlet_Size\", StringType(), True),\n",
    "    StructField(\"Outlet_Location_Type\", StringType(), True),\n",
    "    StructField(\"Outlet_Type\", StringType(), True),\n",
    "    StructField(\"Item_Outlet_Sales\", DoubleType(), True)\n",
    "])\n",
    "\n",
    "# Read the sales data\n",
    "sales_df = spark.read.format('csv')\\\n",
    "                  .option('header', True)\\\n",
    "                  .schema(sales_schema)\\\n",
    "                  .load(f'{workshop_path}/BigMart Sales.csv')"
   ]
  },
  {
   "cell_type": "markdown",
   "metadata": {
    "application/vnd.databricks.v1+cell": {
     "cellMetadata": {},
     "inputWidgets": {},
     "nuid": "83c34bbb-1412-4acb-b0d6-90ede5dbbade",
     "showTitle": false,
     "tableResultSettingsMap": {},
     "title": ""
    }
   },
   "source": [
    "## Data Transformation\n"
   ]
  },
  {
   "cell_type": "code",
   "execution_count": 0,
   "metadata": {
    "application/vnd.databricks.v1+cell": {
     "cellMetadata": {
      "byteLimit": 2048000,
      "rowLimit": 10000
     },
     "inputWidgets": {},
     "nuid": "ce9abd24-5c86-4506-b438-5892c9240ef0",
     "showTitle": false,
     "tableResultSettingsMap": {},
     "title": ""
    }
   },
   "outputs": [],
   "source": [
    "# Prepare a cleaned version similar to what we did in Day 2\n",
    "from pyspark.sql.functions import col, when, trim, upper, regexp_replace, coalesce, lit, avg\n",
    "\n",
    "# Create a copy of the DataFrame for cleaning\n",
    "clean_sales_df = sales_df\n",
    "\n",
    "# Standardize text fields\n",
    "clean_sales_df = clean_sales_df.withColumn(\n",
    "    \"Item_Fat_Content\", \n",
    "    upper(trim(col(\"Item_Fat_Content\")))\n",
    ")\n",
    "\n",
    "# Normalize categorical values\n",
    "clean_sales_df = clean_sales_df.withColumn(\n",
    "    \"Item_Fat_Content\",\n",
    "    when(col(\"Item_Fat_Content\").isin(\"LOW FAT\", \"LF\"), \"LOW_FAT\")\n",
    "    .when(col(\"Item_Fat_Content\").isin(\"REG\", \"REGULAR\"), \"REGULAR\")\n",
    "    .otherwise(col(\"Item_Fat_Content\"))\n",
    ")"
   ]
  },
  {
   "cell_type": "code",
   "execution_count": 0,
   "metadata": {
    "application/vnd.databricks.v1+cell": {
     "cellMetadata": {
      "byteLimit": 2048000,
      "rowLimit": 10000
     },
     "inputWidgets": {},
     "nuid": "4b4adda2-d244-42f4-a9c7-088a6ae6834d",
     "showTitle": false,
     "tableResultSettingsMap": {},
     "title": ""
    }
   },
   "outputs": [],
   "source": [
    "# Calculate average weight by item type\n",
    "avg_weight_by_type = clean_sales_df.filter(col(\"Item_Weight\").isNotNull()) \\\n",
    "                        .groupBy(\"Item_Type\") \\\n",
    "                        .agg(avg(\"Item_Weight\").alias(\"Avg_Weight\"))"
   ]
  },
  {
   "cell_type": "code",
   "execution_count": 0,
   "metadata": {
    "application/vnd.databricks.v1+cell": {
     "cellMetadata": {
      "byteLimit": 2048000,
      "rowLimit": 10000
     },
     "inputWidgets": {},
     "nuid": "681be2f7-9996-4631-8b9f-9f61a05f2d47",
     "showTitle": false,
     "tableResultSettingsMap": {},
     "title": ""
    }
   },
   "outputs": [],
   "source": [
    "# Join back to original data to fill missing weights\n",
    "clean_sales_df = clean_sales_df.join(\n",
    "    avg_weight_by_type,\n",
    "    \"Item_Type\",\n",
    "    \"left\"\n",
    ")"
   ]
  },
  {
   "cell_type": "code",
   "execution_count": 0,
   "metadata": {
    "application/vnd.databricks.v1+cell": {
     "cellMetadata": {
      "byteLimit": 2048000,
      "rowLimit": 10000
     },
     "inputWidgets": {},
     "nuid": "9c45db91-9ed2-41bb-81fe-435ec7343b05",
     "showTitle": false,
     "tableResultSettingsMap": {},
     "title": ""
    }
   },
   "outputs": [],
   "source": [
    "# Fill missing Item_Weight with calculated average by type\n",
    "clean_sales_df = clean_sales_df.withColumn(\n",
    "    \"Item_Weight\",\n",
    "    coalesce(col(\"Item_Weight\"), col(\"Avg_Weight\"))\n",
    ")"
   ]
  },
  {
   "cell_type": "code",
   "execution_count": 0,
   "metadata": {
    "application/vnd.databricks.v1+cell": {
     "cellMetadata": {
      "byteLimit": 2048000,
      "rowLimit": 10000
     },
     "inputWidgets": {},
     "nuid": "f18ece8c-a4c2-45fd-a4e2-036cd4e3f284",
     "showTitle": false,
     "tableResultSettingsMap": {},
     "title": ""
    }
   },
   "outputs": [],
   "source": [
    "# Fill remaining missing weights with overall average\n",
    "overall_avg_weight = clean_sales_df.filter(col(\"Item_Weight\").isNotNull()) \\\n",
    "                         .agg(avg(col(\"Item_Weight\")).alias(\"overall_avg\")).collect()[0][\"overall_avg\"]"
   ]
  },
  {
   "cell_type": "code",
   "execution_count": 0,
   "metadata": {
    "application/vnd.databricks.v1+cell": {
     "cellMetadata": {
      "byteLimit": 2048000,
      "rowLimit": 10000
     },
     "inputWidgets": {},
     "nuid": "a43f26d3-21b5-4a3d-af04-11eec12f43b0",
     "showTitle": false,
     "tableResultSettingsMap": {},
     "title": ""
    }
   },
   "outputs": [
    {
     "output_type": "display_data",
     "data": {
      "text/html": [
       "<style scoped>\n",
       "  .table-result-container {\n",
       "    max-height: 300px;\n",
       "    overflow: auto;\n",
       "  }\n",
       "  table, th, td {\n",
       "    border: 1px solid black;\n",
       "    border-collapse: collapse;\n",
       "  }\n",
       "  th, td {\n",
       "    padding: 5px;\n",
       "  }\n",
       "  th {\n",
       "    text-align: left;\n",
       "  }\n",
       "</style><div class='table-result-container'><table class='table-result'><thead style='background-color: white'><tr><th>Item_Type</th><th>Item_Identifier</th><th>Item_Weight</th><th>Item_Fat_Content</th><th>Item_Visibility</th><th>Item_MRP</th><th>Outlet_Identifier</th><th>Outlet_Establishment_Year</th><th>Outlet_Size</th><th>Outlet_Location_Type</th><th>Outlet_Type</th><th>Item_Outlet_Sales</th></tr></thead><tbody><tr><td>Dairy</td><td>FDA15</td><td>9.3</td><td>LOW_FAT</td><td>0.016047301</td><td>249.8092</td><td>OUT049</td><td>1999</td><td>Medium</td><td>Tier 1</td><td>Supermarket Type1</td><td>3735.138</td></tr><tr><td>Soft Drinks</td><td>DRC01</td><td>5.92</td><td>REGULAR</td><td>0.019278216</td><td>48.2692</td><td>OUT018</td><td>2009</td><td>Medium</td><td>Tier 3</td><td>Supermarket Type2</td><td>443.4228</td></tr><tr><td>Meat</td><td>FDN15</td><td>17.5</td><td>LOW_FAT</td><td>0.016760075</td><td>141.618</td><td>OUT049</td><td>1999</td><td>Medium</td><td>Tier 1</td><td>Supermarket Type1</td><td>2097.27</td></tr><tr><td>Fruits and Vegetables</td><td>FDX07</td><td>19.2</td><td>REGULAR</td><td>0.0</td><td>182.095</td><td>OUT010</td><td>1998</td><td>Medium</td><td>Tier 3</td><td>Grocery Store</td><td>732.38</td></tr><tr><td>Household</td><td>NCD19</td><td>8.93</td><td>LOW_FAT</td><td>0.0</td><td>53.8614</td><td>OUT013</td><td>1987</td><td>High</td><td>Tier 3</td><td>Supermarket Type1</td><td>994.7052</td></tr></tbody></table></div>"
      ]
     },
     "metadata": {
      "application/vnd.databricks.v1+output": {
       "addedWidgets": {},
       "aggData": [],
       "aggError": "",
       "aggOverflow": false,
       "aggSchema": [],
       "aggSeriesLimitReached": false,
       "aggType": "",
       "arguments": {},
       "columnCustomDisplayInfos": {},
       "data": [
        [
         "Dairy",
         "FDA15",
         9.3,
         "LOW_FAT",
         0.016047301,
         249.8092,
         "OUT049",
         1999,
         "Medium",
         "Tier 1",
         "Supermarket Type1",
         3735.138
        ],
        [
         "Soft Drinks",
         "DRC01",
         5.92,
         "REGULAR",
         0.019278216,
         48.2692,
         "OUT018",
         2009,
         "Medium",
         "Tier 3",
         "Supermarket Type2",
         443.4228
        ],
        [
         "Meat",
         "FDN15",
         17.5,
         "LOW_FAT",
         0.016760075,
         141.618,
         "OUT049",
         1999,
         "Medium",
         "Tier 1",
         "Supermarket Type1",
         2097.27
        ],
        [
         "Fruits and Vegetables",
         "FDX07",
         19.2,
         "REGULAR",
         0.0,
         182.095,
         "OUT010",
         1998,
         "Medium",
         "Tier 3",
         "Grocery Store",
         732.38
        ],
        [
         "Household",
         "NCD19",
         8.93,
         "LOW_FAT",
         0.0,
         53.8614,
         "OUT013",
         1987,
         "High",
         "Tier 3",
         "Supermarket Type1",
         994.7052
        ]
       ],
       "datasetInfos": [],
       "dbfsResultPath": null,
       "isJsonSchema": true,
       "metadata": {},
       "overflow": false,
       "plotOptions": {
        "customPlotOptions": {},
        "displayType": "table",
        "pivotAggregation": null,
        "pivotColumns": null,
        "xColumns": null,
        "yColumns": null
       },
       "removedWidgets": [],
       "schema": [
        {
         "metadata": "{}",
         "name": "Item_Type",
         "type": "\"string\""
        },
        {
         "metadata": "{}",
         "name": "Item_Identifier",
         "type": "\"string\""
        },
        {
         "metadata": "{}",
         "name": "Item_Weight",
         "type": "\"double\""
        },
        {
         "metadata": "{}",
         "name": "Item_Fat_Content",
         "type": "\"string\""
        },
        {
         "metadata": "{}",
         "name": "Item_Visibility",
         "type": "\"double\""
        },
        {
         "metadata": "{}",
         "name": "Item_MRP",
         "type": "\"double\""
        },
        {
         "metadata": "{}",
         "name": "Outlet_Identifier",
         "type": "\"string\""
        },
        {
         "metadata": "{}",
         "name": "Outlet_Establishment_Year",
         "type": "\"integer\""
        },
        {
         "metadata": "{}",
         "name": "Outlet_Size",
         "type": "\"string\""
        },
        {
         "metadata": "{}",
         "name": "Outlet_Location_Type",
         "type": "\"string\""
        },
        {
         "metadata": "{}",
         "name": "Outlet_Type",
         "type": "\"string\""
        },
        {
         "metadata": "{}",
         "name": "Item_Outlet_Sales",
         "type": "\"double\""
        }
       ],
       "type": "table"
      }
     },
     "output_type": "display_data"
    }
   ],
   "source": [
    "clean_sales_df = clean_sales_df.withColumn(\n",
    "    \"Item_Weight\",\n",
    "    coalesce(col(\"Item_Weight\"), lit(overall_avg_weight))\n",
    ").drop(\"Avg_Weight\")  # Drop the temporary average column\n",
    "\n",
    "# Fill missing Outlet_Size with 'Medium' (assuming it's the most common)\n",
    "clean_sales_df = clean_sales_df.withColumn(\n",
    "    \"Outlet_Size\",\n",
    "    coalesce(col(\"Outlet_Size\"), lit(\"Medium\"))\n",
    ")\n",
    "\n",
    "# Display the cleaned data\n",
    "display(clean_sales_df.limit(5))"
   ]
  },
  {
   "cell_type": "markdown",
   "metadata": {
    "application/vnd.databricks.v1+cell": {
     "cellMetadata": {},
     "inputWidgets": {},
     "nuid": "a53f37cf-d682-4c53-91b8-b96c2aa8d8ac",
     "showTitle": false,
     "tableResultSettingsMap": {},
     "title": ""
    }
   },
   "source": [
    "## Delta Lake for Reliable Data Lakes\n",
    "\n",
    "[Delta Lake](https://delta.io/) is an open-source storage layer that brings ACID (Atomicity, Consistency, Isolation, Durability) transactions to Apache Spark and big data workloads. It's a key component in the Databricks Lakehouse architecture.\n",
    "\n",
    "### Key Features of Delta Lake:\n",
    "\n",
    "1. **ACID Transactions**: Ensures data consistency and reliability\n",
    "2. **Schema Enforcement**: Prevents bad data from corrupting your tables\n",
    "3. **Schema Evolution**: Allows schema changes without breaking existing queries\n",
    "4. **Time Travel**: Query historical versions of your data\n",
    "5. **Audit History**: Track all changes to your data\n",
    "6. **Upserts and Deletes**: Support for merge, update, and delete operations\n",
    "7. **Optimization**: File compaction and Z-order indexing\n",
    "\n",
    "Let's explore these features:"
   ]
  },
  {
   "cell_type": "code",
   "execution_count": 0,
   "metadata": {
    "application/vnd.databricks.v1+cell": {
     "cellMetadata": {
      "byteLimit": 2048000,
      "rowLimit": 10000
     },
     "inputWidgets": {},
     "nuid": "dc14483a-7701-4d4c-b1ba-925cc2f99730",
     "showTitle": false,
     "tableResultSettingsMap": {},
     "title": ""
    }
   },
   "outputs": [
    {
     "output_type": "stream",
     "name": "stdout",
     "output_type": "stream",
     "text": [
      "Delta table created with 8523 rows\n"
     ]
    },
    {
     "output_type": "display_data",
     "data": {
      "text/html": [
       "<style scoped>\n",
       "  .table-result-container {\n",
       "    max-height: 300px;\n",
       "    overflow: auto;\n",
       "  }\n",
       "  table, th, td {\n",
       "    border: 1px solid black;\n",
       "    border-collapse: collapse;\n",
       "  }\n",
       "  th, td {\n",
       "    padding: 5px;\n",
       "  }\n",
       "  th {\n",
       "    text-align: left;\n",
       "  }\n",
       "</style><div class='table-result-container'><table class='table-result'><thead style='background-color: white'><tr><th>Item_Type</th><th>Item_Identifier</th><th>Item_Weight</th><th>Item_Fat_Content</th><th>Item_Visibility</th><th>Item_MRP</th><th>Outlet_Identifier</th><th>Outlet_Establishment_Year</th><th>Outlet_Size</th><th>Outlet_Location_Type</th><th>Outlet_Type</th><th>Item_Outlet_Sales</th><th>Promotion_Type</th></tr></thead><tbody><tr><td>Dairy</td><td>FDA15</td><td>9.3</td><td>LOW_FAT</td><td>0.016047301</td><td>249.8092</td><td>OUT049</td><td>1999</td><td>Medium</td><td>Tier 1</td><td>Supermarket Type1</td><td>3735.138</td><td>null</td></tr><tr><td>Soft Drinks</td><td>DRC01</td><td>5.92</td><td>REGULAR</td><td>0.019278216</td><td>48.2692</td><td>OUT018</td><td>2009</td><td>Medium</td><td>Tier 3</td><td>Supermarket Type2</td><td>443.4228</td><td>null</td></tr><tr><td>Meat</td><td>FDN15</td><td>17.5</td><td>LOW_FAT</td><td>0.016760075</td><td>141.618</td><td>OUT049</td><td>1999</td><td>Medium</td><td>Tier 1</td><td>Supermarket Type1</td><td>2097.27</td><td>null</td></tr><tr><td>Fruits and Vegetables</td><td>FDX07</td><td>19.2</td><td>REGULAR</td><td>0.0</td><td>182.095</td><td>OUT010</td><td>1998</td><td>Medium</td><td>Tier 3</td><td>Grocery Store</td><td>732.38</td><td>null</td></tr><tr><td>Household</td><td>NCD19</td><td>8.93</td><td>LOW_FAT</td><td>0.0</td><td>53.8614</td><td>OUT013</td><td>1987</td><td>High</td><td>Tier 3</td><td>Supermarket Type1</td><td>994.7052</td><td>null</td></tr></tbody></table></div>"
      ]
     },
     "metadata": {
      "application/vnd.databricks.v1+output": {
       "addedWidgets": {},
       "aggData": [],
       "aggError": "",
       "aggOverflow": false,
       "aggSchema": [],
       "aggSeriesLimitReached": false,
       "aggType": "",
       "arguments": {},
       "columnCustomDisplayInfos": {},
       "data": [
        [
         "Dairy",
         "FDA15",
         9.3,
         "LOW_FAT",
         0.016047301,
         249.8092,
         "OUT049",
         1999,
         "Medium",
         "Tier 1",
         "Supermarket Type1",
         3735.138,
         null
        ],
        [
         "Soft Drinks",
         "DRC01",
         5.92,
         "REGULAR",
         0.019278216,
         48.2692,
         "OUT018",
         2009,
         "Medium",
         "Tier 3",
         "Supermarket Type2",
         443.4228,
         null
        ],
        [
         "Meat",
         "FDN15",
         17.5,
         "LOW_FAT",
         0.016760075,
         141.618,
         "OUT049",
         1999,
         "Medium",
         "Tier 1",
         "Supermarket Type1",
         2097.27,
         null
        ],
        [
         "Fruits and Vegetables",
         "FDX07",
         19.2,
         "REGULAR",
         0.0,
         182.095,
         "OUT010",
         1998,
         "Medium",
         "Tier 3",
         "Grocery Store",
         732.38,
         null
        ],
        [
         "Household",
         "NCD19",
         8.93,
         "LOW_FAT",
         0.0,
         53.8614,
         "OUT013",
         1987,
         "High",
         "Tier 3",
         "Supermarket Type1",
         994.7052,
         null
        ]
       ],
       "datasetInfos": [],
       "dbfsResultPath": null,
       "isJsonSchema": true,
       "metadata": {},
       "overflow": false,
       "plotOptions": {
        "customPlotOptions": {},
        "displayType": "table",
        "pivotAggregation": null,
        "pivotColumns": null,
        "xColumns": null,
        "yColumns": null
       },
       "removedWidgets": [],
       "schema": [
        {
         "metadata": "{}",
         "name": "Item_Type",
         "type": "\"string\""
        },
        {
         "metadata": "{}",
         "name": "Item_Identifier",
         "type": "\"string\""
        },
        {
         "metadata": "{}",
         "name": "Item_Weight",
         "type": "\"double\""
        },
        {
         "metadata": "{}",
         "name": "Item_Fat_Content",
         "type": "\"string\""
        },
        {
         "metadata": "{}",
         "name": "Item_Visibility",
         "type": "\"double\""
        },
        {
         "metadata": "{}",
         "name": "Item_MRP",
         "type": "\"double\""
        },
        {
         "metadata": "{}",
         "name": "Outlet_Identifier",
         "type": "\"string\""
        },
        {
         "metadata": "{}",
         "name": "Outlet_Establishment_Year",
         "type": "\"integer\""
        },
        {
         "metadata": "{}",
         "name": "Outlet_Size",
         "type": "\"string\""
        },
        {
         "metadata": "{}",
         "name": "Outlet_Location_Type",
         "type": "\"string\""
        },
        {
         "metadata": "{}",
         "name": "Outlet_Type",
         "type": "\"string\""
        },
        {
         "metadata": "{}",
         "name": "Item_Outlet_Sales",
         "type": "\"double\""
        },
        {
         "metadata": "{}",
         "name": "Promotion_Type",
         "type": "\"string\""
        }
       ],
       "type": "table"
      }
     },
     "output_type": "display_data"
    }
   ],
   "source": [
    "# Create a Delta table from our cleaned sales data\n",
    "delta_table_path = f\"{delta_path}/sales\"\n",
    "\n",
    "# Write data to Delta format\n",
    "clean_sales_df.write.format(\"delta\").mode(\"overwrite\").save(delta_table_path)\n",
    "\n",
    "# Read the Delta table\n",
    "delta_df = spark.read.format(\"delta\").load(delta_table_path)\n",
    "print(f\"Delta table created with {delta_df.count()} rows\")\n",
    "display(delta_df.limit(5))"
   ]
  },
  {
   "cell_type": "markdown",
   "metadata": {
    "application/vnd.databricks.v1+cell": {
     "cellMetadata": {},
     "inputWidgets": {},
     "nuid": "46432751-f319-44f2-ac00-41a43e4bb629",
     "showTitle": false,
     "tableResultSettingsMap": {},
     "title": ""
    }
   },
   "source": [
    "### ACID Transactions with Delta Lake\n",
    "\n",
    "Delta Lake ensures ACID properties, which is critical for data reliability:\n",
    "- **Atomicity**: All operations succeed or fail together\n",
    "- **Consistency**: Data is valid according to defined rules\n",
    "- **Isolation**: Concurrent operations don't interfere with each other\n",
    "- **Durability**: Committed changes remain even after system failures"
   ]
  },
  {
   "cell_type": "code",
   "execution_count": 0,
   "metadata": {
    "application/vnd.databricks.v1+cell": {
     "cellMetadata": {
      "byteLimit": 2048000,
      "rowLimit": 10000
     },
     "inputWidgets": {},
     "nuid": "e743ca64-2732-46ba-8fef-c2e47162e6ad",
     "showTitle": false,
     "tableResultSettingsMap": {},
     "title": ""
    }
   },
   "outputs": [
    {
     "output_type": "stream",
     "name": "stdout",
     "output_type": "stream",
     "text": [
      "Unique Item_Fat_Content values after update:\n"
     ]
    },
    {
     "output_type": "display_data",
     "data": {
      "text/html": [
       "<style scoped>\n",
       "  .table-result-container {\n",
       "    max-height: 300px;\n",
       "    overflow: auto;\n",
       "  }\n",
       "  table, th, td {\n",
       "    border: 1px solid black;\n",
       "    border-collapse: collapse;\n",
       "  }\n",
       "  th, td {\n",
       "    padding: 5px;\n",
       "  }\n",
       "  th {\n",
       "    text-align: left;\n",
       "  }\n",
       "</style><div class='table-result-container'><table class='table-result'><thead style='background-color: white'><tr><th>Item_Fat_Content</th></tr></thead><tbody><tr><td>Low Fat</td></tr><tr><td>Regular</td></tr></tbody></table></div>"
      ]
     },
     "metadata": {
      "application/vnd.databricks.v1+output": {
       "addedWidgets": {},
       "aggData": [],
       "aggError": "",
       "aggOverflow": false,
       "aggSchema": [],
       "aggSeriesLimitReached": false,
       "aggType": "",
       "arguments": {},
       "columnCustomDisplayInfos": {},
       "data": [
        [
         "Low Fat"
        ],
        [
         "Regular"
        ]
       ],
       "datasetInfos": [],
       "dbfsResultPath": null,
       "isJsonSchema": true,
       "metadata": {},
       "overflow": false,
       "plotOptions": {
        "customPlotOptions": {},
        "displayType": "table",
        "pivotAggregation": null,
        "pivotColumns": null,
        "xColumns": null,
        "yColumns": null
       },
       "removedWidgets": [],
       "schema": [
        {
         "metadata": "{}",
         "name": "Item_Fat_Content",
         "type": "\"string\""
        }
       ],
       "type": "table"
      }
     },
     "output_type": "display_data"
    }
   ],
   "source": [
    "# Import Delta Lake specific functions\n",
    "from delta.tables import DeltaTable\n",
    "\n",
    "# Get the Delta table instance\n",
    "delta_table = DeltaTable.forPath(spark, delta_table_path)\n",
    "\n",
    "# 1. Perform an update operation (atomic)\n",
    "# Update Item_Fat_Content to standardized values\n",
    "delta_table.update(\n",
    "    condition=col(\"Item_Fat_Content\") == \"LOW_FAT\",\n",
    "    set={\"Item_Fat_Content\": lit(\"Low Fat\")}\n",
    ")\n",
    "\n",
    "delta_table.update(\n",
    "    condition=col(\"Item_Fat_Content\") == \"REGULAR\",\n",
    "    set={\"Item_Fat_Content\": lit(\"Regular\")}\n",
    ")\n",
    "\n",
    "# Read the updated data\n",
    "updated_df = spark.read.format(\"delta\").load(delta_table_path)\n",
    "print(\"Unique Item_Fat_Content values after update:\")\n",
    "display(updated_df.select(\"Item_Fat_Content\").distinct())"
   ]
  },
  {
   "cell_type": "markdown",
   "metadata": {
    "application/vnd.databricks.v1+cell": {
     "cellMetadata": {},
     "inputWidgets": {},
     "nuid": "7bcec748-144a-42d4-8ed6-773401b8caaf",
     "showTitle": false,
     "tableResultSettingsMap": {},
     "title": ""
    }
   },
   "source": [
    "### Schema Enforcement and Evolution\n",
    "\n",
    "Delta Lake provides schema enforcement to prevent bad data from corrupting your tables, and schema evolution to allow changes to the schema as your data evolves."
   ]
  },
  {
   "cell_type": "code",
   "execution_count": 0,
   "metadata": {
    "application/vnd.databricks.v1+cell": {
     "cellMetadata": {
      "byteLimit": 2048000,
      "rowLimit": 10000
     },
     "inputWidgets": {},
     "nuid": "28ad4a78-468a-4cae-8f94-4c75b204c842",
     "showTitle": false,
     "tableResultSettingsMap": {},
     "title": ""
    }
   },
   "outputs": [
    {
     "output_type": "display_data",
     "data": {
      "text/html": [
       "<style scoped>\n",
       "  .table-result-container {\n",
       "    max-height: 300px;\n",
       "    overflow: auto;\n",
       "  }\n",
       "  table, th, td {\n",
       "    border: 1px solid black;\n",
       "    border-collapse: collapse;\n",
       "  }\n",
       "  th, td {\n",
       "    padding: 5px;\n",
       "  }\n",
       "  th {\n",
       "    text-align: left;\n",
       "  }\n",
       "</style><div class='table-result-container'><table class='table-result'><thead style='background-color: white'><tr><th>Item_Identifier</th><th>Item_Fat_Content</th><th>Item_Type</th><th>Item_MRP</th><th>Outlet_Identifier</th><th>Outlet_Type</th><th>Promotion_Type</th></tr></thead><tbody><tr><td>NEW001</td><td>Low Fat</td><td>Snacks</td><td>150.0</td><td>OUT010</td><td>Supermarket Type1</td><td>BOGO</td></tr><tr><td>NEW002</td><td>Regular</td><td>Dairy</td><td>85.0</td><td>OUT017</td><td>Supermarket Type2</td><td>None</td></tr></tbody></table></div>"
      ]
     },
     "metadata": {
      "application/vnd.databricks.v1+output": {
       "addedWidgets": {},
       "aggData": [],
       "aggError": "",
       "aggOverflow": false,
       "aggSchema": [],
       "aggSeriesLimitReached": false,
       "aggType": "",
       "arguments": {},
       "columnCustomDisplayInfos": {},
       "data": [
        [
         "NEW001",
         "Low Fat",
         "Snacks",
         150.0,
         "OUT010",
         "Supermarket Type1",
         "BOGO"
        ],
        [
         "NEW002",
         "Regular",
         "Dairy",
         85.0,
         "OUT017",
         "Supermarket Type2",
         "None"
        ]
       ],
       "datasetInfos": [],
       "dbfsResultPath": null,
       "isJsonSchema": true,
       "metadata": {},
       "overflow": false,
       "plotOptions": {
        "customPlotOptions": {},
        "displayType": "table",
        "pivotAggregation": null,
        "pivotColumns": null,
        "xColumns": null,
        "yColumns": null
       },
       "removedWidgets": [],
       "schema": [
        {
         "metadata": "{}",
         "name": "Item_Identifier",
         "type": "\"string\""
        },
        {
         "metadata": "{}",
         "name": "Item_Fat_Content",
         "type": "\"string\""
        },
        {
         "metadata": "{}",
         "name": "Item_Type",
         "type": "\"string\""
        },
        {
         "metadata": "{}",
         "name": "Item_MRP",
         "type": "\"double\""
        },
        {
         "metadata": "{}",
         "name": "Outlet_Identifier",
         "type": "\"string\""
        },
        {
         "metadata": "{}",
         "name": "Outlet_Type",
         "type": "\"string\""
        },
        {
         "metadata": "{}",
         "name": "Promotion_Type",
         "type": "\"string\""
        }
       ],
       "type": "table"
      }
     },
     "output_type": "display_data"
    }
   ],
   "source": [
    "# Create a new DataFrame with a different schema\n",
    "# This one has a new column and is missing one from the original\n",
    "from pyspark.sql import Row\n",
    "\n",
    "new_data = [\n",
    "    Row(\n",
    "        Item_Identifier=\"NEW001\", \n",
    "        Item_Fat_Content=\"Low Fat\", \n",
    "        Item_Type=\"Snacks\", \n",
    "        Item_MRP=150.0, \n",
    "        Outlet_Identifier=\"OUT010\", \n",
    "        Outlet_Type=\"Supermarket Type1\", \n",
    "        Promotion_Type=\"BOGO\"  # New column\n",
    "    ),\n",
    "    Row(\n",
    "        Item_Identifier=\"NEW002\", \n",
    "        Item_Fat_Content=\"Regular\", \n",
    "        Item_Type=\"Dairy\", \n",
    "        Item_MRP=85.0, \n",
    "        Outlet_Identifier=\"OUT017\", \n",
    "        Outlet_Type=\"Supermarket Type2\", \n",
    "        Promotion_Type=\"None\"  # New column\n",
    "    )\n",
    "]\n",
    "\n",
    "# Create DataFrame from the new data\n",
    "new_df = spark.createDataFrame(new_data)\n",
    "display(new_df)"
   ]
  },
  {
   "cell_type": "code",
   "execution_count": 0,
   "metadata": {
    "application/vnd.databricks.v1+cell": {
     "cellMetadata": {},
     "inputWidgets": {},
     "nuid": "58c44f40-f8e9-43a8-9438-ece4f8ad21a3",
     "showTitle": false,
     "tableResultSettingsMap": {},
     "title": ""
    }
   },
   "outputs": [],
   "source": [
    "# Try to write with default schema enforcement (will fail)\n",
    "try:\n",
    "    new_df.write.format(\"delta\").mode(\"append\").save(delta_table_path)\n",
    "except Exception as e:\n",
    "    print(\"Error with default schema enforcement:\")\n",
    "    print(str(e))\n"
   ]
  },
  {
   "cell_type": "code",
   "execution_count": 0,
   "metadata": {
    "application/vnd.databricks.v1+cell": {
     "cellMetadata": {
      "byteLimit": 2048000,
      "rowLimit": 10000
     },
     "inputWidgets": {},
     "nuid": "401b3ced-7bec-4ac8-9e2d-1e4479f659d8",
     "showTitle": false,
     "tableResultSettingsMap": {},
     "title": ""
    }
   },
   "outputs": [
    {
     "output_type": "stream",
     "name": "stdout",
     "output_type": "stream",
     "text": [
      "Write succeeded with schema evolution enabled\nroot\n |-- Item_Type: string (nullable = true)\n |-- Item_Identifier: string (nullable = true)\n |-- Item_Weight: double (nullable = true)\n |-- Item_Fat_Content: string (nullable = true)\n |-- Item_Visibility: double (nullable = true)\n |-- Item_MRP: double (nullable = true)\n |-- Outlet_Identifier: string (nullable = true)\n |-- Outlet_Establishment_Year: integer (nullable = true)\n |-- Outlet_Size: string (nullable = true)\n |-- Outlet_Location_Type: string (nullable = true)\n |-- Outlet_Type: string (nullable = true)\n |-- Item_Outlet_Sales: double (nullable = true)\n |-- Promotion_Type: string (nullable = true)\n\n"
     ]
    },
    {
     "output_type": "display_data",
     "data": {
      "text/html": [
       "<style scoped>\n",
       "  .table-result-container {\n",
       "    max-height: 300px;\n",
       "    overflow: auto;\n",
       "  }\n",
       "  table, th, td {\n",
       "    border: 1px solid black;\n",
       "    border-collapse: collapse;\n",
       "  }\n",
       "  th, td {\n",
       "    padding: 5px;\n",
       "  }\n",
       "  th {\n",
       "    text-align: left;\n",
       "  }\n",
       "</style><div class='table-result-container'><table class='table-result'><thead style='background-color: white'><tr><th>Item_Identifier</th><th>Item_Type</th><th>Promotion_Type</th></tr></thead><tbody><tr><td>NEW001</td><td>Snacks</td><td>BOGO</td></tr><tr><td>NEW002</td><td>Dairy</td><td>None</td></tr><tr><td>NEW001</td><td>Snacks</td><td>BOGO</td></tr><tr><td>NEW002</td><td>Dairy</td><td>None</td></tr></tbody></table></div>"
      ]
     },
     "metadata": {
      "application/vnd.databricks.v1+output": {
       "addedWidgets": {},
       "aggData": [],
       "aggError": "",
       "aggOverflow": false,
       "aggSchema": [],
       "aggSeriesLimitReached": false,
       "aggType": "",
       "arguments": {},
       "columnCustomDisplayInfos": {},
       "data": [
        [
         "NEW001",
         "Snacks",
         "BOGO"
        ],
        [
         "NEW002",
         "Dairy",
         "None"
        ],
        [
         "NEW001",
         "Snacks",
         "BOGO"
        ],
        [
         "NEW002",
         "Dairy",
         "None"
        ]
       ],
       "datasetInfos": [],
       "dbfsResultPath": null,
       "isJsonSchema": true,
       "metadata": {},
       "overflow": false,
       "plotOptions": {
        "customPlotOptions": {},
        "displayType": "table",
        "pivotAggregation": null,
        "pivotColumns": null,
        "xColumns": null,
        "yColumns": null
       },
       "removedWidgets": [],
       "schema": [
        {
         "metadata": "{}",
         "name": "Item_Identifier",
         "type": "\"string\""
        },
        {
         "metadata": "{}",
         "name": "Item_Type",
         "type": "\"string\""
        },
        {
         "metadata": "{}",
         "name": "Promotion_Type",
         "type": "\"string\""
        }
       ],
       "type": "table"
      }
     },
     "output_type": "display_data"
    }
   ],
   "source": [
    "# Try to write with default schema enforcement (will fail)\n",
    "try:\n",
    "    new_df.write.format(\"delta\").mode(\"append\").save(delta_table_path)\n",
    "except Exception as e:\n",
    "    print(\"Error with default schema enforcement:\")\n",
    "    print(str(e))\n",
    "\n",
    "# Write with schema evolution enabled\n",
    "new_df.write.format(\"delta\").mode(\"append\").option(\"mergeSchema\", \"true\").save(delta_table_path)\n",
    "print(\"Write succeeded with schema evolution enabled\")\n",
    "\n",
    "# Read the updated table to see the new schema\n",
    "evolved_df = spark.read.format(\"delta\").load(delta_table_path)\n",
    "evolved_df.printSchema()\n",
    "\n",
    "# Check for our new data with the Promotion_Type column\n",
    "display(evolved_df.filter(col(\"Item_Identifier\").startswith(\"NEW\")).select(\n",
    "    \"Item_Identifier\", \"Item_Type\", \"Promotion_Type\"\n",
    "))"
   ]
  },
  {
   "cell_type": "markdown",
   "metadata": {
    "application/vnd.databricks.v1+cell": {
     "cellMetadata": {},
     "inputWidgets": {},
     "nuid": "b819b9bd-bb0e-481b-af19-793a2c8b2d1d",
     "showTitle": false,
     "tableResultSettingsMap": {},
     "title": ""
    }
   },
   "source": [
    "### Time Travel with Delta Lake\n",
    "\n",
    "Delta Lake maintains a transaction log that allows you to access previous versions of your data, enabling point-in-time analysis, rollbacks, and auditing."
   ]
  },
  {
   "cell_type": "code",
   "execution_count": 0,
   "metadata": {
    "application/vnd.databricks.v1+cell": {
     "cellMetadata": {
      "byteLimit": 2048000,
      "rowLimit": 10000
     },
     "inputWidgets": {},
     "nuid": "b30a7fbb-6b4f-404b-8f1c-263a37cce8a8",
     "showTitle": false,
     "tableResultSettingsMap": {},
     "title": ""
    }
   },
   "outputs": [
    {
     "output_type": "display_data",
     "data": {
      "text/html": [
       "<style scoped>\n",
       "  .table-result-container {\n",
       "    max-height: 300px;\n",
       "    overflow: auto;\n",
       "  }\n",
       "  table, th, td {\n",
       "    border: 1px solid black;\n",
       "    border-collapse: collapse;\n",
       "  }\n",
       "  th, td {\n",
       "    padding: 5px;\n",
       "  }\n",
       "  th {\n",
       "    text-align: left;\n",
       "  }\n",
       "</style><div class='table-result-container'><table class='table-result'><thead style='background-color: white'><tr><th>version</th><th>timestamp</th><th>userId</th><th>userName</th><th>operation</th><th>operationParameters</th><th>job</th><th>notebook</th><th>clusterId</th><th>readVersion</th><th>isolationLevel</th><th>isBlindAppend</th><th>operationMetrics</th><th>userMetadata</th><th>engineInfo</th></tr></thead><tbody><tr><td>28</td><td>2025-09-15T18:01:29.000Z</td><td>8048247156126318</td><td>aiwithap@gmail.com</td><td>WRITE</td><td>Map(mode -> Append, statsOnLoad -> false, partitionBy -> [])</td><td>null</td><td>List(2678599246042750)</td><td>0915-175131-8xcaaaqy-v2n</td><td>27</td><td>WriteSerializable</td><td>true</td><td>Map(numFiles -> 1, numOutputRows -> 2, numOutputBytes -> 2090)</td><td>null</td><td>Databricks-Runtime/17.1.x-aarch64-photon-scala2.13</td></tr><tr><td>27</td><td>2025-09-15T18:01:28.000Z</td><td>8048247156126318</td><td>aiwithap@gmail.com</td><td>WRITE</td><td>Map(mode -> Append, statsOnLoad -> false, partitionBy -> [])</td><td>null</td><td>List(2678599246042750)</td><td>0915-175131-8xcaaaqy-v2n</td><td>26</td><td>WriteSerializable</td><td>true</td><td>Map(numFiles -> 1, numOutputRows -> 2, numOutputBytes -> 2090)</td><td>null</td><td>Databricks-Runtime/17.1.x-aarch64-photon-scala2.13</td></tr><tr><td>26</td><td>2025-09-15T18:01:08.000Z</td><td>8048247156126318</td><td>aiwithap@gmail.com</td><td>OPTIMIZE</td><td>Map(predicate -> [], auto -> true, clusterBy -> [], zOrderBy -> [], batchId -> 0)</td><td>null</td><td>List(2678599246042750)</td><td>0915-175131-8xcaaaqy-v2n</td><td>25</td><td>SnapshotIsolation</td><td>false</td><td>Map(numRemovedFiles -> 2, numRemovedBytes -> 282515, p25FileSize -> 202980, numDeletionVectorsRemoved -> 1, minFileSize -> 202980, numAddedFiles -> 1, maxFileSize -> 202980, p75FileSize -> 202980, p50FileSize -> 202980, numAddedBytes -> 202980)</td><td>null</td><td>Databricks-Runtime/17.1.x-aarch64-photon-scala2.13</td></tr><tr><td>25</td><td>2025-09-15T18:01:05.000Z</td><td>8048247156126318</td><td>aiwithap@gmail.com</td><td>UPDATE</td><td>Map(predicate -> [\"(Item_Fat_Content#11988 = REGULAR)\"])</td><td>null</td><td>List(2678599246042750)</td><td>0915-175131-8xcaaaqy-v2n</td><td>23</td><td>WriteSerializable</td><td>false</td><td>Map(numRemovedFiles -> 1, numRemovedBytes -> 204162, numCopiedRows -> 0, numDeletionVectorsAdded -> 0, numDeletionVectorsRemoved -> 1, numAddedChangeFiles -> 0, executionTimeMs -> 2258, conflictDetectionTimeMs -> 461, numDeletionVectorsUpdated -> 0, scanTimeMs -> 1120, numAddedFiles -> 1, numUpdatedRows -> 3006, numAddedBytes -> 79033, rewriteTimeMs -> 1137)</td><td>null</td><td>Databricks-Runtime/17.1.x-aarch64-photon-scala2.13</td></tr><tr><td>24</td><td>2025-09-15T18:01:03.000Z</td><td>8048247156126318</td><td>aiwithap@gmail.com</td><td>OPTIMIZE</td><td>Map(predicate -> [], auto -> true, clusterBy -> [], zOrderBy -> [], batchId -> 0)</td><td>null</td><td>List(2678599246042750)</td><td>0915-175131-8xcaaaqy-v2n</td><td>23</td><td>SnapshotIsolation</td><td>false</td><td>Map(numRemovedFiles -> 2, numRemovedBytes -> 344095, p25FileSize -> 203482, numDeletionVectorsRemoved -> 1, minFileSize -> 203482, numAddedFiles -> 1, maxFileSize -> 203482, p75FileSize -> 203482, p50FileSize -> 203482, numAddedBytes -> 203482)</td><td>null</td><td>Databricks-Runtime/17.1.x-aarch64-photon-scala2.13</td></tr><tr><td>23</td><td>2025-09-15T18:01:00.000Z</td><td>8048247156126318</td><td>aiwithap@gmail.com</td><td>UPDATE</td><td>Map(predicate -> [\"(Item_Fat_Content#11466 = LOW_FAT)\"])</td><td>null</td><td>List(2678599246042750)</td><td>0915-175131-8xcaaaqy-v2n</td><td>22</td><td>WriteSerializable</td><td>false</td><td>Map(numRemovedFiles -> 0, numRemovedBytes -> 0, numCopiedRows -> 0, numDeletionVectorsAdded -> 1, numDeletionVectorsRemoved -> 0, numAddedChangeFiles -> 0, executionTimeMs -> 3360, numDeletionVectorsUpdated -> 0, scanTimeMs -> 1780, numAddedFiles -> 1, numUpdatedRows -> 5517, numAddedBytes -> 139933, rewriteTimeMs -> 1543)</td><td>null</td><td>Databricks-Runtime/17.1.x-aarch64-photon-scala2.13</td></tr><tr><td>22</td><td>2025-09-15T18:00:38.000Z</td><td>8048247156126318</td><td>aiwithap@gmail.com</td><td>WRITE</td><td>Map(mode -> Overwrite, statsOnLoad -> false, partitionBy -> [])</td><td>null</td><td>List(2678599246042750)</td><td>0915-175131-8xcaaaqy-v2n</td><td>21</td><td>WriteSerializable</td><td>false</td><td>Map(numFiles -> 1, numRemovedFiles -> 1, numRemovedBytes -> 204229, numOutputRows -> 8523, numOutputBytes -> 204162)</td><td>null</td><td>Databricks-Runtime/17.1.x-aarch64-photon-scala2.13</td></tr><tr><td>21</td><td>2025-09-13T15:34:49.000Z</td><td>8048247156126318</td><td>aiwithap@gmail.com</td><td>OPTIMIZE</td><td>Map(predicate -> [], auto -> true, clusterBy -> [], zOrderBy -> [], batchId -> 0)</td><td>null</td><td>List(2678599246042750)</td><td>0913-153231-ebnfpbhg-v2n</td><td>20</td><td>SnapshotIsolation</td><td>false</td><td>Map(numRemovedFiles -> 6, numRemovedBytes -> 216823, p25FileSize -> 204229, numDeletionVectorsRemoved -> 2, minFileSize -> 204229, numAddedFiles -> 1, maxFileSize -> 204229, p75FileSize -> 204229, p50FileSize -> 204229, numAddedBytes -> 204229)</td><td>null</td><td>Databricks-Runtime/17.1.x-aarch64-photon-scala2.13</td></tr><tr><td>20</td><td>2025-09-13T15:34:47.000Z</td><td>8048247156126318</td><td>aiwithap@gmail.com</td><td>MERGE</td><td>Map(predicate -> [\"(Item_Identifier#13779 = Item_Identifier#13753)\"], clusterBy -> [], matchedPredicates -> [{\"actionType\":\"update\"}], statsOnLoad -> false, notMatchedBySourcePredicates -> [], notMatchedPredicates -> [{\"actionType\":\"insert\"}])</td><td>null</td><td>List(2678599246042750)</td><td>0913-153231-ebnfpbhg-v2n</td><td>19</td><td>WriteSerializable</td><td>false</td><td>Map(numTargetRowsCopied -> 0, numTargetRowsDeleted -> 0, numTargetFilesAdded -> 3, numTargetBytesAdded -> 9663, numTargetBytesRemoved -> 0, numTargetDeletionVectorsAdded -> 2, numTargetRowsMatchedUpdated -> 2, executionTimeMs -> 3448, materializeSourceTimeMs -> 290, numTargetRowsInserted -> 2, numTargetRowsMatchedDeleted -> 0, numTargetDeletionVectorsUpdated -> 0, scanTimeMs -> 1097, numTargetRowsUpdated -> 2, numOutputRows -> 4, numTargetDeletionVectorsRemoved -> 0, numTargetRowsNotMatchedBySourceUpdated -> 0, numTargetChangeFilesAdded -> 0, numSourceRows -> 3, numTargetFilesRemoved -> 0, numTargetRowsNotMatchedBySourceDeleted -> 0, rewriteTimeMs -> 1938)</td><td>null</td><td>Databricks-Runtime/17.1.x-aarch64-photon-scala2.13</td></tr><tr><td>19</td><td>2025-09-13T15:34:05.000Z</td><td>8048247156126318</td><td>aiwithap@gmail.com</td><td>WRITE</td><td>Map(mode -> Append, statsOnLoad -> false, partitionBy -> [])</td><td>null</td><td>List(2678599246042750)</td><td>0913-153231-ebnfpbhg-v2n</td><td>18</td><td>WriteSerializable</td><td>true</td><td>Map(numFiles -> 1, numOutputRows -> 2, numOutputBytes -> 2090)</td><td>null</td><td>Databricks-Runtime/17.1.x-aarch64-photon-scala2.13</td></tr><tr><td>18</td><td>2025-09-13T15:34:04.000Z</td><td>8048247156126318</td><td>aiwithap@gmail.com</td><td>WRITE</td><td>Map(mode -> Append, statsOnLoad -> false, partitionBy -> [])</td><td>null</td><td>List(2678599246042750)</td><td>0913-153231-ebnfpbhg-v2n</td><td>17</td><td>WriteSerializable</td><td>true</td><td>Map(numFiles -> 1, numOutputRows -> 2, numOutputBytes -> 2090)</td><td>null</td><td>Databricks-Runtime/17.1.x-aarch64-photon-scala2.13</td></tr><tr><td>17</td><td>2025-09-13T15:33:47.000Z</td><td>8048247156126318</td><td>aiwithap@gmail.com</td><td>OPTIMIZE</td><td>Map(predicate -> [], auto -> true, clusterBy -> [], zOrderBy -> [], batchId -> 0)</td><td>null</td><td>List(2678599246042750)</td><td>0913-153231-ebnfpbhg-v2n</td><td>16</td><td>SnapshotIsolation</td><td>false</td><td>Map(numRemovedFiles -> 2, numRemovedBytes -> 282515, p25FileSize -> 202980, numDeletionVectorsRemoved -> 1, minFileSize -> 202980, numAddedFiles -> 1, maxFileSize -> 202980, p75FileSize -> 202980, p50FileSize -> 202980, numAddedBytes -> 202980)</td><td>null</td><td>Databricks-Runtime/17.1.x-aarch64-photon-scala2.13</td></tr><tr><td>16</td><td>2025-09-13T15:33:45.000Z</td><td>8048247156126318</td><td>aiwithap@gmail.com</td><td>UPDATE</td><td>Map(predicate -> [\"(Item_Fat_Content#11976 = REGULAR)\"])</td><td>null</td><td>List(2678599246042750)</td><td>0913-153231-ebnfpbhg-v2n</td><td>14</td><td>WriteSerializable</td><td>false</td><td>Map(numRemovedFiles -> 1, numRemovedBytes -> 204162, numCopiedRows -> 0, numDeletionVectorsAdded -> 0, numDeletionVectorsRemoved -> 1, numAddedChangeFiles -> 0, executionTimeMs -> 2234, conflictDetectionTimeMs -> 461, numDeletionVectorsUpdated -> 0, scanTimeMs -> 1236, numAddedFiles -> 1, numUpdatedRows -> 3006, numAddedBytes -> 79033, rewriteTimeMs -> 991)</td><td>null</td><td>Databricks-Runtime/17.1.x-aarch64-photon-scala2.13</td></tr><tr><td>15</td><td>2025-09-13T15:33:43.000Z</td><td>8048247156126318</td><td>aiwithap@gmail.com</td><td>OPTIMIZE</td><td>Map(predicate -> [], auto -> true, clusterBy -> [], zOrderBy -> [], batchId -> 0)</td><td>null</td><td>List(2678599246042750)</td><td>0913-153231-ebnfpbhg-v2n</td><td>14</td><td>SnapshotIsolation</td><td>false</td><td>Map(numRemovedFiles -> 2, numRemovedBytes -> 344095, p25FileSize -> 203482, numDeletionVectorsRemoved -> 1, minFileSize -> 203482, numAddedFiles -> 1, maxFileSize -> 203482, p75FileSize -> 203482, p50FileSize -> 203482, numAddedBytes -> 203482)</td><td>null</td><td>Databricks-Runtime/17.1.x-aarch64-photon-scala2.13</td></tr><tr><td>14</td><td>2025-09-13T15:33:40.000Z</td><td>8048247156126318</td><td>aiwithap@gmail.com</td><td>UPDATE</td><td>Map(predicate -> [\"(Item_Fat_Content#11453 = LOW_FAT)\"])</td><td>null</td><td>List(2678599246042750)</td><td>0913-153231-ebnfpbhg-v2n</td><td>13</td><td>WriteSerializable</td><td>false</td><td>Map(numRemovedFiles -> 0, numRemovedBytes -> 0, numCopiedRows -> 0, numDeletionVectorsAdded -> 1, numDeletionVectorsRemoved -> 0, numAddedChangeFiles -> 0, executionTimeMs -> 3308, numDeletionVectorsUpdated -> 0, scanTimeMs -> 1685, numAddedFiles -> 1, numUpdatedRows -> 5517, numAddedBytes -> 139933, rewriteTimeMs -> 1561)</td><td>null</td><td>Databricks-Runtime/17.1.x-aarch64-photon-scala2.13</td></tr><tr><td>13</td><td>2025-09-13T15:33:29.000Z</td><td>8048247156126318</td><td>aiwithap@gmail.com</td><td>WRITE</td><td>Map(mode -> Overwrite, statsOnLoad -> false, partitionBy -> [])</td><td>null</td><td>List(2678599246042750)</td><td>0913-153231-ebnfpbhg-v2n</td><td>12</td><td>WriteSerializable</td><td>false</td><td>Map(numFiles -> 1, numRemovedFiles -> 3, numRemovedBytes -> 207160, numOutputRows -> 8523, numOutputBytes -> 204162)</td><td>null</td><td>Databricks-Runtime/17.1.x-aarch64-photon-scala2.13</td></tr><tr><td>12</td><td>2025-09-13T14:59:43.000Z</td><td>8048247156126318</td><td>aiwithap@gmail.com</td><td>WRITE</td><td>Map(mode -> Append, statsOnLoad -> false, partitionBy -> [])</td><td>null</td><td>List(2678599246042750)</td><td>0913-143628-33a1hlqh-v2n</td><td>11</td><td>WriteSerializable</td><td>true</td><td>Map(numFiles -> 1, numOutputRows -> 2, numOutputBytes -> 2090)</td><td>null</td><td>Databricks-Runtime/17.1.x-aarch64-photon-scala2.13</td></tr><tr><td>11</td><td>2025-09-13T14:59:42.000Z</td><td>8048247156126318</td><td>aiwithap@gmail.com</td><td>WRITE</td><td>Map(mode -> Append, statsOnLoad -> false, partitionBy -> [])</td><td>null</td><td>List(2678599246042750)</td><td>0913-143628-33a1hlqh-v2n</td><td>10</td><td>WriteSerializable</td><td>true</td><td>Map(numFiles -> 1, numOutputRows -> 2, numOutputBytes -> 2090)</td><td>null</td><td>Databricks-Runtime/17.1.x-aarch64-photon-scala2.13</td></tr><tr><td>10</td><td>2025-09-13T14:59:21.000Z</td><td>8048247156126318</td><td>aiwithap@gmail.com</td><td>OPTIMIZE</td><td>Map(predicate -> [], auto -> true, clusterBy -> [], zOrderBy -> [], batchId -> 0)</td><td>null</td><td>List(2678599246042750)</td><td>0913-143628-33a1hlqh-v2n</td><td>9</td><td>SnapshotIsolation</td><td>false</td><td>Map(numRemovedFiles -> 2, numRemovedBytes -> 282515, p25FileSize -> 202980, numDeletionVectorsRemoved -> 1, minFileSize -> 202980, numAddedFiles -> 1, maxFileSize -> 202980, p75FileSize -> 202980, p50FileSize -> 202980, numAddedBytes -> 202980)</td><td>null</td><td>Databricks-Runtime/17.1.x-aarch64-photon-scala2.13</td></tr><tr><td>9</td><td>2025-09-13T14:59:18.000Z</td><td>8048247156126318</td><td>aiwithap@gmail.com</td><td>UPDATE</td><td>Map(predicate -> [\"(Item_Fat_Content#12409 = REGULAR)\"])</td><td>null</td><td>List(2678599246042750)</td><td>0913-143628-33a1hlqh-v2n</td><td>7</td><td>WriteSerializable</td><td>false</td><td>Map(numRemovedFiles -> 1, numRemovedBytes -> 204162, numCopiedRows -> 0, numDeletionVectorsAdded -> 0, numDeletionVectorsRemoved -> 1, numAddedChangeFiles -> 0, executionTimeMs -> 2137, conflictDetectionTimeMs -> 564, numDeletionVectorsUpdated -> 0, scanTimeMs -> 977, numAddedFiles -> 1, numUpdatedRows -> 3006, numAddedBytes -> 79033, rewriteTimeMs -> 1159)</td><td>null</td><td>Databricks-Runtime/17.1.x-aarch64-photon-scala2.13</td></tr><tr><td>8</td><td>2025-09-13T14:59:16.000Z</td><td>8048247156126318</td><td>aiwithap@gmail.com</td><td>OPTIMIZE</td><td>Map(predicate -> [], auto -> true, clusterBy -> [], zOrderBy -> [], batchId -> 0)</td><td>null</td><td>List(2678599246042750)</td><td>0913-143628-33a1hlqh-v2n</td><td>7</td><td>SnapshotIsolation</td><td>false</td><td>Map(numRemovedFiles -> 2, numRemovedBytes -> 344095, p25FileSize -> 203482, numDeletionVectorsRemoved -> 1, minFileSize -> 203482, numAddedFiles -> 1, maxFileSize -> 203482, p75FileSize -> 203482, p50FileSize -> 203482, numAddedBytes -> 203482)</td><td>null</td><td>Databricks-Runtime/17.1.x-aarch64-photon-scala2.13</td></tr><tr><td>7</td><td>2025-09-13T14:59:13.000Z</td><td>8048247156126318</td><td>aiwithap@gmail.com</td><td>UPDATE</td><td>Map(predicate -> [\"(Item_Fat_Content#11886 = LOW_FAT)\"])</td><td>null</td><td>List(2678599246042750)</td><td>0913-143628-33a1hlqh-v2n</td><td>6</td><td>WriteSerializable</td><td>false</td><td>Map(numRemovedFiles -> 0, numRemovedBytes -> 0, numCopiedRows -> 0, numDeletionVectorsAdded -> 1, numDeletionVectorsRemoved -> 0, numAddedChangeFiles -> 0, executionTimeMs -> 3225, numDeletionVectorsUpdated -> 0, scanTimeMs -> 1630, numAddedFiles -> 1, numUpdatedRows -> 5517, numAddedBytes -> 139933, rewriteTimeMs -> 1549)</td><td>null</td><td>Databricks-Runtime/17.1.x-aarch64-photon-scala2.13</td></tr><tr><td>6</td><td>2025-09-13T14:58:45.000Z</td><td>8048247156126318</td><td>aiwithap@gmail.com</td><td>WRITE</td><td>Map(mode -> Overwrite, statsOnLoad -> false, partitionBy -> [])</td><td>null</td><td>List(2678599246042750)</td><td>0913-143628-33a1hlqh-v2n</td><td>5</td><td>WriteSerializable</td><td>false</td><td>Map(numFiles -> 1, numRemovedFiles -> 2, numRemovedBytes -> 204879, numOutputRows -> 8523, numOutputBytes -> 204162)</td><td>null</td><td>Databricks-Runtime/17.1.x-aarch64-photon-scala2.13</td></tr><tr><td>5</td><td>2025-09-09T18:08:36.000Z</td><td>8048247156126318</td><td>aiwithap@gmail.com</td><td>WRITE</td><td>Map(mode -> Append, statsOnLoad -> false, partitionBy -> [])</td><td>null</td><td>List(2678599246042750)</td><td>0909-180515-4esqzrc8-v2n</td><td>4</td><td>WriteSerializable</td><td>true</td><td>Map(numFiles -> 1, numOutputRows -> 2, numOutputBytes -> 2090)</td><td>null</td><td>Databricks-Runtime/17.1.x-aarch64-photon-scala2.13</td></tr><tr><td>4</td><td>2025-09-09T18:07:58.000Z</td><td>8048247156126318</td><td>aiwithap@gmail.com</td><td>OPTIMIZE</td><td>Map(predicate -> [], auto -> true, clusterBy -> [], zOrderBy -> [], batchId -> 0)</td><td>null</td><td>List(2678599246042750)</td><td>0909-180515-4esqzrc8-v2n</td><td>3</td><td>SnapshotIsolation</td><td>false</td><td>Map(numRemovedFiles -> 2, numRemovedBytes -> 282138, p25FileSize -> 202789, numDeletionVectorsRemoved -> 1, minFileSize -> 202789, numAddedFiles -> 1, maxFileSize -> 202789, p75FileSize -> 202789, p50FileSize -> 202789, numAddedBytes -> 202789)</td><td>null</td><td>Databricks-Runtime/17.1.x-aarch64-photon-scala2.13</td></tr><tr><td>3</td><td>2025-09-09T18:07:55.000Z</td><td>8048247156126318</td><td>aiwithap@gmail.com</td><td>UPDATE</td><td>Map(predicate -> [\"(Item_Fat_Content#11980 = REGULAR)\"])</td><td>null</td><td>List(2678599246042750)</td><td>0909-180515-4esqzrc8-v2n</td><td>1</td><td>WriteSerializable</td><td>false</td><td>Map(numRemovedFiles -> 1, numRemovedBytes -> 204162, numCopiedRows -> 0, numDeletionVectorsAdded -> 0, numDeletionVectorsRemoved -> 1, numAddedChangeFiles -> 0, executionTimeMs -> 2341, conflictDetectionTimeMs -> 448, numDeletionVectorsUpdated -> 0, scanTimeMs -> 1289, numAddedFiles -> 1, numUpdatedRows -> 3006, numAddedBytes -> 78847, rewriteTimeMs -> 1048)</td><td>null</td><td>Databricks-Runtime/17.1.x-aarch64-photon-scala2.13</td></tr><tr><td>2</td><td>2025-09-09T18:07:54.000Z</td><td>8048247156126318</td><td>aiwithap@gmail.com</td><td>OPTIMIZE</td><td>Map(predicate -> [], auto -> true, clusterBy -> [], zOrderBy -> [], batchId -> 0)</td><td>null</td><td>List(2678599246042750)</td><td>0909-180515-4esqzrc8-v2n</td><td>1</td><td>SnapshotIsolation</td><td>false</td><td>Map(numRemovedFiles -> 2, numRemovedBytes -> 343910, p25FileSize -> 203291, numDeletionVectorsRemoved -> 1, minFileSize -> 203291, numAddedFiles -> 1, maxFileSize -> 203291, p75FileSize -> 203291, p50FileSize -> 203291, numAddedBytes -> 203291)</td><td>null</td><td>Databricks-Runtime/17.1.x-aarch64-photon-scala2.13</td></tr><tr><td>1</td><td>2025-09-09T18:07:50.000Z</td><td>8048247156126318</td><td>aiwithap@gmail.com</td><td>UPDATE</td><td>Map(predicate -> [\"(Item_Fat_Content#11481 = LOW_FAT)\"])</td><td>null</td><td>List(2678599246042750)</td><td>0909-180515-4esqzrc8-v2n</td><td>0</td><td>WriteSerializable</td><td>false</td><td>Map(numRemovedFiles -> 0, numRemovedBytes -> 0, numCopiedRows -> 0, numDeletionVectorsAdded -> 1, numDeletionVectorsRemoved -> 0, numAddedChangeFiles -> 0, executionTimeMs -> 3871, numDeletionVectorsUpdated -> 0, scanTimeMs -> 1917, numAddedFiles -> 1, numUpdatedRows -> 5517, numAddedBytes -> 139748, rewriteTimeMs -> 1933)</td><td>null</td><td>Databricks-Runtime/17.1.x-aarch64-photon-scala2.13</td></tr><tr><td>0</td><td>2025-09-09T18:07:28.000Z</td><td>8048247156126318</td><td>aiwithap@gmail.com</td><td>WRITE</td><td>Map(mode -> Overwrite, statsOnLoad -> false, partitionBy -> [])</td><td>null</td><td>List(2678599246042750)</td><td>0909-180515-4esqzrc8-v2n</td><td>null</td><td>WriteSerializable</td><td>false</td><td>Map(numFiles -> 1, numRemovedFiles -> 0, numRemovedBytes -> 0, numOutputRows -> 8523, numOutputBytes -> 204162)</td><td>null</td><td>Databricks-Runtime/17.1.x-aarch64-photon-scala2.13</td></tr></tbody></table></div>"
      ]
     },
     "metadata": {
      "application/vnd.databricks.v1+output": {
       "addedWidgets": {},
       "aggData": [],
       "aggError": "",
       "aggOverflow": false,
       "aggSchema": [],
       "aggSeriesLimitReached": false,
       "aggType": "",
       "arguments": {},
       "columnCustomDisplayInfos": {},
       "data": [
        [
         28,
         "2025-09-15T18:01:29.000Z",
         "8048247156126318",
         "aiwithap@gmail.com",
         "WRITE",
         {
          "mode": "Append",
          "partitionBy": "[]",
          "statsOnLoad": "false"
         },
         null,
         [
          "2678599246042750"
         ],
         "0915-175131-8xcaaaqy-v2n",
         27,
         "WriteSerializable",
         true,
         {
          "numFiles": "1",
          "numOutputBytes": "2090",
          "numOutputRows": "2"
         },
         null,
         "Databricks-Runtime/17.1.x-aarch64-photon-scala2.13"
        ],
        [
         27,
         "2025-09-15T18:01:28.000Z",
         "8048247156126318",
         "aiwithap@gmail.com",
         "WRITE",
         {
          "mode": "Append",
          "partitionBy": "[]",
          "statsOnLoad": "false"
         },
         null,
         [
          "2678599246042750"
         ],
         "0915-175131-8xcaaaqy-v2n",
         26,
         "WriteSerializable",
         true,
         {
          "numFiles": "1",
          "numOutputBytes": "2090",
          "numOutputRows": "2"
         },
         null,
         "Databricks-Runtime/17.1.x-aarch64-photon-scala2.13"
        ],
        [
         26,
         "2025-09-15T18:01:08.000Z",
         "8048247156126318",
         "aiwithap@gmail.com",
         "OPTIMIZE",
         {
          "auto": "true",
          "batchId": "0",
          "clusterBy": "[]",
          "predicate": "[]",
          "zOrderBy": "[]"
         },
         null,
         [
          "2678599246042750"
         ],
         "0915-175131-8xcaaaqy-v2n",
         25,
         "SnapshotIsolation",
         false,
         {
          "maxFileSize": "202980",
          "minFileSize": "202980",
          "numAddedBytes": "202980",
          "numAddedFiles": "1",
          "numDeletionVectorsRemoved": "1",
          "numRemovedBytes": "282515",
          "numRemovedFiles": "2",
          "p25FileSize": "202980",
          "p50FileSize": "202980",
          "p75FileSize": "202980"
         },
         null,
         "Databricks-Runtime/17.1.x-aarch64-photon-scala2.13"
        ],
        [
         25,
         "2025-09-15T18:01:05.000Z",
         "8048247156126318",
         "aiwithap@gmail.com",
         "UPDATE",
         {
          "predicate": "[\"(Item_Fat_Content#11988 = REGULAR)\"]"
         },
         null,
         [
          "2678599246042750"
         ],
         "0915-175131-8xcaaaqy-v2n",
         23,
         "WriteSerializable",
         false,
         {
          "conflictDetectionTimeMs": "461",
          "executionTimeMs": "2258",
          "numAddedBytes": "79033",
          "numAddedChangeFiles": "0",
          "numAddedFiles": "1",
          "numCopiedRows": "0",
          "numDeletionVectorsAdded": "0",
          "numDeletionVectorsRemoved": "1",
          "numDeletionVectorsUpdated": "0",
          "numRemovedBytes": "204162",
          "numRemovedFiles": "1",
          "numUpdatedRows": "3006",
          "rewriteTimeMs": "1137",
          "scanTimeMs": "1120"
         },
         null,
         "Databricks-Runtime/17.1.x-aarch64-photon-scala2.13"
        ],
        [
         24,
         "2025-09-15T18:01:03.000Z",
         "8048247156126318",
         "aiwithap@gmail.com",
         "OPTIMIZE",
         {
          "auto": "true",
          "batchId": "0",
          "clusterBy": "[]",
          "predicate": "[]",
          "zOrderBy": "[]"
         },
         null,
         [
          "2678599246042750"
         ],
         "0915-175131-8xcaaaqy-v2n",
         23,
         "SnapshotIsolation",
         false,
         {
          "maxFileSize": "203482",
          "minFileSize": "203482",
          "numAddedBytes": "203482",
          "numAddedFiles": "1",
          "numDeletionVectorsRemoved": "1",
          "numRemovedBytes": "344095",
          "numRemovedFiles": "2",
          "p25FileSize": "203482",
          "p50FileSize": "203482",
          "p75FileSize": "203482"
         },
         null,
         "Databricks-Runtime/17.1.x-aarch64-photon-scala2.13"
        ],
        [
         23,
         "2025-09-15T18:01:00.000Z",
         "8048247156126318",
         "aiwithap@gmail.com",
         "UPDATE",
         {
          "predicate": "[\"(Item_Fat_Content#11466 = LOW_FAT)\"]"
         },
         null,
         [
          "2678599246042750"
         ],
         "0915-175131-8xcaaaqy-v2n",
         22,
         "WriteSerializable",
         false,
         {
          "executionTimeMs": "3360",
          "numAddedBytes": "139933",
          "numAddedChangeFiles": "0",
          "numAddedFiles": "1",
          "numCopiedRows": "0",
          "numDeletionVectorsAdded": "1",
          "numDeletionVectorsRemoved": "0",
          "numDeletionVectorsUpdated": "0",
          "numRemovedBytes": "0",
          "numRemovedFiles": "0",
          "numUpdatedRows": "5517",
          "rewriteTimeMs": "1543",
          "scanTimeMs": "1780"
         },
         null,
         "Databricks-Runtime/17.1.x-aarch64-photon-scala2.13"
        ],
        [
         22,
         "2025-09-15T18:00:38.000Z",
         "8048247156126318",
         "aiwithap@gmail.com",
         "WRITE",
         {
          "mode": "Overwrite",
          "partitionBy": "[]",
          "statsOnLoad": "false"
         },
         null,
         [
          "2678599246042750"
         ],
         "0915-175131-8xcaaaqy-v2n",
         21,
         "WriteSerializable",
         false,
         {
          "numFiles": "1",
          "numOutputBytes": "204162",
          "numOutputRows": "8523",
          "numRemovedBytes": "204229",
          "numRemovedFiles": "1"
         },
         null,
         "Databricks-Runtime/17.1.x-aarch64-photon-scala2.13"
        ],
        [
         21,
         "2025-09-13T15:34:49.000Z",
         "8048247156126318",
         "aiwithap@gmail.com",
         "OPTIMIZE",
         {
          "auto": "true",
          "batchId": "0",
          "clusterBy": "[]",
          "predicate": "[]",
          "zOrderBy": "[]"
         },
         null,
         [
          "2678599246042750"
         ],
         "0913-153231-ebnfpbhg-v2n",
         20,
         "SnapshotIsolation",
         false,
         {
          "maxFileSize": "204229",
          "minFileSize": "204229",
          "numAddedBytes": "204229",
          "numAddedFiles": "1",
          "numDeletionVectorsRemoved": "2",
          "numRemovedBytes": "216823",
          "numRemovedFiles": "6",
          "p25FileSize": "204229",
          "p50FileSize": "204229",
          "p75FileSize": "204229"
         },
         null,
         "Databricks-Runtime/17.1.x-aarch64-photon-scala2.13"
        ],
        [
         20,
         "2025-09-13T15:34:47.000Z",
         "8048247156126318",
         "aiwithap@gmail.com",
         "MERGE",
         {
          "clusterBy": "[]",
          "matchedPredicates": "[{\"actionType\":\"update\"}]",
          "notMatchedBySourcePredicates": "[]",
          "notMatchedPredicates": "[{\"actionType\":\"insert\"}]",
          "predicate": "[\"(Item_Identifier#13779 = Item_Identifier#13753)\"]",
          "statsOnLoad": "false"
         },
         null,
         [
          "2678599246042750"
         ],
         "0913-153231-ebnfpbhg-v2n",
         19,
         "WriteSerializable",
         false,
         {
          "executionTimeMs": "3448",
          "materializeSourceTimeMs": "290",
          "numOutputRows": "4",
          "numSourceRows": "3",
          "numTargetBytesAdded": "9663",
          "numTargetBytesRemoved": "0",
          "numTargetChangeFilesAdded": "0",
          "numTargetDeletionVectorsAdded": "2",
          "numTargetDeletionVectorsRemoved": "0",
          "numTargetDeletionVectorsUpdated": "0",
          "numTargetFilesAdded": "3",
          "numTargetFilesRemoved": "0",
          "numTargetRowsCopied": "0",
          "numTargetRowsDeleted": "0",
          "numTargetRowsInserted": "2",
          "numTargetRowsMatchedDeleted": "0",
          "numTargetRowsMatchedUpdated": "2",
          "numTargetRowsNotMatchedBySourceDeleted": "0",
          "numTargetRowsNotMatchedBySourceUpdated": "0",
          "numTargetRowsUpdated": "2",
          "rewriteTimeMs": "1938",
          "scanTimeMs": "1097"
         },
         null,
         "Databricks-Runtime/17.1.x-aarch64-photon-scala2.13"
        ],
        [
         19,
         "2025-09-13T15:34:05.000Z",
         "8048247156126318",
         "aiwithap@gmail.com",
         "WRITE",
         {
          "mode": "Append",
          "partitionBy": "[]",
          "statsOnLoad": "false"
         },
         null,
         [
          "2678599246042750"
         ],
         "0913-153231-ebnfpbhg-v2n",
         18,
         "WriteSerializable",
         true,
         {
          "numFiles": "1",
          "numOutputBytes": "2090",
          "numOutputRows": "2"
         },
         null,
         "Databricks-Runtime/17.1.x-aarch64-photon-scala2.13"
        ],
        [
         18,
         "2025-09-13T15:34:04.000Z",
         "8048247156126318",
         "aiwithap@gmail.com",
         "WRITE",
         {
          "mode": "Append",
          "partitionBy": "[]",
          "statsOnLoad": "false"
         },
         null,
         [
          "2678599246042750"
         ],
         "0913-153231-ebnfpbhg-v2n",
         17,
         "WriteSerializable",
         true,
         {
          "numFiles": "1",
          "numOutputBytes": "2090",
          "numOutputRows": "2"
         },
         null,
         "Databricks-Runtime/17.1.x-aarch64-photon-scala2.13"
        ],
        [
         17,
         "2025-09-13T15:33:47.000Z",
         "8048247156126318",
         "aiwithap@gmail.com",
         "OPTIMIZE",
         {
          "auto": "true",
          "batchId": "0",
          "clusterBy": "[]",
          "predicate": "[]",
          "zOrderBy": "[]"
         },
         null,
         [
          "2678599246042750"
         ],
         "0913-153231-ebnfpbhg-v2n",
         16,
         "SnapshotIsolation",
         false,
         {
          "maxFileSize": "202980",
          "minFileSize": "202980",
          "numAddedBytes": "202980",
          "numAddedFiles": "1",
          "numDeletionVectorsRemoved": "1",
          "numRemovedBytes": "282515",
          "numRemovedFiles": "2",
          "p25FileSize": "202980",
          "p50FileSize": "202980",
          "p75FileSize": "202980"
         },
         null,
         "Databricks-Runtime/17.1.x-aarch64-photon-scala2.13"
        ],
        [
         16,
         "2025-09-13T15:33:45.000Z",
         "8048247156126318",
         "aiwithap@gmail.com",
         "UPDATE",
         {
          "predicate": "[\"(Item_Fat_Content#11976 = REGULAR)\"]"
         },
         null,
         [
          "2678599246042750"
         ],
         "0913-153231-ebnfpbhg-v2n",
         14,
         "WriteSerializable",
         false,
         {
          "conflictDetectionTimeMs": "461",
          "executionTimeMs": "2234",
          "numAddedBytes": "79033",
          "numAddedChangeFiles": "0",
          "numAddedFiles": "1",
          "numCopiedRows": "0",
          "numDeletionVectorsAdded": "0",
          "numDeletionVectorsRemoved": "1",
          "numDeletionVectorsUpdated": "0",
          "numRemovedBytes": "204162",
          "numRemovedFiles": "1",
          "numUpdatedRows": "3006",
          "rewriteTimeMs": "991",
          "scanTimeMs": "1236"
         },
         null,
         "Databricks-Runtime/17.1.x-aarch64-photon-scala2.13"
        ],
        [
         15,
         "2025-09-13T15:33:43.000Z",
         "8048247156126318",
         "aiwithap@gmail.com",
         "OPTIMIZE",
         {
          "auto": "true",
          "batchId": "0",
          "clusterBy": "[]",
          "predicate": "[]",
          "zOrderBy": "[]"
         },
         null,
         [
          "2678599246042750"
         ],
         "0913-153231-ebnfpbhg-v2n",
         14,
         "SnapshotIsolation",
         false,
         {
          "maxFileSize": "203482",
          "minFileSize": "203482",
          "numAddedBytes": "203482",
          "numAddedFiles": "1",
          "numDeletionVectorsRemoved": "1",
          "numRemovedBytes": "344095",
          "numRemovedFiles": "2",
          "p25FileSize": "203482",
          "p50FileSize": "203482",
          "p75FileSize": "203482"
         },
         null,
         "Databricks-Runtime/17.1.x-aarch64-photon-scala2.13"
        ],
        [
         14,
         "2025-09-13T15:33:40.000Z",
         "8048247156126318",
         "aiwithap@gmail.com",
         "UPDATE",
         {
          "predicate": "[\"(Item_Fat_Content#11453 = LOW_FAT)\"]"
         },
         null,
         [
          "2678599246042750"
         ],
         "0913-153231-ebnfpbhg-v2n",
         13,
         "WriteSerializable",
         false,
         {
          "executionTimeMs": "3308",
          "numAddedBytes": "139933",
          "numAddedChangeFiles": "0",
          "numAddedFiles": "1",
          "numCopiedRows": "0",
          "numDeletionVectorsAdded": "1",
          "numDeletionVectorsRemoved": "0",
          "numDeletionVectorsUpdated": "0",
          "numRemovedBytes": "0",
          "numRemovedFiles": "0",
          "numUpdatedRows": "5517",
          "rewriteTimeMs": "1561",
          "scanTimeMs": "1685"
         },
         null,
         "Databricks-Runtime/17.1.x-aarch64-photon-scala2.13"
        ],
        [
         13,
         "2025-09-13T15:33:29.000Z",
         "8048247156126318",
         "aiwithap@gmail.com",
         "WRITE",
         {
          "mode": "Overwrite",
          "partitionBy": "[]",
          "statsOnLoad": "false"
         },
         null,
         [
          "2678599246042750"
         ],
         "0913-153231-ebnfpbhg-v2n",
         12,
         "WriteSerializable",
         false,
         {
          "numFiles": "1",
          "numOutputBytes": "204162",
          "numOutputRows": "8523",
          "numRemovedBytes": "207160",
          "numRemovedFiles": "3"
         },
         null,
         "Databricks-Runtime/17.1.x-aarch64-photon-scala2.13"
        ],
        [
         12,
         "2025-09-13T14:59:43.000Z",
         "8048247156126318",
         "aiwithap@gmail.com",
         "WRITE",
         {
          "mode": "Append",
          "partitionBy": "[]",
          "statsOnLoad": "false"
         },
         null,
         [
          "2678599246042750"
         ],
         "0913-143628-33a1hlqh-v2n",
         11,
         "WriteSerializable",
         true,
         {
          "numFiles": "1",
          "numOutputBytes": "2090",
          "numOutputRows": "2"
         },
         null,
         "Databricks-Runtime/17.1.x-aarch64-photon-scala2.13"
        ],
        [
         11,
         "2025-09-13T14:59:42.000Z",
         "8048247156126318",
         "aiwithap@gmail.com",
         "WRITE",
         {
          "mode": "Append",
          "partitionBy": "[]",
          "statsOnLoad": "false"
         },
         null,
         [
          "2678599246042750"
         ],
         "0913-143628-33a1hlqh-v2n",
         10,
         "WriteSerializable",
         true,
         {
          "numFiles": "1",
          "numOutputBytes": "2090",
          "numOutputRows": "2"
         },
         null,
         "Databricks-Runtime/17.1.x-aarch64-photon-scala2.13"
        ],
        [
         10,
         "2025-09-13T14:59:21.000Z",
         "8048247156126318",
         "aiwithap@gmail.com",
         "OPTIMIZE",
         {
          "auto": "true",
          "batchId": "0",
          "clusterBy": "[]",
          "predicate": "[]",
          "zOrderBy": "[]"
         },
         null,
         [
          "2678599246042750"
         ],
         "0913-143628-33a1hlqh-v2n",
         9,
         "SnapshotIsolation",
         false,
         {
          "maxFileSize": "202980",
          "minFileSize": "202980",
          "numAddedBytes": "202980",
          "numAddedFiles": "1",
          "numDeletionVectorsRemoved": "1",
          "numRemovedBytes": "282515",
          "numRemovedFiles": "2",
          "p25FileSize": "202980",
          "p50FileSize": "202980",
          "p75FileSize": "202980"
         },
         null,
         "Databricks-Runtime/17.1.x-aarch64-photon-scala2.13"
        ],
        [
         9,
         "2025-09-13T14:59:18.000Z",
         "8048247156126318",
         "aiwithap@gmail.com",
         "UPDATE",
         {
          "predicate": "[\"(Item_Fat_Content#12409 = REGULAR)\"]"
         },
         null,
         [
          "2678599246042750"
         ],
         "0913-143628-33a1hlqh-v2n",
         7,
         "WriteSerializable",
         false,
         {
          "conflictDetectionTimeMs": "564",
          "executionTimeMs": "2137",
          "numAddedBytes": "79033",
          "numAddedChangeFiles": "0",
          "numAddedFiles": "1",
          "numCopiedRows": "0",
          "numDeletionVectorsAdded": "0",
          "numDeletionVectorsRemoved": "1",
          "numDeletionVectorsUpdated": "0",
          "numRemovedBytes": "204162",
          "numRemovedFiles": "1",
          "numUpdatedRows": "3006",
          "rewriteTimeMs": "1159",
          "scanTimeMs": "977"
         },
         null,
         "Databricks-Runtime/17.1.x-aarch64-photon-scala2.13"
        ],
        [
         8,
         "2025-09-13T14:59:16.000Z",
         "8048247156126318",
         "aiwithap@gmail.com",
         "OPTIMIZE",
         {
          "auto": "true",
          "batchId": "0",
          "clusterBy": "[]",
          "predicate": "[]",
          "zOrderBy": "[]"
         },
         null,
         [
          "2678599246042750"
         ],
         "0913-143628-33a1hlqh-v2n",
         7,
         "SnapshotIsolation",
         false,
         {
          "maxFileSize": "203482",
          "minFileSize": "203482",
          "numAddedBytes": "203482",
          "numAddedFiles": "1",
          "numDeletionVectorsRemoved": "1",
          "numRemovedBytes": "344095",
          "numRemovedFiles": "2",
          "p25FileSize": "203482",
          "p50FileSize": "203482",
          "p75FileSize": "203482"
         },
         null,
         "Databricks-Runtime/17.1.x-aarch64-photon-scala2.13"
        ],
        [
         7,
         "2025-09-13T14:59:13.000Z",
         "8048247156126318",
         "aiwithap@gmail.com",
         "UPDATE",
         {
          "predicate": "[\"(Item_Fat_Content#11886 = LOW_FAT)\"]"
         },
         null,
         [
          "2678599246042750"
         ],
         "0913-143628-33a1hlqh-v2n",
         6,
         "WriteSerializable",
         false,
         {
          "executionTimeMs": "3225",
          "numAddedBytes": "139933",
          "numAddedChangeFiles": "0",
          "numAddedFiles": "1",
          "numCopiedRows": "0",
          "numDeletionVectorsAdded": "1",
          "numDeletionVectorsRemoved": "0",
          "numDeletionVectorsUpdated": "0",
          "numRemovedBytes": "0",
          "numRemovedFiles": "0",
          "numUpdatedRows": "5517",
          "rewriteTimeMs": "1549",
          "scanTimeMs": "1630"
         },
         null,
         "Databricks-Runtime/17.1.x-aarch64-photon-scala2.13"
        ],
        [
         6,
         "2025-09-13T14:58:45.000Z",
         "8048247156126318",
         "aiwithap@gmail.com",
         "WRITE",
         {
          "mode": "Overwrite",
          "partitionBy": "[]",
          "statsOnLoad": "false"
         },
         null,
         [
          "2678599246042750"
         ],
         "0913-143628-33a1hlqh-v2n",
         5,
         "WriteSerializable",
         false,
         {
          "numFiles": "1",
          "numOutputBytes": "204162",
          "numOutputRows": "8523",
          "numRemovedBytes": "204879",
          "numRemovedFiles": "2"
         },
         null,
         "Databricks-Runtime/17.1.x-aarch64-photon-scala2.13"
        ],
        [
         5,
         "2025-09-09T18:08:36.000Z",
         "8048247156126318",
         "aiwithap@gmail.com",
         "WRITE",
         {
          "mode": "Append",
          "partitionBy": "[]",
          "statsOnLoad": "false"
         },
         null,
         [
          "2678599246042750"
         ],
         "0909-180515-4esqzrc8-v2n",
         4,
         "WriteSerializable",
         true,
         {
          "numFiles": "1",
          "numOutputBytes": "2090",
          "numOutputRows": "2"
         },
         null,
         "Databricks-Runtime/17.1.x-aarch64-photon-scala2.13"
        ],
        [
         4,
         "2025-09-09T18:07:58.000Z",
         "8048247156126318",
         "aiwithap@gmail.com",
         "OPTIMIZE",
         {
          "auto": "true",
          "batchId": "0",
          "clusterBy": "[]",
          "predicate": "[]",
          "zOrderBy": "[]"
         },
         null,
         [
          "2678599246042750"
         ],
         "0909-180515-4esqzrc8-v2n",
         3,
         "SnapshotIsolation",
         false,
         {
          "maxFileSize": "202789",
          "minFileSize": "202789",
          "numAddedBytes": "202789",
          "numAddedFiles": "1",
          "numDeletionVectorsRemoved": "1",
          "numRemovedBytes": "282138",
          "numRemovedFiles": "2",
          "p25FileSize": "202789",
          "p50FileSize": "202789",
          "p75FileSize": "202789"
         },
         null,
         "Databricks-Runtime/17.1.x-aarch64-photon-scala2.13"
        ],
        [
         3,
         "2025-09-09T18:07:55.000Z",
         "8048247156126318",
         "aiwithap@gmail.com",
         "UPDATE",
         {
          "predicate": "[\"(Item_Fat_Content#11980 = REGULAR)\"]"
         },
         null,
         [
          "2678599246042750"
         ],
         "0909-180515-4esqzrc8-v2n",
         1,
         "WriteSerializable",
         false,
         {
          "conflictDetectionTimeMs": "448",
          "executionTimeMs": "2341",
          "numAddedBytes": "78847",
          "numAddedChangeFiles": "0",
          "numAddedFiles": "1",
          "numCopiedRows": "0",
          "numDeletionVectorsAdded": "0",
          "numDeletionVectorsRemoved": "1",
          "numDeletionVectorsUpdated": "0",
          "numRemovedBytes": "204162",
          "numRemovedFiles": "1",
          "numUpdatedRows": "3006",
          "rewriteTimeMs": "1048",
          "scanTimeMs": "1289"
         },
         null,
         "Databricks-Runtime/17.1.x-aarch64-photon-scala2.13"
        ],
        [
         2,
         "2025-09-09T18:07:54.000Z",
         "8048247156126318",
         "aiwithap@gmail.com",
         "OPTIMIZE",
         {
          "auto": "true",
          "batchId": "0",
          "clusterBy": "[]",
          "predicate": "[]",
          "zOrderBy": "[]"
         },
         null,
         [
          "2678599246042750"
         ],
         "0909-180515-4esqzrc8-v2n",
         1,
         "SnapshotIsolation",
         false,
         {
          "maxFileSize": "203291",
          "minFileSize": "203291",
          "numAddedBytes": "203291",
          "numAddedFiles": "1",
          "numDeletionVectorsRemoved": "1",
          "numRemovedBytes": "343910",
          "numRemovedFiles": "2",
          "p25FileSize": "203291",
          "p50FileSize": "203291",
          "p75FileSize": "203291"
         },
         null,
         "Databricks-Runtime/17.1.x-aarch64-photon-scala2.13"
        ],
        [
         1,
         "2025-09-09T18:07:50.000Z",
         "8048247156126318",
         "aiwithap@gmail.com",
         "UPDATE",
         {
          "predicate": "[\"(Item_Fat_Content#11481 = LOW_FAT)\"]"
         },
         null,
         [
          "2678599246042750"
         ],
         "0909-180515-4esqzrc8-v2n",
         0,
         "WriteSerializable",
         false,
         {
          "executionTimeMs": "3871",
          "numAddedBytes": "139748",
          "numAddedChangeFiles": "0",
          "numAddedFiles": "1",
          "numCopiedRows": "0",
          "numDeletionVectorsAdded": "1",
          "numDeletionVectorsRemoved": "0",
          "numDeletionVectorsUpdated": "0",
          "numRemovedBytes": "0",
          "numRemovedFiles": "0",
          "numUpdatedRows": "5517",
          "rewriteTimeMs": "1933",
          "scanTimeMs": "1917"
         },
         null,
         "Databricks-Runtime/17.1.x-aarch64-photon-scala2.13"
        ],
        [
         0,
         "2025-09-09T18:07:28.000Z",
         "8048247156126318",
         "aiwithap@gmail.com",
         "WRITE",
         {
          "mode": "Overwrite",
          "partitionBy": "[]",
          "statsOnLoad": "false"
         },
         null,
         [
          "2678599246042750"
         ],
         "0909-180515-4esqzrc8-v2n",
         null,
         "WriteSerializable",
         false,
         {
          "numFiles": "1",
          "numOutputBytes": "204162",
          "numOutputRows": "8523",
          "numRemovedBytes": "0",
          "numRemovedFiles": "0"
         },
         null,
         "Databricks-Runtime/17.1.x-aarch64-photon-scala2.13"
        ]
       ],
       "datasetInfos": [],
       "dbfsResultPath": null,
       "isJsonSchema": true,
       "metadata": {},
       "overflow": false,
       "plotOptions": {
        "customPlotOptions": {},
        "displayType": "table",
        "pivotAggregation": null,
        "pivotColumns": null,
        "xColumns": null,
        "yColumns": null
       },
       "removedWidgets": [],
       "schema": [
        {
         "metadata": "{}",
         "name": "version",
         "type": "\"long\""
        },
        {
         "metadata": "{}",
         "name": "timestamp",
         "type": "\"timestamp\""
        },
        {
         "metadata": "{}",
         "name": "userId",
         "type": "\"string\""
        },
        {
         "metadata": "{}",
         "name": "userName",
         "type": "\"string\""
        },
        {
         "metadata": "{}",
         "name": "operation",
         "type": "\"string\""
        },
        {
         "metadata": "{}",
         "name": "operationParameters",
         "type": "{\"keyType\":\"string\",\"type\":\"map\",\"valueContainsNull\":true,\"valueType\":\"string\"}"
        },
        {
         "metadata": "{}",
         "name": "job",
         "type": "{\"fields\":[{\"metadata\":{},\"name\":\"jobId\",\"nullable\":true,\"type\":\"string\"},{\"metadata\":{},\"name\":\"jobName\",\"nullable\":true,\"type\":\"string\"},{\"metadata\":{},\"name\":\"jobRunId\",\"nullable\":true,\"type\":\"string\"},{\"metadata\":{},\"name\":\"runId\",\"nullable\":true,\"type\":\"string\"},{\"metadata\":{},\"name\":\"jobOwnerId\",\"nullable\":true,\"type\":\"string\"},{\"metadata\":{},\"name\":\"triggerType\",\"nullable\":true,\"type\":\"string\"}],\"type\":\"struct\"}"
        },
        {
         "metadata": "{}",
         "name": "notebook",
         "type": "{\"fields\":[{\"metadata\":{},\"name\":\"notebookId\",\"nullable\":true,\"type\":\"string\"}],\"type\":\"struct\"}"
        },
        {
         "metadata": "{}",
         "name": "clusterId",
         "type": "\"string\""
        },
        {
         "metadata": "{}",
         "name": "readVersion",
         "type": "\"long\""
        },
        {
         "metadata": "{}",
         "name": "isolationLevel",
         "type": "\"string\""
        },
        {
         "metadata": "{}",
         "name": "isBlindAppend",
         "type": "\"boolean\""
        },
        {
         "metadata": "{}",
         "name": "operationMetrics",
         "type": "{\"keyType\":\"string\",\"type\":\"map\",\"valueContainsNull\":true,\"valueType\":\"string\"}"
        },
        {
         "metadata": "{}",
         "name": "userMetadata",
         "type": "\"string\""
        },
        {
         "metadata": "{}",
         "name": "engineInfo",
         "type": "\"string\""
        }
       ],
       "type": "table"
      }
     },
     "output_type": "display_data"
    }
   ],
   "source": [
    "# Get the history of the Delta table\n",
    "display(delta_table.history())\n"
   ]
  },
  {
   "cell_type": "code",
   "execution_count": 0,
   "metadata": {
    "application/vnd.databricks.v1+cell": {
     "cellMetadata": {
      "byteLimit": 2048000,
      "rowLimit": 10000
     },
     "inputWidgets": {},
     "nuid": "06c45a19-6bac-4652-8a9b-d22684f1f37c",
     "showTitle": false,
     "tableResultSettingsMap": {},
     "title": ""
    }
   },
   "outputs": [
    {
     "output_type": "stream",
     "name": "stdout",
     "output_type": "stream",
     "text": [
      "Schema at version 0:\nroot\n |-- Item_Type: string (nullable = true)\n |-- Item_Identifier: string (nullable = true)\n |-- Item_Weight: double (nullable = true)\n |-- Item_Fat_Content: string (nullable = true)\n |-- Item_Visibility: double (nullable = true)\n |-- Item_MRP: double (nullable = true)\n |-- Outlet_Identifier: string (nullable = true)\n |-- Outlet_Establishment_Year: integer (nullable = true)\n |-- Outlet_Size: string (nullable = true)\n |-- Outlet_Location_Type: string (nullable = true)\n |-- Outlet_Type: string (nullable = true)\n |-- Item_Outlet_Sales: double (nullable = true)\n\n"
     ]
    }
   ],
   "source": [
    "# Time travel to a specific version\n",
    "# Let's read the data as it was before we added the new columns (version 0)\n",
    "original_df = spark.read.format(\"delta\").option(\"versionAsOf\", 0).load(delta_table_path)\n",
    "print(\"Schema at version 0:\")\n",
    "original_df.printSchema()  # Should not have Promotion_Type column"
   ]
  },
  {
   "cell_type": "code",
   "execution_count": 0,
   "metadata": {
    "application/vnd.databricks.v1+cell": {
     "cellMetadata": {
      "byteLimit": 2048000,
      "rowLimit": 10000
     },
     "inputWidgets": {},
     "nuid": "445f6c76-40d1-4cd7-acfc-4dc3315d84f5",
     "showTitle": false,
     "tableResultSettingsMap": {},
     "title": ""
    }
   },
   "outputs": [
    {
     "output_type": "display_data",
     "data": {
      "text/html": [
       "<style scoped>\n",
       "  .table-result-container {\n",
       "    max-height: 300px;\n",
       "    overflow: auto;\n",
       "  }\n",
       "  table, th, td {\n",
       "    border: 1px solid black;\n",
       "    border-collapse: collapse;\n",
       "  }\n",
       "  th, td {\n",
       "    padding: 5px;\n",
       "  }\n",
       "  th {\n",
       "    text-align: left;\n",
       "  }\n",
       "</style><div class='table-result-container'><table class='table-result'><thead style='background-color: white'><tr><th>Item_Type</th><th>Item_Identifier</th><th>Item_Weight</th><th>Item_Fat_Content</th><th>Item_Visibility</th><th>Item_MRP</th><th>Outlet_Identifier</th><th>Outlet_Establishment_Year</th><th>Outlet_Size</th><th>Outlet_Location_Type</th><th>Outlet_Type</th><th>Item_Outlet_Sales</th></tr></thead><tbody><tr><td>Dairy</td><td>FDA15</td><td>9.3</td><td>LOW_FAT</td><td>0.016047301</td><td>249.8092</td><td>OUT049</td><td>1999</td><td>Medium</td><td>Tier 1</td><td>Supermarket Type1</td><td>3735.138</td></tr><tr><td>Soft Drinks</td><td>DRC01</td><td>5.92</td><td>REGULAR</td><td>0.019278216</td><td>48.2692</td><td>OUT018</td><td>2009</td><td>Medium</td><td>Tier 3</td><td>Supermarket Type2</td><td>443.4228</td></tr><tr><td>Meat</td><td>FDN15</td><td>17.5</td><td>LOW_FAT</td><td>0.016760075</td><td>141.618</td><td>OUT049</td><td>1999</td><td>Medium</td><td>Tier 1</td><td>Supermarket Type1</td><td>2097.27</td></tr><tr><td>Fruits and Vegetables</td><td>FDX07</td><td>19.2</td><td>REGULAR</td><td>0.0</td><td>182.095</td><td>OUT010</td><td>1998</td><td>Medium</td><td>Tier 3</td><td>Grocery Store</td><td>732.38</td></tr><tr><td>Household</td><td>NCD19</td><td>8.93</td><td>LOW_FAT</td><td>0.0</td><td>53.8614</td><td>OUT013</td><td>1987</td><td>High</td><td>Tier 3</td><td>Supermarket Type1</td><td>994.7052</td></tr></tbody></table></div>"
      ]
     },
     "metadata": {
      "application/vnd.databricks.v1+output": {
       "addedWidgets": {},
       "aggData": [],
       "aggError": "",
       "aggOverflow": false,
       "aggSchema": [],
       "aggSeriesLimitReached": false,
       "aggType": "",
       "arguments": {},
       "columnCustomDisplayInfos": {},
       "data": [
        [
         "Dairy",
         "FDA15",
         9.3,
         "LOW_FAT",
         0.016047301,
         249.8092,
         "OUT049",
         1999,
         "Medium",
         "Tier 1",
         "Supermarket Type1",
         3735.138
        ],
        [
         "Soft Drinks",
         "DRC01",
         5.92,
         "REGULAR",
         0.019278216,
         48.2692,
         "OUT018",
         2009,
         "Medium",
         "Tier 3",
         "Supermarket Type2",
         443.4228
        ],
        [
         "Meat",
         "FDN15",
         17.5,
         "LOW_FAT",
         0.016760075,
         141.618,
         "OUT049",
         1999,
         "Medium",
         "Tier 1",
         "Supermarket Type1",
         2097.27
        ],
        [
         "Fruits and Vegetables",
         "FDX07",
         19.2,
         "REGULAR",
         0.0,
         182.095,
         "OUT010",
         1998,
         "Medium",
         "Tier 3",
         "Grocery Store",
         732.38
        ],
        [
         "Household",
         "NCD19",
         8.93,
         "LOW_FAT",
         0.0,
         53.8614,
         "OUT013",
         1987,
         "High",
         "Tier 3",
         "Supermarket Type1",
         994.7052
        ]
       ],
       "datasetInfos": [],
       "dbfsResultPath": null,
       "isJsonSchema": true,
       "metadata": {},
       "overflow": false,
       "plotOptions": {
        "customPlotOptions": {},
        "displayType": "table",
        "pivotAggregation": null,
        "pivotColumns": null,
        "xColumns": null,
        "yColumns": null
       },
       "removedWidgets": [],
       "schema": [
        {
         "metadata": "{}",
         "name": "Item_Type",
         "type": "\"string\""
        },
        {
         "metadata": "{}",
         "name": "Item_Identifier",
         "type": "\"string\""
        },
        {
         "metadata": "{}",
         "name": "Item_Weight",
         "type": "\"double\""
        },
        {
         "metadata": "{}",
         "name": "Item_Fat_Content",
         "type": "\"string\""
        },
        {
         "metadata": "{}",
         "name": "Item_Visibility",
         "type": "\"double\""
        },
        {
         "metadata": "{}",
         "name": "Item_MRP",
         "type": "\"double\""
        },
        {
         "metadata": "{}",
         "name": "Outlet_Identifier",
         "type": "\"string\""
        },
        {
         "metadata": "{}",
         "name": "Outlet_Establishment_Year",
         "type": "\"integer\""
        },
        {
         "metadata": "{}",
         "name": "Outlet_Size",
         "type": "\"string\""
        },
        {
         "metadata": "{}",
         "name": "Outlet_Location_Type",
         "type": "\"string\""
        },
        {
         "metadata": "{}",
         "name": "Outlet_Type",
         "type": "\"string\""
        },
        {
         "metadata": "{}",
         "name": "Item_Outlet_Sales",
         "type": "\"double\""
        }
       ],
       "type": "table"
      }
     },
     "output_type": "display_data"
    },
    {
     "output_type": "stream",
     "name": "stdout",
     "output_type": "stream",
     "text": [
      "The Delta table has 29 versions\n"
     ]
    }
   ],
   "source": [
    "# Time travel using a valid timestamp from Delta table history\n",
    "# Get the earliest commit timestamp\n",
    "history_df = delta_table.history()\n",
    "earliest_commit = history_df.orderBy(\"timestamp\").first()[\"timestamp\"]\n",
    "\n",
    "# Format timestamp for SQL (ISO8601)\n",
    "earliest_commit_str = earliest_commit.strftime('%Y-%m-%dT%H:%M:%S.%f')[:-3] + '+00:00'\n",
    "\n",
    "# Use the earliest available timestamp in the time travel query\n",
    "query = f\"\"\"\n",
    "SELECT * FROM delta.`{delta_table_path}` TIMESTAMP AS OF '{earliest_commit_str}'\n",
    "LIMIT 5\n",
    "\"\"\"\n",
    "display(spark.sql(query))\n",
    "\n",
    "# Check how many versions we have\n",
    "num_versions = len(history_df.collect())\n",
    "print(f\"The Delta table has {num_versions} versions\")"
   ]
  },
  {
   "cell_type": "markdown",
   "metadata": {
    "application/vnd.databricks.v1+cell": {
     "cellMetadata": {},
     "inputWidgets": {},
     "nuid": "08550367-7d80-41db-838e-d440824f23b5",
     "showTitle": false,
     "tableResultSettingsMap": {},
     "title": ""
    }
   },
   "source": [
    "### Merge Operations (Upserts)\n",
    "\n",
    "Delta Lake supports merge operations (upserts), which let you atomically insert, update, and delete data based on conditions."
   ]
  },
  {
   "cell_type": "code",
   "execution_count": 0,
   "metadata": {
    "application/vnd.databricks.v1+cell": {
     "cellMetadata": {
      "byteLimit": 2048000,
      "rowLimit": 10000
     },
     "inputWidgets": {},
     "nuid": "bb3403bf-60f1-4870-8000-a6a45d0bc2b3",
     "showTitle": false,
     "tableResultSettingsMap": {},
     "title": ""
    }
   },
   "outputs": [
    {
     "output_type": "display_data",
     "data": {
      "text/html": [
       "<style scoped>\n",
       "  .table-result-container {\n",
       "    max-height: 300px;\n",
       "    overflow: auto;\n",
       "  }\n",
       "  table, th, td {\n",
       "    border: 1px solid black;\n",
       "    border-collapse: collapse;\n",
       "  }\n",
       "  th, td {\n",
       "    padding: 5px;\n",
       "  }\n",
       "  th {\n",
       "    text-align: left;\n",
       "  }\n",
       "</style><div class='table-result-container'><table class='table-result'><thead style='background-color: white'><tr><th>Item_Identifier</th><th>Item_Fat_Content</th><th>Item_Type</th><th>Item_MRP</th><th>Outlet_Identifier</th><th>Outlet_Type</th><th>Promotion_Type</th></tr></thead><tbody><tr><td>NEW001</td><td>Low Fat</td><td>Snacks</td><td>155.0</td><td>OUT010</td><td>Supermarket Type1</td><td>Discount</td></tr><tr><td>NEW003</td><td>Low Fat</td><td>Baking Goods</td><td>125.0</td><td>OUT027</td><td>Supermarket Type3</td><td>None</td></tr><tr><td>NEW004</td><td>Regular</td><td>Frozen Foods</td><td>175.0</td><td>OUT045</td><td>Supermarket Type1</td><td>BOGO</td></tr></tbody></table></div>"
      ]
     },
     "metadata": {
      "application/vnd.databricks.v1+output": {
       "addedWidgets": {},
       "aggData": [],
       "aggError": "",
       "aggOverflow": false,
       "aggSchema": [],
       "aggSeriesLimitReached": false,
       "aggType": "",
       "arguments": {},
       "columnCustomDisplayInfos": {},
       "data": [
        [
         "NEW001",
         "Low Fat",
         "Snacks",
         155.0,
         "OUT010",
         "Supermarket Type1",
         "Discount"
        ],
        [
         "NEW003",
         "Low Fat",
         "Baking Goods",
         125.0,
         "OUT027",
         "Supermarket Type3",
         "None"
        ],
        [
         "NEW004",
         "Regular",
         "Frozen Foods",
         175.0,
         "OUT045",
         "Supermarket Type1",
         "BOGO"
        ]
       ],
       "datasetInfos": [],
       "dbfsResultPath": null,
       "isJsonSchema": true,
       "metadata": {},
       "overflow": false,
       "plotOptions": {
        "customPlotOptions": {},
        "displayType": "table",
        "pivotAggregation": null,
        "pivotColumns": null,
        "xColumns": null,
        "yColumns": null
       },
       "removedWidgets": [],
       "schema": [
        {
         "metadata": "{}",
         "name": "Item_Identifier",
         "type": "\"string\""
        },
        {
         "metadata": "{}",
         "name": "Item_Fat_Content",
         "type": "\"string\""
        },
        {
         "metadata": "{}",
         "name": "Item_Type",
         "type": "\"string\""
        },
        {
         "metadata": "{}",
         "name": "Item_MRP",
         "type": "\"double\""
        },
        {
         "metadata": "{}",
         "name": "Outlet_Identifier",
         "type": "\"string\""
        },
        {
         "metadata": "{}",
         "name": "Outlet_Type",
         "type": "\"string\""
        },
        {
         "metadata": "{}",
         "name": "Promotion_Type",
         "type": "\"string\""
        }
       ],
       "type": "table"
      }
     },
     "output_type": "display_data"
    }
   ],
   "source": [
    "from pyspark.sql import Row\n",
    "# Create source data for a merge operation\n",
    "# This will have both updates to existing rows and new rows\n",
    "source_data = [\n",
    "    # Updated rows (same Item_Identifier but different values)\n",
    "    Row(\n",
    "        Item_Identifier=\"NEW001\", \n",
    "        Item_Fat_Content=\"Low Fat\", \n",
    "        Item_Type=\"Snacks\", \n",
    "        Item_MRP=155.0,  # Updated price\n",
    "        Outlet_Identifier=\"OUT010\", \n",
    "        Outlet_Type=\"Supermarket Type1\", \n",
    "        Promotion_Type=\"Discount\"  # Updated promotion\n",
    "    ),\n",
    "    # New rows\n",
    "    Row(\n",
    "        Item_Identifier=\"NEW003\", \n",
    "        Item_Fat_Content=\"Low Fat\", \n",
    "        Item_Type=\"Baking Goods\", \n",
    "        Item_MRP=125.0, \n",
    "        Outlet_Identifier=\"OUT027\", \n",
    "        Outlet_Type=\"Supermarket Type3\", \n",
    "        Promotion_Type=\"None\"\n",
    "    ),\n",
    "    Row(\n",
    "        Item_Identifier=\"NEW004\", \n",
    "        Item_Fat_Content=\"Regular\", \n",
    "        Item_Type=\"Frozen Foods\", \n",
    "        Item_MRP=175.0, \n",
    "        Outlet_Identifier=\"OUT045\", \n",
    "        Outlet_Type=\"Supermarket Type1\", \n",
    "        Promotion_Type=\"BOGO\"\n",
    "    )\n",
    "]\n",
    "\n",
    "source_df = spark.createDataFrame(source_data)\n",
    "display(source_df)"
   ]
  },
  {
   "cell_type": "code",
   "execution_count": 0,
   "metadata": {
    "application/vnd.databricks.v1+cell": {
     "cellMetadata": {
      "byteLimit": 2048000,
      "rowLimit": 10000
     },
     "inputWidgets": {},
     "nuid": "59f2ea39-be96-4193-b92a-6eeabdd126fd",
     "showTitle": false,
     "tableResultSettingsMap": {},
     "title": ""
    }
   },
   "outputs": [
    {
     "output_type": "execute_result",
     "data": {
      "text/plain": [
       "DataFrame[num_affected_rows: bigint, num_updated_rows: bigint, num_deleted_rows: bigint, num_inserted_rows: bigint]"
      ]
     },
     "execution_count": 19,
     "metadata": {},
     "output_type": "execute_result"
    }
   ],
   "source": [
    "# Perform a merge operation\n",
    "delta_table.alias(\"target\").merge(\n",
    "    source_df.alias(\"source\"),\n",
    "    \"target.Item_Identifier = source.Item_Identifier\"\n",
    ").whenMatchedUpdate(set={\n",
    "    \"Item_MRP\": \"source.Item_MRP\",\n",
    "    \"Promotion_Type\": \"source.Promotion_Type\"\n",
    "}).whenNotMatchedInsert(values={\n",
    "    \"Item_Identifier\": \"source.Item_Identifier\",\n",
    "    \"Item_Fat_Content\": \"source.Item_Fat_Content\",\n",
    "    \"Item_Type\": \"source.Item_Type\",\n",
    "    \"Item_MRP\": \"source.Item_MRP\",\n",
    "    \"Outlet_Identifier\": \"source.Outlet_Identifier\",\n",
    "    \"Outlet_Type\": \"source.Outlet_Type\",\n",
    "    \"Promotion_Type\": \"source.Promotion_Type\"\n",
    "}).execute()"
   ]
  },
  {
   "cell_type": "code",
   "execution_count": 0,
   "metadata": {
    "application/vnd.databricks.v1+cell": {
     "cellMetadata": {
      "byteLimit": 2048000,
      "rowLimit": 10000
     },
     "inputWidgets": {},
     "nuid": "4fc630b2-3a6e-4630-b63b-0dd17affc1b8",
     "showTitle": false,
     "tableResultSettingsMap": {},
     "title": ""
    }
   },
   "outputs": [
    {
     "output_type": "display_data",
     "data": {
      "text/html": [
       "<style scoped>\n",
       "  .table-result-container {\n",
       "    max-height: 300px;\n",
       "    overflow: auto;\n",
       "  }\n",
       "  table, th, td {\n",
       "    border: 1px solid black;\n",
       "    border-collapse: collapse;\n",
       "  }\n",
       "  th, td {\n",
       "    padding: 5px;\n",
       "  }\n",
       "  th {\n",
       "    text-align: left;\n",
       "  }\n",
       "</style><div class='table-result-container'><table class='table-result'><thead style='background-color: white'><tr><th>Item_Identifier</th><th>Item_Type</th><th>Item_MRP</th><th>Promotion_Type</th></tr></thead><tbody><tr><td>NEW001</td><td>Snacks</td><td>155.0</td><td>Discount</td></tr><tr><td>NEW001</td><td>Snacks</td><td>155.0</td><td>Discount</td></tr><tr><td>NEW002</td><td>Dairy</td><td>85.0</td><td>None</td></tr><tr><td>NEW002</td><td>Dairy</td><td>85.0</td><td>None</td></tr><tr><td>NEW003</td><td>Baking Goods</td><td>125.0</td><td>None</td></tr><tr><td>NEW004</td><td>Frozen Foods</td><td>175.0</td><td>BOGO</td></tr></tbody></table></div>"
      ]
     },
     "metadata": {
      "application/vnd.databricks.v1+output": {
       "addedWidgets": {},
       "aggData": [],
       "aggError": "",
       "aggOverflow": false,
       "aggSchema": [],
       "aggSeriesLimitReached": false,
       "aggType": "",
       "arguments": {},
       "columnCustomDisplayInfos": {},
       "data": [
        [
         "NEW001",
         "Snacks",
         155.0,
         "Discount"
        ],
        [
         "NEW001",
         "Snacks",
         155.0,
         "Discount"
        ],
        [
         "NEW002",
         "Dairy",
         85.0,
         "None"
        ],
        [
         "NEW002",
         "Dairy",
         85.0,
         "None"
        ],
        [
         "NEW003",
         "Baking Goods",
         125.0,
         "None"
        ],
        [
         "NEW004",
         "Frozen Foods",
         175.0,
         "BOGO"
        ]
       ],
       "datasetInfos": [],
       "dbfsResultPath": null,
       "isJsonSchema": true,
       "metadata": {},
       "overflow": false,
       "plotOptions": {
        "customPlotOptions": {},
        "displayType": "table",
        "pivotAggregation": null,
        "pivotColumns": null,
        "xColumns": null,
        "yColumns": null
       },
       "removedWidgets": [],
       "schema": [
        {
         "metadata": "{}",
         "name": "Item_Identifier",
         "type": "\"string\""
        },
        {
         "metadata": "{}",
         "name": "Item_Type",
         "type": "\"string\""
        },
        {
         "metadata": "{}",
         "name": "Item_MRP",
         "type": "\"double\""
        },
        {
         "metadata": "{}",
         "name": "Promotion_Type",
         "type": "\"string\""
        }
       ],
       "type": "table"
      }
     },
     "output_type": "display_data"
    },
    {
     "output_type": "display_data",
     "data": {
      "text/html": [
       "<style scoped>\n",
       "  .table-result-container {\n",
       "    max-height: 300px;\n",
       "    overflow: auto;\n",
       "  }\n",
       "  table, th, td {\n",
       "    border: 1px solid black;\n",
       "    border-collapse: collapse;\n",
       "  }\n",
       "  th, td {\n",
       "    padding: 5px;\n",
       "  }\n",
       "  th {\n",
       "    text-align: left;\n",
       "  }\n",
       "</style><div class='table-result-container'><table class='table-result'><thead style='background-color: white'><tr><th>version</th><th>timestamp</th><th>userId</th><th>userName</th><th>operation</th><th>operationParameters</th><th>job</th><th>notebook</th><th>clusterId</th><th>readVersion</th><th>isolationLevel</th><th>isBlindAppend</th><th>operationMetrics</th><th>userMetadata</th><th>engineInfo</th></tr></thead><tbody><tr><td>30</td><td>2025-09-15T18:03:18.000Z</td><td>8048247156126318</td><td>aiwithap@gmail.com</td><td>OPTIMIZE</td><td>Map(predicate -> [], auto -> true, clusterBy -> [], zOrderBy -> [], batchId -> 0)</td><td>null</td><td>List(2678599246042750)</td><td>0915-175131-8xcaaaqy-v2n</td><td>29</td><td>SnapshotIsolation</td><td>false</td><td>Map(numRemovedFiles -> 6, numRemovedBytes -> 216823, p25FileSize -> 204229, numDeletionVectorsRemoved -> 2, minFileSize -> 204229, numAddedFiles -> 1, maxFileSize -> 204229, p75FileSize -> 204229, p50FileSize -> 204229, numAddedBytes -> 204229)</td><td>null</td><td>Databricks-Runtime/17.1.x-aarch64-photon-scala2.13</td></tr><tr><td>29</td><td>2025-09-15T18:03:16.000Z</td><td>8048247156126318</td><td>aiwithap@gmail.com</td><td>MERGE</td><td>Map(predicate -> [\"(Item_Identifier#13792 = Item_Identifier#13766)\"], clusterBy -> [], matchedPredicates -> [{\"actionType\":\"update\"}], statsOnLoad -> false, notMatchedBySourcePredicates -> [], notMatchedPredicates -> [{\"actionType\":\"insert\"}])</td><td>null</td><td>List(2678599246042750)</td><td>0915-175131-8xcaaaqy-v2n</td><td>28</td><td>WriteSerializable</td><td>false</td><td>Map(numTargetRowsCopied -> 0, numTargetRowsDeleted -> 0, numTargetFilesAdded -> 3, numTargetBytesAdded -> 9663, numTargetBytesRemoved -> 0, numTargetDeletionVectorsAdded -> 2, numTargetRowsMatchedUpdated -> 2, executionTimeMs -> 3726, materializeSourceTimeMs -> 335, numTargetRowsInserted -> 2, numTargetRowsMatchedDeleted -> 0, numTargetDeletionVectorsUpdated -> 0, scanTimeMs -> 1316, numTargetRowsUpdated -> 2, numOutputRows -> 4, numTargetDeletionVectorsRemoved -> 0, numTargetRowsNotMatchedBySourceUpdated -> 0, numTargetChangeFilesAdded -> 0, numSourceRows -> 3, numTargetFilesRemoved -> 0, numTargetRowsNotMatchedBySourceDeleted -> 0, rewriteTimeMs -> 1966)</td><td>null</td><td>Databricks-Runtime/17.1.x-aarch64-photon-scala2.13</td></tr><tr><td>28</td><td>2025-09-15T18:01:29.000Z</td><td>8048247156126318</td><td>aiwithap@gmail.com</td><td>WRITE</td><td>Map(mode -> Append, statsOnLoad -> false, partitionBy -> [])</td><td>null</td><td>List(2678599246042750)</td><td>0915-175131-8xcaaaqy-v2n</td><td>27</td><td>WriteSerializable</td><td>true</td><td>Map(numFiles -> 1, numOutputRows -> 2, numOutputBytes -> 2090)</td><td>null</td><td>Databricks-Runtime/17.1.x-aarch64-photon-scala2.13</td></tr></tbody></table></div>"
      ]
     },
     "metadata": {
      "application/vnd.databricks.v1+output": {
       "addedWidgets": {},
       "aggData": [],
       "aggError": "",
       "aggOverflow": false,
       "aggSchema": [],
       "aggSeriesLimitReached": false,
       "aggType": "",
       "arguments": {},
       "columnCustomDisplayInfos": {},
       "data": [
        [
         30,
         "2025-09-15T18:03:18.000Z",
         "8048247156126318",
         "aiwithap@gmail.com",
         "OPTIMIZE",
         {
          "auto": "true",
          "batchId": "0",
          "clusterBy": "[]",
          "predicate": "[]",
          "zOrderBy": "[]"
         },
         null,
         [
          "2678599246042750"
         ],
         "0915-175131-8xcaaaqy-v2n",
         29,
         "SnapshotIsolation",
         false,
         {
          "maxFileSize": "204229",
          "minFileSize": "204229",
          "numAddedBytes": "204229",
          "numAddedFiles": "1",
          "numDeletionVectorsRemoved": "2",
          "numRemovedBytes": "216823",
          "numRemovedFiles": "6",
          "p25FileSize": "204229",
          "p50FileSize": "204229",
          "p75FileSize": "204229"
         },
         null,
         "Databricks-Runtime/17.1.x-aarch64-photon-scala2.13"
        ],
        [
         29,
         "2025-09-15T18:03:16.000Z",
         "8048247156126318",
         "aiwithap@gmail.com",
         "MERGE",
         {
          "clusterBy": "[]",
          "matchedPredicates": "[{\"actionType\":\"update\"}]",
          "notMatchedBySourcePredicates": "[]",
          "notMatchedPredicates": "[{\"actionType\":\"insert\"}]",
          "predicate": "[\"(Item_Identifier#13792 = Item_Identifier#13766)\"]",
          "statsOnLoad": "false"
         },
         null,
         [
          "2678599246042750"
         ],
         "0915-175131-8xcaaaqy-v2n",
         28,
         "WriteSerializable",
         false,
         {
          "executionTimeMs": "3726",
          "materializeSourceTimeMs": "335",
          "numOutputRows": "4",
          "numSourceRows": "3",
          "numTargetBytesAdded": "9663",
          "numTargetBytesRemoved": "0",
          "numTargetChangeFilesAdded": "0",
          "numTargetDeletionVectorsAdded": "2",
          "numTargetDeletionVectorsRemoved": "0",
          "numTargetDeletionVectorsUpdated": "0",
          "numTargetFilesAdded": "3",
          "numTargetFilesRemoved": "0",
          "numTargetRowsCopied": "0",
          "numTargetRowsDeleted": "0",
          "numTargetRowsInserted": "2",
          "numTargetRowsMatchedDeleted": "0",
          "numTargetRowsMatchedUpdated": "2",
          "numTargetRowsNotMatchedBySourceDeleted": "0",
          "numTargetRowsNotMatchedBySourceUpdated": "0",
          "numTargetRowsUpdated": "2",
          "rewriteTimeMs": "1966",
          "scanTimeMs": "1316"
         },
         null,
         "Databricks-Runtime/17.1.x-aarch64-photon-scala2.13"
        ],
        [
         28,
         "2025-09-15T18:01:29.000Z",
         "8048247156126318",
         "aiwithap@gmail.com",
         "WRITE",
         {
          "mode": "Append",
          "partitionBy": "[]",
          "statsOnLoad": "false"
         },
         null,
         [
          "2678599246042750"
         ],
         "0915-175131-8xcaaaqy-v2n",
         27,
         "WriteSerializable",
         true,
         {
          "numFiles": "1",
          "numOutputBytes": "2090",
          "numOutputRows": "2"
         },
         null,
         "Databricks-Runtime/17.1.x-aarch64-photon-scala2.13"
        ]
       ],
       "datasetInfos": [],
       "dbfsResultPath": null,
       "isJsonSchema": true,
       "metadata": {},
       "overflow": false,
       "plotOptions": {
        "customPlotOptions": {},
        "displayType": "table",
        "pivotAggregation": null,
        "pivotColumns": null,
        "xColumns": null,
        "yColumns": null
       },
       "removedWidgets": [],
       "schema": [
        {
         "metadata": "{}",
         "name": "version",
         "type": "\"long\""
        },
        {
         "metadata": "{}",
         "name": "timestamp",
         "type": "\"timestamp\""
        },
        {
         "metadata": "{}",
         "name": "userId",
         "type": "\"string\""
        },
        {
         "metadata": "{}",
         "name": "userName",
         "type": "\"string\""
        },
        {
         "metadata": "{}",
         "name": "operation",
         "type": "\"string\""
        },
        {
         "metadata": "{}",
         "name": "operationParameters",
         "type": "{\"keyType\":\"string\",\"type\":\"map\",\"valueContainsNull\":true,\"valueType\":\"string\"}"
        },
        {
         "metadata": "{}",
         "name": "job",
         "type": "{\"fields\":[{\"metadata\":{},\"name\":\"jobId\",\"nullable\":true,\"type\":\"string\"},{\"metadata\":{},\"name\":\"jobName\",\"nullable\":true,\"type\":\"string\"},{\"metadata\":{},\"name\":\"jobRunId\",\"nullable\":true,\"type\":\"string\"},{\"metadata\":{},\"name\":\"runId\",\"nullable\":true,\"type\":\"string\"},{\"metadata\":{},\"name\":\"jobOwnerId\",\"nullable\":true,\"type\":\"string\"},{\"metadata\":{},\"name\":\"triggerType\",\"nullable\":true,\"type\":\"string\"}],\"type\":\"struct\"}"
        },
        {
         "metadata": "{}",
         "name": "notebook",
         "type": "{\"fields\":[{\"metadata\":{},\"name\":\"notebookId\",\"nullable\":true,\"type\":\"string\"}],\"type\":\"struct\"}"
        },
        {
         "metadata": "{}",
         "name": "clusterId",
         "type": "\"string\""
        },
        {
         "metadata": "{}",
         "name": "readVersion",
         "type": "\"long\""
        },
        {
         "metadata": "{}",
         "name": "isolationLevel",
         "type": "\"string\""
        },
        {
         "metadata": "{}",
         "name": "isBlindAppend",
         "type": "\"boolean\""
        },
        {
         "metadata": "{}",
         "name": "operationMetrics",
         "type": "{\"keyType\":\"string\",\"type\":\"map\",\"valueContainsNull\":true,\"valueType\":\"string\"}"
        },
        {
         "metadata": "{}",
         "name": "userMetadata",
         "type": "\"string\""
        },
        {
         "metadata": "{}",
         "name": "engineInfo",
         "type": "\"string\""
        }
       ],
       "type": "table"
      }
     },
     "output_type": "display_data"
    }
   ],
   "source": [
    "# Check the results of the merge\n",
    "merged_df = spark.read.format(\"delta\").load(delta_table_path)\n",
    "display(merged_df.filter(col(\"Item_Identifier\").startswith(\"NEW\")).select(\n",
    "    \"Item_Identifier\", \"Item_Type\", \"Item_MRP\", \"Promotion_Type\"\n",
    ").orderBy(\"Item_Identifier\"))\n",
    "\n",
    "# Check the history again to see the merge operation\n",
    "display(delta_table.history().limit(3))"
   ]
  },
  {
   "cell_type": "markdown",
   "metadata": {
    "application/vnd.databricks.v1+cell": {
     "cellMetadata": {},
     "inputWidgets": {},
     "nuid": "8f633749-dfcf-4266-92d8-0e355ad3cff6",
     "showTitle": false,
     "tableResultSettingsMap": {},
     "title": ""
    }
   },
   "source": [
    "### Delta Lake Optimizations\n",
    "\n",
    "Delta Lake provides several optimizations to improve query performance:\n",
    "\n",
    "1. **OPTIMIZE**: Compacts small files into larger ones\n",
    "2. **ZORDER**: Colocates related data for faster filtering\n",
    "3. **VACUUM**: Removes old versions to reclaim storage"
   ]
  },
  {
   "cell_type": "code",
   "execution_count": 0,
   "metadata": {
    "application/vnd.databricks.v1+cell": {
     "cellMetadata": {
      "byteLimit": 2048000,
      "rowLimit": 10000
     },
     "inputWidgets": {},
     "nuid": "fa70bf45-ad27-4a33-a849-3008d8692e2b",
     "showTitle": false,
     "tableResultSettingsMap": {},
     "title": ""
    }
   },
   "outputs": [
    {
     "output_type": "stream",
     "name": "stdout",
     "output_type": "stream",
     "text": [
      "Compaction completed\nZ-Order optimization completed\n"
     ]
    }
   ],
   "source": [
    "# Optimize the Delta table to improve performance\n",
    "delta_table.optimize().executeCompaction()\n",
    "print(\"Compaction completed\")\n",
    "\n",
    "# Z-Order by columns that are frequently used for filtering\n",
    "delta_table.optimize().executeZOrderBy(\"Item_Type\", \"Outlet_Type\")\n",
    "print(\"Z-Order optimization completed\")\n"
   ]
  },
  {
   "cell_type": "code",
   "execution_count": 0,
   "metadata": {
    "application/vnd.databricks.v1+cell": {
     "cellMetadata": {
      "byteLimit": 2048000,
      "rowLimit": 10000
     },
     "inputWidgets": {},
     "nuid": "6a79636c-e456-4c76-9865-90038b9d9cb9",
     "showTitle": false,
     "tableResultSettingsMap": {},
     "title": ""
    }
   },
   "outputs": [
    {
     "output_type": "stream",
     "name": "stdout",
     "output_type": "stream",
     "text": [
      "Vacuum completed\n"
     ]
    }
   ],
   "source": [
    "# Vacuum old files (using a short retention period for demo)\n",
    "delta_table.vacuum(170)  # 170 hours retention\n",
    "print(\"Vacuum completed\")"
   ]
  },
  {
   "cell_type": "code",
   "execution_count": 0,
   "metadata": {
    "application/vnd.databricks.v1+cell": {
     "cellMetadata": {
      "byteLimit": 2048000,
      "rowLimit": 10000
     },
     "inputWidgets": {},
     "nuid": "7c1cbc65-7e6a-4979-b6d9-cd752424cfef",
     "showTitle": false,
     "tableResultSettingsMap": {},
     "title": ""
    }
   },
   "outputs": [
    {
     "output_type": "stream",
     "name": "stdout",
     "output_type": "stream",
     "text": [
      "Vacuum completed\n"
     ]
    },
    {
     "output_type": "display_data",
     "data": {
      "text/html": [
       "<style scoped>\n",
       "  .table-result-container {\n",
       "    max-height: 300px;\n",
       "    overflow: auto;\n",
       "  }\n",
       "  table, th, td {\n",
       "    border: 1px solid black;\n",
       "    border-collapse: collapse;\n",
       "  }\n",
       "  th, td {\n",
       "    padding: 5px;\n",
       "  }\n",
       "  th {\n",
       "    text-align: left;\n",
       "  }\n",
       "</style><div class='table-result-container'><table class='table-result'><thead style='background-color: white'><tr><th>path</th><th>name</th><th>size</th><th>modificationTime</th></tr></thead><tbody><tr><td>dbfs:/Volumes/workspace/default/spark_workshop/delta/sales/_delta_log/</td><td>_delta_log/</td><td>0</td><td>1757959644882</td></tr><tr><td>dbfs:/Volumes/workspace/default/spark_workshop/delta/sales/deletion_vector_0701663f-2c0d-46d3-8eea-957c7845717d.bin</td><td>deletion_vector_0701663f-2c0d-46d3-8eea-957c7845717d.bin</td><td>6092</td><td>1757441274000</td></tr><tr><td>dbfs:/Volumes/workspace/default/spark_workshop/delta/sales/deletion_vector_0a5032e0-97ee-4bae-9b94-53042f4000b9.bin</td><td>deletion_vector_0a5032e0-97ee-4bae-9b94-53042f4000b9.bin</td><td>40</td><td>1757441275000</td></tr><tr><td>dbfs:/Volumes/workspace/default/spark_workshop/delta/sales/deletion_vector_30a44695-93c6-447d-bdae-0abf64625937.bin</td><td>deletion_vector_30a44695-93c6-447d-bdae-0abf64625937.bin</td><td>7692</td><td>1757441268000</td></tr><tr><td>dbfs:/Volumes/workspace/default/spark_workshop/delta/sales/deletion_vector_35f32b8b-61b1-47be-85ab-dbd1613dc4eb.bin</td><td>deletion_vector_35f32b8b-61b1-47be-85ab-dbd1613dc4eb.bin</td><td>6092</td><td>1757777623000</td></tr><tr><td>dbfs:/Volumes/workspace/default/spark_workshop/delta/sales/deletion_vector_46dfb757-bb19-40ac-a883-69d523e9546f.bin</td><td>deletion_vector_46dfb757-bb19-40ac-a883-69d523e9546f.bin</td><td>7692</td><td>1757775551000</td></tr><tr><td>dbfs:/Volumes/workspace/default/spark_workshop/delta/sales/deletion_vector_4828c9e2-3572-4079-9aa5-cd8a2cc643cb.bin</td><td>deletion_vector_4828c9e2-3572-4079-9aa5-cd8a2cc643cb.bin</td><td>6092</td><td>1757775555000</td></tr><tr><td>dbfs:/Volumes/workspace/default/spark_workshop/delta/sales/deletion_vector_6ddfd443-e78c-411c-9121-0e0712949324.bin</td><td>deletion_vector_6ddfd443-e78c-411c-9121-0e0712949324.bin</td><td>7692</td><td>1757959258000</td></tr><tr><td>dbfs:/Volumes/workspace/default/spark_workshop/delta/sales/deletion_vector_70f48d90-2f57-460a-947e-8bc4f699d986.bin</td><td>deletion_vector_70f48d90-2f57-460a-947e-8bc4f699d986.bin</td><td>40</td><td>1757777625000</td></tr><tr><td>dbfs:/Volumes/workspace/default/spark_workshop/delta/sales/deletion_vector_7e21e7f6-f337-4c22-8710-4ee21e24ce6d.bin</td><td>deletion_vector_7e21e7f6-f337-4c22-8710-4ee21e24ce6d.bin</td><td>7692</td><td>1757777618000</td></tr><tr><td>dbfs:/Volumes/workspace/default/spark_workshop/delta/sales/deletion_vector_803efbc7-83f0-4d35-8cac-4d5ecc7c602b.bin</td><td>deletion_vector_803efbc7-83f0-4d35-8cac-4d5ecc7c602b.bin</td><td>6092</td><td>1757959263000</td></tr><tr><td>dbfs:/Volumes/workspace/default/spark_workshop/delta/sales/deletion_vector_98436fa7-5777-4069-8843-3b2e42c4b3c7.bin</td><td>deletion_vector_98436fa7-5777-4069-8843-3b2e42c4b3c7.bin</td><td>40</td><td>1757959265000</td></tr><tr><td>dbfs:/Volumes/workspace/default/spark_workshop/delta/sales/deletion_vector_dc510e53-a3b1-4409-9e88-00b115c06cc4.bin</td><td>deletion_vector_dc510e53-a3b1-4409-9e88-00b115c06cc4.bin</td><td>40</td><td>1757775557000</td></tr><tr><td>dbfs:/Volumes/workspace/default/spark_workshop/delta/sales/deletion_vector_ef23bce2-f15b-4491-a855-0a41ee6a887f.bin</td><td>deletion_vector_ef23bce2-f15b-4491-a855-0a41ee6a887f.bin</td><td>169</td><td>1757777685000</td></tr><tr><td>dbfs:/Volumes/workspace/default/spark_workshop/delta/sales/deletion_vector_f1ca7ac1-5a46-4156-9b17-117f6ab19ea0.bin</td><td>deletion_vector_f1ca7ac1-5a46-4156-9b17-117f6ab19ea0.bin</td><td>169</td><td>1757959394000</td></tr><tr><td>dbfs:/Volumes/workspace/default/spark_workshop/delta/sales/part-00000-0e78264d-2e04-475a-bcc2-167214cc9241.c000.snappy.parquet</td><td>part-00000-0e78264d-2e04-475a-bcc2-167214cc9241.c000.snappy.parquet</td><td>203482</td><td>1757777623000</td></tr><tr><td>dbfs:/Volumes/workspace/default/spark_workshop/delta/sales/part-00000-1a75baa3-0e65-44b3-a70d-e085548903c5.c000.snappy.parquet</td><td>part-00000-1a75baa3-0e65-44b3-a70d-e085548903c5.c000.snappy.parquet</td><td>78847</td><td>1757441274000</td></tr><tr><td>dbfs:/Volumes/workspace/default/spark_workshop/delta/sales/part-00000-2665aa1a-ea34-494e-bf5b-a5c3dfbd3397.c000.snappy.parquet</td><td>part-00000-2665aa1a-ea34-494e-bf5b-a5c3dfbd3397.c000.snappy.parquet</td><td>2090</td><td>1757777644000</td></tr><tr><td>dbfs:/Volumes/workspace/default/spark_workshop/delta/sales/part-00000-2bfa68f4-bfbd-4304-9196-89ffe03f3d0d.c000.snappy.parquet</td><td>part-00000-2bfa68f4-bfbd-4304-9196-89ffe03f3d0d.c000.snappy.parquet</td><td>2090</td><td>1757959288000</td></tr><tr><td>dbfs:/Volumes/workspace/default/spark_workshop/delta/sales/part-00000-2cd30f81-1dd2-4756-93e7-25cb0fffda70.c000.snappy.parquet</td><td>part-00000-2cd30f81-1dd2-4756-93e7-25cb0fffda70.c000.snappy.parquet</td><td>204229</td><td>1757777689000</td></tr><tr><td>dbfs:/Volumes/workspace/default/spark_workshop/delta/sales/part-00000-2f90e6f5-8967-4253-834a-c2468e2e751a.c000.snappy.parquet</td><td>part-00000-2f90e6f5-8967-4253-834a-c2468e2e751a.c000.snappy.parquet</td><td>79033</td><td>1757959264000</td></tr><tr><td>dbfs:/Volumes/workspace/default/spark_workshop/delta/sales/part-00000-3ef4f8d0-fd47-4263-8fbf-8885f3a6cf40.c000.snappy.parquet</td><td>part-00000-3ef4f8d0-fd47-4263-8fbf-8885f3a6cf40.c000.snappy.parquet</td><td>2090</td><td>1757441315000</td></tr><tr><td>dbfs:/Volumes/workspace/default/spark_workshop/delta/sales/part-00000-4464bcd7-5e2f-44e6-b90c-dbc082d1cbdf.c000.snappy.parquet</td><td>part-00000-4464bcd7-5e2f-44e6-b90c-dbc082d1cbdf.c000.snappy.parquet</td><td>139933</td><td>1757777619000</td></tr><tr><td>dbfs:/Volumes/workspace/default/spark_workshop/delta/sales/part-00000-4941ef14-3af2-4baf-b152-23f00908fd1f.c000.snappy.parquet</td><td>part-00000-4941ef14-3af2-4baf-b152-23f00908fd1f.c000.snappy.parquet</td><td>3351</td><td>1757777686000</td></tr><tr><td>dbfs:/Volumes/workspace/default/spark_workshop/delta/sales/part-00000-5331943f-76b5-45f5-9988-aa9b8b373127.c000.snappy.parquet</td><td>part-00000-5331943f-76b5-45f5-9988-aa9b8b373127.c000.snappy.parquet</td><td>139748</td><td>1757441269000</td></tr><tr><td>dbfs:/Volumes/workspace/default/spark_workshop/delta/sales/part-00000-5f62bdc0-29e8-44a5-ab06-d7f88135017f.c000.snappy.parquet</td><td>part-00000-5f62bdc0-29e8-44a5-ab06-d7f88135017f.c000.snappy.parquet</td><td>203482</td><td>1757959263000</td></tr><tr><td>dbfs:/Volumes/workspace/default/spark_workshop/delta/sales/part-00000-67c40fb9-297a-4ced-9375-33ba352550fd.c000.snappy.parquet</td><td>part-00000-67c40fb9-297a-4ced-9375-33ba352550fd.c000.snappy.parquet</td><td>204229</td><td>1757959398000</td></tr><tr><td>dbfs:/Volumes/workspace/default/spark_workshop/delta/sales/part-00000-702bea44-519c-4395-bbb3-22a4cff7328e.c000.snappy.parquet</td><td>part-00000-702bea44-519c-4395-bbb3-22a4cff7328e.c000.snappy.parquet</td><td>2090</td><td>1757775582000</td></tr><tr><td>dbfs:/Volumes/workspace/default/spark_workshop/delta/sales/part-00000-7c4c45bd-b112-4299-9c7a-0ed29e9bce7f.c000.snappy.parquet</td><td>part-00000-7c4c45bd-b112-4299-9c7a-0ed29e9bce7f.c000.snappy.parquet</td><td>203482</td><td>1757775555000</td></tr><tr><td>dbfs:/Volumes/workspace/default/spark_workshop/delta/sales/part-00000-8e9387c4-6c88-4b75-abd1-bf438f38ad71.c000.snappy.parquet</td><td>part-00000-8e9387c4-6c88-4b75-abd1-bf438f38ad71.c000.snappy.parquet</td><td>79033</td><td>1757777624000</td></tr><tr><td>dbfs:/Volumes/workspace/default/spark_workshop/delta/sales/part-00000-92c47a68-23ec-4952-880b-6d678cf9d5f2.c000.snappy.parquet</td><td>part-00000-92c47a68-23ec-4952-880b-6d678cf9d5f2.c000.snappy.parquet</td><td>204162</td><td>1757775524000</td></tr><tr><td>dbfs:/Volumes/workspace/default/spark_workshop/delta/sales/part-00000-956ff534-81f7-4fd3-8159-f0d61349c364.c000.snappy.parquet</td><td>part-00000-956ff534-81f7-4fd3-8159-f0d61349c364.c000.snappy.parquet</td><td>2090</td><td>1757959289000</td></tr><tr><td>dbfs:/Volumes/workspace/default/spark_workshop/delta/sales/part-00000-99faabec-1aa9-4dff-b74e-2102553e6f33.c000.snappy.parquet</td><td>part-00000-99faabec-1aa9-4dff-b74e-2102553e6f33.c000.snappy.parquet</td><td>139933</td><td>1757775552000</td></tr><tr><td>dbfs:/Volumes/workspace/default/spark_workshop/delta/sales/part-00000-9cc3923d-d98c-430a-8327-267d9353178a.c000.snappy.parquet</td><td>part-00000-9cc3923d-d98c-430a-8327-267d9353178a.c000.snappy.parquet</td><td>139933</td><td>1757959259000</td></tr><tr><td>dbfs:/Volumes/workspace/default/spark_workshop/delta/sales/part-00000-b5b052c7-5aaa-48d3-810a-6a81f4a634e0.c000.snappy.parquet</td><td>part-00000-b5b052c7-5aaa-48d3-810a-6a81f4a634e0.c000.snappy.parquet</td><td>202789</td><td>1757441277000</td></tr><tr><td>dbfs:/Volumes/workspace/default/spark_workshop/delta/sales/part-00000-b7c86fb9-38f7-4f85-b3d3-4bffda122702.c000.snappy.parquet</td><td>part-00000-b7c86fb9-38f7-4f85-b3d3-4bffda122702.c000.snappy.parquet</td><td>204162</td><td>1757777609000</td></tr><tr><td>dbfs:/Volumes/workspace/default/spark_workshop/delta/sales/part-00000-becf6132-814f-46be-af40-1e02ef546770.c000.snappy.parquet</td><td>part-00000-becf6132-814f-46be-af40-1e02ef546770.c000.snappy.parquet</td><td>2090</td><td>1757777645000</td></tr><tr><td>dbfs:/Volumes/workspace/default/spark_workshop/delta/sales/part-00000-bfcf5cf8-e514-4a51-8959-42bcaeb77af5.c000.snappy.parquet</td><td>part-00000-bfcf5cf8-e514-4a51-8959-42bcaeb77af5.c000.snappy.parquet</td><td>2090</td><td>1757775583000</td></tr><tr><td>dbfs:/Volumes/workspace/default/spark_workshop/delta/sales/part-00000-c3688fcc-d688-43d6-91b3-d742e5c8fd8c.c000.snappy.parquet</td><td>part-00000-c3688fcc-d688-43d6-91b3-d742e5c8fd8c.c000.snappy.parquet</td><td>3351</td><td>1757959396000</td></tr><tr><td>dbfs:/Volumes/workspace/default/spark_workshop/delta/sales/part-00000-c4fee664-0b89-4bd1-92de-91d745c370bd.c000.snappy.parquet</td><td>part-00000-c4fee664-0b89-4bd1-92de-91d745c370bd.c000.snappy.parquet</td><td>204162</td><td>1757441246000</td></tr><tr><td>dbfs:/Volumes/workspace/default/spark_workshop/delta/sales/part-00000-c9087a2a-2efa-4961-bb4a-5e4e30de1399.c000.snappy.parquet</td><td>part-00000-c9087a2a-2efa-4961-bb4a-5e4e30de1399.c000.snappy.parquet</td><td>202980</td><td>1757959267000</td></tr><tr><td>dbfs:/Volumes/workspace/default/spark_workshop/delta/sales/part-00000-c9ddb778-0a63-4e08-9f24-8332a6ab34da.c000.snappy.parquet</td><td>part-00000-c9ddb778-0a63-4e08-9f24-8332a6ab34da.c000.snappy.parquet</td><td>79033</td><td>1757775556000</td></tr><tr><td>dbfs:/Volumes/workspace/default/spark_workshop/delta/sales/part-00000-d1886ddc-5a6d-42dc-97f7-7fa12b83bb40.c000.snappy.parquet</td><td>part-00000-d1886ddc-5a6d-42dc-97f7-7fa12b83bb40.c000.snappy.parquet</td><td>204162</td><td>1757959238000</td></tr><tr><td>dbfs:/Volumes/workspace/default/spark_workshop/delta/sales/part-00000-e2f4f037-72a8-460c-85ae-8ee8fb96447a.c000.snappy.parquet</td><td>part-00000-e2f4f037-72a8-460c-85ae-8ee8fb96447a.c000.snappy.parquet</td><td>203291</td><td>1757441273000</td></tr><tr><td>dbfs:/Volumes/workspace/default/spark_workshop/delta/sales/part-00000-f04c53d4-5596-462e-a025-95fc756b8cc2.c000.snappy.parquet</td><td>part-00000-f04c53d4-5596-462e-a025-95fc756b8cc2.c000.snappy.parquet</td><td>202980</td><td>1757775560000</td></tr><tr><td>dbfs:/Volumes/workspace/default/spark_workshop/delta/sales/part-00000-f3c4573c-a99a-486e-b1ee-1fb298f2bfb1.c000.snappy.parquet</td><td>part-00000-f3c4573c-a99a-486e-b1ee-1fb298f2bfb1.c000.snappy.parquet</td><td>202980</td><td>1757777627000</td></tr><tr><td>dbfs:/Volumes/workspace/default/spark_workshop/delta/sales/part-00001-13307792-626a-4230-a581-d836d3c18cba.c000.snappy.parquet</td><td>part-00001-13307792-626a-4230-a581-d836d3c18cba.c000.snappy.parquet</td><td>3157</td><td>1757777687000</td></tr><tr><td>dbfs:/Volumes/workspace/default/spark_workshop/delta/sales/part-00001-73dee5db-576b-4c2c-9379-bd4187b76b73.c000.snappy.parquet</td><td>part-00001-73dee5db-576b-4c2c-9379-bd4187b76b73.c000.snappy.parquet</td><td>3157</td><td>1757959396000</td></tr><tr><td>dbfs:/Volumes/workspace/default/spark_workshop/delta/sales/part-00002-5ae7fa93-d1d4-4835-aa1a-5e81b7b08205.c000.snappy.parquet</td><td>part-00002-5ae7fa93-d1d4-4835-aa1a-5e81b7b08205.c000.snappy.parquet</td><td>3155</td><td>1757777687000</td></tr><tr><td>dbfs:/Volumes/workspace/default/spark_workshop/delta/sales/part-00002-61079c8b-b13b-4ada-abb6-f471c50f9d32.c000.snappy.parquet</td><td>part-00002-61079c8b-b13b-4ada-abb6-f471c50f9d32.c000.snappy.parquet</td><td>3155</td><td>1757959395000</td></tr></tbody></table></div>"
      ]
     },
     "metadata": {
      "application/vnd.databricks.v1+output": {
       "addedWidgets": {},
       "aggData": [],
       "aggError": "",
       "aggOverflow": false,
       "aggSchema": [],
       "aggSeriesLimitReached": false,
       "aggType": "",
       "arguments": {},
       "columnCustomDisplayInfos": {},
       "data": [
        [
         "dbfs:/Volumes/workspace/default/spark_workshop/delta/sales/_delta_log/",
         "_delta_log/",
         0,
         1757959644882
        ],
        [
         "dbfs:/Volumes/workspace/default/spark_workshop/delta/sales/deletion_vector_0701663f-2c0d-46d3-8eea-957c7845717d.bin",
         "deletion_vector_0701663f-2c0d-46d3-8eea-957c7845717d.bin",
         6092,
         1757441274000
        ],
        [
         "dbfs:/Volumes/workspace/default/spark_workshop/delta/sales/deletion_vector_0a5032e0-97ee-4bae-9b94-53042f4000b9.bin",
         "deletion_vector_0a5032e0-97ee-4bae-9b94-53042f4000b9.bin",
         40,
         1757441275000
        ],
        [
         "dbfs:/Volumes/workspace/default/spark_workshop/delta/sales/deletion_vector_30a44695-93c6-447d-bdae-0abf64625937.bin",
         "deletion_vector_30a44695-93c6-447d-bdae-0abf64625937.bin",
         7692,
         1757441268000
        ],
        [
         "dbfs:/Volumes/workspace/default/spark_workshop/delta/sales/deletion_vector_35f32b8b-61b1-47be-85ab-dbd1613dc4eb.bin",
         "deletion_vector_35f32b8b-61b1-47be-85ab-dbd1613dc4eb.bin",
         6092,
         1757777623000
        ],
        [
         "dbfs:/Volumes/workspace/default/spark_workshop/delta/sales/deletion_vector_46dfb757-bb19-40ac-a883-69d523e9546f.bin",
         "deletion_vector_46dfb757-bb19-40ac-a883-69d523e9546f.bin",
         7692,
         1757775551000
        ],
        [
         "dbfs:/Volumes/workspace/default/spark_workshop/delta/sales/deletion_vector_4828c9e2-3572-4079-9aa5-cd8a2cc643cb.bin",
         "deletion_vector_4828c9e2-3572-4079-9aa5-cd8a2cc643cb.bin",
         6092,
         1757775555000
        ],
        [
         "dbfs:/Volumes/workspace/default/spark_workshop/delta/sales/deletion_vector_6ddfd443-e78c-411c-9121-0e0712949324.bin",
         "deletion_vector_6ddfd443-e78c-411c-9121-0e0712949324.bin",
         7692,
         1757959258000
        ],
        [
         "dbfs:/Volumes/workspace/default/spark_workshop/delta/sales/deletion_vector_70f48d90-2f57-460a-947e-8bc4f699d986.bin",
         "deletion_vector_70f48d90-2f57-460a-947e-8bc4f699d986.bin",
         40,
         1757777625000
        ],
        [
         "dbfs:/Volumes/workspace/default/spark_workshop/delta/sales/deletion_vector_7e21e7f6-f337-4c22-8710-4ee21e24ce6d.bin",
         "deletion_vector_7e21e7f6-f337-4c22-8710-4ee21e24ce6d.bin",
         7692,
         1757777618000
        ],
        [
         "dbfs:/Volumes/workspace/default/spark_workshop/delta/sales/deletion_vector_803efbc7-83f0-4d35-8cac-4d5ecc7c602b.bin",
         "deletion_vector_803efbc7-83f0-4d35-8cac-4d5ecc7c602b.bin",
         6092,
         1757959263000
        ],
        [
         "dbfs:/Volumes/workspace/default/spark_workshop/delta/sales/deletion_vector_98436fa7-5777-4069-8843-3b2e42c4b3c7.bin",
         "deletion_vector_98436fa7-5777-4069-8843-3b2e42c4b3c7.bin",
         40,
         1757959265000
        ],
        [
         "dbfs:/Volumes/workspace/default/spark_workshop/delta/sales/deletion_vector_dc510e53-a3b1-4409-9e88-00b115c06cc4.bin",
         "deletion_vector_dc510e53-a3b1-4409-9e88-00b115c06cc4.bin",
         40,
         1757775557000
        ],
        [
         "dbfs:/Volumes/workspace/default/spark_workshop/delta/sales/deletion_vector_ef23bce2-f15b-4491-a855-0a41ee6a887f.bin",
         "deletion_vector_ef23bce2-f15b-4491-a855-0a41ee6a887f.bin",
         169,
         1757777685000
        ],
        [
         "dbfs:/Volumes/workspace/default/spark_workshop/delta/sales/deletion_vector_f1ca7ac1-5a46-4156-9b17-117f6ab19ea0.bin",
         "deletion_vector_f1ca7ac1-5a46-4156-9b17-117f6ab19ea0.bin",
         169,
         1757959394000
        ],
        [
         "dbfs:/Volumes/workspace/default/spark_workshop/delta/sales/part-00000-0e78264d-2e04-475a-bcc2-167214cc9241.c000.snappy.parquet",
         "part-00000-0e78264d-2e04-475a-bcc2-167214cc9241.c000.snappy.parquet",
         203482,
         1757777623000
        ],
        [
         "dbfs:/Volumes/workspace/default/spark_workshop/delta/sales/part-00000-1a75baa3-0e65-44b3-a70d-e085548903c5.c000.snappy.parquet",
         "part-00000-1a75baa3-0e65-44b3-a70d-e085548903c5.c000.snappy.parquet",
         78847,
         1757441274000
        ],
        [
         "dbfs:/Volumes/workspace/default/spark_workshop/delta/sales/part-00000-2665aa1a-ea34-494e-bf5b-a5c3dfbd3397.c000.snappy.parquet",
         "part-00000-2665aa1a-ea34-494e-bf5b-a5c3dfbd3397.c000.snappy.parquet",
         2090,
         1757777644000
        ],
        [
         "dbfs:/Volumes/workspace/default/spark_workshop/delta/sales/part-00000-2bfa68f4-bfbd-4304-9196-89ffe03f3d0d.c000.snappy.parquet",
         "part-00000-2bfa68f4-bfbd-4304-9196-89ffe03f3d0d.c000.snappy.parquet",
         2090,
         1757959288000
        ],
        [
         "dbfs:/Volumes/workspace/default/spark_workshop/delta/sales/part-00000-2cd30f81-1dd2-4756-93e7-25cb0fffda70.c000.snappy.parquet",
         "part-00000-2cd30f81-1dd2-4756-93e7-25cb0fffda70.c000.snappy.parquet",
         204229,
         1757777689000
        ],
        [
         "dbfs:/Volumes/workspace/default/spark_workshop/delta/sales/part-00000-2f90e6f5-8967-4253-834a-c2468e2e751a.c000.snappy.parquet",
         "part-00000-2f90e6f5-8967-4253-834a-c2468e2e751a.c000.snappy.parquet",
         79033,
         1757959264000
        ],
        [
         "dbfs:/Volumes/workspace/default/spark_workshop/delta/sales/part-00000-3ef4f8d0-fd47-4263-8fbf-8885f3a6cf40.c000.snappy.parquet",
         "part-00000-3ef4f8d0-fd47-4263-8fbf-8885f3a6cf40.c000.snappy.parquet",
         2090,
         1757441315000
        ],
        [
         "dbfs:/Volumes/workspace/default/spark_workshop/delta/sales/part-00000-4464bcd7-5e2f-44e6-b90c-dbc082d1cbdf.c000.snappy.parquet",
         "part-00000-4464bcd7-5e2f-44e6-b90c-dbc082d1cbdf.c000.snappy.parquet",
         139933,
         1757777619000
        ],
        [
         "dbfs:/Volumes/workspace/default/spark_workshop/delta/sales/part-00000-4941ef14-3af2-4baf-b152-23f00908fd1f.c000.snappy.parquet",
         "part-00000-4941ef14-3af2-4baf-b152-23f00908fd1f.c000.snappy.parquet",
         3351,
         1757777686000
        ],
        [
         "dbfs:/Volumes/workspace/default/spark_workshop/delta/sales/part-00000-5331943f-76b5-45f5-9988-aa9b8b373127.c000.snappy.parquet",
         "part-00000-5331943f-76b5-45f5-9988-aa9b8b373127.c000.snappy.parquet",
         139748,
         1757441269000
        ],
        [
         "dbfs:/Volumes/workspace/default/spark_workshop/delta/sales/part-00000-5f62bdc0-29e8-44a5-ab06-d7f88135017f.c000.snappy.parquet",
         "part-00000-5f62bdc0-29e8-44a5-ab06-d7f88135017f.c000.snappy.parquet",
         203482,
         1757959263000
        ],
        [
         "dbfs:/Volumes/workspace/default/spark_workshop/delta/sales/part-00000-67c40fb9-297a-4ced-9375-33ba352550fd.c000.snappy.parquet",
         "part-00000-67c40fb9-297a-4ced-9375-33ba352550fd.c000.snappy.parquet",
         204229,
         1757959398000
        ],
        [
         "dbfs:/Volumes/workspace/default/spark_workshop/delta/sales/part-00000-702bea44-519c-4395-bbb3-22a4cff7328e.c000.snappy.parquet",
         "part-00000-702bea44-519c-4395-bbb3-22a4cff7328e.c000.snappy.parquet",
         2090,
         1757775582000
        ],
        [
         "dbfs:/Volumes/workspace/default/spark_workshop/delta/sales/part-00000-7c4c45bd-b112-4299-9c7a-0ed29e9bce7f.c000.snappy.parquet",
         "part-00000-7c4c45bd-b112-4299-9c7a-0ed29e9bce7f.c000.snappy.parquet",
         203482,
         1757775555000
        ],
        [
         "dbfs:/Volumes/workspace/default/spark_workshop/delta/sales/part-00000-8e9387c4-6c88-4b75-abd1-bf438f38ad71.c000.snappy.parquet",
         "part-00000-8e9387c4-6c88-4b75-abd1-bf438f38ad71.c000.snappy.parquet",
         79033,
         1757777624000
        ],
        [
         "dbfs:/Volumes/workspace/default/spark_workshop/delta/sales/part-00000-92c47a68-23ec-4952-880b-6d678cf9d5f2.c000.snappy.parquet",
         "part-00000-92c47a68-23ec-4952-880b-6d678cf9d5f2.c000.snappy.parquet",
         204162,
         1757775524000
        ],
        [
         "dbfs:/Volumes/workspace/default/spark_workshop/delta/sales/part-00000-956ff534-81f7-4fd3-8159-f0d61349c364.c000.snappy.parquet",
         "part-00000-956ff534-81f7-4fd3-8159-f0d61349c364.c000.snappy.parquet",
         2090,
         1757959289000
        ],
        [
         "dbfs:/Volumes/workspace/default/spark_workshop/delta/sales/part-00000-99faabec-1aa9-4dff-b74e-2102553e6f33.c000.snappy.parquet",
         "part-00000-99faabec-1aa9-4dff-b74e-2102553e6f33.c000.snappy.parquet",
         139933,
         1757775552000
        ],
        [
         "dbfs:/Volumes/workspace/default/spark_workshop/delta/sales/part-00000-9cc3923d-d98c-430a-8327-267d9353178a.c000.snappy.parquet",
         "part-00000-9cc3923d-d98c-430a-8327-267d9353178a.c000.snappy.parquet",
         139933,
         1757959259000
        ],
        [
         "dbfs:/Volumes/workspace/default/spark_workshop/delta/sales/part-00000-b5b052c7-5aaa-48d3-810a-6a81f4a634e0.c000.snappy.parquet",
         "part-00000-b5b052c7-5aaa-48d3-810a-6a81f4a634e0.c000.snappy.parquet",
         202789,
         1757441277000
        ],
        [
         "dbfs:/Volumes/workspace/default/spark_workshop/delta/sales/part-00000-b7c86fb9-38f7-4f85-b3d3-4bffda122702.c000.snappy.parquet",
         "part-00000-b7c86fb9-38f7-4f85-b3d3-4bffda122702.c000.snappy.parquet",
         204162,
         1757777609000
        ],
        [
         "dbfs:/Volumes/workspace/default/spark_workshop/delta/sales/part-00000-becf6132-814f-46be-af40-1e02ef546770.c000.snappy.parquet",
         "part-00000-becf6132-814f-46be-af40-1e02ef546770.c000.snappy.parquet",
         2090,
         1757777645000
        ],
        [
         "dbfs:/Volumes/workspace/default/spark_workshop/delta/sales/part-00000-bfcf5cf8-e514-4a51-8959-42bcaeb77af5.c000.snappy.parquet",
         "part-00000-bfcf5cf8-e514-4a51-8959-42bcaeb77af5.c000.snappy.parquet",
         2090,
         1757775583000
        ],
        [
         "dbfs:/Volumes/workspace/default/spark_workshop/delta/sales/part-00000-c3688fcc-d688-43d6-91b3-d742e5c8fd8c.c000.snappy.parquet",
         "part-00000-c3688fcc-d688-43d6-91b3-d742e5c8fd8c.c000.snappy.parquet",
         3351,
         1757959396000
        ],
        [
         "dbfs:/Volumes/workspace/default/spark_workshop/delta/sales/part-00000-c4fee664-0b89-4bd1-92de-91d745c370bd.c000.snappy.parquet",
         "part-00000-c4fee664-0b89-4bd1-92de-91d745c370bd.c000.snappy.parquet",
         204162,
         1757441246000
        ],
        [
         "dbfs:/Volumes/workspace/default/spark_workshop/delta/sales/part-00000-c9087a2a-2efa-4961-bb4a-5e4e30de1399.c000.snappy.parquet",
         "part-00000-c9087a2a-2efa-4961-bb4a-5e4e30de1399.c000.snappy.parquet",
         202980,
         1757959267000
        ],
        [
         "dbfs:/Volumes/workspace/default/spark_workshop/delta/sales/part-00000-c9ddb778-0a63-4e08-9f24-8332a6ab34da.c000.snappy.parquet",
         "part-00000-c9ddb778-0a63-4e08-9f24-8332a6ab34da.c000.snappy.parquet",
         79033,
         1757775556000
        ],
        [
         "dbfs:/Volumes/workspace/default/spark_workshop/delta/sales/part-00000-d1886ddc-5a6d-42dc-97f7-7fa12b83bb40.c000.snappy.parquet",
         "part-00000-d1886ddc-5a6d-42dc-97f7-7fa12b83bb40.c000.snappy.parquet",
         204162,
         1757959238000
        ],
        [
         "dbfs:/Volumes/workspace/default/spark_workshop/delta/sales/part-00000-e2f4f037-72a8-460c-85ae-8ee8fb96447a.c000.snappy.parquet",
         "part-00000-e2f4f037-72a8-460c-85ae-8ee8fb96447a.c000.snappy.parquet",
         203291,
         1757441273000
        ],
        [
         "dbfs:/Volumes/workspace/default/spark_workshop/delta/sales/part-00000-f04c53d4-5596-462e-a025-95fc756b8cc2.c000.snappy.parquet",
         "part-00000-f04c53d4-5596-462e-a025-95fc756b8cc2.c000.snappy.parquet",
         202980,
         1757775560000
        ],
        [
         "dbfs:/Volumes/workspace/default/spark_workshop/delta/sales/part-00000-f3c4573c-a99a-486e-b1ee-1fb298f2bfb1.c000.snappy.parquet",
         "part-00000-f3c4573c-a99a-486e-b1ee-1fb298f2bfb1.c000.snappy.parquet",
         202980,
         1757777627000
        ],
        [
         "dbfs:/Volumes/workspace/default/spark_workshop/delta/sales/part-00001-13307792-626a-4230-a581-d836d3c18cba.c000.snappy.parquet",
         "part-00001-13307792-626a-4230-a581-d836d3c18cba.c000.snappy.parquet",
         3157,
         1757777687000
        ],
        [
         "dbfs:/Volumes/workspace/default/spark_workshop/delta/sales/part-00001-73dee5db-576b-4c2c-9379-bd4187b76b73.c000.snappy.parquet",
         "part-00001-73dee5db-576b-4c2c-9379-bd4187b76b73.c000.snappy.parquet",
         3157,
         1757959396000
        ],
        [
         "dbfs:/Volumes/workspace/default/spark_workshop/delta/sales/part-00002-5ae7fa93-d1d4-4835-aa1a-5e81b7b08205.c000.snappy.parquet",
         "part-00002-5ae7fa93-d1d4-4835-aa1a-5e81b7b08205.c000.snappy.parquet",
         3155,
         1757777687000
        ],
        [
         "dbfs:/Volumes/workspace/default/spark_workshop/delta/sales/part-00002-61079c8b-b13b-4ada-abb6-f471c50f9d32.c000.snappy.parquet",
         "part-00002-61079c8b-b13b-4ada-abb6-f471c50f9d32.c000.snappy.parquet",
         3155,
         1757959395000
        ]
       ],
       "datasetInfos": [],
       "dbfsResultPath": null,
       "isJsonSchema": true,
       "metadata": {},
       "overflow": false,
       "plotOptions": {
        "customPlotOptions": {},
        "displayType": "table",
        "pivotAggregation": null,
        "pivotColumns": null,
        "xColumns": null,
        "yColumns": null
       },
       "removedWidgets": [],
       "schema": [
        {
         "metadata": "{}",
         "name": "path",
         "type": "\"string\""
        },
        {
         "metadata": "{}",
         "name": "name",
         "type": "\"string\""
        },
        {
         "metadata": "{}",
         "name": "size",
         "type": "\"long\""
        },
        {
         "metadata": "{}",
         "name": "modificationTime",
         "type": "\"long\""
        }
       ],
       "type": "table"
      }
     },
     "output_type": "display_data"
    }
   ],
   "source": [
    "# Disable retention duration safety check for demo purposes (not recommended for production)\n",
    "#spark.conf.set(\"spark.databricks.delta.retentionDurationCheck.enabled\", False)\n",
    "\n",
    "# Vacuum old files (using a short retention period for demo)\n",
    "#delta_table.vacuum(10)  # 10 hours retention\n",
    "print(\"Vacuum completed\")\n",
    "\n",
    "# Check file size distribution (this is approximate in Databricks)\n",
    "display(dbutils.fs.ls(delta_table_path))"
   ]
  },
  {
   "cell_type": "markdown",
   "metadata": {
    "application/vnd.databricks.v1+cell": {
     "cellMetadata": {},
     "inputWidgets": {},
     "nuid": "56e48cf2-70fc-4ce6-a8d7-a87cd6c43668",
     "showTitle": false,
     "tableResultSettingsMap": {},
     "title": ""
    }
   },
   "source": [
    "## Data Validation and Quality Framework\n",
    "\n",
    "Data quality is critical for any data processing application. Let's build a simple data validation framework to check data quality using PySpark.\n",
    "\n",
    "Our framework will include:\n",
    "1. **Range validation**: Check if values are within expected ranges\n",
    "2. **Uniqueness checks**: Verify primary key constraints\n",
    "3. **Pattern validation**: Ensure text fields match expected formats\n",
    "4. **Referential integrity**: Check foreign key relationships\n",
    "5. **Null/missing value detection**: Identify incomplete data\n",
    "6. **Data freshness**: Verify data is up-to-date"
   ]
  },
  {
   "cell_type": "code",
   "execution_count": 0,
   "metadata": {
    "application/vnd.databricks.v1+cell": {
     "cellMetadata": {
      "byteLimit": 2048000,
      "rowLimit": 10000
     },
     "inputWidgets": {},
     "nuid": "131472f6-73c0-43a5-b0b0-b41324cf4e78",
     "showTitle": false,
     "tableResultSettingsMap": {},
     "title": ""
    }
   },
   "outputs": [],
   "source": [
    "# Let's create a simple DataValidator class to handle data quality checks\n",
    "from pyspark.sql.functions import col, count, when, isnan, regexp_extract, to_date, datediff, current_date\n",
    "from typing import List, Dict, Any, Optional\n",
    "import re\n",
    "from pyspark.sql import Row, types as T\n",
    "\n",
    "class DataValidator:\n",
    "    def __init__(self, df):\n",
    "        \"\"\"Initialize with a DataFrame to validate.\"\"\"\n",
    "        self.df = df\n",
    "        self.validation_results = []\n",
    "    \n",
    "    def validate_range(self, column_name: str, min_value: float, max_value: float, \n",
    "                      filter_condition: Optional[str] = None) -> 'DataValidator':\n",
    "        \"\"\"Check if values in a column are within the specified range.\"\"\"\n",
    "        if filter_condition:\n",
    "            filtered_df = self.df.filter(filter_condition)\n",
    "        else:\n",
    "            filtered_df = self.df\n",
    "        \n",
    "        out_of_range = filtered_df.filter(\n",
    "                              (col(column_name) < min_value) | (col(column_name) > max_value)\n",
    "                               ).count()\n",
    "        \n",
    "        total = filtered_df.count()\n",
    "        \n",
    "        if total > 0:\n",
    "            percentage = float(out_of_range) / float(total) * 100.0\n",
    "        else:\n",
    "            percentage = 0.0\n",
    "        \n",
    "        result = {\n",
    "            \"validation_type\": \"range_check\",\n",
    "            \"column_name\": column_name,\n",
    "            \"min_value\": float(min_value),\n",
    "            \"max_value\": float(max_value),\n",
    "            \"filter_condition\": filter_condition,\n",
    "            \"out_of_range_count\": float(out_of_range),\n",
    "            \"total_count\": float(total),\n",
    "            \"out_of_range_percentage\": float(percentage),\n",
    "            \"passed\": out_of_range == 0\n",
    "        }\n",
    "        \n",
    "        self.validation_results.append(result)\n",
    "        return self\n",
    "    \n",
    "    def validate_unique(self, column_names: List[str]) -> 'DataValidator':\n",
    "        \"\"\"Check if the specified columns form a unique key.\"\"\"\n",
    "        total = self.df.count()\n",
    "        distinct = self.df.select(column_names).distinct().count()\n",
    "        \n",
    "        result = {\n",
    "            \"validation_type\": \"uniqueness_check\",\n",
    "            \"column_names\": column_names,\n",
    "            \"total_count\": float(total),\n",
    "            \"distinct_count\": float(distinct),\n",
    "            \"duplicate_count\": float(total - distinct),\n",
    "            \"passed\": total == distinct\n",
    "        }\n",
    "        \n",
    "        self.validation_results.append(result)\n",
    "        return self\n",
    "    \n",
    "    def validate_pattern(self, column_name: str, pattern: str) -> 'DataValidator':\n",
    "        \"\"\"Check if values in a column match the specified regex pattern.\"\"\"\n",
    "        # Count non-null values\n",
    "        total_non_null = self.df.filter(col(column_name).isNotNull()).count()\n",
    "        \n",
    "        # Count values matching the pattern\n",
    "        matching = self.df.filter(\n",
    "            col(column_name).isNotNull() & \n",
    "            (regexp_extract(col(column_name), pattern, 0) == col(column_name))\n",
    "        ).count()\n",
    "        \n",
    "        non_matching = total_non_null - matching\n",
    "        \n",
    "        result = {\n",
    "            \"validation_type\": \"pattern_check\",\n",
    "            \"column_name\": column_name,\n",
    "            \"pattern\": pattern,\n",
    "            \"total_non_null\": float(total_non_null),\n",
    "            \"matching_count\": float(matching),\n",
    "            \"non_matching_count\": float(non_matching),\n",
    "            \"passed\": non_matching == 0\n",
    "        }\n",
    "        \n",
    "        self.validation_results.append(result)\n",
    "        return self\n",
    "    \n",
    "    def validate_referential_integrity(self, source_column: str, \n",
    "                                      target_df, target_column: str) -> 'DataValidator':\n",
    "        \"\"\"Check if values in source_column exist in target_column of target_df.\"\"\"\n",
    "        # Get distinct values from source column\n",
    "        source_values = self.df.select(source_column).distinct()\n",
    "        \n",
    "        # Get distinct values from target column\n",
    "        target_values = target_df.select(target_column).distinct()\n",
    "        \n",
    "        # Find values in source that don't exist in target\n",
    "        missing_values = source_values.join(\n",
    "            target_values,\n",
    "            source_values[source_column] == target_values[target_column],\n",
    "            \"left_anti\"\n",
    "        )\n",
    "        \n",
    "        missing_count = missing_values.count()\n",
    "        total_count = source_values.count()\n",
    "        \n",
    "        result = {\n",
    "            \"validation_type\": \"referential_integrity\",\n",
    "            \"source_column\": source_column,\n",
    "            \"target_column\": target_column,\n",
    "            \"total_distinct_source_values\": float(total_count),\n",
    "            \"missing_values_count\": float(missing_count),\n",
    "            \"passed\": missing_count == 0\n",
    "        }\n",
    "        \n",
    "        self.validation_results.append(result)\n",
    "        return self\n",
    "    \n",
    "    def validate_freshness(self, date_column: str, max_days_old: int) -> 'DataValidator':\n",
    "        \"\"\"Check if data is not older than specified number of days.\"\"\"\n",
    "        if date_column not in self.df.columns:\n",
    "            result = {\n",
    "                \"validation_type\": \"freshness_check\",\n",
    "                \"column_name\": date_column,\n",
    "                \"error\": f\"Column {date_column} not found in DataFrame\",\n",
    "                \"passed\": False\n",
    "            }\n",
    "        else:\n",
    "            # Calculate the age of each record in days\n",
    "            with_age = self.df.withColumn(\n",
    "                \"age_in_days\", \n",
    "                datediff(current_date(), col(date_column))\n",
    "            )\n",
    "            \n",
    "            # Count records that are too old\n",
    "            too_old_count = with_age.filter(col(\"age_in_days\") > max_days_old).count()\n",
    "            total_count = with_age.count()\n",
    "            \n",
    "            result = {\n",
    "                \"validation_type\": \"freshness_check\",\n",
    "                \"column_name\": date_column,\n",
    "                \"max_days_old\": float(max_days_old),\n",
    "                \"too_old_count\": float(too_old_count),\n",
    "                \"total_count\": float(total_count),\n",
    "                \"passed\": too_old_count == 0\n",
    "            }\n",
    "        \n",
    "        self.validation_results.append(result)\n",
    "        return self\n",
    "    \n",
    "    def get_results(self) -> List[Dict[str, Any]]:\n",
    "        \"\"\"Return all validation results.\"\"\"\n",
    "        return self.validation_results\n",
    "    \n",
    "    def display_results(self):\n",
    "        \"\"\"Display validation results in a readable format.\"\"\"\n",
    "        # Define a schema for the validation results\n",
    "        schema = T.StructType([\n",
    "            T.StructField(\"validation_type\", T.StringType(), True),\n",
    "            T.StructField(\"column_name\", T.StringType(), True),\n",
    "            T.StructField(\"min_value\", T.DoubleType(), True),\n",
    "            T.StructField(\"max_value\", T.DoubleType(), True),\n",
    "            T.StructField(\"filter_condition\", T.StringType(), True),\n",
    "            T.StructField(\"out_of_range_count\", T.DoubleType(), True),\n",
    "            T.StructField(\"total_count\", T.DoubleType(), True),\n",
    "            T.StructField(\"out_of_range_percentage\", T.DoubleType(), True),\n",
    "            T.StructField(\"passed\", T.BooleanType(), True),\n",
    "            T.StructField(\"column_names\", T.StringType(), True),\n",
    "            T.StructField(\"distinct_count\", T.DoubleType(), True),\n",
    "            T.StructField(\"duplicate_count\", T.DoubleType(), True),\n",
    "            T.StructField(\"pattern\", T.StringType(), True),\n",
    "            T.StructField(\"total_non_null\", T.DoubleType(), True),\n",
    "            T.StructField(\"matching_count\", T.DoubleType(), True),\n",
    "            T.StructField(\"non_matching_count\", T.DoubleType(), True),\n",
    "            T.StructField(\"source_column\", T.StringType(), True),\n",
    "            T.StructField(\"target_column\", T.StringType(), True),\n",
    "            T.StructField(\"total_distinct_source_values\", T.DoubleType(), True),\n",
    "            T.StructField(\"missing_values_count\", T.DoubleType(), True),\n",
    "            T.StructField(\"max_days_old\", T.DoubleType(), True),\n",
    "            T.StructField(\"too_old_count\", T.DoubleType(), True),\n",
    "            T.StructField(\"error\", T.StringType(), True)\n",
    "        ])\n",
    "        # Convert dicts to rows matching the schema\n",
    "        def dict_to_row(d):\n",
    "            # For list columns, convert to string for display\n",
    "            d = d.copy()\n",
    "            if \"column_names\" in d and isinstance(d[\"column_names\"], list):\n",
    "                d[\"column_names\"] = \", \".join(d[\"column_names\"])\n",
    "            # Fill missing keys with None\n",
    "            for field in schema.fieldNames():\n",
    "                if field not in d:\n",
    "                    d[field] = None\n",
    "            return Row(**d)\n",
    "        rows = [dict_to_row(d) for d in self.validation_results]\n",
    "        results_df = spark.createDataFrame(rows, schema)\n",
    "        display(results_df)\n",
    "    \n",
    "    def all_passed(self) -> bool:\n",
    "        \"\"\"Check if all validations passed.\"\"\"\n",
    "        return all(result[\"passed\"] for result in self.validation_results)"
   ]
  },
  {
   "cell_type": "markdown",
   "metadata": {
    "application/vnd.databricks.v1+cell": {
     "cellMetadata": {},
     "inputWidgets": {},
     "nuid": "77912247-b2aa-4f8d-8650-04999d3fa7b4",
     "showTitle": false,
     "tableResultSettingsMap": {},
     "title": ""
    }
   },
   "source": [
    "### Using the Data Validation Framework\n",
    "\n",
    "Let's use our data validation framework to check the quality of our sales data:"
   ]
  },
  {
   "cell_type": "code",
   "execution_count": 0,
   "metadata": {
    "application/vnd.databricks.v1+cell": {
     "cellMetadata": {
      "byteLimit": 2048000,
      "rowLimit": 10000
     },
     "inputWidgets": {},
     "nuid": "26f514ff-26b1-430f-bdb3-a2dc26343f7c",
     "showTitle": false,
     "tableResultSettingsMap": {},
     "title": ""
    }
   },
   "outputs": [
    {
     "output_type": "display_data",
     "data": {
      "text/html": [
       "<style scoped>\n",
       "  .table-result-container {\n",
       "    max-height: 300px;\n",
       "    overflow: auto;\n",
       "  }\n",
       "  table, th, td {\n",
       "    border: 1px solid black;\n",
       "    border-collapse: collapse;\n",
       "  }\n",
       "  th, td {\n",
       "    padding: 5px;\n",
       "  }\n",
       "  th {\n",
       "    text-align: left;\n",
       "  }\n",
       "</style><div class='table-result-container'><table class='table-result'><thead style='background-color: white'><tr><th>Outlet_ID</th><th>Region</th></tr></thead><tbody><tr><td>OUT010</td><td>North</td></tr><tr><td>OUT013</td><td>South</td></tr><tr><td>OUT017</td><td>East</td></tr><tr><td>OUT018</td><td>West</td></tr><tr><td>OUT019</td><td>North</td></tr><tr><td>OUT027</td><td>South</td></tr><tr><td>OUT035</td><td>West</td></tr><tr><td>OUT045</td><td>East</td></tr><tr><td>OUT046</td><td>North</td></tr><tr><td>OUT049</td><td>South</td></tr></tbody></table></div>"
      ]
     },
     "metadata": {
      "application/vnd.databricks.v1+output": {
       "addedWidgets": {},
       "aggData": [],
       "aggError": "",
       "aggOverflow": false,
       "aggSchema": [],
       "aggSeriesLimitReached": false,
       "aggType": "",
       "arguments": {},
       "columnCustomDisplayInfos": {},
       "data": [
        [
         "OUT010",
         "North"
        ],
        [
         "OUT013",
         "South"
        ],
        [
         "OUT017",
         "East"
        ],
        [
         "OUT018",
         "West"
        ],
        [
         "OUT019",
         "North"
        ],
        [
         "OUT027",
         "South"
        ],
        [
         "OUT035",
         "West"
        ],
        [
         "OUT045",
         "East"
        ],
        [
         "OUT046",
         "North"
        ],
        [
         "OUT049",
         "South"
        ]
       ],
       "datasetInfos": [],
       "dbfsResultPath": null,
       "isJsonSchema": true,
       "metadata": {},
       "overflow": false,
       "plotOptions": {
        "customPlotOptions": {},
        "displayType": "table",
        "pivotAggregation": null,
        "pivotColumns": null,
        "xColumns": null,
        "yColumns": null
       },
       "removedWidgets": [],
       "schema": [
        {
         "metadata": "{}",
         "name": "Outlet_ID",
         "type": "\"string\""
        },
        {
         "metadata": "{}",
         "name": "Region",
         "type": "\"string\""
        }
       ],
       "type": "table"
      }
     },
     "output_type": "display_data"
    }
   ],
   "source": [
    "# Create a reference DataFrame for referential integrity checks\n",
    "# This will be a simple list of valid outlet IDs\n",
    "from pyspark.sql import Row\n",
    "\n",
    "outlet_data = [\n",
    "    Row(Outlet_ID=\"OUT010\", Region=\"North\"),\n",
    "    Row(Outlet_ID=\"OUT013\", Region=\"South\"),\n",
    "    Row(Outlet_ID=\"OUT017\", Region=\"East\"),\n",
    "    Row(Outlet_ID=\"OUT018\", Region=\"West\"),\n",
    "    Row(Outlet_ID=\"OUT019\", Region=\"North\"),\n",
    "    Row(Outlet_ID=\"OUT027\", Region=\"South\"),\n",
    "    Row(Outlet_ID=\"OUT035\", Region=\"West\"),\n",
    "    Row(Outlet_ID=\"OUT045\", Region=\"East\"),\n",
    "    Row(Outlet_ID=\"OUT046\", Region=\"North\"),\n",
    "    Row(Outlet_ID=\"OUT049\", Region=\"South\")\n",
    "]\n",
    "\n",
    "outlet_df = spark.createDataFrame(outlet_data)\n",
    "display(outlet_df)"
   ]
  },
  {
   "cell_type": "code",
   "execution_count": 0,
   "metadata": {
    "application/vnd.databricks.v1+cell": {
     "cellMetadata": {
      "byteLimit": 2048000,
      "rowLimit": 10000
     },
     "inputWidgets": {},
     "nuid": "73fc86a7-6005-4900-9338-a836280ba025",
     "showTitle": false,
     "tableResultSettingsMap": {},
     "title": ""
    }
   },
   "outputs": [
    {
     "output_type": "execute_result",
     "data": {
      "text/plain": [
       "<__main__.DataValidator at 0xff5d0f388a10>"
      ]
     },
     "execution_count": 40,
     "metadata": {},
     "output_type": "execute_result"
    }
   ],
   "source": [
    "# Now use our DataValidator class to validate the sales data\n",
    "validator = DataValidator(clean_sales_df)\n",
    "\n",
    "# 1. Range validations\n",
    "validator.validate_range(\"Item_MRP\", 0, 500, None)\n",
    "validator.validate_range(\"Item_Weight\", 0, 50, None)\n",
    "validator.validate_range(\"Item_Visibility\", 0, 0.5, None)\n",
    "validator.validate_range(\"Item_Outlet_Sales\", 0, 10000, None)"
   ]
  },
  {
   "cell_type": "code",
   "execution_count": 0,
   "metadata": {
    "application/vnd.databricks.v1+cell": {
     "cellMetadata": {
      "byteLimit": 2048000,
      "rowLimit": 10000
     },
     "inputWidgets": {},
     "nuid": "9e03aef6-5d6c-4e3d-aa39-93de077b5575",
     "showTitle": false,
     "tableResultSettingsMap": {},
     "title": ""
    }
   },
   "outputs": [
    {
     "output_type": "execute_result",
     "data": {
      "text/plain": [
       "<__main__.DataValidator at 0xff5d0f388a10>"
      ]
     },
     "execution_count": 41,
     "metadata": {},
     "output_type": "execute_result"
    }
   ],
   "source": [
    "# 2. Uniqueness checks\n",
    "validator.validate_unique([\"Item_Identifier\", \"Outlet_Identifier\"])"
   ]
  },
  {
   "cell_type": "code",
   "execution_count": 0,
   "metadata": {
    "application/vnd.databricks.v1+cell": {
     "cellMetadata": {
      "byteLimit": 2048000,
      "rowLimit": 10000
     },
     "inputWidgets": {},
     "nuid": "5313531b-4c30-42d3-8edb-05e38c50d5ff",
     "showTitle": false,
     "tableResultSettingsMap": {},
     "title": ""
    }
   },
   "outputs": [
    {
     "output_type": "execute_result",
     "data": {
      "text/plain": [
       "<__main__.DataValidator at 0xff5d0f388a10>"
      ]
     },
     "execution_count": 42,
     "metadata": {},
     "output_type": "execute_result"
    }
   ],
   "source": [
    "# 3. Pattern validations\n",
    "# Check if Item_Identifier follows the pattern (2 letters followed by 3 digits)\n",
    "validator.validate_pattern(\"Item_Identifier\", \"^[A-Z]{2}[0-9]{3}$\")"
   ]
  },
  {
   "cell_type": "code",
   "execution_count": 0,
   "metadata": {
    "application/vnd.databricks.v1+cell": {
     "cellMetadata": {
      "byteLimit": 2048000,
      "rowLimit": 10000
     },
     "inputWidgets": {},
     "nuid": "5850bf30-4a95-4708-96e0-4ec0d17ddcee",
     "showTitle": false,
     "tableResultSettingsMap": {},
     "title": ""
    }
   },
   "outputs": [
    {
     "output_type": "execute_result",
     "data": {
      "text/plain": [
       "<__main__.DataValidator at 0xff5d0f388a10>"
      ]
     },
     "execution_count": 43,
     "metadata": {},
     "output_type": "execute_result"
    }
   ],
   "source": [
    "# 4. Referential integrity\n",
    "validator.validate_referential_integrity(\"Outlet_Identifier\", outlet_df, \"Outlet_ID\")"
   ]
  },
  {
   "cell_type": "code",
   "execution_count": 0,
   "metadata": {
    "application/vnd.databricks.v1+cell": {
     "cellMetadata": {
      "byteLimit": 2048000,
      "rowLimit": 10000
     },
     "inputWidgets": {},
     "nuid": "799e86c3-cf43-46ef-b01b-5dfdfdadc71a",
     "showTitle": false,
     "tableResultSettingsMap": {},
     "title": ""
    }
   },
   "outputs": [
    {
     "output_type": "display_data",
     "data": {
      "text/plain": [
       "\u001B[0;31m---------------------------------------------------------------------------\u001B[0m\n",
       "\u001B[0;31mArrowInvalid\u001B[0m                              Traceback (most recent call last)\n",
       "File \u001B[0;32m<command-5352384061025337>, line 5\u001B[0m\n",
       "\u001B[1;32m      2\u001B[0m validator\u001B[38;5;241m.\u001B[39mvalidate_range(\u001B[38;5;124m\"\u001B[39m\u001B[38;5;124mOutlet_Establishment_Year\u001B[39m\u001B[38;5;124m\"\u001B[39m, \u001B[38;5;241m1900\u001B[39m, \u001B[38;5;241m2023\u001B[39m, \u001B[38;5;28;01mNone\u001B[39;00m)\n",
       "\u001B[1;32m      4\u001B[0m \u001B[38;5;66;03m# Display validation results\u001B[39;00m\n",
       "\u001B[0;32m----> 5\u001B[0m validator\u001B[38;5;241m.\u001B[39mdisplay_results()\n",
       "\u001B[1;32m      7\u001B[0m \u001B[38;5;66;03m# Check if all validations passed\u001B[39;00m\n",
       "\u001B[1;32m      8\u001B[0m \u001B[38;5;28mprint\u001B[39m(\u001B[38;5;124mf\u001B[39m\u001B[38;5;124m\"\u001B[39m\u001B[38;5;124mAll validations passed: \u001B[39m\u001B[38;5;132;01m{\u001B[39;00mvalidator\u001B[38;5;241m.\u001B[39mall_passed()\u001B[38;5;132;01m}\u001B[39;00m\u001B[38;5;124m\"\u001B[39m)\n",
       "\n",
       "File \u001B[0;32m<command-5352384061025334>, line 197\u001B[0m, in \u001B[0;36mDataValidator.display_results\u001B[0;34m(self)\u001B[0m\n",
       "\u001B[1;32m    195\u001B[0m     \u001B[38;5;28;01mreturn\u001B[39;00m Row(\u001B[38;5;241m*\u001B[39m\u001B[38;5;241m*\u001B[39md)\n",
       "\u001B[1;32m    196\u001B[0m rows \u001B[38;5;241m=\u001B[39m [dict_to_row(d) \u001B[38;5;28;01mfor\u001B[39;00m d \u001B[38;5;129;01min\u001B[39;00m \u001B[38;5;28mself\u001B[39m\u001B[38;5;241m.\u001B[39mvalidation_results]\n",
       "\u001B[0;32m--> 197\u001B[0m results_df \u001B[38;5;241m=\u001B[39m spark\u001B[38;5;241m.\u001B[39mcreateDataFrame(rows, schema)\n",
       "\u001B[1;32m    198\u001B[0m display(results_df)\n",
       "\n",
       "File \u001B[0;32m/databricks/python/lib/python3.11/site-packages/pyspark/sql/connect/session.py:674\u001B[0m, in \u001B[0;36mSparkSession.createDataFrame\u001B[0;34m(self, data, schema, samplingRatio, verifySchema)\u001B[0m\n",
       "\u001B[1;32m    669\u001B[0m     \u001B[38;5;28;01mfrom\u001B[39;00m \u001B[38;5;21;01mpyspark\u001B[39;00m\u001B[38;5;21;01m.\u001B[39;00m\u001B[38;5;21;01msql\u001B[39;00m\u001B[38;5;21;01m.\u001B[39;00m\u001B[38;5;21;01mconnect\u001B[39;00m\u001B[38;5;21;01m.\u001B[39;00m\u001B[38;5;21;01mconversion\u001B[39;00m \u001B[38;5;28;01mimport\u001B[39;00m LocalDataToArrowConversion\n",
       "\u001B[1;32m    671\u001B[0m     \u001B[38;5;66;03m# Spark Connect will try its best to build the Arrow table with the\u001B[39;00m\n",
       "\u001B[1;32m    672\u001B[0m     \u001B[38;5;66;03m# inferred schema in the client side, and then rename the columns and\u001B[39;00m\n",
       "\u001B[1;32m    673\u001B[0m     \u001B[38;5;66;03m# cast the datatypes in the server side.\u001B[39;00m\n",
       "\u001B[0;32m--> 674\u001B[0m     _table \u001B[38;5;241m=\u001B[39m LocalDataToArrowConversion\u001B[38;5;241m.\u001B[39mconvert(_data, _schema)\n",
       "\u001B[1;32m    676\u001B[0m \u001B[38;5;66;03m# TODO: Beside the validation on number of columns, we should also check\u001B[39;00m\n",
       "\u001B[1;32m    677\u001B[0m \u001B[38;5;66;03m# whether the Arrow Schema is compatible with the user provided Schema.\u001B[39;00m\n",
       "\u001B[1;32m    678\u001B[0m \u001B[38;5;28;01mif\u001B[39;00m _num_cols \u001B[38;5;129;01mis\u001B[39;00m \u001B[38;5;129;01mnot\u001B[39;00m \u001B[38;5;28;01mNone\u001B[39;00m \u001B[38;5;129;01mand\u001B[39;00m _num_cols \u001B[38;5;241m!=\u001B[39m _table\u001B[38;5;241m.\u001B[39mshape[\u001B[38;5;241m1\u001B[39m]:\n",
       "\n",
       "File \u001B[0;32m/databricks/python/lib/python3.11/site-packages/pyspark/sql/connect/conversion.py:376\u001B[0m, in \u001B[0;36mLocalDataToArrowConversion.convert\u001B[0;34m(data, schema)\u001B[0m\n",
       "\u001B[1;32m    363\u001B[0m             pylist[i]\u001B[38;5;241m.\u001B[39mappend(column_convs[i](item[i]))\n",
       "\u001B[1;32m    365\u001B[0m pa_schema \u001B[38;5;241m=\u001B[39m to_arrow_schema(\n",
       "\u001B[1;32m    366\u001B[0m     StructType(\n",
       "\u001B[1;32m    367\u001B[0m         [\n",
       "\u001B[0;32m   (...)\u001B[0m\n",
       "\u001B[1;32m    373\u001B[0m     )\n",
       "\u001B[1;32m    374\u001B[0m )\n",
       "\u001B[0;32m--> 376\u001B[0m \u001B[38;5;28;01mreturn\u001B[39;00m pa\u001B[38;5;241m.\u001B[39mTable\u001B[38;5;241m.\u001B[39mfrom_arrays(pylist, schema\u001B[38;5;241m=\u001B[39mpa_schema)\n",
       "\n",
       "File \u001B[0;32m/databricks/python/lib/python3.11/site-packages/pyarrow/table.pxi:3969\u001B[0m, in \u001B[0;36mpyarrow.lib.Table.from_arrays\u001B[0;34m()\u001B[0m\n",
       "\n",
       "File \u001B[0;32m/databricks/python/lib/python3.11/site-packages/pyarrow/table.pxi:1463\u001B[0m, in \u001B[0;36mpyarrow.lib._sanitize_arrays\u001B[0;34m()\u001B[0m\n",
       "\n",
       "File \u001B[0;32m/databricks/python/lib/python3.11/site-packages/pyarrow/array.pxi:374\u001B[0m, in \u001B[0;36mpyarrow.lib.asarray\u001B[0;34m()\u001B[0m\n",
       "\n",
       "File \u001B[0;32m/databricks/python/lib/python3.11/site-packages/pyarrow/array.pxi:344\u001B[0m, in \u001B[0;36mpyarrow.lib.array\u001B[0;34m()\u001B[0m\n",
       "\n",
       "File \u001B[0;32m/databricks/python/lib/python3.11/site-packages/pyarrow/array.pxi:42\u001B[0m, in \u001B[0;36mpyarrow.lib._sequence_to_array\u001B[0;34m()\u001B[0m\n",
       "\n",
       "File \u001B[0;32m/databricks/python/lib/python3.11/site-packages/pyarrow/error.pxi:154\u001B[0m, in \u001B[0;36mpyarrow.lib.pyarrow_internal_check_status\u001B[0;34m()\u001B[0m\n",
       "\n",
       "File \u001B[0;32m/databricks/python/lib/python3.11/site-packages/pyarrow/error.pxi:91\u001B[0m, in \u001B[0;36mpyarrow.lib.check_status\u001B[0;34m()\u001B[0m\n",
       "\n",
       "\u001B[0;31mArrowInvalid\u001B[0m: Could not convert '^[A-Z]{2}[0-9]{3}$' with type str: tried to convert to double"
      ]
     },
     "metadata": {
      "application/vnd.databricks.v1+output": {
       "addedWidgets": {},
       "arguments": {},
       "datasetInfos": [],
       "jupyterProps": {
        "ename": "ArrowInvalid",
        "evalue": "Could not convert '^[A-Z]{2}[0-9]{3}$' with type str: tried to convert to double"
       },
       "metadata": {
        "errorSummary": "<span class='ansi-red-fg'>ArrowInvalid</span>: Could not convert '^[A-Z]{2}[0-9]{3}$' with type str: tried to convert to double"
       },
       "removedWidgets": [],
       "sqlProps": null,
       "stackFrames": [
        "\u001B[0;31m---------------------------------------------------------------------------\u001B[0m",
        "\u001B[0;31mArrowInvalid\u001B[0m                              Traceback (most recent call last)",
        "File \u001B[0;32m<command-5352384061025337>, line 5\u001B[0m\n\u001B[1;32m      2\u001B[0m validator\u001B[38;5;241m.\u001B[39mvalidate_range(\u001B[38;5;124m\"\u001B[39m\u001B[38;5;124mOutlet_Establishment_Year\u001B[39m\u001B[38;5;124m\"\u001B[39m, \u001B[38;5;241m1900\u001B[39m, \u001B[38;5;241m2023\u001B[39m, \u001B[38;5;28;01mNone\u001B[39;00m)\n\u001B[1;32m      4\u001B[0m \u001B[38;5;66;03m# Display validation results\u001B[39;00m\n\u001B[0;32m----> 5\u001B[0m validator\u001B[38;5;241m.\u001B[39mdisplay_results()\n\u001B[1;32m      7\u001B[0m \u001B[38;5;66;03m# Check if all validations passed\u001B[39;00m\n\u001B[1;32m      8\u001B[0m \u001B[38;5;28mprint\u001B[39m(\u001B[38;5;124mf\u001B[39m\u001B[38;5;124m\"\u001B[39m\u001B[38;5;124mAll validations passed: \u001B[39m\u001B[38;5;132;01m{\u001B[39;00mvalidator\u001B[38;5;241m.\u001B[39mall_passed()\u001B[38;5;132;01m}\u001B[39;00m\u001B[38;5;124m\"\u001B[39m)\n",
        "File \u001B[0;32m<command-5352384061025334>, line 197\u001B[0m, in \u001B[0;36mDataValidator.display_results\u001B[0;34m(self)\u001B[0m\n\u001B[1;32m    195\u001B[0m     \u001B[38;5;28;01mreturn\u001B[39;00m Row(\u001B[38;5;241m*\u001B[39m\u001B[38;5;241m*\u001B[39md)\n\u001B[1;32m    196\u001B[0m rows \u001B[38;5;241m=\u001B[39m [dict_to_row(d) \u001B[38;5;28;01mfor\u001B[39;00m d \u001B[38;5;129;01min\u001B[39;00m \u001B[38;5;28mself\u001B[39m\u001B[38;5;241m.\u001B[39mvalidation_results]\n\u001B[0;32m--> 197\u001B[0m results_df \u001B[38;5;241m=\u001B[39m spark\u001B[38;5;241m.\u001B[39mcreateDataFrame(rows, schema)\n\u001B[1;32m    198\u001B[0m display(results_df)\n",
        "File \u001B[0;32m/databricks/python/lib/python3.11/site-packages/pyspark/sql/connect/session.py:674\u001B[0m, in \u001B[0;36mSparkSession.createDataFrame\u001B[0;34m(self, data, schema, samplingRatio, verifySchema)\u001B[0m\n\u001B[1;32m    669\u001B[0m     \u001B[38;5;28;01mfrom\u001B[39;00m \u001B[38;5;21;01mpyspark\u001B[39;00m\u001B[38;5;21;01m.\u001B[39;00m\u001B[38;5;21;01msql\u001B[39;00m\u001B[38;5;21;01m.\u001B[39;00m\u001B[38;5;21;01mconnect\u001B[39;00m\u001B[38;5;21;01m.\u001B[39;00m\u001B[38;5;21;01mconversion\u001B[39;00m \u001B[38;5;28;01mimport\u001B[39;00m LocalDataToArrowConversion\n\u001B[1;32m    671\u001B[0m     \u001B[38;5;66;03m# Spark Connect will try its best to build the Arrow table with the\u001B[39;00m\n\u001B[1;32m    672\u001B[0m     \u001B[38;5;66;03m# inferred schema in the client side, and then rename the columns and\u001B[39;00m\n\u001B[1;32m    673\u001B[0m     \u001B[38;5;66;03m# cast the datatypes in the server side.\u001B[39;00m\n\u001B[0;32m--> 674\u001B[0m     _table \u001B[38;5;241m=\u001B[39m LocalDataToArrowConversion\u001B[38;5;241m.\u001B[39mconvert(_data, _schema)\n\u001B[1;32m    676\u001B[0m \u001B[38;5;66;03m# TODO: Beside the validation on number of columns, we should also check\u001B[39;00m\n\u001B[1;32m    677\u001B[0m \u001B[38;5;66;03m# whether the Arrow Schema is compatible with the user provided Schema.\u001B[39;00m\n\u001B[1;32m    678\u001B[0m \u001B[38;5;28;01mif\u001B[39;00m _num_cols \u001B[38;5;129;01mis\u001B[39;00m \u001B[38;5;129;01mnot\u001B[39;00m \u001B[38;5;28;01mNone\u001B[39;00m \u001B[38;5;129;01mand\u001B[39;00m _num_cols \u001B[38;5;241m!=\u001B[39m _table\u001B[38;5;241m.\u001B[39mshape[\u001B[38;5;241m1\u001B[39m]:\n",
        "File \u001B[0;32m/databricks/python/lib/python3.11/site-packages/pyspark/sql/connect/conversion.py:376\u001B[0m, in \u001B[0;36mLocalDataToArrowConversion.convert\u001B[0;34m(data, schema)\u001B[0m\n\u001B[1;32m    363\u001B[0m             pylist[i]\u001B[38;5;241m.\u001B[39mappend(column_convs[i](item[i]))\n\u001B[1;32m    365\u001B[0m pa_schema \u001B[38;5;241m=\u001B[39m to_arrow_schema(\n\u001B[1;32m    366\u001B[0m     StructType(\n\u001B[1;32m    367\u001B[0m         [\n\u001B[0;32m   (...)\u001B[0m\n\u001B[1;32m    373\u001B[0m     )\n\u001B[1;32m    374\u001B[0m )\n\u001B[0;32m--> 376\u001B[0m \u001B[38;5;28;01mreturn\u001B[39;00m pa\u001B[38;5;241m.\u001B[39mTable\u001B[38;5;241m.\u001B[39mfrom_arrays(pylist, schema\u001B[38;5;241m=\u001B[39mpa_schema)\n",
        "File \u001B[0;32m/databricks/python/lib/python3.11/site-packages/pyarrow/table.pxi:3969\u001B[0m, in \u001B[0;36mpyarrow.lib.Table.from_arrays\u001B[0;34m()\u001B[0m\n",
        "File \u001B[0;32m/databricks/python/lib/python3.11/site-packages/pyarrow/table.pxi:1463\u001B[0m, in \u001B[0;36mpyarrow.lib._sanitize_arrays\u001B[0;34m()\u001B[0m\n",
        "File \u001B[0;32m/databricks/python/lib/python3.11/site-packages/pyarrow/array.pxi:374\u001B[0m, in \u001B[0;36mpyarrow.lib.asarray\u001B[0;34m()\u001B[0m\n",
        "File \u001B[0;32m/databricks/python/lib/python3.11/site-packages/pyarrow/array.pxi:344\u001B[0m, in \u001B[0;36mpyarrow.lib.array\u001B[0;34m()\u001B[0m\n",
        "File \u001B[0;32m/databricks/python/lib/python3.11/site-packages/pyarrow/array.pxi:42\u001B[0m, in \u001B[0;36mpyarrow.lib._sequence_to_array\u001B[0;34m()\u001B[0m\n",
        "File \u001B[0;32m/databricks/python/lib/python3.11/site-packages/pyarrow/error.pxi:154\u001B[0m, in \u001B[0;36mpyarrow.lib.pyarrow_internal_check_status\u001B[0;34m()\u001B[0m\n",
        "File \u001B[0;32m/databricks/python/lib/python3.11/site-packages/pyarrow/error.pxi:91\u001B[0m, in \u001B[0;36mpyarrow.lib.check_status\u001B[0;34m()\u001B[0m\n",
        "\u001B[0;31mArrowInvalid\u001B[0m: Could not convert '^[A-Z]{2}[0-9]{3}$' with type str: tried to convert to double"
       ],
       "type": "baseError"
      }
     },
     "output_type": "display_data"
    }
   ],
   "source": [
    "# 5. Check for establishment years in a valid range\n",
    "validator.validate_range(\"Outlet_Establishment_Year\", 1900, 2023, None)\n",
    "\n",
    "# Display validation results\n",
    "validator.display_results()\n",
    "\n",
    "# Check if all validations passed\n",
    "print(f\"All validations passed: {validator.all_passed()}\")"
   ]
  },
  {
   "cell_type": "code",
   "execution_count": 0,
   "metadata": {
    "application/vnd.databricks.v1+cell": {
     "cellMetadata": {},
     "inputWidgets": {},
     "nuid": "52460daf-2699-4200-bb9e-710ef39c3748",
     "showTitle": false,
     "tableResultSettingsMap": {},
     "title": ""
    }
   },
   "outputs": [],
   "source": []
  },
  {
   "cell_type": "code",
   "execution_count": 0,
   "metadata": {
    "application/vnd.databricks.v1+cell": {
     "cellMetadata": {},
     "inputWidgets": {},
     "nuid": "4cc58ed4-2444-409e-b55b-87f547801bdd",
     "showTitle": false,
     "tableResultSettingsMap": {},
     "title": ""
    }
   },
   "outputs": [],
   "source": []
  }
 ],
 "metadata": {
  "application/vnd.databricks.v1+notebook": {
   "computePreferences": {
    "hardware": {
     "accelerator": null,
     "gpuPoolId": null,
     "memory": null
    }
   },
   "dashboards": [],
   "environmentMetadata": null,
   "inputWidgetPreferences": null,
   "language": "python",
   "notebookMetadata": {
    "pythonIndentUnit": 4
   },
   "notebookName": "Day4_PySpark_Advanced_Applications",
   "widgets": {}
  },
  "language_info": {
   "name": "python"
  }
 },
 "nbformat": 4,
 "nbformat_minor": 0
}