{
 "cells": [
  {
   "cell_type": "markdown",
   "metadata": {
    "application/vnd.databricks.v1+cell": {
     "cellMetadata": {},
     "inputWidgets": {},
     "nuid": "5173ee26-0931-4967-8012-a6241132fcf5",
     "showTitle": false,
     "tableResultSettingsMap": {},
     "title": ""
    }
   },
   "source": [
    "# \uD83C\uDFD7️ Simple Medallion Pipeline\n",
    "\n",
    "A beginner-friendly guide to building data pipelines with the medallion architecture.\n",
    "\n",
    "## What is Medallion Architecture?\n",
    "\n",
    "**Bronze → Silver → Gold**\n",
    "\n",
    "- **Bronze**: Raw data (exactly as received)\n",
    "- **Silver**: Clean data (validated and standardized) \n",
    "- **Gold**: Business data (aggregated and ready for analytics)\n",
    "\n",
    "## Benefits:\n",
    "- **Traceability**: Can trace any issue back to raw data\n",
    "- **Flexibility**: Can reprocess data if business rules change\n",
    "- **Quality**: Multiple validation layers ensure data quality\n",
    "- **Performance**: Optimized tables for different use cases"
   ]
  },
  {
   "cell_type": "markdown",
   "metadata": {
    "application/vnd.databricks.v1+cell": {
     "cellMetadata": {},
     "inputWidgets": {},
     "nuid": "cf64472f-6189-4c4a-b214-2dbb865b107c",
     "showTitle": false,
     "tableResultSettingsMap": {},
     "title": ""
    }
   },
   "source": [
    "## 1. Setup Environment\n",
    "\n",
    "Let's start with basic setup and libraries."
   ]
  },
  {
   "cell_type": "code",
   "execution_count": 0,
   "metadata": {
    "application/vnd.databricks.v1+cell": {
     "cellMetadata": {
      "byteLimit": 2048000,
      "rowLimit": 10000
     },
     "inputWidgets": {},
     "nuid": "91f18811-96c3-4a4c-8a55-9c41f72ec878",
     "showTitle": false,
     "tableResultSettingsMap": {},
     "title": ""
    }
   },
   "outputs": [
    {
     "output_type": "stream",
     "name": "stdout",
     "output_type": "stream",
     "text": [
      "✅ Spark session created\nSpark version: 4.0.0\n"
     ]
    }
   ],
   "source": [
    "# Import libraries\n",
    "from pyspark.sql import SparkSession\n",
    "from pyspark.sql.functions import *\n",
    "from pyspark.sql.types import *\n",
    "\n",
    "# Create Spark session\n",
    "#spark = SparkSession.builder \\\n",
    "#    .appName(\"SimpleMedallionPipeline\") \\\n",
    "#    .getOrCreate()\n",
    "\n",
    "print(\"✅ Spark session created\")\n",
    "print(f\"Spark version: {spark.version}\")"
   ]
  },
  {
   "cell_type": "markdown",
   "metadata": {
    "application/vnd.databricks.v1+cell": {
     "cellMetadata": {},
     "inputWidgets": {},
     "nuid": "a9247164-7f50-41e5-8ddf-5ff240e8d240",
     "showTitle": false,
     "tableResultSettingsMap": {},
     "title": ""
    }
   },
   "source": [
    "## \uD83E\uDD49 Bronze Layer - Raw Data\n",
    "\n",
    "Store data exactly as received from source systems."
   ]
  },
  {
   "cell_type": "code",
   "execution_count": 0,
   "metadata": {
    "application/vnd.databricks.v1+cell": {
     "cellMetadata": {
      "byteLimit": 2048000,
      "rowLimit": 10000
     },
     "inputWidgets": {},
     "nuid": "caa4e8c2-b2a8-481a-bb31-c1700f7a0f37",
     "showTitle": false,
     "tableResultSettingsMap": {},
     "title": ""
    }
   },
   "outputs": [
    {
     "output_type": "stream",
     "name": "stdout",
     "output_type": "stream",
     "text": [
      "\uD83E\uDD49 Bronze Layer - Raw Data:\n+--------+-------------+----------+-------+-------+-----------+--------------------+\n|order_id|customer_name|order_date|product| amount|   category|         ingested_at|\n+--------+-------------+----------+-------+-------+-----------+--------------------+\n|     001|         John|2024-01-15| laptop|1200.00|electronics|2025-09-16 11:43:...|\n|     002|         jane|2024-01-15|   book|     25|      books|2025-09-16 11:43:...|\n|     003|          Bob|2024-01-16|  phone|  800.0|Electronics|2025-09-16 11:43:...|\n|     004|        alice|2024-01-16|   desk| 300.00|  furniture|2025-09-16 11:43:...|\n|     005|      Charlie|2024-01-17|  chair|    150|  Furniture|2025-09-16 11:43:...|\n+--------+-------------+----------+-------+-------+-----------+--------------------+\n\n✅ Bronze data saved\n"
     ]
    }
   ],
   "source": [
    "# Sample raw sales data (as it comes from different systems)\n",
    "raw_sales_data = [\n",
    "    (\"001\", \"John\", \"2024-01-15\", \"laptop\", \"1200.00\", \"electronics\"),\n",
    "    (\"002\", \"jane\", \"2024-01-15\", \"book\", \"25\", \"books\"),\n",
    "    (\"003\", \"Bob\", \"2024-01-16\", \"phone\", \"800.0\", \"Electronics\"),\n",
    "    (\"004\", \"alice\", \"2024-01-16\", \"desk\", \"300.00\", \"furniture\"),\n",
    "    (\"005\", \"Charlie\", \"2024-01-17\", \"chair\", \"150\", \"Furniture\")\n",
    "]\n",
    "\n",
    "# Create DataFrame (Bronze layer)\n",
    "bronze_df = spark.createDataFrame(raw_sales_data, [\n",
    "    \"order_id\", \"customer_name\", \"order_date\", \n",
    "    \"product\", \"amount\", \"category\"\n",
    "])\n",
    "\n",
    "# Add metadata\n",
    "bronze_df = bronze_df.withColumn(\"ingested_at\", current_timestamp())\n",
    "\n",
    "print(\"\uD83E\uDD49 Bronze Layer - Raw Data:\")\n",
    "bronze_df.show()\n",
    "\n",
    "# Save bronze data\n",
    "bronze_df.write.mode(\"overwrite\").saveAsTable(\"bronze_sales\")\n",
    "print(\"✅ Bronze data saved\")"
   ]
  },
  {
   "cell_type": "markdown",
   "metadata": {
    "application/vnd.databricks.v1+cell": {
     "cellMetadata": {},
     "inputWidgets": {},
     "nuid": "4d8d4b40-8721-48f7-b455-5231f736d11d",
     "showTitle": false,
     "tableResultSettingsMap": {},
     "title": ""
    }
   },
   "source": [
    "## \uD83E\uDD48 Silver Layer - Clean Data\n",
    "\n",
    "Clean and standardize the data for consistency."
   ]
  },
  {
   "cell_type": "code",
   "execution_count": 0,
   "metadata": {
    "application/vnd.databricks.v1+cell": {
     "cellMetadata": {},
     "inputWidgets": {},
     "nuid": "4b67b8ac-2042-4df6-b526-d7d02bdaeda7",
     "showTitle": false,
     "tableResultSettingsMap": {},
     "title": ""
    }
   },
   "outputs": [],
   "source": [
    "# Read from bronze layer\n",
    "bronze_data = spark.table(\"bronze_sales\")\n",
    "\n",
    "# Clean and standardize data\n",
    "silver_df = bronze_data \\\n",
    "    .withColumn(\"customer_name\", initcap(col(\"customer_name\"))) \\\n",
    "    .withColumn(\"amount\", col(\"amount\").cast(\"double\")) \\\n",
    "    .withColumn(\"category\", lower(col(\"category\"))) \\\n",
    "    .withColumn(\"order_date\", to_date(col(\"order_date\"))) \\\n",
    "    .filter(col(\"amount\") > 0) \\\n",
    "    .withColumn(\"processed_at\", current_timestamp())\n",
    "\n",
    "print(\"\uD83E\uDD48 Silver Layer - Clean Data:\")\n",
    "silver_df.show()\n",
    "\n",
    "# Save silver data\n",
    "silver_df.write.mode(\"overwrite\").saveAsTable(\"silver_sales\")\n",
    "print(\"✅ Silver data saved\")"
   ]
  },
  {
   "cell_type": "markdown",
   "metadata": {
    "application/vnd.databricks.v1+cell": {
     "cellMetadata": {},
     "inputWidgets": {},
     "nuid": "d6f474fa-f1e6-44ee-925d-47cee8cf79ed",
     "showTitle": false,
     "tableResultSettingsMap": {},
     "title": ""
    }
   },
   "source": [
    "## \uD83E\uDD47 Gold Layer - Business Ready\n",
    "\n",
    "Create aggregated tables for business analytics."
   ]
  },
  {
   "cell_type": "code",
   "execution_count": 0,
   "metadata": {
    "application/vnd.databricks.v1+cell": {
     "cellMetadata": {},
     "inputWidgets": {},
     "nuid": "1d98fb3c-65db-4603-b93c-8aa9483dba0d",
     "showTitle": false,
     "tableResultSettingsMap": {},
     "title": ""
    }
   },
   "outputs": [],
   "source": [
    "# Read from silver layer\n",
    "silver_data = spark.table(\"silver_sales\")\n",
    "\n",
    "# Create business metrics\n",
    "daily_sales = silver_data \\\n",
    "    .groupBy(\"order_date\") \\\n",
    "    .agg(\n",
    "        count(\"*\").alias(\"total_orders\"),\n",
    "        sum(\"amount\").alias(\"total_revenue\"),\n",
    "        avg(\"amount\").alias(\"avg_order_value\")\n",
    "    ) \\\n",
    "    .withColumn(\"avg_order_value\", round(col(\"avg_order_value\"), 2)) \\\n",
    "    .orderBy(\"order_date\")\n",
    "\n",
    "print(\"\uD83E\uDD47 Gold Layer - Daily Sales Summary:\")\n",
    "daily_sales.show()\n",
    "\n",
    "# Category performance\n",
    "category_performance = silver_data \\\n",
    "    .groupBy(\"category\") \\\n",
    "    .agg(\n",
    "        count(\"*\").alias(\"total_orders\"),\n",
    "        sum(\"amount\").alias(\"total_revenue\")\n",
    "    ) \\\n",
    "    .orderBy(desc(\"total_revenue\"))\n",
    "\n",
    "print(\"\uD83D\uDCCA Category Performance:\")\n",
    "category_performance.show()\n",
    "\n",
    "# Save gold tables\n",
    "daily_sales.write.mode(\"overwrite\").saveAsTable(\"gold_daily_sales\")\n",
    "category_performance.write.mode(\"overwrite\").saveAsTable(\"gold_category_performance\")\n",
    "print(\"✅ Gold tables saved\")"
   ]
  },
  {
   "cell_type": "markdown",
   "metadata": {
    "application/vnd.databricks.v1+cell": {
     "cellMetadata": {},
     "inputWidgets": {},
     "nuid": "33cd6b5b-0e1b-4bab-a8f4-a588395401b1",
     "showTitle": false,
     "tableResultSettingsMap": {},
     "title": ""
    }
   },
   "source": [
    "## \uD83D\uDCCA Data Quality Checks\n",
    "\n",
    "Simple data quality validation."
   ]
  },
  {
   "cell_type": "code",
   "execution_count": 0,
   "metadata": {
    "application/vnd.databricks.v1+cell": {
     "cellMetadata": {},
     "inputWidgets": {},
     "nuid": "6ec3cefa-a409-422e-8be2-2a20ce8a49e1",
     "showTitle": false,
     "tableResultSettingsMap": {},
     "title": ""
    }
   },
   "outputs": [],
   "source": [
    "print(\"\uD83D\uDD0D Data Quality Report:\")\n",
    "print(\"=\" * 30)\n",
    "\n",
    "# Check record counts\n",
    "bronze_count = spark.table(\"bronze_sales\").count()\n",
    "silver_count = spark.table(\"silver_sales\").count()\n",
    "\n",
    "print(f\"Bronze records: {bronze_count}\")\n",
    "print(f\"Silver records: {silver_count}\")\n",
    "print(f\"Data quality: {silver_count/bronze_count*100:.1f}% records passed\")\n",
    "\n",
    "# Check for missing values\n",
    "silver_data = spark.table(\"silver_sales\")\n",
    "null_counts = silver_data.select([count(when(col(c).isNull(), c)).alias(c) for c in silver_data.columns])\n",
    "\n",
    "print(\"\\n\uD83D\uDCCB Null Value Check:\")\n",
    "null_counts.show()\n",
    "\n",
    "# Revenue validation\n",
    "total_revenue = silver_data.agg(sum(\"amount\")).collect()[0][0]\n",
    "print(f\"\\n\uD83D\uDCB0 Total Revenue: ${total_revenue:,.2f}\")\n",
    "\n",
    "print(\"\\n✅ Data quality checks complete!\")"
   ]
  },
  {
   "cell_type": "markdown",
   "metadata": {
    "application/vnd.databricks.v1+cell": {
     "cellMetadata": {},
     "inputWidgets": {},
     "nuid": "a699220a-cd43-4668-8771-09e01cfa8275",
     "showTitle": false,
     "tableResultSettingsMap": {},
     "title": ""
    }
   },
   "source": [
    "## \uD83D\uDD04 Complete Pipeline Function\n",
    "\n",
    "Put it all together in one reusable function."
   ]
  },
  {
   "cell_type": "code",
   "execution_count": 0,
   "metadata": {
    "application/vnd.databricks.v1+cell": {
     "cellMetadata": {},
     "inputWidgets": {},
     "nuid": "b1ad461d-8d51-4bbd-98c6-9bdb1f2e4b18",
     "showTitle": false,
     "tableResultSettingsMap": {},
     "title": ""
    }
   },
   "outputs": [],
   "source": [
    "def run_medallion_pipeline(raw_data):\n",
    "    \"\"\"\n",
    "    Simple medallion pipeline function\n",
    "    \"\"\"\n",
    "    print(\"\uD83D\uDE80 Starting Medallion Pipeline...\")\n",
    "    \n",
    "    # 1. Bronze Layer\n",
    "    bronze_df = spark.createDataFrame(raw_data, [\n",
    "        \"order_id\", \"customer_name\", \"order_date\", \n",
    "        \"product\", \"amount\", \"category\"\n",
    "    ]).withColumn(\"ingested_at\", current_timestamp())\n",
    "    \n",
    "    # 2. Silver Layer  \n",
    "    silver_df = bronze_df \\\n",
    "        .withColumn(\"customer_name\", initcap(col(\"customer_name\"))) \\\n",
    "        .withColumn(\"amount\", col(\"amount\").cast(\"double\")) \\\n",
    "        .withColumn(\"category\", lower(col(\"category\"))) \\\n",
    "        .withColumn(\"order_date\", to_date(col(\"order_date\"))) \\\n",
    "        .filter(col(\"amount\") > 0)\n",
    "    \n",
    "    # 3. Gold Layer\n",
    "    gold_df = silver_df \\\n",
    "        .groupBy(\"category\") \\\n",
    "        .agg(\n",
    "            count(\"*\").alias(\"orders\"),\n",
    "            sum(\"amount\").alias(\"revenue\")\n",
    "        )\n",
    "    \n",
    "    print(\"✅ Pipeline completed successfully!\")\n",
    "    return bronze_df, silver_df, gold_df\n",
    "\n",
    "# Test the pipeline\n",
    "test_data = [\n",
    "    (\"T001\", \"mike\", \"2024-01-20\", \"mouse\", \"25.99\", \"electronics\"),\n",
    "    (\"T002\", \"sara\", \"2024-01-20\", \"table\", \"199.99\", \"furniture\")\n",
    "]\n",
    "\n",
    "bronze, silver, gold = run_medallion_pipeline(test_data)\n",
    "\n",
    "print(\"\\n\uD83D\uDCCA Pipeline Results:\")\n",
    "gold.show()"
   ]
  },
  {
   "cell_type": "markdown",
   "metadata": {
    "application/vnd.databricks.v1+cell": {
     "cellMetadata": {},
     "inputWidgets": {},
     "nuid": "85753f5b-ff5b-41cf-bf8b-55dfa224c9ac",
     "showTitle": false,
     "tableResultSettingsMap": {},
     "title": ""
    }
   },
   "source": [
    "## \uD83D\uDCDA Summary\n",
    "\n",
    "**What we learned:**\n",
    "\n",
    "✅ **Bronze Layer**: Store raw data exactly as received  \n",
    "✅ **Silver Layer**: Clean and validate data  \n",
    "✅ **Gold Layer**: Create business-ready analytics tables  \n",
    "✅ **Data Quality**: Check and monitor data quality  \n",
    "✅ **Pipeline**: Combine all steps into reusable function  \n",
    "\n",
    "**Next Steps:**\n",
    "- Add Delta Lake for ACID transactions\n",
    "- Implement real-time streaming\n",
    "- Add data lineage tracking\n",
    "- Build monitoring and alerting\n",
    "\n",
    "\uD83C\uDFAF **Key Takeaway**: The medallion architecture provides a systematic approach to building reliable, traceable data pipelines!"
   ]
  }
 ],
 "metadata": {
  "application/vnd.databricks.v1+notebook": {
   "computePreferences": null,
   "dashboards": [],
   "environmentMetadata": null,
   "inputWidgetPreferences": null,
   "language": "python",
   "notebookMetadata": {
    "pythonIndentUnit": 4
   },
   "notebookName": "Medallion_Pipeline",
   "widgets": {}
  },
  "language_info": {
   "name": "python"
  }
 },
 "nbformat": 4,
 "nbformat_minor": 0
}