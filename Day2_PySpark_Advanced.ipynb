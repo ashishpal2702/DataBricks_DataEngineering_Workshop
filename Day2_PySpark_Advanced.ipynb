{
 "cells": [
  {
   "cell_type": "markdown",
   "metadata": {
    "application/vnd.databricks.v1+cell": {
     "cellMetadata": {},
     "inputWidgets": {},
     "nuid": "284a5606-d1a4-43f4-94f5-afa6980586c3",
     "showTitle": false,
     "tableResultSettingsMap": {},
     "title": ""
    }
   },
   "source": [
    "# PySpark Advanced Data Manipulation - Day 2\n",
    "## Advanced Transformations, Joins, and SQL Operations\n",
    "\n",
    "Welcome to Day 2 of the PySpark workshop! Today we'll build on the fundamentals from Day 1 and explore more advanced data manipulation techniques in PySpark.\n",
    "\n",
    "## Day 2 Agenda\n",
    "\n",
    "Today we'll cover:\n",
    "1. **Advanced DataFrame Transformations**\n",
    "2. **Aggregations and Grouping**\n",
    "3. **Working with SQL in Spark**\n",
    "4. **Joins and Merges**\n",
    "5. **Window Functions**\n",
    "6. **User-Defined Functions (UDFs)**\n",
    "7. **Performance Optimization Techniques**\n",
    "\n",
    "Let's continue our PySpark journey!"
   ]
  },
  {
   "cell_type": "markdown",
   "metadata": {
    "application/vnd.databricks.v1+cell": {
     "cellMetadata": {},
     "inputWidgets": {},
     "nuid": "0d743d4a-715b-432d-90f1-ff303d5c36d6",
     "showTitle": false,
     "tableResultSettingsMap": {},
     "title": ""
    }
   },
   "source": [
    "## Setup and Data Loading\n",
    "\n",
    "First, let's initialize our environment and load some data for today's exercises."
   ]
  },
  {
   "cell_type": "code",
   "execution_count": 0,
   "metadata": {
    "application/vnd.databricks.v1+cell": {
     "cellMetadata": {
      "byteLimit": 2048000,
      "rowLimit": 10000
     },
     "inputWidgets": {},
     "nuid": "429278e4-73f4-4676-b78c-2aa7753ba88f",
     "showTitle": false,
     "tableResultSettingsMap": {},
     "title": ""
    }
   },
   "outputs": [
    {
     "output_type": "stream",
     "name": "stdout",
     "output_type": "stream",
     "text": [
      "Spark Version: 4.0.0\nSpark environment initialized!\nWorkshop path: /Volumes/workspace/default/spark_workshop\n"
     ]
    }
   ],
   "source": [
    "# Check our Spark version\n",
    "print(f\"Spark Version: {spark.version}\")\n",
    "\n",
    "# Create paths for our workshop data\n",
    "workshop_path = \"/Volumes/workspace/default/spark_workshop\"\n",
    "raw_data_path = f\"{workshop_path}/raw_data\"\n",
    "processed_path = f\"{workshop_path}/processed\"\n",
    "\n",
    "print(\"Spark environment initialized!\")\n",
    "print(f\"Workshop path: {workshop_path}\")\n",
    "\n"
   ]
  },
  {
   "cell_type": "code",
   "execution_count": 0,
   "metadata": {
    "application/vnd.databricks.v1+cell": {
     "cellMetadata": {
      "byteLimit": 2048000,
      "rowLimit": 10000
     },
     "inputWidgets": {},
     "nuid": "3695df2a-991a-4ba7-b2e6-f7ad799a8726",
     "showTitle": false,
     "tableResultSettingsMap": {},
     "title": ""
    }
   },
   "outputs": [
    {
     "output_type": "display_data",
     "data": {
      "text/html": [
       "<style scoped>\n",
       "  .table-result-container {\n",
       "    max-height: 300px;\n",
       "    overflow: auto;\n",
       "  }\n",
       "  table, th, td {\n",
       "    border: 1px solid black;\n",
       "    border-collapse: collapse;\n",
       "  }\n",
       "  th, td {\n",
       "    padding: 5px;\n",
       "  }\n",
       "  th {\n",
       "    text-align: left;\n",
       "  }\n",
       "</style><div class='table-result-container'><table class='table-result'><thead style='background-color: white'><tr><th>Item_Identifier</th><th>Item_Weight</th><th>Item_Fat_Content</th><th>Item_Visibility</th><th>Item_Type</th><th>Item_MRP</th><th>Outlet_Identifier</th><th>Outlet_Establishment_Year</th><th>Outlet_Size</th><th>Outlet_Location_Type</th><th>Outlet_Type</th><th>Item_Outlet_Sales</th></tr></thead><tbody><tr><td>FDA15</td><td>9.3</td><td>Low Fat</td><td>0.016047301</td><td>Dairy</td><td>249.8092</td><td>OUT049</td><td>1999</td><td>Medium</td><td>Tier 1</td><td>Supermarket Type1</td><td>3735.138</td></tr><tr><td>DRC01</td><td>5.92</td><td>Regular</td><td>0.019278216</td><td>Soft Drinks</td><td>48.2692</td><td>OUT018</td><td>2009</td><td>Medium</td><td>Tier 3</td><td>Supermarket Type2</td><td>443.4228</td></tr><tr><td>FDN15</td><td>17.5</td><td>Low Fat</td><td>0.016760075</td><td>Meat</td><td>141.618</td><td>OUT049</td><td>1999</td><td>Medium</td><td>Tier 1</td><td>Supermarket Type1</td><td>2097.27</td></tr><tr><td>FDX07</td><td>19.2</td><td>Regular</td><td>0.0</td><td>Fruits and Vegetables</td><td>182.095</td><td>OUT010</td><td>1998</td><td>null</td><td>Tier 3</td><td>Grocery Store</td><td>732.38</td></tr><tr><td>NCD19</td><td>8.93</td><td>Low Fat</td><td>0.0</td><td>Household</td><td>53.8614</td><td>OUT013</td><td>1987</td><td>High</td><td>Tier 3</td><td>Supermarket Type1</td><td>994.7052</td></tr></tbody></table></div>"
      ]
     },
     "metadata": {
      "application/vnd.databricks.v1+output": {
       "addedWidgets": {},
       "aggData": [],
       "aggError": "",
       "aggOverflow": false,
       "aggSchema": [],
       "aggSeriesLimitReached": false,
       "aggType": "",
       "arguments": {},
       "columnCustomDisplayInfos": {},
       "data": [
        [
         "FDA15",
         9.3,
         "Low Fat",
         0.016047301,
         "Dairy",
         249.8092,
         "OUT049",
         1999,
         "Medium",
         "Tier 1",
         "Supermarket Type1",
         3735.138
        ],
        [
         "DRC01",
         5.92,
         "Regular",
         0.019278216,
         "Soft Drinks",
         48.2692,
         "OUT018",
         2009,
         "Medium",
         "Tier 3",
         "Supermarket Type2",
         443.4228
        ],
        [
         "FDN15",
         17.5,
         "Low Fat",
         0.016760075,
         "Meat",
         141.618,
         "OUT049",
         1999,
         "Medium",
         "Tier 1",
         "Supermarket Type1",
         2097.27
        ],
        [
         "FDX07",
         19.2,
         "Regular",
         0.0,
         "Fruits and Vegetables",
         182.095,
         "OUT010",
         1998,
         null,
         "Tier 3",
         "Grocery Store",
         732.38
        ],
        [
         "NCD19",
         8.93,
         "Low Fat",
         0.0,
         "Household",
         53.8614,
         "OUT013",
         1987,
         "High",
         "Tier 3",
         "Supermarket Type1",
         994.7052
        ]
       ],
       "datasetInfos": [],
       "dbfsResultPath": null,
       "isJsonSchema": true,
       "metadata": {},
       "overflow": false,
       "plotOptions": {
        "customPlotOptions": {},
        "displayType": "table",
        "pivotAggregation": null,
        "pivotColumns": null,
        "xColumns": null,
        "yColumns": null
       },
       "removedWidgets": [],
       "schema": [
        {
         "metadata": "{}",
         "name": "Item_Identifier",
         "type": "\"string\""
        },
        {
         "metadata": "{}",
         "name": "Item_Weight",
         "type": "\"double\""
        },
        {
         "metadata": "{}",
         "name": "Item_Fat_Content",
         "type": "\"string\""
        },
        {
         "metadata": "{}",
         "name": "Item_Visibility",
         "type": "\"double\""
        },
        {
         "metadata": "{}",
         "name": "Item_Type",
         "type": "\"string\""
        },
        {
         "metadata": "{}",
         "name": "Item_MRP",
         "type": "\"double\""
        },
        {
         "metadata": "{}",
         "name": "Outlet_Identifier",
         "type": "\"string\""
        },
        {
         "metadata": "{}",
         "name": "Outlet_Establishment_Year",
         "type": "\"integer\""
        },
        {
         "metadata": "{}",
         "name": "Outlet_Size",
         "type": "\"string\""
        },
        {
         "metadata": "{}",
         "name": "Outlet_Location_Type",
         "type": "\"string\""
        },
        {
         "metadata": "{}",
         "name": "Outlet_Type",
         "type": "\"string\""
        },
        {
         "metadata": "{}",
         "name": "Item_Outlet_Sales",
         "type": "\"double\""
        }
       ],
       "type": "table"
      }
     },
     "output_type": "display_data"
    }
   ],
   "source": [
    "# Load the BigMart sales data from yesterday\n",
    "from pyspark.sql.types import StructType, StructField, StringType, IntegerType, DoubleType\n",
    "\n",
    "# Create a schema for the BigMart Sales data\n",
    "sales_schema = StructType([\n",
    "    StructField(\"Item_Identifier\", StringType(), False),\n",
    "    StructField(\"Item_Weight\", DoubleType(), True),\n",
    "    StructField(\"Item_Fat_Content\", StringType(), True),\n",
    "    StructField(\"Item_Visibility\", DoubleType(), True),\n",
    "    StructField(\"Item_Type\", StringType(), True),\n",
    "    StructField(\"Item_MRP\", DoubleType(), True),\n",
    "    StructField(\"Outlet_Identifier\", StringType(), False),\n",
    "    StructField(\"Outlet_Establishment_Year\", IntegerType(), True),\n",
    "    StructField(\"Outlet_Size\", StringType(), True),\n",
    "    StructField(\"Outlet_Location_Type\", StringType(), True),\n",
    "    StructField(\"Outlet_Type\", StringType(), True),\n",
    "    StructField(\"Item_Outlet_Sales\", DoubleType(), True)\n",
    "])\n",
    "\n",
    "# Read the sales data\n",
    "sales_df = spark.read.format('csv')\\\n",
    "                  .option('header', True)\\\n",
    "                  .schema(sales_schema)\\\n",
    "                  .load(f'{workshop_path}/BigMart Sales.csv')\n",
    "\n",
    "# Display the first few rows\n",
    "display(sales_df.limit(5))"
   ]
  },
  {
   "cell_type": "markdown",
   "metadata": {
    "application/vnd.databricks.v1+cell": {
     "cellMetadata": {},
     "inputWidgets": {},
     "nuid": "da7508e9-a078-4681-8385-a5b0c254408f",
     "showTitle": false,
     "tableResultSettingsMap": {},
     "title": ""
    }
   },
   "source": [
    "## Advanced DataFrame Transformations\n",
    "\n",
    "Building on the basic transformations we learned yesterday, let's explore more advanced transformation techniques in PySpark."
   ]
  },
  {
   "cell_type": "markdown",
   "metadata": {
    "application/vnd.databricks.v1+cell": {
     "cellMetadata": {},
     "inputWidgets": {},
     "nuid": "a4997818-f5f4-4ded-ba01-fd782e714dff",
     "showTitle": false,
     "tableResultSettingsMap": {},
     "title": ""
    }
   },
   "source": [
    "### Data Cleaning Operations\n",
    "\n",
    "Data cleaning is a critical part of any data processing pipeline. PySpark provides several functions to help with data cleaning tasks:"
   ]
  },
  {
   "cell_type": "code",
   "execution_count": 0,
   "metadata": {
    "application/vnd.databricks.v1+cell": {
     "cellMetadata": {
      "byteLimit": 2048000,
      "rowLimit": 10000
     },
     "inputWidgets": {},
     "nuid": "d855f0ab-a500-4d66-b1e0-806ce5dc3ed2",
     "showTitle": false,
     "tableResultSettingsMap": {},
     "title": ""
    }
   },
   "outputs": [],
   "source": [
    "# Let's clean our sales data\n",
    "from pyspark.sql.functions import col, when, trim, upper, regexp_replace, coalesce, lit\n",
    "\n",
    "# Create a copy of the DataFrame for cleaning\n",
    "clean_sales_df = sales_df\n",
    "\n",
    "# 1. Standardize text fields (trim whitespace, convert to consistent case)\n",
    "clean_sales_df = clean_sales_df.withColumn(\n",
    "    \"Item_Fat_Content\", upper(trim(col(\"Item_Fat_Content\")))\n",
    ")"
   ]
  },
  {
   "cell_type": "code",
   "execution_count": 0,
   "metadata": {
    "application/vnd.databricks.v1+cell": {
     "cellMetadata": {
      "byteLimit": 2048000,
      "rowLimit": 10000
     },
     "inputWidgets": {},
     "nuid": "3e1f91a5-b7e3-44c6-b3a7-e266c92c1a1a",
     "showTitle": false,
     "tableResultSettingsMap": {},
     "title": ""
    }
   },
   "outputs": [],
   "source": [
    "# 2. Normalize categorical values (e.g., 'low fat', 'LF', 'Low Fat' → 'LOW_FAT')\n",
    "clean_sales_df = clean_sales_df.withColumn(\n",
    "    \"Item_Fat_Content\",\n",
    "    when(col(\"Item_Fat_Content\").isin(\"LOW FAT\", \"LF\"), \"LOW_FAT\")\n",
    "    .when(col(\"Item_Fat_Content\").isin(\"REG\", \"REGULAR\"), \"REGULAR\")\n",
    "    .otherwise(col(\"Item_Fat_Content\"))\n",
    ")"
   ]
  },
  {
   "cell_type": "code",
   "execution_count": 0,
   "metadata": {
    "application/vnd.databricks.v1+cell": {
     "cellMetadata": {
      "byteLimit": 2048000,
      "rowLimit": 10000
     },
     "inputWidgets": {},
     "nuid": "0387586f-bf8a-4abe-bf2d-647c7cc6e4b3",
     "showTitle": false,
     "tableResultSettingsMap": {},
     "title": ""
    }
   },
   "outputs": [
    {
     "output_type": "display_data",
     "data": {
      "text/html": [
       "<style scoped>\n",
       "  .table-result-container {\n",
       "    max-height: 300px;\n",
       "    overflow: auto;\n",
       "  }\n",
       "  table, th, td {\n",
       "    border: 1px solid black;\n",
       "    border-collapse: collapse;\n",
       "  }\n",
       "  th, td {\n",
       "    padding: 5px;\n",
       "  }\n",
       "  th {\n",
       "    text-align: left;\n",
       "  }\n",
       "</style><div class='table-result-container'><table class='table-result'><thead style='background-color: white'><tr><th>Item_Identifier</th><th>Item_Weight</th><th>Item_Fat_Content</th><th>Outlet_Size</th></tr></thead><tbody><tr><td>FDA15</td><td>9.3</td><td>LOW_FAT</td><td>Medium</td></tr><tr><td>DRC01</td><td>5.92</td><td>REGULAR</td><td>Medium</td></tr><tr><td>FDN15</td><td>17.5</td><td>LOW_FAT</td><td>Medium</td></tr><tr><td>FDX07</td><td>19.2</td><td>REGULAR</td><td>Medium</td></tr><tr><td>NCD19</td><td>8.93</td><td>LOW_FAT</td><td>High</td></tr><tr><td>FDP36</td><td>10.395</td><td>REGULAR</td><td>Medium</td></tr><tr><td>FDO10</td><td>13.65</td><td>REGULAR</td><td>High</td></tr><tr><td>FDP10</td><td>12.987879554655919</td><td>LOW_FAT</td><td>Medium</td></tr><tr><td>FDH17</td><td>16.2</td><td>REGULAR</td><td>Medium</td></tr><tr><td>FDU28</td><td>19.2</td><td>REGULAR</td><td>Medium</td></tr></tbody></table></div>"
      ]
     },
     "metadata": {
      "application/vnd.databricks.v1+output": {
       "addedWidgets": {},
       "aggData": [],
       "aggError": "",
       "aggOverflow": false,
       "aggSchema": [],
       "aggSeriesLimitReached": false,
       "aggType": "",
       "arguments": {},
       "columnCustomDisplayInfos": {},
       "data": [
        [
         "FDA15",
         9.3,
         "LOW_FAT",
         "Medium"
        ],
        [
         "DRC01",
         5.92,
         "REGULAR",
         "Medium"
        ],
        [
         "FDN15",
         17.5,
         "LOW_FAT",
         "Medium"
        ],
        [
         "FDX07",
         19.2,
         "REGULAR",
         "Medium"
        ],
        [
         "NCD19",
         8.93,
         "LOW_FAT",
         "High"
        ],
        [
         "FDP36",
         10.395,
         "REGULAR",
         "Medium"
        ],
        [
         "FDO10",
         13.65,
         "REGULAR",
         "High"
        ],
        [
         "FDP10",
         12.987879554655919,
         "LOW_FAT",
         "Medium"
        ],
        [
         "FDH17",
         16.2,
         "REGULAR",
         "Medium"
        ],
        [
         "FDU28",
         19.2,
         "REGULAR",
         "Medium"
        ]
       ],
       "datasetInfos": [],
       "dbfsResultPath": null,
       "isJsonSchema": true,
       "metadata": {},
       "overflow": false,
       "plotOptions": {
        "customPlotOptions": {},
        "displayType": "table",
        "pivotAggregation": null,
        "pivotColumns": null,
        "xColumns": null,
        "yColumns": null
       },
       "removedWidgets": [],
       "schema": [
        {
         "metadata": "{}",
         "name": "Item_Identifier",
         "type": "\"string\""
        },
        {
         "metadata": "{}",
         "name": "Item_Weight",
         "type": "\"double\""
        },
        {
         "metadata": "{}",
         "name": "Item_Fat_Content",
         "type": "\"string\""
        },
        {
         "metadata": "{}",
         "name": "Outlet_Size",
         "type": "\"string\""
        }
       ],
       "type": "table"
      }
     },
     "output_type": "display_data"
    }
   ],
   "source": [
    "from pyspark.sql.functions import avg, col, coalesce, lit\n",
    "\n",
    "# 3. Handle missing values\n",
    "# - For numerical columns, replace nulls with average/median\n",
    "# - For categorical columns, replace nulls with mode or a default value\n",
    "\n",
    "# Calculate average weight by item type\n",
    "avg_weight_by_type = clean_sales_df.filter(col(\"Item_Weight\").isNotNull()) \\\n",
    "                        .groupBy(\"Item_Type\") \\\n",
    "                        .avg(\"Item_Weight\") \\\n",
    "                        .withColumnRenamed(\"avg(Item_Weight)\", \"Avg_Weight\")\n",
    "\n",
    "# Join back to original data to fill missing weights\n",
    "clean_sales_df = clean_sales_df.join(\n",
    "    avg_weight_by_type,\n",
    "    \"Item_Type\",\n",
    "    \"left\"\n",
    ")\n",
    "\n",
    "# Fill missing Item_Weight with calculated average by type\n",
    "clean_sales_df = clean_sales_df.withColumn(\n",
    "    \"Item_Weight\",\n",
    "    coalesce(col(\"Item_Weight\"), col(\"Avg_Weight\"))\n",
    ")\n",
    "\n",
    "# Fill remaining missing weights with overall average\n",
    "overall_avg_weight = clean_sales_df.filter(col(\"Item_Weight\").isNotNull()) \\\n",
    "                         .select(avg(col(\"Item_Weight\"))).collect()[0][0]\n",
    "\n",
    "clean_sales_df = clean_sales_df.withColumn(\n",
    "    \"Item_Weight\",\n",
    "    coalesce(col(\"Item_Weight\"), lit(overall_avg_weight))\n",
    ").drop(\"Avg_Weight\")  # Drop the temporary average column\n",
    "\n",
    "# Fill missing Outlet_Size with 'Medium' (assuming it's the most common)\n",
    "clean_sales_df = clean_sales_df.withColumn(\n",
    "    \"Outlet_Size\",\n",
    "    coalesce(col(\"Outlet_Size\"), lit(\"Medium\"))\n",
    ")\n",
    "\n",
    "# Display the cleaned data\n",
    "display(clean_sales_df.select(\n",
    "    \"Item_Identifier\", \"Item_Weight\", \"Item_Fat_Content\", \"Outlet_Size\"\n",
    ").limit(10))"
   ]
  },
  {
   "cell_type": "markdown",
   "metadata": {
    "application/vnd.databricks.v1+cell": {
     "cellMetadata": {},
     "inputWidgets": {},
     "nuid": "b7f5ec0f-187c-401e-bad2-3d158f52c746",
     "showTitle": false,
     "tableResultSettingsMap": {},
     "title": ""
    }
   },
   "source": [
    "### Column Transformations and Type Conversions\n",
    "\n",
    "Let's explore various column transformations including type conversions, string manipulations, and date handling:"
   ]
  },
  {
   "cell_type": "code",
   "execution_count": 0,
   "metadata": {
    "application/vnd.databricks.v1+cell": {
     "cellMetadata": {
      "byteLimit": 2048000,
      "rowLimit": 10000
     },
     "inputWidgets": {},
     "nuid": "5690ed02-2f21-46f4-b8bb-4f5ce7d3b27e",
     "showTitle": false,
     "tableResultSettingsMap": {},
     "title": ""
    }
   },
   "outputs": [],
   "source": [
    "# Column transformations and type conversions\n",
    "from pyspark.sql.functions import (\n",
    "    year, month, dayofmonth, to_date, datediff, current_date,\n",
    "    concat, concat_ws, substring, length, round as spark_round\n",
    ")\n",
    "\n",
    "# 1. Create a date column from the establishment year\n",
    "clean_sales_df = clean_sales_df.withColumn(\n",
    "    \"Establishment_Date\", \n",
    "    to_date(concat(col(\"Outlet_Establishment_Year\"), lit(\"-01-01\")), \"yyyy-MM-dd\")\n",
    ")"
   ]
  },
  {
   "cell_type": "code",
   "execution_count": 0,
   "metadata": {
    "application/vnd.databricks.v1+cell": {
     "cellMetadata": {
      "byteLimit": 2048000,
      "rowLimit": 10000
     },
     "inputWidgets": {},
     "nuid": "841bf702-d879-43aa-bb61-89cdaff8227f",
     "showTitle": false,
     "tableResultSettingsMap": {},
     "title": ""
    }
   },
   "outputs": [],
   "source": [
    "\n",
    "# 2. Calculate outlet age in years (as of current date)\n",
    "clean_sales_df = clean_sales_df.withColumn(\n",
    "    \"Outlet_Age_Years\",\n",
    "    year(current_date()) - col(\"Outlet_Establishment_Year\")\n",
    ")"
   ]
  },
  {
   "cell_type": "code",
   "execution_count": 0,
   "metadata": {
    "application/vnd.databricks.v1+cell": {
     "cellMetadata": {
      "byteLimit": 2048000,
      "rowLimit": 10000
     },
     "inputWidgets": {},
     "nuid": "0b48b703-53ad-47fb-a46a-896122dea5ad",
     "showTitle": false,
     "tableResultSettingsMap": {},
     "title": ""
    }
   },
   "outputs": [],
   "source": [
    "# 3. Create a combined ID column using concat\n",
    "clean_sales_df = clean_sales_df.withColumn(\n",
    "    \"Item_Outlet_ID\",\n",
    "    concat_ws(\"-\", col(\"Item_Identifier\"), col(\"Outlet_Identifier\"))\n",
    ")\n"
   ]
  },
  {
   "cell_type": "code",
   "execution_count": 0,
   "metadata": {
    "application/vnd.databricks.v1+cell": {
     "cellMetadata": {
      "byteLimit": 2048000,
      "rowLimit": 10000
     },
     "inputWidgets": {},
     "nuid": "8a79fd36-f88a-487c-a32f-4cae635a523f",
     "showTitle": false,
     "tableResultSettingsMap": {},
     "title": ""
    }
   },
   "outputs": [
    {
     "output_type": "display_data",
     "data": {
      "text/html": [
       "<style scoped>\n",
       "  .table-result-container {\n",
       "    max-height: 300px;\n",
       "    overflow: auto;\n",
       "  }\n",
       "  table, th, td {\n",
       "    border: 1px solid black;\n",
       "    border-collapse: collapse;\n",
       "  }\n",
       "  th, td {\n",
       "    padding: 5px;\n",
       "  }\n",
       "  th {\n",
       "    text-align: left;\n",
       "  }\n",
       "</style><div class='table-result-container'><table class='table-result'><thead style='background-color: white'><tr><th>Item_Identifier</th><th>Item_Category_Code</th><th>Outlet_Identifier</th><th>Item_Outlet_ID</th><th>Establishment_Date</th><th>Outlet_Age_Years</th><th>Item_MRP</th><th>Item_MRP_Rounded</th><th>Price_Category</th></tr></thead><tbody><tr><td>FDA15</td><td>FD</td><td>OUT049</td><td>FDA15-OUT049</td><td>1999-01-01</td><td>26</td><td>249.8092</td><td>250.0</td><td>Premium</td></tr><tr><td>DRC01</td><td>DR</td><td>OUT018</td><td>DRC01-OUT018</td><td>2009-01-01</td><td>16</td><td>48.2692</td><td>48.0</td><td>Budget</td></tr><tr><td>FDN15</td><td>FD</td><td>OUT049</td><td>FDN15-OUT049</td><td>1999-01-01</td><td>26</td><td>141.618</td><td>142.0</td><td>Standard</td></tr><tr><td>FDX07</td><td>FD</td><td>OUT010</td><td>FDX07-OUT010</td><td>1998-01-01</td><td>27</td><td>182.095</td><td>182.0</td><td>Standard</td></tr><tr><td>NCD19</td><td>NC</td><td>OUT013</td><td>NCD19-OUT013</td><td>1987-01-01</td><td>38</td><td>53.8614</td><td>54.0</td><td>Economy</td></tr><tr><td>FDP36</td><td>FD</td><td>OUT018</td><td>FDP36-OUT018</td><td>2009-01-01</td><td>16</td><td>51.4008</td><td>51.0</td><td>Economy</td></tr><tr><td>FDO10</td><td>FD</td><td>OUT013</td><td>FDO10-OUT013</td><td>1987-01-01</td><td>38</td><td>57.6588</td><td>58.0</td><td>Economy</td></tr><tr><td>FDP10</td><td>FD</td><td>OUT027</td><td>FDP10-OUT027</td><td>1985-01-01</td><td>40</td><td>107.7622</td><td>108.0</td><td>Standard</td></tr><tr><td>FDH17</td><td>FD</td><td>OUT045</td><td>FDH17-OUT045</td><td>2002-01-01</td><td>23</td><td>96.9726</td><td>97.0</td><td>Economy</td></tr><tr><td>FDU28</td><td>FD</td><td>OUT017</td><td>FDU28-OUT017</td><td>2007-01-01</td><td>18</td><td>187.8214</td><td>188.0</td><td>Standard</td></tr></tbody></table></div>"
      ]
     },
     "metadata": {
      "application/vnd.databricks.v1+output": {
       "addedWidgets": {},
       "aggData": [],
       "aggError": "",
       "aggOverflow": false,
       "aggSchema": [],
       "aggSeriesLimitReached": false,
       "aggType": "",
       "arguments": {},
       "columnCustomDisplayInfos": {},
       "data": [
        [
         "FDA15",
         "FD",
         "OUT049",
         "FDA15-OUT049",
         "1999-01-01",
         26,
         249.8092,
         250.0,
         "Premium"
        ],
        [
         "DRC01",
         "DR",
         "OUT018",
         "DRC01-OUT018",
         "2009-01-01",
         16,
         48.2692,
         48.0,
         "Budget"
        ],
        [
         "FDN15",
         "FD",
         "OUT049",
         "FDN15-OUT049",
         "1999-01-01",
         26,
         141.618,
         142.0,
         "Standard"
        ],
        [
         "FDX07",
         "FD",
         "OUT010",
         "FDX07-OUT010",
         "1998-01-01",
         27,
         182.095,
         182.0,
         "Standard"
        ],
        [
         "NCD19",
         "NC",
         "OUT013",
         "NCD19-OUT013",
         "1987-01-01",
         38,
         53.8614,
         54.0,
         "Economy"
        ],
        [
         "FDP36",
         "FD",
         "OUT018",
         "FDP36-OUT018",
         "2009-01-01",
         16,
         51.4008,
         51.0,
         "Economy"
        ],
        [
         "FDO10",
         "FD",
         "OUT013",
         "FDO10-OUT013",
         "1987-01-01",
         38,
         57.6588,
         58.0,
         "Economy"
        ],
        [
         "FDP10",
         "FD",
         "OUT027",
         "FDP10-OUT027",
         "1985-01-01",
         40,
         107.7622,
         108.0,
         "Standard"
        ],
        [
         "FDH17",
         "FD",
         "OUT045",
         "FDH17-OUT045",
         "2002-01-01",
         23,
         96.9726,
         97.0,
         "Economy"
        ],
        [
         "FDU28",
         "FD",
         "OUT017",
         "FDU28-OUT017",
         "2007-01-01",
         18,
         187.8214,
         188.0,
         "Standard"
        ]
       ],
       "datasetInfos": [],
       "dbfsResultPath": null,
       "isJsonSchema": true,
       "metadata": {},
       "overflow": false,
       "plotOptions": {
        "customPlotOptions": {},
        "displayType": "table",
        "pivotAggregation": null,
        "pivotColumns": null,
        "xColumns": null,
        "yColumns": null
       },
       "removedWidgets": [],
       "schema": [
        {
         "metadata": "{}",
         "name": "Item_Identifier",
         "type": "\"string\""
        },
        {
         "metadata": "{}",
         "name": "Item_Category_Code",
         "type": "\"string\""
        },
        {
         "metadata": "{}",
         "name": "Outlet_Identifier",
         "type": "\"string\""
        },
        {
         "metadata": "{}",
         "name": "Item_Outlet_ID",
         "type": "\"string\""
        },
        {
         "metadata": "{}",
         "name": "Establishment_Date",
         "type": "\"date\""
        },
        {
         "metadata": "{}",
         "name": "Outlet_Age_Years",
         "type": "\"integer\""
        },
        {
         "metadata": "{}",
         "name": "Item_MRP",
         "type": "\"double\""
        },
        {
         "metadata": "{}",
         "name": "Item_MRP_Rounded",
         "type": "\"double\""
        },
        {
         "metadata": "{}",
         "name": "Price_Category",
         "type": "\"string\""
        }
       ],
       "type": "table"
      }
     },
     "output_type": "display_data"
    }
   ],
   "source": [
    "\n",
    "# 4. Extract first character from Item_Identifier (indicating category)\n",
    "clean_sales_df = clean_sales_df.withColumn(\n",
    "    \"Item_Category_Code\",\n",
    "    substring(col(\"Item_Identifier\"), 1, 2)\n",
    ")\n",
    "\n",
    "# 5. Round numerical values for better presentation\n",
    "clean_sales_df = clean_sales_df.withColumn(\n",
    "    \"Item_MRP_Rounded\",\n",
    "    spark_round(col(\"Item_MRP\"), 0)\n",
    ")\n",
    "\n",
    "# 6. Create price category based on MRP\n",
    "clean_sales_df = clean_sales_df.withColumn(\n",
    "    \"Price_Category\",\n",
    "    when(col(\"Item_MRP\") < 50, \"Budget\")\n",
    "    .when(col(\"Item_MRP\") < 100, \"Economy\")\n",
    "    .when(col(\"Item_MRP\") < 200, \"Standard\")\n",
    "    .otherwise(\"Premium\")\n",
    ")\n",
    "\n",
    "# Display the transformed data\n",
    "display(clean_sales_df.select(\n",
    "    \"Item_Identifier\", \n",
    "    \"Item_Category_Code\",\n",
    "    \"Outlet_Identifier\", \n",
    "    \"Item_Outlet_ID\",\n",
    "    \"Establishment_Date\", \n",
    "    \"Outlet_Age_Years\",\n",
    "    \"Item_MRP\",\n",
    "    \"Item_MRP_Rounded\",\n",
    "    \"Price_Category\"\n",
    ").limit(10))"
   ]
  },
  {
   "cell_type": "markdown",
   "metadata": {
    "application/vnd.databricks.v1+cell": {
     "cellMetadata": {},
     "inputWidgets": {},
     "nuid": "87e547a1-9a97-47ae-9d8c-acc4f2e956cd",
     "showTitle": false,
     "tableResultSettingsMap": {},
     "title": ""
    }
   },
   "source": [
    "## Aggregations and Grouping\n",
    "\n",
    "Aggregations are operations that summarize multiple rows into a single result. They are often used with `groupBy()` to perform calculations on groups of data.\n",
    "\n",
    "Common Aggregation Functions:\n",
    "- `count()`: Count rows\n",
    "- `sum()`: Sum values in a column\n",
    "- `avg()`: Calculate the average\n",
    "- `min()`, `max()`: Find minimum and maximum values\n",
    "- `first()`, `last()`: Get first or last values in a group\n",
    "- `collect_list()`, `collect_set()`: Collect values into arrays"
   ]
  },
  {
   "cell_type": "code",
   "execution_count": 0,
   "metadata": {
    "application/vnd.databricks.v1+cell": {
     "cellMetadata": {
      "byteLimit": 2048000,
      "rowLimit": 10000
     },
     "inputWidgets": {},
     "nuid": "51d33dd9-4bb3-4b69-84d6-f450154503a2",
     "showTitle": false,
     "tableResultSettingsMap": {},
     "title": ""
    }
   },
   "outputs": [
    {
     "output_type": "display_data",
     "data": {
      "text/html": [
       "<style scoped>\n",
       "  .table-result-container {\n",
       "    max-height: 300px;\n",
       "    overflow: auto;\n",
       "  }\n",
       "  table, th, td {\n",
       "    border: 1px solid black;\n",
       "    border-collapse: collapse;\n",
       "  }\n",
       "  th, td {\n",
       "    padding: 5px;\n",
       "  }\n",
       "  th {\n",
       "    text-align: left;\n",
       "  }\n",
       "</style><div class='table-result-container'><table class='table-result'><thead style='background-color: white'><tr><th>Outlet_Type</th><th>Item_Count</th><th>Total_Sales</th><th>Avg_Sales_Per_Item</th><th>Min_Sales</th><th>Max_Sales</th></tr></thead><tbody><tr><td>Supermarket Type3</td><td>935</td><td>3453926.0514</td><td>3694.038557647059</td><td>241.6854</td><td>13086.9648</td></tr><tr><td>Supermarket Type1</td><td>5577</td><td>1.2917342262999993E7</td><td>2316.1811481083005</td><td>73.238</td><td>10256.649</td></tr><tr><td>Grocery Store</td><td>1083</td><td>368034.266</td><td>339.8285004616805</td><td>33.29</td><td>1775.6886</td></tr><tr><td>Supermarket Type2</td><td>928</td><td>1851822.8300000012</td><td>1995.4987392241392</td><td>69.2432</td><td>6768.5228</td></tr></tbody></table></div>"
      ]
     },
     "metadata": {
      "application/vnd.databricks.v1+output": {
       "addedWidgets": {},
       "aggData": [],
       "aggError": "",
       "aggOverflow": false,
       "aggSchema": [],
       "aggSeriesLimitReached": false,
       "aggType": "",
       "arguments": {},
       "columnCustomDisplayInfos": {},
       "data": [
        [
         "Supermarket Type3",
         935,
         3453926.0514,
         3694.038557647059,
         241.6854,
         13086.9648
        ],
        [
         "Supermarket Type1",
         5577,
         1.2917342262999993E7,
         2316.1811481083005,
         73.238,
         10256.649
        ],
        [
         "Grocery Store",
         1083,
         368034.266,
         339.8285004616805,
         33.29,
         1775.6886
        ],
        [
         "Supermarket Type2",
         928,
         1851822.8300000012,
         1995.4987392241392,
         69.2432,
         6768.5228
        ]
       ],
       "datasetInfos": [],
       "dbfsResultPath": null,
       "isJsonSchema": true,
       "metadata": {},
       "overflow": false,
       "plotOptions": {
        "customPlotOptions": {},
        "displayType": "table",
        "pivotAggregation": null,
        "pivotColumns": null,
        "xColumns": null,
        "yColumns": null
       },
       "removedWidgets": [],
       "schema": [
        {
         "metadata": "{}",
         "name": "Outlet_Type",
         "type": "\"string\""
        },
        {
         "metadata": "{}",
         "name": "Item_Count",
         "type": "\"long\""
        },
        {
         "metadata": "{}",
         "name": "Total_Sales",
         "type": "\"double\""
        },
        {
         "metadata": "{}",
         "name": "Avg_Sales_Per_Item",
         "type": "\"double\""
        },
        {
         "metadata": "{}",
         "name": "Min_Sales",
         "type": "\"double\""
        },
        {
         "metadata": "{}",
         "name": "Max_Sales",
         "type": "\"double\""
        }
       ],
       "type": "table"
      }
     },
     "output_type": "display_data"
    },
    {
     "output_type": "display_data",
     "data": {
      "text/html": [
       "<style scoped>\n",
       "  .table-result-container {\n",
       "    max-height: 300px;\n",
       "    overflow: auto;\n",
       "  }\n",
       "  table, th, td {\n",
       "    border: 1px solid black;\n",
       "    border-collapse: collapse;\n",
       "  }\n",
       "  th, td {\n",
       "    padding: 5px;\n",
       "  }\n",
       "  th {\n",
       "    text-align: left;\n",
       "  }\n",
       "</style><div class='table-result-container'><table class='table-result'><thead style='background-color: white'><tr><th>Item_Type</th><th>Item_Count</th><th>Total_Sales</th><th>Avg_Price</th><th>Available_In_Outlets</th></tr></thead><tbody><tr><td>Canned</td><td>649</td><td>1444151.4926</td><td>139.76383204930661</td><td>List(OUT018, OUT046, OUT045, OUT035, OUT049, OUT019, OUT013, OUT017, OUT010, OUT027)</td></tr><tr><td>Meat</td><td>425</td><td>917565.6119999998</td><td>139.88203247058826</td><td>List(OUT035, OUT027, OUT049, OUT010, OUT013, OUT018, OUT045, OUT019, OUT046, OUT017)</td></tr><tr><td>Starchy Foods</td><td>148</td><td>351401.2504</td><td>147.83802297297296</td><td>List(OUT046, OUT027, OUT049, OUT017, OUT018, OUT010, OUT045, OUT013, OUT035, OUT019)</td></tr><tr><td>Baking Goods</td><td>648</td><td>1265525.3421999998</td><td>126.38076604938273</td><td>List(OUT010, OUT013, OUT019, OUT017, OUT046, OUT018, OUT035, OUT027, OUT045, OUT049)</td></tr><tr><td>Snack Foods</td><td>1200</td><td>2732786.0870000003</td><td>146.19493366666669</td><td>List(OUT013, OUT035, OUT049, OUT046, OUT010, OUT027, OUT045, OUT018, OUT017, OUT019)</td></tr><tr><td>Breakfast</td><td>110</td><td>232298.95160000003</td><td>141.78815090909092</td><td>List(OUT046, OUT013, OUT049, OUT035, OUT019, OUT010, OUT017, OUT045, OUT018, OUT027)</td></tr><tr><td>Dairy</td><td>682</td><td>1522594.0511999996</td><td>148.4992076246334</td><td>List(OUT017, OUT027, OUT013, OUT035, OUT045, OUT019, OUT018, OUT010, OUT049, OUT046)</td></tr><tr><td>Household</td><td>910</td><td>2055493.7132</td><td>149.42475318681318</td><td>List(OUT018, OUT019, OUT010, OUT027, OUT017, OUT045, OUT049, OUT013, OUT046, OUT035)</td></tr><tr><td>Seafood</td><td>64</td><td>148868.2194</td><td>141.84171875</td><td>List(OUT035, OUT027, OUT045, OUT049, OUT013, OUT046, OUT010, OUT019, OUT018, OUT017)</td></tr><tr><td>Frozen Foods</td><td>856</td><td>1825734.7885999999</td><td>138.50336612149533</td><td>List(OUT045, OUT010, OUT035, OUT013, OUT018, OUT027, OUT019, OUT049, OUT017, OUT046)</td></tr><tr><td>Breads</td><td>251</td><td>553237.1887999999</td><td>140.95266852589646</td><td>List(OUT049, OUT018, OUT046, OUT045, OUT035, OUT010, OUT027, OUT019, OUT013, OUT017)</td></tr><tr><td>Fruits and Vegetables</td><td>1232</td><td>2820059.8168</td><td>144.58123457792212</td><td>List(OUT045, OUT017, OUT027, OUT046, OUT013, OUT018, OUT035, OUT019, OUT010, OUT049)</td></tr><tr><td>Health and Hygiene</td><td>520</td><td>1045200.1378000001</td><td>130.81892076923077</td><td>List(OUT010, OUT019, OUT013, OUT049, OUT035, OUT017, OUT046, OUT045, OUT018, OUT027)</td></tr><tr><td>Soft Drinks</td><td>445</td><td>892897.722</td><td>131.49250561797754</td><td>List(OUT019, OUT045, OUT010, OUT035, OUT049, OUT013, OUT046, OUT017, OUT027, OUT018)</td></tr><tr><td>Others</td><td>169</td><td>325517.6096</td><td>132.85142958579883</td><td>List(OUT027, OUT017, OUT045, OUT019, OUT035, OUT013, OUT049, OUT046, OUT018, OUT010)</td></tr><tr><td>Hard Drinks</td><td>214</td><td>457793.4271999999</td><td>137.07792803738315</td><td>List(OUT017, OUT035, OUT018, OUT046, OUT010, OUT027, OUT019, OUT013, OUT049, OUT045)</td></tr></tbody></table></div>"
      ]
     },
     "metadata": {
      "application/vnd.databricks.v1+output": {
       "addedWidgets": {},
       "aggData": [],
       "aggError": "",
       "aggOverflow": false,
       "aggSchema": [],
       "aggSeriesLimitReached": false,
       "aggType": "",
       "arguments": {},
       "columnCustomDisplayInfos": {},
       "data": [
        [
         "Canned",
         649,
         1444151.4926,
         139.76383204930661,
         [
          "OUT018",
          "OUT046",
          "OUT045",
          "OUT035",
          "OUT049",
          "OUT019",
          "OUT013",
          "OUT017",
          "OUT010",
          "OUT027"
         ]
        ],
        [
         "Meat",
         425,
         917565.6119999998,
         139.88203247058826,
         [
          "OUT035",
          "OUT027",
          "OUT049",
          "OUT010",
          "OUT013",
          "OUT018",
          "OUT045",
          "OUT019",
          "OUT046",
          "OUT017"
         ]
        ],
        [
         "Starchy Foods",
         148,
         351401.2504,
         147.83802297297296,
         [
          "OUT046",
          "OUT027",
          "OUT049",
          "OUT017",
          "OUT018",
          "OUT010",
          "OUT045",
          "OUT013",
          "OUT035",
          "OUT019"
         ]
        ],
        [
         "Baking Goods",
         648,
         1265525.3421999998,
         126.38076604938273,
         [
          "OUT010",
          "OUT013",
          "OUT019",
          "OUT017",
          "OUT046",
          "OUT018",
          "OUT035",
          "OUT027",
          "OUT045",
          "OUT049"
         ]
        ],
        [
         "Snack Foods",
         1200,
         2732786.0870000003,
         146.19493366666669,
         [
          "OUT013",
          "OUT035",
          "OUT049",
          "OUT046",
          "OUT010",
          "OUT027",
          "OUT045",
          "OUT018",
          "OUT017",
          "OUT019"
         ]
        ],
        [
         "Breakfast",
         110,
         232298.95160000003,
         141.78815090909092,
         [
          "OUT046",
          "OUT013",
          "OUT049",
          "OUT035",
          "OUT019",
          "OUT010",
          "OUT017",
          "OUT045",
          "OUT018",
          "OUT027"
         ]
        ],
        [
         "Dairy",
         682,
         1522594.0511999996,
         148.4992076246334,
         [
          "OUT017",
          "OUT027",
          "OUT013",
          "OUT035",
          "OUT045",
          "OUT019",
          "OUT018",
          "OUT010",
          "OUT049",
          "OUT046"
         ]
        ],
        [
         "Household",
         910,
         2055493.7132,
         149.42475318681318,
         [
          "OUT018",
          "OUT019",
          "OUT010",
          "OUT027",
          "OUT017",
          "OUT045",
          "OUT049",
          "OUT013",
          "OUT046",
          "OUT035"
         ]
        ],
        [
         "Seafood",
         64,
         148868.2194,
         141.84171875,
         [
          "OUT035",
          "OUT027",
          "OUT045",
          "OUT049",
          "OUT013",
          "OUT046",
          "OUT010",
          "OUT019",
          "OUT018",
          "OUT017"
         ]
        ],
        [
         "Frozen Foods",
         856,
         1825734.7885999999,
         138.50336612149533,
         [
          "OUT045",
          "OUT010",
          "OUT035",
          "OUT013",
          "OUT018",
          "OUT027",
          "OUT019",
          "OUT049",
          "OUT017",
          "OUT046"
         ]
        ],
        [
         "Breads",
         251,
         553237.1887999999,
         140.95266852589646,
         [
          "OUT049",
          "OUT018",
          "OUT046",
          "OUT045",
          "OUT035",
          "OUT010",
          "OUT027",
          "OUT019",
          "OUT013",
          "OUT017"
         ]
        ],
        [
         "Fruits and Vegetables",
         1232,
         2820059.8168,
         144.58123457792212,
         [
          "OUT045",
          "OUT017",
          "OUT027",
          "OUT046",
          "OUT013",
          "OUT018",
          "OUT035",
          "OUT019",
          "OUT010",
          "OUT049"
         ]
        ],
        [
         "Health and Hygiene",
         520,
         1045200.1378000001,
         130.81892076923077,
         [
          "OUT010",
          "OUT019",
          "OUT013",
          "OUT049",
          "OUT035",
          "OUT017",
          "OUT046",
          "OUT045",
          "OUT018",
          "OUT027"
         ]
        ],
        [
         "Soft Drinks",
         445,
         892897.722,
         131.49250561797754,
         [
          "OUT019",
          "OUT045",
          "OUT010",
          "OUT035",
          "OUT049",
          "OUT013",
          "OUT046",
          "OUT017",
          "OUT027",
          "OUT018"
         ]
        ],
        [
         "Others",
         169,
         325517.6096,
         132.85142958579883,
         [
          "OUT027",
          "OUT017",
          "OUT045",
          "OUT019",
          "OUT035",
          "OUT013",
          "OUT049",
          "OUT046",
          "OUT018",
          "OUT010"
         ]
        ],
        [
         "Hard Drinks",
         214,
         457793.4271999999,
         137.07792803738315,
         [
          "OUT017",
          "OUT035",
          "OUT018",
          "OUT046",
          "OUT010",
          "OUT027",
          "OUT019",
          "OUT013",
          "OUT049",
          "OUT045"
         ]
        ]
       ],
       "datasetInfos": [],
       "dbfsResultPath": null,
       "isJsonSchema": true,
       "metadata": {},
       "overflow": false,
       "plotOptions": {
        "customPlotOptions": {},
        "displayType": "table",
        "pivotAggregation": null,
        "pivotColumns": null,
        "xColumns": null,
        "yColumns": null
       },
       "removedWidgets": [],
       "schema": [
        {
         "metadata": "{}",
         "name": "Item_Type",
         "type": "\"string\""
        },
        {
         "metadata": "{}",
         "name": "Item_Count",
         "type": "\"long\""
        },
        {
         "metadata": "{}",
         "name": "Total_Sales",
         "type": "\"double\""
        },
        {
         "metadata": "{}",
         "name": "Avg_Price",
         "type": "\"double\""
        },
        {
         "metadata": "{}",
         "name": "Available_In_Outlets",
         "type": "{\"containsNull\":false,\"elementType\":\"string\",\"type\":\"array\"}"
        }
       ],
       "type": "table"
      }
     },
     "output_type": "display_data"
    },
    {
     "output_type": "display_data",
     "data": {
      "text/html": [
       "<style scoped>\n",
       "  .table-result-container {\n",
       "    max-height: 300px;\n",
       "    overflow: auto;\n",
       "  }\n",
       "  table, th, td {\n",
       "    border: 1px solid black;\n",
       "    border-collapse: collapse;\n",
       "  }\n",
       "  th, td {\n",
       "    padding: 5px;\n",
       "  }\n",
       "  th {\n",
       "    text-align: left;\n",
       "  }\n",
       "</style><div class='table-result-container'><table class='table-result'><thead style='background-color: white'><tr><th>Outlet_Type</th><th>Item_Type</th><th>Item_Count</th><th>Total_Sales</th><th>Avg_Sales</th></tr></thead><tbody><tr><td>Grocery Store</td><td>Snack Foods</td><td>146</td><td>51596.171</td><td>353.3984315068493</td></tr><tr><td>Grocery Store</td><td>Fruits and Vegetables</td><td>152</td><td>48602.068400000004</td><td>319.75045</td></tr><tr><td>Grocery Store</td><td>Household</td><td>119</td><td>43707.106799999994</td><td>367.2866117647058</td></tr><tr><td>Grocery Store</td><td>Frozen Foods</td><td>103</td><td>33195.456399999995</td><td>322.2859844660194</td></tr><tr><td>Grocery Store</td><td>Dairy</td><td>92</td><td>31451.7262</td><td>341.8665891304348</td></tr><tr><td>Grocery Store</td><td>Canned</td><td>73</td><td>25759.136199999997</td><td>352.86487945205477</td></tr><tr><td>Grocery Store</td><td>Meat</td><td>66</td><td>25576.707000000006</td><td>387.52586363636374</td></tr><tr><td>Grocery Store</td><td>Baking Goods</td><td>85</td><td>24827.0162</td><td>292.08254352941174</td></tr><tr><td>Grocery Store</td><td>Health and Hygiene</td><td>67</td><td>24515.4218</td><td>365.9018179104478</td></tr><tr><td>Grocery Store</td><td>Soft Drinks</td><td>54</td><td>18554.514400000004</td><td>343.6021185185186</td></tr><tr><td>Grocery Store</td><td>Breads</td><td>33</td><td>12604.925599999997</td><td>381.96744242424234</td></tr><tr><td>Grocery Store</td><td>Breakfast</td><td>19</td><td>7843.7898000000005</td><td>412.8310421052632</td></tr><tr><td>Grocery Store</td><td>Others</td><td>27</td><td>7778.541400000002</td><td>288.094125925926</td></tr><tr><td>Grocery Store</td><td>Hard Drinks</td><td>24</td><td>5835.737</td><td>243.15570833333334</td></tr><tr><td>Grocery Store</td><td>Starchy Foods</td><td>13</td><td>3901.5880000000006</td><td>300.1221538461539</td></tr><tr><td>Grocery Store</td><td>Seafood</td><td>10</td><td>2284.3598</td><td>228.43598000000003</td></tr><tr><td>Supermarket Type1</td><td>Fruits and Vegetables</td><td>805</td><td>1931957.8521999991</td><td>2399.947642484471</td></tr><tr><td>Supermarket Type1</td><td>Snack Foods</td><td>785</td><td>1889387.265999998</td><td>2406.862759235666</td></tr><tr><td>Supermarket Type1</td><td>Household</td><td>597</td><td>1437219.8487999996</td><td>2407.403431825795</td></tr><tr><td>Supermarket Type1</td><td>Frozen Foods</td><td>572</td><td>1292668.0107999989</td><td>2259.909109790208</td></tr><tr><td>Supermarket Type1</td><td>Dairy</td><td>450</td><td>1076694.4752000002</td><td>2392.6543893333337</td></tr><tr><td>Supermarket Type1</td><td>Canned</td><td>426</td><td>1000560.2451999997</td><td>2348.732969953051</td></tr><tr><td>Supermarket Type1</td><td>Baking Goods</td><td>426</td><td>895461.0519999998</td><td>2102.0212488262905</td></tr><tr><td>Supermarket Type1</td><td>Health and Hygiene</td><td>335</td><td>712754.879200001</td><td>2127.6265050746297</td></tr><tr><td>Supermarket Type1</td><td>Soft Drinks</td><td>300</td><td>638025.4871999997</td><td>2126.751623999999</td></tr><tr><td>Supermarket Type1</td><td>Meat</td><td>257</td><td>581044.9915999997</td><td>2260.875453696497</td></tr><tr><td>Supermarket Type1</td><td>Breads</td><td>160</td><td>375508.5368</td><td>2346.928355</td></tr><tr><td>Supermarket Type1</td><td>Hard Drinks</td><td>145</td><td>323554.1653999999</td><td>2231.4080372413787</td></tr><tr><td>Supermarket Type1</td><td>Starchy Foods</td><td>104</td><td>265218.10099999997</td><td>2550.1740480769226</td></tr><tr><td>Supermarket Type1</td><td>Others</td><td>107</td><td>240152.72840000005</td><td>2244.418022429907</td></tr><tr><td>Supermarket Type1</td><td>Breakfast</td><td>68</td><td>151526.75879999998</td><td>2228.334688235294</td></tr><tr><td>Supermarket Type1</td><td>Seafood</td><td>40</td><td>105607.8644</td><td>2640.19661</td></tr><tr><td>Supermarket Type2</td><td>Snack Foods</td><td>132</td><td>278714.53280000004</td><td>2111.4737333333337</td></tr><tr><td>Supermarket Type2</td><td>Fruits and Vegetables</td><td>135</td><td>263471.70759999997</td><td>1951.6422785185182</td></tr><tr><td>Supermarket Type2</td><td>Household</td><td>95</td><td>196267.18719999996</td><td>2065.970391578947</td></tr><tr><td>Supermarket Type2</td><td>Frozen Foods</td><td>92</td><td>183599.01059999998</td><td>1995.6414195652171</td></tr><tr><td>Supermarket Type2</td><td>Dairy</td><td>73</td><td>152130.63940000004</td><td>2083.9813616438364</td></tr><tr><td>Supermarket Type2</td><td>Canned</td><td>78</td><td>145681.70059999995</td><td>1867.7141102564096</td></tr><tr><td>Supermarket Type2</td><td>Baking Goods</td><td>68</td><td>121065.07719999997</td><td>1780.3687823529408</td></tr><tr><td>Supermarket Type2</td><td>Health and Hygiene</td><td>58</td><td>108845.64980000003</td><td>1876.649134482759</td></tr><tr><td>Supermarket Type2</td><td>Meat</td><td>46</td><td>94655.45439999999</td><td>2057.7272695652173</td></tr><tr><td>Supermarket Type2</td><td>Soft Drinks</td><td>46</td><td>88495.47280000003</td><td>1923.8146260869573</td></tr><tr><td>Supermarket Type2</td><td>Breads</td><td>27</td><td>54604.9212</td><td>2022.4044888888889</td></tr><tr><td>Supermarket Type2</td><td>Hard Drinks</td><td>22</td><td>49445.636999999995</td><td>2247.5289545454543</td></tr><tr><td>Supermarket Type2</td><td>Others</td><td>20</td><td>37072.409799999994</td><td>1853.6204899999998</td></tr><tr><td>Supermarket Type2</td><td>Starchy Foods</td><td>17</td><td>33110.8998</td><td>1947.699988235294</td></tr><tr><td>Supermarket Type2</td><td>Breakfast</td><td>12</td><td>22496.0504</td><td>1874.6708666666666</td></tr><tr><td>Supermarket Type2</td><td>Seafood</td><td>7</td><td>22166.4794</td><td>3166.6399142857144</td></tr><tr><td>Supermarket Type3</td><td>Fruits and Vegetables</td><td>140</td><td>576028.1886000003</td><td>4114.487061428574</td></tr><tr><td>Supermarket Type3</td><td>Snack Foods</td><td>137</td><td>513088.1171999999</td><td>3745.168738686131</td></tr><tr><td>Supermarket Type3</td><td>Household</td><td>99</td><td>378299.5704000001</td><td>3821.207781818183</td></tr><tr><td>Supermarket Type3</td><td>Frozen Foods</td><td>89</td><td>316272.31080000004</td><td>3553.6214696629218</td></tr><tr><td>Supermarket Type3</td><td>Canned</td><td>72</td><td>272150.41059999994</td><td>3779.866813888888</td></tr><tr><td>Supermarket Type3</td><td>Dairy</td><td>67</td><td>262317.2104</td><td>3915.182244776119</td></tr><tr><td>Supermarket Type3</td><td>Baking Goods</td><td>69</td><td>224172.19680000003</td><td>3248.8724173913047</td></tr><tr><td>Supermarket Type3</td><td>Meat</td><td>56</td><td>216288.45900000003</td><td>3862.293910714286</td></tr><tr><td>Supermarket Type3</td><td>Health and Hygiene</td><td>60</td><td>199084.18699999998</td><td>3318.069783333333</td></tr><tr><td>Supermarket Type3</td><td>Soft Drinks</td><td>45</td><td>147822.2476</td><td>3284.9388355555557</td></tr><tr><td>Supermarket Type3</td><td>Breads</td><td>31</td><td>110518.80519999997</td><td>3565.1227483870957</td></tr><tr><td>Supermarket Type3</td><td>Hard Drinks</td><td>23</td><td>78957.8878</td><td>3432.951643478261</td></tr><tr><td>Supermarket Type3</td><td>Breakfast</td><td>11</td><td>50432.3526</td><td>4584.759327272727</td></tr><tr><td>Supermarket Type3</td><td>Starchy Foods</td><td>14</td><td>49170.66160000001</td><td>3512.1901142857146</td></tr><tr><td>Supermarket Type3</td><td>Others</td><td>15</td><td>40513.92999999999</td><td>2700.9286666666662</td></tr><tr><td>Supermarket Type3</td><td>Seafood</td><td>7</td><td>18809.515799999997</td><td>2687.073685714285</td></tr></tbody></table></div>"
      ]
     },
     "metadata": {
      "application/vnd.databricks.v1+output": {
       "addedWidgets": {},
       "aggData": [],
       "aggError": "",
       "aggOverflow": false,
       "aggSchema": [],
       "aggSeriesLimitReached": false,
       "aggType": "",
       "arguments": {},
       "columnCustomDisplayInfos": {},
       "data": [
        [
         "Grocery Store",
         "Snack Foods",
         146,
         51596.171,
         353.3984315068493
        ],
        [
         "Grocery Store",
         "Fruits and Vegetables",
         152,
         48602.068400000004,
         319.75045
        ],
        [
         "Grocery Store",
         "Household",
         119,
         43707.106799999994,
         367.2866117647058
        ],
        [
         "Grocery Store",
         "Frozen Foods",
         103,
         33195.456399999995,
         322.2859844660194
        ],
        [
         "Grocery Store",
         "Dairy",
         92,
         31451.7262,
         341.8665891304348
        ],
        [
         "Grocery Store",
         "Canned",
         73,
         25759.136199999997,
         352.86487945205477
        ],
        [
         "Grocery Store",
         "Meat",
         66,
         25576.707000000006,
         387.52586363636374
        ],
        [
         "Grocery Store",
         "Baking Goods",
         85,
         24827.0162,
         292.08254352941174
        ],
        [
         "Grocery Store",
         "Health and Hygiene",
         67,
         24515.4218,
         365.9018179104478
        ],
        [
         "Grocery Store",
         "Soft Drinks",
         54,
         18554.514400000004,
         343.6021185185186
        ],
        [
         "Grocery Store",
         "Breads",
         33,
         12604.925599999997,
         381.96744242424234
        ],
        [
         "Grocery Store",
         "Breakfast",
         19,
         7843.7898000000005,
         412.8310421052632
        ],
        [
         "Grocery Store",
         "Others",
         27,
         7778.541400000002,
         288.094125925926
        ],
        [
         "Grocery Store",
         "Hard Drinks",
         24,
         5835.737,
         243.15570833333334
        ],
        [
         "Grocery Store",
         "Starchy Foods",
         13,
         3901.5880000000006,
         300.1221538461539
        ],
        [
         "Grocery Store",
         "Seafood",
         10,
         2284.3598,
         228.43598000000003
        ],
        [
         "Supermarket Type1",
         "Fruits and Vegetables",
         805,
         1931957.8521999991,
         2399.947642484471
        ],
        [
         "Supermarket Type1",
         "Snack Foods",
         785,
         1889387.265999998,
         2406.862759235666
        ],
        [
         "Supermarket Type1",
         "Household",
         597,
         1437219.8487999996,
         2407.403431825795
        ],
        [
         "Supermarket Type1",
         "Frozen Foods",
         572,
         1292668.0107999989,
         2259.909109790208
        ],
        [
         "Supermarket Type1",
         "Dairy",
         450,
         1076694.4752000002,
         2392.6543893333337
        ],
        [
         "Supermarket Type1",
         "Canned",
         426,
         1000560.2451999997,
         2348.732969953051
        ],
        [
         "Supermarket Type1",
         "Baking Goods",
         426,
         895461.0519999998,
         2102.0212488262905
        ],
        [
         "Supermarket Type1",
         "Health and Hygiene",
         335,
         712754.879200001,
         2127.6265050746297
        ],
        [
         "Supermarket Type1",
         "Soft Drinks",
         300,
         638025.4871999997,
         2126.751623999999
        ],
        [
         "Supermarket Type1",
         "Meat",
         257,
         581044.9915999997,
         2260.875453696497
        ],
        [
         "Supermarket Type1",
         "Breads",
         160,
         375508.5368,
         2346.928355
        ],
        [
         "Supermarket Type1",
         "Hard Drinks",
         145,
         323554.1653999999,
         2231.4080372413787
        ],
        [
         "Supermarket Type1",
         "Starchy Foods",
         104,
         265218.10099999997,
         2550.1740480769226
        ],
        [
         "Supermarket Type1",
         "Others",
         107,
         240152.72840000005,
         2244.418022429907
        ],
        [
         "Supermarket Type1",
         "Breakfast",
         68,
         151526.75879999998,
         2228.334688235294
        ],
        [
         "Supermarket Type1",
         "Seafood",
         40,
         105607.8644,
         2640.19661
        ],
        [
         "Supermarket Type2",
         "Snack Foods",
         132,
         278714.53280000004,
         2111.4737333333337
        ],
        [
         "Supermarket Type2",
         "Fruits and Vegetables",
         135,
         263471.70759999997,
         1951.6422785185182
        ],
        [
         "Supermarket Type2",
         "Household",
         95,
         196267.18719999996,
         2065.970391578947
        ],
        [
         "Supermarket Type2",
         "Frozen Foods",
         92,
         183599.01059999998,
         1995.6414195652171
        ],
        [
         "Supermarket Type2",
         "Dairy",
         73,
         152130.63940000004,
         2083.9813616438364
        ],
        [
         "Supermarket Type2",
         "Canned",
         78,
         145681.70059999995,
         1867.7141102564096
        ],
        [
         "Supermarket Type2",
         "Baking Goods",
         68,
         121065.07719999997,
         1780.3687823529408
        ],
        [
         "Supermarket Type2",
         "Health and Hygiene",
         58,
         108845.64980000003,
         1876.649134482759
        ],
        [
         "Supermarket Type2",
         "Meat",
         46,
         94655.45439999999,
         2057.7272695652173
        ],
        [
         "Supermarket Type2",
         "Soft Drinks",
         46,
         88495.47280000003,
         1923.8146260869573
        ],
        [
         "Supermarket Type2",
         "Breads",
         27,
         54604.9212,
         2022.4044888888889
        ],
        [
         "Supermarket Type2",
         "Hard Drinks",
         22,
         49445.636999999995,
         2247.5289545454543
        ],
        [
         "Supermarket Type2",
         "Others",
         20,
         37072.409799999994,
         1853.6204899999998
        ],
        [
         "Supermarket Type2",
         "Starchy Foods",
         17,
         33110.8998,
         1947.699988235294
        ],
        [
         "Supermarket Type2",
         "Breakfast",
         12,
         22496.0504,
         1874.6708666666666
        ],
        [
         "Supermarket Type2",
         "Seafood",
         7,
         22166.4794,
         3166.6399142857144
        ],
        [
         "Supermarket Type3",
         "Fruits and Vegetables",
         140,
         576028.1886000003,
         4114.487061428574
        ],
        [
         "Supermarket Type3",
         "Snack Foods",
         137,
         513088.1171999999,
         3745.168738686131
        ],
        [
         "Supermarket Type3",
         "Household",
         99,
         378299.5704000001,
         3821.207781818183
        ],
        [
         "Supermarket Type3",
         "Frozen Foods",
         89,
         316272.31080000004,
         3553.6214696629218
        ],
        [
         "Supermarket Type3",
         "Canned",
         72,
         272150.41059999994,
         3779.866813888888
        ],
        [
         "Supermarket Type3",
         "Dairy",
         67,
         262317.2104,
         3915.182244776119
        ],
        [
         "Supermarket Type3",
         "Baking Goods",
         69,
         224172.19680000003,
         3248.8724173913047
        ],
        [
         "Supermarket Type3",
         "Meat",
         56,
         216288.45900000003,
         3862.293910714286
        ],
        [
         "Supermarket Type3",
         "Health and Hygiene",
         60,
         199084.18699999998,
         3318.069783333333
        ],
        [
         "Supermarket Type3",
         "Soft Drinks",
         45,
         147822.2476,
         3284.9388355555557
        ],
        [
         "Supermarket Type3",
         "Breads",
         31,
         110518.80519999997,
         3565.1227483870957
        ],
        [
         "Supermarket Type3",
         "Hard Drinks",
         23,
         78957.8878,
         3432.951643478261
        ],
        [
         "Supermarket Type3",
         "Breakfast",
         11,
         50432.3526,
         4584.759327272727
        ],
        [
         "Supermarket Type3",
         "Starchy Foods",
         14,
         49170.66160000001,
         3512.1901142857146
        ],
        [
         "Supermarket Type3",
         "Others",
         15,
         40513.92999999999,
         2700.9286666666662
        ],
        [
         "Supermarket Type3",
         "Seafood",
         7,
         18809.515799999997,
         2687.073685714285
        ]
       ],
       "datasetInfos": [],
       "dbfsResultPath": null,
       "isJsonSchema": true,
       "metadata": {},
       "overflow": false,
       "plotOptions": {
        "customPlotOptions": {},
        "displayType": "table",
        "pivotAggregation": null,
        "pivotColumns": null,
        "xColumns": null,
        "yColumns": null
       },
       "removedWidgets": [],
       "schema": [
        {
         "metadata": "{}",
         "name": "Outlet_Type",
         "type": "\"string\""
        },
        {
         "metadata": "{}",
         "name": "Item_Type",
         "type": "\"string\""
        },
        {
         "metadata": "{}",
         "name": "Item_Count",
         "type": "\"long\""
        },
        {
         "metadata": "{}",
         "name": "Total_Sales",
         "type": "\"double\""
        },
        {
         "metadata": "{}",
         "name": "Avg_Sales",
         "type": "\"double\""
        }
       ],
       "type": "table"
      }
     },
     "output_type": "display_data"
    }
   ],
   "source": [
    "# Basic aggregations\n",
    "from pyspark.sql.functions import count, sum, avg, min, max, first, last, collect_list, collect_set\n",
    "\n",
    "# 1. Group by Outlet_Type and calculate sales metrics\n",
    "outlet_type_metrics = clean_sales_df.groupBy(\"Outlet_Type\").agg(\n",
    "    count(\"*\").alias(\"Item_Count\"),\n",
    "    sum(\"Item_Outlet_Sales\").alias(\"Total_Sales\"),\n",
    "    avg(\"Item_Outlet_Sales\").alias(\"Avg_Sales_Per_Item\"),\n",
    "    min(\"Item_Outlet_Sales\").alias(\"Min_Sales\"),\n",
    "    max(\"Item_Outlet_Sales\").alias(\"Max_Sales\")\n",
    ")\n",
    "\n",
    "display(outlet_type_metrics)\n",
    "\n",
    "# 2. Group by Item_Type and calculate sales and price metrics\n",
    "item_type_metrics = clean_sales_df.groupBy(\"Item_Type\").agg(\n",
    "    count(\"*\").alias(\"Item_Count\"),\n",
    "    sum(\"Item_Outlet_Sales\").alias(\"Total_Sales\"),\n",
    "    avg(\"Item_MRP\").alias(\"Avg_Price\"),\n",
    "    collect_set(\"Outlet_Identifier\").alias(\"Available_In_Outlets\")\n",
    ")\n",
    "\n",
    "display(item_type_metrics)\n",
    "\n",
    "# 3. Multi-level grouping: Outlet_Type and Item_Type\n",
    "multi_level_metrics = clean_sales_df.groupBy(\"Outlet_Type\", \"Item_Type\").agg(\n",
    "    count(\"*\").alias(\"Item_Count\"),\n",
    "    sum(\"Item_Outlet_Sales\").alias(\"Total_Sales\"),\n",
    "    avg(\"Item_Outlet_Sales\").alias(\"Avg_Sales\")\n",
    ").orderBy(\"Outlet_Type\", \"Total_Sales\", ascending=[True, False])\n",
    "\n",
    "display(multi_level_metrics)"
   ]
  },
  {
   "cell_type": "markdown",
   "metadata": {
    "application/vnd.databricks.v1+cell": {
     "cellMetadata": {},
     "inputWidgets": {},
     "nuid": "8c7f78be-57ff-44e7-9dfb-259baa68f6f0",
     "showTitle": false,
     "tableResultSettingsMap": {},
     "title": ""
    }
   },
   "source": [
    "### Pivot Operations\n",
    "\n",
    "Pivot operations transform rows into columns, creating a cross-tabulation of data. This is useful for reporting and analysis purposes:"
   ]
  },
  {
   "cell_type": "code",
   "execution_count": 0,
   "metadata": {
    "application/vnd.databricks.v1+cell": {
     "cellMetadata": {
      "byteLimit": 2048000,
      "rowLimit": 10000
     },
     "inputWidgets": {},
     "nuid": "cfb7b21e-1914-496a-9dd3-67c0b6311dca",
     "showTitle": false,
     "tableResultSettingsMap": {},
     "title": ""
    }
   },
   "outputs": [
    {
     "output_type": "display_data",
     "data": {
      "text/html": [
       "<style scoped>\n",
       "  .table-result-container {\n",
       "    max-height: 300px;\n",
       "    overflow: auto;\n",
       "  }\n",
       "  table, th, td {\n",
       "    border: 1px solid black;\n",
       "    border-collapse: collapse;\n",
       "  }\n",
       "  th, td {\n",
       "    padding: 5px;\n",
       "  }\n",
       "  th {\n",
       "    text-align: left;\n",
       "  }\n",
       "</style><div class='table-result-container'><table class='table-result'><thead style='background-color: white'><tr><th>Item_Type</th><th>Grocery Store</th><th>Supermarket Type1</th><th>Supermarket Type2</th><th>Supermarket Type3</th></tr></thead><tbody><tr><td>Baking Goods</td><td>24827.0162</td><td>895461.0519999998</td><td>121065.07719999997</td><td>224172.19680000003</td></tr><tr><td>Breads</td><td>12604.925599999997</td><td>375508.5368</td><td>54604.9212</td><td>110518.80519999997</td></tr><tr><td>Breakfast</td><td>7843.7898000000005</td><td>151526.75879999998</td><td>22496.0504</td><td>50432.3526</td></tr><tr><td>Canned</td><td>25759.136199999997</td><td>1000560.2451999997</td><td>145681.70059999995</td><td>272150.41059999994</td></tr><tr><td>Dairy</td><td>31451.7262</td><td>1076694.4752000002</td><td>152130.63940000004</td><td>262317.2104</td></tr><tr><td>Frozen Foods</td><td>33195.456399999995</td><td>1292668.0107999989</td><td>183599.01059999998</td><td>316272.31080000004</td></tr><tr><td>Fruits and Vegetables</td><td>48602.068400000004</td><td>1931957.8521999991</td><td>263471.70759999997</td><td>576028.1886000003</td></tr><tr><td>Hard Drinks</td><td>5835.737</td><td>323554.1653999999</td><td>49445.636999999995</td><td>78957.8878</td></tr><tr><td>Health and Hygiene</td><td>24515.4218</td><td>712754.879200001</td><td>108845.64980000003</td><td>199084.18699999998</td></tr><tr><td>Household</td><td>43707.106799999994</td><td>1437219.8487999996</td><td>196267.18719999996</td><td>378299.5704000001</td></tr><tr><td>Meat</td><td>25576.707000000006</td><td>581044.9915999997</td><td>94655.45439999999</td><td>216288.45900000003</td></tr><tr><td>Others</td><td>7778.541400000002</td><td>240152.72840000005</td><td>37072.409799999994</td><td>40513.92999999999</td></tr><tr><td>Seafood</td><td>2284.3598</td><td>105607.8644</td><td>22166.4794</td><td>18809.515799999997</td></tr><tr><td>Snack Foods</td><td>51596.171</td><td>1889387.265999998</td><td>278714.53280000004</td><td>513088.1171999999</td></tr><tr><td>Soft Drinks</td><td>18554.514400000004</td><td>638025.4871999997</td><td>88495.47280000003</td><td>147822.2476</td></tr><tr><td>Starchy Foods</td><td>3901.5880000000006</td><td>265218.10099999997</td><td>33110.8998</td><td>49170.66160000001</td></tr></tbody></table></div>"
      ]
     },
     "metadata": {
      "application/vnd.databricks.v1+output": {
       "addedWidgets": {},
       "aggData": [],
       "aggError": "",
       "aggOverflow": false,
       "aggSchema": [],
       "aggSeriesLimitReached": false,
       "aggType": "",
       "arguments": {},
       "columnCustomDisplayInfos": {},
       "data": [
        [
         "Baking Goods",
         24827.0162,
         895461.0519999998,
         121065.07719999997,
         224172.19680000003
        ],
        [
         "Breads",
         12604.925599999997,
         375508.5368,
         54604.9212,
         110518.80519999997
        ],
        [
         "Breakfast",
         7843.7898000000005,
         151526.75879999998,
         22496.0504,
         50432.3526
        ],
        [
         "Canned",
         25759.136199999997,
         1000560.2451999997,
         145681.70059999995,
         272150.41059999994
        ],
        [
         "Dairy",
         31451.7262,
         1076694.4752000002,
         152130.63940000004,
         262317.2104
        ],
        [
         "Frozen Foods",
         33195.456399999995,
         1292668.0107999989,
         183599.01059999998,
         316272.31080000004
        ],
        [
         "Fruits and Vegetables",
         48602.068400000004,
         1931957.8521999991,
         263471.70759999997,
         576028.1886000003
        ],
        [
         "Hard Drinks",
         5835.737,
         323554.1653999999,
         49445.636999999995,
         78957.8878
        ],
        [
         "Health and Hygiene",
         24515.4218,
         712754.879200001,
         108845.64980000003,
         199084.18699999998
        ],
        [
         "Household",
         43707.106799999994,
         1437219.8487999996,
         196267.18719999996,
         378299.5704000001
        ],
        [
         "Meat",
         25576.707000000006,
         581044.9915999997,
         94655.45439999999,
         216288.45900000003
        ],
        [
         "Others",
         7778.541400000002,
         240152.72840000005,
         37072.409799999994,
         40513.92999999999
        ],
        [
         "Seafood",
         2284.3598,
         105607.8644,
         22166.4794,
         18809.515799999997
        ],
        [
         "Snack Foods",
         51596.171,
         1889387.265999998,
         278714.53280000004,
         513088.1171999999
        ],
        [
         "Soft Drinks",
         18554.514400000004,
         638025.4871999997,
         88495.47280000003,
         147822.2476
        ],
        [
         "Starchy Foods",
         3901.5880000000006,
         265218.10099999997,
         33110.8998,
         49170.66160000001
        ]
       ],
       "datasetInfos": [],
       "dbfsResultPath": null,
       "isJsonSchema": true,
       "metadata": {},
       "overflow": false,
       "plotOptions": {
        "customPlotOptions": {},
        "displayType": "table",
        "pivotAggregation": null,
        "pivotColumns": null,
        "xColumns": null,
        "yColumns": null
       },
       "removedWidgets": [],
       "schema": [
        {
         "metadata": "{}",
         "name": "Item_Type",
         "type": "\"string\""
        },
        {
         "metadata": "{}",
         "name": "Grocery Store",
         "type": "\"double\""
        },
        {
         "metadata": "{}",
         "name": "Supermarket Type1",
         "type": "\"double\""
        },
        {
         "metadata": "{}",
         "name": "Supermarket Type2",
         "type": "\"double\""
        },
        {
         "metadata": "{}",
         "name": "Supermarket Type3",
         "type": "\"double\""
        }
       ],
       "type": "table"
      }
     },
     "output_type": "display_data"
    },
    {
     "output_type": "display_data",
     "data": {
      "text/html": [
       "<style scoped>\n",
       "  .table-result-container {\n",
       "    max-height: 300px;\n",
       "    overflow: auto;\n",
       "  }\n",
       "  table, th, td {\n",
       "    border: 1px solid black;\n",
       "    border-collapse: collapse;\n",
       "  }\n",
       "  th, td {\n",
       "    padding: 5px;\n",
       "  }\n",
       "  th {\n",
       "    text-align: left;\n",
       "  }\n",
       "</style><div class='table-result-container'><table class='table-result'><thead style='background-color: white'><tr><th>Item_Type</th><th>Grocery Store</th><th>Supermarket Type1</th><th>Supermarket Type2</th><th>Supermarket Type3</th></tr></thead><tbody><tr><td>Baking Goods</td><td>24827.0162</td><td>895461.0519999998</td><td>121065.07719999997</td><td>224172.19680000003</td></tr><tr><td>Breads</td><td>12604.925599999997</td><td>375508.5368</td><td>54604.9212</td><td>110518.80519999997</td></tr><tr><td>Breakfast</td><td>7843.7898000000005</td><td>151526.75879999998</td><td>22496.0504</td><td>50432.3526</td></tr><tr><td>Canned</td><td>25759.136199999997</td><td>1000560.2451999997</td><td>145681.70059999995</td><td>272150.41059999994</td></tr><tr><td>Dairy</td><td>31451.7262</td><td>1076694.4752000002</td><td>152130.63940000004</td><td>262317.2104</td></tr><tr><td>Frozen Foods</td><td>33195.456399999995</td><td>1292668.0107999989</td><td>183599.01059999998</td><td>316272.31080000004</td></tr><tr><td>Fruits and Vegetables</td><td>48602.068400000004</td><td>1931957.8521999991</td><td>263471.70759999997</td><td>576028.1886000003</td></tr><tr><td>Hard Drinks</td><td>5835.737</td><td>323554.1653999999</td><td>49445.636999999995</td><td>78957.8878</td></tr><tr><td>Health and Hygiene</td><td>24515.4218</td><td>712754.879200001</td><td>108845.64980000003</td><td>199084.18699999998</td></tr><tr><td>Household</td><td>43707.106799999994</td><td>1437219.8487999996</td><td>196267.18719999996</td><td>378299.5704000001</td></tr><tr><td>Meat</td><td>25576.707000000006</td><td>581044.9915999997</td><td>94655.45439999999</td><td>216288.45900000003</td></tr><tr><td>Others</td><td>7778.541400000002</td><td>240152.72840000005</td><td>37072.409799999994</td><td>40513.92999999999</td></tr><tr><td>Seafood</td><td>2284.3598</td><td>105607.8644</td><td>22166.4794</td><td>18809.515799999997</td></tr><tr><td>Snack Foods</td><td>51596.171</td><td>1889387.265999998</td><td>278714.53280000004</td><td>513088.1171999999</td></tr><tr><td>Soft Drinks</td><td>18554.514400000004</td><td>638025.4871999997</td><td>88495.47280000003</td><td>147822.2476</td></tr><tr><td>Starchy Foods</td><td>3901.5880000000006</td><td>265218.10099999997</td><td>33110.8998</td><td>49170.66160000001</td></tr></tbody></table></div>"
      ]
     },
     "metadata": {
      "application/vnd.databricks.v1+output": {
       "addedWidgets": {},
       "aggData": [],
       "aggError": "",
       "aggOverflow": false,
       "aggSchema": [],
       "aggSeriesLimitReached": false,
       "aggType": "",
       "arguments": {},
       "columnCustomDisplayInfos": {},
       "data": [
        [
         "Baking Goods",
         24827.0162,
         895461.0519999998,
         121065.07719999997,
         224172.19680000003
        ],
        [
         "Breads",
         12604.925599999997,
         375508.5368,
         54604.9212,
         110518.80519999997
        ],
        [
         "Breakfast",
         7843.7898000000005,
         151526.75879999998,
         22496.0504,
         50432.3526
        ],
        [
         "Canned",
         25759.136199999997,
         1000560.2451999997,
         145681.70059999995,
         272150.41059999994
        ],
        [
         "Dairy",
         31451.7262,
         1076694.4752000002,
         152130.63940000004,
         262317.2104
        ],
        [
         "Frozen Foods",
         33195.456399999995,
         1292668.0107999989,
         183599.01059999998,
         316272.31080000004
        ],
        [
         "Fruits and Vegetables",
         48602.068400000004,
         1931957.8521999991,
         263471.70759999997,
         576028.1886000003
        ],
        [
         "Hard Drinks",
         5835.737,
         323554.1653999999,
         49445.636999999995,
         78957.8878
        ],
        [
         "Health and Hygiene",
         24515.4218,
         712754.879200001,
         108845.64980000003,
         199084.18699999998
        ],
        [
         "Household",
         43707.106799999994,
         1437219.8487999996,
         196267.18719999996,
         378299.5704000001
        ],
        [
         "Meat",
         25576.707000000006,
         581044.9915999997,
         94655.45439999999,
         216288.45900000003
        ],
        [
         "Others",
         7778.541400000002,
         240152.72840000005,
         37072.409799999994,
         40513.92999999999
        ],
        [
         "Seafood",
         2284.3598,
         105607.8644,
         22166.4794,
         18809.515799999997
        ],
        [
         "Snack Foods",
         51596.171,
         1889387.265999998,
         278714.53280000004,
         513088.1171999999
        ],
        [
         "Soft Drinks",
         18554.514400000004,
         638025.4871999997,
         88495.47280000003,
         147822.2476
        ],
        [
         "Starchy Foods",
         3901.5880000000006,
         265218.10099999997,
         33110.8998,
         49170.66160000001
        ]
       ],
       "datasetInfos": [],
       "dbfsResultPath": null,
       "isJsonSchema": true,
       "metadata": {},
       "overflow": false,
       "plotOptions": {
        "customPlotOptions": {},
        "displayType": "table",
        "pivotAggregation": null,
        "pivotColumns": null,
        "xColumns": null,
        "yColumns": null
       },
       "removedWidgets": [],
       "schema": [
        {
         "metadata": "{}",
         "name": "Item_Type",
         "type": "\"string\""
        },
        {
         "metadata": "{}",
         "name": "Grocery Store",
         "type": "\"double\""
        },
        {
         "metadata": "{}",
         "name": "Supermarket Type1",
         "type": "\"double\""
        },
        {
         "metadata": "{}",
         "name": "Supermarket Type2",
         "type": "\"double\""
        },
        {
         "metadata": "{}",
         "name": "Supermarket Type3",
         "type": "\"double\""
        }
       ],
       "type": "table"
      }
     },
     "output_type": "display_data"
    },
    {
     "output_type": "display_data",
     "data": {
      "text/html": [
       "<style scoped>\n",
       "  .table-result-container {\n",
       "    max-height: 300px;\n",
       "    overflow: auto;\n",
       "  }\n",
       "  table, th, td {\n",
       "    border: 1px solid black;\n",
       "    border-collapse: collapse;\n",
       "  }\n",
       "  th, td {\n",
       "    padding: 5px;\n",
       "  }\n",
       "  th {\n",
       "    text-align: left;\n",
       "  }\n",
       "</style><div class='table-result-container'><table class='table-result'><thead style='background-color: white'><tr><th>Item_Type</th><th>Budget</th><th>Economy</th><th>Premium</th><th>Standard</th></tr></thead><tbody><tr><td>Baking Goods</td><td>66</td><td>199</td><td>64</td><td>319</td></tr><tr><td>Breads</td><td>23</td><td>54</td><td>53</td><td>121</td></tr><tr><td>Breakfast</td><td>9</td><td>20</td><td>15</td><td>66</td></tr><tr><td>Canned</td><td>29</td><td>180</td><td>111</td><td>329</td></tr><tr><td>Dairy</td><td>57</td><td>169</td><td>181</td><td>275</td></tr><tr><td>Frozen Foods</td><td>95</td><td>188</td><td>166</td><td>407</td></tr><tr><td>Fruits and Vegetables</td><td>93</td><td>220</td><td>217</td><td>702</td></tr><tr><td>Hard Drinks</td><td>31</td><td>21</td><td>25</td><td>137</td></tr><tr><td>Health and Hygiene</td><td>68</td><td>90</td><td>59</td><td>303</td></tr><tr><td>Household</td><td>82</td><td>106</td><td>177</td><td>545</td></tr><tr><td>Meat</td><td>33</td><td>79</td><td>56</td><td>257</td></tr><tr><td>Others</td><td>11</td><td>35</td><td>19</td><td>104</td></tr><tr><td>Seafood</td><td>7</td><td>5</td><td>4</td><td>48</td></tr><tr><td>Snack Foods</td><td>70</td><td>198</td><td>216</td><td>716</td></tr><tr><td>Soft Drinks</td><td>66</td><td>86</td><td>39</td><td>254</td></tr><tr><td>Starchy Foods</td><td>17</td><td>32</td><td>38</td><td>61</td></tr></tbody></table></div>"
      ]
     },
     "metadata": {
      "application/vnd.databricks.v1+output": {
       "addedWidgets": {},
       "aggData": [],
       "aggError": "",
       "aggOverflow": false,
       "aggSchema": [],
       "aggSeriesLimitReached": false,
       "aggType": "",
       "arguments": {},
       "columnCustomDisplayInfos": {},
       "data": [
        [
         "Baking Goods",
         66,
         199,
         64,
         319
        ],
        [
         "Breads",
         23,
         54,
         53,
         121
        ],
        [
         "Breakfast",
         9,
         20,
         15,
         66
        ],
        [
         "Canned",
         29,
         180,
         111,
         329
        ],
        [
         "Dairy",
         57,
         169,
         181,
         275
        ],
        [
         "Frozen Foods",
         95,
         188,
         166,
         407
        ],
        [
         "Fruits and Vegetables",
         93,
         220,
         217,
         702
        ],
        [
         "Hard Drinks",
         31,
         21,
         25,
         137
        ],
        [
         "Health and Hygiene",
         68,
         90,
         59,
         303
        ],
        [
         "Household",
         82,
         106,
         177,
         545
        ],
        [
         "Meat",
         33,
         79,
         56,
         257
        ],
        [
         "Others",
         11,
         35,
         19,
         104
        ],
        [
         "Seafood",
         7,
         5,
         4,
         48
        ],
        [
         "Snack Foods",
         70,
         198,
         216,
         716
        ],
        [
         "Soft Drinks",
         66,
         86,
         39,
         254
        ],
        [
         "Starchy Foods",
         17,
         32,
         38,
         61
        ]
       ],
       "datasetInfos": [],
       "dbfsResultPath": null,
       "isJsonSchema": true,
       "metadata": {},
       "overflow": false,
       "plotOptions": {
        "customPlotOptions": {},
        "displayType": "table",
        "pivotAggregation": null,
        "pivotColumns": null,
        "xColumns": null,
        "yColumns": null
       },
       "removedWidgets": [],
       "schema": [
        {
         "metadata": "{}",
         "name": "Item_Type",
         "type": "\"string\""
        },
        {
         "metadata": "{}",
         "name": "Budget",
         "type": "\"long\""
        },
        {
         "metadata": "{}",
         "name": "Economy",
         "type": "\"long\""
        },
        {
         "metadata": "{}",
         "name": "Premium",
         "type": "\"long\""
        },
        {
         "metadata": "{}",
         "name": "Standard",
         "type": "\"long\""
        }
       ],
       "type": "table"
      }
     },
     "output_type": "display_data"
    }
   ],
   "source": [
    "# Pivot example: Item types across different outlet types\n",
    "pivot_df = clean_sales_df.groupBy(\"Item_Type\").pivot(\n",
    "    \"Outlet_Type\"\n",
    ").agg(\n",
    "    sum(\"Item_Outlet_Sales\").alias(\"Total_Sales\")\n",
    ").orderBy(\"Item_Type\")\n",
    "\n",
    "display(pivot_df)\n",
    "\n",
    "# Fill nulls with zeros for better presentation\n",
    "from pyspark.sql.functions import coalesce, lit\n",
    "\n",
    "# Get list of all Outlet_Type columns (they become column names after pivot)\n",
    "outlet_type_cols = [col for col in pivot_df.columns if col != \"Item_Type\"]\n",
    "\n",
    "# Replace nulls with zeros\n",
    "for col_name in outlet_type_cols:\n",
    "    pivot_df = pivot_df.withColumn(col_name, coalesce(col(col_name), lit(0)))\n",
    "\n",
    "display(pivot_df)\n",
    "\n",
    "# Another pivot example: Average price by Item_Type across Price_Category\n",
    "price_pivot = clean_sales_df.groupBy(\"Item_Type\").pivot(\n",
    "    \"Price_Category\"\n",
    ").agg(\n",
    "    count(\"Item_Identifier\").alias(\"Item_Count\")  # FIXED: use a specific column\n",
    ").orderBy(\"Item_Type\")\n",
    "\n",
    "display(price_pivot)"
   ]
  },
  {
   "cell_type": "markdown",
   "metadata": {
    "application/vnd.databricks.v1+cell": {
     "cellMetadata": {},
     "inputWidgets": {},
     "nuid": "322f0bb0-d532-4524-b0c6-9b8ee7f4dbc3",
     "showTitle": false,
     "tableResultSettingsMap": {},
     "title": ""
    }
   },
   "source": [
    "## Working with SQL in Spark\n",
    "\n",
    "PySpark allows you to execute SQL queries on your DataFrames by registering them as temporary views. This is powerful for users familiar with SQL and enables complex data manipulations using SQL syntax."
   ]
  },
  {
   "cell_type": "code",
   "execution_count": 0,
   "metadata": {
    "application/vnd.databricks.v1+cell": {
     "cellMetadata": {
      "byteLimit": 2048000,
      "rowLimit": 10000
     },
     "inputWidgets": {},
     "nuid": "92332bfe-8704-466f-a29d-3ab33441bf99",
     "showTitle": false,
     "tableResultSettingsMap": {},
     "title": ""
    }
   },
   "outputs": [
    {
     "output_type": "display_data",
     "data": {
      "text/html": [
       "<style scoped>\n",
       "  .table-result-container {\n",
       "    max-height: 300px;\n",
       "    overflow: auto;\n",
       "  }\n",
       "  table, th, td {\n",
       "    border: 1px solid black;\n",
       "    border-collapse: collapse;\n",
       "  }\n",
       "  th, td {\n",
       "    padding: 5px;\n",
       "  }\n",
       "  th {\n",
       "    text-align: left;\n",
       "  }\n",
       "</style><div class='table-result-container'><table class='table-result'><thead style='background-color: white'><tr><th>Outlet_Type</th><th>Item_Count</th><th>Total_Sales</th><th>Avg_Sales_Per_Item</th><th>Min_Sales</th><th>Max_Sales</th></tr></thead><tbody><tr><td>Supermarket Type1</td><td>5577</td><td>1.2917342262999993E7</td><td>2316.1811481083005</td><td>73.238</td><td>10256.649</td></tr><tr><td>Supermarket Type3</td><td>935</td><td>3453926.0514</td><td>3694.038557647059</td><td>241.6854</td><td>13086.9648</td></tr><tr><td>Supermarket Type2</td><td>928</td><td>1851822.8300000012</td><td>1995.4987392241392</td><td>69.2432</td><td>6768.5228</td></tr><tr><td>Grocery Store</td><td>1083</td><td>368034.266</td><td>339.8285004616805</td><td>33.29</td><td>1775.6886</td></tr></tbody></table></div>"
      ]
     },
     "metadata": {
      "application/vnd.databricks.v1+output": {
       "addedWidgets": {},
       "aggData": [],
       "aggError": "",
       "aggOverflow": false,
       "aggSchema": [],
       "aggSeriesLimitReached": false,
       "aggType": "",
       "arguments": {},
       "columnCustomDisplayInfos": {},
       "data": [
        [
         "Supermarket Type1",
         5577,
         1.2917342262999993E7,
         2316.1811481083005,
         73.238,
         10256.649
        ],
        [
         "Supermarket Type3",
         935,
         3453926.0514,
         3694.038557647059,
         241.6854,
         13086.9648
        ],
        [
         "Supermarket Type2",
         928,
         1851822.8300000012,
         1995.4987392241392,
         69.2432,
         6768.5228
        ],
        [
         "Grocery Store",
         1083,
         368034.266,
         339.8285004616805,
         33.29,
         1775.6886
        ]
       ],
       "datasetInfos": [],
       "dbfsResultPath": null,
       "isJsonSchema": true,
       "metadata": {},
       "overflow": false,
       "plotOptions": {
        "customPlotOptions": {},
        "displayType": "table",
        "pivotAggregation": null,
        "pivotColumns": null,
        "xColumns": null,
        "yColumns": null
       },
       "removedWidgets": [],
       "schema": [
        {
         "metadata": "{}",
         "name": "Outlet_Type",
         "type": "\"string\""
        },
        {
         "metadata": "{}",
         "name": "Item_Count",
         "type": "\"long\""
        },
        {
         "metadata": "{}",
         "name": "Total_Sales",
         "type": "\"double\""
        },
        {
         "metadata": "{}",
         "name": "Avg_Sales_Per_Item",
         "type": "\"double\""
        },
        {
         "metadata": "{}",
         "name": "Min_Sales",
         "type": "\"double\""
        },
        {
         "metadata": "{}",
         "name": "Max_Sales",
         "type": "\"double\""
        }
       ],
       "type": "table"
      }
     },
     "output_type": "display_data"
    },
    {
     "output_type": "display_data",
     "data": {
      "text/html": [
       "<style scoped>\n",
       "  .table-result-container {\n",
       "    max-height: 300px;\n",
       "    overflow: auto;\n",
       "  }\n",
       "  table, th, td {\n",
       "    border: 1px solid black;\n",
       "    border-collapse: collapse;\n",
       "  }\n",
       "  th, td {\n",
       "    padding: 5px;\n",
       "  }\n",
       "  th {\n",
       "    text-align: left;\n",
       "  }\n",
       "</style><div class='table-result-container'><table class='table-result'><thead style='background-color: white'><tr><th>Item_Type</th><th>Item_Count</th><th>Total_Sales</th><th>Avg_Price</th><th>Avg_LowFat_Sales</th><th>Avg_Regular_Sales</th><th>Premium_Sales_Percentage</th></tr></thead><tbody><tr><td>Fruits and Vegetables</td><td>1232</td><td>2820059.8168000015</td><td>144.58123457792206</td><td>1116.0029353896095</td><td>1173.0066561688332</td><td>29.688643581682456</td></tr><tr><td>Snack Foods</td><td>1200</td><td>2732786.087000002</td><td>146.19493366666669</td><td>1390.907799499999</td><td>886.4139396666664</td><td>28.380308026648677</td></tr><tr><td>Household</td><td>910</td><td>2055493.7131999983</td><td>149.42475318681318</td><td>2258.7843002197783</td><td>0.0</td><td>29.510691378163283</td></tr><tr><td>Frozen Foods</td><td>856</td><td>1825734.7885999978</td><td>138.50336612149533</td><td>1113.1903768691584</td><td>1019.6773668224295</td><td>35.62696947341284</td></tr><tr><td>Dairy</td><td>682</td><td>1522594.0511999999</td><td>148.49920762463336</td><td>1314.7841568914944</td><td>917.7584401759528</td><td>43.14537287744264</td></tr><tr><td>Canned</td><td>649</td><td>1444151.4925999993</td><td>139.76383204930647</td><td>1160.5109436055463</td><td>1064.6839602465334</td><td>29.038835949612903</td></tr><tr><td>Baking Goods</td><td>648</td><td>1265525.3422</td><td>126.38076604938273</td><td>895.8698614197526</td><td>1057.1013456790117</td><td>18.56626747525593</td></tr><tr><td>Health and Hygiene</td><td>520</td><td>1045200.1378000001</td><td>130.81892076923077</td><td>2010.0002650000004</td><td>0.0</td><td>20.666105675670334</td></tr><tr><td>Meat</td><td>425</td><td>917565.6119999996</td><td>139.88203247058814</td><td>814.2467679999997</td><td>1344.7311425882344</td><td>23.213606745323418</td></tr><tr><td>Soft Drinks</td><td>445</td><td>892897.7219999991</td><td>131.49250561797746</td><td>1710.6945505617975</td><td>295.8171842696629</td><td>16.512687440813085</td></tr><tr><td>Breads</td><td>251</td><td>553237.1887999995</td><td>140.9526685258964</td><td>1217.8516509960166</td><td>986.2805752988046</td><td>34.12176148343558</td></tr><tr><td>Hard Drinks</td><td>214</td><td>457793.42719999974</td><td>137.07792803738315</td><td>2139.2216224299054</td><td>0.0</td><td>20.235782100805153</td></tr><tr><td>Starchy Foods</td><td>148</td><td>351401.2504000002</td><td>147.83802297297294</td><td>1417.5061945945945</td><td>956.826578378378</td><td>35.562384896966186</td></tr><tr><td>Others</td><td>169</td><td>325517.6096</td><td>132.85142958579885</td><td>1926.139701775148</td><td>0.0</td><td>20.64686487547861</td></tr><tr><td>Breakfast</td><td>110</td><td>232298.95160000006</td><td>141.78815090909092</td><td>904.0171872727271</td><td>1207.7914636363637</td><td>21.653071636161435</td></tr><tr><td>Seafood</td><td>64</td><td>148868.21940000003</td><td>141.84171875000004</td><td>1102.9393125</td><td>1223.1266156249999</td><td>10.787457567991842</td></tr></tbody></table></div>"
      ]
     },
     "metadata": {
      "application/vnd.databricks.v1+output": {
       "addedWidgets": {},
       "aggData": [],
       "aggError": "",
       "aggOverflow": false,
       "aggSchema": [],
       "aggSeriesLimitReached": false,
       "aggType": "",
       "arguments": {},
       "columnCustomDisplayInfos": {},
       "data": [
        [
         "Fruits and Vegetables",
         1232,
         2820059.8168000015,
         144.58123457792206,
         1116.0029353896095,
         1173.0066561688332,
         29.688643581682456
        ],
        [
         "Snack Foods",
         1200,
         2732786.087000002,
         146.19493366666669,
         1390.907799499999,
         886.4139396666664,
         28.380308026648677
        ],
        [
         "Household",
         910,
         2055493.7131999983,
         149.42475318681318,
         2258.7843002197783,
         0.0,
         29.510691378163283
        ],
        [
         "Frozen Foods",
         856,
         1825734.7885999978,
         138.50336612149533,
         1113.1903768691584,
         1019.6773668224295,
         35.62696947341284
        ],
        [
         "Dairy",
         682,
         1522594.0511999999,
         148.49920762463336,
         1314.7841568914944,
         917.7584401759528,
         43.14537287744264
        ],
        [
         "Canned",
         649,
         1444151.4925999993,
         139.76383204930647,
         1160.5109436055463,
         1064.6839602465334,
         29.038835949612903
        ],
        [
         "Baking Goods",
         648,
         1265525.3422,
         126.38076604938273,
         895.8698614197526,
         1057.1013456790117,
         18.56626747525593
        ],
        [
         "Health and Hygiene",
         520,
         1045200.1378000001,
         130.81892076923077,
         2010.0002650000004,
         0.0,
         20.666105675670334
        ],
        [
         "Meat",
         425,
         917565.6119999996,
         139.88203247058814,
         814.2467679999997,
         1344.7311425882344,
         23.213606745323418
        ],
        [
         "Soft Drinks",
         445,
         892897.7219999991,
         131.49250561797746,
         1710.6945505617975,
         295.8171842696629,
         16.512687440813085
        ],
        [
         "Breads",
         251,
         553237.1887999995,
         140.9526685258964,
         1217.8516509960166,
         986.2805752988046,
         34.12176148343558
        ],
        [
         "Hard Drinks",
         214,
         457793.42719999974,
         137.07792803738315,
         2139.2216224299054,
         0.0,
         20.235782100805153
        ],
        [
         "Starchy Foods",
         148,
         351401.2504000002,
         147.83802297297294,
         1417.5061945945945,
         956.826578378378,
         35.562384896966186
        ],
        [
         "Others",
         169,
         325517.6096,
         132.85142958579885,
         1926.139701775148,
         0.0,
         20.64686487547861
        ],
        [
         "Breakfast",
         110,
         232298.95160000006,
         141.78815090909092,
         904.0171872727271,
         1207.7914636363637,
         21.653071636161435
        ],
        [
         "Seafood",
         64,
         148868.21940000003,
         141.84171875000004,
         1102.9393125,
         1223.1266156249999,
         10.787457567991842
        ]
       ],
       "datasetInfos": [],
       "dbfsResultPath": null,
       "isJsonSchema": true,
       "metadata": {},
       "overflow": false,
       "plotOptions": {
        "customPlotOptions": {},
        "displayType": "table",
        "pivotAggregation": null,
        "pivotColumns": null,
        "xColumns": null,
        "yColumns": null
       },
       "removedWidgets": [],
       "schema": [
        {
         "metadata": "{}",
         "name": "Item_Type",
         "type": "\"string\""
        },
        {
         "metadata": "{}",
         "name": "Item_Count",
         "type": "\"long\""
        },
        {
         "metadata": "{}",
         "name": "Total_Sales",
         "type": "\"double\""
        },
        {
         "metadata": "{}",
         "name": "Avg_Price",
         "type": "\"double\""
        },
        {
         "metadata": "{}",
         "name": "Avg_LowFat_Sales",
         "type": "\"double\""
        },
        {
         "metadata": "{}",
         "name": "Avg_Regular_Sales",
         "type": "\"double\""
        },
        {
         "metadata": "{}",
         "name": "Premium_Sales_Percentage",
         "type": "\"double\""
        }
       ],
       "type": "table"
      }
     },
     "output_type": "display_data"
    }
   ],
   "source": [
    "# Register our cleaned sales DataFrame as a temporary view\n",
    "clean_sales_df.createOrReplaceTempView(\"sales\")\n",
    "\n",
    "# Now we can use SQL to query the data\n",
    "sales_by_outlet_sql = spark.sql(\"\"\"\n",
    "SELECT \n",
    "    Outlet_Type,\n",
    "    COUNT(*) AS Item_Count,\n",
    "    SUM(Item_Outlet_Sales) AS Total_Sales,\n",
    "    AVG(Item_Outlet_Sales) AS Avg_Sales_Per_Item,\n",
    "    MIN(Item_Outlet_Sales) AS Min_Sales,\n",
    "    MAX(Item_Outlet_Sales) AS Max_Sales\n",
    "FROM sales\n",
    "GROUP BY Outlet_Type\n",
    "ORDER BY Total_Sales DESC\n",
    "\"\"\")\n",
    "\n",
    "display(sales_by_outlet_sql)\n",
    "\n",
    "# Complex SQL query with multiple aggregations and conditions\n",
    "sales_analysis_sql = spark.sql(\"\"\"\n",
    "SELECT \n",
    "    Item_Type,\n",
    "    COUNT(*) AS Item_Count,\n",
    "    SUM(Item_Outlet_Sales) AS Total_Sales,\n",
    "    AVG(Item_MRP) AS Avg_Price,\n",
    "    AVG(CASE WHEN Item_Fat_Content = 'LOW_FAT' THEN Item_Outlet_Sales ELSE 0 END) AS Avg_LowFat_Sales,\n",
    "    AVG(CASE WHEN Item_Fat_Content = 'REGULAR' THEN Item_Outlet_Sales ELSE 0 END) AS Avg_Regular_Sales,\n",
    "    SUM(CASE WHEN Price_Category = 'Premium' THEN Item_Outlet_Sales ELSE 0 END) / SUM(Item_Outlet_Sales) * 100 AS Premium_Sales_Percentage\n",
    "FROM sales\n",
    "WHERE Item_Outlet_Sales > 0\n",
    "GROUP BY Item_Type\n",
    "HAVING COUNT(*) > 10\n",
    "ORDER BY Total_Sales DESC\n",
    "\"\"\")\n",
    "\n",
    "display(sales_analysis_sql)"
   ]
  },
  {
   "cell_type": "markdown",
   "metadata": {
    "application/vnd.databricks.v1+cell": {
     "cellMetadata": {},
     "inputWidgets": {},
     "nuid": "4285c1a8-d5b8-4d04-a7a4-5a953e8fca03",
     "showTitle": false,
     "tableResultSettingsMap": {},
     "title": ""
    }
   },
   "source": [
    "## Joins and Merges\n",
    "\n",
    "Joining DataFrames is a common operation in data processing. PySpark supports various types of joins similar to SQL:\n",
    "\n",
    "- **Inner Join**: Only matching records from both DataFrames\n",
    "- **Left Join**: All records from left DataFrame, matching from right\n",
    "- **Right Join**: All records from right DataFrame, matching from left\n",
    "- **Full Outer Join**: All records from both DataFrames\n",
    "- **Cross Join**: Cartesian product of both DataFrames\n",
    "- **Semi Join**: Filter left DataFrame for rows matching the right DataFrame\n",
    "- **Anti Join**: Filter left DataFrame for rows not matching the right DataFrame\n",
    "\n",
    "Let's create a new DataFrame to join with our sales data:"
   ]
  },
  {
   "cell_type": "code",
   "execution_count": 0,
   "metadata": {
    "application/vnd.databricks.v1+cell": {
     "cellMetadata": {
      "byteLimit": 2048000,
      "rowLimit": 10000
     },
     "inputWidgets": {},
     "nuid": "462cb3e2-fec0-4ca1-b2ef-8db828ae6769",
     "showTitle": false,
     "tableResultSettingsMap": {},
     "title": ""
    }
   },
   "outputs": [
    {
     "output_type": "display_data",
     "data": {
      "text/html": [
       "<style scoped>\n",
       "  .table-result-container {\n",
       "    max-height: 300px;\n",
       "    overflow: auto;\n",
       "  }\n",
       "  table, th, td {\n",
       "    border: 1px solid black;\n",
       "    border-collapse: collapse;\n",
       "  }\n",
       "  th, td {\n",
       "    padding: 5px;\n",
       "  }\n",
       "  th {\n",
       "    text-align: left;\n",
       "  }\n",
       "</style><div class='table-result-container'><table class='table-result'><thead style='background-color: white'><tr><th>Category_Code</th><th>Category_Name</th><th>Perishable</th></tr></thead><tbody><tr><td>FD</td><td>Food</td><td>true</td></tr><tr><td>DR</td><td>Drinks</td><td>true</td></tr><tr><td>NC</td><td>Non-Consumable</td><td>false</td></tr><tr><td>HH</td><td>Household</td><td>false</td></tr></tbody></table></div>"
      ]
     },
     "metadata": {
      "application/vnd.databricks.v1+output": {
       "addedWidgets": {},
       "aggData": [],
       "aggError": "",
       "aggOverflow": false,
       "aggSchema": [],
       "aggSeriesLimitReached": false,
       "aggType": "",
       "arguments": {},
       "columnCustomDisplayInfos": {},
       "data": [
        [
         "FD",
         "Food",
         true
        ],
        [
         "DR",
         "Drinks",
         true
        ],
        [
         "NC",
         "Non-Consumable",
         false
        ],
        [
         "HH",
         "Household",
         false
        ]
       ],
       "datasetInfos": [],
       "dbfsResultPath": null,
       "isJsonSchema": true,
       "metadata": {},
       "overflow": false,
       "plotOptions": {
        "customPlotOptions": {},
        "displayType": "table",
        "pivotAggregation": null,
        "pivotColumns": null,
        "xColumns": null,
        "yColumns": null
       },
       "removedWidgets": [],
       "schema": [
        {
         "metadata": "{}",
         "name": "Category_Code",
         "type": "\"string\""
        },
        {
         "metadata": "{}",
         "name": "Category_Name",
         "type": "\"string\""
        },
        {
         "metadata": "{}",
         "name": "Perishable",
         "type": "\"boolean\""
        }
       ],
       "type": "table"
      }
     },
     "output_type": "display_data"
    },
    {
     "output_type": "display_data",
     "data": {
      "text/html": [
       "<style scoped>\n",
       "  .table-result-container {\n",
       "    max-height: 300px;\n",
       "    overflow: auto;\n",
       "  }\n",
       "  table, th, td {\n",
       "    border: 1px solid black;\n",
       "    border-collapse: collapse;\n",
       "  }\n",
       "  th, td {\n",
       "    padding: 5px;\n",
       "  }\n",
       "  th {\n",
       "    text-align: left;\n",
       "  }\n",
       "</style><div class='table-result-container'><table class='table-result'><thead style='background-color: white'><tr><th>Item_Identifier</th><th>Category_Code</th></tr></thead><tbody><tr><td>FDA15</td><td>FD</td></tr><tr><td>DRC01</td><td>DR</td></tr><tr><td>FDN15</td><td>FD</td></tr><tr><td>FDX07</td><td>FD</td></tr><tr><td>NCD19</td><td>NC</td></tr></tbody></table></div>"
      ]
     },
     "metadata": {
      "application/vnd.databricks.v1+output": {
       "addedWidgets": {},
       "aggData": [],
       "aggError": "",
       "aggOverflow": false,
       "aggSchema": [],
       "aggSeriesLimitReached": false,
       "aggType": "",
       "arguments": {},
       "columnCustomDisplayInfos": {},
       "data": [
        [
         "FDA15",
         "FD"
        ],
        [
         "DRC01",
         "DR"
        ],
        [
         "FDN15",
         "FD"
        ],
        [
         "FDX07",
         "FD"
        ],
        [
         "NCD19",
         "NC"
        ]
       ],
       "datasetInfos": [],
       "dbfsResultPath": null,
       "isJsonSchema": true,
       "metadata": {},
       "overflow": false,
       "plotOptions": {
        "customPlotOptions": {},
        "displayType": "table",
        "pivotAggregation": null,
        "pivotColumns": null,
        "xColumns": null,
        "yColumns": null
       },
       "removedWidgets": [],
       "schema": [
        {
         "metadata": "{}",
         "name": "Item_Identifier",
         "type": "\"string\""
        },
        {
         "metadata": "{}",
         "name": "Category_Code",
         "type": "\"string\""
        }
       ],
       "type": "table"
      }
     },
     "output_type": "display_data"
    }
   ],
   "source": [
    "# Create a simple item_categories DataFrame\n",
    "from pyspark.sql import Row\n",
    "\n",
    "item_categories_data = [\n",
    "    Row(Category_Code=\"FD\", Category_Name=\"Food\", Perishable=True),\n",
    "    Row(Category_Code=\"DR\", Category_Name=\"Drinks\", Perishable=True),\n",
    "    Row(Category_Code=\"NC\", Category_Name=\"Non-Consumable\", Perishable=False),\n",
    "    Row(Category_Code=\"HH\", Category_Name=\"Household\", Perishable=False)\n",
    "]\n",
    "\n",
    "item_categories_df = spark.createDataFrame(item_categories_data)\n",
    "display(item_categories_df)\n",
    "\n",
    "# Extract item category code from Item_Identifier for joining\n",
    "# We'll create a more complete version of the earlier Item_Category_Code\n",
    "sales_with_category = clean_sales_df.withColumn(\n",
    "    \"Category_Code\",\n",
    "    substring(col(\"Item_Identifier\"), 1, 2)\n",
    ")\n",
    "\n",
    "# Display a few rows to check the Category_Code\n",
    "display(sales_with_category.select(\"Item_Identifier\", \"Category_Code\").limit(5))"
   ]
  },
  {
   "cell_type": "code",
   "execution_count": 0,
   "metadata": {
    "application/vnd.databricks.v1+cell": {
     "cellMetadata": {
      "byteLimit": 2048000,
      "rowLimit": 10000
     },
     "inputWidgets": {},
     "nuid": "c8b1ef5f-bc3f-4e67-9db6-60cfc7ed76b6",
     "showTitle": false,
     "tableResultSettingsMap": {},
     "title": ""
    }
   },
   "outputs": [
    {
     "output_type": "stream",
     "name": "stdout",
     "output_type": "stream",
     "text": [
      "Inner Join Count: 8523\n"
     ]
    },
    {
     "output_type": "display_data",
     "data": {
      "text/html": [
       "<style scoped>\n",
       "  .table-result-container {\n",
       "    max-height: 300px;\n",
       "    overflow: auto;\n",
       "  }\n",
       "  table, th, td {\n",
       "    border: 1px solid black;\n",
       "    border-collapse: collapse;\n",
       "  }\n",
       "  th, td {\n",
       "    padding: 5px;\n",
       "  }\n",
       "  th {\n",
       "    text-align: left;\n",
       "  }\n",
       "</style><div class='table-result-container'><table class='table-result'><thead style='background-color: white'><tr><th>Item_Identifier</th><th>Category_Code</th><th>Category_Name</th><th>Perishable</th><th>Item_Type</th><th>Item_MRP</th></tr></thead><tbody><tr><td>FDA15</td><td>FD</td><td>Food</td><td>true</td><td>Dairy</td><td>249.8092</td></tr><tr><td>DRC01</td><td>DR</td><td>Drinks</td><td>true</td><td>Soft Drinks</td><td>48.2692</td></tr><tr><td>FDN15</td><td>FD</td><td>Food</td><td>true</td><td>Meat</td><td>141.618</td></tr><tr><td>FDX07</td><td>FD</td><td>Food</td><td>true</td><td>Fruits and Vegetables</td><td>182.095</td></tr><tr><td>NCD19</td><td>NC</td><td>Non-Consumable</td><td>false</td><td>Household</td><td>53.8614</td></tr></tbody></table></div>"
      ]
     },
     "metadata": {
      "application/vnd.databricks.v1+output": {
       "addedWidgets": {},
       "aggData": [],
       "aggError": "",
       "aggOverflow": false,
       "aggSchema": [],
       "aggSeriesLimitReached": false,
       "aggType": "",
       "arguments": {},
       "columnCustomDisplayInfos": {},
       "data": [
        [
         "FDA15",
         "FD",
         "Food",
         true,
         "Dairy",
         249.8092
        ],
        [
         "DRC01",
         "DR",
         "Drinks",
         true,
         "Soft Drinks",
         48.2692
        ],
        [
         "FDN15",
         "FD",
         "Food",
         true,
         "Meat",
         141.618
        ],
        [
         "FDX07",
         "FD",
         "Food",
         true,
         "Fruits and Vegetables",
         182.095
        ],
        [
         "NCD19",
         "NC",
         "Non-Consumable",
         false,
         "Household",
         53.8614
        ]
       ],
       "datasetInfos": [],
       "dbfsResultPath": null,
       "isJsonSchema": true,
       "metadata": {},
       "overflow": false,
       "plotOptions": {
        "customPlotOptions": {},
        "displayType": "table",
        "pivotAggregation": null,
        "pivotColumns": null,
        "xColumns": null,
        "yColumns": null
       },
       "removedWidgets": [],
       "schema": [
        {
         "metadata": "{}",
         "name": "Item_Identifier",
         "type": "\"string\""
        },
        {
         "metadata": "{}",
         "name": "Category_Code",
         "type": "\"string\""
        },
        {
         "metadata": "{}",
         "name": "Category_Name",
         "type": "\"string\""
        },
        {
         "metadata": "{}",
         "name": "Perishable",
         "type": "\"boolean\""
        },
        {
         "metadata": "{}",
         "name": "Item_Type",
         "type": "\"string\""
        },
        {
         "metadata": "{}",
         "name": "Item_MRP",
         "type": "\"double\""
        }
       ],
       "type": "table"
      }
     },
     "output_type": "display_data"
    },
    {
     "output_type": "stream",
     "name": "stdout",
     "output_type": "stream",
     "text": [
      "Left Join Count: 8523\n"
     ]
    },
    {
     "output_type": "display_data",
     "data": {
      "text/html": [
       "<style scoped>\n",
       "  .table-result-container {\n",
       "    max-height: 300px;\n",
       "    overflow: auto;\n",
       "  }\n",
       "  table, th, td {\n",
       "    border: 1px solid black;\n",
       "    border-collapse: collapse;\n",
       "  }\n",
       "  th, td {\n",
       "    padding: 5px;\n",
       "  }\n",
       "  th {\n",
       "    text-align: left;\n",
       "  }\n",
       "</style><div class='table-result-container'><table class='table-result'><thead style='background-color: white'><tr><th>Item_Identifier</th><th>Category_Code</th><th>Category_Name</th><th>Perishable</th><th>Item_Type</th><th>Item_MRP</th></tr></thead><tbody><tr><td>FDA15</td><td>FD</td><td>Food</td><td>true</td><td>Dairy</td><td>249.8092</td></tr><tr><td>DRC01</td><td>DR</td><td>Drinks</td><td>true</td><td>Soft Drinks</td><td>48.2692</td></tr><tr><td>FDN15</td><td>FD</td><td>Food</td><td>true</td><td>Meat</td><td>141.618</td></tr><tr><td>FDX07</td><td>FD</td><td>Food</td><td>true</td><td>Fruits and Vegetables</td><td>182.095</td></tr><tr><td>NCD19</td><td>NC</td><td>Non-Consumable</td><td>false</td><td>Household</td><td>53.8614</td></tr></tbody></table></div>"
      ]
     },
     "metadata": {
      "application/vnd.databricks.v1+output": {
       "addedWidgets": {},
       "aggData": [],
       "aggError": "",
       "aggOverflow": false,
       "aggSchema": [],
       "aggSeriesLimitReached": false,
       "aggType": "",
       "arguments": {},
       "columnCustomDisplayInfos": {},
       "data": [
        [
         "FDA15",
         "FD",
         "Food",
         true,
         "Dairy",
         249.8092
        ],
        [
         "DRC01",
         "DR",
         "Drinks",
         true,
         "Soft Drinks",
         48.2692
        ],
        [
         "FDN15",
         "FD",
         "Food",
         true,
         "Meat",
         141.618
        ],
        [
         "FDX07",
         "FD",
         "Food",
         true,
         "Fruits and Vegetables",
         182.095
        ],
        [
         "NCD19",
         "NC",
         "Non-Consumable",
         false,
         "Household",
         53.8614
        ]
       ],
       "datasetInfos": [],
       "dbfsResultPath": null,
       "isJsonSchema": true,
       "metadata": {},
       "overflow": false,
       "plotOptions": {
        "customPlotOptions": {},
        "displayType": "table",
        "pivotAggregation": null,
        "pivotColumns": null,
        "xColumns": null,
        "yColumns": null
       },
       "removedWidgets": [],
       "schema": [
        {
         "metadata": "{}",
         "name": "Item_Identifier",
         "type": "\"string\""
        },
        {
         "metadata": "{}",
         "name": "Category_Code",
         "type": "\"string\""
        },
        {
         "metadata": "{}",
         "name": "Category_Name",
         "type": "\"string\""
        },
        {
         "metadata": "{}",
         "name": "Perishable",
         "type": "\"boolean\""
        },
        {
         "metadata": "{}",
         "name": "Item_Type",
         "type": "\"string\""
        },
        {
         "metadata": "{}",
         "name": "Item_MRP",
         "type": "\"double\""
        }
       ],
       "type": "table"
      }
     },
     "output_type": "display_data"
    },
    {
     "output_type": "stream",
     "name": "stdout",
     "output_type": "stream",
     "text": [
      "Right Join Count: 8524\n"
     ]
    },
    {
     "output_type": "display_data",
     "data": {
      "text/html": [
       "<style scoped>\n",
       "  .table-result-container {\n",
       "    max-height: 300px;\n",
       "    overflow: auto;\n",
       "  }\n",
       "  table, th, td {\n",
       "    border: 1px solid black;\n",
       "    border-collapse: collapse;\n",
       "  }\n",
       "  th, td {\n",
       "    padding: 5px;\n",
       "  }\n",
       "  th {\n",
       "    text-align: left;\n",
       "  }\n",
       "</style><div class='table-result-container'><table class='table-result'><thead style='background-color: white'><tr><th>Item_Identifier</th><th>Category_Code</th><th>Category_Name</th><th>Perishable</th><th>Item_Type</th><th>Item_MRP</th></tr></thead><tbody><tr><td>NCD19</td><td>NC</td><td>Non-Consumable</td><td>false</td><td>Household</td><td>53.8614</td></tr><tr><td>NCB42</td><td>NC</td><td>Non-Consumable</td><td>false</td><td>Health and Hygiene</td><td>115.3492</td></tr><tr><td>NCB30</td><td>NC</td><td>Non-Consumable</td><td>false</td><td>Household</td><td>196.5084</td></tr><tr><td>NCD06</td><td>NC</td><td>Non-Consumable</td><td>false</td><td>Household</td><td>45.906</td></tr><tr><td>NCS17</td><td>NC</td><td>Non-Consumable</td><td>false</td><td>Health and Hygiene</td><td>96.4436</td></tr></tbody></table></div>"
      ]
     },
     "metadata": {
      "application/vnd.databricks.v1+output": {
       "addedWidgets": {},
       "aggData": [],
       "aggError": "",
       "aggOverflow": false,
       "aggSchema": [],
       "aggSeriesLimitReached": false,
       "aggType": "",
       "arguments": {},
       "columnCustomDisplayInfos": {},
       "data": [
        [
         "NCD19",
         "NC",
         "Non-Consumable",
         false,
         "Household",
         53.8614
        ],
        [
         "NCB42",
         "NC",
         "Non-Consumable",
         false,
         "Health and Hygiene",
         115.3492
        ],
        [
         "NCB30",
         "NC",
         "Non-Consumable",
         false,
         "Household",
         196.5084
        ],
        [
         "NCD06",
         "NC",
         "Non-Consumable",
         false,
         "Household",
         45.906
        ],
        [
         "NCS17",
         "NC",
         "Non-Consumable",
         false,
         "Health and Hygiene",
         96.4436
        ]
       ],
       "datasetInfos": [],
       "dbfsResultPath": null,
       "isJsonSchema": true,
       "metadata": {},
       "overflow": false,
       "plotOptions": {
        "customPlotOptions": {},
        "displayType": "table",
        "pivotAggregation": null,
        "pivotColumns": null,
        "xColumns": null,
        "yColumns": null
       },
       "removedWidgets": [],
       "schema": [
        {
         "metadata": "{}",
         "name": "Item_Identifier",
         "type": "\"string\""
        },
        {
         "metadata": "{}",
         "name": "Category_Code",
         "type": "\"string\""
        },
        {
         "metadata": "{}",
         "name": "Category_Name",
         "type": "\"string\""
        },
        {
         "metadata": "{}",
         "name": "Perishable",
         "type": "\"boolean\""
        },
        {
         "metadata": "{}",
         "name": "Item_Type",
         "type": "\"string\""
        },
        {
         "metadata": "{}",
         "name": "Item_MRP",
         "type": "\"double\""
        }
       ],
       "type": "table"
      }
     },
     "output_type": "display_data"
    },
    {
     "output_type": "stream",
     "name": "stdout",
     "output_type": "stream",
     "text": [
      "Full Join Count: 8524\n"
     ]
    },
    {
     "output_type": "display_data",
     "data": {
      "text/html": [
       "<style scoped>\n",
       "  .table-result-container {\n",
       "    max-height: 300px;\n",
       "    overflow: auto;\n",
       "  }\n",
       "  table, th, td {\n",
       "    border: 1px solid black;\n",
       "    border-collapse: collapse;\n",
       "  }\n",
       "  th, td {\n",
       "    padding: 5px;\n",
       "  }\n",
       "  th {\n",
       "    text-align: left;\n",
       "  }\n",
       "</style><div class='table-result-container'><table class='table-result'><thead style='background-color: white'><tr><th>Item_Identifier</th><th>Category_Code</th><th>Category_Name</th><th>Perishable</th><th>Item_Type</th><th>Item_MRP</th></tr></thead><tbody><tr><td>NCD19</td><td>NC</td><td>Non-Consumable</td><td>false</td><td>Household</td><td>53.8614</td></tr><tr><td>NCB42</td><td>NC</td><td>Non-Consumable</td><td>false</td><td>Health and Hygiene</td><td>115.3492</td></tr><tr><td>NCB30</td><td>NC</td><td>Non-Consumable</td><td>false</td><td>Household</td><td>196.5084</td></tr><tr><td>NCD06</td><td>NC</td><td>Non-Consumable</td><td>false</td><td>Household</td><td>45.906</td></tr><tr><td>NCS17</td><td>NC</td><td>Non-Consumable</td><td>false</td><td>Health and Hygiene</td><td>96.4436</td></tr></tbody></table></div>"
      ]
     },
     "metadata": {
      "application/vnd.databricks.v1+output": {
       "addedWidgets": {},
       "aggData": [],
       "aggError": "",
       "aggOverflow": false,
       "aggSchema": [],
       "aggSeriesLimitReached": false,
       "aggType": "",
       "arguments": {},
       "columnCustomDisplayInfos": {},
       "data": [
        [
         "NCD19",
         "NC",
         "Non-Consumable",
         false,
         "Household",
         53.8614
        ],
        [
         "NCB42",
         "NC",
         "Non-Consumable",
         false,
         "Health and Hygiene",
         115.3492
        ],
        [
         "NCB30",
         "NC",
         "Non-Consumable",
         false,
         "Household",
         196.5084
        ],
        [
         "NCD06",
         "NC",
         "Non-Consumable",
         false,
         "Household",
         45.906
        ],
        [
         "NCS17",
         "NC",
         "Non-Consumable",
         false,
         "Health and Hygiene",
         96.4436
        ]
       ],
       "datasetInfos": [],
       "dbfsResultPath": null,
       "isJsonSchema": true,
       "metadata": {},
       "overflow": false,
       "plotOptions": {
        "customPlotOptions": {},
        "displayType": "table",
        "pivotAggregation": null,
        "pivotColumns": null,
        "xColumns": null,
        "yColumns": null
       },
       "removedWidgets": [],
       "schema": [
        {
         "metadata": "{}",
         "name": "Item_Identifier",
         "type": "\"string\""
        },
        {
         "metadata": "{}",
         "name": "Category_Code",
         "type": "\"string\""
        },
        {
         "metadata": "{}",
         "name": "Category_Name",
         "type": "\"string\""
        },
        {
         "metadata": "{}",
         "name": "Perishable",
         "type": "\"boolean\""
        },
        {
         "metadata": "{}",
         "name": "Item_Type",
         "type": "\"string\""
        },
        {
         "metadata": "{}",
         "name": "Item_MRP",
         "type": "\"double\""
        }
       ],
       "type": "table"
      }
     },
     "output_type": "display_data"
    }
   ],
   "source": [
    "# Now let's perform various types of joins\n",
    "\n",
    "# 1. Inner Join: Only keep items with matching category codes\n",
    "inner_join_df = sales_with_category.join(\n",
    "    item_categories_df,\n",
    "    sales_with_category.Category_Code == item_categories_df.Category_Code,\n",
    "    \"inner\"\n",
    ")\n",
    "\n",
    "print(\"Inner Join Count:\", inner_join_df.count())\n",
    "display(inner_join_df.select(\n",
    "    sales_with_category.Item_Identifier, \n",
    "    sales_with_category.Category_Code,  # Disambiguate\n",
    "    item_categories_df.Category_Name, \n",
    "    item_categories_df.Perishable, \n",
    "    sales_with_category.Item_Type, \n",
    "    sales_with_category.Item_MRP\n",
    ").limit(5))\n",
    "\n",
    "# 2. Left Join: Keep all sales records, add category info when available\n",
    "left_join_df = sales_with_category.join(\n",
    "    item_categories_df,\n",
    "    sales_with_category.Category_Code == item_categories_df.Category_Code,\n",
    "    \"left\"\n",
    ")\n",
    "\n",
    "print(\"Left Join Count:\", left_join_df.count())\n",
    "display(left_join_df.select(\n",
    "    sales_with_category.Item_Identifier, \n",
    "    sales_with_category.Category_Code,  # Disambiguate\n",
    "    item_categories_df.Category_Name, \n",
    "    item_categories_df.Perishable, \n",
    "    sales_with_category.Item_Type, \n",
    "    sales_with_category.Item_MRP\n",
    ").limit(5))\n",
    "\n",
    "# 3. Right Join: Keep all categories, with sales data when available\n",
    "right_join_df = sales_with_category.join(\n",
    "    item_categories_df,\n",
    "    sales_with_category.Category_Code == item_categories_df.Category_Code,\n",
    "    \"right\"\n",
    ")\n",
    "\n",
    "print(\"Right Join Count:\", right_join_df.count())\n",
    "display(right_join_df.select(\n",
    "    sales_with_category.Item_Identifier, \n",
    "    sales_with_category.Category_Code,  # Disambiguate\n",
    "    item_categories_df.Category_Name, \n",
    "    item_categories_df.Perishable, \n",
    "    sales_with_category.Item_Type, \n",
    "    sales_with_category.Item_MRP\n",
    ").limit(5))\n",
    "\n",
    "# 4. Full Outer Join: Keep everything from both DataFrames\n",
    "full_join_df = sales_with_category.join(\n",
    "    item_categories_df,\n",
    "    sales_with_category.Category_Code == item_categories_df.Category_Code,\n",
    "    \"full\"\n",
    ")\n",
    "\n",
    "print(\"Full Join Count:\", full_join_df.count())\n",
    "display(full_join_df.select(\n",
    "    sales_with_category.Item_Identifier, \n",
    "    sales_with_category.Category_Code,  # Disambiguate\n",
    "    item_categories_df.Category_Name, \n",
    "    item_categories_df.Perishable, \n",
    "    sales_with_category.Item_Type, \n",
    "    sales_with_category.Item_MRP\n",
    ").limit(5))"
   ]
  },
  {
   "cell_type": "markdown",
   "metadata": {
    "application/vnd.databricks.v1+cell": {
     "cellMetadata": {},
     "inputWidgets": {},
     "nuid": "2ea1455d-c5db-44eb-a766-5ee574c897eb",
     "showTitle": false,
     "tableResultSettingsMap": {},
     "title": ""
    }
   },
   "source": [
    "### Self Joins and Multi-way Joins\n",
    "\n",
    "PySpark also supports self-joins (joining a DataFrame with itself) and joining multiple DataFrames together:"
   ]
  },
  {
   "cell_type": "code",
   "execution_count": 0,
   "metadata": {
    "application/vnd.databricks.v1+cell": {
     "cellMetadata": {
      "byteLimit": 2048000,
      "rowLimit": 10000
     },
     "inputWidgets": {},
     "nuid": "f332bb9b-fdf0-48fa-be3e-c950fdaa7c5e",
     "showTitle": false,
     "tableResultSettingsMap": {},
     "title": ""
    }
   },
   "outputs": [
    {
     "output_type": "display_data",
     "data": {
      "text/html": [
       "<style scoped>\n",
       "  .table-result-container {\n",
       "    max-height: 300px;\n",
       "    overflow: auto;\n",
       "  }\n",
       "  table, th, td {\n",
       "    border: 1px solid black;\n",
       "    border-collapse: collapse;\n",
       "  }\n",
       "  th, td {\n",
       "    padding: 5px;\n",
       "  }\n",
       "  th {\n",
       "    text-align: left;\n",
       "  }\n",
       "</style><div class='table-result-container'><table class='table-result'><thead style='background-color: white'><tr><th>Outlet_Identifier</th><th>Region</th><th>Company</th></tr></thead><tbody><tr><td>OUT010</td><td>North</td><td>RetailCorp</td></tr><tr><td>OUT013</td><td>South</td><td>SuperMart</td></tr><tr><td>OUT017</td><td>East</td><td>RetailCorp</td></tr><tr><td>OUT018</td><td>West</td><td>SuperMart</td></tr><tr><td>OUT019</td><td>North</td><td>MegaStore</td></tr><tr><td>OUT027</td><td>South</td><td>MegaStore</td></tr><tr><td>OUT035</td><td>West</td><td>RetailCorp</td></tr><tr><td>OUT045</td><td>East</td><td>SuperMart</td></tr><tr><td>OUT046</td><td>North</td><td>MegaStore</td></tr><tr><td>OUT049</td><td>South</td><td>RetailCorp</td></tr></tbody></table></div>"
      ]
     },
     "metadata": {
      "application/vnd.databricks.v1+output": {
       "addedWidgets": {},
       "aggData": [],
       "aggError": "",
       "aggOverflow": false,
       "aggSchema": [],
       "aggSeriesLimitReached": false,
       "aggType": "",
       "arguments": {},
       "columnCustomDisplayInfos": {},
       "data": [
        [
         "OUT010",
         "North",
         "RetailCorp"
        ],
        [
         "OUT013",
         "South",
         "SuperMart"
        ],
        [
         "OUT017",
         "East",
         "RetailCorp"
        ],
        [
         "OUT018",
         "West",
         "SuperMart"
        ],
        [
         "OUT019",
         "North",
         "MegaStore"
        ],
        [
         "OUT027",
         "South",
         "MegaStore"
        ],
        [
         "OUT035",
         "West",
         "RetailCorp"
        ],
        [
         "OUT045",
         "East",
         "SuperMart"
        ],
        [
         "OUT046",
         "North",
         "MegaStore"
        ],
        [
         "OUT049",
         "South",
         "RetailCorp"
        ]
       ],
       "datasetInfos": [],
       "dbfsResultPath": null,
       "isJsonSchema": true,
       "metadata": {},
       "overflow": false,
       "plotOptions": {
        "customPlotOptions": {},
        "displayType": "table",
        "pivotAggregation": null,
        "pivotColumns": null,
        "xColumns": null,
        "yColumns": null
       },
       "removedWidgets": [],
       "schema": [
        {
         "metadata": "{}",
         "name": "Outlet_Identifier",
         "type": "\"string\""
        },
        {
         "metadata": "{}",
         "name": "Region",
         "type": "\"string\""
        },
        {
         "metadata": "{}",
         "name": "Company",
         "type": "\"string\""
        }
       ],
       "type": "table"
      }
     },
     "output_type": "display_data"
    },
    {
     "output_type": "display_data",
     "data": {
      "text/html": [
       "<style scoped>\n",
       "  .table-result-container {\n",
       "    max-height: 300px;\n",
       "    overflow: auto;\n",
       "  }\n",
       "  table, th, td {\n",
       "    border: 1px solid black;\n",
       "    border-collapse: collapse;\n",
       "  }\n",
       "  th, td {\n",
       "    padding: 5px;\n",
       "  }\n",
       "  th {\n",
       "    text-align: left;\n",
       "  }\n",
       "</style><div class='table-result-container'><table class='table-result'><thead style='background-color: white'><tr><th>Item_Identifier</th><th>Item_Type</th><th>Category_Name</th><th>Item_MRP</th><th>Outlet_Identifier</th><th>Region</th><th>Company</th><th>Item_Outlet_Sales</th></tr></thead><tbody><tr><td>FDA15</td><td>Dairy</td><td>Food</td><td>249.8092</td><td>OUT049</td><td>South</td><td>RetailCorp</td><td>3735.138</td></tr><tr><td>DRC01</td><td>Soft Drinks</td><td>Drinks</td><td>48.2692</td><td>OUT018</td><td>West</td><td>SuperMart</td><td>443.4228</td></tr><tr><td>FDN15</td><td>Meat</td><td>Food</td><td>141.618</td><td>OUT049</td><td>South</td><td>RetailCorp</td><td>2097.27</td></tr><tr><td>FDX07</td><td>Fruits and Vegetables</td><td>Food</td><td>182.095</td><td>OUT010</td><td>North</td><td>RetailCorp</td><td>732.38</td></tr><tr><td>NCD19</td><td>Household</td><td>Non-Consumable</td><td>53.8614</td><td>OUT013</td><td>South</td><td>SuperMart</td><td>994.7052</td></tr><tr><td>FDP36</td><td>Baking Goods</td><td>Food</td><td>51.4008</td><td>OUT018</td><td>West</td><td>SuperMart</td><td>556.6088</td></tr><tr><td>FDO10</td><td>Snack Foods</td><td>Food</td><td>57.6588</td><td>OUT013</td><td>South</td><td>SuperMart</td><td>343.5528</td></tr><tr><td>FDP10</td><td>Snack Foods</td><td>Food</td><td>107.7622</td><td>OUT027</td><td>South</td><td>MegaStore</td><td>4022.7636</td></tr><tr><td>FDH17</td><td>Frozen Foods</td><td>Food</td><td>96.9726</td><td>OUT045</td><td>East</td><td>SuperMart</td><td>1076.5986</td></tr><tr><td>FDU28</td><td>Frozen Foods</td><td>Food</td><td>187.8214</td><td>OUT017</td><td>East</td><td>RetailCorp</td><td>4710.535</td></tr></tbody></table></div>"
      ]
     },
     "metadata": {
      "application/vnd.databricks.v1+output": {
       "addedWidgets": {},
       "aggData": [],
       "aggError": "",
       "aggOverflow": false,
       "aggSchema": [],
       "aggSeriesLimitReached": false,
       "aggType": "",
       "arguments": {},
       "columnCustomDisplayInfos": {},
       "data": [
        [
         "FDA15",
         "Dairy",
         "Food",
         249.8092,
         "OUT049",
         "South",
         "RetailCorp",
         3735.138
        ],
        [
         "DRC01",
         "Soft Drinks",
         "Drinks",
         48.2692,
         "OUT018",
         "West",
         "SuperMart",
         443.4228
        ],
        [
         "FDN15",
         "Meat",
         "Food",
         141.618,
         "OUT049",
         "South",
         "RetailCorp",
         2097.27
        ],
        [
         "FDX07",
         "Fruits and Vegetables",
         "Food",
         182.095,
         "OUT010",
         "North",
         "RetailCorp",
         732.38
        ],
        [
         "NCD19",
         "Household",
         "Non-Consumable",
         53.8614,
         "OUT013",
         "South",
         "SuperMart",
         994.7052
        ],
        [
         "FDP36",
         "Baking Goods",
         "Food",
         51.4008,
         "OUT018",
         "West",
         "SuperMart",
         556.6088
        ],
        [
         "FDO10",
         "Snack Foods",
         "Food",
         57.6588,
         "OUT013",
         "South",
         "SuperMart",
         343.5528
        ],
        [
         "FDP10",
         "Snack Foods",
         "Food",
         107.7622,
         "OUT027",
         "South",
         "MegaStore",
         4022.7636
        ],
        [
         "FDH17",
         "Frozen Foods",
         "Food",
         96.9726,
         "OUT045",
         "East",
         "SuperMart",
         1076.5986
        ],
        [
         "FDU28",
         "Frozen Foods",
         "Food",
         187.8214,
         "OUT017",
         "East",
         "RetailCorp",
         4710.535
        ]
       ],
       "datasetInfos": [],
       "dbfsResultPath": null,
       "isJsonSchema": true,
       "metadata": {},
       "overflow": false,
       "plotOptions": {
        "customPlotOptions": {},
        "displayType": "table",
        "pivotAggregation": null,
        "pivotColumns": null,
        "xColumns": null,
        "yColumns": null
       },
       "removedWidgets": [],
       "schema": [
        {
         "metadata": "{}",
         "name": "Item_Identifier",
         "type": "\"string\""
        },
        {
         "metadata": "{}",
         "name": "Item_Type",
         "type": "\"string\""
        },
        {
         "metadata": "{}",
         "name": "Category_Name",
         "type": "\"string\""
        },
        {
         "metadata": "{}",
         "name": "Item_MRP",
         "type": "\"double\""
        },
        {
         "metadata": "{}",
         "name": "Outlet_Identifier",
         "type": "\"string\""
        },
        {
         "metadata": "{}",
         "name": "Region",
         "type": "\"string\""
        },
        {
         "metadata": "{}",
         "name": "Company",
         "type": "\"string\""
        },
        {
         "metadata": "{}",
         "name": "Item_Outlet_Sales",
         "type": "\"double\""
        }
       ],
       "type": "table"
      }
     },
     "output_type": "display_data"
    },
    {
     "output_type": "display_data",
     "data": {
      "text/html": [
       "<style scoped>\n",
       "  .table-result-container {\n",
       "    max-height: 300px;\n",
       "    overflow: auto;\n",
       "  }\n",
       "  table, th, td {\n",
       "    border: 1px solid black;\n",
       "    border-collapse: collapse;\n",
       "  }\n",
       "  th, td {\n",
       "    padding: 5px;\n",
       "  }\n",
       "  th {\n",
       "    text-align: left;\n",
       "  }\n",
       "</style><div class='table-result-container'><table class='table-result'><thead style='background-color: white'><tr><th>Region</th><th>Category_Name</th><th>Total_Sales</th><th>Avg_Sales</th><th>Item_Count</th></tr></thead><tbody><tr><td>East</td><td>Food</td><td>3048054.371399999</td><td>2296.951297211755</td><td>1327</td></tr><tr><td>East</td><td>Non-Consumable</td><td>751891.2690000006</td><td>2173.0961531791922</td><td>346</td></tr><tr><td>East</td><td>Drinks</td><td>404245.1305999999</td><td>2221.1270912087907</td><td>182</td></tr><tr><td>North</td><td>Food</td><td>1821015.5981999985</td><td>1270.7715270062795</td><td>1433</td></tr><tr><td>North</td><td>Non-Consumable</td><td>470251.2109999999</td><td>1193.5309923857865</td><td>394</td></tr><tr><td>North</td><td>Drinks</td><td>195162.62499999997</td><td>1049.2614247311826</td><td>186</td></tr><tr><td>South</td><td>Food</td><td>5696233.923399992</td><td>2819.9177838613823</td><td>2020</td></tr><tr><td>South</td><td>Non-Consumable</td><td>1435752.4255999995</td><td>2771.7228293436283</td><td>518</td></tr><tr><td>South</td><td>Drinks</td><td>648573.0908</td><td>2504.143207722008</td><td>259</td></tr><tr><td>West</td><td>Food</td><td>3003740.7208000016</td><td>2233.264476431228</td><td>1345</td></tr><tr><td>West</td><td>Non-Consumable</td><td>768316.5549999997</td><td>2253.1277272727266</td><td>341</td></tr><tr><td>West</td><td>Drinks</td><td>347888.4896000001</td><td>2022.6074976744192</td><td>172</td></tr></tbody></table></div>"
      ]
     },
     "metadata": {
      "application/vnd.databricks.v1+output": {
       "addedWidgets": {},
       "aggData": [],
       "aggError": "",
       "aggOverflow": false,
       "aggSchema": [],
       "aggSeriesLimitReached": false,
       "aggType": "",
       "arguments": {},
       "columnCustomDisplayInfos": {},
       "data": [
        [
         "East",
         "Food",
         3048054.371399999,
         2296.951297211755,
         1327
        ],
        [
         "East",
         "Non-Consumable",
         751891.2690000006,
         2173.0961531791922,
         346
        ],
        [
         "East",
         "Drinks",
         404245.1305999999,
         2221.1270912087907,
         182
        ],
        [
         "North",
         "Food",
         1821015.5981999985,
         1270.7715270062795,
         1433
        ],
        [
         "North",
         "Non-Consumable",
         470251.2109999999,
         1193.5309923857865,
         394
        ],
        [
         "North",
         "Drinks",
         195162.62499999997,
         1049.2614247311826,
         186
        ],
        [
         "South",
         "Food",
         5696233.923399992,
         2819.9177838613823,
         2020
        ],
        [
         "South",
         "Non-Consumable",
         1435752.4255999995,
         2771.7228293436283,
         518
        ],
        [
         "South",
         "Drinks",
         648573.0908,
         2504.143207722008,
         259
        ],
        [
         "West",
         "Food",
         3003740.7208000016,
         2233.264476431228,
         1345
        ],
        [
         "West",
         "Non-Consumable",
         768316.5549999997,
         2253.1277272727266,
         341
        ],
        [
         "West",
         "Drinks",
         347888.4896000001,
         2022.6074976744192,
         172
        ]
       ],
       "datasetInfos": [],
       "dbfsResultPath": null,
       "isJsonSchema": true,
       "metadata": {},
       "overflow": false,
       "plotOptions": {
        "customPlotOptions": {},
        "displayType": "table",
        "pivotAggregation": null,
        "pivotColumns": null,
        "xColumns": null,
        "yColumns": null
       },
       "removedWidgets": [],
       "schema": [
        {
         "metadata": "{}",
         "name": "Region",
         "type": "\"string\""
        },
        {
         "metadata": "{}",
         "name": "Category_Name",
         "type": "\"string\""
        },
        {
         "metadata": "{}",
         "name": "Total_Sales",
         "type": "\"double\""
        },
        {
         "metadata": "{}",
         "name": "Avg_Sales",
         "type": "\"double\""
        },
        {
         "metadata": "{}",
         "name": "Item_Count",
         "type": "\"long\""
        }
       ],
       "type": "table"
      }
     },
     "output_type": "display_data"
    }
   ],
   "source": [
    "# Let's create some additional data for multi-way joins\n",
    "# Create a simple outlet information DataFrame\n",
    "outlet_data = [\n",
    "    Row(Outlet_Identifier=\"OUT010\", Region=\"North\", Company=\"RetailCorp\"),\n",
    "    Row(Outlet_Identifier=\"OUT013\", Region=\"South\", Company=\"SuperMart\"),\n",
    "    Row(Outlet_Identifier=\"OUT017\", Region=\"East\", Company=\"RetailCorp\"),\n",
    "    Row(Outlet_Identifier=\"OUT018\", Region=\"West\", Company=\"SuperMart\"),\n",
    "    Row(Outlet_Identifier=\"OUT019\", Region=\"North\", Company=\"MegaStore\"),\n",
    "    Row(Outlet_Identifier=\"OUT027\", Region=\"South\", Company=\"MegaStore\"),\n",
    "    Row(Outlet_Identifier=\"OUT035\", Region=\"West\", Company=\"RetailCorp\"),\n",
    "    Row(Outlet_Identifier=\"OUT045\", Region=\"East\", Company=\"SuperMart\"),\n",
    "    Row(Outlet_Identifier=\"OUT046\", Region=\"North\", Company=\"MegaStore\"),\n",
    "    Row(Outlet_Identifier=\"OUT049\", Region=\"South\", Company=\"RetailCorp\")\n",
    "]\n",
    "\n",
    "outlet_df = spark.createDataFrame(outlet_data)\n",
    "display(outlet_df)\n",
    "\n",
    "# Multi-way join: Sales data with both category and outlet information\n",
    "multi_join_df = sales_with_category.join(\n",
    "    item_categories_df,\n",
    "    sales_with_category.Category_Code == item_categories_df.Category_Code,\n",
    "    \"left\"\n",
    ").join(\n",
    "    outlet_df,\n",
    "    sales_with_category.Outlet_Identifier == outlet_df.Outlet_Identifier,\n",
    "    \"left\"\n",
    ").select(\n",
    "    sales_with_category.Item_Identifier,\n",
    "    sales_with_category.Item_Type,\n",
    "    item_categories_df.Category_Name,\n",
    "    sales_with_category.Item_MRP,\n",
    "    sales_with_category.Outlet_Identifier,\n",
    "    outlet_df.Region,\n",
    "    outlet_df.Company,\n",
    "    sales_with_category.Item_Outlet_Sales\n",
    ")\n",
    "\n",
    "display(multi_join_df.limit(10))\n",
    "\n",
    "# Analyze sales by region and category\n",
    "region_category_sales = multi_join_df.groupBy(\"Region\", \"Category_Name\").agg(\n",
    "    sum(\"Item_Outlet_Sales\").alias(\"Total_Sales\"),\n",
    "    avg(\"Item_Outlet_Sales\").alias(\"Avg_Sales\"),\n",
    "    count(\"*\").alias(\"Item_Count\")\n",
    ").orderBy(\"Region\", \"Total_Sales\", ascending=[True, False])\n",
    "\n",
    "display(region_category_sales)"
   ]
  },
  {
   "cell_type": "markdown",
   "metadata": {
    "application/vnd.databricks.v1+cell": {
     "cellMetadata": {},
     "inputWidgets": {},
     "nuid": "83ad1189-5fa6-44b4-89f0-dd2b96f9edd5",
     "showTitle": false,
     "tableResultSettingsMap": {},
     "title": ""
    }
   },
   "source": [
    "## Window Functions\n",
    "\n",
    "Window functions perform calculations across a set of rows related to the current row. They're similar to group by aggregations but don't collapse the rows.\n",
    "\n",
    "Common use cases for window functions:\n",
    "- Calculating running totals or moving averages\n",
    "- Ranking items within groups\n",
    "- Computing percentiles\n",
    "- Accessing values from preceding or following rows"
   ]
  },
  {
   "cell_type": "code",
   "execution_count": 0,
   "metadata": {
    "application/vnd.databricks.v1+cell": {
     "cellMetadata": {
      "byteLimit": 2048000,
      "rowLimit": 10000
     },
     "inputWidgets": {},
     "nuid": "e4619c0a-dfc1-4ba2-94bd-ec16e59dd991",
     "showTitle": false,
     "tableResultSettingsMap": {},
     "title": ""
    }
   },
   "outputs": [
    {
     "output_type": "display_data",
     "data": {
      "text/html": [
       "<style scoped>\n",
       "  .table-result-container {\n",
       "    max-height: 300px;\n",
       "    overflow: auto;\n",
       "  }\n",
       "  table, th, td {\n",
       "    border: 1px solid black;\n",
       "    border-collapse: collapse;\n",
       "  }\n",
       "  th, td {\n",
       "    padding: 5px;\n",
       "  }\n",
       "  th {\n",
       "    text-align: left;\n",
       "  }\n",
       "</style><div class='table-result-container'><table class='table-result'><thead style='background-color: white'><tr><th>Outlet_Type</th><th>Item_Identifier</th><th>Item_Type</th><th>Item_Outlet_Sales</th><th>Sales_Rank</th><th>Sales_Dense_Rank</th><th>Sales_Row_Number</th></tr></thead><tbody><tr><td>Grocery Store</td><td>NCK30</td><td>Household</td><td>1775.6886</td><td>1</td><td>1</td><td>1</td></tr><tr><td>Grocery Store</td><td>FDJ55</td><td>Meat</td><td>1575.2828</td><td>2</td><td>2</td><td>2</td></tr><tr><td>Grocery Store</td><td>FDV59</td><td>Breads</td><td>1524.0162</td><td>3</td><td>3</td><td>3</td></tr><tr><td>Supermarket Type1</td><td>FDF39</td><td>Dairy</td><td>10256.649</td><td>1</td><td>1</td><td>1</td></tr><tr><td>Supermarket Type1</td><td>NCM05</td><td>Health and Hygiene</td><td>9779.9362</td><td>2</td><td>2</td><td>2</td></tr><tr><td>Supermarket Type1</td><td>FDK03</td><td>Dairy</td><td>9664.7528</td><td>3</td><td>3</td><td>3</td></tr><tr><td>Supermarket Type2</td><td>FDC02</td><td>Canned</td><td>6768.5228</td><td>1</td><td>1</td><td>1</td></tr><tr><td>Supermarket Type2</td><td>FDU51</td><td>Meat</td><td>6729.9064</td><td>2</td><td>2</td><td>2</td></tr><tr><td>Supermarket Type2</td><td>FDY51</td><td>Meat</td><td>6611.394</td><td>3</td><td>3</td><td>3</td></tr><tr><td>Supermarket Type3</td><td>NCE42</td><td>Household</td><td>13086.9648</td><td>1</td><td>1</td><td>1</td></tr><tr><td>Supermarket Type3</td><td>FDQ19</td><td>Fruits and Vegetables</td><td>12117.56</td><td>2</td><td>2</td><td>2</td></tr><tr><td>Supermarket Type3</td><td>FDZ20</td><td>Fruits and Vegetables</td><td>11445.102</td><td>3</td><td>3</td><td>3</td></tr></tbody></table></div>"
      ]
     },
     "metadata": {
      "application/vnd.databricks.v1+output": {
       "addedWidgets": {},
       "aggData": [],
       "aggError": "",
       "aggOverflow": false,
       "aggSchema": [],
       "aggSeriesLimitReached": false,
       "aggType": "",
       "arguments": {},
       "columnCustomDisplayInfos": {},
       "data": [
        [
         "Grocery Store",
         "NCK30",
         "Household",
         1775.6886,
         1,
         1,
         1
        ],
        [
         "Grocery Store",
         "FDJ55",
         "Meat",
         1575.2828,
         2,
         2,
         2
        ],
        [
         "Grocery Store",
         "FDV59",
         "Breads",
         1524.0162,
         3,
         3,
         3
        ],
        [
         "Supermarket Type1",
         "FDF39",
         "Dairy",
         10256.649,
         1,
         1,
         1
        ],
        [
         "Supermarket Type1",
         "NCM05",
         "Health and Hygiene",
         9779.9362,
         2,
         2,
         2
        ],
        [
         "Supermarket Type1",
         "FDK03",
         "Dairy",
         9664.7528,
         3,
         3,
         3
        ],
        [
         "Supermarket Type2",
         "FDC02",
         "Canned",
         6768.5228,
         1,
         1,
         1
        ],
        [
         "Supermarket Type2",
         "FDU51",
         "Meat",
         6729.9064,
         2,
         2,
         2
        ],
        [
         "Supermarket Type2",
         "FDY51",
         "Meat",
         6611.394,
         3,
         3,
         3
        ],
        [
         "Supermarket Type3",
         "NCE42",
         "Household",
         13086.9648,
         1,
         1,
         1
        ],
        [
         "Supermarket Type3",
         "FDQ19",
         "Fruits and Vegetables",
         12117.56,
         2,
         2,
         2
        ],
        [
         "Supermarket Type3",
         "FDZ20",
         "Fruits and Vegetables",
         11445.102,
         3,
         3,
         3
        ]
       ],
       "datasetInfos": [],
       "dbfsResultPath": null,
       "isJsonSchema": true,
       "metadata": {},
       "overflow": false,
       "plotOptions": {
        "customPlotOptions": {},
        "displayType": "table",
        "pivotAggregation": null,
        "pivotColumns": null,
        "xColumns": null,
        "yColumns": null
       },
       "removedWidgets": [],
       "schema": [
        {
         "metadata": "{}",
         "name": "Outlet_Type",
         "type": "\"string\""
        },
        {
         "metadata": "{}",
         "name": "Item_Identifier",
         "type": "\"string\""
        },
        {
         "metadata": "{}",
         "name": "Item_Type",
         "type": "\"string\""
        },
        {
         "metadata": "{}",
         "name": "Item_Outlet_Sales",
         "type": "\"double\""
        },
        {
         "metadata": "{}",
         "name": "Sales_Rank",
         "type": "\"integer\""
        },
        {
         "metadata": "{}",
         "name": "Sales_Dense_Rank",
         "type": "\"integer\""
        },
        {
         "metadata": "{}",
         "name": "Sales_Row_Number",
         "type": "\"integer\""
        }
       ],
       "type": "table"
      }
     },
     "output_type": "display_data"
    }
   ],
   "source": [
    "# Window function examples\n",
    "from pyspark.sql.window import Window\n",
    "from pyspark.sql.functions import (\n",
    "    rank, dense_rank, row_number, lag, lead, \n",
    "    ntile, percent_rank, cume_dist\n",
    ")\n",
    "\n",
    "# 1. Basic window: Rank items by sales within each outlet type\n",
    "window_by_outlet_type = Window.partitionBy(\"Outlet_Type\").orderBy(col(\"Item_Outlet_Sales\").desc())\n",
    "\n",
    "ranked_sales = sales_with_category.withColumn(\n",
    "    \"Sales_Rank\", rank().over(window_by_outlet_type)\n",
    ").withColumn(\n",
    "    \"Sales_Dense_Rank\", dense_rank().over(window_by_outlet_type)\n",
    ").withColumn(\n",
    "    \"Sales_Row_Number\", row_number().over(window_by_outlet_type)\n",
    ")\n",
    "\n",
    "# Display top 3 items by sales for each outlet type\n",
    "display(ranked_sales.filter(col(\"Sales_Rank\") <= 3).select(\n",
    "    \"Outlet_Type\", \n",
    "    \"Item_Identifier\", \n",
    "    \"Item_Type\", \n",
    "    \"Item_Outlet_Sales\", \n",
    "    \"Sales_Rank\", \n",
    "    \"Sales_Dense_Rank\", \n",
    "    \"Sales_Row_Number\"\n",
    ").orderBy(\"Outlet_Type\", \"Sales_Rank\"))"
   ]
  },
  {
   "cell_type": "code",
   "execution_count": 0,
   "metadata": {
    "application/vnd.databricks.v1+cell": {
     "cellMetadata": {
      "byteLimit": 2048000,
      "rowLimit": 10000
     },
     "inputWidgets": {},
     "nuid": "9b05f16b-a4a2-4e74-8cf2-d8307290c6d3",
     "showTitle": false,
     "tableResultSettingsMap": {},
     "title": ""
    }
   },
   "outputs": [
    {
     "output_type": "display_data",
     "data": {
      "text/html": [
       "<style scoped>\n",
       "  .table-result-container {\n",
       "    max-height: 300px;\n",
       "    overflow: auto;\n",
       "  }\n",
       "  table, th, td {\n",
       "    border: 1px solid black;\n",
       "    border-collapse: collapse;\n",
       "  }\n",
       "  th, td {\n",
       "    padding: 5px;\n",
       "  }\n",
       "  th {\n",
       "    text-align: left;\n",
       "  }\n",
       "</style><div class='table-result-container'><table class='table-result'><thead style='background-color: white'><tr><th>Outlet_Type</th><th>Item_Identifier</th><th>Item_Outlet_Sales</th><th>Running_Sales_Total</th><th>Outlet_Total_Sales</th><th>Running_Sales_Percentage</th></tr></thead><tbody><tr><td>Grocery Store</td><td>DRK12</td><td>33.29</td><td>33.29</td><td>368034.266</td><td>0.009045353401957414</td></tr><tr><td>Grocery Store</td><td>NCR42</td><td>33.29</td><td>66.58</td><td>368034.266</td><td>0.01809070680391483</td></tr><tr><td>Grocery Store</td><td>FDU21</td><td>33.9558</td><td>100.5358</td><td>368034.266</td><td>0.02731696727391139</td></tr><tr><td>Grocery Store</td><td>NCL41</td><td>34.6216</td><td>135.1574</td><td>368034.266</td><td>0.0367241348119471</td></tr><tr><td>Grocery Store</td><td>FDQ47</td><td>35.2874</td><td>170.4448</td><td>368034.266</td><td>0.04631220941802196</td></tr><tr><td>Grocery Store</td><td>FDS40</td><td>36.619</td><td>207.0638</td><td>368034.266</td><td>0.05626209816017512</td></tr><tr><td>Grocery Store</td><td>FDS40</td><td>36.619</td><td>243.6828</td><td>368034.266</td><td>0.06621198690232827</td></tr><tr><td>Grocery Store</td><td>FDQ36</td><td>37.2848</td><td>280.9676</td><td>368034.266</td><td>0.07634278271252058</td></tr><tr><td>Grocery Store</td><td>FDH28</td><td>37.9506</td><td>318.9182</td><td>368034.266</td><td>0.08665448559075203</td></tr><tr><td>Grocery Store</td><td>DRK35</td><td>37.9506</td><td>356.8688</td><td>368034.266</td><td>0.09696618846898349</td></tr></tbody></table></div>"
      ]
     },
     "metadata": {
      "application/vnd.databricks.v1+output": {
       "addedWidgets": {},
       "aggData": [],
       "aggError": "",
       "aggOverflow": false,
       "aggSchema": [],
       "aggSeriesLimitReached": false,
       "aggType": "",
       "arguments": {},
       "columnCustomDisplayInfos": {},
       "data": [
        [
         "Grocery Store",
         "DRK12",
         33.29,
         33.29,
         368034.266,
         0.009045353401957414
        ],
        [
         "Grocery Store",
         "NCR42",
         33.29,
         66.58,
         368034.266,
         0.01809070680391483
        ],
        [
         "Grocery Store",
         "FDU21",
         33.9558,
         100.5358,
         368034.266,
         0.02731696727391139
        ],
        [
         "Grocery Store",
         "NCL41",
         34.6216,
         135.1574,
         368034.266,
         0.0367241348119471
        ],
        [
         "Grocery Store",
         "FDQ47",
         35.2874,
         170.4448,
         368034.266,
         0.04631220941802196
        ],
        [
         "Grocery Store",
         "FDS40",
         36.619,
         207.0638,
         368034.266,
         0.05626209816017512
        ],
        [
         "Grocery Store",
         "FDS40",
         36.619,
         243.6828,
         368034.266,
         0.06621198690232827
        ],
        [
         "Grocery Store",
         "FDQ36",
         37.2848,
         280.9676,
         368034.266,
         0.07634278271252058
        ],
        [
         "Grocery Store",
         "FDH28",
         37.9506,
         318.9182,
         368034.266,
         0.08665448559075203
        ],
        [
         "Grocery Store",
         "DRK35",
         37.9506,
         356.8688,
         368034.266,
         0.09696618846898349
        ]
       ],
       "datasetInfos": [],
       "dbfsResultPath": null,
       "isJsonSchema": true,
       "metadata": {},
       "overflow": false,
       "plotOptions": {
        "customPlotOptions": {},
        "displayType": "table",
        "pivotAggregation": null,
        "pivotColumns": null,
        "xColumns": null,
        "yColumns": null
       },
       "removedWidgets": [],
       "schema": [
        {
         "metadata": "{}",
         "name": "Outlet_Type",
         "type": "\"string\""
        },
        {
         "metadata": "{}",
         "name": "Item_Identifier",
         "type": "\"string\""
        },
        {
         "metadata": "{}",
         "name": "Item_Outlet_Sales",
         "type": "\"double\""
        },
        {
         "metadata": "{}",
         "name": "Running_Sales_Total",
         "type": "\"double\""
        },
        {
         "metadata": "{}",
         "name": "Outlet_Total_Sales",
         "type": "\"double\""
        },
        {
         "metadata": "{}",
         "name": "Running_Sales_Percentage",
         "type": "\"double\""
        }
       ],
       "type": "table"
      }
     },
     "output_type": "display_data"
    }
   ],
   "source": [
    "\n",
    "\n",
    "# 2. Running totals and percentages\n",
    "window_by_outlet_ordered = Window.partitionBy(\"Outlet_Type\").orderBy(\"Item_Outlet_Sales\").rowsBetween(\n",
    "    Window.unboundedPreceding, Window.currentRow\n",
    ")\n",
    "\n",
    "running_totals = sales_with_category.withColumn(\n",
    "    \"Running_Sales_Total\", sum(\"Item_Outlet_Sales\").over(window_by_outlet_ordered)\n",
    ")\n",
    "\n",
    "# Get total sales per outlet type for calculating percentages\n",
    "outlet_totals = sales_with_category.groupBy(\"Outlet_Type\").agg(\n",
    "    sum(\"Item_Outlet_Sales\").alias(\"Outlet_Total_Sales\")\n",
    ")\n",
    "\n",
    "# Join to calculate running percentage\n",
    "running_totals = running_totals.join(\n",
    "    outlet_totals,\n",
    "    \"Outlet_Type\",\n",
    "    \"left\"\n",
    ").withColumn(\n",
    "    \"Running_Sales_Percentage\", \n",
    "    col(\"Running_Sales_Total\") / col(\"Outlet_Total_Sales\") * 100\n",
    ")\n",
    "\n",
    "display(running_totals.select(\n",
    "    \"Outlet_Type\", \n",
    "    \"Item_Identifier\", \n",
    "    \"Item_Outlet_Sales\", \n",
    "    \"Running_Sales_Total\", \n",
    "    \"Outlet_Total_Sales\", \n",
    "    \"Running_Sales_Percentage\"\n",
    ").orderBy(\"Outlet_Type\", \"Item_Outlet_Sales\").limit(10))"
   ]
  },
  {
   "cell_type": "code",
   "execution_count": 0,
   "metadata": {
    "application/vnd.databricks.v1+cell": {
     "cellMetadata": {
      "byteLimit": 2048000,
      "rowLimit": 10000
     },
     "inputWidgets": {},
     "nuid": "eab1422a-2a63-450b-8b94-283872dda21f",
     "showTitle": false,
     "tableResultSettingsMap": {},
     "title": ""
    }
   },
   "outputs": [
    {
     "output_type": "display_data",
     "data": {
      "text/html": [
       "<style scoped>\n",
       "  .table-result-container {\n",
       "    max-height: 300px;\n",
       "    overflow: auto;\n",
       "  }\n",
       "  table, th, td {\n",
       "    border: 1px solid black;\n",
       "    border-collapse: collapse;\n",
       "  }\n",
       "  th, td {\n",
       "    padding: 5px;\n",
       "  }\n",
       "  th {\n",
       "    text-align: left;\n",
       "  }\n",
       "</style><div class='table-result-container'><table class='table-result'><thead style='background-color: white'><tr><th>Item_Type</th><th>Item_Identifier</th><th>Item_MRP</th><th>Prev_Item_MRP</th><th>Next_Item_MRP</th><th>Price_Diff_From_Prev</th><th>Price_Diff_To_Next</th></tr></thead><tbody><tr><td>Baking Goods</td><td>FDT36</td><td>33.9874</td><td>null</td><td>35.0874</td><td>null</td><td>1.1000000000000014</td></tr><tr><td>Baking Goods</td><td>FDT36</td><td>35.0874</td><td>33.9874</td><td>35.0874</td><td>1.1000000000000014</td><td>0.0</td></tr><tr><td>Baking Goods</td><td>FDP12</td><td>35.0874</td><td>35.0874</td><td>35.2874</td><td>0.0</td><td>0.19999999999999574</td></tr><tr><td>Baking Goods</td><td>FDT36</td><td>35.2874</td><td>35.0874</td><td>35.6848</td><td>0.19999999999999574</td><td>0.39740000000000464</td></tr><tr><td>Baking Goods</td><td>FDQ36</td><td>35.6848</td><td>35.2874</td><td>35.6874</td><td>0.39740000000000464</td><td>0.0025999999999939405</td></tr><tr><td>Baking Goods</td><td>FDT36</td><td>35.6874</td><td>35.6848</td><td>35.9874</td><td>0.0025999999999939405</td><td>0.30000000000000426</td></tr><tr><td>Baking Goods</td><td>FDP12</td><td>35.9874</td><td>35.6874</td><td>36.1874</td><td>0.30000000000000426</td><td>0.19999999999999574</td></tr><tr><td>Baking Goods</td><td>FDP12</td><td>36.1874</td><td>35.9874</td><td>36.2848</td><td>0.19999999999999574</td><td>0.09740000000000038</td></tr><tr><td>Baking Goods</td><td>FDQ36</td><td>36.2848</td><td>36.1874</td><td>36.7164</td><td>0.09740000000000038</td><td>0.4316000000000031</td></tr><tr><td>Baking Goods</td><td>FDW23</td><td>36.7164</td><td>36.2848</td><td>36.8874</td><td>0.4316000000000031</td><td>0.17099999999999937</td></tr><tr><td>Baking Goods</td><td>FDP12</td><td>36.8874</td><td>36.7164</td><td>36.9874</td><td>0.17099999999999937</td><td>0.10000000000000142</td></tr><tr><td>Baking Goods</td><td>FDP12</td><td>36.9874</td><td>36.8874</td><td>37.0164</td><td>0.10000000000000142</td><td>0.028999999999996362</td></tr><tr><td>Baking Goods</td><td>FDW23</td><td>37.0164</td><td>36.9874</td><td>37.0848</td><td>0.028999999999996362</td><td>0.06840000000000401</td></tr><tr><td>Baking Goods</td><td>FDQ36</td><td>37.0848</td><td>37.0164</td><td>37.2164</td><td>0.06840000000000401</td><td>0.13159999999999883</td></tr><tr><td>Baking Goods</td><td>FDW23</td><td>37.2164</td><td>37.0848</td><td>37.2848</td><td>0.13159999999999883</td><td>0.06839999999999691</td></tr></tbody></table></div>"
      ]
     },
     "metadata": {
      "application/vnd.databricks.v1+output": {
       "addedWidgets": {},
       "aggData": [],
       "aggError": "",
       "aggOverflow": false,
       "aggSchema": [],
       "aggSeriesLimitReached": false,
       "aggType": "",
       "arguments": {},
       "columnCustomDisplayInfos": {},
       "data": [
        [
         "Baking Goods",
         "FDT36",
         33.9874,
         null,
         35.0874,
         null,
         1.1000000000000014
        ],
        [
         "Baking Goods",
         "FDT36",
         35.0874,
         33.9874,
         35.0874,
         1.1000000000000014,
         0.0
        ],
        [
         "Baking Goods",
         "FDP12",
         35.0874,
         35.0874,
         35.2874,
         0.0,
         0.19999999999999574
        ],
        [
         "Baking Goods",
         "FDT36",
         35.2874,
         35.0874,
         35.6848,
         0.19999999999999574,
         0.39740000000000464
        ],
        [
         "Baking Goods",
         "FDQ36",
         35.6848,
         35.2874,
         35.6874,
         0.39740000000000464,
         0.0025999999999939405
        ],
        [
         "Baking Goods",
         "FDT36",
         35.6874,
         35.6848,
         35.9874,
         0.0025999999999939405,
         0.30000000000000426
        ],
        [
         "Baking Goods",
         "FDP12",
         35.9874,
         35.6874,
         36.1874,
         0.30000000000000426,
         0.19999999999999574
        ],
        [
         "Baking Goods",
         "FDP12",
         36.1874,
         35.9874,
         36.2848,
         0.19999999999999574,
         0.09740000000000038
        ],
        [
         "Baking Goods",
         "FDQ36",
         36.2848,
         36.1874,
         36.7164,
         0.09740000000000038,
         0.4316000000000031
        ],
        [
         "Baking Goods",
         "FDW23",
         36.7164,
         36.2848,
         36.8874,
         0.4316000000000031,
         0.17099999999999937
        ],
        [
         "Baking Goods",
         "FDP12",
         36.8874,
         36.7164,
         36.9874,
         0.17099999999999937,
         0.10000000000000142
        ],
        [
         "Baking Goods",
         "FDP12",
         36.9874,
         36.8874,
         37.0164,
         0.10000000000000142,
         0.028999999999996362
        ],
        [
         "Baking Goods",
         "FDW23",
         37.0164,
         36.9874,
         37.0848,
         0.028999999999996362,
         0.06840000000000401
        ],
        [
         "Baking Goods",
         "FDQ36",
         37.0848,
         37.0164,
         37.2164,
         0.06840000000000401,
         0.13159999999999883
        ],
        [
         "Baking Goods",
         "FDW23",
         37.2164,
         37.0848,
         37.2848,
         0.13159999999999883,
         0.06839999999999691
        ]
       ],
       "datasetInfos": [],
       "dbfsResultPath": null,
       "isJsonSchema": true,
       "metadata": {},
       "overflow": false,
       "plotOptions": {
        "customPlotOptions": {},
        "displayType": "table",
        "pivotAggregation": null,
        "pivotColumns": null,
        "xColumns": null,
        "yColumns": null
       },
       "removedWidgets": [],
       "schema": [
        {
         "metadata": "{}",
         "name": "Item_Type",
         "type": "\"string\""
        },
        {
         "metadata": "{}",
         "name": "Item_Identifier",
         "type": "\"string\""
        },
        {
         "metadata": "{}",
         "name": "Item_MRP",
         "type": "\"double\""
        },
        {
         "metadata": "{}",
         "name": "Prev_Item_MRP",
         "type": "\"double\""
        },
        {
         "metadata": "{}",
         "name": "Next_Item_MRP",
         "type": "\"double\""
        },
        {
         "metadata": "{}",
         "name": "Price_Diff_From_Prev",
         "type": "\"double\""
        },
        {
         "metadata": "{}",
         "name": "Price_Diff_To_Next",
         "type": "\"double\""
        }
       ],
       "type": "table"
      }
     },
     "output_type": "display_data"
    }
   ],
   "source": [
    "\n",
    "\n",
    "# 3. Comparing with previous/next rows using lag/lead\n",
    "window_by_type_ordered = Window.partitionBy(\"Item_Type\").orderBy(\"Item_MRP\")\n",
    "\n",
    "comparison_df = sales_with_category.withColumn(\n",
    "    \"Prev_Item_MRP\", lag(\"Item_MRP\", 1).over(window_by_type_ordered)\n",
    ").withColumn(\n",
    "    \"Next_Item_MRP\", lead(\"Item_MRP\", 1).over(window_by_type_ordered)\n",
    ").withColumn(\n",
    "    \"Price_Diff_From_Prev\", col(\"Item_MRP\") - col(\"Prev_Item_MRP\")\n",
    ").withColumn(\n",
    "    \"Price_Diff_To_Next\", col(\"Next_Item_MRP\") - col(\"Item_MRP\")\n",
    ")\n",
    "\n",
    "display(comparison_df.select(\n",
    "    \"Item_Type\", \n",
    "    \"Item_Identifier\", \n",
    "    \"Item_MRP\", \n",
    "    \"Prev_Item_MRP\", \n",
    "    \"Next_Item_MRP\", \n",
    "    \"Price_Diff_From_Prev\", \n",
    "    \"Price_Diff_To_Next\"\n",
    ").orderBy(\"Item_Type\", \"Item_MRP\").limit(15))"
   ]
  },
  {
   "cell_type": "markdown",
   "metadata": {
    "application/vnd.databricks.v1+cell": {
     "cellMetadata": {},
     "inputWidgets": {},
     "nuid": "b199ae58-97a5-4436-a6d2-d0ffa6a6ff2e",
     "showTitle": false,
     "tableResultSettingsMap": {},
     "title": ""
    }
   },
   "source": [
    "## User-Defined Functions (UDFs)\n",
    "\n",
    "User-Defined Functions (UDFs) allow you to define custom functions in Python that can be applied to DataFrame columns. UDFs are useful when built-in functions don't meet your specific needs.\n",
    "\n",
    "Note: UDFs can impact performance as they require serialization/deserialization between the JVM and Python. For performance-critical operations, consider using built-in functions or Pandas UDFs."
   ]
  },
  {
   "cell_type": "code",
   "execution_count": 0,
   "metadata": {
    "application/vnd.databricks.v1+cell": {
     "cellMetadata": {
      "byteLimit": 2048000,
      "rowLimit": 10000
     },
     "inputWidgets": {},
     "nuid": "3b880286-bf9d-4ff4-a0eb-d5f180ecaa81",
     "showTitle": false,
     "tableResultSettingsMap": {},
     "title": ""
    }
   },
   "outputs": [
    {
     "output_type": "display_data",
     "data": {
      "text/html": [
       "<style scoped>\n",
       "  .table-result-container {\n",
       "    max-height: 300px;\n",
       "    overflow: auto;\n",
       "  }\n",
       "  table, th, td {\n",
       "    border: 1px solid black;\n",
       "    border-collapse: collapse;\n",
       "  }\n",
       "  th, td {\n",
       "    padding: 5px;\n",
       "  }\n",
       "  th {\n",
       "    text-align: left;\n",
       "  }\n",
       "</style><div class='table-result-container'><table class='table-result'><thead style='background-color: white'><tr><th>Item_Identifier</th><th>Item_MRP</th><th>Price_Category_UDF</th></tr></thead><tbody><tr><td>FDA15</td><td>249.8092</td><td>Premium</td></tr><tr><td>DRC01</td><td>48.2692</td><td>Budget</td></tr><tr><td>FDN15</td><td>141.618</td><td>Standard</td></tr><tr><td>FDX07</td><td>182.095</td><td>Standard</td></tr><tr><td>NCD19</td><td>53.8614</td><td>Economy</td></tr><tr><td>FDP36</td><td>51.4008</td><td>Economy</td></tr><tr><td>FDO10</td><td>57.6588</td><td>Economy</td></tr><tr><td>FDP10</td><td>107.7622</td><td>Standard</td></tr><tr><td>FDH17</td><td>96.9726</td><td>Economy</td></tr><tr><td>FDU28</td><td>187.8214</td><td>Standard</td></tr></tbody></table></div>"
      ]
     },
     "metadata": {
      "application/vnd.databricks.v1+output": {
       "addedWidgets": {},
       "aggData": [],
       "aggError": "",
       "aggOverflow": false,
       "aggSchema": [],
       "aggSeriesLimitReached": false,
       "aggType": "",
       "arguments": {},
       "columnCustomDisplayInfos": {},
       "data": [
        [
         "FDA15",
         249.8092,
         "Premium"
        ],
        [
         "DRC01",
         48.2692,
         "Budget"
        ],
        [
         "FDN15",
         141.618,
         "Standard"
        ],
        [
         "FDX07",
         182.095,
         "Standard"
        ],
        [
         "NCD19",
         53.8614,
         "Economy"
        ],
        [
         "FDP36",
         51.4008,
         "Economy"
        ],
        [
         "FDO10",
         57.6588,
         "Economy"
        ],
        [
         "FDP10",
         107.7622,
         "Standard"
        ],
        [
         "FDH17",
         96.9726,
         "Economy"
        ],
        [
         "FDU28",
         187.8214,
         "Standard"
        ]
       ],
       "datasetInfos": [],
       "dbfsResultPath": null,
       "isJsonSchema": true,
       "metadata": {},
       "overflow": false,
       "plotOptions": {
        "customPlotOptions": {},
        "displayType": "table",
        "pivotAggregation": null,
        "pivotColumns": null,
        "xColumns": null,
        "yColumns": null
       },
       "removedWidgets": [],
       "schema": [
        {
         "metadata": "{}",
         "name": "Item_Identifier",
         "type": "\"string\""
        },
        {
         "metadata": "{}",
         "name": "Item_MRP",
         "type": "\"double\""
        },
        {
         "metadata": "{}",
         "name": "Price_Category_UDF",
         "type": "\"string\""
        }
       ],
       "type": "table"
      }
     },
     "output_type": "display_data"
    },
    {
     "output_type": "display_data",
     "data": {
      "text/html": [
       "<style scoped>\n",
       "  .table-result-container {\n",
       "    max-height: 300px;\n",
       "    overflow: auto;\n",
       "  }\n",
       "  table, th, td {\n",
       "    border: 1px solid black;\n",
       "    border-collapse: collapse;\n",
       "  }\n",
       "  th, td {\n",
       "    padding: 5px;\n",
       "  }\n",
       "  th {\n",
       "    text-align: left;\n",
       "  }\n",
       "</style><div class='table-result-container'><table class='table-result'><thead style='background-color: white'><tr><th>Item_Identifier</th><th>Item_MRP</th><th>Item_Outlet_Sales</th><th>Estimated_Profit</th></tr></thead><tbody><tr><td>FDA15</td><td>249.8092</td><td>3735.138</td><td>3560.27156</td></tr><tr><td>DRC01</td><td>48.2692</td><td>443.4228</td><td>409.63436</td></tr><tr><td>FDN15</td><td>141.618</td><td>2097.27</td><td>1998.1374</td></tr><tr><td>FDX07</td><td>182.095</td><td>732.38</td><td>604.9135</td></tr><tr><td>NCD19</td><td>53.8614</td><td>994.7052</td><td>957.00222</td></tr><tr><td>FDP36</td><td>51.4008</td><td>556.6088</td><td>520.62824</td></tr><tr><td>FDO10</td><td>57.6588</td><td>343.5528</td><td>303.19164</td></tr><tr><td>FDP10</td><td>107.7622</td><td>4022.7636</td><td>3947.3300600000002</td></tr><tr><td>FDH17</td><td>96.9726</td><td>1076.5986</td><td>1008.7177800000001</td></tr><tr><td>FDU28</td><td>187.8214</td><td>4710.535</td><td>4579.06002</td></tr></tbody></table></div>"
      ]
     },
     "metadata": {
      "application/vnd.databricks.v1+output": {
       "addedWidgets": {},
       "aggData": [],
       "aggError": "",
       "aggOverflow": false,
       "aggSchema": [],
       "aggSeriesLimitReached": false,
       "aggType": "",
       "arguments": {},
       "columnCustomDisplayInfos": {},
       "data": [
        [
         "FDA15",
         249.8092,
         3735.138,
         3560.27156
        ],
        [
         "DRC01",
         48.2692,
         443.4228,
         409.63436
        ],
        [
         "FDN15",
         141.618,
         2097.27,
         1998.1374
        ],
        [
         "FDX07",
         182.095,
         732.38,
         604.9135
        ],
        [
         "NCD19",
         53.8614,
         994.7052,
         957.00222
        ],
        [
         "FDP36",
         51.4008,
         556.6088,
         520.62824
        ],
        [
         "FDO10",
         57.6588,
         343.5528,
         303.19164
        ],
        [
         "FDP10",
         107.7622,
         4022.7636,
         3947.3300600000002
        ],
        [
         "FDH17",
         96.9726,
         1076.5986,
         1008.7177800000001
        ],
        [
         "FDU28",
         187.8214,
         4710.535,
         4579.06002
        ]
       ],
       "datasetInfos": [],
       "dbfsResultPath": null,
       "isJsonSchema": true,
       "metadata": {},
       "overflow": false,
       "plotOptions": {
        "customPlotOptions": {},
        "displayType": "table",
        "pivotAggregation": null,
        "pivotColumns": null,
        "xColumns": null,
        "yColumns": null
       },
       "removedWidgets": [],
       "schema": [
        {
         "metadata": "{}",
         "name": "Item_Identifier",
         "type": "\"string\""
        },
        {
         "metadata": "{}",
         "name": "Item_MRP",
         "type": "\"double\""
        },
        {
         "metadata": "{}",
         "name": "Item_Outlet_Sales",
         "type": "\"double\""
        },
        {
         "metadata": "{}",
         "name": "Estimated_Profit",
         "type": "\"double\""
        }
       ],
       "type": "table"
      }
     },
     "output_type": "display_data"
    },
    {
     "output_type": "display_data",
     "data": {
      "text/html": [
       "<style scoped>\n",
       "  .table-result-container {\n",
       "    max-height: 300px;\n",
       "    overflow: auto;\n",
       "  }\n",
       "  table, th, td {\n",
       "    border: 1px solid black;\n",
       "    border-collapse: collapse;\n",
       "  }\n",
       "  th, td {\n",
       "    padding: 5px;\n",
       "  }\n",
       "  th {\n",
       "    text-align: left;\n",
       "  }\n",
       "</style><div class='table-result-container'><table class='table-result'><thead style='background-color: white'><tr><th>Item_Identifier</th><th>Item_Type</th><th>Item_MRP</th><th>Item_Outlet_Sales</th><th>Is_High_Value</th></tr></thead><tbody><tr><td>FDJ12</td><td>Baking Goods</td><td>206.8296</td><td>4154.592</td><td>true</td></tr><tr><td>FDJ12</td><td>Baking Goods</td><td>208.8296</td><td>5400.9696</td><td>true</td></tr><tr><td>FDO48</td><td>Baking Goods</td><td>219.7456</td><td>3094.6384</td><td>true</td></tr><tr><td>FDO48</td><td>Baking Goods</td><td>219.8456</td><td>4863.0032</td><td>true</td></tr><tr><td>FDA48</td><td>Baking Goods</td><td>221.4114</td><td>5099.3622</td><td>true</td></tr><tr><td>FDA48</td><td>Baking Goods</td><td>222.0114</td><td>3547.3824</td><td>true</td></tr><tr><td>FDX36</td><td>Baking Goods</td><td>223.9404</td><td>4950.8888</td><td>true</td></tr><tr><td>FDX36</td><td>Baking Goods</td><td>224.0404</td><td>5851.0504</td><td>true</td></tr><tr><td>FDT12</td><td>Baking Goods</td><td>224.5062</td><td>4514.124</td><td>true</td></tr><tr><td>FDX36</td><td>Baking Goods</td><td>224.8404</td><td>3600.6464</td><td>true</td></tr><tr><td>FDT12</td><td>Baking Goods</td><td>225.8062</td><td>3159.8868</td><td>true</td></tr><tr><td>FDT12</td><td>Baking Goods</td><td>226.1062</td><td>4739.8302</td><td>true</td></tr><tr><td>FDX36</td><td>Baking Goods</td><td>226.1404</td><td>3375.606</td><td>true</td></tr><tr><td>FDX36</td><td>Baking Goods</td><td>226.5404</td><td>4500.808</td><td>true</td></tr><tr><td>FDT12</td><td>Baking Goods</td><td>226.8062</td><td>4739.8302</td><td>true</td></tr><tr><td>FDX36</td><td>Baking Goods</td><td>226.9404</td><td>2700.4848</td><td>true</td></tr><tr><td>FDT12</td><td>Baking Goods</td><td>227.4062</td><td>5191.2426</td><td>true</td></tr><tr><td>FDQ12</td><td>Baking Goods</td><td>231.401</td><td>2526.711</td><td>true</td></tr><tr><td>FDQ12</td><td>Baking Goods</td><td>231.601</td><td>5972.226</td><td>true</td></tr><tr><td>FDG60</td><td>Baking Goods</td><td>232.7616</td><td>2812.3392</td><td>true</td></tr><tr><td>FDG60</td><td>Baking Goods</td><td>233.3616</td><td>6093.4016</td><td>true</td></tr><tr><td>FDG60</td><td>Baking Goods</td><td>233.6616</td><td>2577.9776</td><td>true</td></tr><tr><td>FDG60</td><td>Baking Goods</td><td>234.2616</td><td>4687.232</td><td>true</td></tr><tr><td>FDG60</td><td>Baking Goods</td><td>234.5616</td><td>6796.4864</td><td>true</td></tr><tr><td>FDX12</td><td>Baking Goods</td><td>239.2196</td><td>3133.2548</td><td>true</td></tr><tr><td>FDB37</td><td>Baking Goods</td><td>240.3538</td><td>4086.0146</td><td>true</td></tr><tr><td>FDB37</td><td>Baking Goods</td><td>240.7538</td><td>3364.9532</td><td>true</td></tr><tr><td>FDB37</td><td>Baking Goods</td><td>240.8538</td><td>7931.6754</td><td>true</td></tr><tr><td>FDB37</td><td>Baking Goods</td><td>241.0538</td><td>4566.7222</td><td>true</td></tr><tr><td>FDX12</td><td>Baking Goods</td><td>241.2196</td><td>6507.5292</td><td>true</td></tr><tr><td>FDX12</td><td>Baking Goods</td><td>241.8196</td><td>4097.3332</td><td>true</td></tr><tr><td>FDB37</td><td>Baking Goods</td><td>241.8538</td><td>5768.4912</td><td>true</td></tr><tr><td>FDJ48</td><td>Baking Goods</td><td>245.2118</td><td>5681.2714</td><td>true</td></tr><tr><td>FDJ48</td><td>Baking Goods</td><td>245.4118</td><td>6669.3186</td><td>true</td></tr><tr><td>FDJ48</td><td>Baking Goods</td><td>246.9118</td><td>5681.2714</td><td>true</td></tr><tr><td>FDJ48</td><td>Baking Goods</td><td>247.8118</td><td>2964.1416</td><td>true</td></tr><tr><td>FDQ24</td><td>Baking Goods</td><td>249.6724</td><td>6543.4824</td><td>true</td></tr><tr><td>FDQ24</td><td>Baking Goods</td><td>250.5724</td><td>4026.7584</td><td>true</td></tr><tr><td>FDQ24</td><td>Baking Goods</td><td>253.3724</td><td>6795.1548</td><td>true</td></tr><tr><td>FDU12</td><td>Baking Goods</td><td>262.7568</td><td>7646.0472</td><td>true</td></tr><tr><td>FDU12</td><td>Baking Goods</td><td>262.8568</td><td>5800.4496</td><td>true</td></tr><tr><td>FDU12</td><td>Baking Goods</td><td>263.9568</td><td>4745.8224</td><td>true</td></tr><tr><td>FDU12</td><td>Baking Goods</td><td>265.5568</td><td>4482.1656</td><td>true</td></tr><tr><td>FDR35</td><td>Breads</td><td>200.0742</td><td>8958.339</td><td>true</td></tr><tr><td>FDP11</td><td>Breads</td><td>216.6166</td><td>4136.6154</td><td>true</td></tr><tr><td>FDV59</td><td>Breads</td><td>216.7166</td><td>3918.8988</td><td>true</td></tr><tr><td>FDP11</td><td>Breads</td><td>216.9166</td><td>4354.332</td><td>true</td></tr><tr><td>FDP23</td><td>Breads</td><td>217.5166</td><td>4572.0486</td><td>true</td></tr><tr><td>FDV59</td><td>Breads</td><td>217.6166</td><td>3265.749</td><td>true</td></tr><tr><td>FDP23</td><td>Breads</td><td>218.2166</td><td>3701.1822</td><td>true</td></tr><tr><td>FDP11</td><td>Breads</td><td>218.2166</td><td>4789.7652</td><td>true</td></tr><tr><td>FDP23</td><td>Breads</td><td>218.3166</td><td>5660.6316</td><td>true</td></tr><tr><td>FDP11</td><td>Breads</td><td>218.7166</td><td>4136.6154</td><td>true</td></tr><tr><td>FDV59</td><td>Breads</td><td>218.9166</td><td>5660.6316</td><td>true</td></tr><tr><td>FDV59</td><td>Breads</td><td>219.6166</td><td>3483.4656</td><td>true</td></tr><tr><td>FDS11</td><td>Breads</td><td>222.1088</td><td>4026.7584</td><td>true</td></tr><tr><td>FDS11</td><td>Breads</td><td>222.5088</td><td>7158.6816</td><td>true</td></tr><tr><td>FDS11</td><td>Breads</td><td>224.7088</td><td>3131.9232</td><td>true</td></tr><tr><td>FDS11</td><td>Breads</td><td>224.9088</td><td>2684.5056</td><td>true</td></tr><tr><td>FDS11</td><td>Breads</td><td>225.3088</td><td>5816.4288</td><td>true</td></tr><tr><td>FDX35</td><td>Breads</td><td>226.3036</td><td>4098.6648</td><td>true</td></tr><tr><td>FDX35</td><td>Breads</td><td>228.2036</td><td>4781.7756</td><td>true</td></tr><tr><td>FDX35</td><td>Breads</td><td>228.2036</td><td>2504.7396</td><td>true</td></tr><tr><td>FDT59</td><td>Breads</td><td>228.5668</td><td>3225.1352</td><td>true</td></tr><tr><td>FDX35</td><td>Breads</td><td>229.0036</td><td>4326.3684</td><td>true</td></tr><tr><td>FDT59</td><td>Breads</td><td>229.4668</td><td>4837.7028</td><td>true</td></tr><tr><td>FDT59</td><td>Breads</td><td>230.2668</td><td>2994.7684</td><td>true</td></tr><tr><td>FDT59</td><td>Breads</td><td>231.1668</td><td>6911.004</td><td>true</td></tr><tr><td>FDT59</td><td>Breads</td><td>231.9668</td><td>3225.1352</td><td>true</td></tr><tr><td>FDO11</td><td>Breads</td><td>247.4092</td><td>6972.2576</td><td>true</td></tr><tr><td>FDO11</td><td>Breads</td><td>248.8092</td><td>3486.1288</td><td>true</td></tr><tr><td>FDO11</td><td>Breads</td><td>250.3092</td><td>6723.2484</td><td>true</td></tr><tr><td>FDQ11</td><td>Breads</td><td>257.4988</td><td>3083.9856</td><td>true</td></tr><tr><td>FDQ11</td><td>Breads</td><td>258.8988</td><td>5396.9748</td><td>true</td></tr><tr><td>FDQ11</td><td>Breads</td><td>258.8988</td><td>3083.9856</td><td>true</td></tr><tr><td>FDR59</td><td>Breads</td><td>260.4594</td><td>5494.8474</td><td>true</td></tr><tr><td>FDR59</td><td>Breads</td><td>260.4594</td><td>3139.9128</td><td>true</td></tr><tr><td>FDR59</td><td>Breads</td><td>262.3594</td><td>4448.2098</td><td>true</td></tr><tr><td>FDR59</td><td>Breads</td><td>262.7594</td><td>7064.8038</td><td>true</td></tr><tr><td>FDR59</td><td>Breads</td><td>263.1594</td><td>2616.594</td><td>true</td></tr><tr><td>FDR59</td><td>Breads</td><td>263.2594</td><td>2878.2534</td><td>true</td></tr><tr><td>FDR59</td><td>Breads</td><td>263.6594</td><td>3401.5722</td><td>true</td></tr><tr><td>FDO37</td><td>Breakfast</td><td>229.1326</td><td>7393.0432</td><td>true</td></tr><tr><td>FDO37</td><td>Breakfast</td><td>229.7326</td><td>6930.978</td><td>true</td></tr><tr><td>FDL13</td><td>Breakfast</td><td>231.43</td><td>3029.39</td><td>true</td></tr><tr><td>FDO37</td><td>Breakfast</td><td>231.7326</td><td>5313.7498</td><td>true</td></tr><tr><td>FDO37</td><td>Breakfast</td><td>232.0326</td><td>3003.4238</td><td>true</td></tr><tr><td>FDO37</td><td>Breakfast</td><td>232.3326</td><td>2541.3586</td><td>true</td></tr><tr><td>FDL13</td><td>Breakfast</td><td>232.73</td><td>6291.81</td><td>true</td></tr><tr><td>FDO37</td><td>Breakfast</td><td>232.7326</td><td>3696.5216</td><td>true</td></tr><tr><td>FDL13</td><td>Breakfast</td><td>233.83</td><td>2796.36</td><td>true</td></tr><tr><td>FDL13</td><td>Breakfast</td><td>234.93</td><td>4660.6</td><td>true</td></tr><tr><td>FDR01</td><td>Canned</td><td>200.1742</td><td>6171.3002</td><td>true</td></tr><tr><td>FDN02</td><td>Canned</td><td>205.3638</td><td>5383.6588</td><td>true</td></tr><tr><td>FDI38</td><td>Canned</td><td>206.9638</td><td>7247.233</td><td>true</td></tr><tr><td>FDN02</td><td>Canned</td><td>207.2638</td><td>5383.6588</td><td>true</td></tr><tr><td>FDI38</td><td>Canned</td><td>207.3638</td><td>5797.7864</td><td>true</td></tr><tr><td>FDI38</td><td>Canned</td><td>207.7638</td><td>3520.0846</td><td>true</td></tr><tr><td>FDN02</td><td>Canned</td><td>208.2638</td><td>4762.4674</td><td>true</td></tr><tr><td>FDN02</td><td>Canned</td><td>208.5638</td><td>2691.8294</td><td>true</td></tr><tr><td>FDO25</td><td>Canned</td><td>209.027</td><td>4613.994</td><td>true</td></tr><tr><td>FDO25</td><td>Canned</td><td>209.627</td><td>3984.813</td><td>true</td></tr><tr><td>FDO25</td><td>Canned</td><td>210.527</td><td>6291.81</td><td>true</td></tr><tr><td>FDT01</td><td>Canned</td><td>211.4902</td><td>4035.4138</td><td>true</td></tr><tr><td>FDT01</td><td>Canned</td><td>211.5902</td><td>4672.5844</td><td>true</td></tr><tr><td>FDT01</td><td>Canned</td><td>212.9902</td><td>3185.853</td><td>true</td></tr><tr><td>FDJ26</td><td>Canned</td><td>215.5218</td><td>4060.7142</td><td>true</td></tr><tr><td>FDJ26</td><td>Canned</td><td>215.5218</td><td>4915.6014</td><td>true</td></tr><tr><td>FDP25</td><td>Canned</td><td>216.3824</td><td>6114.7072</td><td>true</td></tr><tr><td>FDP25</td><td>Canned</td><td>216.5824</td><td>5241.1776</td><td>true</td></tr><tr><td>FDP25</td><td>Canned</td><td>216.8824</td><td>2838.9712</td><td>true</td></tr><tr><td>FDP25</td><td>Canned</td><td>216.9824</td><td>4804.4128</td><td>true</td></tr><tr><td>FDP25</td><td>Canned</td><td>217.0824</td><td>6769.8544</td><td>true</td></tr><tr><td>FDZ49</td><td>Canned</td><td>219.7798</td><td>2644.5576</td><td>true</td></tr><tr><td>FDZ49</td><td>Canned</td><td>220.3798</td><td>5289.1152</td><td>true</td></tr><tr><td>FDV25</td><td>Canned</td><td>221.5456</td><td>6852.4136</td><td>true</td></tr><tr><td>FDZ49</td><td>Canned</td><td>221.5798</td><td>4187.2162</td><td>true</td></tr><tr><td>FDZ49</td><td>Canned</td><td>222.0798</td><td>2864.9374</td><td>true</td></tr><tr><td>FDV25</td><td>Canned</td><td>222.1456</td><td>5747.1856</td><td>true</td></tr><tr><td>FDV25</td><td>Canned</td><td>222.5456</td><td>5305.0944</td><td>true</td></tr><tr><td>FDV25</td><td>Canned</td><td>222.5456</td><td>3315.684</td><td>true</td></tr><tr><td>FDI50</td><td>Canned</td><td>227.6352</td><td>2748.4224</td><td>true</td></tr><tr><td>FDI50</td><td>Canned</td><td>227.8352</td><td>3435.528</td><td>true</td></tr><tr><td>FDI50</td><td>Canned</td><td>228.0352</td><td>10306.584</td><td>true</td></tr><tr><td>FDI50</td><td>Canned</td><td>228.7352</td><td>5954.9152</td><td>true</td></tr><tr><td>FDI50</td><td>Canned</td><td>229.0352</td><td>5496.8448</td><td>true</td></tr><tr><td>FDI50</td><td>Canned</td><td>230.8352</td><td>3435.528</td><td>true</td></tr><tr><td>FDX49</td><td>Canned</td><td>231.33</td><td>4660.6</td><td>true</td></tr><tr><td>FDX49</td><td>Canned</td><td>231.93</td><td>2563.33</td><td>true</td></tr><tr><td>FDX49</td><td>Canned</td><td>232.23</td><td>5126.66</td><td>true</td></tr><tr><td>FDX49</td><td>Canned</td><td>232.63</td><td>5359.69</td><td>true</td></tr><tr><td>FDX49</td><td>Canned</td><td>234.33</td><td>3961.51</td><td>true</td></tr><tr><td>FDX13</td><td>Canned</td><td>248.3092</td><td>6474.2392</td><td>true</td></tr><tr><td>FDN38</td><td>Canned</td><td>248.6408</td><td>3504.7712</td><td>true</td></tr><tr><td>FDX13</td><td>Canned</td><td>249.1092</td><td>8217.3036</td><td>true</td></tr><tr><td>FDX13</td><td>Canned</td><td>250.2092</td><td>3984.1472</td><td>true</td></tr><tr><td>FDN38</td><td>Canned</td><td>250.6408</td><td>4756.4752</td><td>true</td></tr><tr><td>FDN38</td><td>Canned</td><td>251.1408</td><td>3254.4304</td><td>true</td></tr><tr><td>FDN38</td><td>Canned</td><td>251.6408</td><td>6008.1792</td><td>true</td></tr><tr><td>FDN38</td><td>Canned</td><td>251.8408</td><td>4506.1344</td><td>true</td></tr><tr><td>FDQ01</td><td>Canned</td><td>253.1014</td><td>2805.0154</td><td>true</td></tr><tr><td>FDT37</td><td>Canned</td><td>253.7014</td><td>5865.0322</td><td>true</td></tr><tr><td>FDQ01</td><td>Canned</td><td>254.1014</td><td>4845.0266</td><td>true</td></tr><tr><td>FDQ01</td><td>Canned</td><td>254.7014</td><td>3570.0196</td><td>true</td></tr><tr><td>FDQ01</td><td>Canned</td><td>255.2014</td><td>3570.0196</td><td>true</td></tr><tr><td>FDT37</td><td>Canned</td><td>255.5014</td><td>5355.0294</td><td>true</td></tr><tr><td>FDG26</td><td>Canned</td><td>255.933</td><td>3844.995</td><td>true</td></tr><tr><td>FDQ01</td><td>Canned</td><td>256.1014</td><td>3060.0168</td><td>true</td></tr><tr><td>FDT37</td><td>Canned</td><td>256.3014</td><td>4845.0266</td><td>true</td></tr><tr><td>FDG26</td><td>Canned</td><td>257.633</td><td>5382.993</td><td>true</td></tr><tr><td>FDG26</td><td>Canned</td><td>257.833</td><td>5382.993</td><td>true</td></tr><tr><td>FDG26</td><td>Canned</td><td>257.833</td><td>3332.329</td><td>true</td></tr><tr><td>FDC02</td><td>Canned</td><td>258.3278</td><td>7028.8506</td><td>true</td></tr><tr><td>FDC02</td><td>Canned</td><td>258.5278</td><td>5206.556</td><td>true</td></tr><tr><td>FDC02</td><td>Canned</td><td>259.3278</td><td>4165.2448</td><td>true</td></tr><tr><td>FDC02</td><td>Canned</td><td>259.9278</td><td>6768.5228</td><td>true</td></tr><tr><td>FDC02</td><td>Canned</td><td>260.4278</td><td>3644.5892</td><td>true</td></tr><tr><td>FDV49</td><td>Canned</td><td>262.6226</td><td>7136.7102</td><td>true</td></tr><tr><td>FDV49</td><td>Canned</td><td>262.7226</td><td>3171.8712</td><td>true</td></tr><tr><td>FDS13</td><td>Canned</td><td>263.1884</td><td>2914.8724</td><td>true</td></tr><tr><td>FDV49</td><td>Canned</td><td>263.2226</td><td>3700.5164</td><td>true</td></tr><tr><td>FDS13</td><td>Canned</td><td>264.1884</td><td>3444.8492</td><td>true</td></tr><tr><td>FDV49</td><td>Canned</td><td>264.6226</td><td>4757.8068</td><td>true</td></tr><tr><td>FDV49</td><td>Canned</td><td>264.7226</td><td>3171.8712</td><td>true</td></tr><tr><td>FDS13</td><td>Canned</td><td>264.7884</td><td>3709.8376</td><td>true</td></tr><tr><td>FDR25</td><td>Canned</td><td>265.1884</td><td>6359.7216</td><td>true</td></tr><tr><td>FDV49</td><td>Canned</td><td>265.2226</td><td>5815.0972</td><td>true</td></tr><tr><td>FDR25</td><td>Canned</td><td>265.6884</td><td>2649.884</td><td>true</td></tr><tr><td>FDR25</td><td>Canned</td><td>265.7884</td><td>3974.826</td><td>true</td></tr><tr><td>FDS13</td><td>Canned</td><td>266.1884</td><td>5299.768</td><td>true</td></tr><tr><td>FDR25</td><td>Canned</td><td>266.8884</td><td>5034.7796</td><td>true</td></tr><tr><td>FDQ14</td><td>Dairy</td><td>150.105</td><td>2696.49</td><td>true</td></tr><tr><td>FDC52</td><td>Dairy</td><td>150.4708</td><td>1956.1204</td><td>true</td></tr><tr><td>FDC52</td><td>Dairy</td><td>150.6708</td><td>2106.5912</td><td>true</td></tr><tr><td>DRF27</td><td>Dairy</td><td>152.234</td><td>3828.35</td><td>true</td></tr><tr><td>DRF27</td><td>Dairy</td><td>152.234</td><td>5053.422</td><td>true</td></tr><tr><td>DRF27</td><td>Dairy</td><td>152.334</td><td>2143.876</td><td>true</td></tr><tr><td>DRG03</td><td>Dairy</td><td>153.0998</td><td>4921.5936</td><td>true</td></tr><tr><td>DRG03</td><td>Dairy</td><td>153.9998</td><td>5229.1932</td><td>true</td></tr><tr><td>DRG03</td><td>Dairy</td><td>154.2998</td><td>1691.7978</td><td>true</td></tr><tr><td>FDY15</td><td>Dairy</td><td>154.463</td><td>2190.482</td><td>true</td></tr><tr><td>DRG03</td><td>Dairy</td><td>154.4998</td><td>1691.7978</td><td>true</td></tr><tr><td>DRF27</td><td>Dairy</td><td>154.534</td><td>2603.278</td><td>true</td></tr><tr><td>FDY15</td><td>Dairy</td><td>154.663</td><td>2659.871</td><td>true</td></tr><tr><td>DRF15</td><td>Dairy</td><td>155.034</td><td>1990.742</td><td>true</td></tr><tr><td>FDC15</td><td>Dairy</td><td>155.5288</td><td>1571.288</td><td>true</td></tr><tr><td>FDY15</td><td>Dairy</td><td>155.663</td><td>2034.019</td><td>true</td></tr><tr><td>FDY15</td><td>Dairy</td><td>155.863</td><td>2346.945</td><td>true</td></tr><tr><td>FDY15</td><td>Dairy</td><td>155.963</td><td>4537.427</td><td>true</td></tr><tr><td>FDS14</td><td>Dairy</td><td>156.5288</td><td>2356.932</td><td>true</td></tr><tr><td>FDS14</td><td>Dairy</td><td>156.9288</td><td>1571.288</td><td>true</td></tr><tr><td>FDS14</td><td>Dairy</td><td>157.4288</td><td>2042.6744</td><td>true</td></tr><tr><td>FDC15</td><td>Dairy</td><td>158.1288</td><td>3299.7048</td><td>true</td></tr><tr><td>FDC15</td><td>Dairy</td><td>158.9288</td><td>1571.288</td><td>true</td></tr><tr><td>DRG51</td><td>Dairy</td><td>163.5526</td><td>2302.3364</td><td>true</td></tr><tr><td>DRG51</td><td>Dairy</td><td>164.9526</td><td>2302.3364</td><td>true</td></tr><tr><td>FDW50</td><td>Dairy</td><td>165.1158</td><td>1504.0422</td><td>true</td></tr><tr><td>DRG51</td><td>Dairy</td><td>165.3526</td><td>3453.5046</td><td>true</td></tr><tr><td>FDW50</td><td>Dairy</td><td>167.2158</td><td>3008.0844</td><td>true</td></tr><tr><td>FDW50</td><td>Dairy</td><td>167.5158</td><td>1504.0422</td><td>true</td></tr><tr><td>FDW50</td><td>Dairy</td><td>168.1158</td><td>2005.3896</td><td>true</td></tr><tr><td>FDW50</td><td>Dairy</td><td>168.4158</td><td>1504.0422</td><td>true</td></tr><tr><td>FDV02</td><td>Dairy</td><td>169.8106</td><td>3251.1014</td><td>true</td></tr><tr><td>FDZ38</td><td>Dairy</td><td>170.4422</td><td>2759.0752</td><td>true</td></tr><tr><td>FDV02</td><td>Dairy</td><td>170.7106</td><td>3079.9908</td><td>true</td></tr><tr><td>DRI51</td><td>Dairy</td><td>171.5764</td><td>4637.9628</td><td>true</td></tr><tr><td>FDZ38</td><td>Dairy</td><td>171.6422</td><td>3793.7284</td><td>true</td></tr><tr><td>FDV02</td><td>Dairy</td><td>172.4106</td><td>2908.8802</td><td>true</td></tr><tr><td>DRI51</td><td>Dairy</td><td>172.6764</td><td>6183.9504</td><td>true</td></tr><tr><td>FDV02</td><td>Dairy</td><td>173.0106</td><td>3593.3226</td><td>true</td></tr><tr><td>DRI51</td><td>Dairy</td><td>173.1764</td><td>4466.1864</td><td>true</td></tr><tr><td>DRI51</td><td>Dairy</td><td>173.3764</td><td>2061.3168</td><td>true</td></tr><tr><td>DRI51</td><td>Dairy</td><td>173.4764</td><td>2404.8696</td><td>true</td></tr><tr><td>FDZ38</td><td>Dairy</td><td>173.7422</td><td>5863.0348</td><td>true</td></tr><tr><td>FDZ38</td><td>Dairy</td><td>174.0422</td><td>5173.266</td><td>true</td></tr><tr><td>FDZ38</td><td>Dairy</td><td>174.2422</td><td>4311.055</td><td>true</td></tr><tr><td>DRI03</td><td>Dairy</td><td>175.1028</td><td>1593.9252</td><td>true</td></tr><tr><td>DRI03</td><td>Dairy</td><td>175.3028</td><td>3719.1588</td><td>true</td></tr><tr><td>FDR26</td><td>Dairy</td><td>175.8028</td><td>1593.9252</td><td>true</td></tr><tr><td>DRI03</td><td>Dairy</td><td>176.4028</td><td>4250.4672</td><td>true</td></tr><tr><td>FDR26</td><td>Dairy</td><td>177.2028</td><td>3364.9532</td><td>true</td></tr><tr><td>FDY27</td><td>Dairy</td><td>177.4344</td><td>1784.344</td><td>true</td></tr><tr><td>FDM39</td><td>Dairy</td><td>177.6002</td><td>8417.7094</td><td>true</td></tr><tr><td>DRI03</td><td>Dairy</td><td>177.9028</td><td>4781.7756</td><td>true</td></tr><tr><td>DRI03</td><td>Dairy</td><td>178.1028</td><td>4604.6728</td><td>true</td></tr><tr><td>FDM39</td><td>Dairy</td><td>178.3002</td><td>2328.3026</td><td>true</td></tr><tr><td>FDR26</td><td>Dairy</td><td>178.3028</td><td>2479.4392</td><td>true</td></tr><tr><td>FDY27</td><td>Dairy</td><td>178.3344</td><td>3211.8192</td><td>true</td></tr><tr><td>FDM39</td><td>Dairy</td><td>178.6002</td><td>3582.004</td><td>true</td></tr><tr><td>FDM39</td><td>Dairy</td><td>178.7002</td><td>4477.505</td><td>true</td></tr><tr><td>FDY27</td><td>Dairy</td><td>179.1344</td><td>1605.9096</td><td>true</td></tr><tr><td>FDL39</td><td>Dairy</td><td>179.4318</td><td>2345.6134</td><td>true</td></tr><tr><td>FDY27</td><td>Dairy</td><td>179.5344</td><td>4103.9912</td><td>true</td></tr><tr><td>FDX26</td><td>Dairy</td><td>180.4292</td><td>4013.4424</td><td>true</td></tr><tr><td>FDX26</td><td>Dairy</td><td>180.6292</td><td>3101.2964</td><td>true</td></tr><tr><td>FDL39</td><td>Dairy</td><td>180.9318</td><td>1984.7498</td><td>true</td></tr><tr><td>FDX26</td><td>Dairy</td><td>181.4292</td><td>2918.8672</td><td>true</td></tr><tr><td>FDZ50</td><td>Dairy</td><td>181.7608</td><td>4961.5416</td><td>true</td></tr><tr><td>FDL39</td><td>Dairy</td><td>181.9318</td><td>5954.2494</td><td>true</td></tr><tr><td>FDJ15</td><td>Dairy</td><td>181.9608</td><td>1653.8472</td><td>true</td></tr><tr><td>FDL39</td><td>Dairy</td><td>182.1318</td><td>2345.6134</td><td>true</td></tr><tr><td>FDX26</td><td>Dairy</td><td>182.3292</td><td>4195.8716</td><td>true</td></tr><tr><td>FDJ15</td><td>Dairy</td><td>182.4608</td><td>7534.1928</td><td>true</td></tr><tr><td>FDX26</td><td>Dairy</td><td>182.5292</td><td>2736.438</td><td>true</td></tr><tr><td>FDJ15</td><td>Dairy</td><td>182.5608</td><td>3307.6944</td><td>true</td></tr><tr><td>FDJ15</td><td>Dairy</td><td>183.3608</td><td>6064.1064</td><td>true</td></tr><tr><td>FDZ50</td><td>Dairy</td><td>184.2608</td><td>6064.1064</td><td>true</td></tr><tr><td>FDJ15</td><td>Dairy</td><td>184.4608</td><td>4042.7376</td><td>true</td></tr><tr><td>FDZ03</td><td>Dairy</td><td>184.824</td><td>3355.632</td><td>true</td></tr><tr><td>FDZ03</td><td>Dairy</td><td>186.024</td><td>4287.752</td><td>true</td></tr><tr><td>FDZ03</td><td>Dairy</td><td>186.724</td><td>4474.176</td><td>true</td></tr><tr><td>FDU38</td><td>Dairy</td><td>191.1504</td><td>4410.2592</td><td>true</td></tr><tr><td>FDD40</td><td>Dairy</td><td>191.5162</td><td>3078.6592</td><td>true</td></tr><tr><td>FDU38</td><td>Dairy</td><td>191.6504</td><td>2492.7552</td><td>true</td></tr><tr><td>FDU38</td><td>Dairy</td><td>192.9504</td><td>7478.2656</td><td>true</td></tr><tr><td>FDV26</td><td>Dairy</td><td>193.3794</td><td>8388.4142</td><td>true</td></tr><tr><td>FDU38</td><td>Dairy</td><td>193.4504</td><td>2876.256</td><td>true</td></tr><tr><td>FDV26</td><td>Dairy</td><td>193.5794</td><td>1950.794</td><td>true</td></tr><tr><td>FDD40</td><td>Dairy</td><td>193.6162</td><td>3848.324</td><td>true</td></tr><tr><td>FDD40</td><td>Dairy</td><td>193.6162</td><td>5195.2374</td><td>true</td></tr><tr><td>FDU38</td><td>Dairy</td><td>193.7504</td><td>4602.0096</td><td>true</td></tr><tr><td>FDD40</td><td>Dairy</td><td>193.8162</td><td>3463.4916</td><td>true</td></tr><tr><td>FDS02</td><td>Dairy</td><td>194.0794</td><td>3901.588</td><td>true</td></tr><tr><td>FDD40</td><td>Dairy</td><td>194.1162</td><td>3848.324</td><td>true</td></tr><tr><td>FDC03</td><td>Dairy</td><td>194.1794</td><td>3316.3498</td><td>true</td></tr><tr><td>FDV26</td><td>Dairy</td><td>194.2794</td><td>4291.7468</td><td>true</td></tr><tr><td>FDS02</td><td>Dairy</td><td>194.5794</td><td>4096.6674</td><td>true</td></tr><tr><td>FDB27</td><td>Dairy</td><td>195.2768</td><td>5715.2272</td><td>true</td></tr><tr><td>FDC03</td><td>Dairy</td><td>195.3794</td><td>3511.4292</td><td>true</td></tr><tr><td>FDB28</td><td>Dairy</td><td>195.9426</td><td>2570.6538</td><td>true</td></tr><tr><td>FDV26</td><td>Dairy</td><td>196.1794</td><td>2731.1116</td><td>true</td></tr><tr><td>FDS02</td><td>Dairy</td><td>196.1794</td><td>2926.191</td><td>true</td></tr><tr><td>FDV26</td><td>Dairy</td><td>196.2794</td><td>2731.1116</td><td>true</td></tr><tr><td>FDS02</td><td>Dairy</td><td>196.4794</td><td>5852.382</td><td>true</td></tr><tr><td>FDB27</td><td>Dairy</td><td>196.5768</td><td>1576.6144</td><td>true</td></tr><tr><td>FDC03</td><td>Dairy</td><td>196.5794</td><td>5267.1438</td><td>true</td></tr><tr><td>FDB27</td><td>Dairy</td><td>196.7768</td><td>5912.304</td><td>true</td></tr><tr><td>FDV26</td><td>Dairy</td><td>196.7794</td><td>2731.1116</td><td>true</td></tr><tr><td>FDV26</td><td>Dairy</td><td>197.0794</td><td>4681.9056</td><td>true</td></tr><tr><td>FDB27</td><td>Dairy</td><td>198.1768</td><td>5321.0736</td><td>true</td></tr><tr><td>FDB28</td><td>Dairy</td><td>199.4426</td><td>3361.6242</td><td>true</td></tr><tr><td>FDC39</td><td>Dairy</td><td>205.7296</td><td>4570.0512</td><td>true</td></tr><tr><td>FDC39</td><td>Dairy</td><td>206.6296</td><td>3115.944</td><td>true</td></tr><tr><td>FDC39</td><td>Dairy</td><td>207.1296</td><td>3739.1328</td><td>true</td></tr><tr><td>FDC39</td><td>Dairy</td><td>208.9296</td><td>2700.4848</td><td>true</td></tr><tr><td>FDY26</td><td>Dairy</td><td>210.5244</td><td>6775.1808</td><td>true</td></tr><tr><td>FDY26</td><td>Dairy</td><td>211.4244</td><td>7833.8028</td><td>true</td></tr><tr><td>FDY26</td><td>Dairy</td><td>212.6244</td><td>3599.3148</td><td>true</td></tr><tr><td>FDY26</td><td>Dairy</td><td>212.9244</td><td>2540.6928</td><td>true</td></tr><tr><td>FDL51</td><td>Dairy</td><td>213.4876</td><td>1929.4884</td><td>true</td></tr><tr><td>FDL51</td><td>Dairy</td><td>213.9876</td><td>2143.876</td><td>true</td></tr><tr><td>FDD39</td><td>Dairy</td><td>214.385</td><td>4327.7</td><td>true</td></tr><tr><td>FDL51</td><td>Dairy</td><td>214.6876</td><td>3001.4264</td><td>true</td></tr><tr><td>FDL51</td><td>Dairy</td><td>215.0876</td><td>5145.3024</td><td>true</td></tr><tr><td>FDL51</td><td>Dairy</td><td>215.9876</td><td>3430.2016</td><td>true</td></tr><tr><td>FDD39</td><td>Dairy</td><td>216.385</td><td>3678.545</td><td>true</td></tr><tr><td>FDD39</td><td>Dairy</td><td>216.885</td><td>6275.165</td><td>true</td></tr><tr><td>FDA26</td><td>Dairy</td><td>217.6482</td><td>3285.723</td><td>true</td></tr><tr><td>FDD39</td><td>Dairy</td><td>217.685</td><td>2163.85</td><td>true</td></tr><tr><td>FDD39</td><td>Dairy</td><td>217.885</td><td>3894.93</td><td>true</td></tr><tr><td>FDD39</td><td>Dairy</td><td>218.185</td><td>5193.24</td><td>true</td></tr><tr><td>DRJ39</td><td>Dairy</td><td>218.3482</td><td>2409.5302</td><td>true</td></tr><tr><td>FDA26</td><td>Dairy</td><td>218.4482</td><td>4819.0604</td><td>true</td></tr><tr><td>FDA26</td><td>Dairy</td><td>218.6482</td><td>3723.8194</td><td>true</td></tr><tr><td>DRJ39</td><td>Dairy</td><td>219.3482</td><td>5038.1086</td><td>true</td></tr><tr><td>DRJ39</td><td>Dairy</td><td>219.3482</td><td>8323.8316</td><td>true</td></tr><tr><td>DRJ39</td><td>Dairy</td><td>219.5482</td><td>5695.2532</td><td>true</td></tr><tr><td>FDS50</td><td>Dairy</td><td>220.0114</td><td>2217.114</td><td>true</td></tr><tr><td>FDA26</td><td>Dairy</td><td>220.1482</td><td>4600.0122</td><td>true</td></tr><tr><td>DRJ39</td><td>Dairy</td><td>220.1482</td><td>3066.6748</td><td>true</td></tr><tr><td>FDW26</td><td>Dairy</td><td>220.3772</td><td>4447.544</td><td>true</td></tr><tr><td>FDS50</td><td>Dairy</td><td>220.5114</td><td>5321.0736</td><td>true</td></tr><tr><td>FDS50</td><td>Dairy</td><td>221.1114</td><td>4434.228</td><td>true</td></tr><tr><td>FDW26</td><td>Dairy</td><td>221.1772</td><td>3113.2808</td><td>true</td></tr><tr><td>FDW26</td><td>Dairy</td><td>221.6772</td><td>3113.2808</td><td>true</td></tr><tr><td>FDW26</td><td>Dairy</td><td>222.3772</td><td>1556.6404</td><td>true</td></tr><tr><td>FDW26</td><td>Dairy</td><td>223.5772</td><td>2668.5264</td><td>true</td></tr><tr><td>FDW26</td><td>Dairy</td><td>224.1772</td><td>2890.9036</td><td>true</td></tr><tr><td>FDW26</td><td>Dairy</td><td>224.1772</td><td>3558.0352</td><td>true</td></tr><tr><td>FDX02</td><td>Dairy</td><td>224.3404</td><td>4500.808</td><td>true</td></tr><tr><td>FDX02</td><td>Dairy</td><td>225.0404</td><td>5851.0504</td><td>true</td></tr><tr><td>FDX02</td><td>Dairy</td><td>225.0404</td><td>4950.8888</td><td>true</td></tr><tr><td>FDU02</td><td>Dairy</td><td>228.6352</td><td>3435.528</td><td>true</td></tr><tr><td>FDU02</td><td>Dairy</td><td>228.8352</td><td>5267.8096</td><td>true</td></tr><tr><td>DRJ51</td><td>Dairy</td><td>229.0668</td><td>3225.1352</td><td>true</td></tr><tr><td>FDU02</td><td>Dairy</td><td>229.9352</td><td>2519.3872</td><td>true</td></tr><tr><td>FDU02</td><td>Dairy</td><td>230.5352</td><td>2748.4224</td><td>true</td></tr><tr><td>FDU02</td><td>Dairy</td><td>230.6352</td><td>3435.528</td><td>true</td></tr><tr><td>FDU02</td><td>Dairy</td><td>230.6352</td><td>5725.88</td><td>true</td></tr><tr><td>FDY38</td><td>Dairy</td><td>231.03</td><td>5359.69</td><td>true</td></tr><tr><td>DRJ51</td><td>Dairy</td><td>231.1668</td><td>7602.1044</td><td>true</td></tr><tr><td>FDY38</td><td>Dairy</td><td>231.23</td><td>2330.3</td><td>true</td></tr><tr><td>FDY38</td><td>Dairy</td><td>231.63</td><td>2563.33</td><td>true</td></tr><tr><td>DRD15</td><td>Dairy</td><td>231.9642</td><td>2091.2778</td><td>true</td></tr><tr><td>DRD15</td><td>Dairy</td><td>231.9642</td><td>3020.7346</td><td>true</td></tr><tr><td>DRJ51</td><td>Dairy</td><td>231.9668</td><td>1842.9344</td><td>true</td></tr><tr><td>DRJ51</td><td>Dairy</td><td>232.2668</td><td>4146.6024</td><td>true</td></tr><tr><td>FDD03</td><td>Dairy</td><td>232.63</td><td>1864.24</td><td>true</td></tr><tr><td>FDD03</td><td>Dairy</td><td>232.73</td><td>2796.36</td><td>true</td></tr><tr><td>DRD15</td><td>Dairy</td><td>232.8642</td><td>3485.463</td><td>true</td></tr><tr><td>FDD03</td><td>Dairy</td><td>233.03</td><td>5359.69</td><td>true</td></tr><tr><td>DRD15</td><td>Dairy</td><td>233.6642</td><td>3950.1914</td><td>true</td></tr><tr><td>DRD15</td><td>Dairy</td><td>233.9642</td><td>3717.8272</td><td>true</td></tr><tr><td>FDD03</td><td>Dairy</td><td>234.03</td><td>4194.54</td><td>true</td></tr><tr><td>FDY38</td><td>Dairy</td><td>234.53</td><td>6524.84</td><td>true</td></tr><tr><td>FDZ26</td><td>Dairy</td><td>237.5222</td><td>7170.666</td><td>true</td></tr><tr><td>FDZ26</td><td>Dairy</td><td>238.3222</td><td>5736.5328</td><td>true</td></tr><tr><td>FDA38</td><td>Dairy</td><td>238.7538</td><td>3605.307</td><td>true</td></tr><tr><td>FDB03</td><td>Dairy</td><td>239.1538</td><td>4326.3684</td><td>true</td></tr><tr><td>FDZ26</td><td>Dairy</td><td>239.4222</td><td>3346.3108</td><td>true</td></tr><tr><td>FDZ26</td><td>Dairy</td><td>239.6222</td><td>2390.222</td><td>true</td></tr><tr><td>FDZ26</td><td>Dairy</td><td>239.8222</td><td>4063.3774</td><td>true</td></tr><tr><td>FDB03</td><td>Dairy</td><td>240.5538</td><td>3845.6608</td><td>true</td></tr><tr><td>FDZ26</td><td>Dairy</td><td>240.6222</td><td>2868.2664</td><td>true</td></tr><tr><td>FDB03</td><td>Dairy</td><td>240.7538</td><td>4566.7222</td><td>true</td></tr><tr><td>FDZ26</td><td>Dairy</td><td>240.8222</td><td>3585.333</td><td>true</td></tr><tr><td>FDA38</td><td>Dairy</td><td>241.2538</td><td>3124.5994</td><td>true</td></tr><tr><td>FDC04</td><td>Dairy</td><td>241.3854</td><td>2900.2248</td><td>true</td></tr><tr><td>FDC04</td><td>Dairy</td><td>241.8854</td><td>4592.0226</td><td>true</td></tr><tr><td>FDB03</td><td>Dairy</td><td>242.1538</td><td>4326.3684</td><td>true</td></tr><tr><td>FDC04</td><td>Dairy</td><td>242.3854</td><td>2416.854</td><td>true</td></tr><tr><td>FDC04</td><td>Dairy</td><td>242.9854</td><td>2175.1686</td><td>true</td></tr><tr><td>DRC27</td><td>Dairy</td><td>243.6802</td><td>1965.4416</td><td>true</td></tr><tr><td>DRC27</td><td>Dairy</td><td>245.1802</td><td>5650.6446</td><td>true</td></tr><tr><td>DRC27</td><td>Dairy</td><td>246.9802</td><td>5896.3248</td><td>true</td></tr><tr><td>FDF40</td><td>Dairy</td><td>248.1092</td><td>4731.1748</td><td>true</td></tr><tr><td>FDU14</td><td>Dairy</td><td>248.375</td><td>10236.675</td><td>true</td></tr><tr><td>FDF40</td><td>Dairy</td><td>248.4092</td><td>2241.0828</td><td>true</td></tr><tr><td>FDA15</td><td>Dairy</td><td>248.5092</td><td>6474.2392</td><td>true</td></tr><tr><td>FDU14</td><td>Dairy</td><td>248.675</td><td>4993.5</td><td>true</td></tr><tr><td>FDU14</td><td>Dairy</td><td>248.775</td><td>3745.125</td><td>true</td></tr><tr><td>FDA15</td><td>Dairy</td><td>248.8092</td><td>5976.2208</td><td>true</td></tr><tr><td>FDA15</td><td>Dairy</td><td>249.5092</td><td>6474.2392</td><td>true</td></tr><tr><td>FDA15</td><td>Dairy</td><td>249.6092</td><td>5976.2208</td><td>true</td></tr><tr><td>FDA15</td><td>Dairy</td><td>249.8092</td><td>3735.138</td><td>true</td></tr><tr><td>FDA15</td><td>Dairy</td><td>250.2092</td><td>5976.2208</td><td>true</td></tr><tr><td>FDA15</td><td>Dairy</td><td>250.6092</td><td>6474.2392</td><td>true</td></tr><tr><td>FDF40</td><td>Dairy</td><td>250.9092</td><td>8217.3036</td><td>true</td></tr><tr><td>FDA27</td><td>Dairy</td><td>253.9672</td><td>3068.0064</td><td>true</td></tr><tr><td>FDK03</td><td>Dairy</td><td>254.2356</td><td>4578.0408</td><td>true</td></tr><tr><td>FDK03</td><td>Dairy</td><td>254.9356</td><td>8138.7392</td><td>true</td></tr><tr><td>FDK03</td><td>Dairy</td><td>255.5356</td><td>9664.7528</td><td>true</td></tr><tr><td>FDK03</td><td>Dairy</td><td>255.6356</td><td>2797.6916</td><td>true</td></tr><tr><td>FDK03</td><td>Dairy</td><td>255.9356</td><td>4832.3764</td><td>true</td></tr><tr><td>FDB52</td><td>Dairy</td><td>256.0672</td><td>2045.3376</td><td>true</td></tr><tr><td>FDK03</td><td>Dairy</td><td>256.1356</td><td>4578.0408</td><td>true</td></tr><tr><td>FDA27</td><td>Dairy</td><td>256.7672</td><td>5624.6784</td><td>true</td></tr><tr><td>FDB52</td><td>Dairy</td><td>256.7672</td><td>4346.3424</td><td>true</td></tr><tr><td>FDA27</td><td>Dairy</td><td>256.8672</td><td>3579.3408</td><td>true</td></tr><tr><td>FDB52</td><td>Dairy</td><td>256.9672</td><td>1534.0032</td><td>true</td></tr><tr><td>FDA27</td><td>Dairy</td><td>257.2672</td><td>2045.3376</td><td>true</td></tr><tr><td>FDB52</td><td>Dairy</td><td>257.2672</td><td>3068.0064</td><td>true</td></tr><tr><td>FDB52</td><td>Dairy</td><td>257.4672</td><td>3835.008</td><td>true</td></tr><tr><td>FDS26</td><td>Dairy</td><td>260.1594</td><td>2093.2752</td><td>true</td></tr><tr><td>FDS26</td><td>Dairy</td><td>260.5594</td><td>9158.079</td><td>true</td></tr><tr><td>FDY02</td><td>Dairy</td><td>261.091</td><td>3418.883</td><td>true</td></tr><tr><td>FDF39</td><td>Dairy</td><td>261.291</td><td>10256.649</td><td>true</td></tr><tr><td>FDY02</td><td>Dairy</td><td>261.391</td><td>1840.937</td><td>true</td></tr><tr><td>FDF39</td><td>Dairy</td><td>261.591</td><td>2366.919</td><td>true</td></tr><tr><td>FDS26</td><td>Dairy</td><td>261.6594</td><td>7588.1226</td><td>true</td></tr><tr><td>FDS26</td><td>Dairy</td><td>262.1594</td><td>3139.9128</td><td>true</td></tr><tr><td>FDB15</td><td>Dairy</td><td>262.2568</td><td>3954.852</td><td>true</td></tr><tr><td>FDF39</td><td>Dairy</td><td>262.591</td><td>4996.829</td><td>true</td></tr><tr><td>FDY14</td><td>Dairy</td><td>263.0226</td><td>6079.4198</td><td>true</td></tr><tr><td>FDY14</td><td>Dairy</td><td>263.0226</td><td>4229.1616</td><td>true</td></tr><tr><td>FDY02</td><td>Dairy</td><td>263.491</td><td>1840.937</td><td>true</td></tr><tr><td>FDI15</td><td>Dairy</td><td>263.5884</td><td>2384.8956</td><td>true</td></tr><tr><td>FDY14</td><td>Dairy</td><td>263.6226</td><td>6608.065</td><td>true</td></tr><tr><td>FDB15</td><td>Dairy</td><td>263.7568</td><td>7646.0472</td><td>true</td></tr><tr><td>FDI15</td><td>Dairy</td><td>263.7884</td><td>3709.8376</td><td>true</td></tr><tr><td>FDI15</td><td>Dairy</td><td>263.7884</td><td>5564.7564</td><td>true</td></tr><tr><td>FDF39</td><td>Dairy</td><td>263.791</td><td>4207.856</td><td>true</td></tr><tr><td>FDY02</td><td>Dairy</td><td>263.991</td><td>9467.676</td><td>true</td></tr><tr><td>FDK51</td><td>Dairy</td><td>264.0884</td><td>5829.7448</td><td>true</td></tr><tr><td>FDI15</td><td>Dairy</td><td>264.1884</td><td>3179.8608</td><td>true</td></tr><tr><td>FDB15</td><td>Dairy</td><td>264.3568</td><td>4745.8224</td><td>true</td></tr><tr><td>FDY14</td><td>Dairy</td><td>264.5226</td><td>3436.1938</td><td>true</td></tr><tr><td>FDB15</td><td>Dairy</td><td>264.5568</td><td>5536.7928</td><td>true</td></tr><tr><td>FDK51</td><td>Dairy</td><td>264.5884</td><td>5829.7448</td><td>true</td></tr><tr><td>FDY02</td><td>Dairy</td><td>264.791</td><td>4733.838</td><td>true</td></tr><tr><td>FDI15</td><td>Dairy</td><td>265.0884</td><td>8479.6288</td><td>true</td></tr><tr><td>FDK51</td><td>Dairy</td><td>265.1884</td><td>5034.7796</td><td>true</td></tr><tr><td>FDB15</td><td>Dairy</td><td>265.2568</td><td>4218.5088</td><td>true</td></tr><tr><td>FDK51</td><td>Dairy</td><td>265.2884</td><td>3179.8608</td><td>true</td></tr><tr><td>FDK51</td><td>Dairy</td><td>265.8884</td><td>2649.884</td><td>true</td></tr><tr><td>FDK51</td><td>Dairy</td><td>266.1884</td><td>3179.8608</td><td>true</td></tr><tr><td>FDE16</td><td>Frozen Foods</td><td>207.5954</td><td>6668.6528</td><td>true</td></tr><tr><td>FDE16</td><td>Frozen Foods</td><td>207.8954</td><td>3542.7218</td><td>true</td></tr><tr><td>FDE16</td><td>Frozen Foods</td><td>208.4954</td><td>6251.862</td><td>true</td></tr><tr><td>FDC17</td><td>Frozen Foods</td><td>208.9928</td><td>9678.0688</td><td>true</td></tr><tr><td>FDE16</td><td>Frozen Foods</td><td>208.9954</td><td>4584.6988</td><td>true</td></tr><tr><td>FDC17</td><td>Frozen Foods</td><td>209.9928</td><td>5259.82</td><td>true</td></tr><tr><td>FDE16</td><td>Frozen Foods</td><td>210.3954</td><td>5001.4896</td><td>true</td></tr><tr><td>FDC17</td><td>Frozen Foods</td><td>211.2928</td><td>2735.1064</td><td>true</td></tr><tr><td>FDC17</td><td>Frozen Foods</td><td>211.2928</td><td>5049.4272</td><td>true</td></tr><tr><td>FDY28</td><td>Frozen Foods</td><td>211.8218</td><td>6411.654</td><td>true</td></tr><tr><td>FDC17</td><td>Frozen Foods</td><td>211.8928</td><td>5890.9984</td><td>true</td></tr><tr><td>FDC17</td><td>Frozen Foods</td><td>212.0928</td><td>2735.1064</td><td>true</td></tr><tr><td>FDR16</td><td>Frozen Foods</td><td>213.2218</td><td>7266.5412</td><td>true</td></tr><tr><td>FDY28</td><td>Frozen Foods</td><td>214.3218</td><td>4274.436</td><td>true</td></tr><tr><td>FDG16</td><td>Frozen Foods</td><td>214.4192</td><td>4961.5416</td><td>true</td></tr><tr><td>FDY28</td><td>Frozen Foods</td><td>214.4218</td><td>4274.436</td><td>true</td></tr><tr><td>FDR16</td><td>Frozen Foods</td><td>214.4218</td><td>5343.045</td><td>true</td></tr><tr><td>FDH41</td><td>Frozen Foods</td><td>214.5534</td><td>3440.8544</td><td>true</td></tr><tr><td>FDH41</td><td>Frozen Foods</td><td>214.7534</td><td>5806.4418</td><td>true</td></tr><tr><td>FDY28</td><td>Frozen Foods</td><td>215.2218</td><td>3419.5488</td><td>true</td></tr><tr><td>FDH41</td><td>Frozen Foods</td><td>216.2534</td><td>4301.068</td><td>true</td></tr><tr><td>FDG16</td><td>Frozen Foods</td><td>217.1192</td><td>3235.788</td><td>true</td></tr><tr><td>FDG16</td><td>Frozen Foods</td><td>217.3192</td><td>5608.6992</td><td>true</td></tr><tr><td>FDA16</td><td>Frozen Foods</td><td>219.4456</td><td>3094.6384</td><td>true</td></tr><tr><td>FDA16</td><td>Frozen Foods</td><td>220.8456</td><td>5084.0488</td><td>true</td></tr><tr><td>FDA16</td><td>Frozen Foods</td><td>222.8456</td><td>7073.4592</td><td>true</td></tr><tr><td>FDK52</td><td>Frozen Foods</td><td>223.8062</td><td>4288.4178</td><td>true</td></tr><tr><td>FDK52</td><td>Frozen Foods</td><td>224.1062</td><td>4965.5364</td><td>true</td></tr><tr><td>FDK52</td><td>Frozen Foods</td><td>225.3062</td><td>4288.4178</td><td>true</td></tr><tr><td>FDK52</td><td>Frozen Foods</td><td>226.1062</td><td>6771.186</td><td>true</td></tr><tr><td>FDE28</td><td>Frozen Foods</td><td>228.4668</td><td>3916.2356</td><td>true</td></tr><tr><td>FDP52</td><td>Frozen Foods</td><td>228.601</td><td>4823.721</td><td>true</td></tr><tr><td>FDP52</td><td>Frozen Foods</td><td>228.601</td><td>7350.432</td><td>true</td></tr><tr><td>FDL28</td><td>Frozen Foods</td><td>228.6668</td><td>3455.502</td><td>true</td></tr><tr><td>FDE28</td><td>Frozen Foods</td><td>228.6668</td><td>4146.6024</td><td>true</td></tr><tr><td>FDP52</td><td>Frozen Foods</td><td>229.201</td><td>3215.814</td><td>true</td></tr><tr><td>FDH05</td><td>Frozen Foods</td><td>229.7984</td><td>6024.1584</td><td>true</td></tr><tr><td>FDP52</td><td>Frozen Foods</td><td>230.201</td><td>5742.525</td><td>true</td></tr><tr><td>FDH05</td><td>Frozen Foods</td><td>231.2984</td><td>3243.7776</td><td>true</td></tr><tr><td>FDH05</td><td>Frozen Foods</td><td>231.2984</td><td>6024.1584</td><td>true</td></tr><tr><td>FDE28</td><td>Frozen Foods</td><td>231.3668</td><td>5759.17</td><td>true</td></tr><tr><td>FDH05</td><td>Frozen Foods</td><td>231.8984</td><td>4633.968</td><td>true</td></tr><tr><td>FDD17</td><td>Frozen Foods</td><td>235.9906</td><td>6893.0274</td><td>true</td></tr><tr><td>FDD17</td><td>Frozen Foods</td><td>238.1906</td><td>3327.6684</td><td>true</td></tr><tr><td>FDD17</td><td>Frozen Foods</td><td>238.7906</td><td>4040.7402</td><td>true</td></tr><tr><td>FDD17</td><td>Frozen Foods</td><td>239.0906</td><td>5942.265</td><td>true</td></tr><tr><td>FDD17</td><td>Frozen Foods</td><td>239.6906</td><td>2614.5966</td><td>true</td></tr><tr><td>FDP16</td><td>Frozen Foods</td><td>243.6802</td><td>5896.3248</td><td>true</td></tr><tr><td>FDP16</td><td>Frozen Foods</td><td>244.0802</td><td>3193.8426</td><td>true</td></tr><tr><td>FDG17</td><td>Frozen Foods</td><td>244.1486</td><td>2687.8346</td><td>true</td></tr><tr><td>FDG17</td><td>Frozen Foods</td><td>244.4486</td><td>6353.0636</td><td>true</td></tr><tr><td>FDG17</td><td>Frozen Foods</td><td>244.4486</td><td>4153.9262</td><td>true</td></tr><tr><td>FDT52</td><td>Frozen Foods</td><td>244.6144</td><td>2695.1584</td><td>true</td></tr><tr><td>FDT52</td><td>Frozen Foods</td><td>244.6144</td><td>3185.1872</td><td>true</td></tr><tr><td>FDF41</td><td>Frozen Foods</td><td>245.246</td><td>3202.498</td><td>true</td></tr><tr><td>FDG28</td><td>Frozen Foods</td><td>245.6144</td><td>3920.2304</td><td>true</td></tr><tr><td>FDT52</td><td>Frozen Foods</td><td>245.8144</td><td>3430.2016</td><td>true</td></tr><tr><td>FDF41</td><td>Frozen Foods</td><td>245.846</td><td>4434.228</td><td>true</td></tr><tr><td>FDB05</td><td>Frozen Foods</td><td>245.8776</td><td>4705.8744</td><td>true</td></tr><tr><td>FDT52</td><td>Frozen Foods</td><td>246.0144</td><td>4165.2448</td><td>true</td></tr><tr><td>FDT52</td><td>Frozen Foods</td><td>246.2144</td><td>3675.216</td><td>true</td></tr><tr><td>FDG17</td><td>Frozen Foods</td><td>246.2486</td><td>8063.5038</td><td>true</td></tr><tr><td>FDP16</td><td>Frozen Foods</td><td>246.3802</td><td>7370.406</td><td>true</td></tr><tr><td>FDQ52</td><td>Frozen Foods</td><td>246.5434</td><td>4470.1812</td><td>true</td></tr><tr><td>FDP16</td><td>Frozen Foods</td><td>246.6802</td><td>2702.4822</td><td>true</td></tr><tr><td>FDF41</td><td>Frozen Foods</td><td>246.846</td><td>6404.996</td><td>true</td></tr><tr><td>FDB05</td><td>Frozen Foods</td><td>247.2776</td><td>5944.2624</td><td>true</td></tr><tr><td>FDQ52</td><td>Frozen Foods</td><td>247.4434</td><td>2980.1208</td><td>true</td></tr><tr><td>FDF41</td><td>Frozen Foods</td><td>248.046</td><td>7883.072</td><td>true</td></tr><tr><td>FDQ52</td><td>Frozen Foods</td><td>248.3434</td><td>6208.585</td><td>true</td></tr><tr><td>FDQ52</td><td>Frozen Foods</td><td>248.8434</td><td>6705.2718</td><td>true</td></tr><tr><td>FDQ52</td><td>Frozen Foods</td><td>249.4434</td><td>5960.2416</td><td>true</td></tr><tr><td>FDQ52</td><td>Frozen Foods</td><td>249.7434</td><td>4221.8378</td><td>true</td></tr><tr><td>FDD29</td><td>Frozen Foods</td><td>251.6698</td><td>6088.0752</td><td>true</td></tr><tr><td>FDD29</td><td>Frozen Foods</td><td>252.7698</td><td>5834.4054</td><td>true</td></tr><tr><td>FDD29</td><td>Frozen Foods</td><td>254.7698</td><td>5834.4054</td><td>true</td></tr><tr><td>FDD29</td><td>Frozen Foods</td><td>254.7698</td><td>5073.396</td><td>true</td></tr><tr><td>FDD29</td><td>Frozen Foods</td><td>255.3698</td><td>4819.7262</td><td>true</td></tr><tr><td>FDK28</td><td>Frozen Foods</td><td>256.1646</td><td>3349.6398</td><td>true</td></tr><tr><td>FDF04</td><td>Frozen Foods</td><td>256.3304</td><td>6199.9296</td><td>true</td></tr><tr><td>FDA04</td><td>Frozen Foods</td><td>257.2962</td><td>4920.9278</td><td>true</td></tr><tr><td>FDF04</td><td>Frozen Foods</td><td>257.7304</td><td>5683.2688</td><td>true</td></tr><tr><td>FDA04</td><td>Frozen Foods</td><td>258.1962</td><td>4402.9354</td><td>true</td></tr><tr><td>FDK28</td><td>Frozen Foods</td><td>258.2646</td><td>5410.9566</td><td>true</td></tr><tr><td>FDF04</td><td>Frozen Foods</td><td>258.3304</td><td>3358.2952</td><td>true</td></tr><tr><td>FDF04</td><td>Frozen Foods</td><td>258.5304</td><td>6199.9296</td><td>true</td></tr><tr><td>FDK28</td><td>Frozen Foods</td><td>258.5646</td><td>4380.2982</td><td>true</td></tr><tr><td>FDT16</td><td>Frozen Foods</td><td>258.7278</td><td>5466.8838</td><td>true</td></tr><tr><td>FDA04</td><td>Frozen Foods</td><td>259.1962</td><td>5179.924</td><td>true</td></tr><tr><td>FDA04</td><td>Frozen Foods</td><td>259.1962</td><td>5438.9202</td><td>true</td></tr><tr><td>FDF04</td><td>Frozen Foods</td><td>259.2304</td><td>2841.6344</td><td>true</td></tr><tr><td>FDK28</td><td>Frozen Foods</td><td>259.2646</td><td>9275.9256</td><td>true</td></tr><tr><td>FDF04</td><td>Frozen Foods</td><td>259.7304</td><td>3616.6256</td><td>true</td></tr><tr><td>FDP28</td><td>Frozen Foods</td><td>259.7936</td><td>2609.936</td><td>true</td></tr><tr><td>FDA04</td><td>Frozen Foods</td><td>259.7962</td><td>5697.9164</td><td>true</td></tr><tr><td>FDJ41</td><td>Frozen Foods</td><td>260.0594</td><td>6018.1662</td><td>true</td></tr><tr><td>FDP28</td><td>Frozen Foods</td><td>260.1936</td><td>3914.904</td><td>true</td></tr><tr><td>FDA04</td><td>Frozen Foods</td><td>260.1962</td><td>2848.9582</td><td>true</td></tr><tr><td>FDT16</td><td>Frozen Foods</td><td>260.2278</td><td>4165.2448</td><td>true</td></tr><tr><td>FDT16</td><td>Frozen Foods</td><td>260.5278</td><td>8851.1452</td><td>true</td></tr><tr><td>FDA04</td><td>Frozen Foods</td><td>260.8962</td><td>4920.9278</td><td>true</td></tr><tr><td>FDJ41</td><td>Frozen Foods</td><td>261.2594</td><td>2878.2534</td><td>true</td></tr><tr><td>FDF05</td><td>Frozen Foods</td><td>261.291</td><td>3418.883</td><td>true</td></tr><tr><td>FDF05</td><td>Frozen Foods</td><td>261.291</td><td>5522.811</td><td>true</td></tr><tr><td>FDP28</td><td>Frozen Foods</td><td>261.2936</td><td>3131.9232</td><td>true</td></tr><tr><td>FDJ41</td><td>Frozen Foods</td><td>261.6594</td><td>3401.5722</td><td>true</td></tr><tr><td>FDF05</td><td>Frozen Foods</td><td>261.691</td><td>4207.856</td><td>true</td></tr><tr><td>FDT16</td><td>Frozen Foods</td><td>261.7278</td><td>4685.9004</td><td>true</td></tr><tr><td>FDK40</td><td>Frozen Foods</td><td>262.091</td><td>4207.856</td><td>true</td></tr><tr><td>FDT16</td><td>Frozen Foods</td><td>262.1278</td><td>3904.917</td><td>true</td></tr><tr><td>FDJ41</td><td>Frozen Foods</td><td>262.3594</td><td>3924.891</td><td>true</td></tr><tr><td>FDF05</td><td>Frozen Foods</td><td>262.491</td><td>5259.82</td><td>true</td></tr><tr><td>FDF05</td><td>Frozen Foods</td><td>262.591</td><td>4207.856</td><td>true</td></tr><tr><td>FDK40</td><td>Frozen Foods</td><td>262.691</td><td>6048.793</td><td>true</td></tr><tr><td>FDP28</td><td>Frozen Foods</td><td>262.6936</td><td>4175.8976</td><td>true</td></tr><tr><td>FDK40</td><td>Frozen Foods</td><td>262.791</td><td>3681.874</td><td>true</td></tr><tr><td>FDP28</td><td>Frozen Foods</td><td>262.8936</td><td>4958.8784</td><td>true</td></tr><tr><td>FDK40</td><td>Frozen Foods</td><td>263.191</td><td>6574.775</td><td>true</td></tr><tr><td>FDK40</td><td>Frozen Foods</td><td>263.791</td><td>4996.829</td><td>true</td></tr><tr><td>FDF05</td><td>Frozen Foods</td><td>264.391</td><td>5259.82</td><td>true</td></tr><tr><td>FDF05</td><td>Frozen Foods</td><td>264.491</td><td>3681.874</td><td>true</td></tr><tr><td>FDK40</td><td>Frozen Foods</td><td>264.691</td><td>5785.802</td><td>true</td></tr><tr><td>FDF05</td><td>Frozen Foods</td><td>264.891</td><td>4996.829</td><td>true</td></tr><tr><td>FDK08</td><td>Fruits and Vegetables</td><td>101.2016</td><td>2631.2416</td><td>true</td></tr><tr><td>FDM44</td><td>Fruits and Vegetables</td><td>102.899</td><td>2167.179</td><td>true</td></tr><tr><td>FDB45</td><td>Fruits and Vegetables</td><td>103.2306</td><td>2404.2038</td><td>true</td></tr><tr><td>FDB45</td><td>Fruits and Vegetables</td><td>104.9306</td><td>2299.6732</td><td>true</td></tr><tr><td>FDO44</td><td>Fruits and Vegetables</td><td>109.2228</td><td>3205.1612</td><td>true</td></tr><tr><td>FDW19</td><td>Fruits and Vegetables</td><td>109.957</td><td>4504.137</td><td>true</td></tr><tr><td>FDO44</td><td>Fruits and Vegetables</td><td>110.0228</td><td>3205.1612</td><td>true</td></tr><tr><td>FDR08</td><td>Fruits and Vegetables</td><td>110.2886</td><td>2223.772</td><td>true</td></tr><tr><td>FDV07</td><td>Fruits and Vegetables</td><td>110.3228</td><td>2763.07</td><td>true</td></tr><tr><td>FDW19</td><td>Fruits and Vegetables</td><td>110.657</td><td>2087.283</td><td>true</td></tr><tr><td>FDV07</td><td>Fruits and Vegetables</td><td>111.0228</td><td>3205.1612</td><td>true</td></tr><tr><td>FDL20</td><td>Fruits and Vegetables</td><td>111.1886</td><td>4447.544</td><td>true</td></tr><tr><td>FDR08</td><td>Fruits and Vegetables</td><td>111.1886</td><td>2334.9606</td><td>true</td></tr><tr><td>FDC44</td><td>Fruits and Vegetables</td><td>111.9518</td><td>2163.1842</td><td>true</td></tr><tr><td>FDL20</td><td>Fruits and Vegetables</td><td>111.9886</td><td>3002.0922</td><td>true</td></tr><tr><td>FDL20</td><td>Fruits and Vegetables</td><td>112.3886</td><td>2334.9606</td><td>true</td></tr><tr><td>FDD21</td><td>Fruits and Vegetables</td><td>113.1176</td><td>4695.2216</td><td>true</td></tr><tr><td>FDI32</td><td>Fruits and Vegetables</td><td>113.2834</td><td>4376.9692</td><td>true</td></tr><tr><td>FDS07</td><td>Fruits and Vegetables</td><td>113.7518</td><td>2049.3324</td><td>true</td></tr><tr><td>FDD21</td><td>Fruits and Vegetables</td><td>114.2176</td><td>2175.8344</td><td>true</td></tr><tr><td>FDD21</td><td>Fruits and Vegetables</td><td>114.4176</td><td>2633.9048</td><td>true</td></tr><tr><td>FDC44</td><td>Fruits and Vegetables</td><td>114.4518</td><td>2390.8878</td><td>true</td></tr><tr><td>FDQ55</td><td>Fruits and Vegetables</td><td>114.7834</td><td>3455.502</td><td>true</td></tr><tr><td>FDC44</td><td>Fruits and Vegetables</td><td>114.8518</td><td>2163.1842</td><td>true</td></tr><tr><td>FDD21</td><td>Fruits and Vegetables</td><td>115.0176</td><td>4122.6336</td><td>true</td></tr><tr><td>FDI32</td><td>Fruits and Vegetables</td><td>115.0834</td><td>2764.4016</td><td>true</td></tr><tr><td>FDE21</td><td>Fruits and Vegetables</td><td>115.3492</td><td>3823.0236</td><td>true</td></tr><tr><td>FDC44</td><td>Fruits and Vegetables</td><td>115.7518</td><td>5351.0346</td><td>true</td></tr><tr><td>FDY19</td><td>Fruits and Vegetables</td><td>115.8466</td><td>2474.7786</td><td>true</td></tr><tr><td>FDN08</td><td>Fruits and Vegetables</td><td>115.9466</td><td>4124.631</td><td>true</td></tr><tr><td>FDQ55</td><td>Fruits and Vegetables</td><td>115.9834</td><td>2994.7684</td><td>true</td></tr><tr><td>FDY19</td><td>Fruits and Vegetables</td><td>116.5466</td><td>2828.3184</td><td>true</td></tr><tr><td>FDH56</td><td>Fruits and Vegetables</td><td>116.6492</td><td>2316.984</td><td>true</td></tr><tr><td>FDI32</td><td>Fruits and Vegetables</td><td>116.6834</td><td>3570.6854</td><td>true</td></tr><tr><td>FDH56</td><td>Fruits and Vegetables</td><td>117.1492</td><td>2780.3808</td><td>true</td></tr><tr><td>FDY19</td><td>Fruits and Vegetables</td><td>117.2466</td><td>2239.0854</td><td>true</td></tr><tr><td>FDT44</td><td>Fruits and Vegetables</td><td>117.2466</td><td>2239.0854</td><td>true</td></tr><tr><td>FDN08</td><td>Fruits and Vegetables</td><td>119.3466</td><td>3064.0116</td><td>true</td></tr><tr><td>FDC56</td><td>Fruits and Vegetables</td><td>119.744</td><td>3355.632</td><td>true</td></tr><tr><td>FDY19</td><td>Fruits and Vegetables</td><td>119.8466</td><td>2239.0854</td><td>true</td></tr><tr><td>FDQ44</td><td>Fruits and Vegetables</td><td>120.0756</td><td>2302.3364</td><td>true</td></tr><tr><td>FDQ44</td><td>Fruits and Vegetables</td><td>120.1756</td><td>2059.9852</td><td>true</td></tr><tr><td>FDQ44</td><td>Fruits and Vegetables</td><td>120.1756</td><td>3392.9168</td><td>true</td></tr><tr><td>FDU20</td><td>Fruits and Vegetables</td><td>120.3098</td><td>2530.7058</td><td>true</td></tr><tr><td>FDK20</td><td>Fruits and Vegetables</td><td>120.5072</td><td>2695.1584</td><td>true</td></tr><tr><td>FDU32</td><td>Fruits and Vegetables</td><td>120.7414</td><td>4386.2904</td><td>true</td></tr><tr><td>FDA56</td><td>Fruits and Vegetables</td><td>120.8414</td><td>2071.3038</td><td>true</td></tr><tr><td>FDA07</td><td>Fruits and Vegetables</td><td>121.0072</td><td>2082.6224</td><td>true</td></tr><tr><td>FDQ44</td><td>Fruits and Vegetables</td><td>121.2756</td><td>2181.1608</td><td>true</td></tr><tr><td>FDC56</td><td>Fruits and Vegetables</td><td>121.744</td><td>2277.036</td><td>true</td></tr><tr><td>FDQ32</td><td>Fruits and Vegetables</td><td>121.9388</td><td>3962.8416</td><td>true</td></tr><tr><td>FDU20</td><td>Fruits and Vegetables</td><td>122.1098</td><td>3374.2744</td><td>true</td></tr><tr><td>FDU20</td><td>Fruits and Vegetables</td><td>122.1098</td><td>2892.2352</td><td>true</td></tr><tr><td>FDU20</td><td>Fruits and Vegetables</td><td>122.2098</td><td>2771.7254</td><td>true</td></tr><tr><td>FDQ44</td><td>Fruits and Vegetables</td><td>122.3756</td><td>2544.6876</td><td>true</td></tr><tr><td>FDQ32</td><td>Fruits and Vegetables</td><td>122.8388</td><td>2972.1312</td><td>true</td></tr><tr><td>FDA07</td><td>Fruits and Vegetables</td><td>122.9072</td><td>4532.7664</td><td>true</td></tr><tr><td>FDQ32</td><td>Fruits and Vegetables</td><td>122.9388</td><td>3095.97</td><td>true</td></tr><tr><td>FDA56</td><td>Fruits and Vegetables</td><td>123.1414</td><td>4264.449</td><td>true</td></tr><tr><td>FDW20</td><td>Fruits and Vegetables</td><td>123.373</td><td>2093.941</td><td>true</td></tr><tr><td>FDA07</td><td>Fruits and Vegetables</td><td>123.4072</td><td>2082.6224</td><td>true</td></tr><tr><td>FDA56</td><td>Fruits and Vegetables</td><td>123.5414</td><td>4508.1318</td><td>true</td></tr><tr><td>FDK20</td><td>Fruits and Vegetables</td><td>124.0072</td><td>4042.7376</td><td>true</td></tr><tr><td>FDW20</td><td>Fruits and Vegetables</td><td>124.173</td><td>2956.152</td><td>true</td></tr><tr><td>FDD20</td><td>Fruits and Vegetables</td><td>124.2046</td><td>2490.092</td><td>true</td></tr><tr><td>FDA07</td><td>Fruits and Vegetables</td><td>124.3072</td><td>2695.1584</td><td>true</td></tr><tr><td>FDK20</td><td>Fruits and Vegetables</td><td>124.3072</td><td>5022.7952</td><td>true</td></tr><tr><td>FDK20</td><td>Fruits and Vegetables</td><td>124.5072</td><td>2450.144</td><td>true</td></tr><tr><td>FDW20</td><td>Fruits and Vegetables</td><td>124.973</td><td>2463.46</td><td>true</td></tr><tr><td>FDJ20</td><td>Fruits and Vegetables</td><td>125.5388</td><td>2105.2596</td><td>true</td></tr><tr><td>FDV20</td><td>Fruits and Vegetables</td><td>125.9678</td><td>2797.6916</td><td>true</td></tr><tr><td>FDD20</td><td>Fruits and Vegetables</td><td>126.4046</td><td>5353.6978</td><td>true</td></tr><tr><td>FDP32</td><td>Fruits and Vegetables</td><td>127.2678</td><td>2416.1882</td><td>true</td></tr><tr><td>FDV20</td><td>Fruits and Vegetables</td><td>127.4678</td><td>3560.6984</td><td>true</td></tr><tr><td>FDV20</td><td>Fruits and Vegetables</td><td>128.0678</td><td>2797.6916</td><td>true</td></tr><tr><td>FDP19</td><td>Fruits and Vegetables</td><td>128.1652</td><td>2454.1388</td><td>true</td></tr><tr><td>FDA19</td><td>Fruits and Vegetables</td><td>128.2994</td><td>3983.4814</td><td>true</td></tr><tr><td>FDP19</td><td>Fruits and Vegetables</td><td>128.4652</td><td>2841.6344</td><td>true</td></tr><tr><td>FDA19</td><td>Fruits and Vegetables</td><td>128.8994</td><td>2055.9904</td><td>true</td></tr><tr><td>FDP19</td><td>Fruits and Vegetables</td><td>129.0652</td><td>3487.4604</td><td>true</td></tr><tr><td>FDV20</td><td>Fruits and Vegetables</td><td>129.0678</td><td>3560.6984</td><td>true</td></tr><tr><td>FDP19</td><td>Fruits and Vegetables</td><td>129.3652</td><td>2066.6432</td><td>true</td></tr><tr><td>FDF44</td><td>Fruits and Vegetables</td><td>129.4968</td><td>3392.9168</td><td>true</td></tr><tr><td>FDR44</td><td>Fruits and Vegetables</td><td>129.5968</td><td>2348.9424</td><td>true</td></tr><tr><td>FDH57</td><td>Fruits and Vegetables</td><td>130.3284</td><td>2504.7396</td><td>true</td></tr><tr><td>FDF44</td><td>Fruits and Vegetables</td><td>130.3968</td><td>3523.4136</td><td>true</td></tr><tr><td>FDR44</td><td>Fruits and Vegetables</td><td>130.4968</td><td>3523.4136</td><td>true</td></tr><tr><td>FDF44</td><td>Fruits and Vegetables</td><td>130.9968</td><td>2348.9424</td><td>true</td></tr><tr><td>FDF44</td><td>Fruits and Vegetables</td><td>130.9968</td><td>4828.3816</td><td>true</td></tr><tr><td>FDH57</td><td>Fruits and Vegetables</td><td>131.4284</td><td>5404.9644</td><td>true</td></tr><tr><td>FDF44</td><td>Fruits and Vegetables</td><td>132.1968</td><td>2870.9296</td><td>true</td></tr><tr><td>FDH57</td><td>Fruits and Vegetables</td><td>132.9284</td><td>3295.71</td><td>true</td></tr><tr><td>FDS32</td><td>Fruits and Vegetables</td><td>140.5838</td><td>2669.1922</td><td>true</td></tr><tr><td>FDE57</td><td>Fruits and Vegetables</td><td>140.6154</td><td>4538.0928</td><td>true</td></tr><tr><td>FDE57</td><td>Fruits and Vegetables</td><td>141.0154</td><td>2694.4926</td><td>true</td></tr><tr><td>FDY08</td><td>Fruits and Vegetables</td><td>141.5838</td><td>3231.1274</td><td>true</td></tr><tr><td>FDS32</td><td>Fruits and Vegetables</td><td>141.9838</td><td>4354.9978</td><td>true</td></tr><tr><td>FDX32</td><td>Fruits and Vegetables</td><td>142.5786</td><td>3323.0078</td><td>true</td></tr><tr><td>FDN56</td><td>Fruits and Vegetables</td><td>142.6786</td><td>2311.6576</td><td>true</td></tr><tr><td>FDE57</td><td>Fruits and Vegetables</td><td>142.9154</td><td>3261.7542</td><td>true</td></tr><tr><td>FDN56</td><td>Fruits and Vegetables</td><td>143.8786</td><td>4334.358</td><td>true</td></tr><tr><td>FDX32</td><td>Fruits and Vegetables</td><td>144.0786</td><td>2600.6148</td><td>true</td></tr><tr><td>FDR31</td><td>Fruits and Vegetables</td><td>144.4102</td><td>4374.306</td><td>true</td></tr><tr><td>FDR31</td><td>Fruits and Vegetables</td><td>144.6102</td><td>2916.204</td><td>true</td></tr><tr><td>FDX32</td><td>Fruits and Vegetables</td><td>144.7786</td><td>2600.6148</td><td>true</td></tr><tr><td>FDN56</td><td>Fruits and Vegetables</td><td>144.8786</td><td>3323.0078</td><td>true</td></tr><tr><td>FDN56</td><td>Fruits and Vegetables</td><td>144.9786</td><td>2022.7004</td><td>true</td></tr><tr><td>FDV55</td><td>Fruits and Vegetables</td><td>145.1444</td><td>3918.8988</td><td>true</td></tr><tr><td>FDY31</td><td>Fruits and Vegetables</td><td>145.3418</td><td>2354.2688</td><td>true</td></tr><tr><td>FDR19</td><td>Fruits and Vegetables</td><td>145.4102</td><td>3499.4448</td><td>true</td></tr><tr><td>FDN56</td><td>Fruits and Vegetables</td><td>145.4786</td><td>5779.144</td><td>true</td></tr><tr><td>FDR19</td><td>Fruits and Vegetables</td><td>145.5102</td><td>5978.2182</td><td>true</td></tr><tr><td>FDN56</td><td>Fruits and Vegetables</td><td>145.5786</td><td>3900.9222</td><td>true</td></tr><tr><td>FDV55</td><td>Fruits and Vegetables</td><td>145.6444</td><td>2467.4548</td><td>true</td></tr><tr><td>FDY31</td><td>Fruits and Vegetables</td><td>146.1418</td><td>3089.9778</td><td>true</td></tr><tr><td>FDE08</td><td>Fruits and Vegetables</td><td>146.4734</td><td>3563.3616</td><td>true</td></tr><tr><td>FDS55</td><td>Fruits and Vegetables</td><td>146.4734</td><td>4157.2552</td><td>true</td></tr><tr><td>FDY31</td><td>Fruits and Vegetables</td><td>146.6418</td><td>4414.254</td><td>true</td></tr><tr><td>FDS55</td><td>Fruits and Vegetables</td><td>146.8734</td><td>3563.3616</td><td>true</td></tr><tr><td>FDR19</td><td>Fruits and Vegetables</td><td>147.0102</td><td>2770.3938</td><td>true</td></tr><tr><td>FDE08</td><td>Fruits and Vegetables</td><td>147.3734</td><td>2375.5744</td><td>true</td></tr><tr><td>FDS55</td><td>Fruits and Vegetables</td><td>147.3734</td><td>2524.0478</td><td>true</td></tr><tr><td>FDR31</td><td>Fruits and Vegetables</td><td>147.4102</td><td>3207.8244</td><td>true</td></tr><tr><td>FDR19</td><td>Fruits and Vegetables</td><td>147.6102</td><td>4082.6856</td><td>true</td></tr><tr><td>FDE08</td><td>Fruits and Vegetables</td><td>147.7734</td><td>4602.6754</td><td>true</td></tr><tr><td>FDH44</td><td>Fruits and Vegetables</td><td>148.0418</td><td>3825.6868</td><td>true</td></tr><tr><td>FDH44</td><td>Fruits and Vegetables</td><td>148.2418</td><td>3089.9778</td><td>true</td></tr><tr><td>FDY31</td><td>Fruits and Vegetables</td><td>148.2418</td><td>2354.2688</td><td>true</td></tr><tr><td>FDY31</td><td>Fruits and Vegetables</td><td>148.4418</td><td>2354.2688</td><td>true</td></tr><tr><td>FDS55</td><td>Fruits and Vegetables</td><td>148.4734</td><td>3563.3616</td><td>true</td></tr><tr><td>FDT08</td><td>Fruits and Vegetables</td><td>148.705</td><td>2996.1</td><td>true</td></tr><tr><td>FDT08</td><td>Fruits and Vegetables</td><td>149.005</td><td>2097.27</td><td>true</td></tr><tr><td>FDU07</td><td>Fruits and Vegetables</td><td>149.1366</td><td>4231.8248</td><td>true</td></tr><tr><td>FDT08</td><td>Fruits and Vegetables</td><td>150.005</td><td>2247.075</td><td>true</td></tr><tr><td>FDS55</td><td>Fruits and Vegetables</td><td>150.0734</td><td>4454.202</td><td>true</td></tr><tr><td>FDT08</td><td>Fruits and Vegetables</td><td>150.505</td><td>2696.49</td><td>true</td></tr><tr><td>FDU07</td><td>Fruits and Vegetables</td><td>151.3366</td><td>3022.732</td><td>true</td></tr><tr><td>FDT08</td><td>Fruits and Vegetables</td><td>151.505</td><td>2846.295</td><td>true</td></tr><tr><td>FDT08</td><td>Fruits and Vegetables</td><td>151.805</td><td>2696.49</td><td>true</td></tr><tr><td>FDK32</td><td>Fruits and Vegetables</td><td>152.4682</td><td>2439.4912</td><td>true</td></tr><tr><td>FDK32</td><td>Fruits and Vegetables</td><td>152.8682</td><td>5031.4506</td><td>true</td></tr><tr><td>FDK32</td><td>Fruits and Vegetables</td><td>154.2682</td><td>3354.3004</td><td>true</td></tr><tr><td>FDT55</td><td>Fruits and Vegetables</td><td>155.7946</td><td>3471.4812</td><td>true</td></tr><tr><td>FDT55</td><td>Fruits and Vegetables</td><td>156.4946</td><td>2998.0974</td><td>true</td></tr><tr><td>FDT55</td><td>Fruits and Vegetables</td><td>156.7946</td><td>3629.2758</td><td>true</td></tr><tr><td>FDT55</td><td>Fruits and Vegetables</td><td>156.7946</td><td>2840.3028</td><td>true</td></tr><tr><td>FDT55</td><td>Fruits and Vegetables</td><td>157.0946</td><td>5522.811</td><td>true</td></tr><tr><td>FDB33</td><td>Fruits and Vegetables</td><td>158.1262</td><td>4137.2812</td><td>true</td></tr><tr><td>FDT55</td><td>Fruits and Vegetables</td><td>158.1946</td><td>6942.9624</td><td>true</td></tr><tr><td>FDZ55</td><td>Fruits and Vegetables</td><td>158.492</td><td>3994.8</td><td>true</td></tr><tr><td>FDB33</td><td>Fruits and Vegetables</td><td>158.6262</td><td>3819.0288</td><td>true</td></tr><tr><td>FDB08</td><td>Fruits and Vegetables</td><td>158.7578</td><td>2085.9514</td><td>true</td></tr><tr><td>FDZ55</td><td>Fruits and Vegetables</td><td>158.792</td><td>4474.176</td><td>true</td></tr><tr><td>FDV19</td><td>Fruits and Vegetables</td><td>159.5578</td><td>2085.9514</td><td>true</td></tr><tr><td>FDZ55</td><td>Fruits and Vegetables</td><td>159.692</td><td>5592.72</td><td>true</td></tr><tr><td>FDB08</td><td>Fruits and Vegetables</td><td>159.9578</td><td>2727.7826</td><td>true</td></tr><tr><td>FDB08</td><td>Fruits and Vegetables</td><td>160.1578</td><td>3048.6982</td><td>true</td></tr><tr><td>FDL44</td><td>Fruits and Vegetables</td><td>160.2894</td><td>3235.788</td><td>true</td></tr><tr><td>FDN44</td><td>Fruits and Vegetables</td><td>160.292</td><td>4793.76</td><td>true</td></tr><tr><td>FDB08</td><td>Fruits and Vegetables</td><td>160.3578</td><td>2406.867</td><td>true</td></tr><tr><td>FDB33</td><td>Fruits and Vegetables</td><td>160.4262</td><td>3182.524</td><td>true</td></tr><tr><td>FDL44</td><td>Fruits and Vegetables</td><td>160.4894</td><td>3073.9986</td><td>true</td></tr><tr><td>FDB33</td><td>Fruits and Vegetables</td><td>160.7262</td><td>2864.2716</td><td>true</td></tr><tr><td>FDZ55</td><td>Fruits and Vegetables</td><td>160.892</td><td>2396.88</td><td>true</td></tr><tr><td>FDV19</td><td>Fruits and Vegetables</td><td>160.9578</td><td>2246.4092</td><td>true</td></tr><tr><td>FDV19</td><td>Fruits and Vegetables</td><td>160.9578</td><td>4813.734</td><td>true</td></tr><tr><td>FDZ55</td><td>Fruits and Vegetables</td><td>160.992</td><td>2716.464</td><td>true</td></tr><tr><td>FDU44</td><td>Fruits and Vegetables</td><td>161.0552</td><td>3411.5592</td><td>true</td></tr><tr><td>FDV19</td><td>Fruits and Vegetables</td><td>161.2578</td><td>4171.9028</td><td>true</td></tr><tr><td>FDN44</td><td>Fruits and Vegetables</td><td>161.592</td><td>4314.384</td><td>true</td></tr><tr><td>FDU44</td><td>Fruits and Vegetables</td><td>162.1552</td><td>3086.6488</td><td>true</td></tr><tr><td>FDV19</td><td>Fruits and Vegetables</td><td>162.2578</td><td>3690.5294</td><td>true</td></tr><tr><td>FDL44</td><td>Fruits and Vegetables</td><td>162.7894</td><td>5500.8396</td><td>true</td></tr><tr><td>FDL44</td><td>Fruits and Vegetables</td><td>162.8894</td><td>3397.5774</td><td>true</td></tr><tr><td>FDY32</td><td>Fruits and Vegetables</td><td>164.021</td><td>3914.904</td><td>true</td></tr><tr><td>FDA08</td><td>Fruits and Vegetables</td><td>164.1526</td><td>3124.5994</td><td>true</td></tr><tr><td>FDU44</td><td>Fruits and Vegetables</td><td>164.1552</td><td>5198.5664</td><td>true</td></tr><tr><td>FDU44</td><td>Fruits and Vegetables</td><td>164.1552</td><td>3249.104</td><td>true</td></tr><tr><td>FDA08</td><td>Fruits and Vegetables</td><td>164.2526</td><td>3946.8624</td><td>true</td></tr><tr><td>FDA08</td><td>Fruits and Vegetables</td><td>164.6526</td><td>2137.8838</td><td>true</td></tr><tr><td>FDX43</td><td>Fruits and Vegetables</td><td>165.05</td><td>2330.3</td><td>true</td></tr><tr><td>FDO08</td><td>Fruits and Vegetables</td><td>165.9526</td><td>2631.2416</td><td>true</td></tr><tr><td>FDZ56</td><td>Fruits and Vegetables</td><td>166.4474</td><td>5390.3168</td><td>true</td></tr><tr><td>FDZ56</td><td>Fruits and Vegetables</td><td>166.9474</td><td>2863.6058</td><td>true</td></tr><tr><td>FDN20</td><td>Fruits and Vegetables</td><td>167.0474</td><td>2358.2636</td><td>true</td></tr><tr><td>FDX43</td><td>Fruits and Vegetables</td><td>167.25</td><td>2330.3</td><td>true</td></tr><tr><td>FDE20</td><td>Fruits and Vegetables</td><td>167.879</td><td>4074.696</td><td>true</td></tr><tr><td>FDZ56</td><td>Fruits and Vegetables</td><td>168.2474</td><td>3200.5006</td><td>true</td></tr><tr><td>FDE20</td><td>Fruits and Vegetables</td><td>168.279</td><td>2376.906</td><td>true</td></tr><tr><td>FDE20</td><td>Fruits and Vegetables</td><td>168.379</td><td>3225.801</td><td>true</td></tr><tr><td>FDF57</td><td>Fruits and Vegetables</td><td>168.6448</td><td>3408.896</td><td>true</td></tr><tr><td>FDF57</td><td>Fruits and Vegetables</td><td>168.6448</td><td>2897.5616</td><td>true</td></tr><tr><td>FDN20</td><td>Fruits and Vegetables</td><td>169.2474</td><td>3705.8428</td><td>true</td></tr><tr><td>FDE20</td><td>Fruits and Vegetables</td><td>169.279</td><td>2376.906</td><td>true</td></tr><tr><td>FDN20</td><td>Fruits and Vegetables</td><td>169.5474</td><td>4211.185</td><td>true</td></tr><tr><td>FDF57</td><td>Fruits and Vegetables</td><td>169.6448</td><td>2045.3376</td><td>true</td></tr><tr><td>FDF57</td><td>Fruits and Vegetables</td><td>169.7448</td><td>3238.4512</td><td>true</td></tr><tr><td>FDW44</td><td>Fruits and Vegetables</td><td>169.7448</td><td>3579.3408</td><td>true</td></tr><tr><td>FDZ56</td><td>Fruits and Vegetables</td><td>169.9474</td><td>2863.6058</td><td>true</td></tr><tr><td>FDC45</td><td>Fruits and Vegetables</td><td>170.3106</td><td>3422.212</td><td>true</td></tr><tr><td>FDU19</td><td>Fruits and Vegetables</td><td>170.5422</td><td>2759.0752</td><td>true</td></tr><tr><td>FDG08</td><td>Fruits and Vegetables</td><td>170.6764</td><td>3435.528</td><td>true</td></tr><tr><td>FDF57</td><td>Fruits and Vegetables</td><td>170.7448</td><td>2045.3376</td><td>true</td></tr><tr><td>FDG08</td><td>Fruits and Vegetables</td><td>170.8764</td><td>2233.0932</td><td>true</td></tr><tr><td>FDE20</td><td>Fruits and Vegetables</td><td>171.179</td><td>4923.591</td><td>true</td></tr><tr><td>FDW44</td><td>Fruits and Vegetables</td><td>171.3448</td><td>2386.2272</td><td>true</td></tr><tr><td>FDA31</td><td>Fruits and Vegetables</td><td>171.708</td><td>3115.944</td><td>true</td></tr><tr><td>FDW44</td><td>Fruits and Vegetables</td><td>171.8448</td><td>2556.672</td><td>true</td></tr><tr><td>FDG08</td><td>Fruits and Vegetables</td><td>171.8764</td><td>3779.0808</td><td>true</td></tr><tr><td>FDG08</td><td>Fruits and Vegetables</td><td>171.9764</td><td>2404.8696</td><td>true</td></tr><tr><td>FDU19</td><td>Fruits and Vegetables</td><td>172.0422</td><td>4828.3816</td><td>true</td></tr><tr><td>FDG08</td><td>Fruits and Vegetables</td><td>172.0764</td><td>4466.1864</td><td>true</td></tr><tr><td>FDA31</td><td>Fruits and Vegetables</td><td>172.108</td><td>2250.404</td><td>true</td></tr><tr><td>FDT19</td><td>Fruits and Vegetables</td><td>172.108</td><td>4327.7</td><td>true</td></tr><tr><td>FDF57</td><td>Fruits and Vegetables</td><td>172.2448</td><td>2897.5616</td><td>true</td></tr><tr><td>FDC45</td><td>Fruits and Vegetables</td><td>172.5106</td><td>2053.3272</td><td>true</td></tr><tr><td>FDG08</td><td>Fruits and Vegetables</td><td>172.6764</td><td>2061.3168</td><td>true</td></tr><tr><td>FDT19</td><td>Fruits and Vegetables</td><td>172.808</td><td>2250.404</td><td>true</td></tr><tr><td>FDJ44</td><td>Fruits and Vegetables</td><td>172.8396</td><td>2616.594</td><td>true</td></tr><tr><td>FDA31</td><td>Fruits and Vegetables</td><td>172.908</td><td>2769.728</td><td>true</td></tr><tr><td>FDT19</td><td>Fruits and Vegetables</td><td>172.908</td><td>6231.888</td><td>true</td></tr><tr><td>FDK44</td><td>Fruits and Vegetables</td><td>173.0738</td><td>3823.0236</td><td>true</td></tr><tr><td>FDT19</td><td>Fruits and Vegetables</td><td>173.108</td><td>2077.296</td><td>true</td></tr><tr><td>FDJ44</td><td>Fruits and Vegetables</td><td>173.2396</td><td>3139.9128</td><td>true</td></tr><tr><td>FDK44</td><td>Fruits and Vegetables</td><td>173.3738</td><td>2085.2856</td><td>true</td></tr><tr><td>FDJ44</td><td>Fruits and Vegetables</td><td>173.7396</td><td>3663.2316</td><td>true</td></tr><tr><td>FDI45</td><td>Fruits and Vegetables</td><td>173.8054</td><td>2801.6864</td><td>true</td></tr><tr><td>FDU19</td><td>Fruits and Vegetables</td><td>173.8422</td><td>3448.844</td><td>true</td></tr><tr><td>FDI45</td><td>Fruits and Vegetables</td><td>173.9054</td><td>3677.2134</td><td>true</td></tr><tr><td>FDU19</td><td>Fruits and Vegetables</td><td>173.9422</td><td>3103.9596</td><td>true</td></tr><tr><td>FDI45</td><td>Fruits and Vegetables</td><td>174.2054</td><td>3677.2134</td><td>true</td></tr><tr><td>FDT19</td><td>Fruits and Vegetables</td><td>174.708</td><td>2942.836</td><td>true</td></tr><tr><td>FDJ44</td><td>Fruits and Vegetables</td><td>175.0396</td><td>4012.1108</td><td>true</td></tr><tr><td>FDV31</td><td>Fruits and Vegetables</td><td>175.237</td><td>3881.614</td><td>true</td></tr><tr><td>FDZ19</td><td>Fruits and Vegetables</td><td>175.3712</td><td>2988.1104</td><td>true</td></tr><tr><td>FDK44</td><td>Fruits and Vegetables</td><td>175.4738</td><td>2954.1546</td><td>true</td></tr><tr><td>FDI45</td><td>Fruits and Vegetables</td><td>175.5054</td><td>2451.4756</td><td>true</td></tr><tr><td>FDD56</td><td>Fruits and Vegetables</td><td>175.6054</td><td>2451.4756</td><td>true</td></tr><tr><td>FDI45</td><td>Fruits and Vegetables</td><td>175.8054</td><td>2801.6864</td><td>true</td></tr><tr><td>FDI45</td><td>Fruits and Vegetables</td><td>176.1054</td><td>4027.4242</td><td>true</td></tr><tr><td>FDJ44</td><td>Fruits and Vegetables</td><td>176.1396</td><td>3663.2316</td><td>true</td></tr><tr><td>FDD56</td><td>Fruits and Vegetables</td><td>176.5054</td><td>2976.7918</td><td>true</td></tr><tr><td>FDG20</td><td>Fruits and Vegetables</td><td>177.0028</td><td>2479.4392</td><td>true</td></tr><tr><td>FDD56</td><td>Fruits and Vegetables</td><td>177.0054</td><td>3677.2134</td><td>true</td></tr><tr><td>FDD56</td><td>Fruits and Vegetables</td><td>177.0054</td><td>2976.7918</td><td>true</td></tr><tr><td>FDD56</td><td>Fruits and Vegetables</td><td>177.1054</td><td>3151.8972</td><td>true</td></tr><tr><td>FDE45</td><td>Fruits and Vegetables</td><td>177.3002</td><td>3044.7034</td><td>true</td></tr><tr><td>FDZ19</td><td>Fruits and Vegetables</td><td>177.7712</td><td>4921.5936</td><td>true</td></tr><tr><td>FDS31</td><td>Fruits and Vegetables</td><td>178.4318</td><td>2526.0452</td><td>true</td></tr><tr><td>FDS08</td><td>Fruits and Vegetables</td><td>178.437</td><td>3175.866</td><td>true</td></tr><tr><td>FDE45</td><td>Fruits and Vegetables</td><td>178.5002</td><td>5552.1062</td><td>true</td></tr><tr><td>FDS31</td><td>Fruits and Vegetables</td><td>178.5318</td><td>3067.3406</td><td>true</td></tr><tr><td>FDS31</td><td>Fruits and Vegetables</td><td>178.8318</td><td>3969.4996</td><td>true</td></tr><tr><td>FDS31</td><td>Fruits and Vegetables</td><td>178.9318</td><td>3067.3406</td><td>true</td></tr><tr><td>FDD09</td><td>Fruits and Vegetables</td><td>179.5976</td><td>2173.1712</td><td>true</td></tr><tr><td>FDX08</td><td>Fruits and Vegetables</td><td>179.7318</td><td>2165.1816</td><td>true</td></tr><tr><td>FDX08</td><td>Fruits and Vegetables</td><td>179.9318</td><td>2706.477</td><td>true</td></tr><tr><td>FDD09</td><td>Fruits and Vegetables</td><td>179.9976</td><td>4889.6352</td><td>true</td></tr><tr><td>FDE45</td><td>Fruits and Vegetables</td><td>180.0002</td><td>4656.6052</td><td>true</td></tr><tr><td>FDS31</td><td>Fruits and Vegetables</td><td>180.3318</td><td>2886.9088</td><td>true</td></tr><tr><td>FDS31</td><td>Fruits and Vegetables</td><td>180.3318</td><td>2345.6134</td><td>true</td></tr><tr><td>FDF56</td><td>Fruits and Vegetables</td><td>180.3976</td><td>3078.6592</td><td>true</td></tr><tr><td>FDF56</td><td>Fruits and Vegetables</td><td>180.3976</td><td>7425.0016</td><td>true</td></tr><tr><td>FDD09</td><td>Fruits and Vegetables</td><td>180.5976</td><td>3078.6592</td><td>true</td></tr><tr><td>FDF56</td><td>Fruits and Vegetables</td><td>180.9976</td><td>4165.2448</td><td>true</td></tr><tr><td>FDX07</td><td>Fruits and Vegetables</td><td>181.195</td><td>2380.235</td><td>true</td></tr><tr><td>FDF56</td><td>Fruits and Vegetables</td><td>181.2976</td><td>3078.6592</td><td>true</td></tr><tr><td>FDX08</td><td>Fruits and Vegetables</td><td>181.4318</td><td>3428.2042</td><td>true</td></tr><tr><td>FDX07</td><td>Fruits and Vegetables</td><td>181.695</td><td>2563.33</td><td>true</td></tr><tr><td>FDF56</td><td>Fruits and Vegetables</td><td>181.9976</td><td>5432.928</td><td>true</td></tr><tr><td>FDD09</td><td>Fruits and Vegetables</td><td>182.0976</td><td>6157.3184</td><td>true</td></tr><tr><td>FDU56</td><td>Fruits and Vegetables</td><td>182.4266</td><td>2028.6926</td><td>true</td></tr><tr><td>FDN32</td><td>Fruits and Vegetables</td><td>182.6266</td><td>3135.2522</td><td>true</td></tr><tr><td>FDS20</td><td>Fruits and Vegetables</td><td>182.7292</td><td>4925.5884</td><td>true</td></tr><tr><td>FDX07</td><td>Fruits and Vegetables</td><td>183.495</td><td>4577.375</td><td>true</td></tr><tr><td>FDS20</td><td>Fruits and Vegetables</td><td>183.8292</td><td>2554.0088</td><td>true</td></tr><tr><td>FDS20</td><td>Fruits and Vegetables</td><td>183.9292</td><td>2918.8672</td><td>true</td></tr><tr><td>FDX07</td><td>Fruits and Vegetables</td><td>184.495</td><td>4028.09</td><td>true</td></tr><tr><td>FDX07</td><td>Fruits and Vegetables</td><td>184.595</td><td>3844.995</td><td>true</td></tr><tr><td>FDA20</td><td>Fruits and Vegetables</td><td>184.624</td><td>5406.296</td><td>true</td></tr><tr><td>FDU56</td><td>Fruits and Vegetables</td><td>184.7266</td><td>8114.7704</td><td>true</td></tr><tr><td>FDN32</td><td>Fruits and Vegetables</td><td>184.7266</td><td>2213.1192</td><td>true</td></tr><tr><td>FDN32</td><td>Fruits and Vegetables</td><td>184.8266</td><td>2766.399</td><td>true</td></tr><tr><td>FDN32</td><td>Fruits and Vegetables</td><td>185.1266</td><td>4795.0916</td><td>true</td></tr><tr><td>FDK56</td><td>Fruits and Vegetables</td><td>185.1898</td><td>2619.2572</td><td>true</td></tr><tr><td>FDK56</td><td>Fruits and Vegetables</td><td>185.2898</td><td>3367.6164</td><td>true</td></tr><tr><td>FDA20</td><td>Fruits and Vegetables</td><td>185.324</td><td>3914.904</td><td>true</td></tr><tr><td>FDK56</td><td>Fruits and Vegetables</td><td>185.3898</td><td>3554.7062</td><td>true</td></tr><tr><td>FDN32</td><td>Fruits and Vegetables</td><td>185.6266</td><td>4979.5182</td><td>true</td></tr><tr><td>FDG09</td><td>Fruits and Vegetables</td><td>185.7556</td><td>3942.8676</td><td>true</td></tr><tr><td>FDS43</td><td>Fruits and Vegetables</td><td>185.924</td><td>4101.328</td><td>true</td></tr><tr><td>FDG09</td><td>Fruits and Vegetables</td><td>185.9556</td><td>4318.3788</td><td>true</td></tr><tr><td>FDS43</td><td>Fruits and Vegetables</td><td>186.224</td><td>5033.448</td><td>true</td></tr><tr><td>FDB56</td><td>Fruits and Vegetables</td><td>186.3556</td><td>3567.3564</td><td>true</td></tr><tr><td>FDT32</td><td>Fruits and Vegetables</td><td>186.5214</td><td>5275.7992</td><td>true</td></tr><tr><td>FDT32</td><td>Fruits and Vegetables</td><td>186.5214</td><td>2261.0568</td><td>true</td></tr><tr><td>FDA20</td><td>Fruits and Vegetables</td><td>186.524</td><td>2609.936</td><td>true</td></tr><tr><td>FDA20</td><td>Fruits and Vegetables</td><td>186.824</td><td>6338.416</td><td>true</td></tr><tr><td>FDB56</td><td>Fruits and Vegetables</td><td>186.8556</td><td>7322.4684</td><td>true</td></tr><tr><td>FDS43</td><td>Fruits and Vegetables</td><td>186.924</td><td>2237.088</td><td>true</td></tr><tr><td>FDG09</td><td>Fruits and Vegetables</td><td>187.1556</td><td>4693.89</td><td>true</td></tr><tr><td>FDG09</td><td>Fruits and Vegetables</td><td>187.2556</td><td>4506.1344</td><td>true</td></tr><tr><td>FDB56</td><td>Fruits and Vegetables</td><td>187.4556</td><td>3755.112</td><td>true</td></tr><tr><td>FDR55</td><td>Fruits and Vegetables</td><td>187.5872</td><td>4349.0056</td><td>true</td></tr><tr><td>FDB56</td><td>Fruits and Vegetables</td><td>187.6556</td><td>5257.1568</td><td>true</td></tr><tr><td>FDG09</td><td>Fruits and Vegetables</td><td>187.7556</td><td>3004.0896</td><td>true</td></tr><tr><td>FDF21</td><td>Fruits and Vegetables</td><td>187.853</td><td>2656.542</td><td>true</td></tr><tr><td>FDN31</td><td>Fruits and Vegetables</td><td>187.953</td><td>2656.542</td><td>true</td></tr><tr><td>FDR55</td><td>Fruits and Vegetables</td><td>187.9872</td><td>2458.1336</td><td>true</td></tr><tr><td>FDG09</td><td>Fruits and Vegetables</td><td>188.0556</td><td>2065.3116</td><td>true</td></tr><tr><td>FDT31</td><td>Fruits and Vegetables</td><td>188.0872</td><td>2458.1336</td><td>true</td></tr><tr><td>FDT31</td><td>Fruits and Vegetables</td><td>188.1872</td><td>2458.1336</td><td>true</td></tr><tr><td>FDB56</td><td>Fruits and Vegetables</td><td>188.2556</td><td>4693.89</td><td>true</td></tr><tr><td>FDG09</td><td>Fruits and Vegetables</td><td>188.2556</td><td>3755.112</td><td>true</td></tr><tr><td>FDT31</td><td>Fruits and Vegetables</td><td>188.2872</td><td>2647.2208</td><td>true</td></tr><tr><td>FDF21</td><td>Fruits and Vegetables</td><td>188.353</td><td>4364.319</td><td>true</td></tr><tr><td>FDT32</td><td>Fruits and Vegetables</td><td>188.4214</td><td>2826.321</td><td>true</td></tr><tr><td>FDF21</td><td>Fruits and Vegetables</td><td>189.053</td><td>5313.084</td><td>true</td></tr><tr><td>FDR55</td><td>Fruits and Vegetables</td><td>189.1872</td><td>5294.4416</td><td>true</td></tr><tr><td>FDV44</td><td>Fruits and Vegetables</td><td>189.2188</td><td>4570.0512</td><td>true</td></tr><tr><td>FDJ08</td><td>Fruits and Vegetables</td><td>189.2846</td><td>5159.2842</td><td>true</td></tr><tr><td>FDJ08</td><td>Fruits and Vegetables</td><td>189.2846</td><td>3630.6074</td><td>true</td></tr><tr><td>FDR55</td><td>Fruits and Vegetables</td><td>189.5872</td><td>3403.5696</td><td>true</td></tr><tr><td>FDT32</td><td>Fruits and Vegetables</td><td>189.6214</td><td>2826.321</td><td>true</td></tr><tr><td>FDZ31</td><td>Fruits and Vegetables</td><td>189.7504</td><td>2492.7552</td><td>true</td></tr><tr><td>FDT32</td><td>Fruits and Vegetables</td><td>189.9214</td><td>5087.3778</td><td>true</td></tr><tr><td>FDT31</td><td>Fruits and Vegetables</td><td>189.9872</td><td>3781.744</td><td>true</td></tr><tr><td>FDR55</td><td>Fruits and Vegetables</td><td>190.1872</td><td>3781.744</td><td>true</td></tr><tr><td>FDR55</td><td>Fruits and Vegetables</td><td>190.3872</td><td>2836.308</td><td>true</td></tr><tr><td>FDT31</td><td>Fruits and Vegetables</td><td>190.6872</td><td>4916.2672</td><td>true</td></tr><tr><td>FDR55</td><td>Fruits and Vegetables</td><td>190.6872</td><td>2269.0464</td><td>true</td></tr><tr><td>FDW56</td><td>Fruits and Vegetables</td><td>190.8162</td><td>2693.8268</td><td>true</td></tr><tr><td>FDZ31</td><td>Fruits and Vegetables</td><td>190.8504</td><td>3643.2576</td><td>true</td></tr><tr><td>FDW56</td><td>Fruits and Vegetables</td><td>190.9162</td><td>5195.2374</td><td>true</td></tr><tr><td>FDZ31</td><td>Fruits and Vegetables</td><td>191.0504</td><td>5752.512</td><td>true</td></tr><tr><td>FDW56</td><td>Fruits and Vegetables</td><td>191.2162</td><td>7504.2318</td><td>true</td></tr><tr><td>FDN31</td><td>Fruits and Vegetables</td><td>191.253</td><td>3036.048</td><td>true</td></tr><tr><td>FDV44</td><td>Fruits and Vegetables</td><td>191.3188</td><td>2285.0256</td><td>true</td></tr><tr><td>FDN31</td><td>Fruits and Vegetables</td><td>191.353</td><td>2277.036</td><td>true</td></tr><tr><td>FDF21</td><td>Fruits and Vegetables</td><td>191.553</td><td>6641.355</td><td>true</td></tr><tr><td>FDJ08</td><td>Fruits and Vegetables</td><td>191.5846</td><td>2101.9306</td><td>true</td></tr><tr><td>FDV44</td><td>Fruits and Vegetables</td><td>191.6188</td><td>2094.6068</td><td>true</td></tr><tr><td>FDF21</td><td>Fruits and Vegetables</td><td>191.653</td><td>5313.084</td><td>true</td></tr><tr><td>FDJ08</td><td>Fruits and Vegetables</td><td>191.7846</td><td>3057.3536</td><td>true</td></tr><tr><td>FDP08</td><td>Fruits and Vegetables</td><td>192.2478</td><td>3874.956</td><td>true</td></tr><tr><td>FDW56</td><td>Fruits and Vegetables</td><td>192.6162</td><td>5580.0698</td><td>true</td></tr><tr><td>FDZ31</td><td>Fruits and Vegetables</td><td>193.0504</td><td>2492.7552</td><td>true</td></tr><tr><td>FDW56</td><td>Fruits and Vegetables</td><td>193.3162</td><td>5772.486</td><td>true</td></tr><tr><td>FDC57</td><td>Fruits and Vegetables</td><td>193.382</td><td>4247.804</td><td>true</td></tr><tr><td>FDA43</td><td>Fruits and Vegetables</td><td>193.7794</td><td>4876.985</td><td>true</td></tr><tr><td>FDP08</td><td>Fruits and Vegetables</td><td>193.9478</td><td>4456.1994</td><td>true</td></tr><tr><td>FDP08</td><td>Fruits and Vegetables</td><td>194.1478</td><td>2906.217</td><td>true</td></tr><tr><td>FDA43</td><td>Fruits and Vegetables</td><td>194.1794</td><td>2340.9528</td><td>true</td></tr><tr><td>FDP07</td><td>Fruits and Vegetables</td><td>194.711</td><td>4910.275</td><td>true</td></tr><tr><td>FDY44</td><td>Fruits and Vegetables</td><td>194.711</td><td>5892.33</td><td>true</td></tr><tr><td>FDP07</td><td>Fruits and Vegetables</td><td>195.111</td><td>3731.809</td><td>true</td></tr><tr><td>FDC33</td><td>Fruits and Vegetables</td><td>195.3768</td><td>2759.0752</td><td>true</td></tr><tr><td>FDP08</td><td>Fruits and Vegetables</td><td>195.5478</td><td>3874.956</td><td>true</td></tr><tr><td>FDA43</td><td>Fruits and Vegetables</td><td>196.3794</td><td>3121.2704</td><td>true</td></tr><tr><td>FDY44</td><td>Fruits and Vegetables</td><td>196.411</td><td>2749.754</td><td>true</td></tr><tr><td>FDF20</td><td>Fruits and Vegetables</td><td>196.4768</td><td>6306.4576</td><td>true</td></tr><tr><td>FDC33</td><td>Fruits and Vegetables</td><td>196.4768</td><td>2561.9984</td><td>true</td></tr><tr><td>FDC33</td><td>Fruits and Vegetables</td><td>196.5768</td><td>2759.0752</td><td>true</td></tr><tr><td>FDF20</td><td>Fruits and Vegetables</td><td>196.5768</td><td>5715.2272</td><td>true</td></tr><tr><td>FDR56</td><td>Fruits and Vegetables</td><td>196.5768</td><td>3350.3056</td><td>true</td></tr><tr><td>FDF20</td><td>Fruits and Vegetables</td><td>196.6768</td><td>2759.0752</td><td>true</td></tr><tr><td>FDR56</td><td>Fruits and Vegetables</td><td>196.8768</td><td>7094.7648</td><td>true</td></tr><tr><td>FDC33</td><td>Fruits and Vegetables</td><td>196.9768</td><td>2759.0752</td><td>true</td></tr><tr><td>FDW31</td><td>Fruits and Vegetables</td><td>197.0742</td><td>2587.9646</td><td>true</td></tr><tr><td>FDY44</td><td>Fruits and Vegetables</td><td>197.211</td><td>3731.809</td><td>true</td></tr><tr><td>FDP07</td><td>Fruits and Vegetables</td><td>197.211</td><td>3142.576</td><td>true</td></tr><tr><td>FDC33</td><td>Fruits and Vegetables</td><td>197.3768</td><td>7488.9184</td><td>true</td></tr><tr><td>FDC33</td><td>Fruits and Vegetables</td><td>197.7768</td><td>3153.2288</td><td>true</td></tr><tr><td>FDY44</td><td>Fruits and Vegetables</td><td>198.311</td><td>2553.343</td><td>true</td></tr><tr><td>FDF32</td><td>Fruits and Vegetables</td><td>198.9426</td><td>3559.3668</td><td>true</td></tr><tr><td>FDR56</td><td>Fruits and Vegetables</td><td>198.9768</td><td>4729.8432</td><td>true</td></tr><tr><td>FDR56</td><td>Fruits and Vegetables</td><td>199.0768</td><td>2759.0752</td><td>true</td></tr><tr><td>FDF20</td><td>Fruits and Vegetables</td><td>199.0768</td><td>3153.2288</td><td>true</td></tr><tr><td>FDW31</td><td>Fruits and Vegetables</td><td>199.4742</td><td>2587.9646</td><td>true</td></tr><tr><td>FDW31</td><td>Fruits and Vegetables</td><td>199.5742</td><td>3981.484</td><td>true</td></tr><tr><td>FDW31</td><td>Fruits and Vegetables</td><td>201.0742</td><td>2189.8162</td><td>true</td></tr><tr><td>FDX56</td><td>Fruits and Vegetables</td><td>206.1638</td><td>4141.276</td><td>true</td></tr><tr><td>FDX56</td><td>Fruits and Vegetables</td><td>207.0638</td><td>4969.5312</td><td>true</td></tr><tr><td>FDX56</td><td>Fruits and Vegetables</td><td>207.1638</td><td>7247.233</td><td>true</td></tr><tr><td>FDX56</td><td>Fruits and Vegetables</td><td>208.5638</td><td>5383.6588</td><td>true</td></tr><tr><td>FDX56</td><td>Fruits and Vegetables</td><td>209.0638</td><td>3520.0846</td><td>true</td></tr><tr><td>FDB44</td><td>Fruits and Vegetables</td><td>209.2586</td><td>2954.8204</td><td>true</td></tr><tr><td>FDI20</td><td>Fruits and Vegetables</td><td>209.2586</td><td>3165.879</td><td>true</td></tr><tr><td>FDB44</td><td>Fruits and Vegetables</td><td>210.0586</td><td>4221.172</td><td>true</td></tr><tr><td>FDB44</td><td>Fruits and Vegetables</td><td>210.0586</td><td>6964.9338</td><td>true</td></tr><tr><td>FDG45</td><td>Fruits and Vegetables</td><td>210.4902</td><td>5309.755</td><td>true</td></tr><tr><td>FDI20</td><td>Fruits and Vegetables</td><td>210.6586</td><td>5487.5236</td><td>true</td></tr><tr><td>FDI20</td><td>Fruits and Vegetables</td><td>210.8586</td><td>6331.758</td><td>true</td></tr><tr><td>FDG45</td><td>Fruits and Vegetables</td><td>210.9902</td><td>6371.706</td><td>true</td></tr><tr><td>FDG45</td><td>Fruits and Vegetables</td><td>211.4902</td><td>3610.6334</td><td>true</td></tr><tr><td>FDI20</td><td>Fruits and Vegetables</td><td>211.5586</td><td>4432.2306</td><td>true</td></tr><tr><td>FDG45</td><td>Fruits and Vegetables</td><td>211.8902</td><td>3823.0236</td><td>true</td></tr><tr><td>FDI20</td><td>Fruits and Vegetables</td><td>212.1586</td><td>5909.6408</td><td>true</td></tr><tr><td>FDB44</td><td>Fruits and Vegetables</td><td>212.4586</td><td>2743.7618</td><td>true</td></tr><tr><td>FDG45</td><td>Fruits and Vegetables</td><td>213.7902</td><td>5946.9256</td><td>true</td></tr><tr><td>FDA32</td><td>Fruits and Vegetables</td><td>214.7192</td><td>3020.0688</td><td>true</td></tr><tr><td>FDA32</td><td>Fruits and Vegetables</td><td>216.0192</td><td>2588.6304</td><td>true</td></tr><tr><td>FDX55</td><td>Fruits and Vegetables</td><td>216.1166</td><td>5007.4818</td><td>true</td></tr><tr><td>FDX55</td><td>Fruits and Vegetables</td><td>216.4166</td><td>2830.3158</td><td>true</td></tr><tr><td>FDA32</td><td>Fruits and Vegetables</td><td>216.6192</td><td>3020.0688</td><td>true</td></tr><tr><td>FDU31</td><td>Fruits and Vegetables</td><td>216.7508</td><td>3038.7112</td><td>true</td></tr><tr><td>FDA32</td><td>Fruits and Vegetables</td><td>216.9192</td><td>6471.576</td><td>true</td></tr><tr><td>FDU31</td><td>Fruits and Vegetables</td><td>217.9508</td><td>2821.6604</td><td>true</td></tr><tr><td>FDU31</td><td>Fruits and Vegetables</td><td>218.4508</td><td>2821.6604</td><td>true</td></tr><tr><td>FDU31</td><td>Fruits and Vegetables</td><td>218.7508</td><td>3255.762</td><td>true</td></tr><tr><td>FDX55</td><td>Fruits and Vegetables</td><td>219.4166</td><td>6096.0648</td><td>true</td></tr><tr><td>FDQ07</td><td>Fruits and Vegetables</td><td>219.8456</td><td>6189.2768</td><td>true</td></tr><tr><td>FDB57</td><td>Fruits and Vegetables</td><td>220.5772</td><td>2446.1492</td><td>true</td></tr><tr><td>FDB57</td><td>Fruits and Vegetables</td><td>220.6772</td><td>2223.772</td><td>true</td></tr><tr><td>FDG32</td><td>Fruits and Vegetables</td><td>220.8772</td><td>4225.1668</td><td>true</td></tr><tr><td>FDQ07</td><td>Fruits and Vegetables</td><td>221.5456</td><td>2873.5928</td><td>true</td></tr><tr><td>FDG32</td><td>Fruits and Vegetables</td><td>221.5772</td><td>3558.0352</td><td>true</td></tr><tr><td>FDQ07</td><td>Fruits and Vegetables</td><td>221.7456</td><td>6410.3224</td><td>true</td></tr><tr><td>FDG32</td><td>Fruits and Vegetables</td><td>222.0772</td><td>2001.3948</td><td>true</td></tr><tr><td>FDB57</td><td>Fruits and Vegetables</td><td>222.0772</td><td>3113.2808</td><td>true</td></tr><tr><td>FDB57</td><td>Fruits and Vegetables</td><td>222.1772</td><td>5559.43</td><td>true</td></tr><tr><td>FDG32</td><td>Fruits and Vegetables</td><td>222.3772</td><td>9562.2196</td><td>true</td></tr><tr><td>FDA55</td><td>Fruits and Vegetables</td><td>222.5088</td><td>5369.0112</td><td>true</td></tr><tr><td>FDM08</td><td>Fruits and Vegetables</td><td>222.9088</td><td>5145.3024</td><td>true</td></tr><tr><td>FDB57</td><td>Fruits and Vegetables</td><td>223.4772</td><td>7116.0704</td><td>true</td></tr><tr><td>FDY56</td><td>Fruits and Vegetables</td><td>223.7062</td><td>4965.5364</td><td>true</td></tr><tr><td>FDM08</td><td>Fruits and Vegetables</td><td>223.7088</td><td>2684.5056</td><td>true</td></tr><tr><td>FDA55</td><td>Fruits and Vegetables</td><td>223.8088</td><td>5592.72</td><td>true</td></tr><tr><td>FDY56</td><td>Fruits and Vegetables</td><td>224.0062</td><td>4288.4178</td><td>true</td></tr><tr><td>FDM08</td><td>Fruits and Vegetables</td><td>224.4088</td><td>4697.8848</td><td>true</td></tr><tr><td>FDM08</td><td>Fruits and Vegetables</td><td>225.1088</td><td>3579.3408</td><td>true</td></tr><tr><td>FDX20</td><td>Fruits and Vegetables</td><td>225.172</td><td>3395.58</td><td>true</td></tr><tr><td>FDC08</td><td>Fruits and Vegetables</td><td>225.272</td><td>4753.812</td><td>true</td></tr><tr><td>FDA55</td><td>Fruits and Vegetables</td><td>225.4088</td><td>2460.7968</td><td>true</td></tr><tr><td>FDC08</td><td>Fruits and Vegetables</td><td>225.472</td><td>3169.208</td><td>true</td></tr><tr><td>FDM08</td><td>Fruits and Vegetables</td><td>225.6088</td><td>4250.4672</td><td>true</td></tr><tr><td>FDW43</td><td>Fruits and Vegetables</td><td>225.9036</td><td>3643.2576</td><td>true</td></tr><tr><td>FDY56</td><td>Fruits and Vegetables</td><td>225.9062</td><td>5416.9488</td><td>true</td></tr><tr><td>FDX20</td><td>Fruits and Vegetables</td><td>226.172</td><td>3169.208</td><td>true</td></tr><tr><td>FDC08</td><td>Fruits and Vegetables</td><td>226.172</td><td>3169.208</td><td>true</td></tr><tr><td>FDW43</td><td>Fruits and Vegetables</td><td>226.6036</td><td>6831.108</td><td>true</td></tr><tr><td>FDR32</td><td>Fruits and Vegetables</td><td>226.7694</td><td>6165.9738</td><td>true</td></tr><tr><td>FDW43</td><td>Fruits and Vegetables</td><td>226.8036</td><td>3415.554</td><td>true</td></tr><tr><td>FDX20</td><td>Fruits and Vegetables</td><td>226.972</td><td>3848.324</td><td>true</td></tr><tr><td>FDX20</td><td>Fruits and Vegetables</td><td>227.072</td><td>4074.696</td><td>true</td></tr><tr><td>FDY56</td><td>Fruits and Vegetables</td><td>227.1062</td><td>5642.655</td><td>true</td></tr><tr><td>FDX20</td><td>Fruits and Vegetables</td><td>227.272</td><td>7017.532</td><td>true</td></tr><tr><td>FDR32</td><td>Fruits and Vegetables</td><td>227.4694</td><td>3197.1716</td><td>true</td></tr><tr><td>FDR32</td><td>Fruits and Vegetables</td><td>227.5694</td><td>3653.9104</td><td>true</td></tr><tr><td>FDY56</td><td>Fruits and Vegetables</td><td>227.6062</td><td>7222.5984</td><td>true</td></tr><tr><td>FDC08</td><td>Fruits and Vegetables</td><td>227.772</td><td>5206.556</td><td>true</td></tr><tr><td>FDX20</td><td>Fruits and Vegetables</td><td>228.372</td><td>2037.348</td><td>true</td></tr><tr><td>FDX20</td><td>Fruits and Vegetables</td><td>228.372</td><td>4527.44</td><td>true</td></tr><tr><td>FDR32</td><td>Fruits and Vegetables</td><td>228.4694</td><td>5480.8656</td><td>true</td></tr><tr><td>FDR32</td><td>Fruits and Vegetables</td><td>229.5694</td><td>3425.541</td><td>true</td></tr><tr><td>FDH08</td><td>Fruits and Vegetables</td><td>229.601</td><td>6201.927</td><td>true</td></tr><tr><td>FDH08</td><td>Fruits and Vegetables</td><td>230.801</td><td>5283.123</td><td>true</td></tr><tr><td>FDX31</td><td>Fruits and Vegetables</td><td>231.7958</td><td>5375.0034</td><td>true</td></tr><tr><td>FDD33</td><td>Fruits and Vegetables</td><td>231.9642</td><td>6970.926</td><td>true</td></tr><tr><td>FDX31</td><td>Fruits and Vegetables</td><td>232.3958</td><td>6076.0908</td><td>true</td></tr><tr><td>FDX19</td><td>Fruits and Vegetables</td><td>232.6958</td><td>5375.0034</td><td>true</td></tr><tr><td>FDX19</td><td>Fruits and Vegetables</td><td>233.1958</td><td>5141.3076</td><td>true</td></tr><tr><td>FDD33</td><td>Fruits and Vegetables</td><td>233.2642</td><td>3950.1914</td><td>true</td></tr><tr><td>FDX31</td><td>Fruits and Vegetables</td><td>233.2958</td><td>4206.5244</td><td>true</td></tr><tr><td>FDD33</td><td>Fruits and Vegetables</td><td>233.3642</td><td>3950.1914</td><td>true</td></tr><tr><td>FDX19</td><td>Fruits and Vegetables</td><td>233.5958</td><td>2336.958</td><td>true</td></tr><tr><td>FDD33</td><td>Fruits and Vegetables</td><td>233.8642</td><td>2323.642</td><td>true</td></tr><tr><td>FDX19</td><td>Fruits and Vegetables</td><td>233.8958</td><td>2103.2622</td><td>true</td></tr><tr><td>FDX31</td><td>Fruits and Vegetables</td><td>234.0958</td><td>2570.6538</td><td>true</td></tr><tr><td>FDX31</td><td>Fruits and Vegetables</td><td>234.4958</td><td>3271.7412</td><td>true</td></tr><tr><td>FDX31</td><td>Fruits and Vegetables</td><td>234.9958</td><td>5842.395</td><td>true</td></tr><tr><td>FDX19</td><td>Fruits and Vegetables</td><td>235.0958</td><td>3038.0454</td><td>true</td></tr><tr><td>FDX19</td><td>Fruits and Vegetables</td><td>235.1958</td><td>4673.916</td><td>true</td></tr><tr><td>FDU43</td><td>Fruits and Vegetables</td><td>237.3564</td><td>2145.2076</td><td>true</td></tr><tr><td>FDS44</td><td>Fruits and Vegetables</td><td>238.3538</td><td>5528.1374</td><td>true</td></tr><tr><td>FDU43</td><td>Fruits and Vegetables</td><td>238.6564</td><td>3575.346</td><td>true</td></tr><tr><td>FDS44</td><td>Fruits and Vegetables</td><td>238.8538</td><td>4566.7222</td><td>true</td></tr><tr><td>FDS44</td><td>Fruits and Vegetables</td><td>238.9538</td><td>4086.0146</td><td>true</td></tr><tr><td>FDS44</td><td>Fruits and Vegetables</td><td>239.6538</td><td>3845.6608</td><td>true</td></tr><tr><td>FDZ43</td><td>Fruits and Vegetables</td><td>240.4512</td><td>7028.1848</td><td>true</td></tr><tr><td>FDZ43</td><td>Fruits and Vegetables</td><td>241.2512</td><td>8239.9408</td><td>true</td></tr><tr><td>FDB21</td><td>Fruits and Vegetables</td><td>241.2854</td><td>5317.0788</td><td>true</td></tr><tr><td>FDQ19</td><td>Fruits and Vegetables</td><td>241.3512</td><td>5331.7264</td><td>true</td></tr><tr><td>FDB21</td><td>Fruits and Vegetables</td><td>241.6854</td><td>6042.135</td><td>true</td></tr><tr><td>FDZ43</td><td>Fruits and Vegetables</td><td>241.7512</td><td>3635.268</td><td>true</td></tr><tr><td>FDS44</td><td>Fruits and Vegetables</td><td>241.7538</td><td>9133.4444</td><td>true</td></tr><tr><td>FDZ43</td><td>Fruits and Vegetables</td><td>241.9512</td><td>2908.2144</td><td>true</td></tr><tr><td>FDQ19</td><td>Fruits and Vegetables</td><td>242.6512</td><td>12117.56</td><td>true</td></tr><tr><td>FDB21</td><td>Fruits and Vegetables</td><td>242.9854</td><td>6767.1912</td><td>true</td></tr><tr><td>FDM20</td><td>Fruits and Vegetables</td><td>243.8144</td><td>4655.2736</td><td>true</td></tr><tr><td>FDL08</td><td>Fruits and Vegetables</td><td>243.9144</td><td>4655.2736</td><td>true</td></tr><tr><td>FDM20</td><td>Fruits and Vegetables</td><td>245.0144</td><td>3185.1872</td><td>true</td></tr><tr><td>FDM20</td><td>Fruits and Vegetables</td><td>245.4144</td><td>7105.4176</td><td>true</td></tr><tr><td>FDM20</td><td>Fruits and Vegetables</td><td>245.4144</td><td>6615.3888</td><td>true</td></tr><tr><td>FDL08</td><td>Fruits and Vegetables</td><td>245.4144</td><td>3675.216</td><td>true</td></tr><tr><td>FDL08</td><td>Fruits and Vegetables</td><td>245.9144</td><td>4655.2736</td><td>true</td></tr><tr><td>FDL08</td><td>Fruits and Vegetables</td><td>246.7144</td><td>5145.3024</td><td>true</td></tr><tr><td>FDL08</td><td>Fruits and Vegetables</td><td>246.8144</td><td>2450.144</td><td>true</td></tr><tr><td>FDM20</td><td>Fruits and Vegetables</td><td>246.9144</td><td>3185.1872</td><td>true</td></tr><tr><td>FDW55</td><td>Fruits and Vegetables</td><td>247.0092</td><td>5478.2024</td><td>true</td></tr><tr><td>FDI08</td><td>Fruits and Vegetables</td><td>247.1092</td><td>2241.0828</td><td>true</td></tr><tr><td>FDI08</td><td>Fruits and Vegetables</td><td>247.2092</td><td>3486.1288</td><td>true</td></tr><tr><td>FDI08</td><td>Fruits and Vegetables</td><td>248.1092</td><td>4233.1564</td><td>true</td></tr><tr><td>FDW55</td><td>Fruits and Vegetables</td><td>248.6092</td><td>3237.1196</td><td>true</td></tr><tr><td>FDW55</td><td>Fruits and Vegetables</td><td>248.8092</td><td>6723.2484</td><td>true</td></tr><tr><td>FDI08</td><td>Fruits and Vegetables</td><td>250.1092</td><td>5727.2116</td><td>true</td></tr><tr><td>FDI08</td><td>Fruits and Vegetables</td><td>250.1092</td><td>4233.1564</td><td>true</td></tr><tr><td>FDI08</td><td>Fruits and Vegetables</td><td>250.2092</td><td>2988.1104</td><td>true</td></tr><tr><td>FDW55</td><td>Fruits and Vegetables</td><td>250.9092</td><td>4731.1748</td><td>true</td></tr><tr><td>FDO20</td><td>Fruits and Vegetables</td><td>252.0382</td><td>4037.4112</td><td>true</td></tr><tr><td>FDZ20</td><td>Fruits and Vegetables</td><td>252.3356</td><td>3815.034</td><td>true</td></tr><tr><td>FDO20</td><td>Fruits and Vegetables</td><td>252.3382</td><td>4794.4258</td><td>true</td></tr><tr><td>FDO20</td><td>Fruits and Vegetables</td><td>252.3382</td><td>6056.1168</td><td>true</td></tr><tr><td>FDO20</td><td>Fruits and Vegetables</td><td>252.6382</td><td>3532.7348</td><td>true</td></tr><tr><td>FDZ20</td><td>Fruits and Vegetables</td><td>253.0356</td><td>11445.102</td><td>true</td></tr><tr><td>FDZ20</td><td>Fruits and Vegetables</td><td>253.2356</td><td>5849.7188</td><td>true</td></tr><tr><td>FDZ20</td><td>Fruits and Vegetables</td><td>253.4356</td><td>2797.6916</td><td>true</td></tr><tr><td>FDO20</td><td>Fruits and Vegetables</td><td>253.7382</td><td>2271.0438</td><td>true</td></tr><tr><td>FDZ20</td><td>Fruits and Vegetables</td><td>255.2356</td><td>6867.0612</td><td>true</td></tr><tr><td>FDT07</td><td>Fruits and Vegetables</td><td>255.333</td><td>4870.327</td><td>true</td></tr><tr><td>FDY55</td><td>Fruits and Vegetables</td><td>255.3988</td><td>4625.9784</td><td>true</td></tr><tr><td>FDT07</td><td>Fruits and Vegetables</td><td>255.433</td><td>4357.661</td><td>true</td></tr><tr><td>FDZ20</td><td>Fruits and Vegetables</td><td>255.7356</td><td>2543.356</td><td>true</td></tr><tr><td>FDY55</td><td>Fruits and Vegetables</td><td>255.7988</td><td>9251.9568</td><td>true</td></tr><tr><td>FDZ20</td><td>Fruits and Vegetables</td><td>256.1356</td><td>6358.39</td><td>true</td></tr><tr><td>FDT07</td><td>Fruits and Vegetables</td><td>256.433</td><td>3844.995</td><td>true</td></tr><tr><td>FDD44</td><td>Fruits and Vegetables</td><td>256.4646</td><td>5153.292</td><td>true</td></tr><tr><td>FDY55</td><td>Fruits and Vegetables</td><td>256.4988</td><td>7452.9652</td><td>true</td></tr><tr><td>FDT07</td><td>Fruits and Vegetables</td><td>256.633</td><td>2050.664</td><td>true</td></tr><tr><td>FDD44</td><td>Fruits and Vegetables</td><td>257.0646</td><td>8760.5964</td><td>true</td></tr><tr><td>FDY55</td><td>Fruits and Vegetables</td><td>257.0988</td><td>6424.97</td><td>true</td></tr><tr><td>FDT07</td><td>Fruits and Vegetables</td><td>257.133</td><td>7433.657</td><td>true</td></tr><tr><td>FDD44</td><td>Fruits and Vegetables</td><td>257.1646</td><td>6183.9504</td><td>true</td></tr><tr><td>FDD44</td><td>Fruits and Vegetables</td><td>257.5646</td><td>5153.292</td><td>true</td></tr><tr><td>FDT07</td><td>Fruits and Vegetables</td><td>257.633</td><td>4613.994</td><td>true</td></tr><tr><td>FDY55</td><td>Fruits and Vegetables</td><td>258.0988</td><td>8994.958</td><td>true</td></tr><tr><td>FDY55</td><td>Fruits and Vegetables</td><td>258.4988</td><td>4111.9808</td><td>true</td></tr><tr><td>FDD44</td><td>Fruits and Vegetables</td><td>258.5646</td><td>3091.9752</td><td>true</td></tr><tr><td>FDD44</td><td>Fruits and Vegetables</td><td>259.0646</td><td>4380.2982</td><td>true</td></tr><tr><td>FDU55</td><td>Fruits and Vegetables</td><td>260.3278</td><td>2342.9502</td><td>true</td></tr><tr><td>FDU55</td><td>Fruits and Vegetables</td><td>260.3278</td><td>7549.5062</td><td>true</td></tr><tr><td>FDU55</td><td>Fruits and Vegetables</td><td>260.6278</td><td>4425.5726</td><td>true</td></tr><tr><td>FDU55</td><td>Fruits and Vegetables</td><td>260.6278</td><td>9371.8008</td><td>true</td></tr><tr><td>FDS56</td><td>Fruits and Vegetables</td><td>260.7252</td><td>6033.4796</td><td>true</td></tr><tr><td>FDS56</td><td>Fruits and Vegetables</td><td>262.0252</td><td>4459.5284</td><td>true</td></tr><tr><td>FDS56</td><td>Fruits and Vegetables</td><td>263.9252</td><td>6033.4796</td><td>true</td></tr><tr><td>FDS56</td><td>Fruits and Vegetables</td><td>264.2252</td><td>3934.878</td><td>true</td></tr><tr><td>DRI59</td><td>Hard Drinks</td><td>223.5088</td><td>4697.8848</td><td>true</td></tr><tr><td>DRI59</td><td>Hard Drinks</td><td>224.6088</td><td>4474.176</td><td>true</td></tr><tr><td>DRK47</td><td>Hard Drinks</td><td>229.9694</td><td>4567.388</td><td>true</td></tr><tr><td>DRK47</td><td>Hard Drinks</td><td>230.2694</td><td>3197.1716</td><td>true</td></tr><tr><td>DRK47</td><td>Hard Drinks</td><td>230.2694</td><td>4567.388</td><td>true</td></tr><tr><td>DRK59</td><td>Hard Drinks</td><td>232.9616</td><td>2812.3392</td><td>true</td></tr><tr><td>DRK59</td><td>Hard Drinks</td><td>233.9616</td><td>4452.8704</td><td>true</td></tr><tr><td>DRK59</td><td>Hard Drinks</td><td>235.8616</td><td>3046.7008</td><td>true</td></tr><tr><td>DRP47</td><td>Hard Drinks</td><td>250.5382</td><td>2775.7202</td><td>true</td></tr><tr><td>DRK23</td><td>Hard Drinks</td><td>251.504</td><td>7084.112</td><td>true</td></tr><tr><td>DRK23</td><td>Hard Drinks</td><td>251.904</td><td>4301.068</td><td>true</td></tr><tr><td>DRP47</td><td>Hard Drinks</td><td>252.7382</td><td>3280.3966</td><td>true</td></tr><tr><td>DRP47</td><td>Hard Drinks</td><td>252.8382</td><td>6308.455</td><td>true</td></tr><tr><td>DRP47</td><td>Hard Drinks</td><td>252.9382</td><td>2775.7202</td><td>true</td></tr><tr><td>DRK23</td><td>Hard Drinks</td><td>253.704</td><td>4554.072</td><td>true</td></tr><tr><td>DRK23</td><td>Hard Drinks</td><td>254.104</td><td>3542.056</td><td>true</td></tr><tr><td>DRK23</td><td>Hard Drinks</td><td>254.804</td><td>7843.124</td><td>true</td></tr><tr><td>DRM11</td><td>Hard Drinks</td><td>259.7278</td><td>2863.6058</td><td>true</td></tr><tr><td>DRM11</td><td>Hard Drinks</td><td>261.0278</td><td>4165.2448</td><td>true</td></tr><tr><td>DRM11</td><td>Hard Drinks</td><td>261.4278</td><td>4165.2448</td><td>true</td></tr><tr><td>NCR05</td><td>Health and Hygiene</td><td>200.2084</td><td>3174.5344</td><td>true</td></tr><tr><td>NCX41</td><td>Health and Hygiene</td><td>210.8244</td><td>2540.6928</td><td>true</td></tr><tr><td>NCX41</td><td>Health and Hygiene</td><td>211.0244</td><td>3811.0392</td><td>true</td></tr><tr><td>NCX41</td><td>Health and Hygiene</td><td>211.7244</td><td>2752.4172</td><td>true</td></tr><tr><td>NCR53</td><td>Health and Hygiene</td><td>224.0404</td><td>3375.606</td><td>true</td></tr><tr><td>NCR53</td><td>Health and Hygiene</td><td>224.4404</td><td>6976.2524</td><td>true</td></tr><tr><td>NCR53</td><td>Health and Hygiene</td><td>224.4404</td><td>5626.01</td><td>true</td></tr><tr><td>NCR53</td><td>Health and Hygiene</td><td>225.0404</td><td>4950.8888</td><td>true</td></tr><tr><td>NCX17</td><td>Health and Hygiene</td><td>231.23</td><td>3029.39</td><td>true</td></tr><tr><td>NCX17</td><td>Health and Hygiene</td><td>233.03</td><td>5592.72</td><td>true</td></tr><tr><td>NCQ53</td><td>Health and Hygiene</td><td>234.659</td><td>8508.924</td><td>true</td></tr><tr><td>NCQ53</td><td>Health and Hygiene</td><td>235.259</td><td>5672.616</td><td>true</td></tr><tr><td>NCP53</td><td>Health and Hygiene</td><td>235.6906</td><td>5704.5744</td><td>true</td></tr><tr><td>NCQ53</td><td>Health and Hygiene</td><td>236.259</td><td>4727.18</td><td>true</td></tr><tr><td>NCP53</td><td>Health and Hygiene</td><td>236.6906</td><td>3089.9778</td><td>true</td></tr><tr><td>NCQ53</td><td>Health and Hygiene</td><td>237.059</td><td>2836.308</td><td>true</td></tr><tr><td>NCQ53</td><td>Health and Hygiene</td><td>237.159</td><td>3072.667</td><td>true</td></tr><tr><td>NCP53</td><td>Health and Hygiene</td><td>237.2906</td><td>3089.9778</td><td>true</td></tr><tr><td>NCQ53</td><td>Health and Hygiene</td><td>237.359</td><td>6145.334</td><td>true</td></tr><tr><td>NCQ53</td><td>Health and Hygiene</td><td>237.759</td><td>3545.385</td><td>true</td></tr><tr><td>NCV53</td><td>Health and Hygiene</td><td>237.988</td><td>7190.64</td><td>true</td></tr><tr><td>NCV53</td><td>Health and Hygiene</td><td>238.088</td><td>6231.888</td><td>true</td></tr><tr><td>NCV53</td><td>Health and Hygiene</td><td>238.188</td><td>3835.008</td><td>true</td></tr><tr><td>NCP53</td><td>Health and Hygiene</td><td>238.6906</td><td>4278.4308</td><td>true</td></tr><tr><td>NCC54</td><td>Health and Hygiene</td><td>239.3196</td><td>3615.294</td><td>true</td></tr><tr><td>NCC54</td><td>Health and Hygiene</td><td>240.4196</td><td>4579.3724</td><td>true</td></tr><tr><td>NCC54</td><td>Health and Hygiene</td><td>240.9196</td><td>4579.3724</td><td>true</td></tr><tr><td>NCV53</td><td>Health and Hygiene</td><td>241.288</td><td>5512.824</td><td>true</td></tr><tr><td>NCC54</td><td>Health and Hygiene</td><td>242.1196</td><td>4097.3332</td><td>true</td></tr><tr><td>NCC54</td><td>Health and Hygiene</td><td>242.4196</td><td>5543.4508</td><td>true</td></tr><tr><td>NCT05</td><td>Health and Hygiene</td><td>255.6672</td><td>4346.3424</td><td>true</td></tr><tr><td>NCT05</td><td>Health and Hygiene</td><td>255.9672</td><td>4857.6768</td><td>true</td></tr><tr><td>NCT05</td><td>Health and Hygiene</td><td>256.5672</td><td>4090.6752</td><td>true</td></tr><tr><td>NCQ29</td><td>Health and Hygiene</td><td>259.5278</td><td>2603.278</td><td>true</td></tr><tr><td>NCM05</td><td>Health and Hygiene</td><td>262.4226</td><td>3964.839</td><td>true</td></tr><tr><td>NCM05</td><td>Health and Hygiene</td><td>262.5226</td><td>9779.9362</td><td>true</td></tr><tr><td>NCM05</td><td>Health and Hygiene</td><td>263.7226</td><td>6872.3876</td><td>true</td></tr><tr><td>NCS29</td><td>Health and Hygiene</td><td>264.0884</td><td>4504.8028</td><td>true</td></tr><tr><td>NCM05</td><td>Health and Hygiene</td><td>264.3226</td><td>4229.1616</td><td>true</td></tr><tr><td>NCS29</td><td>Health and Hygiene</td><td>264.8884</td><td>2914.8724</td><td>true</td></tr><tr><td>NCS29</td><td>Health and Hygiene</td><td>266.2884</td><td>2914.8724</td><td>true</td></tr><tr><td>NCS29</td><td>Health and Hygiene</td><td>266.5884</td><td>6624.71</td><td>true</td></tr><tr><td>NCS29</td><td>Health and Hygiene</td><td>266.6884</td><td>3974.826</td><td>true</td></tr><tr><td>NCI42</td><td>Household</td><td>207.0954</td><td>3125.931</td><td>true</td></tr><tr><td>NCI42</td><td>Household</td><td>208.3954</td><td>2709.1402</td><td>true</td></tr><tr><td>NCU54</td><td>Household</td><td>208.427</td><td>5452.902</td><td>true</td></tr><tr><td>NCI42</td><td>Household</td><td>208.4954</td><td>3751.1172</td><td>true</td></tr><tr><td>NCU54</td><td>Household</td><td>208.527</td><td>3145.905</td><td>true</td></tr><tr><td>NCU54</td><td>Household</td><td>208.927</td><td>7130.718</td><td>true</td></tr><tr><td>NCI42</td><td>Household</td><td>209.4954</td><td>2500.7448</td><td>true</td></tr><tr><td>NCE30</td><td>Household</td><td>210.4902</td><td>3610.6334</td><td>true</td></tr><tr><td>NCU54</td><td>Household</td><td>210.727</td><td>4194.54</td><td>true</td></tr><tr><td>NCE30</td><td>Household</td><td>210.7902</td><td>4460.1942</td><td>true</td></tr><tr><td>NCQ50</td><td>Household</td><td>211.7218</td><td>5770.4886</td><td>true</td></tr><tr><td>NCQ50</td><td>Household</td><td>211.9218</td><td>3419.5488</td><td>true</td></tr><tr><td>NCQ50</td><td>Household</td><td>213.3218</td><td>3419.5488</td><td>true</td></tr><tr><td>NCQ50</td><td>Household</td><td>214.1218</td><td>4488.1578</td><td>true</td></tr><tr><td>NCK42</td><td>Household</td><td>214.5192</td><td>2804.3496</td><td>true</td></tr><tr><td>NCQ50</td><td>Household</td><td>215.2218</td><td>4701.8796</td><td>true</td></tr><tr><td>NCQ50</td><td>Household</td><td>215.7218</td><td>4274.436</td><td>true</td></tr><tr><td>NCK42</td><td>Household</td><td>215.9192</td><td>7334.4528</td><td>true</td></tr><tr><td>NCH43</td><td>Household</td><td>216.4192</td><td>3020.0688</td><td>true</td></tr><tr><td>NCK42</td><td>Household</td><td>217.4192</td><td>4314.384</td><td>true</td></tr><tr><td>NCW42</td><td>Household</td><td>220.5456</td><td>3094.6384</td><td>true</td></tr><tr><td>NCW42</td><td>Household</td><td>220.7456</td><td>4420.912</td><td>true</td></tr><tr><td>NCW42</td><td>Household</td><td>220.8456</td><td>4199.8664</td><td>true</td></tr><tr><td>NCI18</td><td>Household</td><td>222.3746</td><td>5609.365</td><td>true</td></tr><tr><td>NCI18</td><td>Household</td><td>223.5746</td><td>3589.9936</td><td>true</td></tr><tr><td>NCI18</td><td>Household</td><td>224.5746</td><td>2692.4952</td><td>true</td></tr><tr><td>NCH42</td><td>Household</td><td>227.801</td><td>3904.917</td><td>true</td></tr><tr><td>NCD18</td><td>Household</td><td>228.3668</td><td>5298.4364</td><td>true</td></tr><tr><td>NCD18</td><td>Household</td><td>228.4668</td><td>2534.0348</td><td>true</td></tr><tr><td>NCU06</td><td>Household</td><td>228.801</td><td>3215.814</td><td>true</td></tr><tr><td>NCH42</td><td>Household</td><td>229.601</td><td>2526.711</td><td>true</td></tr><tr><td>NCD18</td><td>Household</td><td>229.8668</td><td>4837.7028</td><td>true</td></tr><tr><td>NCD18</td><td>Household</td><td>230.2668</td><td>8062.838</td><td>true</td></tr><tr><td>NCJ54</td><td>Household</td><td>230.6642</td><td>4647.284</td><td>true</td></tr><tr><td>NCJ54</td><td>Household</td><td>230.8642</td><td>4414.9198</td><td>true</td></tr><tr><td>NCU06</td><td>Household</td><td>230.901</td><td>4364.319</td><td>true</td></tr><tr><td>NCH42</td><td>Household</td><td>231.201</td><td>6201.927</td><td>true</td></tr><tr><td>NCD18</td><td>Household</td><td>231.3668</td><td>4607.336</td><td>true</td></tr><tr><td>NCH42</td><td>Household</td><td>231.601</td><td>7580.133</td><td>true</td></tr><tr><td>NCJ54</td><td>Household</td><td>231.7642</td><td>5344.3766</td><td>true</td></tr><tr><td>NCJ54</td><td>Household</td><td>233.0642</td><td>6041.4692</td><td>true</td></tr><tr><td>NCJ54</td><td>Household</td><td>234.2642</td><td>3717.8272</td><td>true</td></tr><tr><td>NCE42</td><td>Household</td><td>234.2958</td><td>3739.1328</td><td>true</td></tr><tr><td>NCG19</td><td>Household</td><td>234.8616</td><td>2812.3392</td><td>true</td></tr><tr><td>NCE42</td><td>Household</td><td>234.9958</td><td>13086.9648</td><td>true</td></tr><tr><td>NCE42</td><td>Household</td><td>235.3958</td><td>3271.7412</td><td>true</td></tr><tr><td>NCZ42</td><td>Household</td><td>235.5248</td><td>4740.496</td><td>true</td></tr><tr><td>NCZ42</td><td>Household</td><td>235.8248</td><td>4266.4464</td><td>true</td></tr><tr><td>NCZ42</td><td>Household</td><td>236.5248</td><td>4029.4216</td><td>true</td></tr><tr><td>NCZ42</td><td>Household</td><td>237.0248</td><td>5451.5704</td><td>true</td></tr><tr><td>NCW18</td><td>Household</td><td>237.7248</td><td>2607.2728</td><td>true</td></tr><tr><td>NCW18</td><td>Household</td><td>238.1248</td><td>4266.4464</td><td>true</td></tr><tr><td>NCW18</td><td>Household</td><td>238.9248</td><td>6636.6944</td><td>true</td></tr><tr><td>NCL42</td><td>Household</td><td>244.0144</td><td>5635.3312</td><td>true</td></tr><tr><td>NCL42</td><td>Household</td><td>244.3144</td><td>5635.3312</td><td>true</td></tr><tr><td>NCI30</td><td>Household</td><td>245.046</td><td>4680.574</td><td>true</td></tr><tr><td>NCH18</td><td>Household</td><td>245.2802</td><td>10072.8882</td><td>true</td></tr><tr><td>NCH18</td><td>Household</td><td>245.4802</td><td>3193.8426</td><td>true</td></tr><tr><td>NCH06</td><td>Household</td><td>245.646</td><td>3695.19</td><td>true</td></tr><tr><td>NCX30</td><td>Household</td><td>245.8776</td><td>4210.5192</td><td>true</td></tr><tr><td>NCH18</td><td>Household</td><td>246.1802</td><td>2702.4822</td><td>true</td></tr><tr><td>NCI30</td><td>Household</td><td>246.446</td><td>3695.19</td><td>true</td></tr><tr><td>NCL42</td><td>Household</td><td>246.7144</td><td>6615.3888</td><td>true</td></tr><tr><td>NCX30</td><td>Household</td><td>247.2776</td><td>6191.94</td><td>true</td></tr><tr><td>NCE18</td><td>Household</td><td>247.775</td><td>3745.125</td><td>true</td></tr><tr><td>NCH06</td><td>Household</td><td>247.846</td><td>3448.844</td><td>true</td></tr><tr><td>NCH06</td><td>Household</td><td>247.946</td><td>3202.498</td><td>true</td></tr><tr><td>NCE18</td><td>Household</td><td>248.175</td><td>3495.45</td><td>true</td></tr><tr><td>NCE18</td><td>Household</td><td>248.375</td><td>7240.575</td><td>true</td></tr><tr><td>NCX30</td><td>Household</td><td>248.4776</td><td>6439.6176</td><td>true</td></tr><tr><td>NCX30</td><td>Household</td><td>249.2776</td><td>4210.5192</td><td>true</td></tr><tr><td>NCC43</td><td>Household</td><td>249.5066</td><td>4267.1122</td><td>true</td></tr><tr><td>NCE18</td><td>Household</td><td>250.175</td><td>2996.1</td><td>true</td></tr><tr><td>NCR38</td><td>Household</td><td>251.3724</td><td>6795.1548</td><td>true</td></tr><tr><td>NCE18</td><td>Household</td><td>251.675</td><td>4244.475</td><td>true</td></tr><tr><td>NCZ06</td><td>Household</td><td>251.8698</td><td>3551.3772</td><td>true</td></tr><tr><td>NCC43</td><td>Household</td><td>251.9066</td><td>4267.1122</td><td>true</td></tr><tr><td>NCZ06</td><td>Household</td><td>251.9698</td><td>4566.0564</td><td>true</td></tr><tr><td>NCZ06</td><td>Household</td><td>252.2698</td><td>2790.3678</td><td>true</td></tr><tr><td>NCZ18</td><td>Household</td><td>253.0698</td><td>6088.0752</td><td>true</td></tr><tr><td>NCR38</td><td>Household</td><td>253.1724</td><td>3775.086</td><td>true</td></tr><tr><td>NCZ18</td><td>Household</td><td>253.4698</td><td>6849.0846</td><td>true</td></tr><tr><td>NCR38</td><td>Household</td><td>253.4724</td><td>6040.1376</td><td>true</td></tr><tr><td>NCZ18</td><td>Household</td><td>253.5698</td><td>3805.047</td><td>true</td></tr><tr><td>NCR38</td><td>Household</td><td>253.5724</td><td>5033.448</td><td>true</td></tr><tr><td>NCQ06</td><td>Household</td><td>253.6014</td><td>6630.0364</td><td>true</td></tr><tr><td>NCZ06</td><td>Household</td><td>253.8698</td><td>3297.7074</td><td>true</td></tr><tr><td>NCQ06</td><td>Household</td><td>254.1014</td><td>3315.0182</td><td>true</td></tr><tr><td>NCZ18</td><td>Household</td><td>254.3698</td><td>5580.7356</td><td>true</td></tr><tr><td>NCK30</td><td>Household</td><td>254.3698</td><td>4566.0564</td><td>true</td></tr><tr><td>NCQ06</td><td>Household</td><td>254.5014</td><td>4845.0266</td><td>true</td></tr><tr><td>NCQ06</td><td>Household</td><td>254.7014</td><td>5100.028</td><td>true</td></tr><tr><td>NCZ06</td><td>Household</td><td>254.7698</td><td>5327.0658</td><td>true</td></tr><tr><td>NCK30</td><td>Household</td><td>254.8698</td><td>4819.7262</td><td>true</td></tr><tr><td>NCZ06</td><td>Household</td><td>254.9698</td><td>2536.698</td><td>true</td></tr><tr><td>NCQ06</td><td>Household</td><td>255.0014</td><td>5865.0322</td><td>true</td></tr><tr><td>NCZ18</td><td>Household</td><td>255.4698</td><td>5073.396</td><td>true</td></tr><tr><td>NCQ06</td><td>Household</td><td>255.9014</td><td>3315.0182</td><td>true</td></tr><tr><td>NCQ06</td><td>Household</td><td>256.1014</td><td>2550.014</td><td>true</td></tr><tr><td>NCG06</td><td>Household</td><td>256.1646</td><td>5926.2858</td><td>true</td></tr><tr><td>NCQ06</td><td>Household</td><td>256.7014</td><td>2805.0154</td><td>true</td></tr><tr><td>NCG06</td><td>Household</td><td>256.9646</td><td>4637.9628</td><td>true</td></tr><tr><td>NCW30</td><td>Household</td><td>257.8962</td><td>4402.9354</td><td>true</td></tr><tr><td>NCW30</td><td>Household</td><td>259.5962</td><td>2848.9582</td><td>true</td></tr><tr><td>NCF06</td><td>Household</td><td>260.8962</td><td>5956.9126</td><td>true</td></tr><tr><td>NCL06</td><td>Household</td><td>260.9594</td><td>2878.2534</td><td>true</td></tr><tr><td>NCS06</td><td>Household</td><td>260.991</td><td>7100.757</td><td>true</td></tr><tr><td>NCS06</td><td>Household</td><td>261.291</td><td>2892.901</td><td>true</td></tr><tr><td>NCS06</td><td>Household</td><td>261.591</td><td>3155.892</td><td>true</td></tr><tr><td>NCB31</td><td>Household</td><td>261.691</td><td>3155.892</td><td>true</td></tr><tr><td>NCB31</td><td>Household</td><td>262.891</td><td>5522.811</td><td>true</td></tr><tr><td>NCL06</td><td>Household</td><td>262.9594</td><td>5233.188</td><td>true</td></tr><tr><td>NCS06</td><td>Household</td><td>263.091</td><td>5522.811</td><td>true</td></tr><tr><td>NCB31</td><td>Household</td><td>263.291</td><td>3418.883</td><td>true</td></tr><tr><td>NCB31</td><td>Household</td><td>263.991</td><td>4207.856</td><td>true</td></tr><tr><td>FDR03</td><td>Meat</td><td>204.998</td><td>5366.348</td><td>true</td></tr><tr><td>FDR03</td><td>Meat</td><td>207.898</td><td>3095.97</td><td>true</td></tr><tr><td>FDX39</td><td>Meat</td><td>209.7586</td><td>5487.5236</td><td>true</td></tr><tr><td>FDX39</td><td>Meat</td><td>210.3586</td><td>6331.758</td><td>true</td></tr><tr><td>FDX39</td><td>Meat</td><td>212.4586</td><td>3799.0548</td><td>true</td></tr><tr><td>FDX39</td><td>Meat</td><td>212.5586</td><td>3165.879</td><td>true</td></tr><tr><td>FDW51</td><td>Meat</td><td>213.356</td><td>6817.792</td><td>true</td></tr><tr><td>FDW51</td><td>Meat</td><td>213.356</td><td>3835.008</td><td>true</td></tr><tr><td>FDW51</td><td>Meat</td><td>213.456</td><td>2556.672</td><td>true</td></tr><tr><td>FDW51</td><td>Meat</td><td>214.556</td><td>2769.728</td><td>true</td></tr><tr><td>FDY51</td><td>Meat</td><td>220.0798</td><td>4848.3556</td><td>true</td></tr><tr><td>FDY51</td><td>Meat</td><td>220.7798</td><td>6611.394</td><td>true</td></tr><tr><td>FDY51</td><td>Meat</td><td>220.8798</td><td>6170.6344</td><td>true</td></tr><tr><td>FDY51</td><td>Meat</td><td>221.7798</td><td>3085.3172</td><td>true</td></tr><tr><td>FDJ55</td><td>Meat</td><td>223.5404</td><td>5626.01</td><td>true</td></tr><tr><td>FDJ55</td><td>Meat</td><td>223.8404</td><td>7201.2928</td><td>true</td></tr><tr><td>FDJ55</td><td>Meat</td><td>225.9404</td><td>4950.8888</td><td>true</td></tr><tr><td>FDJ55</td><td>Meat</td><td>226.0404</td><td>5400.9696</td><td>true</td></tr><tr><td>FDJ55</td><td>Meat</td><td>226.8404</td><td>4500.808</td><td>true</td></tr><tr><td>FDO03</td><td>Meat</td><td>227.9352</td><td>4809.7392</td><td>true</td></tr><tr><td>FDO03</td><td>Meat</td><td>228.1352</td><td>9390.4432</td><td>true</td></tr><tr><td>FDO03</td><td>Meat</td><td>230.5352</td><td>4580.704</td><td>true</td></tr><tr><td>FDT27</td><td>Meat</td><td>232.8616</td><td>2812.3392</td><td>true</td></tr><tr><td>FDT27</td><td>Meat</td><td>232.9616</td><td>3515.424</td><td>true</td></tr><tr><td>FDT27</td><td>Meat</td><td>233.1616</td><td>6093.4016</td><td>true</td></tr><tr><td>FDT27</td><td>Meat</td><td>234.6616</td><td>4687.232</td><td>true</td></tr><tr><td>FDQ03</td><td>Meat</td><td>238.8248</td><td>3555.372</td><td>true</td></tr><tr><td>FDI19</td><td>Meat</td><td>242.7512</td><td>4119.9704</td><td>true</td></tr><tr><td>FDI19</td><td>Meat</td><td>242.8512</td><td>5816.4288</td><td>true</td></tr><tr><td>FDI19</td><td>Meat</td><td>242.9512</td><td>4847.024</td><td>true</td></tr><tr><td>FDI19</td><td>Meat</td><td>243.1512</td><td>4604.6728</td><td>true</td></tr><tr><td>FDI19</td><td>Meat</td><td>244.2512</td><td>3635.268</td><td>true</td></tr><tr><td>FDN03</td><td>Meat</td><td>248.6408</td><td>6759.2016</td><td>true</td></tr><tr><td>FDN03</td><td>Meat</td><td>250.1408</td><td>4005.4528</td><td>true</td></tr><tr><td>FDP15</td><td>Meat</td><td>255.433</td><td>9227.988</td><td>true</td></tr><tr><td>FDN51</td><td>Meat</td><td>260.2936</td><td>4175.8976</td><td>true</td></tr><tr><td>FDN51</td><td>Meat</td><td>260.7936</td><td>4697.8848</td><td>true</td></tr><tr><td>FDN51</td><td>Meat</td><td>261.5936</td><td>6002.8528</td><td>true</td></tr><tr><td>NCO07</td><td>Others</td><td>211.856</td><td>3621.952</td><td>true</td></tr><tr><td>NCO07</td><td>Others</td><td>213.256</td><td>4687.232</td><td>true</td></tr><tr><td>NCN55</td><td>Others</td><td>238.8538</td><td>6008.845</td><td>true</td></tr><tr><td>NCJ31</td><td>Others</td><td>239.2196</td><td>5061.4116</td><td>true</td></tr><tr><td>NCN55</td><td>Others</td><td>239.2538</td><td>3605.307</td><td>true</td></tr><tr><td>NCJ31</td><td>Others</td><td>240.6196</td><td>4579.3724</td><td>true</td></tr><tr><td>NCN55</td><td>Others</td><td>241.2538</td><td>5287.7836</td><td>true</td></tr><tr><td>NCN55</td><td>Others</td><td>242.3538</td><td>5287.7836</td><td>true</td></tr><tr><td>NCJ31</td><td>Others</td><td>243.0196</td><td>3374.2744</td><td>true</td></tr><tr><td>NCJ31</td><td>Others</td><td>243.0196</td><td>3615.294</td><td>true</td></tr><tr><td>NCL55</td><td>Others</td><td>253.404</td><td>4807.076</td><td>true</td></tr><tr><td>NCL55</td><td>Others</td><td>253.704</td><td>5060.08</td><td>true</td></tr><tr><td>NCL55</td><td>Others</td><td>254.904</td><td>4048.064</td><td>true</td></tr><tr><td>FDI09</td><td>Seafood</td><td>238.188</td><td>5033.448</td><td>true</td></tr><tr><td>FDI09</td><td>Seafood</td><td>239.988</td><td>2636.568</td><td>true</td></tr><tr><td>FDI09</td><td>Seafood</td><td>240.188</td><td>5992.2</td><td>true</td></tr><tr><td>FDZ45</td><td>Snack Foods</td><td>200.4084</td><td>3968.168</td><td>true</td></tr><tr><td>FDI22</td><td>Snack Foods</td><td>207.2612</td><td>4390.2852</td><td>true</td></tr><tr><td>FDI22</td><td>Snack Foods</td><td>208.6612</td><td>7317.142</td><td>true</td></tr><tr><td>FDI22</td><td>Snack Foods</td><td>208.7612</td><td>5226.53</td><td>true</td></tr><tr><td>FDX22</td><td>Snack Foods</td><td>208.7928</td><td>5890.9984</td><td>true</td></tr><tr><td>FDI22</td><td>Snack Foods</td><td>208.9612</td><td>4181.224</td><td>true</td></tr><tr><td>FDB47</td><td>Snack Foods</td><td>210.6612</td><td>2508.7344</td><td>true</td></tr><tr><td>FDI22</td><td>Snack Foods</td><td>210.8612</td><td>3344.9792</td><td>true</td></tr><tr><td>FDX22</td><td>Snack Foods</td><td>211.0928</td><td>4418.2488</td><td>true</td></tr><tr><td>FDK33</td><td>Snack Foods</td><td>211.556</td><td>5752.512</td><td>true</td></tr><tr><td>FDK33</td><td>Snack Foods</td><td>211.656</td><td>2556.672</td><td>true</td></tr><tr><td>FDP09</td><td>Snack Foods</td><td>211.6902</td><td>4247.804</td><td>true</td></tr><tr><td>FDF22</td><td>Snack Foods</td><td>211.8218</td><td>4915.6014</td><td>true</td></tr><tr><td>FDB46</td><td>Snack Foods</td><td>211.8244</td><td>3387.5904</td><td>true</td></tr><tr><td>FDB46</td><td>Snack Foods</td><td>211.9244</td><td>4869.6612</td><td>true</td></tr><tr><td>FDK33</td><td>Snack Foods</td><td>211.956</td><td>4474.176</td><td>true</td></tr><tr><td>FDP09</td><td>Snack Foods</td><td>212.0902</td><td>3185.853</td><td>true</td></tr><tr><td>FDF22</td><td>Snack Foods</td><td>212.8218</td><td>5770.4886</td><td>true</td></tr><tr><td>FDM10</td><td>Snack Foods</td><td>212.9218</td><td>3846.9924</td><td>true</td></tr><tr><td>FDP09</td><td>Snack Foods</td><td>213.2902</td><td>4247.804</td><td>true</td></tr><tr><td>FDM10</td><td>Snack Foods</td><td>213.4218</td><td>3846.9924</td><td>true</td></tr><tr><td>FDK33</td><td>Snack Foods</td><td>213.456</td><td>4261.12</td><td>true</td></tr><tr><td>FDP09</td><td>Snack Foods</td><td>213.5902</td><td>4460.1942</td><td>true</td></tr><tr><td>FDB46</td><td>Snack Foods</td><td>213.7244</td><td>4022.7636</td><td>true</td></tr><tr><td>FDK33</td><td>Snack Foods</td><td>213.756</td><td>3408.896</td><td>true</td></tr><tr><td>FDF22</td><td>Snack Foods</td><td>214.0218</td><td>5556.7668</td><td>true</td></tr><tr><td>FDM10</td><td>Snack Foods</td><td>214.0218</td><td>2564.6616</td><td>true</td></tr><tr><td>FDF22</td><td>Snack Foods</td><td>214.5218</td><td>2778.3834</td><td>true</td></tr><tr><td>FDK22</td><td>Snack Foods</td><td>214.885</td><td>4976.855</td><td>true</td></tr><tr><td>FDM10</td><td>Snack Foods</td><td>215.1218</td><td>3205.827</td><td>true</td></tr><tr><td>FDK22</td><td>Snack Foods</td><td>217.585</td><td>4327.7</td><td>true</td></tr><tr><td>FDP58</td><td>Snack Foods</td><td>218.3482</td><td>2847.6266</td><td>true</td></tr><tr><td>FDM33</td><td>Snack Foods</td><td>218.5798</td><td>4407.596</td><td>true</td></tr><tr><td>FDP58</td><td>Snack Foods</td><td>220.0482</td><td>2628.5784</td><td>true</td></tr><tr><td>FDM33</td><td>Snack Foods</td><td>220.1798</td><td>5068.7354</td><td>true</td></tr><tr><td>FDP58</td><td>Snack Foods</td><td>220.7482</td><td>4380.964</td><td>true</td></tr><tr><td>FDM33</td><td>Snack Foods</td><td>221.5798</td><td>5509.495</td><td>true</td></tr><tr><td>FDW22</td><td>Snack Foods</td><td>222.0114</td><td>6207.9192</td><td>true</td></tr><tr><td>FDN45</td><td>Snack Foods</td><td>222.6088</td><td>6040.1376</td><td>true</td></tr><tr><td>FDN45</td><td>Snack Foods</td><td>222.7088</td><td>4026.7584</td><td>true</td></tr><tr><td>FDW22</td><td>Snack Foods</td><td>222.9114</td><td>5764.4964</td><td>true</td></tr><tr><td>FDO21</td><td>Snack Foods</td><td>223.1404</td><td>5175.9292</td><td>true</td></tr><tr><td>FDC47</td><td>Snack Foods</td><td>226.9694</td><td>6851.082</td><td>true</td></tr><tr><td>FDK09</td><td>Snack Foods</td><td>227.2352</td><td>4122.6336</td><td>true</td></tr><tr><td>FDY58</td><td>Snack Foods</td><td>227.3694</td><td>4567.388</td><td>true</td></tr><tr><td>FDR34</td><td>Snack Foods</td><td>228.0352</td><td>2748.4224</td><td>true</td></tr><tr><td>FDR34</td><td>Snack Foods</td><td>228.4352</td><td>8245.2672</td><td>true</td></tr><tr><td>FDR34</td><td>Snack Foods</td><td>228.8352</td><td>4351.6688</td><td>true</td></tr><tr><td>FDY58</td><td>Snack Foods</td><td>228.9694</td><td>6622.7126</td><td>true</td></tr><tr><td>FDR34</td><td>Snack Foods</td><td>229.1352</td><td>4580.704</td><td>true</td></tr><tr><td>FDC47</td><td>Snack Foods</td><td>229.3694</td><td>5024.1268</td><td>true</td></tr><tr><td>FDR34</td><td>Snack Foods</td><td>229.4352</td><td>4809.7392</td><td>true</td></tr><tr><td>FDC47</td><td>Snack Foods</td><td>229.4694</td><td>5937.6044</td><td>true</td></tr><tr><td>FDI34</td><td>Snack Foods</td><td>229.7668</td><td>3916.2356</td><td>true</td></tr><tr><td>FDI34</td><td>Snack Foods</td><td>229.8668</td><td>4146.6024</td><td>true</td></tr><tr><td>FDC47</td><td>Snack Foods</td><td>229.9694</td><td>4339.0186</td><td>true</td></tr><tr><td>FDN58</td><td>Snack Foods</td><td>230.0984</td><td>3707.1744</td><td>true</td></tr><tr><td>FDI34</td><td>Snack Foods</td><td>230.2668</td><td>5759.17</td><td>true</td></tr><tr><td>FDK09</td><td>Snack Foods</td><td>230.7352</td><td>8474.3024</td><td>true</td></tr><tr><td>FDN58</td><td>Snack Foods</td><td>230.9984</td><td>9267.936</td><td>true</td></tr><tr><td>FDN58</td><td>Snack Foods</td><td>230.9984</td><td>4633.968</td><td>true</td></tr><tr><td>FDN58</td><td>Snack Foods</td><td>231.1984</td><td>5097.3648</td><td>true</td></tr><tr><td>FDI34</td><td>Snack Foods</td><td>231.4668</td><td>3225.1352</td><td>true</td></tr><tr><td>FDN58</td><td>Snack Foods</td><td>231.5984</td><td>7182.6504</td><td>true</td></tr><tr><td>FDI34</td><td>Snack Foods</td><td>232.3668</td><td>3685.8688</td><td>true</td></tr><tr><td>FDB10</td><td>Snack Foods</td><td>234.359</td><td>3072.667</td><td>true</td></tr><tr><td>FDT57</td><td>Snack Foods</td><td>235.5248</td><td>4740.496</td><td>true</td></tr><tr><td>FDT57</td><td>Snack Foods</td><td>236.0248</td><td>6636.6944</td><td>true</td></tr><tr><td>FDK34</td><td>Snack Foods</td><td>236.8564</td><td>5005.4844</td><td>true</td></tr><tr><td>FDA58</td><td>Snack Foods</td><td>236.9932</td><td>4242.4776</td><td>true</td></tr><tr><td>FDT57</td><td>Snack Foods</td><td>237.5248</td><td>3318.3472</td><td>true</td></tr><tr><td>FDT57</td><td>Snack Foods</td><td>238.2248</td><td>3555.372</td><td>true</td></tr><tr><td>FDR45</td><td>Snack Foods</td><td>238.6222</td><td>8604.7992</td><td>true</td></tr><tr><td>FDR45</td><td>Snack Foods</td><td>239.2222</td><td>6692.6216</td><td>true</td></tr><tr><td>FDK34</td><td>Snack Foods</td><td>239.3564</td><td>3098.6332</td><td>true</td></tr><tr><td>FDK34</td><td>Snack Foods</td><td>240.1564</td><td>7150.692</td><td>true</td></tr><tr><td>FDK34</td><td>Snack Foods</td><td>240.2564</td><td>2860.2768</td><td>true</td></tr><tr><td>FDR45</td><td>Snack Foods</td><td>240.5222</td><td>4541.4218</td><td>true</td></tr><tr><td>FDR45</td><td>Snack Foods</td><td>240.6222</td><td>4302.3996</td><td>true</td></tr><tr><td>FDW34</td><td>Snack Foods</td><td>241.317</td><td>3645.255</td><td>true</td></tr><tr><td>FDN09</td><td>Snack Foods</td><td>241.6828</td><td>4873.656</td><td>true</td></tr><tr><td>FDN09</td><td>Snack Foods</td><td>242.7828</td><td>3167.8764</td><td>true</td></tr><tr><td>FDN09</td><td>Snack Foods</td><td>243.7828</td><td>6579.4356</td><td>true</td></tr><tr><td>FDW34</td><td>Snack Foods</td><td>244.117</td><td>5346.374</td><td>true</td></tr><tr><td>FDW34</td><td>Snack Foods</td><td>244.317</td><td>8262.578</td><td>true</td></tr><tr><td>FDW34</td><td>Snack Foods</td><td>244.817</td><td>4374.306</td><td>true</td></tr><tr><td>FDW34</td><td>Snack Foods</td><td>244.917</td><td>2916.204</td><td>true</td></tr><tr><td>FDT21</td><td>Snack Foods</td><td>247.1092</td><td>4233.1564</td><td>true</td></tr><tr><td>FDT21</td><td>Snack Foods</td><td>248.8092</td><td>6474.2392</td><td>true</td></tr><tr><td>FDT21</td><td>Snack Foods</td><td>248.9092</td><td>5976.2208</td><td>true</td></tr><tr><td>FDT21</td><td>Snack Foods</td><td>249.0092</td><td>2988.1104</td><td>true</td></tr><tr><td>FDK21</td><td>Snack Foods</td><td>249.0408</td><td>6258.52</td><td>true</td></tr><tr><td>FDK21</td><td>Snack Foods</td><td>249.0408</td><td>3755.112</td><td>true</td></tr><tr><td>FDK21</td><td>Snack Foods</td><td>249.6408</td><td>3254.4304</td><td>true</td></tr><tr><td>FDT21</td><td>Snack Foods</td><td>249.7092</td><td>7719.2852</td><td>true</td></tr><tr><td>FDK21</td><td>Snack Foods</td><td>250.4408</td><td>3004.0896</td><td>true</td></tr><tr><td>FDK21</td><td>Snack Foods</td><td>250.7408</td><td>5757.8384</td><td>true</td></tr><tr><td>FDN22</td><td>Snack Foods</td><td>250.8724</td><td>3775.086</td><td>true</td></tr><tr><td>FDN22</td><td>Snack Foods</td><td>251.7724</td><td>3020.0688</td><td>true</td></tr><tr><td>FDN22</td><td>Snack Foods</td><td>251.8724</td><td>3271.7412</td><td>true</td></tr><tr><td>FDI46</td><td>Snack Foods</td><td>251.9724</td><td>2516.724</td><td>true</td></tr><tr><td>FDI46</td><td>Snack Foods</td><td>251.9724</td><td>3523.4136</td><td>true</td></tr><tr><td>FDP45</td><td>Snack Foods</td><td>252.2724</td><td>5033.448</td><td>true</td></tr><tr><td>FDN22</td><td>Snack Foods</td><td>252.4724</td><td>3271.7412</td><td>true</td></tr><tr><td>FDI46</td><td>Snack Foods</td><td>252.5724</td><td>3271.7412</td><td>true</td></tr><tr><td>FDY45</td><td>Snack Foods</td><td>252.6356</td><td>2543.356</td><td>true</td></tr><tr><td>FDP45</td><td>Snack Foods</td><td>252.9724</td><td>3020.0688</td><td>true</td></tr><tr><td>FDY45</td><td>Snack Foods</td><td>253.0356</td><td>4578.0408</td><td>true</td></tr><tr><td>FDP45</td><td>Snack Foods</td><td>253.1724</td><td>5285.1204</td><td>true</td></tr><tr><td>FDY45</td><td>Snack Foods</td><td>253.6356</td><td>5086.712</td><td>true</td></tr><tr><td>FDI46</td><td>Snack Foods</td><td>253.6724</td><td>5033.448</td><td>true</td></tr><tr><td>FDY45</td><td>Snack Foods</td><td>253.7356</td><td>3815.034</td><td>true</td></tr><tr><td>FDP33</td><td>Snack Foods</td><td>254.2672</td><td>10993.6896</td><td>true</td></tr><tr><td>FDP33</td><td>Snack Foods</td><td>254.7672</td><td>5113.344</td><td>true</td></tr><tr><td>FDY45</td><td>Snack Foods</td><td>255.1356</td><td>3815.034</td><td>true</td></tr><tr><td>FDM21</td><td>Snack Foods</td><td>255.7646</td><td>5410.9566</td><td>true</td></tr><tr><td>FDY45</td><td>Snack Foods</td><td>255.8356</td><td>2543.356</td><td>true</td></tr><tr><td>FDM21</td><td>Snack Foods</td><td>256.1646</td><td>7472.2734</td><td>true</td></tr><tr><td>FDP33</td><td>Snack Foods</td><td>256.4672</td><td>5369.0112</td><td>true</td></tr><tr><td>FDP33</td><td>Snack Foods</td><td>256.6672</td><td>3068.0064</td><td>true</td></tr><tr><td>FDL57</td><td>Snack Foods</td><td>257.3304</td><td>3874.956</td><td>true</td></tr><tr><td>FDL57</td><td>Snack Foods</td><td>257.9304</td><td>6458.26</td><td>true</td></tr><tr><td>FDK46</td><td>Snack Foods</td><td>258.062</td><td>2856.282</td><td>true</td></tr><tr><td>FDM21</td><td>Snack Foods</td><td>258.0646</td><td>5668.6212</td><td>true</td></tr><tr><td>FDV33</td><td>Snack Foods</td><td>258.3304</td><td>4133.2864</td><td>true</td></tr><tr><td>FDK46</td><td>Snack Foods</td><td>258.462</td><td>4673.916</td><td>true</td></tr><tr><td>FDR09</td><td>Snack Foods</td><td>258.4962</td><td>2848.9582</td><td>true</td></tr><tr><td>FDL57</td><td>Snack Foods</td><td>258.8304</td><td>5424.9384</td><td>true</td></tr><tr><td>FDV33</td><td>Snack Foods</td><td>259.2304</td><td>4649.9472</td><td>true</td></tr><tr><td>FDM21</td><td>Snack Foods</td><td>259.2646</td><td>3091.9752</td><td>true</td></tr><tr><td>FDR09</td><td>Snack Foods</td><td>259.6962</td><td>5438.9202</td><td>true</td></tr><tr><td>FDR09</td><td>Snack Foods</td><td>259.7962</td><td>8028.8822</td><td>true</td></tr><tr><td>FDL57</td><td>Snack Foods</td><td>260.2304</td><td>4908.2776</td><td>true</td></tr><tr><td>FDL57</td><td>Snack Foods</td><td>260.3304</td><td>5424.9384</td><td>true</td></tr><tr><td>FDR09</td><td>Snack Foods</td><td>260.5962</td><td>3884.943</td><td>true</td></tr><tr><td>FDO09</td><td>Snack Foods</td><td>261.091</td><td>5522.811</td><td>true</td></tr><tr><td>FDO09</td><td>Snack Foods</td><td>261.491</td><td>3418.883</td><td>true</td></tr><tr><td>FDO09</td><td>Snack Foods</td><td>262.191</td><td>6048.793</td><td>true</td></tr><tr><td>FDL58</td><td>Snack Foods</td><td>262.2568</td><td>5273.136</td><td>true</td></tr><tr><td>FDL58</td><td>Snack Foods</td><td>263.7568</td><td>2636.568</td><td>true</td></tr><tr><td>FDO09</td><td>Snack Foods</td><td>264.491</td><td>6574.775</td><td>true</td></tr><tr><td>FDL58</td><td>Snack Foods</td><td>264.5568</td><td>6327.7632</td><td>true</td></tr><tr><td>FDL58</td><td>Snack Foods</td><td>264.7568</td><td>4745.8224</td><td>true</td></tr><tr><td>FDL58</td><td>Snack Foods</td><td>264.9568</td><td>6855.0768</td><td>true</td></tr><tr><td>DRK13</td><td>Soft Drinks</td><td>200.2084</td><td>4563.3932</td><td>true</td></tr><tr><td>DRI13</td><td>Soft Drinks</td><td>216.4508</td><td>5426.27</td><td>true</td></tr><tr><td>DRI13</td><td>Soft Drinks</td><td>218.0508</td><td>3038.7112</td><td>true</td></tr><tr><td>DRE60</td><td>Soft Drinks</td><td>224.772</td><td>7017.532</td><td>true</td></tr><tr><td>DRE60</td><td>Soft Drinks</td><td>224.972</td><td>7696.648</td><td>true</td></tr><tr><td>DRE60</td><td>Soft Drinks</td><td>226.072</td><td>3621.952</td><td>true</td></tr><tr><td>DRE60</td><td>Soft Drinks</td><td>226.172</td><td>3848.324</td><td>true</td></tr><tr><td>DRL01</td><td>Soft Drinks</td><td>231.8958</td><td>8413.0488</td><td>true</td></tr><tr><td>DRL01</td><td>Soft Drinks</td><td>232.4958</td><td>2804.3496</td><td>true</td></tr><tr><td>DRL01</td><td>Soft Drinks</td><td>232.8958</td><td>5608.6992</td><td>true</td></tr><tr><td>DRL01</td><td>Soft Drinks</td><td>233.4958</td><td>5375.0034</td><td>true</td></tr><tr><td>DRL01</td><td>Soft Drinks</td><td>235.3958</td><td>6309.7866</td><td>true</td></tr><tr><td>DRF60</td><td>Soft Drinks</td><td>236.5564</td><td>5243.8408</td><td>true</td></tr><tr><td>DRD49</td><td>Soft Drinks</td><td>236.8564</td><td>4767.128</td><td>true</td></tr><tr><td>DRD49</td><td>Soft Drinks</td><td>237.7564</td><td>3813.7024</td><td>true</td></tr><tr><td>DRF60</td><td>Soft Drinks</td><td>238.1564</td><td>5243.8408</td><td>true</td></tr><tr><td>DRD49</td><td>Soft Drinks</td><td>239.4564</td><td>5243.8408</td><td>true</td></tr><tr><td>DRF60</td><td>Soft Drinks</td><td>239.9564</td><td>3813.7024</td><td>true</td></tr><tr><td>DRF60</td><td>Soft Drinks</td><td>240.3564</td><td>4290.4152</td><td>true</td></tr><tr><td>DRE01</td><td>Soft Drinks</td><td>241.7512</td><td>5331.7264</td><td>true</td></tr><tr><td>DRG49</td><td>Soft Drinks</td><td>242.8486</td><td>3420.8804</td><td>true</td></tr><tr><td>DRG49</td><td>Soft Drinks</td><td>246.0486</td><td>7086.1094</td><td>true</td></tr><tr><td>DRG49</td><td>Soft Drinks</td><td>246.1486</td><td>5375.6692</td><td>true</td></tr><tr><td>DRF37</td><td>Soft Drinks</td><td>261.191</td><td>3155.892</td><td>true</td></tr><tr><td>DRF37</td><td>Soft Drinks</td><td>261.591</td><td>3418.883</td><td>true</td></tr><tr><td>DRF37</td><td>Soft Drinks</td><td>263.191</td><td>3944.865</td><td>true</td></tr><tr><td>DRF37</td><td>Soft Drinks</td><td>263.391</td><td>6311.784</td><td>true</td></tr><tr><td>FDC35</td><td>Starchy Foods</td><td>205.2638</td><td>3520.0846</td><td>true</td></tr><tr><td>FDC35</td><td>Starchy Foods</td><td>207.5638</td><td>4555.4036</td><td>true</td></tr><tr><td>FDC35</td><td>Starchy Foods</td><td>208.7638</td><td>3105.957</td><td>true</td></tr><tr><td>FDF47</td><td>Starchy Foods</td><td>222.8746</td><td>3589.9936</td><td>true</td></tr><tr><td>FDB23</td><td>Starchy Foods</td><td>223.8062</td><td>5642.655</td><td>true</td></tr><tr><td>FDB11</td><td>Starchy Foods</td><td>223.8404</td><td>3600.6464</td><td>true</td></tr><tr><td>FDB23</td><td>Starchy Foods</td><td>224.0062</td><td>3837.0054</td><td>true</td></tr><tr><td>FDB11</td><td>Starchy Foods</td><td>224.1404</td><td>4725.8484</td><td>true</td></tr><tr><td>FDF47</td><td>Starchy Foods</td><td>225.3746</td><td>3365.619</td><td>true</td></tr><tr><td>FDB11</td><td>Starchy Foods</td><td>225.6404</td><td>2925.5252</td><td>true</td></tr><tr><td>FDB11</td><td>Starchy Foods</td><td>226.2404</td><td>4725.8484</td><td>true</td></tr><tr><td>FDB23</td><td>Starchy Foods</td><td>226.6062</td><td>5191.2426</td><td>true</td></tr><tr><td>FDB11</td><td>Starchy Foods</td><td>226.8404</td><td>6301.1312</td><td>true</td></tr><tr><td>FDB23</td><td>Starchy Foods</td><td>226.9062</td><td>4514.124</td><td>true</td></tr><tr><td>FDF11</td><td>Starchy Foods</td><td>239.4538</td><td>3605.307</td><td>true</td></tr><tr><td>FDF11</td><td>Starchy Foods</td><td>239.4538</td><td>4566.7222</td><td>true</td></tr><tr><td>FDF11</td><td>Starchy Foods</td><td>239.8538</td><td>4086.0146</td><td>true</td></tr><tr><td>FDD11</td><td>Starchy Foods</td><td>251.704</td><td>3542.056</td><td>true</td></tr><tr><td>FDD11</td><td>Starchy Foods</td><td>253.004</td><td>3795.06</td><td>true</td></tr><tr><td>FDD11</td><td>Starchy Foods</td><td>254.704</td><td>2530.04</td><td>true</td></tr><tr><td>FDD11</td><td>Starchy Foods</td><td>254.704</td><td>3036.048</td><td>true</td></tr><tr><td>FDD11</td><td>Starchy Foods</td><td>254.904</td><td>3036.048</td><td>true</td></tr><tr><td>FDG47</td><td>Starchy Foods</td><td>260.3252</td><td>8132.0812</td><td>true</td></tr><tr><td>FDG47</td><td>Starchy Foods</td><td>261.3252</td><td>3410.2276</td><td>true</td></tr><tr><td>FDG47</td><td>Starchy Foods</td><td>261.9252</td><td>4984.1788</td><td>true</td></tr><tr><td>FDG47</td><td>Starchy Foods</td><td>262.8252</td><td>2885.5772</td><td>true</td></tr><tr><td>FDG47</td><td>Starchy Foods</td><td>263.0252</td><td>2885.5772</td><td>true</td></tr></tbody></table></div>"
      ]
     },
     "metadata": {
      "application/vnd.databricks.v1+output": {
       "addedWidgets": {},
       "aggData": [],
       "aggError": "",
       "aggOverflow": false,
       "aggSchema": [],
       "aggSeriesLimitReached": false,
       "aggType": "",
       "arguments": {},
       "columnCustomDisplayInfos": {},
       "data": [
        [
         "FDJ12",
         "Baking Goods",
         206.8296,
         4154.592,
         true
        ],
        [
         "FDJ12",
         "Baking Goods",
         208.8296,
         5400.9696,
         true
        ],
        [
         "FDO48",
         "Baking Goods",
         219.7456,
         3094.6384,
         true
        ],
        [
         "FDO48",
         "Baking Goods",
         219.8456,
         4863.0032,
         true
        ],
        [
         "FDA48",
         "Baking Goods",
         221.4114,
         5099.3622,
         true
        ],
        [
         "FDA48",
         "Baking Goods",
         222.0114,
         3547.3824,
         true
        ],
        [
         "FDX36",
         "Baking Goods",
         223.9404,
         4950.8888,
         true
        ],
        [
         "FDX36",
         "Baking Goods",
         224.0404,
         5851.0504,
         true
        ],
        [
         "FDT12",
         "Baking Goods",
         224.5062,
         4514.124,
         true
        ],
        [
         "FDX36",
         "Baking Goods",
         224.8404,
         3600.6464,
         true
        ],
        [
         "FDT12",
         "Baking Goods",
         225.8062,
         3159.8868,
         true
        ],
        [
         "FDT12",
         "Baking Goods",
         226.1062,
         4739.8302,
         true
        ],
        [
         "FDX36",
         "Baking Goods",
         226.1404,
         3375.606,
         true
        ],
        [
         "FDX36",
         "Baking Goods",
         226.5404,
         4500.808,
         true
        ],
        [
         "FDT12",
         "Baking Goods",
         226.8062,
         4739.8302,
         true
        ],
        [
         "FDX36",
         "Baking Goods",
         226.9404,
         2700.4848,
         true
        ],
        [
         "FDT12",
         "Baking Goods",
         227.4062,
         5191.2426,
         true
        ],
        [
         "FDQ12",
         "Baking Goods",
         231.401,
         2526.711,
         true
        ],
        [
         "FDQ12",
         "Baking Goods",
         231.601,
         5972.226,
         true
        ],
        [
         "FDG60",
         "Baking Goods",
         232.7616,
         2812.3392,
         true
        ],
        [
         "FDG60",
         "Baking Goods",
         233.3616,
         6093.4016,
         true
        ],
        [
         "FDG60",
         "Baking Goods",
         233.6616,
         2577.9776,
         true
        ],
        [
         "FDG60",
         "Baking Goods",
         234.2616,
         4687.232,
         true
        ],
        [
         "FDG60",
         "Baking Goods",
         234.5616,
         6796.4864,
         true
        ],
        [
         "FDX12",
         "Baking Goods",
         239.2196,
         3133.2548,
         true
        ],
        [
         "FDB37",
         "Baking Goods",
         240.3538,
         4086.0146,
         true
        ],
        [
         "FDB37",
         "Baking Goods",
         240.7538,
         3364.9532,
         true
        ],
        [
         "FDB37",
         "Baking Goods",
         240.8538,
         7931.6754,
         true
        ],
        [
         "FDB37",
         "Baking Goods",
         241.0538,
         4566.7222,
         true
        ],
        [
         "FDX12",
         "Baking Goods",
         241.2196,
         6507.5292,
         true
        ],
        [
         "FDX12",
         "Baking Goods",
         241.8196,
         4097.3332,
         true
        ],
        [
         "FDB37",
         "Baking Goods",
         241.8538,
         5768.4912,
         true
        ],
        [
         "FDJ48",
         "Baking Goods",
         245.2118,
         5681.2714,
         true
        ],
        [
         "FDJ48",
         "Baking Goods",
         245.4118,
         6669.3186,
         true
        ],
        [
         "FDJ48",
         "Baking Goods",
         246.9118,
         5681.2714,
         true
        ],
        [
         "FDJ48",
         "Baking Goods",
         247.8118,
         2964.1416,
         true
        ],
        [
         "FDQ24",
         "Baking Goods",
         249.6724,
         6543.4824,
         true
        ],
        [
         "FDQ24",
         "Baking Goods",
         250.5724,
         4026.7584,
         true
        ],
        [
         "FDQ24",
         "Baking Goods",
         253.3724,
         6795.1548,
         true
        ],
        [
         "FDU12",
         "Baking Goods",
         262.7568,
         7646.0472,
         true
        ],
        [
         "FDU12",
         "Baking Goods",
         262.8568,
         5800.4496,
         true
        ],
        [
         "FDU12",
         "Baking Goods",
         263.9568,
         4745.8224,
         true
        ],
        [
         "FDU12",
         "Baking Goods",
         265.5568,
         4482.1656,
         true
        ],
        [
         "FDR35",
         "Breads",
         200.0742,
         8958.339,
         true
        ],
        [
         "FDP11",
         "Breads",
         216.6166,
         4136.6154,
         true
        ],
        [
         "FDV59",
         "Breads",
         216.7166,
         3918.8988,
         true
        ],
        [
         "FDP11",
         "Breads",
         216.9166,
         4354.332,
         true
        ],
        [
         "FDP23",
         "Breads",
         217.5166,
         4572.0486,
         true
        ],
        [
         "FDV59",
         "Breads",
         217.6166,
         3265.749,
         true
        ],
        [
         "FDP23",
         "Breads",
         218.2166,
         3701.1822,
         true
        ],
        [
         "FDP11",
         "Breads",
         218.2166,
         4789.7652,
         true
        ],
        [
         "FDP23",
         "Breads",
         218.3166,
         5660.6316,
         true
        ],
        [
         "FDP11",
         "Breads",
         218.7166,
         4136.6154,
         true
        ],
        [
         "FDV59",
         "Breads",
         218.9166,
         5660.6316,
         true
        ],
        [
         "FDV59",
         "Breads",
         219.6166,
         3483.4656,
         true
        ],
        [
         "FDS11",
         "Breads",
         222.1088,
         4026.7584,
         true
        ],
        [
         "FDS11",
         "Breads",
         222.5088,
         7158.6816,
         true
        ],
        [
         "FDS11",
         "Breads",
         224.7088,
         3131.9232,
         true
        ],
        [
         "FDS11",
         "Breads",
         224.9088,
         2684.5056,
         true
        ],
        [
         "FDS11",
         "Breads",
         225.3088,
         5816.4288,
         true
        ],
        [
         "FDX35",
         "Breads",
         226.3036,
         4098.6648,
         true
        ],
        [
         "FDX35",
         "Breads",
         228.2036,
         4781.7756,
         true
        ],
        [
         "FDX35",
         "Breads",
         228.2036,
         2504.7396,
         true
        ],
        [
         "FDT59",
         "Breads",
         228.5668,
         3225.1352,
         true
        ],
        [
         "FDX35",
         "Breads",
         229.0036,
         4326.3684,
         true
        ],
        [
         "FDT59",
         "Breads",
         229.4668,
         4837.7028,
         true
        ],
        [
         "FDT59",
         "Breads",
         230.2668,
         2994.7684,
         true
        ],
        [
         "FDT59",
         "Breads",
         231.1668,
         6911.004,
         true
        ],
        [
         "FDT59",
         "Breads",
         231.9668,
         3225.1352,
         true
        ],
        [
         "FDO11",
         "Breads",
         247.4092,
         6972.2576,
         true
        ],
        [
         "FDO11",
         "Breads",
         248.8092,
         3486.1288,
         true
        ],
        [
         "FDO11",
         "Breads",
         250.3092,
         6723.2484,
         true
        ],
        [
         "FDQ11",
         "Breads",
         257.4988,
         3083.9856,
         true
        ],
        [
         "FDQ11",
         "Breads",
         258.8988,
         5396.9748,
         true
        ],
        [
         "FDQ11",
         "Breads",
         258.8988,
         3083.9856,
         true
        ],
        [
         "FDR59",
         "Breads",
         260.4594,
         5494.8474,
         true
        ],
        [
         "FDR59",
         "Breads",
         260.4594,
         3139.9128,
         true
        ],
        [
         "FDR59",
         "Breads",
         262.3594,
         4448.2098,
         true
        ],
        [
         "FDR59",
         "Breads",
         262.7594,
         7064.8038,
         true
        ],
        [
         "FDR59",
         "Breads",
         263.1594,
         2616.594,
         true
        ],
        [
         "FDR59",
         "Breads",
         263.2594,
         2878.2534,
         true
        ],
        [
         "FDR59",
         "Breads",
         263.6594,
         3401.5722,
         true
        ],
        [
         "FDO37",
         "Breakfast",
         229.1326,
         7393.0432,
         true
        ],
        [
         "FDO37",
         "Breakfast",
         229.7326,
         6930.978,
         true
        ],
        [
         "FDL13",
         "Breakfast",
         231.43,
         3029.39,
         true
        ],
        [
         "FDO37",
         "Breakfast",
         231.7326,
         5313.7498,
         true
        ],
        [
         "FDO37",
         "Breakfast",
         232.0326,
         3003.4238,
         true
        ],
        [
         "FDO37",
         "Breakfast",
         232.3326,
         2541.3586,
         true
        ],
        [
         "FDL13",
         "Breakfast",
         232.73,
         6291.81,
         true
        ],
        [
         "FDO37",
         "Breakfast",
         232.7326,
         3696.5216,
         true
        ],
        [
         "FDL13",
         "Breakfast",
         233.83,
         2796.36,
         true
        ],
        [
         "FDL13",
         "Breakfast",
         234.93,
         4660.6,
         true
        ],
        [
         "FDR01",
         "Canned",
         200.1742,
         6171.3002,
         true
        ],
        [
         "FDN02",
         "Canned",
         205.3638,
         5383.6588,
         true
        ],
        [
         "FDI38",
         "Canned",
         206.9638,
         7247.233,
         true
        ],
        [
         "FDN02",
         "Canned",
         207.2638,
         5383.6588,
         true
        ],
        [
         "FDI38",
         "Canned",
         207.3638,
         5797.7864,
         true
        ],
        [
         "FDI38",
         "Canned",
         207.7638,
         3520.0846,
         true
        ],
        [
         "FDN02",
         "Canned",
         208.2638,
         4762.4674,
         true
        ],
        [
         "FDN02",
         "Canned",
         208.5638,
         2691.8294,
         true
        ],
        [
         "FDO25",
         "Canned",
         209.027,
         4613.994,
         true
        ],
        [
         "FDO25",
         "Canned",
         209.627,
         3984.813,
         true
        ],
        [
         "FDO25",
         "Canned",
         210.527,
         6291.81,
         true
        ],
        [
         "FDT01",
         "Canned",
         211.4902,
         4035.4138,
         true
        ],
        [
         "FDT01",
         "Canned",
         211.5902,
         4672.5844,
         true
        ],
        [
         "FDT01",
         "Canned",
         212.9902,
         3185.853,
         true
        ],
        [
         "FDJ26",
         "Canned",
         215.5218,
         4060.7142,
         true
        ],
        [
         "FDJ26",
         "Canned",
         215.5218,
         4915.6014,
         true
        ],
        [
         "FDP25",
         "Canned",
         216.3824,
         6114.7072,
         true
        ],
        [
         "FDP25",
         "Canned",
         216.5824,
         5241.1776,
         true
        ],
        [
         "FDP25",
         "Canned",
         216.8824,
         2838.9712,
         true
        ],
        [
         "FDP25",
         "Canned",
         216.9824,
         4804.4128,
         true
        ],
        [
         "FDP25",
         "Canned",
         217.0824,
         6769.8544,
         true
        ],
        [
         "FDZ49",
         "Canned",
         219.7798,
         2644.5576,
         true
        ],
        [
         "FDZ49",
         "Canned",
         220.3798,
         5289.1152,
         true
        ],
        [
         "FDV25",
         "Canned",
         221.5456,
         6852.4136,
         true
        ],
        [
         "FDZ49",
         "Canned",
         221.5798,
         4187.2162,
         true
        ],
        [
         "FDZ49",
         "Canned",
         222.0798,
         2864.9374,
         true
        ],
        [
         "FDV25",
         "Canned",
         222.1456,
         5747.1856,
         true
        ],
        [
         "FDV25",
         "Canned",
         222.5456,
         5305.0944,
         true
        ],
        [
         "FDV25",
         "Canned",
         222.5456,
         3315.684,
         true
        ],
        [
         "FDI50",
         "Canned",
         227.6352,
         2748.4224,
         true
        ],
        [
         "FDI50",
         "Canned",
         227.8352,
         3435.528,
         true
        ],
        [
         "FDI50",
         "Canned",
         228.0352,
         10306.584,
         true
        ],
        [
         "FDI50",
         "Canned",
         228.7352,
         5954.9152,
         true
        ],
        [
         "FDI50",
         "Canned",
         229.0352,
         5496.8448,
         true
        ],
        [
         "FDI50",
         "Canned",
         230.8352,
         3435.528,
         true
        ],
        [
         "FDX49",
         "Canned",
         231.33,
         4660.6,
         true
        ],
        [
         "FDX49",
         "Canned",
         231.93,
         2563.33,
         true
        ],
        [
         "FDX49",
         "Canned",
         232.23,
         5126.66,
         true
        ],
        [
         "FDX49",
         "Canned",
         232.63,
         5359.69,
         true
        ],
        [
         "FDX49",
         "Canned",
         234.33,
         3961.51,
         true
        ],
        [
         "FDX13",
         "Canned",
         248.3092,
         6474.2392,
         true
        ],
        [
         "FDN38",
         "Canned",
         248.6408,
         3504.7712,
         true
        ],
        [
         "FDX13",
         "Canned",
         249.1092,
         8217.3036,
         true
        ],
        [
         "FDX13",
         "Canned",
         250.2092,
         3984.1472,
         true
        ],
        [
         "FDN38",
         "Canned",
         250.6408,
         4756.4752,
         true
        ],
        [
         "FDN38",
         "Canned",
         251.1408,
         3254.4304,
         true
        ],
        [
         "FDN38",
         "Canned",
         251.6408,
         6008.1792,
         true
        ],
        [
         "FDN38",
         "Canned",
         251.8408,
         4506.1344,
         true
        ],
        [
         "FDQ01",
         "Canned",
         253.1014,
         2805.0154,
         true
        ],
        [
         "FDT37",
         "Canned",
         253.7014,
         5865.0322,
         true
        ],
        [
         "FDQ01",
         "Canned",
         254.1014,
         4845.0266,
         true
        ],
        [
         "FDQ01",
         "Canned",
         254.7014,
         3570.0196,
         true
        ],
        [
         "FDQ01",
         "Canned",
         255.2014,
         3570.0196,
         true
        ],
        [
         "FDT37",
         "Canned",
         255.5014,
         5355.0294,
         true
        ],
        [
         "FDG26",
         "Canned",
         255.933,
         3844.995,
         true
        ],
        [
         "FDQ01",
         "Canned",
         256.1014,
         3060.0168,
         true
        ],
        [
         "FDT37",
         "Canned",
         256.3014,
         4845.0266,
         true
        ],
        [
         "FDG26",
         "Canned",
         257.633,
         5382.993,
         true
        ],
        [
         "FDG26",
         "Canned",
         257.833,
         5382.993,
         true
        ],
        [
         "FDG26",
         "Canned",
         257.833,
         3332.329,
         true
        ],
        [
         "FDC02",
         "Canned",
         258.3278,
         7028.8506,
         true
        ],
        [
         "FDC02",
         "Canned",
         258.5278,
         5206.556,
         true
        ],
        [
         "FDC02",
         "Canned",
         259.3278,
         4165.2448,
         true
        ],
        [
         "FDC02",
         "Canned",
         259.9278,
         6768.5228,
         true
        ],
        [
         "FDC02",
         "Canned",
         260.4278,
         3644.5892,
         true
        ],
        [
         "FDV49",
         "Canned",
         262.6226,
         7136.7102,
         true
        ],
        [
         "FDV49",
         "Canned",
         262.7226,
         3171.8712,
         true
        ],
        [
         "FDS13",
         "Canned",
         263.1884,
         2914.8724,
         true
        ],
        [
         "FDV49",
         "Canned",
         263.2226,
         3700.5164,
         true
        ],
        [
         "FDS13",
         "Canned",
         264.1884,
         3444.8492,
         true
        ],
        [
         "FDV49",
         "Canned",
         264.6226,
         4757.8068,
         true
        ],
        [
         "FDV49",
         "Canned",
         264.7226,
         3171.8712,
         true
        ],
        [
         "FDS13",
         "Canned",
         264.7884,
         3709.8376,
         true
        ],
        [
         "FDR25",
         "Canned",
         265.1884,
         6359.7216,
         true
        ],
        [
         "FDV49",
         "Canned",
         265.2226,
         5815.0972,
         true
        ],
        [
         "FDR25",
         "Canned",
         265.6884,
         2649.884,
         true
        ],
        [
         "FDR25",
         "Canned",
         265.7884,
         3974.826,
         true
        ],
        [
         "FDS13",
         "Canned",
         266.1884,
         5299.768,
         true
        ],
        [
         "FDR25",
         "Canned",
         266.8884,
         5034.7796,
         true
        ],
        [
         "FDQ14",
         "Dairy",
         150.105,
         2696.49,
         true
        ],
        [
         "FDC52",
         "Dairy",
         150.4708,
         1956.1204,
         true
        ],
        [
         "FDC52",
         "Dairy",
         150.6708,
         2106.5912,
         true
        ],
        [
         "DRF27",
         "Dairy",
         152.234,
         3828.35,
         true
        ],
        [
         "DRF27",
         "Dairy",
         152.234,
         5053.422,
         true
        ],
        [
         "DRF27",
         "Dairy",
         152.334,
         2143.876,
         true
        ],
        [
         "DRG03",
         "Dairy",
         153.0998,
         4921.5936,
         true
        ],
        [
         "DRG03",
         "Dairy",
         153.9998,
         5229.1932,
         true
        ],
        [
         "DRG03",
         "Dairy",
         154.2998,
         1691.7978,
         true
        ],
        [
         "FDY15",
         "Dairy",
         154.463,
         2190.482,
         true
        ],
        [
         "DRG03",
         "Dairy",
         154.4998,
         1691.7978,
         true
        ],
        [
         "DRF27",
         "Dairy",
         154.534,
         2603.278,
         true
        ],
        [
         "FDY15",
         "Dairy",
         154.663,
         2659.871,
         true
        ],
        [
         "DRF15",
         "Dairy",
         155.034,
         1990.742,
         true
        ],
        [
         "FDC15",
         "Dairy",
         155.5288,
         1571.288,
         true
        ],
        [
         "FDY15",
         "Dairy",
         155.663,
         2034.019,
         true
        ],
        [
         "FDY15",
         "Dairy",
         155.863,
         2346.945,
         true
        ],
        [
         "FDY15",
         "Dairy",
         155.963,
         4537.427,
         true
        ],
        [
         "FDS14",
         "Dairy",
         156.5288,
         2356.932,
         true
        ],
        [
         "FDS14",
         "Dairy",
         156.9288,
         1571.288,
         true
        ],
        [
         "FDS14",
         "Dairy",
         157.4288,
         2042.6744,
         true
        ],
        [
         "FDC15",
         "Dairy",
         158.1288,
         3299.7048,
         true
        ],
        [
         "FDC15",
         "Dairy",
         158.9288,
         1571.288,
         true
        ],
        [
         "DRG51",
         "Dairy",
         163.5526,
         2302.3364,
         true
        ],
        [
         "DRG51",
         "Dairy",
         164.9526,
         2302.3364,
         true
        ],
        [
         "FDW50",
         "Dairy",
         165.1158,
         1504.0422,
         true
        ],
        [
         "DRG51",
         "Dairy",
         165.3526,
         3453.5046,
         true
        ],
        [
         "FDW50",
         "Dairy",
         167.2158,
         3008.0844,
         true
        ],
        [
         "FDW50",
         "Dairy",
         167.5158,
         1504.0422,
         true
        ],
        [
         "FDW50",
         "Dairy",
         168.1158,
         2005.3896,
         true
        ],
        [
         "FDW50",
         "Dairy",
         168.4158,
         1504.0422,
         true
        ],
        [
         "FDV02",
         "Dairy",
         169.8106,
         3251.1014,
         true
        ],
        [
         "FDZ38",
         "Dairy",
         170.4422,
         2759.0752,
         true
        ],
        [
         "FDV02",
         "Dairy",
         170.7106,
         3079.9908,
         true
        ],
        [
         "DRI51",
         "Dairy",
         171.5764,
         4637.9628,
         true
        ],
        [
         "FDZ38",
         "Dairy",
         171.6422,
         3793.7284,
         true
        ],
        [
         "FDV02",
         "Dairy",
         172.4106,
         2908.8802,
         true
        ],
        [
         "DRI51",
         "Dairy",
         172.6764,
         6183.9504,
         true
        ],
        [
         "FDV02",
         "Dairy",
         173.0106,
         3593.3226,
         true
        ],
        [
         "DRI51",
         "Dairy",
         173.1764,
         4466.1864,
         true
        ],
        [
         "DRI51",
         "Dairy",
         173.3764,
         2061.3168,
         true
        ],
        [
         "DRI51",
         "Dairy",
         173.4764,
         2404.8696,
         true
        ],
        [
         "FDZ38",
         "Dairy",
         173.7422,
         5863.0348,
         true
        ],
        [
         "FDZ38",
         "Dairy",
         174.0422,
         5173.266,
         true
        ],
        [
         "FDZ38",
         "Dairy",
         174.2422,
         4311.055,
         true
        ],
        [
         "DRI03",
         "Dairy",
         175.1028,
         1593.9252,
         true
        ],
        [
         "DRI03",
         "Dairy",
         175.3028,
         3719.1588,
         true
        ],
        [
         "FDR26",
         "Dairy",
         175.8028,
         1593.9252,
         true
        ],
        [
         "DRI03",
         "Dairy",
         176.4028,
         4250.4672,
         true
        ],
        [
         "FDR26",
         "Dairy",
         177.2028,
         3364.9532,
         true
        ],
        [
         "FDY27",
         "Dairy",
         177.4344,
         1784.344,
         true
        ],
        [
         "FDM39",
         "Dairy",
         177.6002,
         8417.7094,
         true
        ],
        [
         "DRI03",
         "Dairy",
         177.9028,
         4781.7756,
         true
        ],
        [
         "DRI03",
         "Dairy",
         178.1028,
         4604.6728,
         true
        ],
        [
         "FDM39",
         "Dairy",
         178.3002,
         2328.3026,
         true
        ],
        [
         "FDR26",
         "Dairy",
         178.3028,
         2479.4392,
         true
        ],
        [
         "FDY27",
         "Dairy",
         178.3344,
         3211.8192,
         true
        ],
        [
         "FDM39",
         "Dairy",
         178.6002,
         3582.004,
         true
        ],
        [
         "FDM39",
         "Dairy",
         178.7002,
         4477.505,
         true
        ],
        [
         "FDY27",
         "Dairy",
         179.1344,
         1605.9096,
         true
        ],
        [
         "FDL39",
         "Dairy",
         179.4318,
         2345.6134,
         true
        ],
        [
         "FDY27",
         "Dairy",
         179.5344,
         4103.9912,
         true
        ],
        [
         "FDX26",
         "Dairy",
         180.4292,
         4013.4424,
         true
        ],
        [
         "FDX26",
         "Dairy",
         180.6292,
         3101.2964,
         true
        ],
        [
         "FDL39",
         "Dairy",
         180.9318,
         1984.7498,
         true
        ],
        [
         "FDX26",
         "Dairy",
         181.4292,
         2918.8672,
         true
        ],
        [
         "FDZ50",
         "Dairy",
         181.7608,
         4961.5416,
         true
        ],
        [
         "FDL39",
         "Dairy",
         181.9318,
         5954.2494,
         true
        ],
        [
         "FDJ15",
         "Dairy",
         181.9608,
         1653.8472,
         true
        ],
        [
         "FDL39",
         "Dairy",
         182.1318,
         2345.6134,
         true
        ],
        [
         "FDX26",
         "Dairy",
         182.3292,
         4195.8716,
         true
        ],
        [
         "FDJ15",
         "Dairy",
         182.4608,
         7534.1928,
         true
        ],
        [
         "FDX26",
         "Dairy",
         182.5292,
         2736.438,
         true
        ],
        [
         "FDJ15",
         "Dairy",
         182.5608,
         3307.6944,
         true
        ],
        [
         "FDJ15",
         "Dairy",
         183.3608,
         6064.1064,
         true
        ],
        [
         "FDZ50",
         "Dairy",
         184.2608,
         6064.1064,
         true
        ],
        [
         "FDJ15",
         "Dairy",
         184.4608,
         4042.7376,
         true
        ],
        [
         "FDZ03",
         "Dairy",
         184.824,
         3355.632,
         true
        ],
        [
         "FDZ03",
         "Dairy",
         186.024,
         4287.752,
         true
        ],
        [
         "FDZ03",
         "Dairy",
         186.724,
         4474.176,
         true
        ],
        [
         "FDU38",
         "Dairy",
         191.1504,
         4410.2592,
         true
        ],
        [
         "FDD40",
         "Dairy",
         191.5162,
         3078.6592,
         true
        ],
        [
         "FDU38",
         "Dairy",
         191.6504,
         2492.7552,
         true
        ],
        [
         "FDU38",
         "Dairy",
         192.9504,
         7478.2656,
         true
        ],
        [
         "FDV26",
         "Dairy",
         193.3794,
         8388.4142,
         true
        ],
        [
         "FDU38",
         "Dairy",
         193.4504,
         2876.256,
         true
        ],
        [
         "FDV26",
         "Dairy",
         193.5794,
         1950.794,
         true
        ],
        [
         "FDD40",
         "Dairy",
         193.6162,
         3848.324,
         true
        ],
        [
         "FDD40",
         "Dairy",
         193.6162,
         5195.2374,
         true
        ],
        [
         "FDU38",
         "Dairy",
         193.7504,
         4602.0096,
         true
        ],
        [
         "FDD40",
         "Dairy",
         193.8162,
         3463.4916,
         true
        ],
        [
         "FDS02",
         "Dairy",
         194.0794,
         3901.588,
         true
        ],
        [
         "FDD40",
         "Dairy",
         194.1162,
         3848.324,
         true
        ],
        [
         "FDC03",
         "Dairy",
         194.1794,
         3316.3498,
         true
        ],
        [
         "FDV26",
         "Dairy",
         194.2794,
         4291.7468,
         true
        ],
        [
         "FDS02",
         "Dairy",
         194.5794,
         4096.6674,
         true
        ],
        [
         "FDB27",
         "Dairy",
         195.2768,
         5715.2272,
         true
        ],
        [
         "FDC03",
         "Dairy",
         195.3794,
         3511.4292,
         true
        ],
        [
         "FDB28",
         "Dairy",
         195.9426,
         2570.6538,
         true
        ],
        [
         "FDV26",
         "Dairy",
         196.1794,
         2731.1116,
         true
        ],
        [
         "FDS02",
         "Dairy",
         196.1794,
         2926.191,
         true
        ],
        [
         "FDV26",
         "Dairy",
         196.2794,
         2731.1116,
         true
        ],
        [
         "FDS02",
         "Dairy",
         196.4794,
         5852.382,
         true
        ],
        [
         "FDB27",
         "Dairy",
         196.5768,
         1576.6144,
         true
        ],
        [
         "FDC03",
         "Dairy",
         196.5794,
         5267.1438,
         true
        ],
        [
         "FDB27",
         "Dairy",
         196.7768,
         5912.304,
         true
        ],
        [
         "FDV26",
         "Dairy",
         196.7794,
         2731.1116,
         true
        ],
        [
         "FDV26",
         "Dairy",
         197.0794,
         4681.9056,
         true
        ],
        [
         "FDB27",
         "Dairy",
         198.1768,
         5321.0736,
         true
        ],
        [
         "FDB28",
         "Dairy",
         199.4426,
         3361.6242,
         true
        ],
        [
         "FDC39",
         "Dairy",
         205.7296,
         4570.0512,
         true
        ],
        [
         "FDC39",
         "Dairy",
         206.6296,
         3115.944,
         true
        ],
        [
         "FDC39",
         "Dairy",
         207.1296,
         3739.1328,
         true
        ],
        [
         "FDC39",
         "Dairy",
         208.9296,
         2700.4848,
         true
        ],
        [
         "FDY26",
         "Dairy",
         210.5244,
         6775.1808,
         true
        ],
        [
         "FDY26",
         "Dairy",
         211.4244,
         7833.8028,
         true
        ],
        [
         "FDY26",
         "Dairy",
         212.6244,
         3599.3148,
         true
        ],
        [
         "FDY26",
         "Dairy",
         212.9244,
         2540.6928,
         true
        ],
        [
         "FDL51",
         "Dairy",
         213.4876,
         1929.4884,
         true
        ],
        [
         "FDL51",
         "Dairy",
         213.9876,
         2143.876,
         true
        ],
        [
         "FDD39",
         "Dairy",
         214.385,
         4327.7,
         true
        ],
        [
         "FDL51",
         "Dairy",
         214.6876,
         3001.4264,
         true
        ],
        [
         "FDL51",
         "Dairy",
         215.0876,
         5145.3024,
         true
        ],
        [
         "FDL51",
         "Dairy",
         215.9876,
         3430.2016,
         true
        ],
        [
         "FDD39",
         "Dairy",
         216.385,
         3678.545,
         true
        ],
        [
         "FDD39",
         "Dairy",
         216.885,
         6275.165,
         true
        ],
        [
         "FDA26",
         "Dairy",
         217.6482,
         3285.723,
         true
        ],
        [
         "FDD39",
         "Dairy",
         217.685,
         2163.85,
         true
        ],
        [
         "FDD39",
         "Dairy",
         217.885,
         3894.93,
         true
        ],
        [
         "FDD39",
         "Dairy",
         218.185,
         5193.24,
         true
        ],
        [
         "DRJ39",
         "Dairy",
         218.3482,
         2409.5302,
         true
        ],
        [
         "FDA26",
         "Dairy",
         218.4482,
         4819.0604,
         true
        ],
        [
         "FDA26",
         "Dairy",
         218.6482,
         3723.8194,
         true
        ],
        [
         "DRJ39",
         "Dairy",
         219.3482,
         5038.1086,
         true
        ],
        [
         "DRJ39",
         "Dairy",
         219.3482,
         8323.8316,
         true
        ],
        [
         "DRJ39",
         "Dairy",
         219.5482,
         5695.2532,
         true
        ],
        [
         "FDS50",
         "Dairy",
         220.0114,
         2217.114,
         true
        ],
        [
         "FDA26",
         "Dairy",
         220.1482,
         4600.0122,
         true
        ],
        [
         "DRJ39",
         "Dairy",
         220.1482,
         3066.6748,
         true
        ],
        [
         "FDW26",
         "Dairy",
         220.3772,
         4447.544,
         true
        ],
        [
         "FDS50",
         "Dairy",
         220.5114,
         5321.0736,
         true
        ],
        [
         "FDS50",
         "Dairy",
         221.1114,
         4434.228,
         true
        ],
        [
         "FDW26",
         "Dairy",
         221.1772,
         3113.2808,
         true
        ],
        [
         "FDW26",
         "Dairy",
         221.6772,
         3113.2808,
         true
        ],
        [
         "FDW26",
         "Dairy",
         222.3772,
         1556.6404,
         true
        ],
        [
         "FDW26",
         "Dairy",
         223.5772,
         2668.5264,
         true
        ],
        [
         "FDW26",
         "Dairy",
         224.1772,
         2890.9036,
         true
        ],
        [
         "FDW26",
         "Dairy",
         224.1772,
         3558.0352,
         true
        ],
        [
         "FDX02",
         "Dairy",
         224.3404,
         4500.808,
         true
        ],
        [
         "FDX02",
         "Dairy",
         225.0404,
         5851.0504,
         true
        ],
        [
         "FDX02",
         "Dairy",
         225.0404,
         4950.8888,
         true
        ],
        [
         "FDU02",
         "Dairy",
         228.6352,
         3435.528,
         true
        ],
        [
         "FDU02",
         "Dairy",
         228.8352,
         5267.8096,
         true
        ],
        [
         "DRJ51",
         "Dairy",
         229.0668,
         3225.1352,
         true
        ],
        [
         "FDU02",
         "Dairy",
         229.9352,
         2519.3872,
         true
        ],
        [
         "FDU02",
         "Dairy",
         230.5352,
         2748.4224,
         true
        ],
        [
         "FDU02",
         "Dairy",
         230.6352,
         3435.528,
         true
        ],
        [
         "FDU02",
         "Dairy",
         230.6352,
         5725.88,
         true
        ],
        [
         "FDY38",
         "Dairy",
         231.03,
         5359.69,
         true
        ],
        [
         "DRJ51",
         "Dairy",
         231.1668,
         7602.1044,
         true
        ],
        [
         "FDY38",
         "Dairy",
         231.23,
         2330.3,
         true
        ],
        [
         "FDY38",
         "Dairy",
         231.63,
         2563.33,
         true
        ],
        [
         "DRD15",
         "Dairy",
         231.9642,
         2091.2778,
         true
        ],
        [
         "DRD15",
         "Dairy",
         231.9642,
         3020.7346,
         true
        ],
        [
         "DRJ51",
         "Dairy",
         231.9668,
         1842.9344,
         true
        ],
        [
         "DRJ51",
         "Dairy",
         232.2668,
         4146.6024,
         true
        ],
        [
         "FDD03",
         "Dairy",
         232.63,
         1864.24,
         true
        ],
        [
         "FDD03",
         "Dairy",
         232.73,
         2796.36,
         true
        ],
        [
         "DRD15",
         "Dairy",
         232.8642,
         3485.463,
         true
        ],
        [
         "FDD03",
         "Dairy",
         233.03,
         5359.69,
         true
        ],
        [
         "DRD15",
         "Dairy",
         233.6642,
         3950.1914,
         true
        ],
        [
         "DRD15",
         "Dairy",
         233.9642,
         3717.8272,
         true
        ],
        [
         "FDD03",
         "Dairy",
         234.03,
         4194.54,
         true
        ],
        [
         "FDY38",
         "Dairy",
         234.53,
         6524.84,
         true
        ],
        [
         "FDZ26",
         "Dairy",
         237.5222,
         7170.666,
         true
        ],
        [
         "FDZ26",
         "Dairy",
         238.3222,
         5736.5328,
         true
        ],
        [
         "FDA38",
         "Dairy",
         238.7538,
         3605.307,
         true
        ],
        [
         "FDB03",
         "Dairy",
         239.1538,
         4326.3684,
         true
        ],
        [
         "FDZ26",
         "Dairy",
         239.4222,
         3346.3108,
         true
        ],
        [
         "FDZ26",
         "Dairy",
         239.6222,
         2390.222,
         true
        ],
        [
         "FDZ26",
         "Dairy",
         239.8222,
         4063.3774,
         true
        ],
        [
         "FDB03",
         "Dairy",
         240.5538,
         3845.6608,
         true
        ],
        [
         "FDZ26",
         "Dairy",
         240.6222,
         2868.2664,
         true
        ],
        [
         "FDB03",
         "Dairy",
         240.7538,
         4566.7222,
         true
        ],
        [
         "FDZ26",
         "Dairy",
         240.8222,
         3585.333,
         true
        ],
        [
         "FDA38",
         "Dairy",
         241.2538,
         3124.5994,
         true
        ],
        [
         "FDC04",
         "Dairy",
         241.3854,
         2900.2248,
         true
        ],
        [
         "FDC04",
         "Dairy",
         241.8854,
         4592.0226,
         true
        ],
        [
         "FDB03",
         "Dairy",
         242.1538,
         4326.3684,
         true
        ],
        [
         "FDC04",
         "Dairy",
         242.3854,
         2416.854,
         true
        ],
        [
         "FDC04",
         "Dairy",
         242.9854,
         2175.1686,
         true
        ],
        [
         "DRC27",
         "Dairy",
         243.6802,
         1965.4416,
         true
        ],
        [
         "DRC27",
         "Dairy",
         245.1802,
         5650.6446,
         true
        ],
        [
         "DRC27",
         "Dairy",
         246.9802,
         5896.3248,
         true
        ],
        [
         "FDF40",
         "Dairy",
         248.1092,
         4731.1748,
         true
        ],
        [
         "FDU14",
         "Dairy",
         248.375,
         10236.675,
         true
        ],
        [
         "FDF40",
         "Dairy",
         248.4092,
         2241.0828,
         true
        ],
        [
         "FDA15",
         "Dairy",
         248.5092,
         6474.2392,
         true
        ],
        [
         "FDU14",
         "Dairy",
         248.675,
         4993.5,
         true
        ],
        [
         "FDU14",
         "Dairy",
         248.775,
         3745.125,
         true
        ],
        [
         "FDA15",
         "Dairy",
         248.8092,
         5976.2208,
         true
        ],
        [
         "FDA15",
         "Dairy",
         249.5092,
         6474.2392,
         true
        ],
        [
         "FDA15",
         "Dairy",
         249.6092,
         5976.2208,
         true
        ],
        [
         "FDA15",
         "Dairy",
         249.8092,
         3735.138,
         true
        ],
        [
         "FDA15",
         "Dairy",
         250.2092,
         5976.2208,
         true
        ],
        [
         "FDA15",
         "Dairy",
         250.6092,
         6474.2392,
         true
        ],
        [
         "FDF40",
         "Dairy",
         250.9092,
         8217.3036,
         true
        ],
        [
         "FDA27",
         "Dairy",
         253.9672,
         3068.0064,
         true
        ],
        [
         "FDK03",
         "Dairy",
         254.2356,
         4578.0408,
         true
        ],
        [
         "FDK03",
         "Dairy",
         254.9356,
         8138.7392,
         true
        ],
        [
         "FDK03",
         "Dairy",
         255.5356,
         9664.7528,
         true
        ],
        [
         "FDK03",
         "Dairy",
         255.6356,
         2797.6916,
         true
        ],
        [
         "FDK03",
         "Dairy",
         255.9356,
         4832.3764,
         true
        ],
        [
         "FDB52",
         "Dairy",
         256.0672,
         2045.3376,
         true
        ],
        [
         "FDK03",
         "Dairy",
         256.1356,
         4578.0408,
         true
        ],
        [
         "FDA27",
         "Dairy",
         256.7672,
         5624.6784,
         true
        ],
        [
         "FDB52",
         "Dairy",
         256.7672,
         4346.3424,
         true
        ],
        [
         "FDA27",
         "Dairy",
         256.8672,
         3579.3408,
         true
        ],
        [
         "FDB52",
         "Dairy",
         256.9672,
         1534.0032,
         true
        ],
        [
         "FDA27",
         "Dairy",
         257.2672,
         2045.3376,
         true
        ],
        [
         "FDB52",
         "Dairy",
         257.2672,
         3068.0064,
         true
        ],
        [
         "FDB52",
         "Dairy",
         257.4672,
         3835.008,
         true
        ],
        [
         "FDS26",
         "Dairy",
         260.1594,
         2093.2752,
         true
        ],
        [
         "FDS26",
         "Dairy",
         260.5594,
         9158.079,
         true
        ],
        [
         "FDY02",
         "Dairy",
         261.091,
         3418.883,
         true
        ],
        [
         "FDF39",
         "Dairy",
         261.291,
         10256.649,
         true
        ],
        [
         "FDY02",
         "Dairy",
         261.391,
         1840.937,
         true
        ],
        [
         "FDF39",
         "Dairy",
         261.591,
         2366.919,
         true
        ],
        [
         "FDS26",
         "Dairy",
         261.6594,
         7588.1226,
         true
        ],
        [
         "FDS26",
         "Dairy",
         262.1594,
         3139.9128,
         true
        ],
        [
         "FDB15",
         "Dairy",
         262.2568,
         3954.852,
         true
        ],
        [
         "FDF39",
         "Dairy",
         262.591,
         4996.829,
         true
        ],
        [
         "FDY14",
         "Dairy",
         263.0226,
         6079.4198,
         true
        ],
        [
         "FDY14",
         "Dairy",
         263.0226,
         4229.1616,
         true
        ],
        [
         "FDY02",
         "Dairy",
         263.491,
         1840.937,
         true
        ],
        [
         "FDI15",
         "Dairy",
         263.5884,
         2384.8956,
         true
        ],
        [
         "FDY14",
         "Dairy",
         263.6226,
         6608.065,
         true
        ],
        [
         "FDB15",
         "Dairy",
         263.7568,
         7646.0472,
         true
        ],
        [
         "FDI15",
         "Dairy",
         263.7884,
         3709.8376,
         true
        ],
        [
         "FDI15",
         "Dairy",
         263.7884,
         5564.7564,
         true
        ],
        [
         "FDF39",
         "Dairy",
         263.791,
         4207.856,
         true
        ],
        [
         "FDY02",
         "Dairy",
         263.991,
         9467.676,
         true
        ],
        [
         "FDK51",
         "Dairy",
         264.0884,
         5829.7448,
         true
        ],
        [
         "FDI15",
         "Dairy",
         264.1884,
         3179.8608,
         true
        ],
        [
         "FDB15",
         "Dairy",
         264.3568,
         4745.8224,
         true
        ],
        [
         "FDY14",
         "Dairy",
         264.5226,
         3436.1938,
         true
        ],
        [
         "FDB15",
         "Dairy",
         264.5568,
         5536.7928,
         true
        ],
        [
         "FDK51",
         "Dairy",
         264.5884,
         5829.7448,
         true
        ],
        [
         "FDY02",
         "Dairy",
         264.791,
         4733.838,
         true
        ],
        [
         "FDI15",
         "Dairy",
         265.0884,
         8479.6288,
         true
        ],
        [
         "FDK51",
         "Dairy",
         265.1884,
         5034.7796,
         true
        ],
        [
         "FDB15",
         "Dairy",
         265.2568,
         4218.5088,
         true
        ],
        [
         "FDK51",
         "Dairy",
         265.2884,
         3179.8608,
         true
        ],
        [
         "FDK51",
         "Dairy",
         265.8884,
         2649.884,
         true
        ],
        [
         "FDK51",
         "Dairy",
         266.1884,
         3179.8608,
         true
        ],
        [
         "FDE16",
         "Frozen Foods",
         207.5954,
         6668.6528,
         true
        ],
        [
         "FDE16",
         "Frozen Foods",
         207.8954,
         3542.7218,
         true
        ],
        [
         "FDE16",
         "Frozen Foods",
         208.4954,
         6251.862,
         true
        ],
        [
         "FDC17",
         "Frozen Foods",
         208.9928,
         9678.0688,
         true
        ],
        [
         "FDE16",
         "Frozen Foods",
         208.9954,
         4584.6988,
         true
        ],
        [
         "FDC17",
         "Frozen Foods",
         209.9928,
         5259.82,
         true
        ],
        [
         "FDE16",
         "Frozen Foods",
         210.3954,
         5001.4896,
         true
        ],
        [
         "FDC17",
         "Frozen Foods",
         211.2928,
         2735.1064,
         true
        ],
        [
         "FDC17",
         "Frozen Foods",
         211.2928,
         5049.4272,
         true
        ],
        [
         "FDY28",
         "Frozen Foods",
         211.8218,
         6411.654,
         true
        ],
        [
         "FDC17",
         "Frozen Foods",
         211.8928,
         5890.9984,
         true
        ],
        [
         "FDC17",
         "Frozen Foods",
         212.0928,
         2735.1064,
         true
        ],
        [
         "FDR16",
         "Frozen Foods",
         213.2218,
         7266.5412,
         true
        ],
        [
         "FDY28",
         "Frozen Foods",
         214.3218,
         4274.436,
         true
        ],
        [
         "FDG16",
         "Frozen Foods",
         214.4192,
         4961.5416,
         true
        ],
        [
         "FDY28",
         "Frozen Foods",
         214.4218,
         4274.436,
         true
        ],
        [
         "FDR16",
         "Frozen Foods",
         214.4218,
         5343.045,
         true
        ],
        [
         "FDH41",
         "Frozen Foods",
         214.5534,
         3440.8544,
         true
        ],
        [
         "FDH41",
         "Frozen Foods",
         214.7534,
         5806.4418,
         true
        ],
        [
         "FDY28",
         "Frozen Foods",
         215.2218,
         3419.5488,
         true
        ],
        [
         "FDH41",
         "Frozen Foods",
         216.2534,
         4301.068,
         true
        ],
        [
         "FDG16",
         "Frozen Foods",
         217.1192,
         3235.788,
         true
        ],
        [
         "FDG16",
         "Frozen Foods",
         217.3192,
         5608.6992,
         true
        ],
        [
         "FDA16",
         "Frozen Foods",
         219.4456,
         3094.6384,
         true
        ],
        [
         "FDA16",
         "Frozen Foods",
         220.8456,
         5084.0488,
         true
        ],
        [
         "FDA16",
         "Frozen Foods",
         222.8456,
         7073.4592,
         true
        ],
        [
         "FDK52",
         "Frozen Foods",
         223.8062,
         4288.4178,
         true
        ],
        [
         "FDK52",
         "Frozen Foods",
         224.1062,
         4965.5364,
         true
        ],
        [
         "FDK52",
         "Frozen Foods",
         225.3062,
         4288.4178,
         true
        ],
        [
         "FDK52",
         "Frozen Foods",
         226.1062,
         6771.186,
         true
        ],
        [
         "FDE28",
         "Frozen Foods",
         228.4668,
         3916.2356,
         true
        ],
        [
         "FDP52",
         "Frozen Foods",
         228.601,
         4823.721,
         true
        ],
        [
         "FDP52",
         "Frozen Foods",
         228.601,
         7350.432,
         true
        ],
        [
         "FDL28",
         "Frozen Foods",
         228.6668,
         3455.502,
         true
        ],
        [
         "FDE28",
         "Frozen Foods",
         228.6668,
         4146.6024,
         true
        ],
        [
         "FDP52",
         "Frozen Foods",
         229.201,
         3215.814,
         true
        ],
        [
         "FDH05",
         "Frozen Foods",
         229.7984,
         6024.1584,
         true
        ],
        [
         "FDP52",
         "Frozen Foods",
         230.201,
         5742.525,
         true
        ],
        [
         "FDH05",
         "Frozen Foods",
         231.2984,
         3243.7776,
         true
        ],
        [
         "FDH05",
         "Frozen Foods",
         231.2984,
         6024.1584,
         true
        ],
        [
         "FDE28",
         "Frozen Foods",
         231.3668,
         5759.17,
         true
        ],
        [
         "FDH05",
         "Frozen Foods",
         231.8984,
         4633.968,
         true
        ],
        [
         "FDD17",
         "Frozen Foods",
         235.9906,
         6893.0274,
         true
        ],
        [
         "FDD17",
         "Frozen Foods",
         238.1906,
         3327.6684,
         true
        ],
        [
         "FDD17",
         "Frozen Foods",
         238.7906,
         4040.7402,
         true
        ],
        [
         "FDD17",
         "Frozen Foods",
         239.0906,
         5942.265,
         true
        ],
        [
         "FDD17",
         "Frozen Foods",
         239.6906,
         2614.5966,
         true
        ],
        [
         "FDP16",
         "Frozen Foods",
         243.6802,
         5896.3248,
         true
        ],
        [
         "FDP16",
         "Frozen Foods",
         244.0802,
         3193.8426,
         true
        ],
        [
         "FDG17",
         "Frozen Foods",
         244.1486,
         2687.8346,
         true
        ],
        [
         "FDG17",
         "Frozen Foods",
         244.4486,
         6353.0636,
         true
        ],
        [
         "FDG17",
         "Frozen Foods",
         244.4486,
         4153.9262,
         true
        ],
        [
         "FDT52",
         "Frozen Foods",
         244.6144,
         2695.1584,
         true
        ],
        [
         "FDT52",
         "Frozen Foods",
         244.6144,
         3185.1872,
         true
        ],
        [
         "FDF41",
         "Frozen Foods",
         245.246,
         3202.498,
         true
        ],
        [
         "FDG28",
         "Frozen Foods",
         245.6144,
         3920.2304,
         true
        ],
        [
         "FDT52",
         "Frozen Foods",
         245.8144,
         3430.2016,
         true
        ],
        [
         "FDF41",
         "Frozen Foods",
         245.846,
         4434.228,
         true
        ],
        [
         "FDB05",
         "Frozen Foods",
         245.8776,
         4705.8744,
         true
        ],
        [
         "FDT52",
         "Frozen Foods",
         246.0144,
         4165.2448,
         true
        ],
        [
         "FDT52",
         "Frozen Foods",
         246.2144,
         3675.216,
         true
        ],
        [
         "FDG17",
         "Frozen Foods",
         246.2486,
         8063.5038,
         true
        ],
        [
         "FDP16",
         "Frozen Foods",
         246.3802,
         7370.406,
         true
        ],
        [
         "FDQ52",
         "Frozen Foods",
         246.5434,
         4470.1812,
         true
        ],
        [
         "FDP16",
         "Frozen Foods",
         246.6802,
         2702.4822,
         true
        ],
        [
         "FDF41",
         "Frozen Foods",
         246.846,
         6404.996,
         true
        ],
        [
         "FDB05",
         "Frozen Foods",
         247.2776,
         5944.2624,
         true
        ],
        [
         "FDQ52",
         "Frozen Foods",
         247.4434,
         2980.1208,
         true
        ],
        [
         "FDF41",
         "Frozen Foods",
         248.046,
         7883.072,
         true
        ],
        [
         "FDQ52",
         "Frozen Foods",
         248.3434,
         6208.585,
         true
        ],
        [
         "FDQ52",
         "Frozen Foods",
         248.8434,
         6705.2718,
         true
        ],
        [
         "FDQ52",
         "Frozen Foods",
         249.4434,
         5960.2416,
         true
        ],
        [
         "FDQ52",
         "Frozen Foods",
         249.7434,
         4221.8378,
         true
        ],
        [
         "FDD29",
         "Frozen Foods",
         251.6698,
         6088.0752,
         true
        ],
        [
         "FDD29",
         "Frozen Foods",
         252.7698,
         5834.4054,
         true
        ],
        [
         "FDD29",
         "Frozen Foods",
         254.7698,
         5834.4054,
         true
        ],
        [
         "FDD29",
         "Frozen Foods",
         254.7698,
         5073.396,
         true
        ],
        [
         "FDD29",
         "Frozen Foods",
         255.3698,
         4819.7262,
         true
        ],
        [
         "FDK28",
         "Frozen Foods",
         256.1646,
         3349.6398,
         true
        ],
        [
         "FDF04",
         "Frozen Foods",
         256.3304,
         6199.9296,
         true
        ],
        [
         "FDA04",
         "Frozen Foods",
         257.2962,
         4920.9278,
         true
        ],
        [
         "FDF04",
         "Frozen Foods",
         257.7304,
         5683.2688,
         true
        ],
        [
         "FDA04",
         "Frozen Foods",
         258.1962,
         4402.9354,
         true
        ],
        [
         "FDK28",
         "Frozen Foods",
         258.2646,
         5410.9566,
         true
        ],
        [
         "FDF04",
         "Frozen Foods",
         258.3304,
         3358.2952,
         true
        ],
        [
         "FDF04",
         "Frozen Foods",
         258.5304,
         6199.9296,
         true
        ],
        [
         "FDK28",
         "Frozen Foods",
         258.5646,
         4380.2982,
         true
        ],
        [
         "FDT16",
         "Frozen Foods",
         258.7278,
         5466.8838,
         true
        ],
        [
         "FDA04",
         "Frozen Foods",
         259.1962,
         5179.924,
         true
        ],
        [
         "FDA04",
         "Frozen Foods",
         259.1962,
         5438.9202,
         true
        ],
        [
         "FDF04",
         "Frozen Foods",
         259.2304,
         2841.6344,
         true
        ],
        [
         "FDK28",
         "Frozen Foods",
         259.2646,
         9275.9256,
         true
        ],
        [
         "FDF04",
         "Frozen Foods",
         259.7304,
         3616.6256,
         true
        ],
        [
         "FDP28",
         "Frozen Foods",
         259.7936,
         2609.936,
         true
        ],
        [
         "FDA04",
         "Frozen Foods",
         259.7962,
         5697.9164,
         true
        ],
        [
         "FDJ41",
         "Frozen Foods",
         260.0594,
         6018.1662,
         true
        ],
        [
         "FDP28",
         "Frozen Foods",
         260.1936,
         3914.904,
         true
        ],
        [
         "FDA04",
         "Frozen Foods",
         260.1962,
         2848.9582,
         true
        ],
        [
         "FDT16",
         "Frozen Foods",
         260.2278,
         4165.2448,
         true
        ],
        [
         "FDT16",
         "Frozen Foods",
         260.5278,
         8851.1452,
         true
        ],
        [
         "FDA04",
         "Frozen Foods",
         260.8962,
         4920.9278,
         true
        ],
        [
         "FDJ41",
         "Frozen Foods",
         261.2594,
         2878.2534,
         true
        ],
        [
         "FDF05",
         "Frozen Foods",
         261.291,
         3418.883,
         true
        ],
        [
         "FDF05",
         "Frozen Foods",
         261.291,
         5522.811,
         true
        ],
        [
         "FDP28",
         "Frozen Foods",
         261.2936,
         3131.9232,
         true
        ],
        [
         "FDJ41",
         "Frozen Foods",
         261.6594,
         3401.5722,
         true
        ],
        [
         "FDF05",
         "Frozen Foods",
         261.691,
         4207.856,
         true
        ],
        [
         "FDT16",
         "Frozen Foods",
         261.7278,
         4685.9004,
         true
        ],
        [
         "FDK40",
         "Frozen Foods",
         262.091,
         4207.856,
         true
        ],
        [
         "FDT16",
         "Frozen Foods",
         262.1278,
         3904.917,
         true
        ],
        [
         "FDJ41",
         "Frozen Foods",
         262.3594,
         3924.891,
         true
        ],
        [
         "FDF05",
         "Frozen Foods",
         262.491,
         5259.82,
         true
        ],
        [
         "FDF05",
         "Frozen Foods",
         262.591,
         4207.856,
         true
        ],
        [
         "FDK40",
         "Frozen Foods",
         262.691,
         6048.793,
         true
        ],
        [
         "FDP28",
         "Frozen Foods",
         262.6936,
         4175.8976,
         true
        ],
        [
         "FDK40",
         "Frozen Foods",
         262.791,
         3681.874,
         true
        ],
        [
         "FDP28",
         "Frozen Foods",
         262.8936,
         4958.8784,
         true
        ],
        [
         "FDK40",
         "Frozen Foods",
         263.191,
         6574.775,
         true
        ],
        [
         "FDK40",
         "Frozen Foods",
         263.791,
         4996.829,
         true
        ],
        [
         "FDF05",
         "Frozen Foods",
         264.391,
         5259.82,
         true
        ],
        [
         "FDF05",
         "Frozen Foods",
         264.491,
         3681.874,
         true
        ],
        [
         "FDK40",
         "Frozen Foods",
         264.691,
         5785.802,
         true
        ],
        [
         "FDF05",
         "Frozen Foods",
         264.891,
         4996.829,
         true
        ],
        [
         "FDK08",
         "Fruits and Vegetables",
         101.2016,
         2631.2416,
         true
        ],
        [
         "FDM44",
         "Fruits and Vegetables",
         102.899,
         2167.179,
         true
        ],
        [
         "FDB45",
         "Fruits and Vegetables",
         103.2306,
         2404.2038,
         true
        ],
        [
         "FDB45",
         "Fruits and Vegetables",
         104.9306,
         2299.6732,
         true
        ],
        [
         "FDO44",
         "Fruits and Vegetables",
         109.2228,
         3205.1612,
         true
        ],
        [
         "FDW19",
         "Fruits and Vegetables",
         109.957,
         4504.137,
         true
        ],
        [
         "FDO44",
         "Fruits and Vegetables",
         110.0228,
         3205.1612,
         true
        ],
        [
         "FDR08",
         "Fruits and Vegetables",
         110.2886,
         2223.772,
         true
        ],
        [
         "FDV07",
         "Fruits and Vegetables",
         110.3228,
         2763.07,
         true
        ],
        [
         "FDW19",
         "Fruits and Vegetables",
         110.657,
         2087.283,
         true
        ],
        [
         "FDV07",
         "Fruits and Vegetables",
         111.0228,
         3205.1612,
         true
        ],
        [
         "FDL20",
         "Fruits and Vegetables",
         111.1886,
         4447.544,
         true
        ],
        [
         "FDR08",
         "Fruits and Vegetables",
         111.1886,
         2334.9606,
         true
        ],
        [
         "FDC44",
         "Fruits and Vegetables",
         111.9518,
         2163.1842,
         true
        ],
        [
         "FDL20",
         "Fruits and Vegetables",
         111.9886,
         3002.0922,
         true
        ],
        [
         "FDL20",
         "Fruits and Vegetables",
         112.3886,
         2334.9606,
         true
        ],
        [
         "FDD21",
         "Fruits and Vegetables",
         113.1176,
         4695.2216,
         true
        ],
        [
         "FDI32",
         "Fruits and Vegetables",
         113.2834,
         4376.9692,
         true
        ],
        [
         "FDS07",
         "Fruits and Vegetables",
         113.7518,
         2049.3324,
         true
        ],
        [
         "FDD21",
         "Fruits and Vegetables",
         114.2176,
         2175.8344,
         true
        ],
        [
         "FDD21",
         "Fruits and Vegetables",
         114.4176,
         2633.9048,
         true
        ],
        [
         "FDC44",
         "Fruits and Vegetables",
         114.4518,
         2390.8878,
         true
        ],
        [
         "FDQ55",
         "Fruits and Vegetables",
         114.7834,
         3455.502,
         true
        ],
        [
         "FDC44",
         "Fruits and Vegetables",
         114.8518,
         2163.1842,
         true
        ],
        [
         "FDD21",
         "Fruits and Vegetables",
         115.0176,
         4122.6336,
         true
        ],
        [
         "FDI32",
         "Fruits and Vegetables",
         115.0834,
         2764.4016,
         true
        ],
        [
         "FDE21",
         "Fruits and Vegetables",
         115.3492,
         3823.0236,
         true
        ],
        [
         "FDC44",
         "Fruits and Vegetables",
         115.7518,
         5351.0346,
         true
        ],
        [
         "FDY19",
         "Fruits and Vegetables",
         115.8466,
         2474.7786,
         true
        ],
        [
         "FDN08",
         "Fruits and Vegetables",
         115.9466,
         4124.631,
         true
        ],
        [
         "FDQ55",
         "Fruits and Vegetables",
         115.9834,
         2994.7684,
         true
        ],
        [
         "FDY19",
         "Fruits and Vegetables",
         116.5466,
         2828.3184,
         true
        ],
        [
         "FDH56",
         "Fruits and Vegetables",
         116.6492,
         2316.984,
         true
        ],
        [
         "FDI32",
         "Fruits and Vegetables",
         116.6834,
         3570.6854,
         true
        ],
        [
         "FDH56",
         "Fruits and Vegetables",
         117.1492,
         2780.3808,
         true
        ],
        [
         "FDY19",
         "Fruits and Vegetables",
         117.2466,
         2239.0854,
         true
        ],
        [
         "FDT44",
         "Fruits and Vegetables",
         117.2466,
         2239.0854,
         true
        ],
        [
         "FDN08",
         "Fruits and Vegetables",
         119.3466,
         3064.0116,
         true
        ],
        [
         "FDC56",
         "Fruits and Vegetables",
         119.744,
         3355.632,
         true
        ],
        [
         "FDY19",
         "Fruits and Vegetables",
         119.8466,
         2239.0854,
         true
        ],
        [
         "FDQ44",
         "Fruits and Vegetables",
         120.0756,
         2302.3364,
         true
        ],
        [
         "FDQ44",
         "Fruits and Vegetables",
         120.1756,
         2059.9852,
         true
        ],
        [
         "FDQ44",
         "Fruits and Vegetables",
         120.1756,
         3392.9168,
         true
        ],
        [
         "FDU20",
         "Fruits and Vegetables",
         120.3098,
         2530.7058,
         true
        ],
        [
         "FDK20",
         "Fruits and Vegetables",
         120.5072,
         2695.1584,
         true
        ],
        [
         "FDU32",
         "Fruits and Vegetables",
         120.7414,
         4386.2904,
         true
        ],
        [
         "FDA56",
         "Fruits and Vegetables",
         120.8414,
         2071.3038,
         true
        ],
        [
         "FDA07",
         "Fruits and Vegetables",
         121.0072,
         2082.6224,
         true
        ],
        [
         "FDQ44",
         "Fruits and Vegetables",
         121.2756,
         2181.1608,
         true
        ],
        [
         "FDC56",
         "Fruits and Vegetables",
         121.744,
         2277.036,
         true
        ],
        [
         "FDQ32",
         "Fruits and Vegetables",
         121.9388,
         3962.8416,
         true
        ],
        [
         "FDU20",
         "Fruits and Vegetables",
         122.1098,
         3374.2744,
         true
        ],
        [
         "FDU20",
         "Fruits and Vegetables",
         122.1098,
         2892.2352,
         true
        ],
        [
         "FDU20",
         "Fruits and Vegetables",
         122.2098,
         2771.7254,
         true
        ],
        [
         "FDQ44",
         "Fruits and Vegetables",
         122.3756,
         2544.6876,
         true
        ],
        [
         "FDQ32",
         "Fruits and Vegetables",
         122.8388,
         2972.1312,
         true
        ],
        [
         "FDA07",
         "Fruits and Vegetables",
         122.9072,
         4532.7664,
         true
        ],
        [
         "FDQ32",
         "Fruits and Vegetables",
         122.9388,
         3095.97,
         true
        ],
        [
         "FDA56",
         "Fruits and Vegetables",
         123.1414,
         4264.449,
         true
        ],
        [
         "FDW20",
         "Fruits and Vegetables",
         123.373,
         2093.941,
         true
        ],
        [
         "FDA07",
         "Fruits and Vegetables",
         123.4072,
         2082.6224,
         true
        ],
        [
         "FDA56",
         "Fruits and Vegetables",
         123.5414,
         4508.1318,
         true
        ],
        [
         "FDK20",
         "Fruits and Vegetables",
         124.0072,
         4042.7376,
         true
        ],
        [
         "FDW20",
         "Fruits and Vegetables",
         124.173,
         2956.152,
         true
        ],
        [
         "FDD20",
         "Fruits and Vegetables",
         124.2046,
         2490.092,
         true
        ],
        [
         "FDA07",
         "Fruits and Vegetables",
         124.3072,
         2695.1584,
         true
        ],
        [
         "FDK20",
         "Fruits and Vegetables",
         124.3072,
         5022.7952,
         true
        ],
        [
         "FDK20",
         "Fruits and Vegetables",
         124.5072,
         2450.144,
         true
        ],
        [
         "FDW20",
         "Fruits and Vegetables",
         124.973,
         2463.46,
         true
        ],
        [
         "FDJ20",
         "Fruits and Vegetables",
         125.5388,
         2105.2596,
         true
        ],
        [
         "FDV20",
         "Fruits and Vegetables",
         125.9678,
         2797.6916,
         true
        ],
        [
         "FDD20",
         "Fruits and Vegetables",
         126.4046,
         5353.6978,
         true
        ],
        [
         "FDP32",
         "Fruits and Vegetables",
         127.2678,
         2416.1882,
         true
        ],
        [
         "FDV20",
         "Fruits and Vegetables",
         127.4678,
         3560.6984,
         true
        ],
        [
         "FDV20",
         "Fruits and Vegetables",
         128.0678,
         2797.6916,
         true
        ],
        [
         "FDP19",
         "Fruits and Vegetables",
         128.1652,
         2454.1388,
         true
        ],
        [
         "FDA19",
         "Fruits and Vegetables",
         128.2994,
         3983.4814,
         true
        ],
        [
         "FDP19",
         "Fruits and Vegetables",
         128.4652,
         2841.6344,
         true
        ],
        [
         "FDA19",
         "Fruits and Vegetables",
         128.8994,
         2055.9904,
         true
        ],
        [
         "FDP19",
         "Fruits and Vegetables",
         129.0652,
         3487.4604,
         true
        ],
        [
         "FDV20",
         "Fruits and Vegetables",
         129.0678,
         3560.6984,
         true
        ],
        [
         "FDP19",
         "Fruits and Vegetables",
         129.3652,
         2066.6432,
         true
        ],
        [
         "FDF44",
         "Fruits and Vegetables",
         129.4968,
         3392.9168,
         true
        ],
        [
         "FDR44",
         "Fruits and Vegetables",
         129.5968,
         2348.9424,
         true
        ],
        [
         "FDH57",
         "Fruits and Vegetables",
         130.3284,
         2504.7396,
         true
        ],
        [
         "FDF44",
         "Fruits and Vegetables",
         130.3968,
         3523.4136,
         true
        ],
        [
         "FDR44",
         "Fruits and Vegetables",
         130.4968,
         3523.4136,
         true
        ],
        [
         "FDF44",
         "Fruits and Vegetables",
         130.9968,
         2348.9424,
         true
        ],
        [
         "FDF44",
         "Fruits and Vegetables",
         130.9968,
         4828.3816,
         true
        ],
        [
         "FDH57",
         "Fruits and Vegetables",
         131.4284,
         5404.9644,
         true
        ],
        [
         "FDF44",
         "Fruits and Vegetables",
         132.1968,
         2870.9296,
         true
        ],
        [
         "FDH57",
         "Fruits and Vegetables",
         132.9284,
         3295.71,
         true
        ],
        [
         "FDS32",
         "Fruits and Vegetables",
         140.5838,
         2669.1922,
         true
        ],
        [
         "FDE57",
         "Fruits and Vegetables",
         140.6154,
         4538.0928,
         true
        ],
        [
         "FDE57",
         "Fruits and Vegetables",
         141.0154,
         2694.4926,
         true
        ],
        [
         "FDY08",
         "Fruits and Vegetables",
         141.5838,
         3231.1274,
         true
        ],
        [
         "FDS32",
         "Fruits and Vegetables",
         141.9838,
         4354.9978,
         true
        ],
        [
         "FDX32",
         "Fruits and Vegetables",
         142.5786,
         3323.0078,
         true
        ],
        [
         "FDN56",
         "Fruits and Vegetables",
         142.6786,
         2311.6576,
         true
        ],
        [
         "FDE57",
         "Fruits and Vegetables",
         142.9154,
         3261.7542,
         true
        ],
        [
         "FDN56",
         "Fruits and Vegetables",
         143.8786,
         4334.358,
         true
        ],
        [
         "FDX32",
         "Fruits and Vegetables",
         144.0786,
         2600.6148,
         true
        ],
        [
         "FDR31",
         "Fruits and Vegetables",
         144.4102,
         4374.306,
         true
        ],
        [
         "FDR31",
         "Fruits and Vegetables",
         144.6102,
         2916.204,
         true
        ],
        [
         "FDX32",
         "Fruits and Vegetables",
         144.7786,
         2600.6148,
         true
        ],
        [
         "FDN56",
         "Fruits and Vegetables",
         144.8786,
         3323.0078,
         true
        ],
        [
         "FDN56",
         "Fruits and Vegetables",
         144.9786,
         2022.7004,
         true
        ],
        [
         "FDV55",
         "Fruits and Vegetables",
         145.1444,
         3918.8988,
         true
        ],
        [
         "FDY31",
         "Fruits and Vegetables",
         145.3418,
         2354.2688,
         true
        ],
        [
         "FDR19",
         "Fruits and Vegetables",
         145.4102,
         3499.4448,
         true
        ],
        [
         "FDN56",
         "Fruits and Vegetables",
         145.4786,
         5779.144,
         true
        ],
        [
         "FDR19",
         "Fruits and Vegetables",
         145.5102,
         5978.2182,
         true
        ],
        [
         "FDN56",
         "Fruits and Vegetables",
         145.5786,
         3900.9222,
         true
        ],
        [
         "FDV55",
         "Fruits and Vegetables",
         145.6444,
         2467.4548,
         true
        ],
        [
         "FDY31",
         "Fruits and Vegetables",
         146.1418,
         3089.9778,
         true
        ],
        [
         "FDE08",
         "Fruits and Vegetables",
         146.4734,
         3563.3616,
         true
        ],
        [
         "FDS55",
         "Fruits and Vegetables",
         146.4734,
         4157.2552,
         true
        ],
        [
         "FDY31",
         "Fruits and Vegetables",
         146.6418,
         4414.254,
         true
        ],
        [
         "FDS55",
         "Fruits and Vegetables",
         146.8734,
         3563.3616,
         true
        ],
        [
         "FDR19",
         "Fruits and Vegetables",
         147.0102,
         2770.3938,
         true
        ],
        [
         "FDE08",
         "Fruits and Vegetables",
         147.3734,
         2375.5744,
         true
        ],
        [
         "FDS55",
         "Fruits and Vegetables",
         147.3734,
         2524.0478,
         true
        ],
        [
         "FDR31",
         "Fruits and Vegetables",
         147.4102,
         3207.8244,
         true
        ],
        [
         "FDR19",
         "Fruits and Vegetables",
         147.6102,
         4082.6856,
         true
        ],
        [
         "FDE08",
         "Fruits and Vegetables",
         147.7734,
         4602.6754,
         true
        ],
        [
         "FDH44",
         "Fruits and Vegetables",
         148.0418,
         3825.6868,
         true
        ],
        [
         "FDH44",
         "Fruits and Vegetables",
         148.2418,
         3089.9778,
         true
        ],
        [
         "FDY31",
         "Fruits and Vegetables",
         148.2418,
         2354.2688,
         true
        ],
        [
         "FDY31",
         "Fruits and Vegetables",
         148.4418,
         2354.2688,
         true
        ],
        [
         "FDS55",
         "Fruits and Vegetables",
         148.4734,
         3563.3616,
         true
        ],
        [
         "FDT08",
         "Fruits and Vegetables",
         148.705,
         2996.1,
         true
        ],
        [
         "FDT08",
         "Fruits and Vegetables",
         149.005,
         2097.27,
         true
        ],
        [
         "FDU07",
         "Fruits and Vegetables",
         149.1366,
         4231.8248,
         true
        ],
        [
         "FDT08",
         "Fruits and Vegetables",
         150.005,
         2247.075,
         true
        ],
        [
         "FDS55",
         "Fruits and Vegetables",
         150.0734,
         4454.202,
         true
        ],
        [
         "FDT08",
         "Fruits and Vegetables",
         150.505,
         2696.49,
         true
        ],
        [
         "FDU07",
         "Fruits and Vegetables",
         151.3366,
         3022.732,
         true
        ],
        [
         "FDT08",
         "Fruits and Vegetables",
         151.505,
         2846.295,
         true
        ],
        [
         "FDT08",
         "Fruits and Vegetables",
         151.805,
         2696.49,
         true
        ],
        [
         "FDK32",
         "Fruits and Vegetables",
         152.4682,
         2439.4912,
         true
        ],
        [
         "FDK32",
         "Fruits and Vegetables",
         152.8682,
         5031.4506,
         true
        ],
        [
         "FDK32",
         "Fruits and Vegetables",
         154.2682,
         3354.3004,
         true
        ],
        [
         "FDT55",
         "Fruits and Vegetables",
         155.7946,
         3471.4812,
         true
        ],
        [
         "FDT55",
         "Fruits and Vegetables",
         156.4946,
         2998.0974,
         true
        ],
        [
         "FDT55",
         "Fruits and Vegetables",
         156.7946,
         3629.2758,
         true
        ],
        [
         "FDT55",
         "Fruits and Vegetables",
         156.7946,
         2840.3028,
         true
        ],
        [
         "FDT55",
         "Fruits and Vegetables",
         157.0946,
         5522.811,
         true
        ],
        [
         "FDB33",
         "Fruits and Vegetables",
         158.1262,
         4137.2812,
         true
        ],
        [
         "FDT55",
         "Fruits and Vegetables",
         158.1946,
         6942.9624,
         true
        ],
        [
         "FDZ55",
         "Fruits and Vegetables",
         158.492,
         3994.8,
         true
        ],
        [
         "FDB33",
         "Fruits and Vegetables",
         158.6262,
         3819.0288,
         true
        ],
        [
         "FDB08",
         "Fruits and Vegetables",
         158.7578,
         2085.9514,
         true
        ],
        [
         "FDZ55",
         "Fruits and Vegetables",
         158.792,
         4474.176,
         true
        ],
        [
         "FDV19",
         "Fruits and Vegetables",
         159.5578,
         2085.9514,
         true
        ],
        [
         "FDZ55",
         "Fruits and Vegetables",
         159.692,
         5592.72,
         true
        ],
        [
         "FDB08",
         "Fruits and Vegetables",
         159.9578,
         2727.7826,
         true
        ],
        [
         "FDB08",
         "Fruits and Vegetables",
         160.1578,
         3048.6982,
         true
        ],
        [
         "FDL44",
         "Fruits and Vegetables",
         160.2894,
         3235.788,
         true
        ],
        [
         "FDN44",
         "Fruits and Vegetables",
         160.292,
         4793.76,
         true
        ],
        [
         "FDB08",
         "Fruits and Vegetables",
         160.3578,
         2406.867,
         true
        ],
        [
         "FDB33",
         "Fruits and Vegetables",
         160.4262,
         3182.524,
         true
        ],
        [
         "FDL44",
         "Fruits and Vegetables",
         160.4894,
         3073.9986,
         true
        ],
        [
         "FDB33",
         "Fruits and Vegetables",
         160.7262,
         2864.2716,
         true
        ],
        [
         "FDZ55",
         "Fruits and Vegetables",
         160.892,
         2396.88,
         true
        ],
        [
         "FDV19",
         "Fruits and Vegetables",
         160.9578,
         2246.4092,
         true
        ],
        [
         "FDV19",
         "Fruits and Vegetables",
         160.9578,
         4813.734,
         true
        ],
        [
         "FDZ55",
         "Fruits and Vegetables",
         160.992,
         2716.464,
         true
        ],
        [
         "FDU44",
         "Fruits and Vegetables",
         161.0552,
         3411.5592,
         true
        ],
        [
         "FDV19",
         "Fruits and Vegetables",
         161.2578,
         4171.9028,
         true
        ],
        [
         "FDN44",
         "Fruits and Vegetables",
         161.592,
         4314.384,
         true
        ],
        [
         "FDU44",
         "Fruits and Vegetables",
         162.1552,
         3086.6488,
         true
        ],
        [
         "FDV19",
         "Fruits and Vegetables",
         162.2578,
         3690.5294,
         true
        ],
        [
         "FDL44",
         "Fruits and Vegetables",
         162.7894,
         5500.8396,
         true
        ],
        [
         "FDL44",
         "Fruits and Vegetables",
         162.8894,
         3397.5774,
         true
        ],
        [
         "FDY32",
         "Fruits and Vegetables",
         164.021,
         3914.904,
         true
        ],
        [
         "FDA08",
         "Fruits and Vegetables",
         164.1526,
         3124.5994,
         true
        ],
        [
         "FDU44",
         "Fruits and Vegetables",
         164.1552,
         5198.5664,
         true
        ],
        [
         "FDU44",
         "Fruits and Vegetables",
         164.1552,
         3249.104,
         true
        ],
        [
         "FDA08",
         "Fruits and Vegetables",
         164.2526,
         3946.8624,
         true
        ],
        [
         "FDA08",
         "Fruits and Vegetables",
         164.6526,
         2137.8838,
         true
        ],
        [
         "FDX43",
         "Fruits and Vegetables",
         165.05,
         2330.3,
         true
        ],
        [
         "FDO08",
         "Fruits and Vegetables",
         165.9526,
         2631.2416,
         true
        ],
        [
         "FDZ56",
         "Fruits and Vegetables",
         166.4474,
         5390.3168,
         true
        ],
        [
         "FDZ56",
         "Fruits and Vegetables",
         166.9474,
         2863.6058,
         true
        ],
        [
         "FDN20",
         "Fruits and Vegetables",
         167.0474,
         2358.2636,
         true
        ],
        [
         "FDX43",
         "Fruits and Vegetables",
         167.25,
         2330.3,
         true
        ],
        [
         "FDE20",
         "Fruits and Vegetables",
         167.879,
         4074.696,
         true
        ],
        [
         "FDZ56",
         "Fruits and Vegetables",
         168.2474,
         3200.5006,
         true
        ],
        [
         "FDE20",
         "Fruits and Vegetables",
         168.279,
         2376.906,
         true
        ],
        [
         "FDE20",
         "Fruits and Vegetables",
         168.379,
         3225.801,
         true
        ],
        [
         "FDF57",
         "Fruits and Vegetables",
         168.6448,
         3408.896,
         true
        ],
        [
         "FDF57",
         "Fruits and Vegetables",
         168.6448,
         2897.5616,
         true
        ],
        [
         "FDN20",
         "Fruits and Vegetables",
         169.2474,
         3705.8428,
         true
        ],
        [
         "FDE20",
         "Fruits and Vegetables",
         169.279,
         2376.906,
         true
        ],
        [
         "FDN20",
         "Fruits and Vegetables",
         169.5474,
         4211.185,
         true
        ],
        [
         "FDF57",
         "Fruits and Vegetables",
         169.6448,
         2045.3376,
         true
        ],
        [
         "FDF57",
         "Fruits and Vegetables",
         169.7448,
         3238.4512,
         true
        ],
        [
         "FDW44",
         "Fruits and Vegetables",
         169.7448,
         3579.3408,
         true
        ],
        [
         "FDZ56",
         "Fruits and Vegetables",
         169.9474,
         2863.6058,
         true
        ],
        [
         "FDC45",
         "Fruits and Vegetables",
         170.3106,
         3422.212,
         true
        ],
        [
         "FDU19",
         "Fruits and Vegetables",
         170.5422,
         2759.0752,
         true
        ],
        [
         "FDG08",
         "Fruits and Vegetables",
         170.6764,
         3435.528,
         true
        ],
        [
         "FDF57",
         "Fruits and Vegetables",
         170.7448,
         2045.3376,
         true
        ],
        [
         "FDG08",
         "Fruits and Vegetables",
         170.8764,
         2233.0932,
         true
        ],
        [
         "FDE20",
         "Fruits and Vegetables",
         171.179,
         4923.591,
         true
        ],
        [
         "FDW44",
         "Fruits and Vegetables",
         171.3448,
         2386.2272,
         true
        ],
        [
         "FDA31",
         "Fruits and Vegetables",
         171.708,
         3115.944,
         true
        ],
        [
         "FDW44",
         "Fruits and Vegetables",
         171.8448,
         2556.672,
         true
        ],
        [
         "FDG08",
         "Fruits and Vegetables",
         171.8764,
         3779.0808,
         true
        ],
        [
         "FDG08",
         "Fruits and Vegetables",
         171.9764,
         2404.8696,
         true
        ],
        [
         "FDU19",
         "Fruits and Vegetables",
         172.0422,
         4828.3816,
         true
        ],
        [
         "FDG08",
         "Fruits and Vegetables",
         172.0764,
         4466.1864,
         true
        ],
        [
         "FDA31",
         "Fruits and Vegetables",
         172.108,
         2250.404,
         true
        ],
        [
         "FDT19",
         "Fruits and Vegetables",
         172.108,
         4327.7,
         true
        ],
        [
         "FDF57",
         "Fruits and Vegetables",
         172.2448,
         2897.5616,
         true
        ],
        [
         "FDC45",
         "Fruits and Vegetables",
         172.5106,
         2053.3272,
         true
        ],
        [
         "FDG08",
         "Fruits and Vegetables",
         172.6764,
         2061.3168,
         true
        ],
        [
         "FDT19",
         "Fruits and Vegetables",
         172.808,
         2250.404,
         true
        ],
        [
         "FDJ44",
         "Fruits and Vegetables",
         172.8396,
         2616.594,
         true
        ],
        [
         "FDA31",
         "Fruits and Vegetables",
         172.908,
         2769.728,
         true
        ],
        [
         "FDT19",
         "Fruits and Vegetables",
         172.908,
         6231.888,
         true
        ],
        [
         "FDK44",
         "Fruits and Vegetables",
         173.0738,
         3823.0236,
         true
        ],
        [
         "FDT19",
         "Fruits and Vegetables",
         173.108,
         2077.296,
         true
        ],
        [
         "FDJ44",
         "Fruits and Vegetables",
         173.2396,
         3139.9128,
         true
        ],
        [
         "FDK44",
         "Fruits and Vegetables",
         173.3738,
         2085.2856,
         true
        ],
        [
         "FDJ44",
         "Fruits and Vegetables",
         173.7396,
         3663.2316,
         true
        ],
        [
         "FDI45",
         "Fruits and Vegetables",
         173.8054,
         2801.6864,
         true
        ],
        [
         "FDU19",
         "Fruits and Vegetables",
         173.8422,
         3448.844,
         true
        ],
        [
         "FDI45",
         "Fruits and Vegetables",
         173.9054,
         3677.2134,
         true
        ],
        [
         "FDU19",
         "Fruits and Vegetables",
         173.9422,
         3103.9596,
         true
        ],
        [
         "FDI45",
         "Fruits and Vegetables",
         174.2054,
         3677.2134,
         true
        ],
        [
         "FDT19",
         "Fruits and Vegetables",
         174.708,
         2942.836,
         true
        ],
        [
         "FDJ44",
         "Fruits and Vegetables",
         175.0396,
         4012.1108,
         true
        ],
        [
         "FDV31",
         "Fruits and Vegetables",
         175.237,
         3881.614,
         true
        ],
        [
         "FDZ19",
         "Fruits and Vegetables",
         175.3712,
         2988.1104,
         true
        ],
        [
         "FDK44",
         "Fruits and Vegetables",
         175.4738,
         2954.1546,
         true
        ],
        [
         "FDI45",
         "Fruits and Vegetables",
         175.5054,
         2451.4756,
         true
        ],
        [
         "FDD56",
         "Fruits and Vegetables",
         175.6054,
         2451.4756,
         true
        ],
        [
         "FDI45",
         "Fruits and Vegetables",
         175.8054,
         2801.6864,
         true
        ],
        [
         "FDI45",
         "Fruits and Vegetables",
         176.1054,
         4027.4242,
         true
        ],
        [
         "FDJ44",
         "Fruits and Vegetables",
         176.1396,
         3663.2316,
         true
        ],
        [
         "FDD56",
         "Fruits and Vegetables",
         176.5054,
         2976.7918,
         true
        ],
        [
         "FDG20",
         "Fruits and Vegetables",
         177.0028,
         2479.4392,
         true
        ],
        [
         "FDD56",
         "Fruits and Vegetables",
         177.0054,
         3677.2134,
         true
        ],
        [
         "FDD56",
         "Fruits and Vegetables",
         177.0054,
         2976.7918,
         true
        ],
        [
         "FDD56",
         "Fruits and Vegetables",
         177.1054,
         3151.8972,
         true
        ],
        [
         "FDE45",
         "Fruits and Vegetables",
         177.3002,
         3044.7034,
         true
        ],
        [
         "FDZ19",
         "Fruits and Vegetables",
         177.7712,
         4921.5936,
         true
        ],
        [
         "FDS31",
         "Fruits and Vegetables",
         178.4318,
         2526.0452,
         true
        ],
        [
         "FDS08",
         "Fruits and Vegetables",
         178.437,
         3175.866,
         true
        ],
        [
         "FDE45",
         "Fruits and Vegetables",
         178.5002,
         5552.1062,
         true
        ],
        [
         "FDS31",
         "Fruits and Vegetables",
         178.5318,
         3067.3406,
         true
        ],
        [
         "FDS31",
         "Fruits and Vegetables",
         178.8318,
         3969.4996,
         true
        ],
        [
         "FDS31",
         "Fruits and Vegetables",
         178.9318,
         3067.3406,
         true
        ],
        [
         "FDD09",
         "Fruits and Vegetables",
         179.5976,
         2173.1712,
         true
        ],
        [
         "FDX08",
         "Fruits and Vegetables",
         179.7318,
         2165.1816,
         true
        ],
        [
         "FDX08",
         "Fruits and Vegetables",
         179.9318,
         2706.477,
         true
        ],
        [
         "FDD09",
         "Fruits and Vegetables",
         179.9976,
         4889.6352,
         true
        ],
        [
         "FDE45",
         "Fruits and Vegetables",
         180.0002,
         4656.6052,
         true
        ],
        [
         "FDS31",
         "Fruits and Vegetables",
         180.3318,
         2886.9088,
         true
        ],
        [
         "FDS31",
         "Fruits and Vegetables",
         180.3318,
         2345.6134,
         true
        ],
        [
         "FDF56",
         "Fruits and Vegetables",
         180.3976,
         3078.6592,
         true
        ],
        [
         "FDF56",
         "Fruits and Vegetables",
         180.3976,
         7425.0016,
         true
        ],
        [
         "FDD09",
         "Fruits and Vegetables",
         180.5976,
         3078.6592,
         true
        ],
        [
         "FDF56",
         "Fruits and Vegetables",
         180.9976,
         4165.2448,
         true
        ],
        [
         "FDX07",
         "Fruits and Vegetables",
         181.195,
         2380.235,
         true
        ],
        [
         "FDF56",
         "Fruits and Vegetables",
         181.2976,
         3078.6592,
         true
        ],
        [
         "FDX08",
         "Fruits and Vegetables",
         181.4318,
         3428.2042,
         true
        ],
        [
         "FDX07",
         "Fruits and Vegetables",
         181.695,
         2563.33,
         true
        ],
        [
         "FDF56",
         "Fruits and Vegetables",
         181.9976,
         5432.928,
         true
        ],
        [
         "FDD09",
         "Fruits and Vegetables",
         182.0976,
         6157.3184,
         true
        ],
        [
         "FDU56",
         "Fruits and Vegetables",
         182.4266,
         2028.6926,
         true
        ],
        [
         "FDN32",
         "Fruits and Vegetables",
         182.6266,
         3135.2522,
         true
        ],
        [
         "FDS20",
         "Fruits and Vegetables",
         182.7292,
         4925.5884,
         true
        ],
        [
         "FDX07",
         "Fruits and Vegetables",
         183.495,
         4577.375,
         true
        ],
        [
         "FDS20",
         "Fruits and Vegetables",
         183.8292,
         2554.0088,
         true
        ],
        [
         "FDS20",
         "Fruits and Vegetables",
         183.9292,
         2918.8672,
         true
        ],
        [
         "FDX07",
         "Fruits and Vegetables",
         184.495,
         4028.09,
         true
        ],
        [
         "FDX07",
         "Fruits and Vegetables",
         184.595,
         3844.995,
         true
        ],
        [
         "FDA20",
         "Fruits and Vegetables",
         184.624,
         5406.296,
         true
        ],
        [
         "FDU56",
         "Fruits and Vegetables",
         184.7266,
         8114.7704,
         true
        ],
        [
         "FDN32",
         "Fruits and Vegetables",
         184.7266,
         2213.1192,
         true
        ],
        [
         "FDN32",
         "Fruits and Vegetables",
         184.8266,
         2766.399,
         true
        ],
        [
         "FDN32",
         "Fruits and Vegetables",
         185.1266,
         4795.0916,
         true
        ],
        [
         "FDK56",
         "Fruits and Vegetables",
         185.1898,
         2619.2572,
         true
        ],
        [
         "FDK56",
         "Fruits and Vegetables",
         185.2898,
         3367.6164,
         true
        ],
        [
         "FDA20",
         "Fruits and Vegetables",
         185.324,
         3914.904,
         true
        ],
        [
         "FDK56",
         "Fruits and Vegetables",
         185.3898,
         3554.7062,
         true
        ],
        [
         "FDN32",
         "Fruits and Vegetables",
         185.6266,
         4979.5182,
         true
        ],
        [
         "FDG09",
         "Fruits and Vegetables",
         185.7556,
         3942.8676,
         true
        ],
        [
         "FDS43",
         "Fruits and Vegetables",
         185.924,
         4101.328,
         true
        ],
        [
         "FDG09",
         "Fruits and Vegetables",
         185.9556,
         4318.3788,
         true
        ],
        [
         "FDS43",
         "Fruits and Vegetables",
         186.224,
         5033.448,
         true
        ],
        [
         "FDB56",
         "Fruits and Vegetables",
         186.3556,
         3567.3564,
         true
        ],
        [
         "FDT32",
         "Fruits and Vegetables",
         186.5214,
         5275.7992,
         true
        ],
        [
         "FDT32",
         "Fruits and Vegetables",
         186.5214,
         2261.0568,
         true
        ],
        [
         "FDA20",
         "Fruits and Vegetables",
         186.524,
         2609.936,
         true
        ],
        [
         "FDA20",
         "Fruits and Vegetables",
         186.824,
         6338.416,
         true
        ],
        [
         "FDB56",
         "Fruits and Vegetables",
         186.8556,
         7322.4684,
         true
        ],
        [
         "FDS43",
         "Fruits and Vegetables",
         186.924,
         2237.088,
         true
        ],
        [
         "FDG09",
         "Fruits and Vegetables",
         187.1556,
         4693.89,
         true
        ],
        [
         "FDG09",
         "Fruits and Vegetables",
         187.2556,
         4506.1344,
         true
        ],
        [
         "FDB56",
         "Fruits and Vegetables",
         187.4556,
         3755.112,
         true
        ],
        [
         "FDR55",
         "Fruits and Vegetables",
         187.5872,
         4349.0056,
         true
        ],
        [
         "FDB56",
         "Fruits and Vegetables",
         187.6556,
         5257.1568,
         true
        ],
        [
         "FDG09",
         "Fruits and Vegetables",
         187.7556,
         3004.0896,
         true
        ],
        [
         "FDF21",
         "Fruits and Vegetables",
         187.853,
         2656.542,
         true
        ],
        [
         "FDN31",
         "Fruits and Vegetables",
         187.953,
         2656.542,
         true
        ],
        [
         "FDR55",
         "Fruits and Vegetables",
         187.9872,
         2458.1336,
         true
        ],
        [
         "FDG09",
         "Fruits and Vegetables",
         188.0556,
         2065.3116,
         true
        ],
        [
         "FDT31",
         "Fruits and Vegetables",
         188.0872,
         2458.1336,
         true
        ],
        [
         "FDT31",
         "Fruits and Vegetables",
         188.1872,
         2458.1336,
         true
        ],
        [
         "FDB56",
         "Fruits and Vegetables",
         188.2556,
         4693.89,
         true
        ],
        [
         "FDG09",
         "Fruits and Vegetables",
         188.2556,
         3755.112,
         true
        ],
        [
         "FDT31",
         "Fruits and Vegetables",
         188.2872,
         2647.2208,
         true
        ],
        [
         "FDF21",
         "Fruits and Vegetables",
         188.353,
         4364.319,
         true
        ],
        [
         "FDT32",
         "Fruits and Vegetables",
         188.4214,
         2826.321,
         true
        ],
        [
         "FDF21",
         "Fruits and Vegetables",
         189.053,
         5313.084,
         true
        ],
        [
         "FDR55",
         "Fruits and Vegetables",
         189.1872,
         5294.4416,
         true
        ],
        [
         "FDV44",
         "Fruits and Vegetables",
         189.2188,
         4570.0512,
         true
        ],
        [
         "FDJ08",
         "Fruits and Vegetables",
         189.2846,
         5159.2842,
         true
        ],
        [
         "FDJ08",
         "Fruits and Vegetables",
         189.2846,
         3630.6074,
         true
        ],
        [
         "FDR55",
         "Fruits and Vegetables",
         189.5872,
         3403.5696,
         true
        ],
        [
         "FDT32",
         "Fruits and Vegetables",
         189.6214,
         2826.321,
         true
        ],
        [
         "FDZ31",
         "Fruits and Vegetables",
         189.7504,
         2492.7552,
         true
        ],
        [
         "FDT32",
         "Fruits and Vegetables",
         189.9214,
         5087.3778,
         true
        ],
        [
         "FDT31",
         "Fruits and Vegetables",
         189.9872,
         3781.744,
         true
        ],
        [
         "FDR55",
         "Fruits and Vegetables",
         190.1872,
         3781.744,
         true
        ],
        [
         "FDR55",
         "Fruits and Vegetables",
         190.3872,
         2836.308,
         true
        ],
        [
         "FDT31",
         "Fruits and Vegetables",
         190.6872,
         4916.2672,
         true
        ],
        [
         "FDR55",
         "Fruits and Vegetables",
         190.6872,
         2269.0464,
         true
        ],
        [
         "FDW56",
         "Fruits and Vegetables",
         190.8162,
         2693.8268,
         true
        ],
        [
         "FDZ31",
         "Fruits and Vegetables",
         190.8504,
         3643.2576,
         true
        ],
        [
         "FDW56",
         "Fruits and Vegetables",
         190.9162,
         5195.2374,
         true
        ],
        [
         "FDZ31",
         "Fruits and Vegetables",
         191.0504,
         5752.512,
         true
        ],
        [
         "FDW56",
         "Fruits and Vegetables",
         191.2162,
         7504.2318,
         true
        ],
        [
         "FDN31",
         "Fruits and Vegetables",
         191.253,
         3036.048,
         true
        ],
        [
         "FDV44",
         "Fruits and Vegetables",
         191.3188,
         2285.0256,
         true
        ],
        [
         "FDN31",
         "Fruits and Vegetables",
         191.353,
         2277.036,
         true
        ],
        [
         "FDF21",
         "Fruits and Vegetables",
         191.553,
         6641.355,
         true
        ],
        [
         "FDJ08",
         "Fruits and Vegetables",
         191.5846,
         2101.9306,
         true
        ],
        [
         "FDV44",
         "Fruits and Vegetables",
         191.6188,
         2094.6068,
         true
        ],
        [
         "FDF21",
         "Fruits and Vegetables",
         191.653,
         5313.084,
         true
        ],
        [
         "FDJ08",
         "Fruits and Vegetables",
         191.7846,
         3057.3536,
         true
        ],
        [
         "FDP08",
         "Fruits and Vegetables",
         192.2478,
         3874.956,
         true
        ],
        [
         "FDW56",
         "Fruits and Vegetables",
         192.6162,
         5580.0698,
         true
        ],
        [
         "FDZ31",
         "Fruits and Vegetables",
         193.0504,
         2492.7552,
         true
        ],
        [
         "FDW56",
         "Fruits and Vegetables",
         193.3162,
         5772.486,
         true
        ],
        [
         "FDC57",
         "Fruits and Vegetables",
         193.382,
         4247.804,
         true
        ],
        [
         "FDA43",
         "Fruits and Vegetables",
         193.7794,
         4876.985,
         true
        ],
        [
         "FDP08",
         "Fruits and Vegetables",
         193.9478,
         4456.1994,
         true
        ],
        [
         "FDP08",
         "Fruits and Vegetables",
         194.1478,
         2906.217,
         true
        ],
        [
         "FDA43",
         "Fruits and Vegetables",
         194.1794,
         2340.9528,
         true
        ],
        [
         "FDP07",
         "Fruits and Vegetables",
         194.711,
         4910.275,
         true
        ],
        [
         "FDY44",
         "Fruits and Vegetables",
         194.711,
         5892.33,
         true
        ],
        [
         "FDP07",
         "Fruits and Vegetables",
         195.111,
         3731.809,
         true
        ],
        [
         "FDC33",
         "Fruits and Vegetables",
         195.3768,
         2759.0752,
         true
        ],
        [
         "FDP08",
         "Fruits and Vegetables",
         195.5478,
         3874.956,
         true
        ],
        [
         "FDA43",
         "Fruits and Vegetables",
         196.3794,
         3121.2704,
         true
        ],
        [
         "FDY44",
         "Fruits and Vegetables",
         196.411,
         2749.754,
         true
        ],
        [
         "FDF20",
         "Fruits and Vegetables",
         196.4768,
         6306.4576,
         true
        ],
        [
         "FDC33",
         "Fruits and Vegetables",
         196.4768,
         2561.9984,
         true
        ],
        [
         "FDC33",
         "Fruits and Vegetables",
         196.5768,
         2759.0752,
         true
        ],
        [
         "FDF20",
         "Fruits and Vegetables",
         196.5768,
         5715.2272,
         true
        ],
        [
         "FDR56",
         "Fruits and Vegetables",
         196.5768,
         3350.3056,
         true
        ],
        [
         "FDF20",
         "Fruits and Vegetables",
         196.6768,
         2759.0752,
         true
        ],
        [
         "FDR56",
         "Fruits and Vegetables",
         196.8768,
         7094.7648,
         true
        ],
        [
         "FDC33",
         "Fruits and Vegetables",
         196.9768,
         2759.0752,
         true
        ],
        [
         "FDW31",
         "Fruits and Vegetables",
         197.0742,
         2587.9646,
         true
        ],
        [
         "FDY44",
         "Fruits and Vegetables",
         197.211,
         3731.809,
         true
        ],
        [
         "FDP07",
         "Fruits and Vegetables",
         197.211,
         3142.576,
         true
        ],
        [
         "FDC33",
         "Fruits and Vegetables",
         197.3768,
         7488.9184,
         true
        ],
        [
         "FDC33",
         "Fruits and Vegetables",
         197.7768,
         3153.2288,
         true
        ],
        [
         "FDY44",
         "Fruits and Vegetables",
         198.311,
         2553.343,
         true
        ],
        [
         "FDF32",
         "Fruits and Vegetables",
         198.9426,
         3559.3668,
         true
        ],
        [
         "FDR56",
         "Fruits and Vegetables",
         198.9768,
         4729.8432,
         true
        ],
        [
         "FDR56",
         "Fruits and Vegetables",
         199.0768,
         2759.0752,
         true
        ],
        [
         "FDF20",
         "Fruits and Vegetables",
         199.0768,
         3153.2288,
         true
        ],
        [
         "FDW31",
         "Fruits and Vegetables",
         199.4742,
         2587.9646,
         true
        ],
        [
         "FDW31",
         "Fruits and Vegetables",
         199.5742,
         3981.484,
         true
        ],
        [
         "FDW31",
         "Fruits and Vegetables",
         201.0742,
         2189.8162,
         true
        ],
        [
         "FDX56",
         "Fruits and Vegetables",
         206.1638,
         4141.276,
         true
        ],
        [
         "FDX56",
         "Fruits and Vegetables",
         207.0638,
         4969.5312,
         true
        ],
        [
         "FDX56",
         "Fruits and Vegetables",
         207.1638,
         7247.233,
         true
        ],
        [
         "FDX56",
         "Fruits and Vegetables",
         208.5638,
         5383.6588,
         true
        ],
        [
         "FDX56",
         "Fruits and Vegetables",
         209.0638,
         3520.0846,
         true
        ],
        [
         "FDB44",
         "Fruits and Vegetables",
         209.2586,
         2954.8204,
         true
        ],
        [
         "FDI20",
         "Fruits and Vegetables",
         209.2586,
         3165.879,
         true
        ],
        [
         "FDB44",
         "Fruits and Vegetables",
         210.0586,
         4221.172,
         true
        ],
        [
         "FDB44",
         "Fruits and Vegetables",
         210.0586,
         6964.9338,
         true
        ],
        [
         "FDG45",
         "Fruits and Vegetables",
         210.4902,
         5309.755,
         true
        ],
        [
         "FDI20",
         "Fruits and Vegetables",
         210.6586,
         5487.5236,
         true
        ],
        [
         "FDI20",
         "Fruits and Vegetables",
         210.8586,
         6331.758,
         true
        ],
        [
         "FDG45",
         "Fruits and Vegetables",
         210.9902,
         6371.706,
         true
        ],
        [
         "FDG45",
         "Fruits and Vegetables",
         211.4902,
         3610.6334,
         true
        ],
        [
         "FDI20",
         "Fruits and Vegetables",
         211.5586,
         4432.2306,
         true
        ],
        [
         "FDG45",
         "Fruits and Vegetables",
         211.8902,
         3823.0236,
         true
        ],
        [
         "FDI20",
         "Fruits and Vegetables",
         212.1586,
         5909.6408,
         true
        ],
        [
         "FDB44",
         "Fruits and Vegetables",
         212.4586,
         2743.7618,
         true
        ],
        [
         "FDG45",
         "Fruits and Vegetables",
         213.7902,
         5946.9256,
         true
        ],
        [
         "FDA32",
         "Fruits and Vegetables",
         214.7192,
         3020.0688,
         true
        ],
        [
         "FDA32",
         "Fruits and Vegetables",
         216.0192,
         2588.6304,
         true
        ],
        [
         "FDX55",
         "Fruits and Vegetables",
         216.1166,
         5007.4818,
         true
        ],
        [
         "FDX55",
         "Fruits and Vegetables",
         216.4166,
         2830.3158,
         true
        ],
        [
         "FDA32",
         "Fruits and Vegetables",
         216.6192,
         3020.0688,
         true
        ],
        [
         "FDU31",
         "Fruits and Vegetables",
         216.7508,
         3038.7112,
         true
        ],
        [
         "FDA32",
         "Fruits and Vegetables",
         216.9192,
         6471.576,
         true
        ],
        [
         "FDU31",
         "Fruits and Vegetables",
         217.9508,
         2821.6604,
         true
        ],
        [
         "FDU31",
         "Fruits and Vegetables",
         218.4508,
         2821.6604,
         true
        ],
        [
         "FDU31",
         "Fruits and Vegetables",
         218.7508,
         3255.762,
         true
        ],
        [
         "FDX55",
         "Fruits and Vegetables",
         219.4166,
         6096.0648,
         true
        ],
        [
         "FDQ07",
         "Fruits and Vegetables",
         219.8456,
         6189.2768,
         true
        ],
        [
         "FDB57",
         "Fruits and Vegetables",
         220.5772,
         2446.1492,
         true
        ],
        [
         "FDB57",
         "Fruits and Vegetables",
         220.6772,
         2223.772,
         true
        ],
        [
         "FDG32",
         "Fruits and Vegetables",
         220.8772,
         4225.1668,
         true
        ],
        [
         "FDQ07",
         "Fruits and Vegetables",
         221.5456,
         2873.5928,
         true
        ],
        [
         "FDG32",
         "Fruits and Vegetables",
         221.5772,
         3558.0352,
         true
        ],
        [
         "FDQ07",
         "Fruits and Vegetables",
         221.7456,
         6410.3224,
         true
        ],
        [
         "FDG32",
         "Fruits and Vegetables",
         222.0772,
         2001.3948,
         true
        ],
        [
         "FDB57",
         "Fruits and Vegetables",
         222.0772,
         3113.2808,
         true
        ],
        [
         "FDB57",
         "Fruits and Vegetables",
         222.1772,
         5559.43,
         true
        ],
        [
         "FDG32",
         "Fruits and Vegetables",
         222.3772,
         9562.2196,
         true
        ],
        [
         "FDA55",
         "Fruits and Vegetables",
         222.5088,
         5369.0112,
         true
        ],
        [
         "FDM08",
         "Fruits and Vegetables",
         222.9088,
         5145.3024,
         true
        ],
        [
         "FDB57",
         "Fruits and Vegetables",
         223.4772,
         7116.0704,
         true
        ],
        [
         "FDY56",
         "Fruits and Vegetables",
         223.7062,
         4965.5364,
         true
        ],
        [
         "FDM08",
         "Fruits and Vegetables",
         223.7088,
         2684.5056,
         true
        ],
        [
         "FDA55",
         "Fruits and Vegetables",
         223.8088,
         5592.72,
         true
        ],
        [
         "FDY56",
         "Fruits and Vegetables",
         224.0062,
         4288.4178,
         true
        ],
        [
         "FDM08",
         "Fruits and Vegetables",
         224.4088,
         4697.8848,
         true
        ],
        [
         "FDM08",
         "Fruits and Vegetables",
         225.1088,
         3579.3408,
         true
        ],
        [
         "FDX20",
         "Fruits and Vegetables",
         225.172,
         3395.58,
         true
        ],
        [
         "FDC08",
         "Fruits and Vegetables",
         225.272,
         4753.812,
         true
        ],
        [
         "FDA55",
         "Fruits and Vegetables",
         225.4088,
         2460.7968,
         true
        ],
        [
         "FDC08",
         "Fruits and Vegetables",
         225.472,
         3169.208,
         true
        ],
        [
         "FDM08",
         "Fruits and Vegetables",
         225.6088,
         4250.4672,
         true
        ],
        [
         "FDW43",
         "Fruits and Vegetables",
         225.9036,
         3643.2576,
         true
        ],
        [
         "FDY56",
         "Fruits and Vegetables",
         225.9062,
         5416.9488,
         true
        ],
        [
         "FDX20",
         "Fruits and Vegetables",
         226.172,
         3169.208,
         true
        ],
        [
         "FDC08",
         "Fruits and Vegetables",
         226.172,
         3169.208,
         true
        ],
        [
         "FDW43",
         "Fruits and Vegetables",
         226.6036,
         6831.108,
         true
        ],
        [
         "FDR32",
         "Fruits and Vegetables",
         226.7694,
         6165.9738,
         true
        ],
        [
         "FDW43",
         "Fruits and Vegetables",
         226.8036,
         3415.554,
         true
        ],
        [
         "FDX20",
         "Fruits and Vegetables",
         226.972,
         3848.324,
         true
        ],
        [
         "FDX20",
         "Fruits and Vegetables",
         227.072,
         4074.696,
         true
        ],
        [
         "FDY56",
         "Fruits and Vegetables",
         227.1062,
         5642.655,
         true
        ],
        [
         "FDX20",
         "Fruits and Vegetables",
         227.272,
         7017.532,
         true
        ],
        [
         "FDR32",
         "Fruits and Vegetables",
         227.4694,
         3197.1716,
         true
        ],
        [
         "FDR32",
         "Fruits and Vegetables",
         227.5694,
         3653.9104,
         true
        ],
        [
         "FDY56",
         "Fruits and Vegetables",
         227.6062,
         7222.5984,
         true
        ],
        [
         "FDC08",
         "Fruits and Vegetables",
         227.772,
         5206.556,
         true
        ],
        [
         "FDX20",
         "Fruits and Vegetables",
         228.372,
         2037.348,
         true
        ],
        [
         "FDX20",
         "Fruits and Vegetables",
         228.372,
         4527.44,
         true
        ],
        [
         "FDR32",
         "Fruits and Vegetables",
         228.4694,
         5480.8656,
         true
        ],
        [
         "FDR32",
         "Fruits and Vegetables",
         229.5694,
         3425.541,
         true
        ],
        [
         "FDH08",
         "Fruits and Vegetables",
         229.601,
         6201.927,
         true
        ],
        [
         "FDH08",
         "Fruits and Vegetables",
         230.801,
         5283.123,
         true
        ],
        [
         "FDX31",
         "Fruits and Vegetables",
         231.7958,
         5375.0034,
         true
        ],
        [
         "FDD33",
         "Fruits and Vegetables",
         231.9642,
         6970.926,
         true
        ],
        [
         "FDX31",
         "Fruits and Vegetables",
         232.3958,
         6076.0908,
         true
        ],
        [
         "FDX19",
         "Fruits and Vegetables",
         232.6958,
         5375.0034,
         true
        ],
        [
         "FDX19",
         "Fruits and Vegetables",
         233.1958,
         5141.3076,
         true
        ],
        [
         "FDD33",
         "Fruits and Vegetables",
         233.2642,
         3950.1914,
         true
        ],
        [
         "FDX31",
         "Fruits and Vegetables",
         233.2958,
         4206.5244,
         true
        ],
        [
         "FDD33",
         "Fruits and Vegetables",
         233.3642,
         3950.1914,
         true
        ],
        [
         "FDX19",
         "Fruits and Vegetables",
         233.5958,
         2336.958,
         true
        ],
        [
         "FDD33",
         "Fruits and Vegetables",
         233.8642,
         2323.642,
         true
        ],
        [
         "FDX19",
         "Fruits and Vegetables",
         233.8958,
         2103.2622,
         true
        ],
        [
         "FDX31",
         "Fruits and Vegetables",
         234.0958,
         2570.6538,
         true
        ],
        [
         "FDX31",
         "Fruits and Vegetables",
         234.4958,
         3271.7412,
         true
        ],
        [
         "FDX31",
         "Fruits and Vegetables",
         234.9958,
         5842.395,
         true
        ],
        [
         "FDX19",
         "Fruits and Vegetables",
         235.0958,
         3038.0454,
         true
        ],
        [
         "FDX19",
         "Fruits and Vegetables",
         235.1958,
         4673.916,
         true
        ],
        [
         "FDU43",
         "Fruits and Vegetables",
         237.3564,
         2145.2076,
         true
        ],
        [
         "FDS44",
         "Fruits and Vegetables",
         238.3538,
         5528.1374,
         true
        ],
        [
         "FDU43",
         "Fruits and Vegetables",
         238.6564,
         3575.346,
         true
        ],
        [
         "FDS44",
         "Fruits and Vegetables",
         238.8538,
         4566.7222,
         true
        ],
        [
         "FDS44",
         "Fruits and Vegetables",
         238.9538,
         4086.0146,
         true
        ],
        [
         "FDS44",
         "Fruits and Vegetables",
         239.6538,
         3845.6608,
         true
        ],
        [
         "FDZ43",
         "Fruits and Vegetables",
         240.4512,
         7028.1848,
         true
        ],
        [
         "FDZ43",
         "Fruits and Vegetables",
         241.2512,
         8239.9408,
         true
        ],
        [
         "FDB21",
         "Fruits and Vegetables",
         241.2854,
         5317.0788,
         true
        ],
        [
         "FDQ19",
         "Fruits and Vegetables",
         241.3512,
         5331.7264,
         true
        ],
        [
         "FDB21",
         "Fruits and Vegetables",
         241.6854,
         6042.135,
         true
        ],
        [
         "FDZ43",
         "Fruits and Vegetables",
         241.7512,
         3635.268,
         true
        ],
        [
         "FDS44",
         "Fruits and Vegetables",
         241.7538,
         9133.4444,
         true
        ],
        [
         "FDZ43",
         "Fruits and Vegetables",
         241.9512,
         2908.2144,
         true
        ],
        [
         "FDQ19",
         "Fruits and Vegetables",
         242.6512,
         12117.56,
         true
        ],
        [
         "FDB21",
         "Fruits and Vegetables",
         242.9854,
         6767.1912,
         true
        ],
        [
         "FDM20",
         "Fruits and Vegetables",
         243.8144,
         4655.2736,
         true
        ],
        [
         "FDL08",
         "Fruits and Vegetables",
         243.9144,
         4655.2736,
         true
        ],
        [
         "FDM20",
         "Fruits and Vegetables",
         245.0144,
         3185.1872,
         true
        ],
        [
         "FDM20",
         "Fruits and Vegetables",
         245.4144,
         7105.4176,
         true
        ],
        [
         "FDM20",
         "Fruits and Vegetables",
         245.4144,
         6615.3888,
         true
        ],
        [
         "FDL08",
         "Fruits and Vegetables",
         245.4144,
         3675.216,
         true
        ],
        [
         "FDL08",
         "Fruits and Vegetables",
         245.9144,
         4655.2736,
         true
        ],
        [
         "FDL08",
         "Fruits and Vegetables",
         246.7144,
         5145.3024,
         true
        ],
        [
         "FDL08",
         "Fruits and Vegetables",
         246.8144,
         2450.144,
         true
        ],
        [
         "FDM20",
         "Fruits and Vegetables",
         246.9144,
         3185.1872,
         true
        ],
        [
         "FDW55",
         "Fruits and Vegetables",
         247.0092,
         5478.2024,
         true
        ],
        [
         "FDI08",
         "Fruits and Vegetables",
         247.1092,
         2241.0828,
         true
        ],
        [
         "FDI08",
         "Fruits and Vegetables",
         247.2092,
         3486.1288,
         true
        ],
        [
         "FDI08",
         "Fruits and Vegetables",
         248.1092,
         4233.1564,
         true
        ],
        [
         "FDW55",
         "Fruits and Vegetables",
         248.6092,
         3237.1196,
         true
        ],
        [
         "FDW55",
         "Fruits and Vegetables",
         248.8092,
         6723.2484,
         true
        ],
        [
         "FDI08",
         "Fruits and Vegetables",
         250.1092,
         5727.2116,
         true
        ],
        [
         "FDI08",
         "Fruits and Vegetables",
         250.1092,
         4233.1564,
         true
        ],
        [
         "FDI08",
         "Fruits and Vegetables",
         250.2092,
         2988.1104,
         true
        ],
        [
         "FDW55",
         "Fruits and Vegetables",
         250.9092,
         4731.1748,
         true
        ],
        [
         "FDO20",
         "Fruits and Vegetables",
         252.0382,
         4037.4112,
         true
        ],
        [
         "FDZ20",
         "Fruits and Vegetables",
         252.3356,
         3815.034,
         true
        ],
        [
         "FDO20",
         "Fruits and Vegetables",
         252.3382,
         4794.4258,
         true
        ],
        [
         "FDO20",
         "Fruits and Vegetables",
         252.3382,
         6056.1168,
         true
        ],
        [
         "FDO20",
         "Fruits and Vegetables",
         252.6382,
         3532.7348,
         true
        ],
        [
         "FDZ20",
         "Fruits and Vegetables",
         253.0356,
         11445.102,
         true
        ],
        [
         "FDZ20",
         "Fruits and Vegetables",
         253.2356,
         5849.7188,
         true
        ],
        [
         "FDZ20",
         "Fruits and Vegetables",
         253.4356,
         2797.6916,
         true
        ],
        [
         "FDO20",
         "Fruits and Vegetables",
         253.7382,
         2271.0438,
         true
        ],
        [
         "FDZ20",
         "Fruits and Vegetables",
         255.2356,
         6867.0612,
         true
        ],
        [
         "FDT07",
         "Fruits and Vegetables",
         255.333,
         4870.327,
         true
        ],
        [
         "FDY55",
         "Fruits and Vegetables",
         255.3988,
         4625.9784,
         true
        ],
        [
         "FDT07",
         "Fruits and Vegetables",
         255.433,
         4357.661,
         true
        ],
        [
         "FDZ20",
         "Fruits and Vegetables",
         255.7356,
         2543.356,
         true
        ],
        [
         "FDY55",
         "Fruits and Vegetables",
         255.7988,
         9251.9568,
         true
        ],
        [
         "FDZ20",
         "Fruits and Vegetables",
         256.1356,
         6358.39,
         true
        ],
        [
         "FDT07",
         "Fruits and Vegetables",
         256.433,
         3844.995,
         true
        ],
        [
         "FDD44",
         "Fruits and Vegetables",
         256.4646,
         5153.292,
         true
        ],
        [
         "FDY55",
         "Fruits and Vegetables",
         256.4988,
         7452.9652,
         true
        ],
        [
         "FDT07",
         "Fruits and Vegetables",
         256.633,
         2050.664,
         true
        ],
        [
         "FDD44",
         "Fruits and Vegetables",
         257.0646,
         8760.5964,
         true
        ],
        [
         "FDY55",
         "Fruits and Vegetables",
         257.0988,
         6424.97,
         true
        ],
        [
         "FDT07",
         "Fruits and Vegetables",
         257.133,
         7433.657,
         true
        ],
        [
         "FDD44",
         "Fruits and Vegetables",
         257.1646,
         6183.9504,
         true
        ],
        [
         "FDD44",
         "Fruits and Vegetables",
         257.5646,
         5153.292,
         true
        ],
        [
         "FDT07",
         "Fruits and Vegetables",
         257.633,
         4613.994,
         true
        ],
        [
         "FDY55",
         "Fruits and Vegetables",
         258.0988,
         8994.958,
         true
        ],
        [
         "FDY55",
         "Fruits and Vegetables",
         258.4988,
         4111.9808,
         true
        ],
        [
         "FDD44",
         "Fruits and Vegetables",
         258.5646,
         3091.9752,
         true
        ],
        [
         "FDD44",
         "Fruits and Vegetables",
         259.0646,
         4380.2982,
         true
        ],
        [
         "FDU55",
         "Fruits and Vegetables",
         260.3278,
         2342.9502,
         true
        ],
        [
         "FDU55",
         "Fruits and Vegetables",
         260.3278,
         7549.5062,
         true
        ],
        [
         "FDU55",
         "Fruits and Vegetables",
         260.6278,
         4425.5726,
         true
        ],
        [
         "FDU55",
         "Fruits and Vegetables",
         260.6278,
         9371.8008,
         true
        ],
        [
         "FDS56",
         "Fruits and Vegetables",
         260.7252,
         6033.4796,
         true
        ],
        [
         "FDS56",
         "Fruits and Vegetables",
         262.0252,
         4459.5284,
         true
        ],
        [
         "FDS56",
         "Fruits and Vegetables",
         263.9252,
         6033.4796,
         true
        ],
        [
         "FDS56",
         "Fruits and Vegetables",
         264.2252,
         3934.878,
         true
        ],
        [
         "DRI59",
         "Hard Drinks",
         223.5088,
         4697.8848,
         true
        ],
        [
         "DRI59",
         "Hard Drinks",
         224.6088,
         4474.176,
         true
        ],
        [
         "DRK47",
         "Hard Drinks",
         229.9694,
         4567.388,
         true
        ],
        [
         "DRK47",
         "Hard Drinks",
         230.2694,
         3197.1716,
         true
        ],
        [
         "DRK47",
         "Hard Drinks",
         230.2694,
         4567.388,
         true
        ],
        [
         "DRK59",
         "Hard Drinks",
         232.9616,
         2812.3392,
         true
        ],
        [
         "DRK59",
         "Hard Drinks",
         233.9616,
         4452.8704,
         true
        ],
        [
         "DRK59",
         "Hard Drinks",
         235.8616,
         3046.7008,
         true
        ],
        [
         "DRP47",
         "Hard Drinks",
         250.5382,
         2775.7202,
         true
        ],
        [
         "DRK23",
         "Hard Drinks",
         251.504,
         7084.112,
         true
        ],
        [
         "DRK23",
         "Hard Drinks",
         251.904,
         4301.068,
         true
        ],
        [
         "DRP47",
         "Hard Drinks",
         252.7382,
         3280.3966,
         true
        ],
        [
         "DRP47",
         "Hard Drinks",
         252.8382,
         6308.455,
         true
        ],
        [
         "DRP47",
         "Hard Drinks",
         252.9382,
         2775.7202,
         true
        ],
        [
         "DRK23",
         "Hard Drinks",
         253.704,
         4554.072,
         true
        ],
        [
         "DRK23",
         "Hard Drinks",
         254.104,
         3542.056,
         true
        ],
        [
         "DRK23",
         "Hard Drinks",
         254.804,
         7843.124,
         true
        ],
        [
         "DRM11",
         "Hard Drinks",
         259.7278,
         2863.6058,
         true
        ],
        [
         "DRM11",
         "Hard Drinks",
         261.0278,
         4165.2448,
         true
        ],
        [
         "DRM11",
         "Hard Drinks",
         261.4278,
         4165.2448,
         true
        ],
        [
         "NCR05",
         "Health and Hygiene",
         200.2084,
         3174.5344,
         true
        ],
        [
         "NCX41",
         "Health and Hygiene",
         210.8244,
         2540.6928,
         true
        ],
        [
         "NCX41",
         "Health and Hygiene",
         211.0244,
         3811.0392,
         true
        ],
        [
         "NCX41",
         "Health and Hygiene",
         211.7244,
         2752.4172,
         true
        ],
        [
         "NCR53",
         "Health and Hygiene",
         224.0404,
         3375.606,
         true
        ],
        [
         "NCR53",
         "Health and Hygiene",
         224.4404,
         6976.2524,
         true
        ],
        [
         "NCR53",
         "Health and Hygiene",
         224.4404,
         5626.01,
         true
        ],
        [
         "NCR53",
         "Health and Hygiene",
         225.0404,
         4950.8888,
         true
        ],
        [
         "NCX17",
         "Health and Hygiene",
         231.23,
         3029.39,
         true
        ],
        [
         "NCX17",
         "Health and Hygiene",
         233.03,
         5592.72,
         true
        ],
        [
         "NCQ53",
         "Health and Hygiene",
         234.659,
         8508.924,
         true
        ],
        [
         "NCQ53",
         "Health and Hygiene",
         235.259,
         5672.616,
         true
        ],
        [
         "NCP53",
         "Health and Hygiene",
         235.6906,
         5704.5744,
         true
        ],
        [
         "NCQ53",
         "Health and Hygiene",
         236.259,
         4727.18,
         true
        ],
        [
         "NCP53",
         "Health and Hygiene",
         236.6906,
         3089.9778,
         true
        ],
        [
         "NCQ53",
         "Health and Hygiene",
         237.059,
         2836.308,
         true
        ],
        [
         "NCQ53",
         "Health and Hygiene",
         237.159,
         3072.667,
         true
        ],
        [
         "NCP53",
         "Health and Hygiene",
         237.2906,
         3089.9778,
         true
        ],
        [
         "NCQ53",
         "Health and Hygiene",
         237.359,
         6145.334,
         true
        ],
        [
         "NCQ53",
         "Health and Hygiene",
         237.759,
         3545.385,
         true
        ],
        [
         "NCV53",
         "Health and Hygiene",
         237.988,
         7190.64,
         true
        ],
        [
         "NCV53",
         "Health and Hygiene",
         238.088,
         6231.888,
         true
        ],
        [
         "NCV53",
         "Health and Hygiene",
         238.188,
         3835.008,
         true
        ],
        [
         "NCP53",
         "Health and Hygiene",
         238.6906,
         4278.4308,
         true
        ],
        [
         "NCC54",
         "Health and Hygiene",
         239.3196,
         3615.294,
         true
        ],
        [
         "NCC54",
         "Health and Hygiene",
         240.4196,
         4579.3724,
         true
        ],
        [
         "NCC54",
         "Health and Hygiene",
         240.9196,
         4579.3724,
         true
        ],
        [
         "NCV53",
         "Health and Hygiene",
         241.288,
         5512.824,
         true
        ],
        [
         "NCC54",
         "Health and Hygiene",
         242.1196,
         4097.3332,
         true
        ],
        [
         "NCC54",
         "Health and Hygiene",
         242.4196,
         5543.4508,
         true
        ],
        [
         "NCT05",
         "Health and Hygiene",
         255.6672,
         4346.3424,
         true
        ],
        [
         "NCT05",
         "Health and Hygiene",
         255.9672,
         4857.6768,
         true
        ],
        [
         "NCT05",
         "Health and Hygiene",
         256.5672,
         4090.6752,
         true
        ],
        [
         "NCQ29",
         "Health and Hygiene",
         259.5278,
         2603.278,
         true
        ],
        [
         "NCM05",
         "Health and Hygiene",
         262.4226,
         3964.839,
         true
        ],
        [
         "NCM05",
         "Health and Hygiene",
         262.5226,
         9779.9362,
         true
        ],
        [
         "NCM05",
         "Health and Hygiene",
         263.7226,
         6872.3876,
         true
        ],
        [
         "NCS29",
         "Health and Hygiene",
         264.0884,
         4504.8028,
         true
        ],
        [
         "NCM05",
         "Health and Hygiene",
         264.3226,
         4229.1616,
         true
        ],
        [
         "NCS29",
         "Health and Hygiene",
         264.8884,
         2914.8724,
         true
        ],
        [
         "NCS29",
         "Health and Hygiene",
         266.2884,
         2914.8724,
         true
        ],
        [
         "NCS29",
         "Health and Hygiene",
         266.5884,
         6624.71,
         true
        ],
        [
         "NCS29",
         "Health and Hygiene",
         266.6884,
         3974.826,
         true
        ],
        [
         "NCI42",
         "Household",
         207.0954,
         3125.931,
         true
        ],
        [
         "NCI42",
         "Household",
         208.3954,
         2709.1402,
         true
        ],
        [
         "NCU54",
         "Household",
         208.427,
         5452.902,
         true
        ],
        [
         "NCI42",
         "Household",
         208.4954,
         3751.1172,
         true
        ],
        [
         "NCU54",
         "Household",
         208.527,
         3145.905,
         true
        ],
        [
         "NCU54",
         "Household",
         208.927,
         7130.718,
         true
        ],
        [
         "NCI42",
         "Household",
         209.4954,
         2500.7448,
         true
        ],
        [
         "NCE30",
         "Household",
         210.4902,
         3610.6334,
         true
        ],
        [
         "NCU54",
         "Household",
         210.727,
         4194.54,
         true
        ],
        [
         "NCE30",
         "Household",
         210.7902,
         4460.1942,
         true
        ],
        [
         "NCQ50",
         "Household",
         211.7218,
         5770.4886,
         true
        ],
        [
         "NCQ50",
         "Household",
         211.9218,
         3419.5488,
         true
        ],
        [
         "NCQ50",
         "Household",
         213.3218,
         3419.5488,
         true
        ],
        [
         "NCQ50",
         "Household",
         214.1218,
         4488.1578,
         true
        ],
        [
         "NCK42",
         "Household",
         214.5192,
         2804.3496,
         true
        ],
        [
         "NCQ50",
         "Household",
         215.2218,
         4701.8796,
         true
        ],
        [
         "NCQ50",
         "Household",
         215.7218,
         4274.436,
         true
        ],
        [
         "NCK42",
         "Household",
         215.9192,
         7334.4528,
         true
        ],
        [
         "NCH43",
         "Household",
         216.4192,
         3020.0688,
         true
        ],
        [
         "NCK42",
         "Household",
         217.4192,
         4314.384,
         true
        ],
        [
         "NCW42",
         "Household",
         220.5456,
         3094.6384,
         true
        ],
        [
         "NCW42",
         "Household",
         220.7456,
         4420.912,
         true
        ],
        [
         "NCW42",
         "Household",
         220.8456,
         4199.8664,
         true
        ],
        [
         "NCI18",
         "Household",
         222.3746,
         5609.365,
         true
        ],
        [
         "NCI18",
         "Household",
         223.5746,
         3589.9936,
         true
        ],
        [
         "NCI18",
         "Household",
         224.5746,
         2692.4952,
         true
        ],
        [
         "NCH42",
         "Household",
         227.801,
         3904.917,
         true
        ],
        [
         "NCD18",
         "Household",
         228.3668,
         5298.4364,
         true
        ],
        [
         "NCD18",
         "Household",
         228.4668,
         2534.0348,
         true
        ],
        [
         "NCU06",
         "Household",
         228.801,
         3215.814,
         true
        ],
        [
         "NCH42",
         "Household",
         229.601,
         2526.711,
         true
        ],
        [
         "NCD18",
         "Household",
         229.8668,
         4837.7028,
         true
        ],
        [
         "NCD18",
         "Household",
         230.2668,
         8062.838,
         true
        ],
        [
         "NCJ54",
         "Household",
         230.6642,
         4647.284,
         true
        ],
        [
         "NCJ54",
         "Household",
         230.8642,
         4414.9198,
         true
        ],
        [
         "NCU06",
         "Household",
         230.901,
         4364.319,
         true
        ],
        [
         "NCH42",
         "Household",
         231.201,
         6201.927,
         true
        ],
        [
         "NCD18",
         "Household",
         231.3668,
         4607.336,
         true
        ],
        [
         "NCH42",
         "Household",
         231.601,
         7580.133,
         true
        ],
        [
         "NCJ54",
         "Household",
         231.7642,
         5344.3766,
         true
        ],
        [
         "NCJ54",
         "Household",
         233.0642,
         6041.4692,
         true
        ],
        [
         "NCJ54",
         "Household",
         234.2642,
         3717.8272,
         true
        ],
        [
         "NCE42",
         "Household",
         234.2958,
         3739.1328,
         true
        ],
        [
         "NCG19",
         "Household",
         234.8616,
         2812.3392,
         true
        ],
        [
         "NCE42",
         "Household",
         234.9958,
         13086.9648,
         true
        ],
        [
         "NCE42",
         "Household",
         235.3958,
         3271.7412,
         true
        ],
        [
         "NCZ42",
         "Household",
         235.5248,
         4740.496,
         true
        ],
        [
         "NCZ42",
         "Household",
         235.8248,
         4266.4464,
         true
        ],
        [
         "NCZ42",
         "Household",
         236.5248,
         4029.4216,
         true
        ],
        [
         "NCZ42",
         "Household",
         237.0248,
         5451.5704,
         true
        ],
        [
         "NCW18",
         "Household",
         237.7248,
         2607.2728,
         true
        ],
        [
         "NCW18",
         "Household",
         238.1248,
         4266.4464,
         true
        ],
        [
         "NCW18",
         "Household",
         238.9248,
         6636.6944,
         true
        ],
        [
         "NCL42",
         "Household",
         244.0144,
         5635.3312,
         true
        ],
        [
         "NCL42",
         "Household",
         244.3144,
         5635.3312,
         true
        ],
        [
         "NCI30",
         "Household",
         245.046,
         4680.574,
         true
        ],
        [
         "NCH18",
         "Household",
         245.2802,
         10072.8882,
         true
        ],
        [
         "NCH18",
         "Household",
         245.4802,
         3193.8426,
         true
        ],
        [
         "NCH06",
         "Household",
         245.646,
         3695.19,
         true
        ],
        [
         "NCX30",
         "Household",
         245.8776,
         4210.5192,
         true
        ],
        [
         "NCH18",
         "Household",
         246.1802,
         2702.4822,
         true
        ],
        [
         "NCI30",
         "Household",
         246.446,
         3695.19,
         true
        ],
        [
         "NCL42",
         "Household",
         246.7144,
         6615.3888,
         true
        ],
        [
         "NCX30",
         "Household",
         247.2776,
         6191.94,
         true
        ],
        [
         "NCE18",
         "Household",
         247.775,
         3745.125,
         true
        ],
        [
         "NCH06",
         "Household",
         247.846,
         3448.844,
         true
        ],
        [
         "NCH06",
         "Household",
         247.946,
         3202.498,
         true
        ],
        [
         "NCE18",
         "Household",
         248.175,
         3495.45,
         true
        ],
        [
         "NCE18",
         "Household",
         248.375,
         7240.575,
         true
        ],
        [
         "NCX30",
         "Household",
         248.4776,
         6439.6176,
         true
        ],
        [
         "NCX30",
         "Household",
         249.2776,
         4210.5192,
         true
        ],
        [
         "NCC43",
         "Household",
         249.5066,
         4267.1122,
         true
        ],
        [
         "NCE18",
         "Household",
         250.175,
         2996.1,
         true
        ],
        [
         "NCR38",
         "Household",
         251.3724,
         6795.1548,
         true
        ],
        [
         "NCE18",
         "Household",
         251.675,
         4244.475,
         true
        ],
        [
         "NCZ06",
         "Household",
         251.8698,
         3551.3772,
         true
        ],
        [
         "NCC43",
         "Household",
         251.9066,
         4267.1122,
         true
        ],
        [
         "NCZ06",
         "Household",
         251.9698,
         4566.0564,
         true
        ],
        [
         "NCZ06",
         "Household",
         252.2698,
         2790.3678,
         true
        ],
        [
         "NCZ18",
         "Household",
         253.0698,
         6088.0752,
         true
        ],
        [
         "NCR38",
         "Household",
         253.1724,
         3775.086,
         true
        ],
        [
         "NCZ18",
         "Household",
         253.4698,
         6849.0846,
         true
        ],
        [
         "NCR38",
         "Household",
         253.4724,
         6040.1376,
         true
        ],
        [
         "NCZ18",
         "Household",
         253.5698,
         3805.047,
         true
        ],
        [
         "NCR38",
         "Household",
         253.5724,
         5033.448,
         true
        ],
        [
         "NCQ06",
         "Household",
         253.6014,
         6630.0364,
         true
        ],
        [
         "NCZ06",
         "Household",
         253.8698,
         3297.7074,
         true
        ],
        [
         "NCQ06",
         "Household",
         254.1014,
         3315.0182,
         true
        ],
        [
         "NCZ18",
         "Household",
         254.3698,
         5580.7356,
         true
        ],
        [
         "NCK30",
         "Household",
         254.3698,
         4566.0564,
         true
        ],
        [
         "NCQ06",
         "Household",
         254.5014,
         4845.0266,
         true
        ],
        [
         "NCQ06",
         "Household",
         254.7014,
         5100.028,
         true
        ],
        [
         "NCZ06",
         "Household",
         254.7698,
         5327.0658,
         true
        ],
        [
         "NCK30",
         "Household",
         254.8698,
         4819.7262,
         true
        ],
        [
         "NCZ06",
         "Household",
         254.9698,
         2536.698,
         true
        ],
        [
         "NCQ06",
         "Household",
         255.0014,
         5865.0322,
         true
        ],
        [
         "NCZ18",
         "Household",
         255.4698,
         5073.396,
         true
        ],
        [
         "NCQ06",
         "Household",
         255.9014,
         3315.0182,
         true
        ],
        [
         "NCQ06",
         "Household",
         256.1014,
         2550.014,
         true
        ],
        [
         "NCG06",
         "Household",
         256.1646,
         5926.2858,
         true
        ],
        [
         "NCQ06",
         "Household",
         256.7014,
         2805.0154,
         true
        ],
        [
         "NCG06",
         "Household",
         256.9646,
         4637.9628,
         true
        ],
        [
         "NCW30",
         "Household",
         257.8962,
         4402.9354,
         true
        ],
        [
         "NCW30",
         "Household",
         259.5962,
         2848.9582,
         true
        ],
        [
         "NCF06",
         "Household",
         260.8962,
         5956.9126,
         true
        ],
        [
         "NCL06",
         "Household",
         260.9594,
         2878.2534,
         true
        ],
        [
         "NCS06",
         "Household",
         260.991,
         7100.757,
         true
        ],
        [
         "NCS06",
         "Household",
         261.291,
         2892.901,
         true
        ],
        [
         "NCS06",
         "Household",
         261.591,
         3155.892,
         true
        ],
        [
         "NCB31",
         "Household",
         261.691,
         3155.892,
         true
        ],
        [
         "NCB31",
         "Household",
         262.891,
         5522.811,
         true
        ],
        [
         "NCL06",
         "Household",
         262.9594,
         5233.188,
         true
        ],
        [
         "NCS06",
         "Household",
         263.091,
         5522.811,
         true
        ],
        [
         "NCB31",
         "Household",
         263.291,
         3418.883,
         true
        ],
        [
         "NCB31",
         "Household",
         263.991,
         4207.856,
         true
        ],
        [
         "FDR03",
         "Meat",
         204.998,
         5366.348,
         true
        ],
        [
         "FDR03",
         "Meat",
         207.898,
         3095.97,
         true
        ],
        [
         "FDX39",
         "Meat",
         209.7586,
         5487.5236,
         true
        ],
        [
         "FDX39",
         "Meat",
         210.3586,
         6331.758,
         true
        ],
        [
         "FDX39",
         "Meat",
         212.4586,
         3799.0548,
         true
        ],
        [
         "FDX39",
         "Meat",
         212.5586,
         3165.879,
         true
        ],
        [
         "FDW51",
         "Meat",
         213.356,
         6817.792,
         true
        ],
        [
         "FDW51",
         "Meat",
         213.356,
         3835.008,
         true
        ],
        [
         "FDW51",
         "Meat",
         213.456,
         2556.672,
         true
        ],
        [
         "FDW51",
         "Meat",
         214.556,
         2769.728,
         true
        ],
        [
         "FDY51",
         "Meat",
         220.0798,
         4848.3556,
         true
        ],
        [
         "FDY51",
         "Meat",
         220.7798,
         6611.394,
         true
        ],
        [
         "FDY51",
         "Meat",
         220.8798,
         6170.6344,
         true
        ],
        [
         "FDY51",
         "Meat",
         221.7798,
         3085.3172,
         true
        ],
        [
         "FDJ55",
         "Meat",
         223.5404,
         5626.01,
         true
        ],
        [
         "FDJ55",
         "Meat",
         223.8404,
         7201.2928,
         true
        ],
        [
         "FDJ55",
         "Meat",
         225.9404,
         4950.8888,
         true
        ],
        [
         "FDJ55",
         "Meat",
         226.0404,
         5400.9696,
         true
        ],
        [
         "FDJ55",
         "Meat",
         226.8404,
         4500.808,
         true
        ],
        [
         "FDO03",
         "Meat",
         227.9352,
         4809.7392,
         true
        ],
        [
         "FDO03",
         "Meat",
         228.1352,
         9390.4432,
         true
        ],
        [
         "FDO03",
         "Meat",
         230.5352,
         4580.704,
         true
        ],
        [
         "FDT27",
         "Meat",
         232.8616,
         2812.3392,
         true
        ],
        [
         "FDT27",
         "Meat",
         232.9616,
         3515.424,
         true
        ],
        [
         "FDT27",
         "Meat",
         233.1616,
         6093.4016,
         true
        ],
        [
         "FDT27",
         "Meat",
         234.6616,
         4687.232,
         true
        ],
        [
         "FDQ03",
         "Meat",
         238.8248,
         3555.372,
         true
        ],
        [
         "FDI19",
         "Meat",
         242.7512,
         4119.9704,
         true
        ],
        [
         "FDI19",
         "Meat",
         242.8512,
         5816.4288,
         true
        ],
        [
         "FDI19",
         "Meat",
         242.9512,
         4847.024,
         true
        ],
        [
         "FDI19",
         "Meat",
         243.1512,
         4604.6728,
         true
        ],
        [
         "FDI19",
         "Meat",
         244.2512,
         3635.268,
         true
        ],
        [
         "FDN03",
         "Meat",
         248.6408,
         6759.2016,
         true
        ],
        [
         "FDN03",
         "Meat",
         250.1408,
         4005.4528,
         true
        ],
        [
         "FDP15",
         "Meat",
         255.433,
         9227.988,
         true
        ],
        [
         "FDN51",
         "Meat",
         260.2936,
         4175.8976,
         true
        ],
        [
         "FDN51",
         "Meat",
         260.7936,
         4697.8848,
         true
        ],
        [
         "FDN51",
         "Meat",
         261.5936,
         6002.8528,
         true
        ],
        [
         "NCO07",
         "Others",
         211.856,
         3621.952,
         true
        ],
        [
         "NCO07",
         "Others",
         213.256,
         4687.232,
         true
        ],
        [
         "NCN55",
         "Others",
         238.8538,
         6008.845,
         true
        ],
        [
         "NCJ31",
         "Others",
         239.2196,
         5061.4116,
         true
        ],
        [
         "NCN55",
         "Others",
         239.2538,
         3605.307,
         true
        ],
        [
         "NCJ31",
         "Others",
         240.6196,
         4579.3724,
         true
        ],
        [
         "NCN55",
         "Others",
         241.2538,
         5287.7836,
         true
        ],
        [
         "NCN55",
         "Others",
         242.3538,
         5287.7836,
         true
        ],
        [
         "NCJ31",
         "Others",
         243.0196,
         3374.2744,
         true
        ],
        [
         "NCJ31",
         "Others",
         243.0196,
         3615.294,
         true
        ],
        [
         "NCL55",
         "Others",
         253.404,
         4807.076,
         true
        ],
        [
         "NCL55",
         "Others",
         253.704,
         5060.08,
         true
        ],
        [
         "NCL55",
         "Others",
         254.904,
         4048.064,
         true
        ],
        [
         "FDI09",
         "Seafood",
         238.188,
         5033.448,
         true
        ],
        [
         "FDI09",
         "Seafood",
         239.988,
         2636.568,
         true
        ],
        [
         "FDI09",
         "Seafood",
         240.188,
         5992.2,
         true
        ],
        [
         "FDZ45",
         "Snack Foods",
         200.4084,
         3968.168,
         true
        ],
        [
         "FDI22",
         "Snack Foods",
         207.2612,
         4390.2852,
         true
        ],
        [
         "FDI22",
         "Snack Foods",
         208.6612,
         7317.142,
         true
        ],
        [
         "FDI22",
         "Snack Foods",
         208.7612,
         5226.53,
         true
        ],
        [
         "FDX22",
         "Snack Foods",
         208.7928,
         5890.9984,
         true
        ],
        [
         "FDI22",
         "Snack Foods",
         208.9612,
         4181.224,
         true
        ],
        [
         "FDB47",
         "Snack Foods",
         210.6612,
         2508.7344,
         true
        ],
        [
         "FDI22",
         "Snack Foods",
         210.8612,
         3344.9792,
         true
        ],
        [
         "FDX22",
         "Snack Foods",
         211.0928,
         4418.2488,
         true
        ],
        [
         "FDK33",
         "Snack Foods",
         211.556,
         5752.512,
         true
        ],
        [
         "FDK33",
         "Snack Foods",
         211.656,
         2556.672,
         true
        ],
        [
         "FDP09",
         "Snack Foods",
         211.6902,
         4247.804,
         true
        ],
        [
         "FDF22",
         "Snack Foods",
         211.8218,
         4915.6014,
         true
        ],
        [
         "FDB46",
         "Snack Foods",
         211.8244,
         3387.5904,
         true
        ],
        [
         "FDB46",
         "Snack Foods",
         211.9244,
         4869.6612,
         true
        ],
        [
         "FDK33",
         "Snack Foods",
         211.956,
         4474.176,
         true
        ],
        [
         "FDP09",
         "Snack Foods",
         212.0902,
         3185.853,
         true
        ],
        [
         "FDF22",
         "Snack Foods",
         212.8218,
         5770.4886,
         true
        ],
        [
         "FDM10",
         "Snack Foods",
         212.9218,
         3846.9924,
         true
        ],
        [
         "FDP09",
         "Snack Foods",
         213.2902,
         4247.804,
         true
        ],
        [
         "FDM10",
         "Snack Foods",
         213.4218,
         3846.9924,
         true
        ],
        [
         "FDK33",
         "Snack Foods",
         213.456,
         4261.12,
         true
        ],
        [
         "FDP09",
         "Snack Foods",
         213.5902,
         4460.1942,
         true
        ],
        [
         "FDB46",
         "Snack Foods",
         213.7244,
         4022.7636,
         true
        ],
        [
         "FDK33",
         "Snack Foods",
         213.756,
         3408.896,
         true
        ],
        [
         "FDF22",
         "Snack Foods",
         214.0218,
         5556.7668,
         true
        ],
        [
         "FDM10",
         "Snack Foods",
         214.0218,
         2564.6616,
         true
        ],
        [
         "FDF22",
         "Snack Foods",
         214.5218,
         2778.3834,
         true
        ],
        [
         "FDK22",
         "Snack Foods",
         214.885,
         4976.855,
         true
        ],
        [
         "FDM10",
         "Snack Foods",
         215.1218,
         3205.827,
         true
        ],
        [
         "FDK22",
         "Snack Foods",
         217.585,
         4327.7,
         true
        ],
        [
         "FDP58",
         "Snack Foods",
         218.3482,
         2847.6266,
         true
        ],
        [
         "FDM33",
         "Snack Foods",
         218.5798,
         4407.596,
         true
        ],
        [
         "FDP58",
         "Snack Foods",
         220.0482,
         2628.5784,
         true
        ],
        [
         "FDM33",
         "Snack Foods",
         220.1798,
         5068.7354,
         true
        ],
        [
         "FDP58",
         "Snack Foods",
         220.7482,
         4380.964,
         true
        ],
        [
         "FDM33",
         "Snack Foods",
         221.5798,
         5509.495,
         true
        ],
        [
         "FDW22",
         "Snack Foods",
         222.0114,
         6207.9192,
         true
        ],
        [
         "FDN45",
         "Snack Foods",
         222.6088,
         6040.1376,
         true
        ],
        [
         "FDN45",
         "Snack Foods",
         222.7088,
         4026.7584,
         true
        ],
        [
         "FDW22",
         "Snack Foods",
         222.9114,
         5764.4964,
         true
        ],
        [
         "FDO21",
         "Snack Foods",
         223.1404,
         5175.9292,
         true
        ],
        [
         "FDC47",
         "Snack Foods",
         226.9694,
         6851.082,
         true
        ],
        [
         "FDK09",
         "Snack Foods",
         227.2352,
         4122.6336,
         true
        ],
        [
         "FDY58",
         "Snack Foods",
         227.3694,
         4567.388,
         true
        ],
        [
         "FDR34",
         "Snack Foods",
         228.0352,
         2748.4224,
         true
        ],
        [
         "FDR34",
         "Snack Foods",
         228.4352,
         8245.2672,
         true
        ],
        [
         "FDR34",
         "Snack Foods",
         228.8352,
         4351.6688,
         true
        ],
        [
         "FDY58",
         "Snack Foods",
         228.9694,
         6622.7126,
         true
        ],
        [
         "FDR34",
         "Snack Foods",
         229.1352,
         4580.704,
         true
        ],
        [
         "FDC47",
         "Snack Foods",
         229.3694,
         5024.1268,
         true
        ],
        [
         "FDR34",
         "Snack Foods",
         229.4352,
         4809.7392,
         true
        ],
        [
         "FDC47",
         "Snack Foods",
         229.4694,
         5937.6044,
         true
        ],
        [
         "FDI34",
         "Snack Foods",
         229.7668,
         3916.2356,
         true
        ],
        [
         "FDI34",
         "Snack Foods",
         229.8668,
         4146.6024,
         true
        ],
        [
         "FDC47",
         "Snack Foods",
         229.9694,
         4339.0186,
         true
        ],
        [
         "FDN58",
         "Snack Foods",
         230.0984,
         3707.1744,
         true
        ],
        [
         "FDI34",
         "Snack Foods",
         230.2668,
         5759.17,
         true
        ],
        [
         "FDK09",
         "Snack Foods",
         230.7352,
         8474.3024,
         true
        ],
        [
         "FDN58",
         "Snack Foods",
         230.9984,
         9267.936,
         true
        ],
        [
         "FDN58",
         "Snack Foods",
         230.9984,
         4633.968,
         true
        ],
        [
         "FDN58",
         "Snack Foods",
         231.1984,
         5097.3648,
         true
        ],
        [
         "FDI34",
         "Snack Foods",
         231.4668,
         3225.1352,
         true
        ],
        [
         "FDN58",
         "Snack Foods",
         231.5984,
         7182.6504,
         true
        ],
        [
         "FDI34",
         "Snack Foods",
         232.3668,
         3685.8688,
         true
        ],
        [
         "FDB10",
         "Snack Foods",
         234.359,
         3072.667,
         true
        ],
        [
         "FDT57",
         "Snack Foods",
         235.5248,
         4740.496,
         true
        ],
        [
         "FDT57",
         "Snack Foods",
         236.0248,
         6636.6944,
         true
        ],
        [
         "FDK34",
         "Snack Foods",
         236.8564,
         5005.4844,
         true
        ],
        [
         "FDA58",
         "Snack Foods",
         236.9932,
         4242.4776,
         true
        ],
        [
         "FDT57",
         "Snack Foods",
         237.5248,
         3318.3472,
         true
        ],
        [
         "FDT57",
         "Snack Foods",
         238.2248,
         3555.372,
         true
        ],
        [
         "FDR45",
         "Snack Foods",
         238.6222,
         8604.7992,
         true
        ],
        [
         "FDR45",
         "Snack Foods",
         239.2222,
         6692.6216,
         true
        ],
        [
         "FDK34",
         "Snack Foods",
         239.3564,
         3098.6332,
         true
        ],
        [
         "FDK34",
         "Snack Foods",
         240.1564,
         7150.692,
         true
        ],
        [
         "FDK34",
         "Snack Foods",
         240.2564,
         2860.2768,
         true
        ],
        [
         "FDR45",
         "Snack Foods",
         240.5222,
         4541.4218,
         true
        ],
        [
         "FDR45",
         "Snack Foods",
         240.6222,
         4302.3996,
         true
        ],
        [
         "FDW34",
         "Snack Foods",
         241.317,
         3645.255,
         true
        ],
        [
         "FDN09",
         "Snack Foods",
         241.6828,
         4873.656,
         true
        ],
        [
         "FDN09",
         "Snack Foods",
         242.7828,
         3167.8764,
         true
        ],
        [
         "FDN09",
         "Snack Foods",
         243.7828,
         6579.4356,
         true
        ],
        [
         "FDW34",
         "Snack Foods",
         244.117,
         5346.374,
         true
        ],
        [
         "FDW34",
         "Snack Foods",
         244.317,
         8262.578,
         true
        ],
        [
         "FDW34",
         "Snack Foods",
         244.817,
         4374.306,
         true
        ],
        [
         "FDW34",
         "Snack Foods",
         244.917,
         2916.204,
         true
        ],
        [
         "FDT21",
         "Snack Foods",
         247.1092,
         4233.1564,
         true
        ],
        [
         "FDT21",
         "Snack Foods",
         248.8092,
         6474.2392,
         true
        ],
        [
         "FDT21",
         "Snack Foods",
         248.9092,
         5976.2208,
         true
        ],
        [
         "FDT21",
         "Snack Foods",
         249.0092,
         2988.1104,
         true
        ],
        [
         "FDK21",
         "Snack Foods",
         249.0408,
         6258.52,
         true
        ],
        [
         "FDK21",
         "Snack Foods",
         249.0408,
         3755.112,
         true
        ],
        [
         "FDK21",
         "Snack Foods",
         249.6408,
         3254.4304,
         true
        ],
        [
         "FDT21",
         "Snack Foods",
         249.7092,
         7719.2852,
         true
        ],
        [
         "FDK21",
         "Snack Foods",
         250.4408,
         3004.0896,
         true
        ],
        [
         "FDK21",
         "Snack Foods",
         250.7408,
         5757.8384,
         true
        ],
        [
         "FDN22",
         "Snack Foods",
         250.8724,
         3775.086,
         true
        ],
        [
         "FDN22",
         "Snack Foods",
         251.7724,
         3020.0688,
         true
        ],
        [
         "FDN22",
         "Snack Foods",
         251.8724,
         3271.7412,
         true
        ],
        [
         "FDI46",
         "Snack Foods",
         251.9724,
         2516.724,
         true
        ],
        [
         "FDI46",
         "Snack Foods",
         251.9724,
         3523.4136,
         true
        ],
        [
         "FDP45",
         "Snack Foods",
         252.2724,
         5033.448,
         true
        ],
        [
         "FDN22",
         "Snack Foods",
         252.4724,
         3271.7412,
         true
        ],
        [
         "FDI46",
         "Snack Foods",
         252.5724,
         3271.7412,
         true
        ],
        [
         "FDY45",
         "Snack Foods",
         252.6356,
         2543.356,
         true
        ],
        [
         "FDP45",
         "Snack Foods",
         252.9724,
         3020.0688,
         true
        ],
        [
         "FDY45",
         "Snack Foods",
         253.0356,
         4578.0408,
         true
        ],
        [
         "FDP45",
         "Snack Foods",
         253.1724,
         5285.1204,
         true
        ],
        [
         "FDY45",
         "Snack Foods",
         253.6356,
         5086.712,
         true
        ],
        [
         "FDI46",
         "Snack Foods",
         253.6724,
         5033.448,
         true
        ],
        [
         "FDY45",
         "Snack Foods",
         253.7356,
         3815.034,
         true
        ],
        [
         "FDP33",
         "Snack Foods",
         254.2672,
         10993.6896,
         true
        ],
        [
         "FDP33",
         "Snack Foods",
         254.7672,
         5113.344,
         true
        ],
        [
         "FDY45",
         "Snack Foods",
         255.1356,
         3815.034,
         true
        ],
        [
         "FDM21",
         "Snack Foods",
         255.7646,
         5410.9566,
         true
        ],
        [
         "FDY45",
         "Snack Foods",
         255.8356,
         2543.356,
         true
        ],
        [
         "FDM21",
         "Snack Foods",
         256.1646,
         7472.2734,
         true
        ],
        [
         "FDP33",
         "Snack Foods",
         256.4672,
         5369.0112,
         true
        ],
        [
         "FDP33",
         "Snack Foods",
         256.6672,
         3068.0064,
         true
        ],
        [
         "FDL57",
         "Snack Foods",
         257.3304,
         3874.956,
         true
        ],
        [
         "FDL57",
         "Snack Foods",
         257.9304,
         6458.26,
         true
        ],
        [
         "FDK46",
         "Snack Foods",
         258.062,
         2856.282,
         true
        ],
        [
         "FDM21",
         "Snack Foods",
         258.0646,
         5668.6212,
         true
        ],
        [
         "FDV33",
         "Snack Foods",
         258.3304,
         4133.2864,
         true
        ],
        [
         "FDK46",
         "Snack Foods",
         258.462,
         4673.916,
         true
        ],
        [
         "FDR09",
         "Snack Foods",
         258.4962,
         2848.9582,
         true
        ],
        [
         "FDL57",
         "Snack Foods",
         258.8304,
         5424.9384,
         true
        ],
        [
         "FDV33",
         "Snack Foods",
         259.2304,
         4649.9472,
         true
        ],
        [
         "FDM21",
         "Snack Foods",
         259.2646,
         3091.9752,
         true
        ],
        [
         "FDR09",
         "Snack Foods",
         259.6962,
         5438.9202,
         true
        ],
        [
         "FDR09",
         "Snack Foods",
         259.7962,
         8028.8822,
         true
        ],
        [
         "FDL57",
         "Snack Foods",
         260.2304,
         4908.2776,
         true
        ],
        [
         "FDL57",
         "Snack Foods",
         260.3304,
         5424.9384,
         true
        ],
        [
         "FDR09",
         "Snack Foods",
         260.5962,
         3884.943,
         true
        ],
        [
         "FDO09",
         "Snack Foods",
         261.091,
         5522.811,
         true
        ],
        [
         "FDO09",
         "Snack Foods",
         261.491,
         3418.883,
         true
        ],
        [
         "FDO09",
         "Snack Foods",
         262.191,
         6048.793,
         true
        ],
        [
         "FDL58",
         "Snack Foods",
         262.2568,
         5273.136,
         true
        ],
        [
         "FDL58",
         "Snack Foods",
         263.7568,
         2636.568,
         true
        ],
        [
         "FDO09",
         "Snack Foods",
         264.491,
         6574.775,
         true
        ],
        [
         "FDL58",
         "Snack Foods",
         264.5568,
         6327.7632,
         true
        ],
        [
         "FDL58",
         "Snack Foods",
         264.7568,
         4745.8224,
         true
        ],
        [
         "FDL58",
         "Snack Foods",
         264.9568,
         6855.0768,
         true
        ],
        [
         "DRK13",
         "Soft Drinks",
         200.2084,
         4563.3932,
         true
        ],
        [
         "DRI13",
         "Soft Drinks",
         216.4508,
         5426.27,
         true
        ],
        [
         "DRI13",
         "Soft Drinks",
         218.0508,
         3038.7112,
         true
        ],
        [
         "DRE60",
         "Soft Drinks",
         224.772,
         7017.532,
         true
        ],
        [
         "DRE60",
         "Soft Drinks",
         224.972,
         7696.648,
         true
        ],
        [
         "DRE60",
         "Soft Drinks",
         226.072,
         3621.952,
         true
        ],
        [
         "DRE60",
         "Soft Drinks",
         226.172,
         3848.324,
         true
        ],
        [
         "DRL01",
         "Soft Drinks",
         231.8958,
         8413.0488,
         true
        ],
        [
         "DRL01",
         "Soft Drinks",
         232.4958,
         2804.3496,
         true
        ],
        [
         "DRL01",
         "Soft Drinks",
         232.8958,
         5608.6992,
         true
        ],
        [
         "DRL01",
         "Soft Drinks",
         233.4958,
         5375.0034,
         true
        ],
        [
         "DRL01",
         "Soft Drinks",
         235.3958,
         6309.7866,
         true
        ],
        [
         "DRF60",
         "Soft Drinks",
         236.5564,
         5243.8408,
         true
        ],
        [
         "DRD49",
         "Soft Drinks",
         236.8564,
         4767.128,
         true
        ],
        [
         "DRD49",
         "Soft Drinks",
         237.7564,
         3813.7024,
         true
        ],
        [
         "DRF60",
         "Soft Drinks",
         238.1564,
         5243.8408,
         true
        ],
        [
         "DRD49",
         "Soft Drinks",
         239.4564,
         5243.8408,
         true
        ],
        [
         "DRF60",
         "Soft Drinks",
         239.9564,
         3813.7024,
         true
        ],
        [
         "DRF60",
         "Soft Drinks",
         240.3564,
         4290.4152,
         true
        ],
        [
         "DRE01",
         "Soft Drinks",
         241.7512,
         5331.7264,
         true
        ],
        [
         "DRG49",
         "Soft Drinks",
         242.8486,
         3420.8804,
         true
        ],
        [
         "DRG49",
         "Soft Drinks",
         246.0486,
         7086.1094,
         true
        ],
        [
         "DRG49",
         "Soft Drinks",
         246.1486,
         5375.6692,
         true
        ],
        [
         "DRF37",
         "Soft Drinks",
         261.191,
         3155.892,
         true
        ],
        [
         "DRF37",
         "Soft Drinks",
         261.591,
         3418.883,
         true
        ],
        [
         "DRF37",
         "Soft Drinks",
         263.191,
         3944.865,
         true
        ],
        [
         "DRF37",
         "Soft Drinks",
         263.391,
         6311.784,
         true
        ],
        [
         "FDC35",
         "Starchy Foods",
         205.2638,
         3520.0846,
         true
        ],
        [
         "FDC35",
         "Starchy Foods",
         207.5638,
         4555.4036,
         true
        ],
        [
         "FDC35",
         "Starchy Foods",
         208.7638,
         3105.957,
         true
        ],
        [
         "FDF47",
         "Starchy Foods",
         222.8746,
         3589.9936,
         true
        ],
        [
         "FDB23",
         "Starchy Foods",
         223.8062,
         5642.655,
         true
        ],
        [
         "FDB11",
         "Starchy Foods",
         223.8404,
         3600.6464,
         true
        ],
        [
         "FDB23",
         "Starchy Foods",
         224.0062,
         3837.0054,
         true
        ],
        [
         "FDB11",
         "Starchy Foods",
         224.1404,
         4725.8484,
         true
        ],
        [
         "FDF47",
         "Starchy Foods",
         225.3746,
         3365.619,
         true
        ],
        [
         "FDB11",
         "Starchy Foods",
         225.6404,
         2925.5252,
         true
        ],
        [
         "FDB11",
         "Starchy Foods",
         226.2404,
         4725.8484,
         true
        ],
        [
         "FDB23",
         "Starchy Foods",
         226.6062,
         5191.2426,
         true
        ],
        [
         "FDB11",
         "Starchy Foods",
         226.8404,
         6301.1312,
         true
        ],
        [
         "FDB23",
         "Starchy Foods",
         226.9062,
         4514.124,
         true
        ],
        [
         "FDF11",
         "Starchy Foods",
         239.4538,
         3605.307,
         true
        ],
        [
         "FDF11",
         "Starchy Foods",
         239.4538,
         4566.7222,
         true
        ],
        [
         "FDF11",
         "Starchy Foods",
         239.8538,
         4086.0146,
         true
        ],
        [
         "FDD11",
         "Starchy Foods",
         251.704,
         3542.056,
         true
        ],
        [
         "FDD11",
         "Starchy Foods",
         253.004,
         3795.06,
         true
        ],
        [
         "FDD11",
         "Starchy Foods",
         254.704,
         2530.04,
         true
        ],
        [
         "FDD11",
         "Starchy Foods",
         254.704,
         3036.048,
         true
        ],
        [
         "FDD11",
         "Starchy Foods",
         254.904,
         3036.048,
         true
        ],
        [
         "FDG47",
         "Starchy Foods",
         260.3252,
         8132.0812,
         true
        ],
        [
         "FDG47",
         "Starchy Foods",
         261.3252,
         3410.2276,
         true
        ],
        [
         "FDG47",
         "Starchy Foods",
         261.9252,
         4984.1788,
         true
        ],
        [
         "FDG47",
         "Starchy Foods",
         262.8252,
         2885.5772,
         true
        ],
        [
         "FDG47",
         "Starchy Foods",
         263.0252,
         2885.5772,
         true
        ]
       ],
       "datasetInfos": [],
       "dbfsResultPath": null,
       "isJsonSchema": true,
       "metadata": {},
       "overflow": false,
       "plotOptions": {
        "customPlotOptions": {},
        "displayType": "table",
        "pivotAggregation": null,
        "pivotColumns": null,
        "xColumns": null,
        "yColumns": null
       },
       "removedWidgets": [],
       "schema": [
        {
         "metadata": "{}",
         "name": "Item_Identifier",
         "type": "\"string\""
        },
        {
         "metadata": "{}",
         "name": "Item_Type",
         "type": "\"string\""
        },
        {
         "metadata": "{}",
         "name": "Item_MRP",
         "type": "\"double\""
        },
        {
         "metadata": "{}",
         "name": "Item_Outlet_Sales",
         "type": "\"double\""
        },
        {
         "metadata": "{}",
         "name": "Is_High_Value",
         "type": "\"boolean\""
        }
       ],
       "type": "table"
      }
     },
     "output_type": "display_data"
    }
   ],
   "source": [
    "# Example of creating and using UDFs\n",
    "from pyspark.sql.functions import udf\n",
    "from pyspark.sql.types import StringType, DoubleType, BooleanType\n",
    "\n",
    "# 1. Simple UDF to categorize items based on price\n",
    "def categorize_price(price):\n",
    "    if price is None:\n",
    "        return \"Unknown\"\n",
    "    elif price < 50:\n",
    "        return \"Budget\"\n",
    "    elif price < 100:\n",
    "        return \"Economy\"\n",
    "    elif price < 200:\n",
    "        return \"Standard\"\n",
    "    else:\n",
    "        return \"Premium\"\n",
    "\n",
    "# Register the UDF with Spark\n",
    "price_category_udf = udf(categorize_price, StringType())\n",
    "\n",
    "# Apply the UDF to our DataFrame\n",
    "udf_result = sales_with_category.withColumn(\n",
    "    \"Price_Category_UDF\", \n",
    "    price_category_udf(col(\"Item_MRP\"))\n",
    ")\n",
    "\n",
    "display(udf_result.select(\n",
    "    \"Item_Identifier\", \n",
    "    \"Item_MRP\", \n",
    "    \"Price_Category_UDF\"\n",
    ").limit(10))\n",
    "\n",
    "# 2. UDF to calculate a profit metric (simplified)\n",
    "def calculate_profit(mrp, sales):\n",
    "    if mrp is None or sales is None:\n",
    "        return None\n",
    "    # Assume a simple relationship between MRP and profit\n",
    "    return sales - (mrp * 0.7)\n",
    "\n",
    "profit_udf = udf(calculate_profit, DoubleType())\n",
    "\n",
    "# Apply the UDF\n",
    "udf_result = udf_result.withColumn(\n",
    "    \"Estimated_Profit\", \n",
    "    profit_udf(col(\"Item_MRP\"), col(\"Item_Outlet_Sales\"))\n",
    ")\n",
    "\n",
    "display(udf_result.select(\n",
    "    \"Item_Identifier\", \n",
    "    \"Item_MRP\", \n",
    "    \"Item_Outlet_Sales\", \n",
    "    \"Estimated_Profit\"\n",
    ").limit(10))\n",
    "\n",
    "# 3. UDF with multiple column inputs\n",
    "def is_high_value_item(item_type, price, sales):\n",
    "    if None in (item_type, price, sales):\n",
    "        return False\n",
    "    \n",
    "    # Different thresholds for different item types\n",
    "    if item_type == \"Fruits and Vegetables\" and price > 100 and sales > 2000:\n",
    "        return True\n",
    "    elif item_type == \"Dairy\" and price > 150 and sales > 1500:\n",
    "        return True\n",
    "    elif price > 200 and sales > 2500:\n",
    "        return True\n",
    "    else:\n",
    "        return False\n",
    "\n",
    "high_value_udf = udf(is_high_value_item, BooleanType())\n",
    "\n",
    "# Apply the UDF\n",
    "udf_result = udf_result.withColumn(\n",
    "    \"Is_High_Value\", \n",
    "    high_value_udf(col(\"Item_Type\"), col(\"Item_MRP\"), col(\"Item_Outlet_Sales\"))\n",
    ")\n",
    "\n",
    "# Show high value items\n",
    "display(udf_result.filter(col(\"Is_High_Value\") == True).select(\n",
    "    \"Item_Identifier\", \n",
    "    \"Item_Type\", \n",
    "    \"Item_MRP\", \n",
    "    \"Item_Outlet_Sales\", \n",
    "    \"Is_High_Value\"\n",
    ").orderBy(\"Item_Type\", \"Item_MRP\"))"
   ]
  },
  {
   "cell_type": "markdown",
   "metadata": {
    "application/vnd.databricks.v1+cell": {
     "cellMetadata": {},
     "inputWidgets": {},
     "nuid": "94a59157-1c65-444f-89c2-c306cafb6977",
     "showTitle": false,
     "tableResultSettingsMap": {},
     "title": ""
    }
   },
   "source": [
    "## Performance Optimization Techniques\n",
    "\n",
    "Performance optimization is crucial when working with large datasets. PySpark provides several techniques to improve query performance:\n",
    "\n",
    "1. **Caching/Persistence**: Store intermediate results in memory\n",
    "2. **Partitioning**: Control how data is distributed\n",
    "3. **Broadcast joins**: Optimize small table joins\n",
    "4. **Coalesce/Repartition**: Manage the number of partitions\n",
    "5. **Bucketing**: Pre-organize data by certain columns"
   ]
  },
  {
   "cell_type": "code",
   "execution_count": 0,
   "metadata": {
    "application/vnd.databricks.v1+cell": {
     "cellMetadata": {
      "byteLimit": 2048000,
      "rowLimit": 10000
     },
     "inputWidgets": {},
     "nuid": "06b05c22-c9dd-45b4-93af-a5e9ca58e3a3",
     "showTitle": false,
     "tableResultSettingsMap": {},
     "title": ""
    }
   },
   "outputs": [
    {
     "output_type": "display_data",
     "data": {
      "text/plain": [
       "\u001B[0;31m---------------------------------------------------------------------------\u001B[0m\n",
       "\u001B[0;31mAnalysisException\u001B[0m                         Traceback (most recent call last)\n",
       "File \u001B[0;32m<command-7731533994687345>, line 5\u001B[0m\n",
       "\u001B[1;32m      1\u001B[0m \u001B[38;5;66;03m# Performance optimization examples\u001B[39;00m\n",
       "\u001B[1;32m      2\u001B[0m \n",
       "\u001B[1;32m      3\u001B[0m \u001B[38;5;66;03m# 1. Caching/Persistence\u001B[39;00m\n",
       "\u001B[1;32m      4\u001B[0m \u001B[38;5;66;03m# Cache a DataFrame that will be used multiple times\u001B[39;00m\n",
       "\u001B[0;32m----> 5\u001B[0m sales_with_category\u001B[38;5;241m.\u001B[39mcache()  \u001B[38;5;66;03m# Store in memory\u001B[39;00m\n",
       "\u001B[1;32m      6\u001B[0m \u001B[38;5;66;03m# or use persist() for more control\u001B[39;00m\n",
       "\u001B[1;32m      7\u001B[0m \u001B[38;5;66;03m# sales_with_category.persist(StorageLevel.MEMORY_AND_DISK)\u001B[39;00m\n",
       "\u001B[1;32m      8\u001B[0m \n",
       "\u001B[1;32m      9\u001B[0m \u001B[38;5;66;03m# Check if the DataFrame is cached\u001B[39;00m\n",
       "\u001B[1;32m     10\u001B[0m \u001B[38;5;28mprint\u001B[39m(\u001B[38;5;124m\"\u001B[39m\u001B[38;5;124mIs cached:\u001B[39m\u001B[38;5;124m\"\u001B[39m, spark\u001B[38;5;241m.\u001B[39mcatalog\u001B[38;5;241m.\u001B[39misCached(\u001B[38;5;124m\"\u001B[39m\u001B[38;5;124msales\u001B[39m\u001B[38;5;124m\"\u001B[39m))\n",
       "\n",
       "File \u001B[0;32m/databricks/python/lib/python3.11/site-packages/pyspark/sql/connect/dataframe.py:2163\u001B[0m, in \u001B[0;36mDataFrame.cache\u001B[0;34m(self)\u001B[0m\n",
       "\u001B[1;32m   2162\u001B[0m \u001B[38;5;28;01mdef\u001B[39;00m \u001B[38;5;21mcache\u001B[39m(\u001B[38;5;28mself\u001B[39m) \u001B[38;5;241m-\u001B[39m\u001B[38;5;241m>\u001B[39m \u001B[38;5;124m\"\u001B[39m\u001B[38;5;124mDataFrame\u001B[39m\u001B[38;5;124m\"\u001B[39m:\n",
       "\u001B[0;32m-> 2163\u001B[0m     \u001B[38;5;28;01mreturn\u001B[39;00m \u001B[38;5;28mself\u001B[39m\u001B[38;5;241m.\u001B[39mpersist()\n",
       "\n",
       "File \u001B[0;32m/databricks/python/lib/python3.11/site-packages/pyspark/sql/connect/dataframe.py:2172\u001B[0m, in \u001B[0;36mDataFrame.persist\u001B[0;34m(self, storageLevel)\u001B[0m\n",
       "\u001B[1;32m   2167\u001B[0m \u001B[38;5;28;01mdef\u001B[39;00m \u001B[38;5;21mpersist\u001B[39m(\n",
       "\u001B[1;32m   2168\u001B[0m     \u001B[38;5;28mself\u001B[39m,\n",
       "\u001B[1;32m   2169\u001B[0m     storageLevel: StorageLevel \u001B[38;5;241m=\u001B[39m (StorageLevel\u001B[38;5;241m.\u001B[39mMEMORY_AND_DISK_DESER),\n",
       "\u001B[1;32m   2170\u001B[0m ) \u001B[38;5;241m-\u001B[39m\u001B[38;5;241m>\u001B[39m \u001B[38;5;124m\"\u001B[39m\u001B[38;5;124mDataFrame\u001B[39m\u001B[38;5;124m\"\u001B[39m:\n",
       "\u001B[1;32m   2171\u001B[0m     relation \u001B[38;5;241m=\u001B[39m \u001B[38;5;28mself\u001B[39m\u001B[38;5;241m.\u001B[39m_plan\u001B[38;5;241m.\u001B[39mplan(\u001B[38;5;28mself\u001B[39m\u001B[38;5;241m.\u001B[39m_session\u001B[38;5;241m.\u001B[39mclient)\n",
       "\u001B[0;32m-> 2172\u001B[0m     \u001B[38;5;28mself\u001B[39m\u001B[38;5;241m.\u001B[39m_session\u001B[38;5;241m.\u001B[39mclient\u001B[38;5;241m.\u001B[39m_analyze(\n",
       "\u001B[1;32m   2173\u001B[0m         method\u001B[38;5;241m=\u001B[39m\u001B[38;5;124m\"\u001B[39m\u001B[38;5;124mpersist\u001B[39m\u001B[38;5;124m\"\u001B[39m, relation\u001B[38;5;241m=\u001B[39mrelation, storage_level\u001B[38;5;241m=\u001B[39mstorageLevel\n",
       "\u001B[1;32m   2174\u001B[0m     )\n",
       "\u001B[1;32m   2175\u001B[0m     \u001B[38;5;28;01mreturn\u001B[39;00m \u001B[38;5;28mself\u001B[39m\n",
       "\n",
       "File \u001B[0;32m/databricks/python/lib/python3.11/site-packages/pyspark/sql/connect/client/core.py:1546\u001B[0m, in \u001B[0;36mSparkConnectClient._analyze\u001B[0;34m(self, method, **kwargs)\u001B[0m\n",
       "\u001B[1;32m   1544\u001B[0m     \u001B[38;5;28;01mraise\u001B[39;00m SparkConnectException(\u001B[38;5;124m\"\u001B[39m\u001B[38;5;124mInvalid state during retry exception handling.\u001B[39m\u001B[38;5;124m\"\u001B[39m)\n",
       "\u001B[1;32m   1545\u001B[0m \u001B[38;5;28;01mexcept\u001B[39;00m \u001B[38;5;167;01mException\u001B[39;00m \u001B[38;5;28;01mas\u001B[39;00m error:\n",
       "\u001B[0;32m-> 1546\u001B[0m     \u001B[38;5;28mself\u001B[39m\u001B[38;5;241m.\u001B[39m_handle_error(error)\n",
       "\n",
       "File \u001B[0;32m/databricks/python/lib/python3.11/site-packages/pyspark/sql/connect/client/core.py:2053\u001B[0m, in \u001B[0;36mSparkConnectClient._handle_error\u001B[0;34m(self, error)\u001B[0m\n",
       "\u001B[1;32m   2051\u001B[0m \u001B[38;5;28mself\u001B[39m\u001B[38;5;241m.\u001B[39mthread_local\u001B[38;5;241m.\u001B[39minside_error_handling \u001B[38;5;241m=\u001B[39m \u001B[38;5;28;01mTrue\u001B[39;00m\n",
       "\u001B[1;32m   2052\u001B[0m \u001B[38;5;28;01mif\u001B[39;00m \u001B[38;5;28misinstance\u001B[39m(error, grpc\u001B[38;5;241m.\u001B[39mRpcError):\n",
       "\u001B[0;32m-> 2053\u001B[0m     \u001B[38;5;28mself\u001B[39m\u001B[38;5;241m.\u001B[39m_handle_rpc_error(error)\n",
       "\u001B[1;32m   2054\u001B[0m \u001B[38;5;28;01melif\u001B[39;00m \u001B[38;5;28misinstance\u001B[39m(error, \u001B[38;5;167;01mValueError\u001B[39;00m):\n",
       "\u001B[1;32m   2055\u001B[0m     \u001B[38;5;28;01mif\u001B[39;00m \u001B[38;5;124m\"\u001B[39m\u001B[38;5;124mCannot invoke RPC\u001B[39m\u001B[38;5;124m\"\u001B[39m \u001B[38;5;129;01min\u001B[39;00m \u001B[38;5;28mstr\u001B[39m(error) \u001B[38;5;129;01mand\u001B[39;00m \u001B[38;5;124m\"\u001B[39m\u001B[38;5;124mclosed\u001B[39m\u001B[38;5;124m\"\u001B[39m \u001B[38;5;129;01min\u001B[39;00m \u001B[38;5;28mstr\u001B[39m(error):\n",
       "\n",
       "File \u001B[0;32m/databricks/python/lib/python3.11/site-packages/pyspark/sql/connect/client/core.py:2132\u001B[0m, in \u001B[0;36mSparkConnectClient._handle_rpc_error\u001B[0;34m(self, rpc_error)\u001B[0m\n",
       "\u001B[1;32m   2128\u001B[0m             d\u001B[38;5;241m.\u001B[39mUnpack(info)\n",
       "\u001B[1;32m   2130\u001B[0m             \u001B[38;5;28mself\u001B[39m\u001B[38;5;241m.\u001B[39m_handle_rpc_error_with_error_info(status, info)  \u001B[38;5;66;03m# EDGE\u001B[39;00m\n",
       "\u001B[0;32m-> 2132\u001B[0m             \u001B[38;5;28;01mraise\u001B[39;00m convert_exception(\n",
       "\u001B[1;32m   2133\u001B[0m                 info,\n",
       "\u001B[1;32m   2134\u001B[0m                 status\u001B[38;5;241m.\u001B[39mmessage,\n",
       "\u001B[1;32m   2135\u001B[0m                 \u001B[38;5;28mself\u001B[39m\u001B[38;5;241m.\u001B[39m_fetch_enriched_error(info),\n",
       "\u001B[1;32m   2136\u001B[0m                 \u001B[38;5;28mself\u001B[39m\u001B[38;5;241m.\u001B[39m_display_server_stack_trace(),\n",
       "\u001B[1;32m   2137\u001B[0m             ) \u001B[38;5;28;01mfrom\u001B[39;00m \u001B[38;5;28;01mNone\u001B[39;00m\n",
       "\u001B[1;32m   2139\u001B[0m     \u001B[38;5;28;01mraise\u001B[39;00m SparkConnectGrpcException(\n",
       "\u001B[1;32m   2140\u001B[0m         message\u001B[38;5;241m=\u001B[39mstatus\u001B[38;5;241m.\u001B[39mmessage,\n",
       "\u001B[1;32m   2141\u001B[0m         sql_state\u001B[38;5;241m=\u001B[39mSparkConnectGrpcException\u001B[38;5;241m.\u001B[39mCLIENT_UNEXPECTED_MISSING_SQL_STATE,  \u001B[38;5;66;03m# EDGE\u001B[39;00m\n",
       "\u001B[1;32m   2142\u001B[0m     ) \u001B[38;5;28;01mfrom\u001B[39;00m \u001B[38;5;28;01mNone\u001B[39;00m\n",
       "\u001B[1;32m   2143\u001B[0m \u001B[38;5;28;01melse\u001B[39;00m:\n",
       "\n",
       "\u001B[0;31mAnalysisException\u001B[0m: [NOT_SUPPORTED_WITH_SERVERLESS] PERSIST TABLE is not supported on serverless compute. SQLSTATE: 0A000\n",
       "\n",
       "JVM stacktrace:\n",
       "org.apache.spark.sql.AnalysisException\n",
       "\tat com.databricks.serverless.ServerlessGCEdgeCheck$.throwError(ServerlessGCEdgeCheck.scala:65)\n",
       "\tat com.databricks.serverless.ServerlessGCEdgeCheck$.checkBlockCacheCommand(ServerlessGCEdgeCheck.scala:43)\n",
       "\tat org.apache.spark.sql.connect.service.SparkConnectAnalyzeHandler.process(SparkConnectAnalyzeHandler.scala:277)\n",
       "\tat org.apache.spark.sql.connect.service.SparkConnectAnalyzeHandler.$anonfun$handle$3(SparkConnectAnalyzeHandler.scala:78)\n",
       "\tat org.apache.spark.sql.connect.service.SparkConnectAnalyzeHandler.$anonfun$handle$3$adapted(SparkConnectAnalyzeHandler.scala:70)\n",
       "\tat org.apache.spark.sql.connect.service.SessionHolder.$anonfun$withSession$2(SessionHolder.scala:466)\n",
       "\tat org.apache.spark.sql.SparkSession.withActive(SparkSession.scala:860)\n",
       "\tat org.apache.spark.sql.connect.service.SessionHolder.$anonfun$withSession$1(SessionHolder.scala:466)\n",
       "\tat org.apache.spark.JobArtifactSet$.withActiveJobArtifactState(JobArtifactSet.scala:97)\n",
       "\tat org.apache.spark.sql.artifact.ArtifactManager.$anonfun$withResources$1(ArtifactManager.scala:121)\n",
       "\tat org.apache.spark.sql.artifact.ArtifactManager.withClassLoaderIfNeeded(ArtifactManager.scala:115)\n",
       "\tat org.apache.spark.sql.artifact.ArtifactManager.withResources(ArtifactManager.scala:120)\n",
       "\tat org.apache.spark.sql.connect.service.SessionHolder.withSession(SessionHolder.scala:465)\n",
       "\tat org.apache.spark.sql.connect.service.SparkConnectAnalyzeHandler.$anonfun$handle$1(SparkConnectAnalyzeHandler.scala:70)\n",
       "\tat org.apache.spark.sql.connect.service.SparkConnectAnalyzeHandler.$anonfun$handle$1$adapted(SparkConnectAnalyzeHandler.scala:55)\n",
       "\tat com.databricks.spark.connect.logging.rpc.SparkConnectRpcMetricsCollectorUtils$.collectMetrics(SparkConnectRpcMetricsCollector.scala:263)\n",
       "\tat org.apache.spark.sql.connect.service.SparkConnectAnalyzeHandler.handle(SparkConnectAnalyzeHandler.scala:54)\n",
       "\tat org.apache.spark.sql.connect.service.SparkConnectService.analyzePlan(SparkConnectService.scala:114)\n",
       "\tat org.apache.spark.connect.proto.SparkConnectServiceGrpc$MethodHandlers.invoke(SparkConnectServiceGrpc.java:801)\n",
       "\tat org.sparkproject.connect.io.grpc.stub.ServerCalls$UnaryServerCallHandler$UnaryServerCallListener.onHalfClose(ServerCalls.java:182)\n",
       "\tat org.sparkproject.connect.io.grpc.PartialForwardingServerCallListener.onHalfClose(PartialForwardingServerCallListener.java:35)\n",
       "\tat org.sparkproject.connect.io.grpc.ForwardingServerCallListener.onHalfClose(ForwardingServerCallListener.java:23)\n",
       "\tat org.sparkproject.connect.io.grpc.ForwardingServerCallListener$SimpleForwardingServerCallListener.onHalfClose(ForwardingServerCallListener.java:40)\n",
       "\tat org.sparkproject.connect.io.grpc.PartialForwardingServerCallListener.onHalfClose(PartialForwardingServerCallListener.java:35)\n",
       "\tat org.sparkproject.connect.io.grpc.ForwardingServerCallListener.onHalfClose(ForwardingServerCallListener.java:23)\n",
       "\tat org.sparkproject.connect.io.grpc.ForwardingServerCallListener$SimpleForwardingServerCallListener.onHalfClose(ForwardingServerCallListener.java:40)\n",
       "\tat com.databricks.spark.connect.service.AuthenticationInterceptor$AuthenticatedServerCallListener.$anonfun$onHalfClose$1(AuthenticationInterceptor.scala:387)\n",
       "\tat scala.runtime.java8.JFunction0$mcV$sp.apply(JFunction0$mcV$sp.scala:18)\n",
       "\tat com.databricks.unity.UCSEphemeralState$Handle.runWith(UCSEphemeralState.scala:51)\n",
       "\tat com.databricks.unity.HandleImpl.runWith(UCSHandle.scala:104)\n",
       "\tat com.databricks.spark.connect.service.RequestContext.$anonfun$runWith$4(RequestContext.scala:356)\n",
       "\tat com.databricks.logging.AttributionContextTracing.$anonfun$withAttributionContext$1(AttributionContextTracing.scala:49)\n",
       "\tat com.databricks.logging.AttributionContext$.$anonfun$withValue$1(AttributionContext.scala:291)\n",
       "\tat scala.util.DynamicVariable.withValue(DynamicVariable.scala:59)\n",
       "\tat com.databricks.logging.AttributionContext$.withValue(AttributionContext.scala:287)\n",
       "\tat com.databricks.logging.AttributionContextTracing.withAttributionContext(AttributionContextTracing.scala:47)\n",
       "\tat com.databricks.logging.AttributionContextTracing.withAttributionContext$(AttributionContextTracing.scala:44)\n",
       "\tat com.databricks.spark.util.DatabricksTracingHelper.withAttributionContext(DatabricksSparkTracingHelper.scala:65)\n",
       "\tat com.databricks.spark.util.DatabricksTracingHelper.withSpanFromRequest(DatabricksSparkTracingHelper.scala:92)\n",
       "\tat com.databricks.spark.util.DBRTracing$.withSpanFromRequest(DBRTracing.scala:43)\n",
       "\tat com.databricks.spark.connect.service.RequestContext.runWithSpanFromTags(RequestContext.scala:378)\n",
       "\tat com.databricks.spark.connect.service.RequestContext.$anonfun$runWith$3(RequestContext.scala:356)\n",
       "\tat com.databricks.spark.connect.service.RequestContext$.com$databricks$spark$connect$service$RequestContext$$withLocalProperties(RequestContext.scala:574)\n",
       "\tat com.databricks.spark.connect.service.RequestContext.$anonfun$runWith$2(RequestContext.scala:355)\n",
       "\tat com.databricks.logging.AttributionContextTracing.$anonfun$withAttributionContext$1(AttributionContextTracing.scala:49)\n",
       "\tat com.databricks.logging.AttributionContext$.$anonfun$withValue$1(AttributionContext.scala:291)\n",
       "\tat scala.util.DynamicVariable.withValue(DynamicVariable.scala:59)\n",
       "\tat com.databricks.logging.AttributionContext$.withValue(AttributionContext.scala:287)\n",
       "\tat com.databricks.logging.AttributionContextTracing.withAttributionContext(AttributionContextTracing.scala:47)\n",
       "\tat com.databricks.logging.AttributionContextTracing.withAttributionContext$(AttributionContextTracing.scala:44)\n",
       "\tat com.databricks.spark.util.PublicDBLogging.withAttributionContext(DatabricksSparkUsageLogger.scala:30)\n",
       "\tat com.databricks.spark.util.UniverseAttributionContextWrapper.withValue(AttributionContextUtils.scala:242)\n",
       "\tat com.databricks.spark.connect.service.RequestContext.$anonfun$runWith$1(RequestContext.scala:354)\n",
       "\tat com.databricks.spark.connect.service.RequestContext.withContext(RequestContext.scala:386)\n",
       "\tat com.databricks.spark.connect.service.RequestContext.runWith(RequestContext.scala:347)\n",
       "\tat com.databricks.spark.connect.service.AuthenticationInterceptor$AuthenticatedServerCallListener.onHalfClose(AuthenticationInterceptor.scala:387)\n",
       "\tat org.sparkproject.connect.io.grpc.PartialForwardingServerCallListener.onHalfClose(PartialForwardingServerCallListener.java:35)\n",
       "\tat org.sparkproject.connect.io.grpc.ForwardingServerCallListener.onHalfClose(ForwardingServerCallListener.java:23)\n",
       "\tat org.sparkproject.connect.io.grpc.ForwardingServerCallListener$SimpleForwardingServerCallListener.onHalfClose(ForwardingServerCallListener.java:40)\n",
       "\tat org.sparkproject.connect.io.grpc.internal.ServerCallImpl$ServerStreamListenerImpl.halfClosed(ServerCallImpl.java:356)\n",
       "\tat org.sparkproject.connect.io.grpc.internal.ServerImpl$JumpToApplicationThreadServerStreamListener$1HalfClosed.runInContext(ServerImpl.java:861)\n",
       "\tat org.sparkproject.connect.io.grpc.internal.ContextRunnable.run(ContextRunnable.java:37)\n",
       "\tat org.sparkproject.connect.io.grpc.internal.SerializingExecutor.run(SerializingExecutor.java:133)\n",
       "\tat org.apache.spark.util.threads.SparkThreadLocalCapturingRunnable.$anonfun$run$1(SparkThreadLocalForwardingThreadPoolExecutor.scala:165)\n",
       "\tat scala.runtime.java8.JFunction0$mcV$sp.apply(JFunction0$mcV$sp.scala:18)\n",
       "\tat com.databricks.util.LexicalThreadLocal$Handle.runWith(LexicalThreadLocal.scala:63)\n",
       "\tat org.apache.spark.util.threads.SparkThreadLocalCapturingHelper.$anonfun$runWithCaptured$6(SparkThreadLocalForwardingThreadPoolExecutor.scala:119)\n",
       "\tat com.databricks.sql.transaction.tahoe.mst.MSTThreadHelper$.runWithMstTxnId(MSTThreadHelper.scala:57)\n",
       "\tat org.apache.spark.util.threads.SparkThreadLocalCapturingHelper.$anonfun$runWithCaptured$5(SparkThreadLocalForwardingThreadPoolExecutor.scala:118)\n",
       "\tat com.databricks.spark.util.IdentityClaim$.withClaim(IdentityClaim.scala:48)\n",
       "\tat org.apache.spark.util.threads.SparkThreadLocalCapturingHelper.$anonfun$runWithCaptured$4(SparkThreadLocalForwardingThreadPoolExecutor.scala:117)\n",
       "\tat com.databricks.unity.UCSEphemeralState$Handle.runWith(UCSEphemeralState.scala:51)\n",
       "\tat org.apache.spark.util.threads.SparkThreadLocalCapturingHelper.runWithCaptured(SparkThreadLocalForwardingThreadPoolExecutor.scala:116)\n",
       "\tat org.apache.spark.util.threads.SparkThreadLocalCapturingHelper.runWithCaptured$(SparkThreadLocalForwardingThreadPoolExecutor.scala:93)\n",
       "\tat org.apache.spark.util.threads.SparkThreadLocalCapturingRunnable.runWithCaptured(SparkThreadLocalForwardingThreadPoolExecutor.scala:162)\n",
       "\tat org.apache.spark.util.threads.SparkThreadLocalCapturingRunnable.run(SparkThreadLocalForwardingThreadPoolExecutor.scala:165)\n",
       "\tat java.util.concurrent.ThreadPoolExecutor.runWorker(ThreadPoolExecutor.java:1136)\n",
       "\tat java.util.concurrent.ThreadPoolExecutor$Worker.run(ThreadPoolExecutor.java:635)\n",
       "\tat java.lang.Thread.run(Thread.java:840)"
      ]
     },
     "metadata": {
      "application/vnd.databricks.v1+output": {
       "addedWidgets": {},
       "arguments": {},
       "datasetInfos": [],
       "jupyterProps": {
        "ename": "AnalysisException",
        "evalue": "[NOT_SUPPORTED_WITH_SERVERLESS] PERSIST TABLE is not supported on serverless compute. SQLSTATE: 0A000\n\nJVM stacktrace:\norg.apache.spark.sql.AnalysisException\n\tat com.databricks.serverless.ServerlessGCEdgeCheck$.throwError(ServerlessGCEdgeCheck.scala:65)\n\tat com.databricks.serverless.ServerlessGCEdgeCheck$.checkBlockCacheCommand(ServerlessGCEdgeCheck.scala:43)\n\tat org.apache.spark.sql.connect.service.SparkConnectAnalyzeHandler.process(SparkConnectAnalyzeHandler.scala:277)\n\tat org.apache.spark.sql.connect.service.SparkConnectAnalyzeHandler.$anonfun$handle$3(SparkConnectAnalyzeHandler.scala:78)\n\tat org.apache.spark.sql.connect.service.SparkConnectAnalyzeHandler.$anonfun$handle$3$adapted(SparkConnectAnalyzeHandler.scala:70)\n\tat org.apache.spark.sql.connect.service.SessionHolder.$anonfun$withSession$2(SessionHolder.scala:466)\n\tat org.apache.spark.sql.SparkSession.withActive(SparkSession.scala:860)\n\tat org.apache.spark.sql.connect.service.SessionHolder.$anonfun$withSession$1(SessionHolder.scala:466)\n\tat org.apache.spark.JobArtifactSet$.withActiveJobArtifactState(JobArtifactSet.scala:97)\n\tat org.apache.spark.sql.artifact.ArtifactManager.$anonfun$withResources$1(ArtifactManager.scala:121)\n\tat org.apache.spark.sql.artifact.ArtifactManager.withClassLoaderIfNeeded(ArtifactManager.scala:115)\n\tat org.apache.spark.sql.artifact.ArtifactManager.withResources(ArtifactManager.scala:120)\n\tat org.apache.spark.sql.connect.service.SessionHolder.withSession(SessionHolder.scala:465)\n\tat org.apache.spark.sql.connect.service.SparkConnectAnalyzeHandler.$anonfun$handle$1(SparkConnectAnalyzeHandler.scala:70)\n\tat org.apache.spark.sql.connect.service.SparkConnectAnalyzeHandler.$anonfun$handle$1$adapted(SparkConnectAnalyzeHandler.scala:55)\n\tat com.databricks.spark.connect.logging.rpc.SparkConnectRpcMetricsCollectorUtils$.collectMetrics(SparkConnectRpcMetricsCollector.scala:263)\n\tat org.apache.spark.sql.connect.service.SparkConnectAnalyzeHandler.handle(SparkConnectAnalyzeHandler.scala:54)\n\tat org.apache.spark.sql.connect.service.SparkConnectService.analyzePlan(SparkConnectService.scala:114)\n\tat org.apache.spark.connect.proto.SparkConnectServiceGrpc$MethodHandlers.invoke(SparkConnectServiceGrpc.java:801)\n\tat org.sparkproject.connect.io.grpc.stub.ServerCalls$UnaryServerCallHandler$UnaryServerCallListener.onHalfClose(ServerCalls.java:182)\n\tat org.sparkproject.connect.io.grpc.PartialForwardingServerCallListener.onHalfClose(PartialForwardingServerCallListener.java:35)\n\tat org.sparkproject.connect.io.grpc.ForwardingServerCallListener.onHalfClose(ForwardingServerCallListener.java:23)\n\tat org.sparkproject.connect.io.grpc.ForwardingServerCallListener$SimpleForwardingServerCallListener.onHalfClose(ForwardingServerCallListener.java:40)\n\tat org.sparkproject.connect.io.grpc.PartialForwardingServerCallListener.onHalfClose(PartialForwardingServerCallListener.java:35)\n\tat org.sparkproject.connect.io.grpc.ForwardingServerCallListener.onHalfClose(ForwardingServerCallListener.java:23)\n\tat org.sparkproject.connect.io.grpc.ForwardingServerCallListener$SimpleForwardingServerCallListener.onHalfClose(ForwardingServerCallListener.java:40)\n\tat com.databricks.spark.connect.service.AuthenticationInterceptor$AuthenticatedServerCallListener.$anonfun$onHalfClose$1(AuthenticationInterceptor.scala:387)\n\tat scala.runtime.java8.JFunction0$mcV$sp.apply(JFunction0$mcV$sp.scala:18)\n\tat com.databricks.unity.UCSEphemeralState$Handle.runWith(UCSEphemeralState.scala:51)\n\tat com.databricks.unity.HandleImpl.runWith(UCSHandle.scala:104)\n\tat com.databricks.spark.connect.service.RequestContext.$anonfun$runWith$4(RequestContext.scala:356)\n\tat com.databricks.logging.AttributionContextTracing.$anonfun$withAttributionContext$1(AttributionContextTracing.scala:49)\n\tat com.databricks.logging.AttributionContext$.$anonfun$withValue$1(AttributionContext.scala:291)\n\tat scala.util.DynamicVariable.withValue(DynamicVariable.scala:59)\n\tat com.databricks.logging.AttributionContext$.withValue(AttributionContext.scala:287)\n\tat com.databricks.logging.AttributionContextTracing.withAttributionContext(AttributionContextTracing.scala:47)\n\tat com.databricks.logging.AttributionContextTracing.withAttributionContext$(AttributionContextTracing.scala:44)\n\tat com.databricks.spark.util.DatabricksTracingHelper.withAttributionContext(DatabricksSparkTracingHelper.scala:65)\n\tat com.databricks.spark.util.DatabricksTracingHelper.withSpanFromRequest(DatabricksSparkTracingHelper.scala:92)\n\tat com.databricks.spark.util.DBRTracing$.withSpanFromRequest(DBRTracing.scala:43)\n\tat com.databricks.spark.connect.service.RequestContext.runWithSpanFromTags(RequestContext.scala:378)\n\tat com.databricks.spark.connect.service.RequestContext.$anonfun$runWith$3(RequestContext.scala:356)\n\tat com.databricks.spark.connect.service.RequestContext$.com$databricks$spark$connect$service$RequestContext$$withLocalProperties(RequestContext.scala:574)\n\tat com.databricks.spark.connect.service.RequestContext.$anonfun$runWith$2(RequestContext.scala:355)\n\tat com.databricks.logging.AttributionContextTracing.$anonfun$withAttributionContext$1(AttributionContextTracing.scala:49)\n\tat com.databricks.logging.AttributionContext$.$anonfun$withValue$1(AttributionContext.scala:291)\n\tat scala.util.DynamicVariable.withValue(DynamicVariable.scala:59)\n\tat com.databricks.logging.AttributionContext$.withValue(AttributionContext.scala:287)\n\tat com.databricks.logging.AttributionContextTracing.withAttributionContext(AttributionContextTracing.scala:47)\n\tat com.databricks.logging.AttributionContextTracing.withAttributionContext$(AttributionContextTracing.scala:44)\n\tat com.databricks.spark.util.PublicDBLogging.withAttributionContext(DatabricksSparkUsageLogger.scala:30)\n\tat com.databricks.spark.util.UniverseAttributionContextWrapper.withValue(AttributionContextUtils.scala:242)\n\tat com.databricks.spark.connect.service.RequestContext.$anonfun$runWith$1(RequestContext.scala:354)\n\tat com.databricks.spark.connect.service.RequestContext.withContext(RequestContext.scala:386)\n\tat com.databricks.spark.connect.service.RequestContext.runWith(RequestContext.scala:347)\n\tat com.databricks.spark.connect.service.AuthenticationInterceptor$AuthenticatedServerCallListener.onHalfClose(AuthenticationInterceptor.scala:387)\n\tat org.sparkproject.connect.io.grpc.PartialForwardingServerCallListener.onHalfClose(PartialForwardingServerCallListener.java:35)\n\tat org.sparkproject.connect.io.grpc.ForwardingServerCallListener.onHalfClose(ForwardingServerCallListener.java:23)\n\tat org.sparkproject.connect.io.grpc.ForwardingServerCallListener$SimpleForwardingServerCallListener.onHalfClose(ForwardingServerCallListener.java:40)\n\tat org.sparkproject.connect.io.grpc.internal.ServerCallImpl$ServerStreamListenerImpl.halfClosed(ServerCallImpl.java:356)\n\tat org.sparkproject.connect.io.grpc.internal.ServerImpl$JumpToApplicationThreadServerStreamListener$1HalfClosed.runInContext(ServerImpl.java:861)\n\tat org.sparkproject.connect.io.grpc.internal.ContextRunnable.run(ContextRunnable.java:37)\n\tat org.sparkproject.connect.io.grpc.internal.SerializingExecutor.run(SerializingExecutor.java:133)\n\tat org.apache.spark.util.threads.SparkThreadLocalCapturingRunnable.$anonfun$run$1(SparkThreadLocalForwardingThreadPoolExecutor.scala:165)\n\tat scala.runtime.java8.JFunction0$mcV$sp.apply(JFunction0$mcV$sp.scala:18)\n\tat com.databricks.util.LexicalThreadLocal$Handle.runWith(LexicalThreadLocal.scala:63)\n\tat org.apache.spark.util.threads.SparkThreadLocalCapturingHelper.$anonfun$runWithCaptured$6(SparkThreadLocalForwardingThreadPoolExecutor.scala:119)\n\tat com.databricks.sql.transaction.tahoe.mst.MSTThreadHelper$.runWithMstTxnId(MSTThreadHelper.scala:57)\n\tat org.apache.spark.util.threads.SparkThreadLocalCapturingHelper.$anonfun$runWithCaptured$5(SparkThreadLocalForwardingThreadPoolExecutor.scala:118)\n\tat com.databricks.spark.util.IdentityClaim$.withClaim(IdentityClaim.scala:48)\n\tat org.apache.spark.util.threads.SparkThreadLocalCapturingHelper.$anonfun$runWithCaptured$4(SparkThreadLocalForwardingThreadPoolExecutor.scala:117)\n\tat com.databricks.unity.UCSEphemeralState$Handle.runWith(UCSEphemeralState.scala:51)\n\tat org.apache.spark.util.threads.SparkThreadLocalCapturingHelper.runWithCaptured(SparkThreadLocalForwardingThreadPoolExecutor.scala:116)\n\tat org.apache.spark.util.threads.SparkThreadLocalCapturingHelper.runWithCaptured$(SparkThreadLocalForwardingThreadPoolExecutor.scala:93)\n\tat org.apache.spark.util.threads.SparkThreadLocalCapturingRunnable.runWithCaptured(SparkThreadLocalForwardingThreadPoolExecutor.scala:162)\n\tat org.apache.spark.util.threads.SparkThreadLocalCapturingRunnable.run(SparkThreadLocalForwardingThreadPoolExecutor.scala:165)\n\tat java.util.concurrent.ThreadPoolExecutor.runWorker(ThreadPoolExecutor.java:1136)\n\tat java.util.concurrent.ThreadPoolExecutor$Worker.run(ThreadPoolExecutor.java:635)\n\tat java.lang.Thread.run(Thread.java:840)"
       },
       "metadata": {
        "errorSummary": "[NOT_SUPPORTED_WITH_SERVERLESS] PERSIST TABLE is not supported on serverless compute. SQLSTATE: 0A000"
       },
       "removedWidgets": [],
       "sqlProps": {
        "breakingChangeInfo": null,
        "errorClass": "NOT_SUPPORTED_WITH_SERVERLESS",
        "pysparkCallSite": "",
        "pysparkFragment": "",
        "pysparkSummary": null,
        "sqlState": "0A000",
        "stackTrace": "org.apache.spark.sql.AnalysisException\n\tat com.databricks.serverless.ServerlessGCEdgeCheck$.throwError(ServerlessGCEdgeCheck.scala:65)\n\tat com.databricks.serverless.ServerlessGCEdgeCheck$.checkBlockCacheCommand(ServerlessGCEdgeCheck.scala:43)\n\tat org.apache.spark.sql.connect.service.SparkConnectAnalyzeHandler.process(SparkConnectAnalyzeHandler.scala:277)\n\tat org.apache.spark.sql.connect.service.SparkConnectAnalyzeHandler.$anonfun$handle$3(SparkConnectAnalyzeHandler.scala:78)\n\tat org.apache.spark.sql.connect.service.SparkConnectAnalyzeHandler.$anonfun$handle$3$adapted(SparkConnectAnalyzeHandler.scala:70)\n\tat org.apache.spark.sql.connect.service.SessionHolder.$anonfun$withSession$2(SessionHolder.scala:466)\n\tat org.apache.spark.sql.SparkSession.withActive(SparkSession.scala:860)\n\tat org.apache.spark.sql.connect.service.SessionHolder.$anonfun$withSession$1(SessionHolder.scala:466)\n\tat org.apache.spark.JobArtifactSet$.withActiveJobArtifactState(JobArtifactSet.scala:97)\n\tat org.apache.spark.sql.artifact.ArtifactManager.$anonfun$withResources$1(ArtifactManager.scala:121)\n\tat org.apache.spark.sql.artifact.ArtifactManager.withClassLoaderIfNeeded(ArtifactManager.scala:115)\n\tat org.apache.spark.sql.artifact.ArtifactManager.withResources(ArtifactManager.scala:120)\n\tat org.apache.spark.sql.connect.service.SessionHolder.withSession(SessionHolder.scala:465)\n\tat org.apache.spark.sql.connect.service.SparkConnectAnalyzeHandler.$anonfun$handle$1(SparkConnectAnalyzeHandler.scala:70)\n\tat org.apache.spark.sql.connect.service.SparkConnectAnalyzeHandler.$anonfun$handle$1$adapted(SparkConnectAnalyzeHandler.scala:55)\n\tat com.databricks.spark.connect.logging.rpc.SparkConnectRpcMetricsCollectorUtils$.collectMetrics(SparkConnectRpcMetricsCollector.scala:263)\n\tat org.apache.spark.sql.connect.service.SparkConnectAnalyzeHandler.handle(SparkConnectAnalyzeHandler.scala:54)\n\tat org.apache.spark.sql.connect.service.SparkConnectService.analyzePlan(SparkConnectService.scala:114)\n\tat org.apache.spark.connect.proto.SparkConnectServiceGrpc$MethodHandlers.invoke(SparkConnectServiceGrpc.java:801)\n\tat org.sparkproject.connect.io.grpc.stub.ServerCalls$UnaryServerCallHandler$UnaryServerCallListener.onHalfClose(ServerCalls.java:182)\n\tat org.sparkproject.connect.io.grpc.PartialForwardingServerCallListener.onHalfClose(PartialForwardingServerCallListener.java:35)\n\tat org.sparkproject.connect.io.grpc.ForwardingServerCallListener.onHalfClose(ForwardingServerCallListener.java:23)\n\tat org.sparkproject.connect.io.grpc.ForwardingServerCallListener$SimpleForwardingServerCallListener.onHalfClose(ForwardingServerCallListener.java:40)\n\tat org.sparkproject.connect.io.grpc.PartialForwardingServerCallListener.onHalfClose(PartialForwardingServerCallListener.java:35)\n\tat org.sparkproject.connect.io.grpc.ForwardingServerCallListener.onHalfClose(ForwardingServerCallListener.java:23)\n\tat org.sparkproject.connect.io.grpc.ForwardingServerCallListener$SimpleForwardingServerCallListener.onHalfClose(ForwardingServerCallListener.java:40)\n\tat com.databricks.spark.connect.service.AuthenticationInterceptor$AuthenticatedServerCallListener.$anonfun$onHalfClose$1(AuthenticationInterceptor.scala:387)\n\tat scala.runtime.java8.JFunction0$mcV$sp.apply(JFunction0$mcV$sp.scala:18)\n\tat com.databricks.unity.UCSEphemeralState$Handle.runWith(UCSEphemeralState.scala:51)\n\tat com.databricks.unity.HandleImpl.runWith(UCSHandle.scala:104)\n\tat com.databricks.spark.connect.service.RequestContext.$anonfun$runWith$4(RequestContext.scala:356)\n\tat com.databricks.logging.AttributionContextTracing.$anonfun$withAttributionContext$1(AttributionContextTracing.scala:49)\n\tat com.databricks.logging.AttributionContext$.$anonfun$withValue$1(AttributionContext.scala:291)\n\tat scala.util.DynamicVariable.withValue(DynamicVariable.scala:59)\n\tat com.databricks.logging.AttributionContext$.withValue(AttributionContext.scala:287)\n\tat com.databricks.logging.AttributionContextTracing.withAttributionContext(AttributionContextTracing.scala:47)\n\tat com.databricks.logging.AttributionContextTracing.withAttributionContext$(AttributionContextTracing.scala:44)\n\tat com.databricks.spark.util.DatabricksTracingHelper.withAttributionContext(DatabricksSparkTracingHelper.scala:65)\n\tat com.databricks.spark.util.DatabricksTracingHelper.withSpanFromRequest(DatabricksSparkTracingHelper.scala:92)\n\tat com.databricks.spark.util.DBRTracing$.withSpanFromRequest(DBRTracing.scala:43)\n\tat com.databricks.spark.connect.service.RequestContext.runWithSpanFromTags(RequestContext.scala:378)\n\tat com.databricks.spark.connect.service.RequestContext.$anonfun$runWith$3(RequestContext.scala:356)\n\tat com.databricks.spark.connect.service.RequestContext$.com$databricks$spark$connect$service$RequestContext$$withLocalProperties(RequestContext.scala:574)\n\tat com.databricks.spark.connect.service.RequestContext.$anonfun$runWith$2(RequestContext.scala:355)\n\tat com.databricks.logging.AttributionContextTracing.$anonfun$withAttributionContext$1(AttributionContextTracing.scala:49)\n\tat com.databricks.logging.AttributionContext$.$anonfun$withValue$1(AttributionContext.scala:291)\n\tat scala.util.DynamicVariable.withValue(DynamicVariable.scala:59)\n\tat com.databricks.logging.AttributionContext$.withValue(AttributionContext.scala:287)\n\tat com.databricks.logging.AttributionContextTracing.withAttributionContext(AttributionContextTracing.scala:47)\n\tat com.databricks.logging.AttributionContextTracing.withAttributionContext$(AttributionContextTracing.scala:44)\n\tat com.databricks.spark.util.PublicDBLogging.withAttributionContext(DatabricksSparkUsageLogger.scala:30)\n\tat com.databricks.spark.util.UniverseAttributionContextWrapper.withValue(AttributionContextUtils.scala:242)\n\tat com.databricks.spark.connect.service.RequestContext.$anonfun$runWith$1(RequestContext.scala:354)\n\tat com.databricks.spark.connect.service.RequestContext.withContext(RequestContext.scala:386)\n\tat com.databricks.spark.connect.service.RequestContext.runWith(RequestContext.scala:347)\n\tat com.databricks.spark.connect.service.AuthenticationInterceptor$AuthenticatedServerCallListener.onHalfClose(AuthenticationInterceptor.scala:387)\n\tat org.sparkproject.connect.io.grpc.PartialForwardingServerCallListener.onHalfClose(PartialForwardingServerCallListener.java:35)\n\tat org.sparkproject.connect.io.grpc.ForwardingServerCallListener.onHalfClose(ForwardingServerCallListener.java:23)\n\tat org.sparkproject.connect.io.grpc.ForwardingServerCallListener$SimpleForwardingServerCallListener.onHalfClose(ForwardingServerCallListener.java:40)\n\tat org.sparkproject.connect.io.grpc.internal.ServerCallImpl$ServerStreamListenerImpl.halfClosed(ServerCallImpl.java:356)\n\tat org.sparkproject.connect.io.grpc.internal.ServerImpl$JumpToApplicationThreadServerStreamListener$1HalfClosed.runInContext(ServerImpl.java:861)\n\tat org.sparkproject.connect.io.grpc.internal.ContextRunnable.run(ContextRunnable.java:37)\n\tat org.sparkproject.connect.io.grpc.internal.SerializingExecutor.run(SerializingExecutor.java:133)\n\tat org.apache.spark.util.threads.SparkThreadLocalCapturingRunnable.$anonfun$run$1(SparkThreadLocalForwardingThreadPoolExecutor.scala:165)\n\tat scala.runtime.java8.JFunction0$mcV$sp.apply(JFunction0$mcV$sp.scala:18)\n\tat com.databricks.util.LexicalThreadLocal$Handle.runWith(LexicalThreadLocal.scala:63)\n\tat org.apache.spark.util.threads.SparkThreadLocalCapturingHelper.$anonfun$runWithCaptured$6(SparkThreadLocalForwardingThreadPoolExecutor.scala:119)\n\tat com.databricks.sql.transaction.tahoe.mst.MSTThreadHelper$.runWithMstTxnId(MSTThreadHelper.scala:57)\n\tat org.apache.spark.util.threads.SparkThreadLocalCapturingHelper.$anonfun$runWithCaptured$5(SparkThreadLocalForwardingThreadPoolExecutor.scala:118)\n\tat com.databricks.spark.util.IdentityClaim$.withClaim(IdentityClaim.scala:48)\n\tat org.apache.spark.util.threads.SparkThreadLocalCapturingHelper.$anonfun$runWithCaptured$4(SparkThreadLocalForwardingThreadPoolExecutor.scala:117)\n\tat com.databricks.unity.UCSEphemeralState$Handle.runWith(UCSEphemeralState.scala:51)\n\tat org.apache.spark.util.threads.SparkThreadLocalCapturingHelper.runWithCaptured(SparkThreadLocalForwardingThreadPoolExecutor.scala:116)\n\tat org.apache.spark.util.threads.SparkThreadLocalCapturingHelper.runWithCaptured$(SparkThreadLocalForwardingThreadPoolExecutor.scala:93)\n\tat org.apache.spark.util.threads.SparkThreadLocalCapturingRunnable.runWithCaptured(SparkThreadLocalForwardingThreadPoolExecutor.scala:162)\n\tat org.apache.spark.util.threads.SparkThreadLocalCapturingRunnable.run(SparkThreadLocalForwardingThreadPoolExecutor.scala:165)\n\tat java.util.concurrent.ThreadPoolExecutor.runWorker(ThreadPoolExecutor.java:1136)\n\tat java.util.concurrent.ThreadPoolExecutor$Worker.run(ThreadPoolExecutor.java:635)\n\tat java.lang.Thread.run(Thread.java:840)",
        "startIndex": null,
        "stopIndex": null
       },
       "stackFrames": [
        "\u001B[0;31m---------------------------------------------------------------------------\u001B[0m",
        "\u001B[0;31mAnalysisException\u001B[0m                         Traceback (most recent call last)",
        "File \u001B[0;32m<command-7731533994687345>, line 5\u001B[0m\n\u001B[1;32m      1\u001B[0m \u001B[38;5;66;03m# Performance optimization examples\u001B[39;00m\n\u001B[1;32m      2\u001B[0m \n\u001B[1;32m      3\u001B[0m \u001B[38;5;66;03m# 1. Caching/Persistence\u001B[39;00m\n\u001B[1;32m      4\u001B[0m \u001B[38;5;66;03m# Cache a DataFrame that will be used multiple times\u001B[39;00m\n\u001B[0;32m----> 5\u001B[0m sales_with_category\u001B[38;5;241m.\u001B[39mcache()  \u001B[38;5;66;03m# Store in memory\u001B[39;00m\n\u001B[1;32m      6\u001B[0m \u001B[38;5;66;03m# or use persist() for more control\u001B[39;00m\n\u001B[1;32m      7\u001B[0m \u001B[38;5;66;03m# sales_with_category.persist(StorageLevel.MEMORY_AND_DISK)\u001B[39;00m\n\u001B[1;32m      8\u001B[0m \n\u001B[1;32m      9\u001B[0m \u001B[38;5;66;03m# Check if the DataFrame is cached\u001B[39;00m\n\u001B[1;32m     10\u001B[0m \u001B[38;5;28mprint\u001B[39m(\u001B[38;5;124m\"\u001B[39m\u001B[38;5;124mIs cached:\u001B[39m\u001B[38;5;124m\"\u001B[39m, spark\u001B[38;5;241m.\u001B[39mcatalog\u001B[38;5;241m.\u001B[39misCached(\u001B[38;5;124m\"\u001B[39m\u001B[38;5;124msales\u001B[39m\u001B[38;5;124m\"\u001B[39m))\n",
        "File \u001B[0;32m/databricks/python/lib/python3.11/site-packages/pyspark/sql/connect/dataframe.py:2163\u001B[0m, in \u001B[0;36mDataFrame.cache\u001B[0;34m(self)\u001B[0m\n\u001B[1;32m   2162\u001B[0m \u001B[38;5;28;01mdef\u001B[39;00m \u001B[38;5;21mcache\u001B[39m(\u001B[38;5;28mself\u001B[39m) \u001B[38;5;241m-\u001B[39m\u001B[38;5;241m>\u001B[39m \u001B[38;5;124m\"\u001B[39m\u001B[38;5;124mDataFrame\u001B[39m\u001B[38;5;124m\"\u001B[39m:\n\u001B[0;32m-> 2163\u001B[0m     \u001B[38;5;28;01mreturn\u001B[39;00m \u001B[38;5;28mself\u001B[39m\u001B[38;5;241m.\u001B[39mpersist()\n",
        "File \u001B[0;32m/databricks/python/lib/python3.11/site-packages/pyspark/sql/connect/dataframe.py:2172\u001B[0m, in \u001B[0;36mDataFrame.persist\u001B[0;34m(self, storageLevel)\u001B[0m\n\u001B[1;32m   2167\u001B[0m \u001B[38;5;28;01mdef\u001B[39;00m \u001B[38;5;21mpersist\u001B[39m(\n\u001B[1;32m   2168\u001B[0m     \u001B[38;5;28mself\u001B[39m,\n\u001B[1;32m   2169\u001B[0m     storageLevel: StorageLevel \u001B[38;5;241m=\u001B[39m (StorageLevel\u001B[38;5;241m.\u001B[39mMEMORY_AND_DISK_DESER),\n\u001B[1;32m   2170\u001B[0m ) \u001B[38;5;241m-\u001B[39m\u001B[38;5;241m>\u001B[39m \u001B[38;5;124m\"\u001B[39m\u001B[38;5;124mDataFrame\u001B[39m\u001B[38;5;124m\"\u001B[39m:\n\u001B[1;32m   2171\u001B[0m     relation \u001B[38;5;241m=\u001B[39m \u001B[38;5;28mself\u001B[39m\u001B[38;5;241m.\u001B[39m_plan\u001B[38;5;241m.\u001B[39mplan(\u001B[38;5;28mself\u001B[39m\u001B[38;5;241m.\u001B[39m_session\u001B[38;5;241m.\u001B[39mclient)\n\u001B[0;32m-> 2172\u001B[0m     \u001B[38;5;28mself\u001B[39m\u001B[38;5;241m.\u001B[39m_session\u001B[38;5;241m.\u001B[39mclient\u001B[38;5;241m.\u001B[39m_analyze(\n\u001B[1;32m   2173\u001B[0m         method\u001B[38;5;241m=\u001B[39m\u001B[38;5;124m\"\u001B[39m\u001B[38;5;124mpersist\u001B[39m\u001B[38;5;124m\"\u001B[39m, relation\u001B[38;5;241m=\u001B[39mrelation, storage_level\u001B[38;5;241m=\u001B[39mstorageLevel\n\u001B[1;32m   2174\u001B[0m     )\n\u001B[1;32m   2175\u001B[0m     \u001B[38;5;28;01mreturn\u001B[39;00m \u001B[38;5;28mself\u001B[39m\n",
        "File \u001B[0;32m/databricks/python/lib/python3.11/site-packages/pyspark/sql/connect/client/core.py:1546\u001B[0m, in \u001B[0;36mSparkConnectClient._analyze\u001B[0;34m(self, method, **kwargs)\u001B[0m\n\u001B[1;32m   1544\u001B[0m     \u001B[38;5;28;01mraise\u001B[39;00m SparkConnectException(\u001B[38;5;124m\"\u001B[39m\u001B[38;5;124mInvalid state during retry exception handling.\u001B[39m\u001B[38;5;124m\"\u001B[39m)\n\u001B[1;32m   1545\u001B[0m \u001B[38;5;28;01mexcept\u001B[39;00m \u001B[38;5;167;01mException\u001B[39;00m \u001B[38;5;28;01mas\u001B[39;00m error:\n\u001B[0;32m-> 1546\u001B[0m     \u001B[38;5;28mself\u001B[39m\u001B[38;5;241m.\u001B[39m_handle_error(error)\n",
        "File \u001B[0;32m/databricks/python/lib/python3.11/site-packages/pyspark/sql/connect/client/core.py:2053\u001B[0m, in \u001B[0;36mSparkConnectClient._handle_error\u001B[0;34m(self, error)\u001B[0m\n\u001B[1;32m   2051\u001B[0m \u001B[38;5;28mself\u001B[39m\u001B[38;5;241m.\u001B[39mthread_local\u001B[38;5;241m.\u001B[39minside_error_handling \u001B[38;5;241m=\u001B[39m \u001B[38;5;28;01mTrue\u001B[39;00m\n\u001B[1;32m   2052\u001B[0m \u001B[38;5;28;01mif\u001B[39;00m \u001B[38;5;28misinstance\u001B[39m(error, grpc\u001B[38;5;241m.\u001B[39mRpcError):\n\u001B[0;32m-> 2053\u001B[0m     \u001B[38;5;28mself\u001B[39m\u001B[38;5;241m.\u001B[39m_handle_rpc_error(error)\n\u001B[1;32m   2054\u001B[0m \u001B[38;5;28;01melif\u001B[39;00m \u001B[38;5;28misinstance\u001B[39m(error, \u001B[38;5;167;01mValueError\u001B[39;00m):\n\u001B[1;32m   2055\u001B[0m     \u001B[38;5;28;01mif\u001B[39;00m \u001B[38;5;124m\"\u001B[39m\u001B[38;5;124mCannot invoke RPC\u001B[39m\u001B[38;5;124m\"\u001B[39m \u001B[38;5;129;01min\u001B[39;00m \u001B[38;5;28mstr\u001B[39m(error) \u001B[38;5;129;01mand\u001B[39;00m \u001B[38;5;124m\"\u001B[39m\u001B[38;5;124mclosed\u001B[39m\u001B[38;5;124m\"\u001B[39m \u001B[38;5;129;01min\u001B[39;00m \u001B[38;5;28mstr\u001B[39m(error):\n",
        "File \u001B[0;32m/databricks/python/lib/python3.11/site-packages/pyspark/sql/connect/client/core.py:2132\u001B[0m, in \u001B[0;36mSparkConnectClient._handle_rpc_error\u001B[0;34m(self, rpc_error)\u001B[0m\n\u001B[1;32m   2128\u001B[0m             d\u001B[38;5;241m.\u001B[39mUnpack(info)\n\u001B[1;32m   2130\u001B[0m             \u001B[38;5;28mself\u001B[39m\u001B[38;5;241m.\u001B[39m_handle_rpc_error_with_error_info(status, info)  \u001B[38;5;66;03m# EDGE\u001B[39;00m\n\u001B[0;32m-> 2132\u001B[0m             \u001B[38;5;28;01mraise\u001B[39;00m convert_exception(\n\u001B[1;32m   2133\u001B[0m                 info,\n\u001B[1;32m   2134\u001B[0m                 status\u001B[38;5;241m.\u001B[39mmessage,\n\u001B[1;32m   2135\u001B[0m                 \u001B[38;5;28mself\u001B[39m\u001B[38;5;241m.\u001B[39m_fetch_enriched_error(info),\n\u001B[1;32m   2136\u001B[0m                 \u001B[38;5;28mself\u001B[39m\u001B[38;5;241m.\u001B[39m_display_server_stack_trace(),\n\u001B[1;32m   2137\u001B[0m             ) \u001B[38;5;28;01mfrom\u001B[39;00m \u001B[38;5;28;01mNone\u001B[39;00m\n\u001B[1;32m   2139\u001B[0m     \u001B[38;5;28;01mraise\u001B[39;00m SparkConnectGrpcException(\n\u001B[1;32m   2140\u001B[0m         message\u001B[38;5;241m=\u001B[39mstatus\u001B[38;5;241m.\u001B[39mmessage,\n\u001B[1;32m   2141\u001B[0m         sql_state\u001B[38;5;241m=\u001B[39mSparkConnectGrpcException\u001B[38;5;241m.\u001B[39mCLIENT_UNEXPECTED_MISSING_SQL_STATE,  \u001B[38;5;66;03m# EDGE\u001B[39;00m\n\u001B[1;32m   2142\u001B[0m     ) \u001B[38;5;28;01mfrom\u001B[39;00m \u001B[38;5;28;01mNone\u001B[39;00m\n\u001B[1;32m   2143\u001B[0m \u001B[38;5;28;01melse\u001B[39;00m:\n",
        "\u001B[0;31mAnalysisException\u001B[0m: [NOT_SUPPORTED_WITH_SERVERLESS] PERSIST TABLE is not supported on serverless compute. SQLSTATE: 0A000\n\nJVM stacktrace:\norg.apache.spark.sql.AnalysisException\n\tat com.databricks.serverless.ServerlessGCEdgeCheck$.throwError(ServerlessGCEdgeCheck.scala:65)\n\tat com.databricks.serverless.ServerlessGCEdgeCheck$.checkBlockCacheCommand(ServerlessGCEdgeCheck.scala:43)\n\tat org.apache.spark.sql.connect.service.SparkConnectAnalyzeHandler.process(SparkConnectAnalyzeHandler.scala:277)\n\tat org.apache.spark.sql.connect.service.SparkConnectAnalyzeHandler.$anonfun$handle$3(SparkConnectAnalyzeHandler.scala:78)\n\tat org.apache.spark.sql.connect.service.SparkConnectAnalyzeHandler.$anonfun$handle$3$adapted(SparkConnectAnalyzeHandler.scala:70)\n\tat org.apache.spark.sql.connect.service.SessionHolder.$anonfun$withSession$2(SessionHolder.scala:466)\n\tat org.apache.spark.sql.SparkSession.withActive(SparkSession.scala:860)\n\tat org.apache.spark.sql.connect.service.SessionHolder.$anonfun$withSession$1(SessionHolder.scala:466)\n\tat org.apache.spark.JobArtifactSet$.withActiveJobArtifactState(JobArtifactSet.scala:97)\n\tat org.apache.spark.sql.artifact.ArtifactManager.$anonfun$withResources$1(ArtifactManager.scala:121)\n\tat org.apache.spark.sql.artifact.ArtifactManager.withClassLoaderIfNeeded(ArtifactManager.scala:115)\n\tat org.apache.spark.sql.artifact.ArtifactManager.withResources(ArtifactManager.scala:120)\n\tat org.apache.spark.sql.connect.service.SessionHolder.withSession(SessionHolder.scala:465)\n\tat org.apache.spark.sql.connect.service.SparkConnectAnalyzeHandler.$anonfun$handle$1(SparkConnectAnalyzeHandler.scala:70)\n\tat org.apache.spark.sql.connect.service.SparkConnectAnalyzeHandler.$anonfun$handle$1$adapted(SparkConnectAnalyzeHandler.scala:55)\n\tat com.databricks.spark.connect.logging.rpc.SparkConnectRpcMetricsCollectorUtils$.collectMetrics(SparkConnectRpcMetricsCollector.scala:263)\n\tat org.apache.spark.sql.connect.service.SparkConnectAnalyzeHandler.handle(SparkConnectAnalyzeHandler.scala:54)\n\tat org.apache.spark.sql.connect.service.SparkConnectService.analyzePlan(SparkConnectService.scala:114)\n\tat org.apache.spark.connect.proto.SparkConnectServiceGrpc$MethodHandlers.invoke(SparkConnectServiceGrpc.java:801)\n\tat org.sparkproject.connect.io.grpc.stub.ServerCalls$UnaryServerCallHandler$UnaryServerCallListener.onHalfClose(ServerCalls.java:182)\n\tat org.sparkproject.connect.io.grpc.PartialForwardingServerCallListener.onHalfClose(PartialForwardingServerCallListener.java:35)\n\tat org.sparkproject.connect.io.grpc.ForwardingServerCallListener.onHalfClose(ForwardingServerCallListener.java:23)\n\tat org.sparkproject.connect.io.grpc.ForwardingServerCallListener$SimpleForwardingServerCallListener.onHalfClose(ForwardingServerCallListener.java:40)\n\tat org.sparkproject.connect.io.grpc.PartialForwardingServerCallListener.onHalfClose(PartialForwardingServerCallListener.java:35)\n\tat org.sparkproject.connect.io.grpc.ForwardingServerCallListener.onHalfClose(ForwardingServerCallListener.java:23)\n\tat org.sparkproject.connect.io.grpc.ForwardingServerCallListener$SimpleForwardingServerCallListener.onHalfClose(ForwardingServerCallListener.java:40)\n\tat com.databricks.spark.connect.service.AuthenticationInterceptor$AuthenticatedServerCallListener.$anonfun$onHalfClose$1(AuthenticationInterceptor.scala:387)\n\tat scala.runtime.java8.JFunction0$mcV$sp.apply(JFunction0$mcV$sp.scala:18)\n\tat com.databricks.unity.UCSEphemeralState$Handle.runWith(UCSEphemeralState.scala:51)\n\tat com.databricks.unity.HandleImpl.runWith(UCSHandle.scala:104)\n\tat com.databricks.spark.connect.service.RequestContext.$anonfun$runWith$4(RequestContext.scala:356)\n\tat com.databricks.logging.AttributionContextTracing.$anonfun$withAttributionContext$1(AttributionContextTracing.scala:49)\n\tat com.databricks.logging.AttributionContext$.$anonfun$withValue$1(AttributionContext.scala:291)\n\tat scala.util.DynamicVariable.withValue(DynamicVariable.scala:59)\n\tat com.databricks.logging.AttributionContext$.withValue(AttributionContext.scala:287)\n\tat com.databricks.logging.AttributionContextTracing.withAttributionContext(AttributionContextTracing.scala:47)\n\tat com.databricks.logging.AttributionContextTracing.withAttributionContext$(AttributionContextTracing.scala:44)\n\tat com.databricks.spark.util.DatabricksTracingHelper.withAttributionContext(DatabricksSparkTracingHelper.scala:65)\n\tat com.databricks.spark.util.DatabricksTracingHelper.withSpanFromRequest(DatabricksSparkTracingHelper.scala:92)\n\tat com.databricks.spark.util.DBRTracing$.withSpanFromRequest(DBRTracing.scala:43)\n\tat com.databricks.spark.connect.service.RequestContext.runWithSpanFromTags(RequestContext.scala:378)\n\tat com.databricks.spark.connect.service.RequestContext.$anonfun$runWith$3(RequestContext.scala:356)\n\tat com.databricks.spark.connect.service.RequestContext$.com$databricks$spark$connect$service$RequestContext$$withLocalProperties(RequestContext.scala:574)\n\tat com.databricks.spark.connect.service.RequestContext.$anonfun$runWith$2(RequestContext.scala:355)\n\tat com.databricks.logging.AttributionContextTracing.$anonfun$withAttributionContext$1(AttributionContextTracing.scala:49)\n\tat com.databricks.logging.AttributionContext$.$anonfun$withValue$1(AttributionContext.scala:291)\n\tat scala.util.DynamicVariable.withValue(DynamicVariable.scala:59)\n\tat com.databricks.logging.AttributionContext$.withValue(AttributionContext.scala:287)\n\tat com.databricks.logging.AttributionContextTracing.withAttributionContext(AttributionContextTracing.scala:47)\n\tat com.databricks.logging.AttributionContextTracing.withAttributionContext$(AttributionContextTracing.scala:44)\n\tat com.databricks.spark.util.PublicDBLogging.withAttributionContext(DatabricksSparkUsageLogger.scala:30)\n\tat com.databricks.spark.util.UniverseAttributionContextWrapper.withValue(AttributionContextUtils.scala:242)\n\tat com.databricks.spark.connect.service.RequestContext.$anonfun$runWith$1(RequestContext.scala:354)\n\tat com.databricks.spark.connect.service.RequestContext.withContext(RequestContext.scala:386)\n\tat com.databricks.spark.connect.service.RequestContext.runWith(RequestContext.scala:347)\n\tat com.databricks.spark.connect.service.AuthenticationInterceptor$AuthenticatedServerCallListener.onHalfClose(AuthenticationInterceptor.scala:387)\n\tat org.sparkproject.connect.io.grpc.PartialForwardingServerCallListener.onHalfClose(PartialForwardingServerCallListener.java:35)\n\tat org.sparkproject.connect.io.grpc.ForwardingServerCallListener.onHalfClose(ForwardingServerCallListener.java:23)\n\tat org.sparkproject.connect.io.grpc.ForwardingServerCallListener$SimpleForwardingServerCallListener.onHalfClose(ForwardingServerCallListener.java:40)\n\tat org.sparkproject.connect.io.grpc.internal.ServerCallImpl$ServerStreamListenerImpl.halfClosed(ServerCallImpl.java:356)\n\tat org.sparkproject.connect.io.grpc.internal.ServerImpl$JumpToApplicationThreadServerStreamListener$1HalfClosed.runInContext(ServerImpl.java:861)\n\tat org.sparkproject.connect.io.grpc.internal.ContextRunnable.run(ContextRunnable.java:37)\n\tat org.sparkproject.connect.io.grpc.internal.SerializingExecutor.run(SerializingExecutor.java:133)\n\tat org.apache.spark.util.threads.SparkThreadLocalCapturingRunnable.$anonfun$run$1(SparkThreadLocalForwardingThreadPoolExecutor.scala:165)\n\tat scala.runtime.java8.JFunction0$mcV$sp.apply(JFunction0$mcV$sp.scala:18)\n\tat com.databricks.util.LexicalThreadLocal$Handle.runWith(LexicalThreadLocal.scala:63)\n\tat org.apache.spark.util.threads.SparkThreadLocalCapturingHelper.$anonfun$runWithCaptured$6(SparkThreadLocalForwardingThreadPoolExecutor.scala:119)\n\tat com.databricks.sql.transaction.tahoe.mst.MSTThreadHelper$.runWithMstTxnId(MSTThreadHelper.scala:57)\n\tat org.apache.spark.util.threads.SparkThreadLocalCapturingHelper.$anonfun$runWithCaptured$5(SparkThreadLocalForwardingThreadPoolExecutor.scala:118)\n\tat com.databricks.spark.util.IdentityClaim$.withClaim(IdentityClaim.scala:48)\n\tat org.apache.spark.util.threads.SparkThreadLocalCapturingHelper.$anonfun$runWithCaptured$4(SparkThreadLocalForwardingThreadPoolExecutor.scala:117)\n\tat com.databricks.unity.UCSEphemeralState$Handle.runWith(UCSEphemeralState.scala:51)\n\tat org.apache.spark.util.threads.SparkThreadLocalCapturingHelper.runWithCaptured(SparkThreadLocalForwardingThreadPoolExecutor.scala:116)\n\tat org.apache.spark.util.threads.SparkThreadLocalCapturingHelper.runWithCaptured$(SparkThreadLocalForwardingThreadPoolExecutor.scala:93)\n\tat org.apache.spark.util.threads.SparkThreadLocalCapturingRunnable.runWithCaptured(SparkThreadLocalForwardingThreadPoolExecutor.scala:162)\n\tat org.apache.spark.util.threads.SparkThreadLocalCapturingRunnable.run(SparkThreadLocalForwardingThreadPoolExecutor.scala:165)\n\tat java.util.concurrent.ThreadPoolExecutor.runWorker(ThreadPoolExecutor.java:1136)\n\tat java.util.concurrent.ThreadPoolExecutor$Worker.run(ThreadPoolExecutor.java:635)\n\tat java.lang.Thread.run(Thread.java:840)"
       ],
       "type": "baseError"
      }
     },
     "output_type": "display_data"
    }
   ],
   "source": [
    "# Performance optimization examples\n",
    "\n",
    "# 1. Caching/Persistence\n",
    "# Cache a DataFrame that will be used multiple times\n",
    "sales_with_category.cache()  # Store in memory\n",
    "# or use persist() for more control\n",
    "# sales_with_category.persist(StorageLevel.MEMORY_AND_DISK)\n",
    "\n",
    "# Check if the DataFrame is cached\n",
    "print(\"Is cached:\", spark.catalog.isCached(\"sales\"))\n"
   ]
  },
  {
   "cell_type": "code",
   "execution_count": 0,
   "metadata": {
    "application/vnd.databricks.v1+cell": {
     "cellMetadata": {
      "byteLimit": 2048000,
      "rowLimit": 10000
     },
     "inputWidgets": {},
     "nuid": "4c751eed-227f-42db-af91-2b9cb7c3d924",
     "showTitle": false,
     "tableResultSettingsMap": {},
     "title": ""
    }
   },
   "outputs": [],
   "source": [
    "\n",
    "\n",
    "# 2. Broadcast joins for small tables\n",
    "from pyspark.sql.functions import broadcast\n",
    "\n",
    "# Broadcasting the smaller DataFrame (item_categories_df) improves join performance\n",
    "broadcast_join = sales_with_category.join(\n",
    "    broadcast(item_categories_df),\n",
    "    sales_with_category.Category_Code == item_categories_df.Category_Code,\n",
    "    \"left\"\n",
    ")"
   ]
  },
  {
   "cell_type": "code",
   "execution_count": 0,
   "metadata": {
    "application/vnd.databricks.v1+cell": {
     "cellMetadata": {
      "byteLimit": 2048000,
      "rowLimit": 10000
     },
     "inputWidgets": {},
     "nuid": "926acae0-b095-4aa3-a980-af61173e050c",
     "showTitle": false,
     "tableResultSettingsMap": {},
     "title": ""
    }
   },
   "outputs": [
    {
     "output_type": "stream",
     "name": "stdout",
     "output_type": "stream",
     "text": [
      "Number of partitions (via mapInPandas): 1\n"
     ]
    }
   ],
   "source": [
    "# 3. Repartitioning to control parallelism\n",
    "# Reduce the number of partitions (use when you have too many small partitions)\n",
    "repartitioned_df = sales_with_category.coalesce(4)\n",
    "\n",
    "# Increase the number of partitions (use when you have too few large partitions)\n",
    "# repartitioned_df = sales_with_category.repartition(8)\n",
    "\n",
    "# In Databricks serverless, RDD APIs are not supported, so you cannot use .rdd.getNumPartitions().\n",
    "# To inspect partitioning, use DataFrame transformations or mapInPandas/mapInArrow if needed.\n",
    "\n",
    "# Use mapInPandas to count the number of partitions\n",
    "import pandas as pd\n",
    "from pyspark.sql.types import IntegerType, StructType, StructField\n",
    "\n",
    "def partition_counter(iterator):\n",
    "    for i, pdf in enumerate(iterator):\n",
    "        yield pd.DataFrame({'partition_id': [i]})\n",
    "\n",
    "partition_schema = StructType([StructField('partition_id', IntegerType(), False)])\n",
    "partition_ids = repartitioned_df.mapInPandas(partition_counter, schema=partition_schema)\n",
    "num_partitions = partition_ids.select('partition_id').distinct().count()\n",
    "print(f\"Number of partitions (via mapInPandas): {num_partitions}\")"
   ]
  },
  {
   "cell_type": "code",
   "execution_count": 0,
   "metadata": {
    "application/vnd.databricks.v1+cell": {
     "cellMetadata": {
      "byteLimit": 2048000,
      "rowLimit": 10000
     },
     "inputWidgets": {},
     "nuid": "50b66174-ba5a-44e1-8f9b-05e16a0bbb7b",
     "showTitle": false,
     "tableResultSettingsMap": {},
     "title": ""
    }
   },
   "outputs": [],
   "source": [
    "# 4. Partition by specific columns (use when filtering/joining on these columns)\n",
    "repartitioned_by_col = sales_with_category.repartition(\"Outlet_Type\")\n",
    "\n"
   ]
  },
  {
   "cell_type": "code",
   "execution_count": 0,
   "metadata": {
    "application/vnd.databricks.v1+cell": {
     "cellMetadata": {
      "byteLimit": 2048000,
      "rowLimit": 10000
     },
     "inputWidgets": {},
     "nuid": "27af57b1-e11e-4cd9-9bc0-be32467ea80f",
     "showTitle": false,
     "tableResultSettingsMap": {},
     "title": ""
    }
   },
   "outputs": [
    {
     "output_type": "display_data",
     "data": {
      "text/plain": [
       "\u001B[0;31m---------------------------------------------------------------------------\u001B[0m\n",
       "\u001B[0;31mNameError\u001B[0m                                 Traceback (most recent call last)\n",
       "File \u001B[0;32m<command-7731533994687355>, line 4\u001B[0m\n",
       "\u001B[1;32m      1\u001B[0m \u001B[38;5;66;03m# 5. Advanced: Partitioning and Z-Ordering (Delta Lake optimization)\u001B[39;00m\n",
       "\u001B[1;32m      2\u001B[0m \u001B[38;5;66;03m# Bucketing is NOT supported for Delta tables. Use partitionBy or Z-Ordering instead.\u001B[39;00m\n",
       "\u001B[1;32m      3\u001B[0m \u001B[38;5;66;03m# Create a partitioned Delta table for repeated joins or queries on the same column\u001B[39;00m\n",
       "\u001B[0;32m----> 4\u001B[0m sales_with_category\u001B[38;5;241m.\u001B[39mwrite\u001B[38;5;241m.\u001B[39mpartitionBy(\n",
       "\u001B[1;32m      5\u001B[0m     \u001B[38;5;124m\"\u001B[39m\u001B[38;5;124mOutlet_Type\u001B[39m\u001B[38;5;124m\"\u001B[39m  \u001B[38;5;66;03m# Partition by Outlet_Type\u001B[39;00m\n",
       "\u001B[1;32m      6\u001B[0m )\u001B[38;5;241m.\u001B[39mformat(\u001B[38;5;124m\"\u001B[39m\u001B[38;5;124mdelta\u001B[39m\u001B[38;5;124m\"\u001B[39m)\u001B[38;5;241m.\u001B[39mmode(\u001B[38;5;124m\"\u001B[39m\u001B[38;5;124moverwrite\u001B[39m\u001B[38;5;124m\"\u001B[39m)\u001B[38;5;241m.\u001B[39msaveAsTable(\n",
       "\u001B[1;32m      7\u001B[0m     \u001B[38;5;124m\"\u001B[39m\u001B[38;5;124mpartitioned_sales\u001B[39m\u001B[38;5;124m\"\u001B[39m\n",
       "\u001B[1;32m      8\u001B[0m )\n",
       "\n",
       "\u001B[0;31mNameError\u001B[0m: name 'sales_with_category' is not defined"
      ]
     },
     "metadata": {
      "application/vnd.databricks.v1+output": {
       "addedWidgets": {},
       "arguments": {},
       "datasetInfos": [],
       "jupyterProps": {
        "ename": "NameError",
        "evalue": "name 'sales_with_category' is not defined"
       },
       "metadata": {
        "errorSummary": "<span class='ansi-red-fg'>NameError</span>: name 'sales_with_category' is not defined"
       },
       "removedWidgets": [],
       "sqlProps": null,
       "stackFrames": [
        "\u001B[0;31m---------------------------------------------------------------------------\u001B[0m",
        "\u001B[0;31mNameError\u001B[0m                                 Traceback (most recent call last)",
        "File \u001B[0;32m<command-7731533994687355>, line 4\u001B[0m\n\u001B[1;32m      1\u001B[0m \u001B[38;5;66;03m# 5. Advanced: Partitioning and Z-Ordering (Delta Lake optimization)\u001B[39;00m\n\u001B[1;32m      2\u001B[0m \u001B[38;5;66;03m# Bucketing is NOT supported for Delta tables. Use partitionBy or Z-Ordering instead.\u001B[39;00m\n\u001B[1;32m      3\u001B[0m \u001B[38;5;66;03m# Create a partitioned Delta table for repeated joins or queries on the same column\u001B[39;00m\n\u001B[0;32m----> 4\u001B[0m sales_with_category\u001B[38;5;241m.\u001B[39mwrite\u001B[38;5;241m.\u001B[39mpartitionBy(\n\u001B[1;32m      5\u001B[0m     \u001B[38;5;124m\"\u001B[39m\u001B[38;5;124mOutlet_Type\u001B[39m\u001B[38;5;124m\"\u001B[39m  \u001B[38;5;66;03m# Partition by Outlet_Type\u001B[39;00m\n\u001B[1;32m      6\u001B[0m )\u001B[38;5;241m.\u001B[39mformat(\u001B[38;5;124m\"\u001B[39m\u001B[38;5;124mdelta\u001B[39m\u001B[38;5;124m\"\u001B[39m)\u001B[38;5;241m.\u001B[39mmode(\u001B[38;5;124m\"\u001B[39m\u001B[38;5;124moverwrite\u001B[39m\u001B[38;5;124m\"\u001B[39m)\u001B[38;5;241m.\u001B[39msaveAsTable(\n\u001B[1;32m      7\u001B[0m     \u001B[38;5;124m\"\u001B[39m\u001B[38;5;124mpartitioned_sales\u001B[39m\u001B[38;5;124m\"\u001B[39m\n\u001B[1;32m      8\u001B[0m )\n",
        "\u001B[0;31mNameError\u001B[0m: name 'sales_with_category' is not defined"
       ],
       "type": "baseError"
      }
     },
     "output_type": "display_data"
    }
   ],
   "source": [
    "# 5. Advanced: Partitioning and Z-Ordering (Delta Lake optimization)\n",
    "# Bucketing is NOT supported for Delta tables. Use partitionBy or Z-Ordering instead.\n",
    "# Create a partitioned Delta table for repeated joins or queries on the same column\n",
    "sales_with_category.write.partitionBy(\n",
    "    \"Outlet_Type\"  # Partition by Outlet_Type\n",
    ").format(\"delta\").mode(\"overwrite\").saveAsTable(\n",
    "    \"partitioned_sales\"\n",
    ")\n",
    "\n",
    "# For further optimization, you can use Z-ORDER after writing the Delta table:\n",
    "# spark.sql(\"OPTIMIZE partitioned_sales ZORDER BY (Outlet_Type)\")\n",
    "\n",
    "# When you're done with cached data, uncache it to free up memory\n",
    "# sales_with_category.unpersist()"
   ]
  },
  {
   "cell_type": "markdown",
   "metadata": {
    "application/vnd.databricks.v1+cell": {
     "cellMetadata": {},
     "inputWidgets": {},
     "nuid": "229a7f15-f997-47fa-9b8f-7ae7adb913cd",
     "showTitle": false,
     "tableResultSettingsMap": {},
     "title": ""
    }
   },
   "source": [
    "## Summary of Day 2\n",
    "\n",
    "Today we've covered advanced data manipulation techniques in PySpark:\n",
    "\n",
    "1. **Advanced DataFrame Transformations**: Data cleaning, column transformations, and type conversions\n",
    "2. **Aggregations and Grouping**: Summarizing data with groupBy, agg, and pivot operations\n",
    "3. **SQL in Spark**: Using SQL syntax for complex data manipulations\n",
    "4. **Joins and Merges**: Combining data from multiple sources with different join types\n",
    "5. **Window Functions**: Performing calculations across related rows without collapsing them\n",
    "6. **User-Defined Functions**: Creating custom functions for specialized transformations\n",
    "7. **Performance Optimization**: Techniques to improve query efficiency and speed\n",
    "\n",
    "In Day 3, we'll dive into:\n",
    "- Delta Lake for reliable data lakes\n",
    "- Data validation and quality checks\n",
    "- Machine learning with MLlib\n",
    "- Structured streaming for real-time data processing\n",
    "\n",
    "Feel free to experiment with the techniques we've learned today!"
   ]
  },
  {
   "cell_type": "markdown",
   "metadata": {
    "application/vnd.databricks.v1+cell": {
     "cellMetadata": {},
     "inputWidgets": {},
     "nuid": "1aa96ea0-6c29-4f0f-b461-b502097c1cba",
     "showTitle": false,
     "tableResultSettingsMap": {},
     "title": ""
    }
   },
   "source": [
    "## Day 2 Practice Exercises\n",
    "\n",
    "Let's solidify your understanding of advanced PySpark concepts with these practice exercises:\n",
    "\n",
    "### Exercise 1: Advanced Data Cleaning and Transformation\n",
    "1. Identify and standardize different variations of values in a categorical column (e.g., find and standardize different ways \"Low Fat\" is represented in the \"Item_Fat_Content\" column).\n",
    "2. Create a date column from an integer year and calculate the age of each record relative to the current date.\n",
    "3. Implement a data quality check that flags rows with outlier values in the \"Item_MRP\" column (values more than 2 standard deviations from the mean).\n",
    "4. Write a utility function that takes a DataFrame and replaces null values in each column with appropriate defaults (mean for numeric columns, mode for categorical columns).\n",
    "\n",
    "### Exercise 2: Advanced Aggregations\n",
    "1. Calculate the total sales, average sales, and count of items for each combination of \"Item_Type\" and \"Outlet_Type\".\n",
    "2. Find the top 3 selling items (by \"Item_Outlet_Sales\") in each outlet.\n",
    "3. Use pivot to create a cross-tabulation of \"Item_Type\" by \"Outlet_Type\" showing the average price of items.\n",
    "4. Calculate the running total of sales when sorted by \"Item_MRP\" within each \"Item_Type\".\n",
    "\n",
    "### Exercise 3: SQL Operations and Joins\n",
    "1. Create temporary views for both the sales data and outlet data.\n",
    "2. Write a SQL query that joins these views and calculates the percentage of total sales contributed by each outlet type.\n",
    "3. Implement the same query using DataFrame operations (no SQL).\n",
    "4. Create a self-join on the sales data to find pairs of items that have the same Item_Type but different Outlet_Types.\n",
    "\n",
    "### Exercise 4: Window Functions and UDFs\n",
    "1. Use window functions to rank items by their sales within each outlet.\n",
    "2. Calculate the difference in MRP between each item and the next highest priced item in the same category.\n",
    "3. Create a UDF that calculates a \"value score\" based on a formula that combines \"Item_MRP\" and \"Item_Outlet_Sales\".\n",
    "4. Apply this UDF to create a new column and then find the top 5 items by value score.\n",
    "\n",
    "### Exercise 5: Performance Optimization\n",
    "1. Cache a filtered subset of the sales data and measure the execution time of a complex query before and after caching.\n",
    "2. Create a bucketed table from the sales data, with bucketing on \"Item_Type\".\n",
    "3. Compare the performance of a join operation with and without broadcasting.\n",
    "4. Examine the execution plan of a query and identify potential optimization opportunities.\n",
    "\n",
    "### Bonus Challenge\n",
    "Implement a comprehensive data processing pipeline that:\n",
    "1. Ingests the raw sales data\n",
    "2. Cleans and validates the data using custom functions\n",
    "3. Performs multiple aggregations and transformations\n",
    "4. Joins with reference data\n",
    "5. Outputs multiple analysis results to different formats (Parquet, Delta, CSV)\n",
    "6. Includes proper error handling and logging"
   ]
  }
 ],
 "metadata": {
  "application/vnd.databricks.v1+notebook": {
   "computePreferences": {
    "hardware": {
     "accelerator": null,
     "gpuPoolId": null,
     "memory": null
    }
   },
   "dashboards": [],
   "environmentMetadata": null,
   "inputWidgetPreferences": null,
   "language": "python",
   "notebookMetadata": {
    "pythonIndentUnit": 4
   },
   "notebookName": "Day2_PySpark_Advanced",
   "widgets": {}
  },
  "language_info": {
   "name": "python"
  }
 },
 "nbformat": 4,
 "nbformat_minor": 0
}